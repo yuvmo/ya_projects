{
 "cells": [
  {
   "cell_type": "markdown",
   "id": "9eeea5e3",
   "metadata": {},
   "source": [
    "## Анализ сервиса аренды самокатов GoFast"
   ]
  },
  {
   "cell_type": "markdown",
   "id": "ed0034ed",
   "metadata": {},
   "source": [
    "Вы аналитик популярного сервиса аренды самокатов GoFast. Вам передали данные о некоторых пользователях из нескольких городов, а также об их поездках. Проанализируйте данные и проверьте некоторые гипотезы, которые могут помочь бизнесу вырасти.\n",
    "  \n",
    "Чтобы совершать поездки по городу, пользователи сервиса GoFast пользуются мобильным приложением. Сервисом можно пользоваться:\n",
    "- без подписки\n",
    "  - абонентская плата отсутствует;\n",
    "  - стоимость одной минуты поездки — 8 рублей;\n",
    "  - стоимость старта (начала поездки) — 50 рублей;\n",
    "- с подпиской Ultra\n",
    "  - абонентская плата — 199 рублей в месяц;\n",
    "  - стоимость одной минуты поездки — 6 рублей;\n",
    "  - стоимость старта — бесплатно."
   ]
  },
  {
   "cell_type": "code",
   "execution_count": 1,
   "id": "72576667",
   "metadata": {},
   "outputs": [],
   "source": [
    "import pandas as pd\n",
    "import matplotlib.pyplot as plt\n",
    "import seaborn as sns\n",
    "import numpy as np\n",
    "from scipy import stats as st"
   ]
  },
  {
   "cell_type": "markdown",
   "id": "c42cbe00",
   "metadata": {},
   "source": [
    "#### Шаг 1. Загрузка данных"
   ]
  },
  {
   "cell_type": "code",
   "execution_count": 2,
   "id": "eff9f206",
   "metadata": {},
   "outputs": [],
   "source": [
    "users = pd.read_csv('/datasets/users_go.csv')\n",
    "rides = pd.read_csv('/datasets/rides_go.csv')\n",
    "subs = pd.read_csv('/datasets/subscriptions_go.csv')"
   ]
  },
  {
   "cell_type": "code",
   "execution_count": 3,
   "id": "59218c6d",
   "metadata": {},
   "outputs": [
    {
     "data": {
      "text/html": [
       "<div>\n",
       "<style scoped>\n",
       "    .dataframe tbody tr th:only-of-type {\n",
       "        vertical-align: middle;\n",
       "    }\n",
       "\n",
       "    .dataframe tbody tr th {\n",
       "        vertical-align: top;\n",
       "    }\n",
       "\n",
       "    .dataframe thead th {\n",
       "        text-align: right;\n",
       "    }\n",
       "</style>\n",
       "<table border=\"1\" class=\"dataframe\">\n",
       "  <thead>\n",
       "    <tr style=\"text-align: right;\">\n",
       "      <th></th>\n",
       "      <th>user_id</th>\n",
       "      <th>name</th>\n",
       "      <th>age</th>\n",
       "      <th>city</th>\n",
       "      <th>subscription_type</th>\n",
       "    </tr>\n",
       "  </thead>\n",
       "  <tbody>\n",
       "    <tr>\n",
       "      <th>0</th>\n",
       "      <td>1</td>\n",
       "      <td>Кира</td>\n",
       "      <td>22</td>\n",
       "      <td>Тюмень</td>\n",
       "      <td>ultra</td>\n",
       "    </tr>\n",
       "    <tr>\n",
       "      <th>1</th>\n",
       "      <td>2</td>\n",
       "      <td>Станислав</td>\n",
       "      <td>31</td>\n",
       "      <td>Омск</td>\n",
       "      <td>ultra</td>\n",
       "    </tr>\n",
       "    <tr>\n",
       "      <th>2</th>\n",
       "      <td>3</td>\n",
       "      <td>Алексей</td>\n",
       "      <td>20</td>\n",
       "      <td>Москва</td>\n",
       "      <td>ultra</td>\n",
       "    </tr>\n",
       "    <tr>\n",
       "      <th>3</th>\n",
       "      <td>4</td>\n",
       "      <td>Константин</td>\n",
       "      <td>26</td>\n",
       "      <td>Ростов-на-Дону</td>\n",
       "      <td>ultra</td>\n",
       "    </tr>\n",
       "    <tr>\n",
       "      <th>4</th>\n",
       "      <td>5</td>\n",
       "      <td>Адель</td>\n",
       "      <td>28</td>\n",
       "      <td>Омск</td>\n",
       "      <td>ultra</td>\n",
       "    </tr>\n",
       "  </tbody>\n",
       "</table>\n",
       "</div>"
      ],
      "text/plain": [
       "   user_id        name  age            city subscription_type\n",
       "0        1        Кира   22          Тюмень             ultra\n",
       "1        2   Станислав   31            Омск             ultra\n",
       "2        3     Алексей   20          Москва             ultra\n",
       "3        4  Константин   26  Ростов-на-Дону             ultra\n",
       "4        5       Адель   28            Омск             ultra"
      ]
     },
     "execution_count": 3,
     "metadata": {},
     "output_type": "execute_result"
    }
   ],
   "source": [
    "users.head()"
   ]
  },
  {
   "cell_type": "code",
   "execution_count": 4,
   "id": "c9f8cc4b",
   "metadata": {},
   "outputs": [
    {
     "name": "stdout",
     "output_type": "stream",
     "text": [
      "<class 'pandas.core.frame.DataFrame'>\n",
      "RangeIndex: 1565 entries, 0 to 1564\n",
      "Data columns (total 5 columns):\n",
      " #   Column             Non-Null Count  Dtype \n",
      "---  ------             --------------  ----- \n",
      " 0   user_id            1565 non-null   int64 \n",
      " 1   name               1565 non-null   object\n",
      " 2   age                1565 non-null   int64 \n",
      " 3   city               1565 non-null   object\n",
      " 4   subscription_type  1565 non-null   object\n",
      "dtypes: int64(2), object(3)\n",
      "memory usage: 61.3+ KB\n"
     ]
    }
   ],
   "source": [
    "users.info()"
   ]
  },
  {
   "cell_type": "markdown",
   "id": "2cb281db",
   "metadata": {},
   "source": [
    "В первой переменной есть пять колонок: \n",
    "1. айди пользователя\n",
    "2. имя \n",
    "3. возраст \n",
    "4. город\n",
    "5. тип подписки"
   ]
  },
  {
   "cell_type": "code",
   "execution_count": 5,
   "id": "0c2b4d10",
   "metadata": {},
   "outputs": [
    {
     "data": {
      "text/html": [
       "<div>\n",
       "<style scoped>\n",
       "    .dataframe tbody tr th:only-of-type {\n",
       "        vertical-align: middle;\n",
       "    }\n",
       "\n",
       "    .dataframe tbody tr th {\n",
       "        vertical-align: top;\n",
       "    }\n",
       "\n",
       "    .dataframe thead th {\n",
       "        text-align: right;\n",
       "    }\n",
       "</style>\n",
       "<table border=\"1\" class=\"dataframe\">\n",
       "  <thead>\n",
       "    <tr style=\"text-align: right;\">\n",
       "      <th></th>\n",
       "      <th>user_id</th>\n",
       "      <th>distance</th>\n",
       "      <th>duration</th>\n",
       "      <th>date</th>\n",
       "    </tr>\n",
       "  </thead>\n",
       "  <tbody>\n",
       "    <tr>\n",
       "      <th>0</th>\n",
       "      <td>1</td>\n",
       "      <td>4409.919140</td>\n",
       "      <td>25.599769</td>\n",
       "      <td>2021-01-01</td>\n",
       "    </tr>\n",
       "    <tr>\n",
       "      <th>1</th>\n",
       "      <td>1</td>\n",
       "      <td>2617.592153</td>\n",
       "      <td>15.816871</td>\n",
       "      <td>2021-01-18</td>\n",
       "    </tr>\n",
       "    <tr>\n",
       "      <th>2</th>\n",
       "      <td>1</td>\n",
       "      <td>754.159807</td>\n",
       "      <td>6.232113</td>\n",
       "      <td>2021-04-20</td>\n",
       "    </tr>\n",
       "    <tr>\n",
       "      <th>3</th>\n",
       "      <td>1</td>\n",
       "      <td>2694.783254</td>\n",
       "      <td>18.511000</td>\n",
       "      <td>2021-08-11</td>\n",
       "    </tr>\n",
       "    <tr>\n",
       "      <th>4</th>\n",
       "      <td>1</td>\n",
       "      <td>4028.687306</td>\n",
       "      <td>26.265803</td>\n",
       "      <td>2021-08-28</td>\n",
       "    </tr>\n",
       "  </tbody>\n",
       "</table>\n",
       "</div>"
      ],
      "text/plain": [
       "   user_id     distance   duration        date\n",
       "0        1  4409.919140  25.599769  2021-01-01\n",
       "1        1  2617.592153  15.816871  2021-01-18\n",
       "2        1   754.159807   6.232113  2021-04-20\n",
       "3        1  2694.783254  18.511000  2021-08-11\n",
       "4        1  4028.687306  26.265803  2021-08-28"
      ]
     },
     "execution_count": 5,
     "metadata": {},
     "output_type": "execute_result"
    }
   ],
   "source": [
    "rides.head()"
   ]
  },
  {
   "cell_type": "code",
   "execution_count": 6,
   "id": "0bd22bdf",
   "metadata": {},
   "outputs": [
    {
     "name": "stdout",
     "output_type": "stream",
     "text": [
      "<class 'pandas.core.frame.DataFrame'>\n",
      "RangeIndex: 18068 entries, 0 to 18067\n",
      "Data columns (total 4 columns):\n",
      " #   Column    Non-Null Count  Dtype  \n",
      "---  ------    --------------  -----  \n",
      " 0   user_id   18068 non-null  int64  \n",
      " 1   distance  18068 non-null  float64\n",
      " 2   duration  18068 non-null  float64\n",
      " 3   date      18068 non-null  object \n",
      "dtypes: float64(2), int64(1), object(1)\n",
      "memory usage: 564.8+ KB\n"
     ]
    }
   ],
   "source": [
    "rides.info()"
   ]
  },
  {
   "cell_type": "markdown",
   "id": "8b7cebef",
   "metadata": {},
   "source": [
    "Во второй переменной четыре колонки:\n",
    "1. айди пользователя\n",
    "2. расстояние, которое пользователь проехал за данную сессию\n",
    "3. продолжительность сессии в минутах\n",
    "4. дата поездки"
   ]
  },
  {
   "cell_type": "code",
   "execution_count": 7,
   "id": "f7a29ae7",
   "metadata": {},
   "outputs": [
    {
     "data": {
      "text/html": [
       "<div>\n",
       "<style scoped>\n",
       "    .dataframe tbody tr th:only-of-type {\n",
       "        vertical-align: middle;\n",
       "    }\n",
       "\n",
       "    .dataframe tbody tr th {\n",
       "        vertical-align: top;\n",
       "    }\n",
       "\n",
       "    .dataframe thead th {\n",
       "        text-align: right;\n",
       "    }\n",
       "</style>\n",
       "<table border=\"1\" class=\"dataframe\">\n",
       "  <thead>\n",
       "    <tr style=\"text-align: right;\">\n",
       "      <th></th>\n",
       "      <th>subscription_type</th>\n",
       "      <th>minute_price</th>\n",
       "      <th>start_ride_price</th>\n",
       "      <th>subscription_fee</th>\n",
       "    </tr>\n",
       "  </thead>\n",
       "  <tbody>\n",
       "    <tr>\n",
       "      <th>0</th>\n",
       "      <td>free</td>\n",
       "      <td>8</td>\n",
       "      <td>50</td>\n",
       "      <td>0</td>\n",
       "    </tr>\n",
       "    <tr>\n",
       "      <th>1</th>\n",
       "      <td>ultra</td>\n",
       "      <td>6</td>\n",
       "      <td>0</td>\n",
       "      <td>199</td>\n",
       "    </tr>\n",
       "  </tbody>\n",
       "</table>\n",
       "</div>"
      ],
      "text/plain": [
       "  subscription_type  minute_price  start_ride_price  subscription_fee\n",
       "0              free             8                50                 0\n",
       "1             ultra             6                 0               199"
      ]
     },
     "execution_count": 7,
     "metadata": {},
     "output_type": "execute_result"
    }
   ],
   "source": [
    "subs.head()"
   ]
  },
  {
   "cell_type": "markdown",
   "id": "7576598c",
   "metadata": {},
   "source": [
    "Третья переменная нам даёт данные о том, какие бывают подписки, поэтому в ней всего две строки и четыре столбца. Подписка \"free\" предполагает 8 рублей за минуту поездки со стартом поездки 50 рублей (ежемесячного платежа нет). При подписке \"ultra\" пользователь платит 6 рублей за минуту поездки, старт бесплатный, но ежемесячный платёж 199 рублей."
   ]
  },
  {
   "cell_type": "markdown",
   "id": "e95ebca7",
   "metadata": {},
   "source": [
    "#### Шаг 2. Предобработка данных"
   ]
  },
  {
   "cell_type": "markdown",
   "id": "587fe864",
   "metadata": {},
   "source": [
    "Единственный столбец, в котором нужно поменять формат, это \"date\" в переменной \"rides\"."
   ]
  },
  {
   "cell_type": "code",
   "execution_count": 8,
   "id": "f84a0455",
   "metadata": {},
   "outputs": [],
   "source": [
    "rides['date'] = pd.to_datetime(rides['date'], format = '%Y-%m-%d')"
   ]
  },
  {
   "cell_type": "code",
   "execution_count": 9,
   "id": "70010231",
   "metadata": {},
   "outputs": [
    {
     "data": {
      "text/plain": [
       "0   2021-01-01\n",
       "1   2021-01-18\n",
       "2   2021-04-20\n",
       "3   2021-08-11\n",
       "4   2021-08-28\n",
       "Name: date, dtype: datetime64[ns]"
      ]
     },
     "execution_count": 9,
     "metadata": {},
     "output_type": "execute_result"
    }
   ],
   "source": [
    "rides.date.head()"
   ]
  },
  {
   "cell_type": "markdown",
   "id": "1ed791f7",
   "metadata": {},
   "source": [
    "Добавим номер месяца в переменную \"rides\" номер месяца, в которой была определённая поездка."
   ]
  },
  {
   "cell_type": "code",
   "execution_count": 10,
   "id": "4533a13b",
   "metadata": {},
   "outputs": [],
   "source": [
    "rides['month'] = rides['date'].dt.month"
   ]
  },
  {
   "cell_type": "code",
   "execution_count": 11,
   "id": "78e117f5",
   "metadata": {},
   "outputs": [
    {
     "data": {
      "text/plain": [
       "0    1\n",
       "1    1\n",
       "2    4\n",
       "3    8\n",
       "4    8\n",
       "Name: month, dtype: int64"
      ]
     },
     "execution_count": 11,
     "metadata": {},
     "output_type": "execute_result"
    }
   ],
   "source": [
    "rides.month.head()"
   ]
  },
  {
   "cell_type": "markdown",
   "id": "f55c2713",
   "metadata": {},
   "source": [
    "При загрузке данных мы применяли метод \"info\", благодаря чему можем утверждать, что пропущенных значений нет. Осталось проверить данные на дубликаты."
   ]
  },
  {
   "cell_type": "code",
   "execution_count": 12,
   "id": "0b110991",
   "metadata": {},
   "outputs": [
    {
     "data": {
      "text/plain": [
       "31"
      ]
     },
     "execution_count": 12,
     "metadata": {},
     "output_type": "execute_result"
    }
   ],
   "source": [
    "users.duplicated().sum()"
   ]
  },
  {
   "cell_type": "code",
   "execution_count": 13,
   "id": "3256cc77",
   "metadata": {},
   "outputs": [],
   "source": [
    "users.drop_duplicates(inplace=True)"
   ]
  },
  {
   "cell_type": "code",
   "execution_count": 14,
   "id": "6fd8b528",
   "metadata": {},
   "outputs": [
    {
     "data": {
      "text/plain": [
       "0"
      ]
     },
     "execution_count": 14,
     "metadata": {},
     "output_type": "execute_result"
    }
   ],
   "source": [
    "users.duplicated().sum()"
   ]
  },
  {
   "cell_type": "code",
   "execution_count": 15,
   "id": "73cc1393",
   "metadata": {},
   "outputs": [
    {
     "data": {
      "text/plain": [
       "0"
      ]
     },
     "execution_count": 15,
     "metadata": {},
     "output_type": "execute_result"
    }
   ],
   "source": [
    "rides.duplicated().sum()"
   ]
  },
  {
   "cell_type": "markdown",
   "id": "2e3e95a1",
   "metadata": {},
   "source": [
    "В рамках предобработки мы поменяли формат столбца \"date\" на формат даты, добавили столбец с месяцем, а также проверили данные на дубликаты, которые убрали, и убедились в том, что пропущенных данных нет."
   ]
  },
  {
   "cell_type": "markdown",
   "id": "212593c7",
   "metadata": {},
   "source": [
    "#### Шаг 3. Исследовательский анализ данных"
   ]
  },
  {
   "cell_type": "markdown",
   "id": "e7fe08af",
   "metadata": {},
   "source": [
    "В рамках исследовательского анализа данных нам требуется описать и визуализировать следующие данные:\n",
    "1. частота встречаемости городов;\n",
    "2. соотношение пользователей с подпиской и без подписки;\n",
    "3. возраст пользователей;\n",
    "4. расстояние, которое пользователь преодолел за одну поездку;\n",
    "5. продолжительность поездок."
   ]
  },
  {
   "attachments": {},
   "cell_type": "markdown",
   "id": "4509c70e",
   "metadata": {},
   "source": [
    "##### Частота встречаемости городов"
   ]
  },
  {
   "cell_type": "code",
   "execution_count": 16,
   "id": "79e9fa49",
   "metadata": {},
   "outputs": [
    {
     "data": {
      "text/plain": [
       "Пятигорск         219\n",
       "Екатеринбург      204\n",
       "Ростов-на-Дону    198\n",
       "Краснодар         193\n",
       "Сочи              189\n",
       "Омск              183\n",
       "Тюмень            180\n",
       "Москва            168\n",
       "Name: city, dtype: int64"
      ]
     },
     "execution_count": 16,
     "metadata": {},
     "output_type": "execute_result"
    }
   ],
   "source": [
    "#создаём переменную с количеством упоминаний каждого города\n",
    "cities_frequency = users['city'].value_counts()\n",
    "cities_frequency"
   ]
  },
  {
   "cell_type": "code",
   "execution_count": 17,
   "id": "df58db31",
   "metadata": {},
   "outputs": [
    {
     "data": {
      "text/plain": [
       "Пятигорск         14.0\n",
       "Екатеринбург      13.0\n",
       "Ростов-на-Дону    13.0\n",
       "Краснодар         13.0\n",
       "Сочи              12.0\n",
       "Омск              12.0\n",
       "Тюмень            12.0\n",
       "Москва            11.0\n",
       "Name: city, dtype: float64"
      ]
     },
     "execution_count": 17,
     "metadata": {},
     "output_type": "execute_result"
    }
   ],
   "source": [
    "#находим какую долю от бщего числа сосатвляет каждый город, \n",
    "#записываем эти данные в ранее созданную переменную\n",
    "cities_frequency = round(cities_frequency / cities_frequency.sum(), 2) * 100\n",
    "cities_frequency"
   ]
  },
  {
   "cell_type": "code",
   "execution_count": 18,
   "id": "e7b3ac79",
   "metadata": {},
   "outputs": [
    {
     "data": {
      "image/png": "[encoded data removed]",
      "text/plain": [
       "<Figure size 360x360 with 1 Axes>"
      ]
     },
     "metadata": {},
     "output_type": "display_data"
    }
   ],
   "source": [
    "users['city'].value_counts().plot(\n",
    "    kind = 'pie', \n",
    "    y = cities_frequency,\n",
    "    autopct = '%1.0f%%',\n",
    "    figsize = (5, 5), \n",
    "    colors = ['tab:purple', 'tab:pink', 'cornflowerblue', 'lightcoral', 'lightyellow', 'mediumturquoise', 'lightgrey', 'w'],\n",
    "    title = 'Распределение пользователей по городам');"
   ]
  },
  {
   "cell_type": "code",
   "execution_count": 19,
   "id": "3e8ff723",
   "metadata": {},
   "outputs": [
    {
     "data": {
      "image/png": "[encoded data removed]",
      "text/plain": [
       "<Figure size 576x360 with 1 Axes>"
      ]
     },
     "metadata": {
      "needs_background": "light"
     },
     "output_type": "display_data"
    }
   ],
   "source": [
    "(cities_frequency\n",
    "    .sort_values(ascending=False)\n",
    "    .plot(y='count', kind='bar', figsize=(8, 5))\n",
    ");"
   ]
  },
  {
   "cell_type": "markdown",
   "id": "e9d4adcf",
   "metadata": {},
   "source": [
    "Больше всего пользователей из Пятигорска, меньше всего - из Москвы. Но, на самом деле, разница между распределением городов небольшая."
   ]
  },
  {
   "cell_type": "markdown",
   "id": "0cbb6e1b",
   "metadata": {},
   "source": [
    "##### Соотношение пользователей с подпиской и без подписки"
   ]
  },
  {
   "cell_type": "code",
   "execution_count": 20,
   "id": "e5cdc2f2",
   "metadata": {},
   "outputs": [
    {
     "data": {
      "text/plain": [
       "free     835\n",
       "ultra    699\n",
       "Name: subscription_type, dtype: int64"
      ]
     },
     "execution_count": 20,
     "metadata": {},
     "output_type": "execute_result"
    }
   ],
   "source": [
    "sub_count = users['subscription_type'].value_counts()\n",
    "sub_count"
   ]
  },
  {
   "cell_type": "code",
   "execution_count": 21,
   "id": "ddcfcca4",
   "metadata": {},
   "outputs": [
    {
     "data": {
      "image/png": "[encoded data removed]",
      "text/plain": [
       "<Figure size 360x360 with 1 Axes>"
      ]
     },
     "metadata": {},
     "output_type": "display_data"
    }
   ],
   "source": [
    "users['subscription_type'].value_counts().plot(\n",
    "    kind = 'pie', \n",
    "    y = sub_count, \n",
    "    autopct = '%1.0f%%', \n",
    "    figsize = (5, 5),\n",
    "    colors = ['cornflowerblue', 'thistle'],\n",
    "    title = 'Процентное соотношение пользователей в зависимости от тарифа');"
   ]
  },
  {
   "cell_type": "markdown",
   "id": "58e02db2",
   "metadata": {},
   "source": [
    "Пользователей, которые пользуются сервисом бесплатно, немного больше половины, всего - 54%. Пользователей с подпиской - 46%."
   ]
  },
  {
   "cell_type": "markdown",
   "id": "e971e331",
   "metadata": {},
   "source": [
    "##### Возраст пользователей"
   ]
  },
  {
   "cell_type": "code",
   "execution_count": 22,
   "id": "db68e8d7",
   "metadata": {},
   "outputs": [
    {
     "data": {
      "text/plain": [
       "count    1534.000000\n",
       "mean       24.903520\n",
       "std         4.572367\n",
       "min        12.000000\n",
       "25%        22.000000\n",
       "50%        25.000000\n",
       "75%        28.000000\n",
       "max        43.000000\n",
       "Name: age, dtype: float64"
      ]
     },
     "execution_count": 22,
     "metadata": {},
     "output_type": "execute_result"
    }
   ],
   "source": [
    "users['age'].describe()"
   ]
  },
  {
   "cell_type": "code",
   "execution_count": 23,
   "id": "5a00dbd7",
   "metadata": {},
   "outputs": [
    {
     "data": {
      "text/plain": [
       "25    145\n",
       "24    132\n",
       "26    131\n",
       "23    129\n",
       "27    119\n",
       "22    119\n",
       "28    112\n",
       "21     93\n",
       "20     71\n",
       "30     68\n",
       "29     68\n",
       "31     48\n",
       "19     47\n",
       "18     46\n",
       "32     41\n",
       "33     39\n",
       "17     26\n",
       "34     19\n",
       "16     19\n",
       "35     15\n",
       "15     13\n",
       "14      9\n",
       "13      8\n",
       "36      6\n",
       "12      4\n",
       "38      3\n",
       "37      2\n",
       "39      1\n",
       "43      1\n",
       "Name: age, dtype: int64"
      ]
     },
     "execution_count": 23,
     "metadata": {},
     "output_type": "execute_result"
    }
   ],
   "source": [
    "users_age = users['age'].value_counts().sort_values(ascending=False)\n",
    "users_age"
   ]
  },
  {
   "cell_type": "code",
   "execution_count": 24,
   "id": "127bf30d",
   "metadata": {},
   "outputs": [
    {
     "data": {
      "image/png": "[encoded data removed]",
      "text/plain": [
       "<Figure size 432x288 with 1 Axes>"
      ]
     },
     "metadata": {
      "needs_background": "light"
     },
     "output_type": "display_data"
    }
   ],
   "source": [
    "plt.hist(users['age'], bins = 15)\n",
    "plt.title('Распределение возрастов пользователей')\n",
    "plt.xlabel('Возраст')\n",
    "plt.ylabel('Количество пользователей')\n",
    "plt.grid()\n",
    "plt.show()"
   ]
  },
  {
   "cell_type": "markdown",
   "id": "aa311968",
   "metadata": {},
   "source": [
    "По данным выше можно утверждать, что больше всего сервисом пользуются люди от 20 до 30 лет. Минимальный возраст - 12 лет, максимальный - 43."
   ]
  },
  {
   "cell_type": "markdown",
   "id": "4316a4d0",
   "metadata": {},
   "source": [
    "##### Расстояние, которое пользователь преодолел за одну поездку"
   ]
  },
  {
   "cell_type": "code",
   "execution_count": 25,
   "id": "e67eb0c7",
   "metadata": {},
   "outputs": [
    {
     "data": {
      "text/plain": [
       "11555     0.9\n",
       "9541      2.6\n",
       "13690     4.3\n",
       "8658      6.8\n",
       "7841      7.1\n",
       "8906     11.3\n",
       "8324     12.2\n",
       "13940    15.0\n",
       "15626    15.4\n",
       "11862    15.6\n",
       "Name: distance, dtype: float64"
      ]
     },
     "execution_count": 25,
     "metadata": {},
     "output_type": "execute_result"
    }
   ],
   "source": [
    "#самые короткие дистанции за одну сессию\n",
    "round(rides['distance'].sort_values(), 1).head(10)"
   ]
  },
  {
   "cell_type": "code",
   "execution_count": 26,
   "id": "fe688587",
   "metadata": {},
   "outputs": [
    {
     "data": {
      "text/plain": [
       "16309    7211.0\n",
       "16484    7066.0\n",
       "15580    6908.5\n",
       "17171    6760.9\n",
       "17242    6724.9\n",
       "10341    6672.0\n",
       "11385    6601.2\n",
       "12086    6538.9\n",
       "10915    6535.4\n",
       "11319    6503.6\n",
       "Name: distance, dtype: float64"
      ]
     },
     "execution_count": 26,
     "metadata": {},
     "output_type": "execute_result"
    }
   ],
   "source": [
    "#самые длинные дистанции за одну сессию\n",
    "round(rides['distance'].sort_values(ascending=False), 1).head(10)"
   ]
  },
  {
   "cell_type": "code",
   "execution_count": 27,
   "id": "b041a45d",
   "metadata": {},
   "outputs": [
    {
     "data": {
      "text/plain": [
       "count    18068.000000\n",
       "mean      3070.659976\n",
       "std       1116.831209\n",
       "min          0.855683\n",
       "25%       2543.226360\n",
       "50%       3133.609994\n",
       "75%       3776.222735\n",
       "max       7211.007745\n",
       "Name: distance, dtype: float64"
      ]
     },
     "execution_count": 27,
     "metadata": {},
     "output_type": "execute_result"
    }
   ],
   "source": [
    "rides['distance'].describe()"
   ]
  },
  {
   "cell_type": "code",
   "execution_count": 28,
   "id": "0efc5beb",
   "metadata": {},
   "outputs": [
    {
     "data": {
      "image/png": "[encoded data removed]",
      "text/plain": [
       "<Figure size 432x288 with 1 Axes>"
      ]
     },
     "metadata": {
      "needs_background": "light"
     },
     "output_type": "display_data"
    }
   ],
   "source": [
    "sns.boxplot(\n",
    "    x=rides['distance'], \n",
    "    color='lightyellow')\n",
    "\n",
    "plt.title('Расстояние, преодолённое за одну сессию')\n",
    "plt.xlabel('Расстояние (м)');"
   ]
  },
  {
   "cell_type": "markdown",
   "id": "74103797",
   "metadata": {},
   "source": [
    "Посмотрев на данные, можно сказать, что в среднем пользователи за одну сессию проезжают около 3100 м. Есть значения больше 5700 м и меньше 800 м, но их можно отнести к выбросам. В среднем пользователи проезжают от 2600 м до 3800 м."
   ]
  },
  {
   "cell_type": "markdown",
   "id": "a48a42cb",
   "metadata": {},
   "source": [
    "##### Продолжительность поездок"
   ]
  },
  {
   "cell_type": "code",
   "execution_count": 29,
   "id": "ee329569",
   "metadata": {},
   "outputs": [
    {
     "data": {
      "text/plain": [
       "12013    0.5\n",
       "17314    0.5\n",
       "15029    0.5\n",
       "7437     0.5\n",
       "12967    0.5\n",
       "15015    0.5\n",
       "13012    0.5\n",
       "7508     0.5\n",
       "16589    0.5\n",
       "9049     0.5\n",
       "Name: duration, dtype: float64"
      ]
     },
     "execution_count": 29,
     "metadata": {},
     "output_type": "execute_result"
    }
   ],
   "source": [
    "#самые короткие поездки\n",
    "rides['duration'].sort_values().head(10)"
   ]
  },
  {
   "cell_type": "code",
   "execution_count": 30,
   "id": "be3fdbe0",
   "metadata": {},
   "outputs": [
    {
     "data": {
      "text/plain": [
       "4215    40.823963\n",
       "4709    39.873856\n",
       "2623    39.526602\n",
       "1998    38.352763\n",
       "6453    38.265229\n",
       "143     38.125729\n",
       "3729    37.014141\n",
       "499     36.906491\n",
       "6348    36.809310\n",
       "4653    36.622595\n",
       "Name: duration, dtype: float64"
      ]
     },
     "execution_count": 30,
     "metadata": {},
     "output_type": "execute_result"
    }
   ],
   "source": [
    "#самые длинные поездки\n",
    "rides['duration'].sort_values(ascending=False).head(10)"
   ]
  },
  {
   "cell_type": "code",
   "execution_count": 31,
   "id": "d0e65171",
   "metadata": {},
   "outputs": [
    {
     "data": {
      "text/html": [
       "<div>\n",
       "<style scoped>\n",
       "    .dataframe tbody tr th:only-of-type {\n",
       "        vertical-align: middle;\n",
       "    }\n",
       "\n",
       "    .dataframe tbody tr th {\n",
       "        vertical-align: top;\n",
       "    }\n",
       "\n",
       "    .dataframe thead th {\n",
       "        text-align: right;\n",
       "    }\n",
       "</style>\n",
       "<table border=\"1\" class=\"dataframe\">\n",
       "  <thead>\n",
       "    <tr style=\"text-align: right;\">\n",
       "      <th></th>\n",
       "      <th>distance</th>\n",
       "      <th>duration</th>\n",
       "      <th>month</th>\n",
       "    </tr>\n",
       "    <tr>\n",
       "      <th>user_id</th>\n",
       "      <th></th>\n",
       "      <th></th>\n",
       "      <th></th>\n",
       "    </tr>\n",
       "  </thead>\n",
       "  <tbody>\n",
       "    <tr>\n",
       "      <th>1</th>\n",
       "      <td>34070.182066</td>\n",
       "      <td>204.604909</td>\n",
       "      <td>99</td>\n",
       "    </tr>\n",
       "    <tr>\n",
       "      <th>2</th>\n",
       "      <td>33964.058614</td>\n",
       "      <td>197.644279</td>\n",
       "      <td>67</td>\n",
       "    </tr>\n",
       "    <tr>\n",
       "      <th>3</th>\n",
       "      <td>36907.597866</td>\n",
       "      <td>233.193513</td>\n",
       "      <td>66</td>\n",
       "    </tr>\n",
       "    <tr>\n",
       "      <th>4</th>\n",
       "      <td>44837.189916</td>\n",
       "      <td>288.563581</td>\n",
       "      <td>107</td>\n",
       "    </tr>\n",
       "    <tr>\n",
       "      <th>5</th>\n",
       "      <td>35556.949649</td>\n",
       "      <td>174.073932</td>\n",
       "      <td>51</td>\n",
       "    </tr>\n",
       "    <tr>\n",
       "      <th>...</th>\n",
       "      <td>...</td>\n",
       "      <td>...</td>\n",
       "      <td>...</td>\n",
       "    </tr>\n",
       "    <tr>\n",
       "      <th>1530</th>\n",
       "      <td>46758.469822</td>\n",
       "      <td>292.366839</td>\n",
       "      <td>104</td>\n",
       "    </tr>\n",
       "    <tr>\n",
       "      <th>1531</th>\n",
       "      <td>67054.794222</td>\n",
       "      <td>408.192206</td>\n",
       "      <td>142</td>\n",
       "    </tr>\n",
       "    <tr>\n",
       "      <th>1532</th>\n",
       "      <td>33902.203192</td>\n",
       "      <td>212.160144</td>\n",
       "      <td>111</td>\n",
       "    </tr>\n",
       "    <tr>\n",
       "      <th>1533</th>\n",
       "      <td>36890.192211</td>\n",
       "      <td>240.580297</td>\n",
       "      <td>65</td>\n",
       "    </tr>\n",
       "    <tr>\n",
       "      <th>1534</th>\n",
       "      <td>41898.442847</td>\n",
       "      <td>229.835127</td>\n",
       "      <td>100</td>\n",
       "    </tr>\n",
       "  </tbody>\n",
       "</table>\n",
       "<p>1534 rows × 3 columns</p>\n",
       "</div>"
      ],
      "text/plain": [
       "             distance    duration  month\n",
       "user_id                                 \n",
       "1        34070.182066  204.604909     99\n",
       "2        33964.058614  197.644279     67\n",
       "3        36907.597866  233.193513     66\n",
       "4        44837.189916  288.563581    107\n",
       "5        35556.949649  174.073932     51\n",
       "...               ...         ...    ...\n",
       "1530     46758.469822  292.366839    104\n",
       "1531     67054.794222  408.192206    142\n",
       "1532     33902.203192  212.160144    111\n",
       "1533     36890.192211  240.580297     65\n",
       "1534     41898.442847  229.835127    100\n",
       "\n",
       "[1534 rows x 3 columns]"
      ]
     },
     "execution_count": 31,
     "metadata": {},
     "output_type": "execute_result"
    }
   ],
   "source": [
    "#общее время и дистанция для каждого пользователя\n",
    "rides.groupby(['user_id']).sum(numeric_only = True)"
   ]
  },
  {
   "cell_type": "code",
   "execution_count": 32,
   "id": "d9aeaa2d",
   "metadata": {},
   "outputs": [
    {
     "data": {
      "text/plain": [
       "count    18068.000000\n",
       "mean        17.805011\n",
       "std          6.091051\n",
       "min          0.500000\n",
       "25%         13.597563\n",
       "50%         17.678395\n",
       "75%         21.724800\n",
       "max         40.823963\n",
       "Name: duration, dtype: float64"
      ]
     },
     "execution_count": 32,
     "metadata": {},
     "output_type": "execute_result"
    }
   ],
   "source": [
    "rides['duration'].describe()"
   ]
  },
  {
   "cell_type": "code",
   "execution_count": 33,
   "id": "e23dc212",
   "metadata": {},
   "outputs": [
    {
     "data": {
      "text/plain": [
       "Text(0.5, 0, 'Время (мин)')"
      ]
     },
     "execution_count": 33,
     "metadata": {},
     "output_type": "execute_result"
    },
    {
     "data": {
      "image/png": "[encoded data removed]",
      "text/plain": [
       "<Figure size 432x288 with 1 Axes>"
      ]
     },
     "metadata": {
      "needs_background": "light"
     },
     "output_type": "display_data"
    }
   ],
   "source": [
    "sns.boxplot(\n",
    "    x=rides['duration'], \n",
    "    color='lightyellow')\n",
    "\n",
    "plt.title('Время, проведенное в поездке')\n",
    "plt.xlabel('Время (мин)')"
   ]
  },
  {
   "cell_type": "markdown",
   "id": "4c295910",
   "metadata": {},
   "source": [
    "В среднем на одну поездку пользователи тратят около 17 минут. Значения больше 35 минут и меньше 2 минут являются выбросами. Обычные поездки в ходят в рамки 14 и 22 минут."
   ]
  },
  {
   "cell_type": "markdown",
   "id": "4ef51331",
   "metadata": {},
   "source": [
    "#### Шаг 4. Объединение данных"
   ]
  },
  {
   "cell_type": "markdown",
   "id": "1986e8aa",
   "metadata": {},
   "source": [
    "Соединим данные трёх датасетов из переменных \"users\", \"rides\" и \"subs\"."
   ]
  },
  {
   "cell_type": "code",
   "execution_count": 34,
   "id": "9abeafaa",
   "metadata": {},
   "outputs": [
    {
     "data": {
      "text/html": [
       "<div>\n",
       "<style scoped>\n",
       "    .dataframe tbody tr th:only-of-type {\n",
       "        vertical-align: middle;\n",
       "    }\n",
       "\n",
       "    .dataframe tbody tr th {\n",
       "        vertical-align: top;\n",
       "    }\n",
       "\n",
       "    .dataframe thead th {\n",
       "        text-align: right;\n",
       "    }\n",
       "</style>\n",
       "<table border=\"1\" class=\"dataframe\">\n",
       "  <thead>\n",
       "    <tr style=\"text-align: right;\">\n",
       "      <th></th>\n",
       "      <th>user_id</th>\n",
       "      <th>name</th>\n",
       "      <th>age</th>\n",
       "      <th>city</th>\n",
       "      <th>subscription_type</th>\n",
       "      <th>distance</th>\n",
       "      <th>duration</th>\n",
       "      <th>date</th>\n",
       "      <th>month</th>\n",
       "      <th>minute_price</th>\n",
       "      <th>start_ride_price</th>\n",
       "      <th>subscription_fee</th>\n",
       "    </tr>\n",
       "  </thead>\n",
       "  <tbody>\n",
       "    <tr>\n",
       "      <th>0</th>\n",
       "      <td>1</td>\n",
       "      <td>Кира</td>\n",
       "      <td>22</td>\n",
       "      <td>Тюмень</td>\n",
       "      <td>ultra</td>\n",
       "      <td>4409.919140</td>\n",
       "      <td>25.599769</td>\n",
       "      <td>2021-01-01</td>\n",
       "      <td>1</td>\n",
       "      <td>6</td>\n",
       "      <td>0</td>\n",
       "      <td>199</td>\n",
       "    </tr>\n",
       "    <tr>\n",
       "      <th>1</th>\n",
       "      <td>1</td>\n",
       "      <td>Кира</td>\n",
       "      <td>22</td>\n",
       "      <td>Тюмень</td>\n",
       "      <td>ultra</td>\n",
       "      <td>2617.592153</td>\n",
       "      <td>15.816871</td>\n",
       "      <td>2021-01-18</td>\n",
       "      <td>1</td>\n",
       "      <td>6</td>\n",
       "      <td>0</td>\n",
       "      <td>199</td>\n",
       "    </tr>\n",
       "    <tr>\n",
       "      <th>2</th>\n",
       "      <td>1</td>\n",
       "      <td>Кира</td>\n",
       "      <td>22</td>\n",
       "      <td>Тюмень</td>\n",
       "      <td>ultra</td>\n",
       "      <td>754.159807</td>\n",
       "      <td>6.232113</td>\n",
       "      <td>2021-04-20</td>\n",
       "      <td>4</td>\n",
       "      <td>6</td>\n",
       "      <td>0</td>\n",
       "      <td>199</td>\n",
       "    </tr>\n",
       "    <tr>\n",
       "      <th>3</th>\n",
       "      <td>1</td>\n",
       "      <td>Кира</td>\n",
       "      <td>22</td>\n",
       "      <td>Тюмень</td>\n",
       "      <td>ultra</td>\n",
       "      <td>2694.783254</td>\n",
       "      <td>18.511000</td>\n",
       "      <td>2021-08-11</td>\n",
       "      <td>8</td>\n",
       "      <td>6</td>\n",
       "      <td>0</td>\n",
       "      <td>199</td>\n",
       "    </tr>\n",
       "    <tr>\n",
       "      <th>4</th>\n",
       "      <td>1</td>\n",
       "      <td>Кира</td>\n",
       "      <td>22</td>\n",
       "      <td>Тюмень</td>\n",
       "      <td>ultra</td>\n",
       "      <td>4028.687306</td>\n",
       "      <td>26.265803</td>\n",
       "      <td>2021-08-28</td>\n",
       "      <td>8</td>\n",
       "      <td>6</td>\n",
       "      <td>0</td>\n",
       "      <td>199</td>\n",
       "    </tr>\n",
       "    <tr>\n",
       "      <th>...</th>\n",
       "      <td>...</td>\n",
       "      <td>...</td>\n",
       "      <td>...</td>\n",
       "      <td>...</td>\n",
       "      <td>...</td>\n",
       "      <td>...</td>\n",
       "      <td>...</td>\n",
       "      <td>...</td>\n",
       "      <td>...</td>\n",
       "      <td>...</td>\n",
       "      <td>...</td>\n",
       "      <td>...</td>\n",
       "    </tr>\n",
       "    <tr>\n",
       "      <th>18063</th>\n",
       "      <td>1534</td>\n",
       "      <td>Альберт</td>\n",
       "      <td>25</td>\n",
       "      <td>Краснодар</td>\n",
       "      <td>free</td>\n",
       "      <td>3781.098080</td>\n",
       "      <td>19.822962</td>\n",
       "      <td>2021-11-04</td>\n",
       "      <td>11</td>\n",
       "      <td>8</td>\n",
       "      <td>50</td>\n",
       "      <td>0</td>\n",
       "    </tr>\n",
       "    <tr>\n",
       "      <th>18064</th>\n",
       "      <td>1534</td>\n",
       "      <td>Альберт</td>\n",
       "      <td>25</td>\n",
       "      <td>Краснодар</td>\n",
       "      <td>free</td>\n",
       "      <td>2840.423057</td>\n",
       "      <td>21.409799</td>\n",
       "      <td>2021-11-16</td>\n",
       "      <td>11</td>\n",
       "      <td>8</td>\n",
       "      <td>50</td>\n",
       "      <td>0</td>\n",
       "    </tr>\n",
       "    <tr>\n",
       "      <th>18065</th>\n",
       "      <td>1534</td>\n",
       "      <td>Альберт</td>\n",
       "      <td>25</td>\n",
       "      <td>Краснодар</td>\n",
       "      <td>free</td>\n",
       "      <td>3826.185507</td>\n",
       "      <td>18.435051</td>\n",
       "      <td>2021-11-18</td>\n",
       "      <td>11</td>\n",
       "      <td>8</td>\n",
       "      <td>50</td>\n",
       "      <td>0</td>\n",
       "    </tr>\n",
       "    <tr>\n",
       "      <th>18066</th>\n",
       "      <td>1534</td>\n",
       "      <td>Альберт</td>\n",
       "      <td>25</td>\n",
       "      <td>Краснодар</td>\n",
       "      <td>free</td>\n",
       "      <td>2902.308661</td>\n",
       "      <td>16.674362</td>\n",
       "      <td>2021-11-27</td>\n",
       "      <td>11</td>\n",
       "      <td>8</td>\n",
       "      <td>50</td>\n",
       "      <td>0</td>\n",
       "    </tr>\n",
       "    <tr>\n",
       "      <th>18067</th>\n",
       "      <td>1534</td>\n",
       "      <td>Альберт</td>\n",
       "      <td>25</td>\n",
       "      <td>Краснодар</td>\n",
       "      <td>free</td>\n",
       "      <td>2371.711192</td>\n",
       "      <td>15.893917</td>\n",
       "      <td>2021-12-29</td>\n",
       "      <td>12</td>\n",
       "      <td>8</td>\n",
       "      <td>50</td>\n",
       "      <td>0</td>\n",
       "    </tr>\n",
       "  </tbody>\n",
       "</table>\n",
       "<p>18068 rows × 12 columns</p>\n",
       "</div>"
      ],
      "text/plain": [
       "       user_id     name  age       city subscription_type     distance  \\\n",
       "0            1     Кира   22     Тюмень             ultra  4409.919140   \n",
       "1            1     Кира   22     Тюмень             ultra  2617.592153   \n",
       "2            1     Кира   22     Тюмень             ultra   754.159807   \n",
       "3            1     Кира   22     Тюмень             ultra  2694.783254   \n",
       "4            1     Кира   22     Тюмень             ultra  4028.687306   \n",
       "...        ...      ...  ...        ...               ...          ...   \n",
       "18063     1534  Альберт   25  Краснодар              free  3781.098080   \n",
       "18064     1534  Альберт   25  Краснодар              free  2840.423057   \n",
       "18065     1534  Альберт   25  Краснодар              free  3826.185507   \n",
       "18066     1534  Альберт   25  Краснодар              free  2902.308661   \n",
       "18067     1534  Альберт   25  Краснодар              free  2371.711192   \n",
       "\n",
       "        duration       date  month  minute_price  start_ride_price  \\\n",
       "0      25.599769 2021-01-01      1             6                 0   \n",
       "1      15.816871 2021-01-18      1             6                 0   \n",
       "2       6.232113 2021-04-20      4             6                 0   \n",
       "3      18.511000 2021-08-11      8             6                 0   \n",
       "4      26.265803 2021-08-28      8             6                 0   \n",
       "...          ...        ...    ...           ...               ...   \n",
       "18063  19.822962 2021-11-04     11             8                50   \n",
       "18064  21.409799 2021-11-16     11             8                50   \n",
       "18065  18.435051 2021-11-18     11             8                50   \n",
       "18066  16.674362 2021-11-27     11             8                50   \n",
       "18067  15.893917 2021-12-29     12             8                50   \n",
       "\n",
       "       subscription_fee  \n",
       "0                   199  \n",
       "1                   199  \n",
       "2                   199  \n",
       "3                   199  \n",
       "4                   199  \n",
       "...                 ...  \n",
       "18063                 0  \n",
       "18064                 0  \n",
       "18065                 0  \n",
       "18066                 0  \n",
       "18067                 0  \n",
       "\n",
       "[18068 rows x 12 columns]"
      ]
     },
     "execution_count": 34,
     "metadata": {},
     "output_type": "execute_result"
    }
   ],
   "source": [
    "full_df = users.merge(rides)\n",
    "full_df = full_df.merge(subs)\n",
    "full_df"
   ]
  },
  {
   "cell_type": "code",
   "execution_count": 35,
   "id": "a72eaea5",
   "metadata": {},
   "outputs": [
    {
     "name": "stdout",
     "output_type": "stream",
     "text": [
      "<class 'pandas.core.frame.DataFrame'>\n",
      "RangeIndex: 18068 entries, 0 to 18067\n",
      "Data columns (total 5 columns):\n",
      " #   Column    Non-Null Count  Dtype         \n",
      "---  ------    --------------  -----         \n",
      " 0   user_id   18068 non-null  int64         \n",
      " 1   distance  18068 non-null  float64       \n",
      " 2   duration  18068 non-null  float64       \n",
      " 3   date      18068 non-null  datetime64[ns]\n",
      " 4   month     18068 non-null  int64         \n",
      "dtypes: datetime64[ns](1), float64(2), int64(2)\n",
      "memory usage: 705.9 KB\n"
     ]
    }
   ],
   "source": [
    "rides.info()"
   ]
  },
  {
   "cell_type": "markdown",
   "id": "da79e9e0",
   "metadata": {},
   "source": [
    "В датафрейме с данными пользователей меньше строк, так как каждый пользователь может совершить более одной поездки, поэтому в сборной таблице должно быть столько же строк, сколько и в датафрейме с поездками. Проверим, нету ли пропущенных значений в итоговом датафрейме."
   ]
  },
  {
   "cell_type": "code",
   "execution_count": 36,
   "id": "2927b87e",
   "metadata": {},
   "outputs": [
    {
     "data": {
      "text/plain": [
       "0"
      ]
     },
     "execution_count": 36,
     "metadata": {},
     "output_type": "execute_result"
    }
   ],
   "source": [
    "full_df.duplicated().sum()"
   ]
  },
  {
   "cell_type": "markdown",
   "id": "2bc2dd16",
   "metadata": {},
   "source": [
    "Пропусков нет, можем идти дальше."
   ]
  },
  {
   "cell_type": "markdown",
   "id": "688d5324",
   "metadata": {},
   "source": [
    "Из получившегося датафрейма создадим ещё два: с пользователями с подпиской и без неё."
   ]
  },
  {
   "cell_type": "code",
   "execution_count": 37,
   "id": "f9a138b2",
   "metadata": {},
   "outputs": [
    {
     "data": {
      "text/html": [
       "<div>\n",
       "<style scoped>\n",
       "    .dataframe tbody tr th:only-of-type {\n",
       "        vertical-align: middle;\n",
       "    }\n",
       "\n",
       "    .dataframe tbody tr th {\n",
       "        vertical-align: top;\n",
       "    }\n",
       "\n",
       "    .dataframe thead th {\n",
       "        text-align: right;\n",
       "    }\n",
       "</style>\n",
       "<table border=\"1\" class=\"dataframe\">\n",
       "  <thead>\n",
       "    <tr style=\"text-align: right;\">\n",
       "      <th></th>\n",
       "      <th>user_id</th>\n",
       "      <th>name</th>\n",
       "      <th>age</th>\n",
       "      <th>city</th>\n",
       "      <th>subscription_type</th>\n",
       "      <th>distance</th>\n",
       "      <th>duration</th>\n",
       "      <th>date</th>\n",
       "      <th>month</th>\n",
       "      <th>minute_price</th>\n",
       "      <th>start_ride_price</th>\n",
       "      <th>subscription_fee</th>\n",
       "    </tr>\n",
       "  </thead>\n",
       "  <tbody>\n",
       "    <tr>\n",
       "      <th>6500</th>\n",
       "      <td>700</td>\n",
       "      <td>Айдар</td>\n",
       "      <td>22</td>\n",
       "      <td>Омск</td>\n",
       "      <td>free</td>\n",
       "      <td>2515.690719</td>\n",
       "      <td>14.944286</td>\n",
       "      <td>2021-01-02</td>\n",
       "      <td>1</td>\n",
       "      <td>8</td>\n",
       "      <td>50</td>\n",
       "      <td>0</td>\n",
       "    </tr>\n",
       "    <tr>\n",
       "      <th>6501</th>\n",
       "      <td>700</td>\n",
       "      <td>Айдар</td>\n",
       "      <td>22</td>\n",
       "      <td>Омск</td>\n",
       "      <td>free</td>\n",
       "      <td>846.932642</td>\n",
       "      <td>16.234663</td>\n",
       "      <td>2021-02-01</td>\n",
       "      <td>2</td>\n",
       "      <td>8</td>\n",
       "      <td>50</td>\n",
       "      <td>0</td>\n",
       "    </tr>\n",
       "    <tr>\n",
       "      <th>6502</th>\n",
       "      <td>700</td>\n",
       "      <td>Айдар</td>\n",
       "      <td>22</td>\n",
       "      <td>Омск</td>\n",
       "      <td>free</td>\n",
       "      <td>4004.434142</td>\n",
       "      <td>20.016628</td>\n",
       "      <td>2021-02-04</td>\n",
       "      <td>2</td>\n",
       "      <td>8</td>\n",
       "      <td>50</td>\n",
       "      <td>0</td>\n",
       "    </tr>\n",
       "    <tr>\n",
       "      <th>6503</th>\n",
       "      <td>700</td>\n",
       "      <td>Айдар</td>\n",
       "      <td>22</td>\n",
       "      <td>Омск</td>\n",
       "      <td>free</td>\n",
       "      <td>1205.911290</td>\n",
       "      <td>9.782872</td>\n",
       "      <td>2021-02-10</td>\n",
       "      <td>2</td>\n",
       "      <td>8</td>\n",
       "      <td>50</td>\n",
       "      <td>0</td>\n",
       "    </tr>\n",
       "    <tr>\n",
       "      <th>6504</th>\n",
       "      <td>700</td>\n",
       "      <td>Айдар</td>\n",
       "      <td>22</td>\n",
       "      <td>Омск</td>\n",
       "      <td>free</td>\n",
       "      <td>3047.379435</td>\n",
       "      <td>17.427673</td>\n",
       "      <td>2021-02-14</td>\n",
       "      <td>2</td>\n",
       "      <td>8</td>\n",
       "      <td>50</td>\n",
       "      <td>0</td>\n",
       "    </tr>\n",
       "    <tr>\n",
       "      <th>...</th>\n",
       "      <td>...</td>\n",
       "      <td>...</td>\n",
       "      <td>...</td>\n",
       "      <td>...</td>\n",
       "      <td>...</td>\n",
       "      <td>...</td>\n",
       "      <td>...</td>\n",
       "      <td>...</td>\n",
       "      <td>...</td>\n",
       "      <td>...</td>\n",
       "      <td>...</td>\n",
       "      <td>...</td>\n",
       "    </tr>\n",
       "    <tr>\n",
       "      <th>18063</th>\n",
       "      <td>1534</td>\n",
       "      <td>Альберт</td>\n",
       "      <td>25</td>\n",
       "      <td>Краснодар</td>\n",
       "      <td>free</td>\n",
       "      <td>3781.098080</td>\n",
       "      <td>19.822962</td>\n",
       "      <td>2021-11-04</td>\n",
       "      <td>11</td>\n",
       "      <td>8</td>\n",
       "      <td>50</td>\n",
       "      <td>0</td>\n",
       "    </tr>\n",
       "    <tr>\n",
       "      <th>18064</th>\n",
       "      <td>1534</td>\n",
       "      <td>Альберт</td>\n",
       "      <td>25</td>\n",
       "      <td>Краснодар</td>\n",
       "      <td>free</td>\n",
       "      <td>2840.423057</td>\n",
       "      <td>21.409799</td>\n",
       "      <td>2021-11-16</td>\n",
       "      <td>11</td>\n",
       "      <td>8</td>\n",
       "      <td>50</td>\n",
       "      <td>0</td>\n",
       "    </tr>\n",
       "    <tr>\n",
       "      <th>18065</th>\n",
       "      <td>1534</td>\n",
       "      <td>Альберт</td>\n",
       "      <td>25</td>\n",
       "      <td>Краснодар</td>\n",
       "      <td>free</td>\n",
       "      <td>3826.185507</td>\n",
       "      <td>18.435051</td>\n",
       "      <td>2021-11-18</td>\n",
       "      <td>11</td>\n",
       "      <td>8</td>\n",
       "      <td>50</td>\n",
       "      <td>0</td>\n",
       "    </tr>\n",
       "    <tr>\n",
       "      <th>18066</th>\n",
       "      <td>1534</td>\n",
       "      <td>Альберт</td>\n",
       "      <td>25</td>\n",
       "      <td>Краснодар</td>\n",
       "      <td>free</td>\n",
       "      <td>2902.308661</td>\n",
       "      <td>16.674362</td>\n",
       "      <td>2021-11-27</td>\n",
       "      <td>11</td>\n",
       "      <td>8</td>\n",
       "      <td>50</td>\n",
       "      <td>0</td>\n",
       "    </tr>\n",
       "    <tr>\n",
       "      <th>18067</th>\n",
       "      <td>1534</td>\n",
       "      <td>Альберт</td>\n",
       "      <td>25</td>\n",
       "      <td>Краснодар</td>\n",
       "      <td>free</td>\n",
       "      <td>2371.711192</td>\n",
       "      <td>15.893917</td>\n",
       "      <td>2021-12-29</td>\n",
       "      <td>12</td>\n",
       "      <td>8</td>\n",
       "      <td>50</td>\n",
       "      <td>0</td>\n",
       "    </tr>\n",
       "  </tbody>\n",
       "</table>\n",
       "<p>11568 rows × 12 columns</p>\n",
       "</div>"
      ],
      "text/plain": [
       "       user_id     name  age       city subscription_type     distance  \\\n",
       "6500       700    Айдар   22       Омск              free  2515.690719   \n",
       "6501       700    Айдар   22       Омск              free   846.932642   \n",
       "6502       700    Айдар   22       Омск              free  4004.434142   \n",
       "6503       700    Айдар   22       Омск              free  1205.911290   \n",
       "6504       700    Айдар   22       Омск              free  3047.379435   \n",
       "...        ...      ...  ...        ...               ...          ...   \n",
       "18063     1534  Альберт   25  Краснодар              free  3781.098080   \n",
       "18064     1534  Альберт   25  Краснодар              free  2840.423057   \n",
       "18065     1534  Альберт   25  Краснодар              free  3826.185507   \n",
       "18066     1534  Альберт   25  Краснодар              free  2902.308661   \n",
       "18067     1534  Альберт   25  Краснодар              free  2371.711192   \n",
       "\n",
       "        duration       date  month  minute_price  start_ride_price  \\\n",
       "6500   14.944286 2021-01-02      1             8                50   \n",
       "6501   16.234663 2021-02-01      2             8                50   \n",
       "6502   20.016628 2021-02-04      2             8                50   \n",
       "6503    9.782872 2021-02-10      2             8                50   \n",
       "6504   17.427673 2021-02-14      2             8                50   \n",
       "...          ...        ...    ...           ...               ...   \n",
       "18063  19.822962 2021-11-04     11             8                50   \n",
       "18064  21.409799 2021-11-16     11             8                50   \n",
       "18065  18.435051 2021-11-18     11             8                50   \n",
       "18066  16.674362 2021-11-27     11             8                50   \n",
       "18067  15.893917 2021-12-29     12             8                50   \n",
       "\n",
       "       subscription_fee  \n",
       "6500                  0  \n",
       "6501                  0  \n",
       "6502                  0  \n",
       "6503                  0  \n",
       "6504                  0  \n",
       "...                 ...  \n",
       "18063                 0  \n",
       "18064                 0  \n",
       "18065                 0  \n",
       "18066                 0  \n",
       "18067                 0  \n",
       "\n",
       "[11568 rows x 12 columns]"
      ]
     },
     "execution_count": 37,
     "metadata": {},
     "output_type": "execute_result"
    }
   ],
   "source": [
    "free_df = full_df[full_df['subscription_type'] == 'free']\n",
    "free_df"
   ]
  },
  {
   "cell_type": "code",
   "execution_count": 38,
   "id": "dbb9a18d",
   "metadata": {},
   "outputs": [
    {
     "data": {
      "text/html": [
       "<div>\n",
       "<style scoped>\n",
       "    .dataframe tbody tr th:only-of-type {\n",
       "        vertical-align: middle;\n",
       "    }\n",
       "\n",
       "    .dataframe tbody tr th {\n",
       "        vertical-align: top;\n",
       "    }\n",
       "\n",
       "    .dataframe thead th {\n",
       "        text-align: right;\n",
       "    }\n",
       "</style>\n",
       "<table border=\"1\" class=\"dataframe\">\n",
       "  <thead>\n",
       "    <tr style=\"text-align: right;\">\n",
       "      <th></th>\n",
       "      <th>user_id</th>\n",
       "      <th>name</th>\n",
       "      <th>age</th>\n",
       "      <th>city</th>\n",
       "      <th>subscription_type</th>\n",
       "      <th>distance</th>\n",
       "      <th>duration</th>\n",
       "      <th>date</th>\n",
       "      <th>month</th>\n",
       "      <th>minute_price</th>\n",
       "      <th>start_ride_price</th>\n",
       "      <th>subscription_fee</th>\n",
       "    </tr>\n",
       "  </thead>\n",
       "  <tbody>\n",
       "    <tr>\n",
       "      <th>0</th>\n",
       "      <td>1</td>\n",
       "      <td>Кира</td>\n",
       "      <td>22</td>\n",
       "      <td>Тюмень</td>\n",
       "      <td>ultra</td>\n",
       "      <td>4409.919140</td>\n",
       "      <td>25.599769</td>\n",
       "      <td>2021-01-01</td>\n",
       "      <td>1</td>\n",
       "      <td>6</td>\n",
       "      <td>0</td>\n",
       "      <td>199</td>\n",
       "    </tr>\n",
       "    <tr>\n",
       "      <th>1</th>\n",
       "      <td>1</td>\n",
       "      <td>Кира</td>\n",
       "      <td>22</td>\n",
       "      <td>Тюмень</td>\n",
       "      <td>ultra</td>\n",
       "      <td>2617.592153</td>\n",
       "      <td>15.816871</td>\n",
       "      <td>2021-01-18</td>\n",
       "      <td>1</td>\n",
       "      <td>6</td>\n",
       "      <td>0</td>\n",
       "      <td>199</td>\n",
       "    </tr>\n",
       "    <tr>\n",
       "      <th>2</th>\n",
       "      <td>1</td>\n",
       "      <td>Кира</td>\n",
       "      <td>22</td>\n",
       "      <td>Тюмень</td>\n",
       "      <td>ultra</td>\n",
       "      <td>754.159807</td>\n",
       "      <td>6.232113</td>\n",
       "      <td>2021-04-20</td>\n",
       "      <td>4</td>\n",
       "      <td>6</td>\n",
       "      <td>0</td>\n",
       "      <td>199</td>\n",
       "    </tr>\n",
       "    <tr>\n",
       "      <th>3</th>\n",
       "      <td>1</td>\n",
       "      <td>Кира</td>\n",
       "      <td>22</td>\n",
       "      <td>Тюмень</td>\n",
       "      <td>ultra</td>\n",
       "      <td>2694.783254</td>\n",
       "      <td>18.511000</td>\n",
       "      <td>2021-08-11</td>\n",
       "      <td>8</td>\n",
       "      <td>6</td>\n",
       "      <td>0</td>\n",
       "      <td>199</td>\n",
       "    </tr>\n",
       "    <tr>\n",
       "      <th>4</th>\n",
       "      <td>1</td>\n",
       "      <td>Кира</td>\n",
       "      <td>22</td>\n",
       "      <td>Тюмень</td>\n",
       "      <td>ultra</td>\n",
       "      <td>4028.687306</td>\n",
       "      <td>26.265803</td>\n",
       "      <td>2021-08-28</td>\n",
       "      <td>8</td>\n",
       "      <td>6</td>\n",
       "      <td>0</td>\n",
       "      <td>199</td>\n",
       "    </tr>\n",
       "    <tr>\n",
       "      <th>...</th>\n",
       "      <td>...</td>\n",
       "      <td>...</td>\n",
       "      <td>...</td>\n",
       "      <td>...</td>\n",
       "      <td>...</td>\n",
       "      <td>...</td>\n",
       "      <td>...</td>\n",
       "      <td>...</td>\n",
       "      <td>...</td>\n",
       "      <td>...</td>\n",
       "      <td>...</td>\n",
       "      <td>...</td>\n",
       "    </tr>\n",
       "    <tr>\n",
       "      <th>6495</th>\n",
       "      <td>699</td>\n",
       "      <td>Оксана</td>\n",
       "      <td>22</td>\n",
       "      <td>Москва</td>\n",
       "      <td>ultra</td>\n",
       "      <td>3973.046497</td>\n",
       "      <td>24.671163</td>\n",
       "      <td>2021-08-29</td>\n",
       "      <td>8</td>\n",
       "      <td>6</td>\n",
       "      <td>0</td>\n",
       "      <td>199</td>\n",
       "    </tr>\n",
       "    <tr>\n",
       "      <th>6496</th>\n",
       "      <td>699</td>\n",
       "      <td>Оксана</td>\n",
       "      <td>22</td>\n",
       "      <td>Москва</td>\n",
       "      <td>ultra</td>\n",
       "      <td>3288.702563</td>\n",
       "      <td>15.892886</td>\n",
       "      <td>2021-09-12</td>\n",
       "      <td>9</td>\n",
       "      <td>6</td>\n",
       "      <td>0</td>\n",
       "      <td>199</td>\n",
       "    </tr>\n",
       "    <tr>\n",
       "      <th>6497</th>\n",
       "      <td>699</td>\n",
       "      <td>Оксана</td>\n",
       "      <td>22</td>\n",
       "      <td>Москва</td>\n",
       "      <td>ultra</td>\n",
       "      <td>3076.159348</td>\n",
       "      <td>14.389525</td>\n",
       "      <td>2021-09-26</td>\n",
       "      <td>9</td>\n",
       "      <td>6</td>\n",
       "      <td>0</td>\n",
       "      <td>199</td>\n",
       "    </tr>\n",
       "    <tr>\n",
       "      <th>6498</th>\n",
       "      <td>699</td>\n",
       "      <td>Оксана</td>\n",
       "      <td>22</td>\n",
       "      <td>Москва</td>\n",
       "      <td>ultra</td>\n",
       "      <td>4707.845501</td>\n",
       "      <td>15.839579</td>\n",
       "      <td>2021-10-17</td>\n",
       "      <td>10</td>\n",
       "      <td>6</td>\n",
       "      <td>0</td>\n",
       "      <td>199</td>\n",
       "    </tr>\n",
       "    <tr>\n",
       "      <th>6499</th>\n",
       "      <td>699</td>\n",
       "      <td>Оксана</td>\n",
       "      <td>22</td>\n",
       "      <td>Москва</td>\n",
       "      <td>ultra</td>\n",
       "      <td>3202.890770</td>\n",
       "      <td>25.217345</td>\n",
       "      <td>2021-12-03</td>\n",
       "      <td>12</td>\n",
       "      <td>6</td>\n",
       "      <td>0</td>\n",
       "      <td>199</td>\n",
       "    </tr>\n",
       "  </tbody>\n",
       "</table>\n",
       "<p>6500 rows × 12 columns</p>\n",
       "</div>"
      ],
      "text/plain": [
       "      user_id    name  age    city subscription_type     distance   duration  \\\n",
       "0           1    Кира   22  Тюмень             ultra  4409.919140  25.599769   \n",
       "1           1    Кира   22  Тюмень             ultra  2617.592153  15.816871   \n",
       "2           1    Кира   22  Тюмень             ultra   754.159807   6.232113   \n",
       "3           1    Кира   22  Тюмень             ultra  2694.783254  18.511000   \n",
       "4           1    Кира   22  Тюмень             ultra  4028.687306  26.265803   \n",
       "...       ...     ...  ...     ...               ...          ...        ...   \n",
       "6495      699  Оксана   22  Москва             ultra  3973.046497  24.671163   \n",
       "6496      699  Оксана   22  Москва             ultra  3288.702563  15.892886   \n",
       "6497      699  Оксана   22  Москва             ultra  3076.159348  14.389525   \n",
       "6498      699  Оксана   22  Москва             ultra  4707.845501  15.839579   \n",
       "6499      699  Оксана   22  Москва             ultra  3202.890770  25.217345   \n",
       "\n",
       "           date  month  minute_price  start_ride_price  subscription_fee  \n",
       "0    2021-01-01      1             6                 0               199  \n",
       "1    2021-01-18      1             6                 0               199  \n",
       "2    2021-04-20      4             6                 0               199  \n",
       "3    2021-08-11      8             6                 0               199  \n",
       "4    2021-08-28      8             6                 0               199  \n",
       "...         ...    ...           ...               ...               ...  \n",
       "6495 2021-08-29      8             6                 0               199  \n",
       "6496 2021-09-12      9             6                 0               199  \n",
       "6497 2021-09-26      9             6                 0               199  \n",
       "6498 2021-10-17     10             6                 0               199  \n",
       "6499 2021-12-03     12             6                 0               199  \n",
       "\n",
       "[6500 rows x 12 columns]"
      ]
     },
     "execution_count": 38,
     "metadata": {},
     "output_type": "execute_result"
    }
   ],
   "source": [
    "ultra_df = full_df[full_df['subscription_type'] == 'ultra']\n",
    "ultra_df"
   ]
  },
  {
   "cell_type": "markdown",
   "id": "a5a17bb9",
   "metadata": {},
   "source": [
    "Визуализируем информацию о расстоянии и времени поездок для пользователей обеих категорий."
   ]
  },
  {
   "cell_type": "code",
   "execution_count": 39,
   "id": "dfbc999d",
   "metadata": {},
   "outputs": [
    {
     "data": {
      "image/png": "[encoded data removed]",
      "text/plain": [
       "<Figure size 432x288 with 1 Axes>"
      ]
     },
     "metadata": {
      "needs_background": "light"
     },
     "output_type": "display_data"
    },
    {
     "data": {
      "text/plain": [
       "<Figure size 2160x2160 with 0 Axes>"
      ]
     },
     "metadata": {},
     "output_type": "display_data"
    }
   ],
   "source": [
    "plt.hist(\n",
    "    free_df['distance'], \n",
    "    bins=35, \n",
    "    range = (0, 7000),\n",
    "    color = 'lightgreen'\n",
    ")\n",
    "\n",
    "plt.title('Расстояние (бесплатный тариф)')\n",
    "plt.xlabel('Расстояние (м)')\n",
    "plt.ylabel('Количество сессий')\n",
    "plt.figure(figsize=(30, 30))\n",
    "plt.show()"
   ]
  },
  {
   "cell_type": "code",
   "execution_count": 40,
   "id": "bad684a0",
   "metadata": {},
   "outputs": [
    {
     "data": {
      "image/png": "[encoded data removed]",
      "text/plain": [
       "<Figure size 432x288 with 1 Axes>"
      ]
     },
     "metadata": {
      "needs_background": "light"
     },
     "output_type": "display_data"
    },
    {
     "data": {
      "text/plain": [
       "<Figure size 2160x2160 with 0 Axes>"
      ]
     },
     "metadata": {},
     "output_type": "display_data"
    }
   ],
   "source": [
    "plt.hist(\n",
    "    free_df['duration'], \n",
    "    bins=35, \n",
    "    range = (0, 35),\n",
    "    color = 'lightgreen'\n",
    ")\n",
    "\n",
    "plt.title('Время (бесплатный тариф)')\n",
    "plt.xlabel('Длительность сессии (мин)')\n",
    "plt.ylabel('Количество сессий')\n",
    "plt.figure(figsize=(30, 30))\n",
    "plt.show()"
   ]
  },
  {
   "cell_type": "code",
   "execution_count": 41,
   "id": "d27c6dc4",
   "metadata": {},
   "outputs": [
    {
     "data": {
      "image/png": "[encoded data removed]",
      "text/plain": [
       "<Figure size 432x288 with 1 Axes>"
      ]
     },
     "metadata": {
      "needs_background": "light"
     },
     "output_type": "display_data"
    },
    {
     "data": {
      "text/plain": [
       "<Figure size 2160x2160 with 0 Axes>"
      ]
     },
     "metadata": {},
     "output_type": "display_data"
    }
   ],
   "source": [
    "plt.hist(\n",
    "    ultra_df['distance'], \n",
    "    bins=35, \n",
    "    range = (0, 7000),\n",
    "    color = 'red'\n",
    ")\n",
    "\n",
    "plt.title('Расстояние (платный тариф)')\n",
    "plt.xlabel('Расстояние (м)')\n",
    "plt.ylabel('Количество сессий')\n",
    "plt.figure(figsize=(30, 30))\n",
    "plt.show()"
   ]
  },
  {
   "cell_type": "code",
   "execution_count": 42,
   "id": "028ab7e0",
   "metadata": {},
   "outputs": [
    {
     "data": {
      "image/png": "[encoded data removed]",
      "text/plain": [
       "<Figure size 432x288 with 1 Axes>"
      ]
     },
     "metadata": {
      "needs_background": "light"
     },
     "output_type": "display_data"
    },
    {
     "data": {
      "text/plain": [
       "<Figure size 2160x2160 with 0 Axes>"
      ]
     },
     "metadata": {},
     "output_type": "display_data"
    }
   ],
   "source": [
    "plt.hist(\n",
    "    ultra_df['duration'], \n",
    "    bins=35, \n",
    "    range = (0, 35),\n",
    "    color = 'red'\n",
    ")\n",
    "\n",
    "plt.title('Время (платный тариф)')\n",
    "plt.xlabel('Длительность сессии (мин)')\n",
    "plt.ylabel('Количество сессий')\n",
    "plt.figure(figsize=(30, 30))\n",
    "plt.show()"
   ]
  },
  {
   "cell_type": "markdown",
   "id": "48a745be",
   "metadata": {},
   "source": [
    "В рамках данного блока мы объединили все данные в олин датафрейм, а также выделили в отдельные датафреймы данные о пользователях с подпиской и без нее.\n",
    "  \n",
    "Визуализировав данные о пользователях с подпиской и без неё, можно сделать некоторые выводы. В целом пользователи с бесплатной подпиской проезжают больше и тратят больше времени на поездки, чем пользователи с платной подпиской. Пользователи с бесплатной подпиской в среднем проезжают от 2 км до 5 км и тратят на это от 10 до 30 мин, в то время как пользователи с платной подпиской проезжают от 2,5 км до 4 км и тратят на это от 13 до 23 минут."
   ]
  },
  {
   "cell_type": "markdown",
   "id": "402d620f",
   "metadata": {},
   "source": [
    "#### Шаг 5. Подсчёт выручки"
   ]
  },
  {
   "cell_type": "markdown",
   "id": "6d94dccc",
   "metadata": {},
   "source": [
    "Найдём суммарное расстояние, количество поездок и суммарное время для каждого пользователя за каждый месяц и сохраним это в отдельный датафрейм."
   ]
  },
  {
   "cell_type": "code",
   "execution_count": 43,
   "id": "171fc724",
   "metadata": {},
   "outputs": [],
   "source": [
    "total_inf_df = pd.pivot_table(full_df,\n",
    "                           index = ['month', 'user_id'],\n",
    "                           values = ['distance', 'duration', 'name', 'subscription_type'],\n",
    "                           aggfunc = {'distance': sum, \n",
    "                                      'duration' : sum, \n",
    "                                      'name' : len, \n",
    "                                      'subscription_type' : min})\n",
    "\n",
    "total_inf_df.rename(columns = {'name' : 'count'}, inplace = True)\n",
    "total_inf_df['duration'] = np.ceil(total_inf_df['duration'])"
   ]
  },
  {
   "cell_type": "code",
   "execution_count": 44,
   "id": "78ccd7b0",
   "metadata": {},
   "outputs": [
    {
     "data": {
      "text/html": [
       "<div>\n",
       "<style scoped>\n",
       "    .dataframe tbody tr th:only-of-type {\n",
       "        vertical-align: middle;\n",
       "    }\n",
       "\n",
       "    .dataframe tbody tr th {\n",
       "        vertical-align: top;\n",
       "    }\n",
       "\n",
       "    .dataframe thead th {\n",
       "        text-align: right;\n",
       "    }\n",
       "</style>\n",
       "<table border=\"1\" class=\"dataframe\">\n",
       "  <thead>\n",
       "    <tr style=\"text-align: right;\">\n",
       "      <th></th>\n",
       "      <th></th>\n",
       "      <th>distance</th>\n",
       "      <th>duration</th>\n",
       "      <th>count</th>\n",
       "      <th>subscription_type</th>\n",
       "    </tr>\n",
       "    <tr>\n",
       "      <th>month</th>\n",
       "      <th>user_id</th>\n",
       "      <th></th>\n",
       "      <th></th>\n",
       "      <th></th>\n",
       "      <th></th>\n",
       "    </tr>\n",
       "  </thead>\n",
       "  <tbody>\n",
       "    <tr>\n",
       "      <th rowspan=\"10\" valign=\"top\">1</th>\n",
       "      <th>1</th>\n",
       "      <td>7027.511294</td>\n",
       "      <td>42.0</td>\n",
       "      <td>2</td>\n",
       "      <td>ultra</td>\n",
       "    </tr>\n",
       "    <tr>\n",
       "      <th>1061</th>\n",
       "      <td>12637.249630</td>\n",
       "      <td>42.0</td>\n",
       "      <td>3</td>\n",
       "      <td>free</td>\n",
       "    </tr>\n",
       "    <tr>\n",
       "      <th>1063</th>\n",
       "      <td>3276.362299</td>\n",
       "      <td>10.0</td>\n",
       "      <td>1</td>\n",
       "      <td>free</td>\n",
       "    </tr>\n",
       "    <tr>\n",
       "      <th>1064</th>\n",
       "      <td>5297.324649</td>\n",
       "      <td>15.0</td>\n",
       "      <td>1</td>\n",
       "      <td>free</td>\n",
       "    </tr>\n",
       "    <tr>\n",
       "      <th>1065</th>\n",
       "      <td>14547.099333</td>\n",
       "      <td>97.0</td>\n",
       "      <td>4</td>\n",
       "      <td>free</td>\n",
       "    </tr>\n",
       "    <tr>\n",
       "      <th>1066</th>\n",
       "      <td>2809.064949</td>\n",
       "      <td>19.0</td>\n",
       "      <td>1</td>\n",
       "      <td>free</td>\n",
       "    </tr>\n",
       "    <tr>\n",
       "      <th>1067</th>\n",
       "      <td>3864.900780</td>\n",
       "      <td>22.0</td>\n",
       "      <td>1</td>\n",
       "      <td>free</td>\n",
       "    </tr>\n",
       "    <tr>\n",
       "      <th>1069</th>\n",
       "      <td>7007.076943</td>\n",
       "      <td>51.0</td>\n",
       "      <td>3</td>\n",
       "      <td>free</td>\n",
       "    </tr>\n",
       "    <tr>\n",
       "      <th>1071</th>\n",
       "      <td>3635.094136</td>\n",
       "      <td>15.0</td>\n",
       "      <td>1</td>\n",
       "      <td>free</td>\n",
       "    </tr>\n",
       "    <tr>\n",
       "      <th>1072</th>\n",
       "      <td>2498.615999</td>\n",
       "      <td>11.0</td>\n",
       "      <td>1</td>\n",
       "      <td>free</td>\n",
       "    </tr>\n",
       "  </tbody>\n",
       "</table>\n",
       "</div>"
      ],
      "text/plain": [
       "                   distance  duration  count subscription_type\n",
       "month user_id                                                 \n",
       "1     1         7027.511294      42.0      2             ultra\n",
       "      1061     12637.249630      42.0      3              free\n",
       "      1063      3276.362299      10.0      1              free\n",
       "      1064      5297.324649      15.0      1              free\n",
       "      1065     14547.099333      97.0      4              free\n",
       "      1066      2809.064949      19.0      1              free\n",
       "      1067      3864.900780      22.0      1              free\n",
       "      1069      7007.076943      51.0      3              free\n",
       "      1071      3635.094136      15.0      1              free\n",
       "      1072      2498.615999      11.0      1              free"
      ]
     },
     "execution_count": 44,
     "metadata": {},
     "output_type": "execute_result"
    }
   ],
   "source": [
    "total_inf_df.sort_values(by='month').head(10)"
   ]
  },
  {
   "cell_type": "markdown",
   "id": "e6d826c2",
   "metadata": {},
   "source": [
    "В этот же датафрейм добавим столбец с помесячной выручкой, которую принёс каждый пользователь."
   ]
  },
  {
   "cell_type": "code",
   "execution_count": 45,
   "id": "50b74902",
   "metadata": {},
   "outputs": [],
   "source": [
    "def profit(row):\n",
    "    if row['subscription_type'] == 'ultra':\n",
    "        return 6 * row['duration'] + 199\n",
    "    elif row['subscription_type'] == 'free':\n",
    "        return 8 * row['duration'] + 50 * row['count']\n",
    "    else:\n",
    "        return 'Такой подписки не существует'"
   ]
  },
  {
   "cell_type": "code",
   "execution_count": 46,
   "id": "b1c7471b",
   "metadata": {},
   "outputs": [
    {
     "data": {
      "text/html": [
       "<div>\n",
       "<style scoped>\n",
       "    .dataframe tbody tr th:only-of-type {\n",
       "        vertical-align: middle;\n",
       "    }\n",
       "\n",
       "    .dataframe tbody tr th {\n",
       "        vertical-align: top;\n",
       "    }\n",
       "\n",
       "    .dataframe thead th {\n",
       "        text-align: right;\n",
       "    }\n",
       "</style>\n",
       "<table border=\"1\" class=\"dataframe\">\n",
       "  <thead>\n",
       "    <tr style=\"text-align: right;\">\n",
       "      <th></th>\n",
       "      <th></th>\n",
       "      <th>distance</th>\n",
       "      <th>duration</th>\n",
       "      <th>count</th>\n",
       "      <th>subscription_type</th>\n",
       "      <th>profit_per_month</th>\n",
       "    </tr>\n",
       "    <tr>\n",
       "      <th>month</th>\n",
       "      <th>user_id</th>\n",
       "      <th></th>\n",
       "      <th></th>\n",
       "      <th></th>\n",
       "      <th></th>\n",
       "      <th></th>\n",
       "    </tr>\n",
       "  </thead>\n",
       "  <tbody>\n",
       "    <tr>\n",
       "      <th rowspan=\"10\" valign=\"top\">1</th>\n",
       "      <th>1</th>\n",
       "      <td>7027.511294</td>\n",
       "      <td>42.0</td>\n",
       "      <td>2</td>\n",
       "      <td>ultra</td>\n",
       "      <td>451.0</td>\n",
       "    </tr>\n",
       "    <tr>\n",
       "      <th>3</th>\n",
       "      <td>3061.777147</td>\n",
       "      <td>13.0</td>\n",
       "      <td>1</td>\n",
       "      <td>ultra</td>\n",
       "      <td>277.0</td>\n",
       "    </tr>\n",
       "    <tr>\n",
       "      <th>5</th>\n",
       "      <td>3914.646990</td>\n",
       "      <td>13.0</td>\n",
       "      <td>1</td>\n",
       "      <td>ultra</td>\n",
       "      <td>277.0</td>\n",
       "    </tr>\n",
       "    <tr>\n",
       "      <th>7</th>\n",
       "      <td>6478.080979</td>\n",
       "      <td>28.0</td>\n",
       "      <td>2</td>\n",
       "      <td>ultra</td>\n",
       "      <td>367.0</td>\n",
       "    </tr>\n",
       "    <tr>\n",
       "      <th>12</th>\n",
       "      <td>3577.151148</td>\n",
       "      <td>33.0</td>\n",
       "      <td>1</td>\n",
       "      <td>ultra</td>\n",
       "      <td>397.0</td>\n",
       "    </tr>\n",
       "    <tr>\n",
       "      <th>13</th>\n",
       "      <td>6687.987446</td>\n",
       "      <td>42.0</td>\n",
       "      <td>2</td>\n",
       "      <td>ultra</td>\n",
       "      <td>451.0</td>\n",
       "    </tr>\n",
       "    <tr>\n",
       "      <th>14</th>\n",
       "      <td>7699.643820</td>\n",
       "      <td>34.0</td>\n",
       "      <td>2</td>\n",
       "      <td>ultra</td>\n",
       "      <td>403.0</td>\n",
       "    </tr>\n",
       "    <tr>\n",
       "      <th>15</th>\n",
       "      <td>4187.621459</td>\n",
       "      <td>39.0</td>\n",
       "      <td>1</td>\n",
       "      <td>ultra</td>\n",
       "      <td>433.0</td>\n",
       "    </tr>\n",
       "    <tr>\n",
       "      <th>20</th>\n",
       "      <td>3516.719208</td>\n",
       "      <td>29.0</td>\n",
       "      <td>1</td>\n",
       "      <td>ultra</td>\n",
       "      <td>373.0</td>\n",
       "    </tr>\n",
       "    <tr>\n",
       "      <th>22</th>\n",
       "      <td>3058.692225</td>\n",
       "      <td>13.0</td>\n",
       "      <td>1</td>\n",
       "      <td>ultra</td>\n",
       "      <td>277.0</td>\n",
       "    </tr>\n",
       "  </tbody>\n",
       "</table>\n",
       "</div>"
      ],
      "text/plain": [
       "                  distance  duration  count subscription_type  \\\n",
       "month user_id                                                   \n",
       "1     1        7027.511294      42.0      2             ultra   \n",
       "      3        3061.777147      13.0      1             ultra   \n",
       "      5        3914.646990      13.0      1             ultra   \n",
       "      7        6478.080979      28.0      2             ultra   \n",
       "      12       3577.151148      33.0      1             ultra   \n",
       "      13       6687.987446      42.0      2             ultra   \n",
       "      14       7699.643820      34.0      2             ultra   \n",
       "      15       4187.621459      39.0      1             ultra   \n",
       "      20       3516.719208      29.0      1             ultra   \n",
       "      22       3058.692225      13.0      1             ultra   \n",
       "\n",
       "               profit_per_month  \n",
       "month user_id                    \n",
       "1     1                   451.0  \n",
       "      3                   277.0  \n",
       "      5                   277.0  \n",
       "      7                   367.0  \n",
       "      12                  397.0  \n",
       "      13                  451.0  \n",
       "      14                  403.0  \n",
       "      15                  433.0  \n",
       "      20                  373.0  \n",
       "      22                  277.0  "
      ]
     },
     "execution_count": 46,
     "metadata": {},
     "output_type": "execute_result"
    }
   ],
   "source": [
    "total_inf_df['profit_per_month'] = total_inf_df.apply(profit, axis=1)\n",
    "total_inf_df.head(10)"
   ]
  },
  {
   "cell_type": "code",
   "execution_count": 47,
   "id": "d6038d0f",
   "metadata": {},
   "outputs": [
    {
     "data": {
      "text/html": [
       "<div>\n",
       "<style scoped>\n",
       "    .dataframe tbody tr th:only-of-type {\n",
       "        vertical-align: middle;\n",
       "    }\n",
       "\n",
       "    .dataframe tbody tr th {\n",
       "        vertical-align: top;\n",
       "    }\n",
       "\n",
       "    .dataframe thead th {\n",
       "        text-align: right;\n",
       "    }\n",
       "</style>\n",
       "<table border=\"1\" class=\"dataframe\">\n",
       "  <thead>\n",
       "    <tr style=\"text-align: right;\">\n",
       "      <th></th>\n",
       "      <th></th>\n",
       "      <th>distance</th>\n",
       "      <th>duration</th>\n",
       "      <th>count</th>\n",
       "      <th>subscription_type</th>\n",
       "      <th>profit_per_month</th>\n",
       "    </tr>\n",
       "    <tr>\n",
       "      <th>month</th>\n",
       "      <th>user_id</th>\n",
       "      <th></th>\n",
       "      <th></th>\n",
       "      <th></th>\n",
       "      <th></th>\n",
       "      <th></th>\n",
       "    </tr>\n",
       "  </thead>\n",
       "  <tbody>\n",
       "    <tr>\n",
       "      <th>1</th>\n",
       "      <th>5</th>\n",
       "      <td>3914.646990</td>\n",
       "      <td>13.0</td>\n",
       "      <td>1</td>\n",
       "      <td>ultra</td>\n",
       "      <td>277.0</td>\n",
       "    </tr>\n",
       "    <tr>\n",
       "      <th>2</th>\n",
       "      <th>5</th>\n",
       "      <td>2561.108241</td>\n",
       "      <td>12.0</td>\n",
       "      <td>1</td>\n",
       "      <td>ultra</td>\n",
       "      <td>271.0</td>\n",
       "    </tr>\n",
       "    <tr>\n",
       "      <th>3</th>\n",
       "      <th>5</th>\n",
       "      <td>10633.732186</td>\n",
       "      <td>56.0</td>\n",
       "      <td>3</td>\n",
       "      <td>ultra</td>\n",
       "      <td>535.0</td>\n",
       "    </tr>\n",
       "    <tr>\n",
       "      <th>4</th>\n",
       "      <th>5</th>\n",
       "      <td>3373.080412</td>\n",
       "      <td>15.0</td>\n",
       "      <td>1</td>\n",
       "      <td>ultra</td>\n",
       "      <td>289.0</td>\n",
       "    </tr>\n",
       "    <tr>\n",
       "      <th>5</th>\n",
       "      <th>5</th>\n",
       "      <td>5823.074031</td>\n",
       "      <td>32.0</td>\n",
       "      <td>2</td>\n",
       "      <td>ultra</td>\n",
       "      <td>391.0</td>\n",
       "    </tr>\n",
       "    <tr>\n",
       "      <th>7</th>\n",
       "      <th>5</th>\n",
       "      <td>3311.974724</td>\n",
       "      <td>12.0</td>\n",
       "      <td>1</td>\n",
       "      <td>ultra</td>\n",
       "      <td>271.0</td>\n",
       "    </tr>\n",
       "    <tr>\n",
       "      <th>8</th>\n",
       "      <th>5</th>\n",
       "      <td>2720.817111</td>\n",
       "      <td>18.0</td>\n",
       "      <td>1</td>\n",
       "      <td>ultra</td>\n",
       "      <td>307.0</td>\n",
       "    </tr>\n",
       "    <tr>\n",
       "      <th>10</th>\n",
       "      <th>5</th>\n",
       "      <td>3218.515955</td>\n",
       "      <td>20.0</td>\n",
       "      <td>1</td>\n",
       "      <td>ultra</td>\n",
       "      <td>319.0</td>\n",
       "    </tr>\n",
       "  </tbody>\n",
       "</table>\n",
       "</div>"
      ],
      "text/plain": [
       "                   distance  duration  count subscription_type  \\\n",
       "month user_id                                                    \n",
       "1     5         3914.646990      13.0      1             ultra   \n",
       "2     5         2561.108241      12.0      1             ultra   \n",
       "3     5        10633.732186      56.0      3             ultra   \n",
       "4     5         3373.080412      15.0      1             ultra   \n",
       "5     5         5823.074031      32.0      2             ultra   \n",
       "7     5         3311.974724      12.0      1             ultra   \n",
       "8     5         2720.817111      18.0      1             ultra   \n",
       "10    5         3218.515955      20.0      1             ultra   \n",
       "\n",
       "               profit_per_month  \n",
       "month user_id                    \n",
       "1     5                   277.0  \n",
       "2     5                   271.0  \n",
       "3     5                   535.0  \n",
       "4     5                   289.0  \n",
       "5     5                   391.0  \n",
       "7     5                   271.0  \n",
       "8     5                   307.0  \n",
       "10    5                   319.0  "
      ]
     },
     "execution_count": 47,
     "metadata": {},
     "output_type": "execute_result"
    }
   ],
   "source": [
    "total_inf_df.query('user_id == 5')"
   ]
  },
  {
   "cell_type": "markdown",
   "id": "2b45b422",
   "metadata": {},
   "source": [
    "Проверим, есть ли пользвоатели, у которых нет подписки (такого не должно быть, но всякий случай проверить стоит)."
   ]
  },
  {
   "cell_type": "code",
   "execution_count": 48,
   "id": "5e69240f",
   "metadata": {},
   "outputs": [
    {
     "data": {
      "text/html": [
       "<div>\n",
       "<style scoped>\n",
       "    .dataframe tbody tr th:only-of-type {\n",
       "        vertical-align: middle;\n",
       "    }\n",
       "\n",
       "    .dataframe tbody tr th {\n",
       "        vertical-align: top;\n",
       "    }\n",
       "\n",
       "    .dataframe thead th {\n",
       "        text-align: right;\n",
       "    }\n",
       "</style>\n",
       "<table border=\"1\" class=\"dataframe\">\n",
       "  <thead>\n",
       "    <tr style=\"text-align: right;\">\n",
       "      <th></th>\n",
       "      <th></th>\n",
       "      <th>distance</th>\n",
       "      <th>duration</th>\n",
       "      <th>count</th>\n",
       "      <th>subscription_type</th>\n",
       "      <th>profit_per_month</th>\n",
       "    </tr>\n",
       "    <tr>\n",
       "      <th>month</th>\n",
       "      <th>user_id</th>\n",
       "      <th></th>\n",
       "      <th></th>\n",
       "      <th></th>\n",
       "      <th></th>\n",
       "      <th></th>\n",
       "    </tr>\n",
       "  </thead>\n",
       "  <tbody>\n",
       "  </tbody>\n",
       "</table>\n",
       "</div>"
      ],
      "text/plain": [
       "Empty DataFrame\n",
       "Columns: [distance, duration, count, subscription_type, profit_per_month]\n",
       "Index: []"
      ]
     },
     "execution_count": 48,
     "metadata": {},
     "output_type": "execute_result"
    }
   ],
   "source": [
    "total_inf_df.query('profit_per_month == \"Такой подписки не существует\"')"
   ]
  },
  {
   "cell_type": "markdown",
   "id": "41545ac0",
   "metadata": {},
   "source": [
    "#### Шаг 6. Проверка гипотез"
   ]
  },
  {
   "cell_type": "markdown",
   "id": "667f6510",
   "metadata": {},
   "source": [
    "##### Тратят ли пользователи с подпиской больше времени на поездки?"
   ]
  },
  {
   "cell_type": "markdown",
   "id": "c9b38bad",
   "metadata": {},
   "source": [
    "*Гипотеза*: пользователи с подпиской тратят больше времени на поездки.\n",
    "  \n",
    "*Нулевая гипотеза (Н0)*: пользователи с подпиской тратят столько же времени на поездки, сколько на них тратят пользователи без подписки (время ultra = время free)\n",
    "  \n",
    "*Альтернативная гипотеза (Н1)*: пользователи с подпиской тратят больше времени на поездки, в сравнении с пользователями без подписки (время ultra > время free)"
   ]
  },
  {
   "cell_type": "code",
   "execution_count": 49,
   "id": "8719adf0",
   "metadata": {},
   "outputs": [
    {
     "name": "stdout",
     "output_type": "stream",
     "text": [
      "1.2804098316645618e-34\n",
      "Отвергаем нулевую гипотезу\n"
     ]
    }
   ],
   "source": [
    "ultra = ultra_df['duration'] \n",
    "\n",
    "free = free_df['duration']\n",
    "\n",
    "results = st.ttest_ind(ultra, free, alternative = 'greater')\n",
    "\n",
    "alpha = .05\n",
    "\n",
    "print(results.pvalue)\n",
    "\n",
    "if results.pvalue < alpha:\n",
    "    print('Отвергаем нулевую гипотезу')\n",
    "else:\n",
    "    print('Нет оснований отвергнуть нулевую гипотезу')"
   ]
  },
  {
   "cell_type": "markdown",
   "id": "fb804e85",
   "metadata": {},
   "source": [
    "Отвергаем нулевую гипотезу о том, что пользователи с платной подпиской тратят столько же времени, как и пользователи без подписки."
   ]
  },
  {
   "cell_type": "markdown",
   "id": "010255b2",
   "metadata": {},
   "source": [
    "##### Можно ли сказать, что расстояние, которое проезжают пользователи с подпиской за одну поездку, не превышает 3130 метров?"
   ]
  },
  {
   "cell_type": "markdown",
   "id": "d9b95a1c",
   "metadata": {},
   "source": [
    "*Гипотеза*: расстояние, которое проезжают пользователи с подпиской за одну поездку, не превышает 3130 метров.\n",
    "  \n",
    "*Нулевая гипотеза (Н0)*: расстояние, которое проезжают пользователи с подпиской за одну поездку, равно 3130 метров (расстояние ultra = 3130)\n",
    "  \n",
    "*Альтернативная гипотеза (Н1)*: расстояние, которое проезжают пользователи с подпиской за одну поездку, больше 3130 метров (расстояние ultra < 3130)"
   ]
  },
  {
   "cell_type": "code",
   "execution_count": 50,
   "id": "33897e7b",
   "metadata": {},
   "outputs": [
    {
     "name": "stdout",
     "output_type": "stream",
     "text": [
      "0.9195368847849785\n",
      "Нет оснований отвергнуть нулевую гипотезу\n"
     ]
    }
   ],
   "source": [
    "ultra_distance = ultra_df['distance']\n",
    "\n",
    "interested_value = 3130\n",
    "\n",
    "alpha = .05\n",
    "\n",
    "results = st.ttest_1samp(ultra_distance, interested_value, alternative='greater')\n",
    "    \n",
    "print(results.pvalue)\n",
    "\n",
    "if (results.pvalue < alpha):\n",
    "    print('Отвергаем нулевую гипотезу')\n",
    "else:\n",
    "    print('Нет оснований отвергнуть нулевую гипотезу')"
   ]
  },
  {
   "cell_type": "markdown",
   "id": "0c576f71",
   "metadata": {},
   "source": [
    "Мы не можем отвергнуть то, что расстояние, которое проезжают пользователи с подпиской за одну поездку, равно 3130 метров"
   ]
  },
  {
   "cell_type": "markdown",
   "id": "e8fe69b1",
   "metadata": {},
   "source": [
    "##### Будет ли помесячная выручка от пользователей с подпиской по месяцам выше, чем выручка от пользователей без подписки?"
   ]
  },
  {
   "cell_type": "markdown",
   "id": "f515b2f3",
   "metadata": {},
   "source": [
    "*Гипотеза*: помесячная выручка от пользователей с подпиской по месяцам выше, чем выручка от пользователей без подписки.\n",
    "  \n",
    "*Нулевая гипотеза (Н0)*: помесячная выручка от пользователей с подпиской по месяцам такая же, как и выручка от пользователей без подписки (выручка ultra = выручка free)\n",
    "  \n",
    "*Альтернативная гипотеза (Н1)*: помесячная выручка от пользователей с подпиской по месяцам больше, чем выручка от пользователей без подписки (выручка ultra > выручка free)"
   ]
  },
  {
   "cell_type": "code",
   "execution_count": 51,
   "id": "dbdc9d83",
   "metadata": {},
   "outputs": [
    {
     "name": "stdout",
     "output_type": "stream",
     "text": [
      "2.8130926188487286e-35\n",
      "Отвергаем нулевую гипотезу\n"
     ]
    }
   ],
   "source": [
    "ultra_month = total_inf_df.loc[total_inf_df.subscription_type == 'ultra', 'profit_per_month'] \n",
    "\n",
    "free_month = total_inf_df.loc[total_inf_df.subscription_type == 'free', 'profit_per_month'] \n",
    "\n",
    "\n",
    "results = st.ttest_ind(ultra_month, free_month, alternative = 'greater')\n",
    "\n",
    "alpha = .05\n",
    "\n",
    "print(results.pvalue)\n",
    "\n",
    "if results.pvalue < alpha:\n",
    "    print('Отвергаем нулевую гипотезу')\n",
    "else:\n",
    "    print('Нет оснований отвергнуть нулевую гипотезу')"
   ]
  },
  {
   "cell_type": "markdown",
   "id": "f7785019",
   "metadata": {},
   "source": [
    "Отвергаем нулевую гипотезу о том, что помесячная выручка от пользователей с подпиской по месяцам такая же, как и выручка от пользователей без подписки."
   ]
  },
  {
   "cell_type": "markdown",
   "id": "6d9d050e",
   "metadata": {},
   "source": [
    "##### Представьте такую ситуацию: техническая команда сервиса обновила сервера, с которыми взаимодействует мобильное приложение. Она надеется, что из-за этого количество обращений в техподдержку значимо снизилось. Некоторый файл содержит для каждого пользователя данные о количестве обращений до обновления и после него. Какой тест вам понадобился бы для проверки этой гипотезы?\n"
   ]
  },
  {
   "cell_type": "markdown",
   "id": "ce4407d0",
   "metadata": {},
   "source": [
    "Так как у нас есть данные до и после обновления, следует использовать гипотезу о равенстве средних для зависимых (парных) выборок.\n",
    "  \n",
    "Гипотезы в таком случае будут сформулированы так:\n",
    "  \n",
    "H0 : μ1 = μ2  \n",
    "H1 : μ1 != μ2  \n",
    "  \n",
    "где μ1 и μ2 - средние значения количество обращений в техподдержку до и после обновления.\n",
    "  \n",
    "Чтобы проверить гипотезу о равенстве среднего генеральной совокупности для зависимых (парных) выборок в Python, применяется метод scipy.stats.ttest_rel( )."
   ]
  },
  {
   "cell_type": "markdown",
   "id": "61213c5e",
   "metadata": {},
   "source": [
    "#### Шаг 7. Общий вывод"
   ]
  },
  {
   "cell_type": "markdown",
   "id": "da1a0600",
   "metadata": {},
   "source": [
    "Мы загрузили три датасета с данными о пользователях, их поездках и данными о видах подписок.  \n",
    "  \n",
    "В рамках предобработки мы поменяли формат столбца \"date\" на формат даты, добавили столбец с месяцем, а также проверили данные на дубликаты, которые убрали, и убедились в том, что пропущенных данных нет.  \n",
    "  \n",
    "В рамказ исследовательского анализа данных мы узнали, что:\n",
    "1. Больше всего пользователей из Пятигорска, меньше всего - из Москвы. Но, на самом деле, разница между распределением городов небольшая.\n",
    "2. Пользователей, которые пользуются сервисом бесплатно, немного больше половины, всего - 54%. Пользователей с подпиской - 46%.\n",
    "3. Больше всего сервисом пользуются люди от 20 до 30 лет. Минимальный возраст - 12 лет, максимальный - 43.\n",
    "4. в среднем пользователи за одну сессию проезжают около 3100 м. Есть значения больше 5700 м и меньше 800 м, но их можно отнести к выбросам. В среднем пользователи проезжают от 2600 м до 3800 м.\n",
    "5. В среднем на одну поездку пользователи тратят около 17 минут. Значения больше 35 минут и меньше 2 минут являются выбросами. Обычные поездки в ходят в рамки 14 и 22 минут.\n",
    "  \n",
    "В рамках следующего блока мы объединили все данные в один датафрейм, а также выделили в отдельные датафреймы данные о пользователях с подпиской и без нее.\n",
    "  \n",
    "Визуализировав данные о пользователях с подпиской и без неё, можно сделать некоторые выводы. В целом пользователи с бесплатной подпиской проезжают больше и тратят больше времени на поездки, чем пользователи с платной подпиской. Пользователи с бесплатной подпиской в среднем проезжают от 2 км до 5 км и тратят на это от 10 до 30 мин, в то время как пользователи с платной подпиской проезжают от 2,5 км до 4 км и тратят на это от 13 до 23 минут.\n",
    "  \n",
    "Нашли суммарное расстояние, количество поездок и суммарное время для каждого пользователя за каждый месяц - вывели все данные в отдельный датафрейм, а также добавили в него столбец с помесячной выручкой.\n",
    "  \n",
    "Проверили гипотезы:\n",
    "  \n",
    "1. Пользователи с подпиской тратят больше времени на поездки, чем пользователи на бесплатном тарифе (отвергли нулевую гипотезу).  \n",
    "2. Пользователи с подпиской проезжают расстояние, не превышающее 3130 метров за одну поездку (нет оснований отвергнуть нулевую гипотезу).  \n",
    "3. Помесячная выручка от пользователей с подпиской выше, чем выручка от пользователей без подписки (отвергли нулевую гипотезу)."
   ]
  }
 ],
 "metadata": {
  "ExecuteTimeLog": [
   {
    "duration": 432,
    "start_time": "2023-08-16T10:23:01.676Z"
   },
   {
    "duration": 177,
    "start_time": "2023-08-16T10:25:09.942Z"
   },
   {
    "duration": 60,
    "start_time": "2023-08-16T10:25:19.907Z"
   },
   {
    "duration": 227,
    "start_time": "2023-08-16T10:25:30.580Z"
   },
   {
    "duration": 15,
    "start_time": "2023-08-16T10:25:56.722Z"
   },
   {
    "duration": 8,
    "start_time": "2023-08-16T10:26:07.170Z"
   },
   {
    "duration": 13,
    "start_time": "2023-08-16T10:26:25.382Z"
   },
   {
    "duration": 9,
    "start_time": "2023-08-16T10:26:34.910Z"
   },
   {
    "duration": 10,
    "start_time": "2023-08-16T10:28:20.086Z"
   },
   {
    "duration": 7,
    "start_time": "2023-08-16T10:30:19.324Z"
   },
   {
    "duration": 8,
    "start_time": "2023-08-16T10:30:24.201Z"
   },
   {
    "duration": 11,
    "start_time": "2023-08-16T10:30:29.937Z"
   },
   {
    "duration": 8,
    "start_time": "2023-08-16T10:30:41.754Z"
   },
   {
    "duration": 11,
    "start_time": "2023-08-16T10:34:20.638Z"
   },
   {
    "duration": 11,
    "start_time": "2023-08-16T10:34:32.930Z"
   },
   {
    "duration": 9,
    "start_time": "2023-08-16T10:39:11.230Z"
   },
   {
    "duration": 5,
    "start_time": "2023-08-16T10:39:22.432Z"
   },
   {
    "duration": 6,
    "start_time": "2023-08-16T10:42:52.830Z"
   },
   {
    "duration": 7,
    "start_time": "2023-08-16T10:43:00.118Z"
   },
   {
    "duration": 5,
    "start_time": "2023-08-16T10:43:05.972Z"
   },
   {
    "duration": 6,
    "start_time": "2023-08-16T10:45:02.680Z"
   },
   {
    "duration": 5,
    "start_time": "2023-08-16T10:45:04.384Z"
   },
   {
    "duration": 7,
    "start_time": "2023-08-16T10:45:06.597Z"
   },
   {
    "duration": 11,
    "start_time": "2023-08-16T10:45:40.724Z"
   },
   {
    "duration": 3,
    "start_time": "2023-08-16T10:50:43.496Z"
   },
   {
    "duration": 7,
    "start_time": "2023-08-16T10:50:50.993Z"
   },
   {
    "duration": 9,
    "start_time": "2023-08-16T10:51:59.397Z"
   },
   {
    "duration": 9,
    "start_time": "2023-08-16T10:52:04.136Z"
   },
   {
    "duration": 7,
    "start_time": "2023-08-16T10:52:43.598Z"
   },
   {
    "duration": 6,
    "start_time": "2023-08-16T10:52:47.039Z"
   },
   {
    "duration": 8,
    "start_time": "2023-08-16T10:52:48.697Z"
   },
   {
    "duration": 8,
    "start_time": "2023-08-16T10:54:59.146Z"
   },
   {
    "duration": 8,
    "start_time": "2023-08-16T10:55:14.244Z"
   },
   {
    "duration": 16,
    "start_time": "2023-08-16T10:55:17.724Z"
   },
   {
    "duration": 6,
    "start_time": "2023-08-16T10:55:26.442Z"
   },
   {
    "duration": 7,
    "start_time": "2023-08-16T10:55:28.021Z"
   },
   {
    "duration": 648,
    "start_time": "2023-08-16T10:56:02.053Z"
   },
   {
    "duration": 126,
    "start_time": "2023-08-16T10:58:56.509Z"
   },
   {
    "duration": 114,
    "start_time": "2023-08-16T10:58:59.882Z"
   },
   {
    "duration": 126,
    "start_time": "2023-08-16T10:59:52.355Z"
   },
   {
    "duration": 159,
    "start_time": "2023-08-16T10:59:56.312Z"
   },
   {
    "duration": 103,
    "start_time": "2023-08-16T11:01:45.720Z"
   },
   {
    "duration": 127,
    "start_time": "2023-08-16T11:02:51.948Z"
   },
   {
    "duration": 107,
    "start_time": "2023-08-16T11:03:05.981Z"
   },
   {
    "duration": 156,
    "start_time": "2023-08-16T11:03:10.606Z"
   },
   {
    "duration": 161,
    "start_time": "2023-08-16T11:03:28.756Z"
   },
   {
    "duration": 152,
    "start_time": "2023-08-16T11:03:48.480Z"
   },
   {
    "duration": 231,
    "start_time": "2023-08-16T11:04:15.958Z"
   },
   {
    "duration": 163,
    "start_time": "2023-08-16T11:04:32.740Z"
   },
   {
    "duration": 157,
    "start_time": "2023-08-16T11:04:59.353Z"
   },
   {
    "duration": 149,
    "start_time": "2023-08-16T11:05:13.358Z"
   },
   {
    "duration": 149,
    "start_time": "2023-08-16T11:05:37.280Z"
   },
   {
    "duration": 153,
    "start_time": "2023-08-16T11:05:57.589Z"
   },
   {
    "duration": 138,
    "start_time": "2023-08-16T11:06:24.472Z"
   },
   {
    "duration": 221,
    "start_time": "2023-08-16T11:06:38.077Z"
   },
   {
    "duration": 7,
    "start_time": "2023-08-16T11:11:23.283Z"
   },
   {
    "duration": 133,
    "start_time": "2023-08-16T11:12:16.227Z"
   },
   {
    "duration": 6,
    "start_time": "2023-08-16T11:12:20.141Z"
   },
   {
    "duration": 111,
    "start_time": "2023-08-16T11:13:05.475Z"
   },
   {
    "duration": 99,
    "start_time": "2023-08-16T11:13:09.104Z"
   },
   {
    "duration": 6,
    "start_time": "2023-08-16T11:16:00.756Z"
   },
   {
    "duration": 8,
    "start_time": "2023-08-16T11:16:18.667Z"
   },
   {
    "duration": 7,
    "start_time": "2023-08-16T11:16:32.168Z"
   },
   {
    "duration": 7,
    "start_time": "2023-08-16T11:16:42.413Z"
   },
   {
    "duration": 9,
    "start_time": "2023-08-16T11:17:52.420Z"
   },
   {
    "duration": 3,
    "start_time": "2023-08-16T11:18:19.177Z"
   },
   {
    "duration": 66,
    "start_time": "2023-08-16T11:18:19.518Z"
   },
   {
    "duration": 10,
    "start_time": "2023-08-16T11:18:19.679Z"
   },
   {
    "duration": 12,
    "start_time": "2023-08-16T11:18:20.088Z"
   },
   {
    "duration": 10,
    "start_time": "2023-08-16T11:18:20.404Z"
   },
   {
    "duration": 16,
    "start_time": "2023-08-16T11:18:20.595Z"
   },
   {
    "duration": 9,
    "start_time": "2023-08-16T11:18:20.929Z"
   },
   {
    "duration": 7,
    "start_time": "2023-08-16T11:18:21.816Z"
   },
   {
    "duration": 5,
    "start_time": "2023-08-16T11:18:21.962Z"
   },
   {
    "duration": 6,
    "start_time": "2023-08-16T11:18:22.338Z"
   },
   {
    "duration": 5,
    "start_time": "2023-08-16T11:18:22.511Z"
   },
   {
    "duration": 6,
    "start_time": "2023-08-16T11:18:22.900Z"
   },
   {
    "duration": 6,
    "start_time": "2023-08-16T11:18:23.062Z"
   },
   {
    "duration": 7,
    "start_time": "2023-08-16T11:18:23.246Z"
   },
   {
    "duration": 10,
    "start_time": "2023-08-16T11:18:23.409Z"
   },
   {
    "duration": 8,
    "start_time": "2023-08-16T11:18:24.330Z"
   },
   {
    "duration": 9,
    "start_time": "2023-08-16T11:18:24.544Z"
   },
   {
    "duration": 149,
    "start_time": "2023-08-16T11:18:24.746Z"
   },
   {
    "duration": 6,
    "start_time": "2023-08-16T11:18:25.404Z"
   },
   {
    "duration": 95,
    "start_time": "2023-08-16T11:18:25.597Z"
   },
   {
    "duration": 6,
    "start_time": "2023-08-16T11:18:26.779Z"
   },
   {
    "duration": 154,
    "start_time": "2023-08-16T11:18:27.220Z"
   },
   {
    "duration": 161,
    "start_time": "2023-08-16T11:19:00.174Z"
   },
   {
    "duration": 158,
    "start_time": "2023-08-16T11:19:05.396Z"
   },
   {
    "duration": 146,
    "start_time": "2023-08-16T11:19:10.133Z"
   },
   {
    "duration": 147,
    "start_time": "2023-08-16T11:19:16.126Z"
   },
   {
    "duration": 10,
    "start_time": "2023-08-16T11:21:19.861Z"
   },
   {
    "duration": 8,
    "start_time": "2023-08-16T11:24:53.655Z"
   },
   {
    "duration": 9,
    "start_time": "2023-08-16T11:24:55.504Z"
   },
   {
    "duration": 9,
    "start_time": "2023-08-16T11:27:16.893Z"
   },
   {
    "duration": 539,
    "start_time": "2023-08-16T11:27:36.703Z"
   },
   {
    "duration": 65,
    "start_time": "2023-08-16T11:27:37.288Z"
   },
   {
    "duration": 9,
    "start_time": "2023-08-16T11:27:37.413Z"
   },
   {
    "duration": 12,
    "start_time": "2023-08-16T11:27:37.558Z"
   },
   {
    "duration": 9,
    "start_time": "2023-08-16T11:27:37.862Z"
   },
   {
    "duration": 13,
    "start_time": "2023-08-16T11:27:38.010Z"
   },
   {
    "duration": 7,
    "start_time": "2023-08-16T11:27:38.324Z"
   },
   {
    "duration": 8,
    "start_time": "2023-08-16T11:27:38.978Z"
   },
   {
    "duration": 6,
    "start_time": "2023-08-16T11:27:39.145Z"
   },
   {
    "duration": 6,
    "start_time": "2023-08-16T11:27:39.487Z"
   },
   {
    "duration": 5,
    "start_time": "2023-08-16T11:27:39.645Z"
   },
   {
    "duration": 6,
    "start_time": "2023-08-16T11:27:40.002Z"
   },
   {
    "duration": 6,
    "start_time": "2023-08-16T11:27:40.145Z"
   },
   {
    "duration": 7,
    "start_time": "2023-08-16T11:27:40.313Z"
   },
   {
    "duration": 9,
    "start_time": "2023-08-16T11:27:40.443Z"
   },
   {
    "duration": 6,
    "start_time": "2023-08-16T11:27:41.271Z"
   },
   {
    "duration": 8,
    "start_time": "2023-08-16T11:27:41.426Z"
   },
   {
    "duration": 137,
    "start_time": "2023-08-16T11:27:41.594Z"
   },
   {
    "duration": 6,
    "start_time": "2023-08-16T11:27:42.104Z"
   },
   {
    "duration": 99,
    "start_time": "2023-08-16T11:27:42.279Z"
   },
   {
    "duration": 9,
    "start_time": "2023-08-16T11:27:42.804Z"
   },
   {
    "duration": 6,
    "start_time": "2023-08-16T11:27:42.978Z"
   },
   {
    "duration": 167,
    "start_time": "2023-08-16T11:27:43.125Z"
   },
   {
    "duration": 9,
    "start_time": "2023-08-16T11:27:43.662Z"
   },
   {
    "duration": 8,
    "start_time": "2023-08-16T11:27:43.845Z"
   },
   {
    "duration": 127,
    "start_time": "2023-08-16T11:27:44.030Z"
   },
   {
    "duration": 117,
    "start_time": "2023-08-16T11:28:00.962Z"
   },
   {
    "duration": 205,
    "start_time": "2023-08-16T11:28:08.428Z"
   },
   {
    "duration": 118,
    "start_time": "2023-08-16T11:28:21.970Z"
   },
   {
    "duration": 108,
    "start_time": "2023-08-16T11:28:34.424Z"
   },
   {
    "duration": 123,
    "start_time": "2023-08-16T11:28:41.665Z"
   },
   {
    "duration": 115,
    "start_time": "2023-08-16T11:28:51.046Z"
   },
   {
    "duration": 10,
    "start_time": "2023-08-16T11:29:40.977Z"
   },
   {
    "duration": 113,
    "start_time": "2023-08-16T11:29:42.963Z"
   },
   {
    "duration": 8,
    "start_time": "2023-08-16T11:32:35.200Z"
   },
   {
    "duration": 9,
    "start_time": "2023-08-16T11:32:52.486Z"
   },
   {
    "duration": 8,
    "start_time": "2023-08-16T11:32:59.653Z"
   },
   {
    "duration": 8,
    "start_time": "2023-08-16T11:35:03.564Z"
   },
   {
    "duration": 8,
    "start_time": "2023-08-16T11:35:04.944Z"
   },
   {
    "duration": 15,
    "start_time": "2023-08-16T11:36:56.014Z"
   },
   {
    "duration": 8,
    "start_time": "2023-08-16T11:44:10.885Z"
   },
   {
    "duration": 7,
    "start_time": "2023-08-16T11:44:15.172Z"
   },
   {
    "duration": 15,
    "start_time": "2023-08-16T11:44:28.006Z"
   },
   {
    "duration": 114,
    "start_time": "2023-08-16T11:45:25.744Z"
   },
   {
    "duration": 9,
    "start_time": "2023-08-16T11:45:53.592Z"
   },
   {
    "duration": 115,
    "start_time": "2023-08-16T11:46:35.701Z"
   },
   {
    "duration": 46,
    "start_time": "2023-08-16T11:54:28.617Z"
   },
   {
    "duration": 38,
    "start_time": "2023-08-16T11:54:52.089Z"
   },
   {
    "duration": 8,
    "start_time": "2023-08-16T11:56:36.202Z"
   },
   {
    "duration": 22,
    "start_time": "2023-08-16T11:56:42.696Z"
   },
   {
    "duration": 23,
    "start_time": "2023-08-16T11:57:21.656Z"
   },
   {
    "duration": 187,
    "start_time": "2023-08-16T11:59:27.788Z"
   },
   {
    "duration": 219,
    "start_time": "2023-08-16T11:59:35.142Z"
   },
   {
    "duration": 190,
    "start_time": "2023-08-16T11:59:44.378Z"
   },
   {
    "duration": 192,
    "start_time": "2023-08-16T11:59:48.850Z"
   },
   {
    "duration": 190,
    "start_time": "2023-08-16T12:00:15.277Z"
   },
   {
    "duration": 190,
    "start_time": "2023-08-16T12:00:23.504Z"
   },
   {
    "duration": 214,
    "start_time": "2023-08-16T12:00:34.750Z"
   },
   {
    "duration": 191,
    "start_time": "2023-08-16T12:01:12.339Z"
   },
   {
    "duration": 189,
    "start_time": "2023-08-16T12:01:24.520Z"
   },
   {
    "duration": 191,
    "start_time": "2023-08-16T12:01:42.727Z"
   },
   {
    "duration": 225,
    "start_time": "2023-08-16T12:01:59.090Z"
   },
   {
    "duration": 198,
    "start_time": "2023-08-16T12:02:14.269Z"
   },
   {
    "duration": 235,
    "start_time": "2023-08-16T12:02:19.487Z"
   },
   {
    "duration": 198,
    "start_time": "2023-08-16T12:02:30.930Z"
   },
   {
    "duration": 203,
    "start_time": "2023-08-16T12:02:40.066Z"
   },
   {
    "duration": 192,
    "start_time": "2023-08-16T12:02:49.340Z"
   },
   {
    "duration": 186,
    "start_time": "2023-08-16T12:02:57.481Z"
   },
   {
    "duration": 206,
    "start_time": "2023-08-16T12:03:09.641Z"
   },
   {
    "duration": 210,
    "start_time": "2023-08-16T12:03:42.601Z"
   },
   {
    "duration": 194,
    "start_time": "2023-08-16T12:03:47.397Z"
   },
   {
    "duration": 206,
    "start_time": "2023-08-16T12:04:23.780Z"
   },
   {
    "duration": 195,
    "start_time": "2023-08-16T12:04:28.717Z"
   },
   {
    "duration": 195,
    "start_time": "2023-08-16T12:04:51.456Z"
   },
   {
    "duration": 1247,
    "start_time": "2023-08-16T12:11:18.267Z"
   },
   {
    "duration": 70,
    "start_time": "2023-08-16T12:11:19.516Z"
   },
   {
    "duration": 13,
    "start_time": "2023-08-16T12:11:19.588Z"
   },
   {
    "duration": 12,
    "start_time": "2023-08-16T12:11:19.604Z"
   },
   {
    "duration": 24,
    "start_time": "2023-08-16T12:11:19.618Z"
   },
   {
    "duration": 21,
    "start_time": "2023-08-16T12:11:19.644Z"
   },
   {
    "duration": 15,
    "start_time": "2023-08-16T12:11:19.667Z"
   },
   {
    "duration": 27,
    "start_time": "2023-08-16T12:11:19.684Z"
   },
   {
    "duration": 12,
    "start_time": "2023-08-16T12:11:19.713Z"
   },
   {
    "duration": 14,
    "start_time": "2023-08-16T12:11:19.729Z"
   },
   {
    "duration": 5,
    "start_time": "2023-08-16T12:11:19.745Z"
   },
   {
    "duration": 21,
    "start_time": "2023-08-16T12:11:19.752Z"
   },
   {
    "duration": 16,
    "start_time": "2023-08-16T12:11:19.774Z"
   },
   {
    "duration": 60,
    "start_time": "2023-08-16T12:11:19.792Z"
   },
   {
    "duration": 36,
    "start_time": "2023-08-16T12:11:19.854Z"
   },
   {
    "duration": 10,
    "start_time": "2023-08-16T12:11:19.892Z"
   },
   {
    "duration": 24,
    "start_time": "2023-08-16T12:11:19.903Z"
   },
   {
    "duration": 165,
    "start_time": "2023-08-16T12:11:19.929Z"
   },
   {
    "duration": 6,
    "start_time": "2023-08-16T12:11:20.096Z"
   },
   {
    "duration": 128,
    "start_time": "2023-08-16T12:11:20.104Z"
   },
   {
    "duration": 9,
    "start_time": "2023-08-16T12:11:20.233Z"
   },
   {
    "duration": 24,
    "start_time": "2023-08-16T12:11:20.244Z"
   },
   {
    "duration": 178,
    "start_time": "2023-08-16T12:11:20.269Z"
   },
   {
    "duration": 7,
    "start_time": "2023-08-16T12:11:20.449Z"
   },
   {
    "duration": 8,
    "start_time": "2023-08-16T12:11:20.467Z"
   },
   {
    "duration": 19,
    "start_time": "2023-08-16T12:11:20.477Z"
   },
   {
    "duration": 137,
    "start_time": "2023-08-16T12:11:20.498Z"
   },
   {
    "duration": 9,
    "start_time": "2023-08-16T12:11:20.638Z"
   },
   {
    "duration": 27,
    "start_time": "2023-08-16T12:11:20.648Z"
   },
   {
    "duration": 32,
    "start_time": "2023-08-16T12:11:20.676Z"
   },
   {
    "duration": 8,
    "start_time": "2023-08-16T12:11:20.710Z"
   },
   {
    "duration": 107,
    "start_time": "2023-08-16T12:11:20.720Z"
   },
   {
    "duration": 48,
    "start_time": "2023-08-16T12:11:20.829Z"
   },
   {
    "duration": 24,
    "start_time": "2023-08-16T12:11:20.879Z"
   },
   {
    "duration": 19,
    "start_time": "2023-08-16T12:11:20.906Z"
   },
   {
    "duration": 217,
    "start_time": "2023-08-16T12:11:20.927Z"
   },
   {
    "duration": 199,
    "start_time": "2023-08-16T12:11:21.146Z"
   },
   {
    "duration": 196,
    "start_time": "2023-08-16T12:11:21.348Z"
   },
   {
    "duration": 283,
    "start_time": "2023-08-16T12:11:21.546Z"
   },
   {
    "duration": 933,
    "start_time": "2023-08-16T12:14:54.340Z"
   },
   {
    "duration": 14,
    "start_time": "2023-08-16T12:14:57.824Z"
   },
   {
    "duration": 985,
    "start_time": "2023-08-16T12:15:29.008Z"
   },
   {
    "duration": 13,
    "start_time": "2023-08-16T12:15:30.443Z"
   },
   {
    "duration": 936,
    "start_time": "2023-08-16T12:15:37.014Z"
   },
   {
    "duration": 18,
    "start_time": "2023-08-16T12:15:38.811Z"
   },
   {
    "duration": 954,
    "start_time": "2023-08-16T12:17:18.873Z"
   },
   {
    "duration": 1288,
    "start_time": "2023-08-16T12:17:44.070Z"
   },
   {
    "duration": 66,
    "start_time": "2023-08-16T12:17:45.361Z"
   },
   {
    "duration": 12,
    "start_time": "2023-08-16T12:17:45.429Z"
   },
   {
    "duration": 36,
    "start_time": "2023-08-16T12:17:45.443Z"
   },
   {
    "duration": 26,
    "start_time": "2023-08-16T12:17:45.482Z"
   },
   {
    "duration": 48,
    "start_time": "2023-08-16T12:17:45.510Z"
   },
   {
    "duration": 31,
    "start_time": "2023-08-16T12:17:45.560Z"
   },
   {
    "duration": 24,
    "start_time": "2023-08-16T12:17:45.592Z"
   },
   {
    "duration": 15,
    "start_time": "2023-08-16T12:17:45.618Z"
   },
   {
    "duration": 12,
    "start_time": "2023-08-16T12:17:45.635Z"
   },
   {
    "duration": 14,
    "start_time": "2023-08-16T12:17:45.649Z"
   },
   {
    "duration": 27,
    "start_time": "2023-08-16T12:17:45.665Z"
   },
   {
    "duration": 19,
    "start_time": "2023-08-16T12:17:45.694Z"
   },
   {
    "duration": 12,
    "start_time": "2023-08-16T12:17:45.716Z"
   },
   {
    "duration": 11,
    "start_time": "2023-08-16T12:17:45.730Z"
   },
   {
    "duration": 20,
    "start_time": "2023-08-16T12:17:45.742Z"
   },
   {
    "duration": 9,
    "start_time": "2023-08-16T12:17:45.764Z"
   },
   {
    "duration": 154,
    "start_time": "2023-08-16T12:17:45.774Z"
   },
   {
    "duration": 6,
    "start_time": "2023-08-16T12:17:45.930Z"
   },
   {
    "duration": 116,
    "start_time": "2023-08-16T12:17:45.938Z"
   },
   {
    "duration": 12,
    "start_time": "2023-08-16T12:17:46.056Z"
   },
   {
    "duration": 24,
    "start_time": "2023-08-16T12:17:46.069Z"
   },
   {
    "duration": 157,
    "start_time": "2023-08-16T12:17:46.094Z"
   },
   {
    "duration": 15,
    "start_time": "2023-08-16T12:17:46.253Z"
   },
   {
    "duration": 15,
    "start_time": "2023-08-16T12:17:46.269Z"
   },
   {
    "duration": 30,
    "start_time": "2023-08-16T12:17:46.286Z"
   },
   {
    "duration": 109,
    "start_time": "2023-08-16T12:17:46.318Z"
   },
   {
    "duration": 8,
    "start_time": "2023-08-16T12:17:46.429Z"
   },
   {
    "duration": 26,
    "start_time": "2023-08-16T12:17:46.439Z"
   },
   {
    "duration": 38,
    "start_time": "2023-08-16T12:17:46.466Z"
   },
   {
    "duration": 9,
    "start_time": "2023-08-16T12:17:46.506Z"
   },
   {
    "duration": 120,
    "start_time": "2023-08-16T12:17:46.517Z"
   },
   {
    "duration": 46,
    "start_time": "2023-08-16T12:17:46.639Z"
   },
   {
    "duration": 22,
    "start_time": "2023-08-16T12:17:46.687Z"
   },
   {
    "duration": 27,
    "start_time": "2023-08-16T12:17:46.711Z"
   },
   {
    "duration": 219,
    "start_time": "2023-08-16T12:17:46.740Z"
   },
   {
    "duration": 200,
    "start_time": "2023-08-16T12:17:46.961Z"
   },
   {
    "duration": 218,
    "start_time": "2023-08-16T12:17:47.166Z"
   },
   {
    "duration": 272,
    "start_time": "2023-08-16T12:17:47.387Z"
   },
   {
    "duration": 1002,
    "start_time": "2023-08-16T12:17:47.661Z"
   },
   {
    "duration": 0,
    "start_time": "2023-08-16T12:17:48.665Z"
   },
   {
    "duration": 161,
    "start_time": "2023-08-16T12:17:56.354Z"
   },
   {
    "duration": 993,
    "start_time": "2023-08-16T12:18:02.563Z"
   },
   {
    "duration": 13,
    "start_time": "2023-08-16T12:18:05.179Z"
   },
   {
    "duration": 19,
    "start_time": "2023-08-16T12:18:10.409Z"
   },
   {
    "duration": 16,
    "start_time": "2023-08-16T12:18:16.655Z"
   },
   {
    "duration": 12,
    "start_time": "2023-08-16T12:18:31.643Z"
   },
   {
    "duration": 9,
    "start_time": "2023-08-16T12:19:08.559Z"
   },
   {
    "duration": 17,
    "start_time": "2023-08-16T12:19:14.122Z"
   },
   {
    "duration": 4,
    "start_time": "2023-08-16T12:23:23.203Z"
   },
   {
    "duration": 1854,
    "start_time": "2023-08-16T12:23:24.970Z"
   },
   {
    "duration": 4,
    "start_time": "2023-08-16T12:23:39.679Z"
   },
   {
    "duration": 148,
    "start_time": "2023-08-16T12:23:41.054Z"
   },
   {
    "duration": 167,
    "start_time": "2023-08-16T12:23:58.574Z"
   },
   {
    "duration": 174,
    "start_time": "2023-08-16T12:24:14.145Z"
   },
   {
    "duration": 12,
    "start_time": "2023-08-16T12:24:26.452Z"
   },
   {
    "duration": 15,
    "start_time": "2023-08-16T12:24:32.122Z"
   },
   {
    "duration": 15,
    "start_time": "2023-08-16T12:24:53.844Z"
   },
   {
    "duration": 68,
    "start_time": "2023-08-16T12:26:56.059Z"
   },
   {
    "duration": 11,
    "start_time": "2023-08-16T12:27:07.136Z"
   },
   {
    "duration": 12,
    "start_time": "2023-08-16T12:34:22.240Z"
   },
   {
    "duration": 1248,
    "start_time": "2023-08-16T12:35:03.584Z"
   },
   {
    "duration": 77,
    "start_time": "2023-08-16T12:35:04.835Z"
   },
   {
    "duration": 12,
    "start_time": "2023-08-16T12:35:04.914Z"
   },
   {
    "duration": 35,
    "start_time": "2023-08-16T12:35:04.928Z"
   },
   {
    "duration": 26,
    "start_time": "2023-08-16T12:35:04.965Z"
   },
   {
    "duration": 25,
    "start_time": "2023-08-16T12:35:04.992Z"
   },
   {
    "duration": 20,
    "start_time": "2023-08-16T12:35:05.019Z"
   },
   {
    "duration": 22,
    "start_time": "2023-08-16T12:35:05.041Z"
   },
   {
    "duration": 31,
    "start_time": "2023-08-16T12:35:05.065Z"
   },
   {
    "duration": 41,
    "start_time": "2023-08-16T12:35:05.099Z"
   },
   {
    "duration": 11,
    "start_time": "2023-08-16T12:35:05.142Z"
   },
   {
    "duration": 37,
    "start_time": "2023-08-16T12:35:05.155Z"
   },
   {
    "duration": 7,
    "start_time": "2023-08-16T12:35:05.194Z"
   },
   {
    "duration": 11,
    "start_time": "2023-08-16T12:35:05.202Z"
   },
   {
    "duration": 36,
    "start_time": "2023-08-16T12:35:05.214Z"
   },
   {
    "duration": 15,
    "start_time": "2023-08-16T12:35:05.252Z"
   },
   {
    "duration": 14,
    "start_time": "2023-08-16T12:35:05.269Z"
   },
   {
    "duration": 163,
    "start_time": "2023-08-16T12:35:05.284Z"
   },
   {
    "duration": 6,
    "start_time": "2023-08-16T12:35:05.449Z"
   },
   {
    "duration": 100,
    "start_time": "2023-08-16T12:35:05.467Z"
   },
   {
    "duration": 9,
    "start_time": "2023-08-16T12:35:05.568Z"
   },
   {
    "duration": 7,
    "start_time": "2023-08-16T12:35:05.579Z"
   },
   {
    "duration": 181,
    "start_time": "2023-08-16T12:35:05.588Z"
   },
   {
    "duration": 8,
    "start_time": "2023-08-16T12:35:05.771Z"
   },
   {
    "duration": 23,
    "start_time": "2023-08-16T12:35:05.780Z"
   },
   {
    "duration": 32,
    "start_time": "2023-08-16T12:35:05.805Z"
   },
   {
    "duration": 114,
    "start_time": "2023-08-16T12:35:05.839Z"
   },
   {
    "duration": 11,
    "start_time": "2023-08-16T12:35:05.957Z"
   },
   {
    "duration": 50,
    "start_time": "2023-08-16T12:35:05.969Z"
   },
   {
    "duration": 36,
    "start_time": "2023-08-16T12:35:06.021Z"
   },
   {
    "duration": 51,
    "start_time": "2023-08-16T12:35:06.058Z"
   },
   {
    "duration": 130,
    "start_time": "2023-08-16T12:35:06.111Z"
   },
   {
    "duration": 43,
    "start_time": "2023-08-16T12:35:06.243Z"
   },
   {
    "duration": 22,
    "start_time": "2023-08-16T12:35:06.288Z"
   },
   {
    "duration": 19,
    "start_time": "2023-08-16T12:35:06.312Z"
   },
   {
    "duration": 213,
    "start_time": "2023-08-16T12:35:06.333Z"
   },
   {
    "duration": 209,
    "start_time": "2023-08-16T12:35:06.548Z"
   },
   {
    "duration": 186,
    "start_time": "2023-08-16T12:35:06.759Z"
   },
   {
    "duration": 280,
    "start_time": "2023-08-16T12:35:06.947Z"
   },
   {
    "duration": 893,
    "start_time": "2023-08-16T12:35:07.228Z"
   },
   {
    "duration": 13,
    "start_time": "2023-08-16T12:35:08.123Z"
   },
   {
    "duration": 25,
    "start_time": "2023-08-16T12:35:08.138Z"
   },
   {
    "duration": 169,
    "start_time": "2023-08-16T12:35:08.165Z"
   },
   {
    "duration": 15,
    "start_time": "2023-08-16T12:35:08.336Z"
   },
   {
    "duration": 32,
    "start_time": "2023-08-16T12:35:08.352Z"
   },
   {
    "duration": 9,
    "start_time": "2023-08-16T12:35:08.386Z"
   },
   {
    "duration": 7,
    "start_time": "2023-08-16T12:38:04.799Z"
   },
   {
    "duration": 7,
    "start_time": "2023-08-16T12:43:54.078Z"
   },
   {
    "duration": 11,
    "start_time": "2023-08-16T13:02:18.724Z"
   },
   {
    "duration": 1213,
    "start_time": "2023-08-16T13:15:28.087Z"
   },
   {
    "duration": 66,
    "start_time": "2023-08-16T13:15:29.302Z"
   },
   {
    "duration": 12,
    "start_time": "2023-08-16T13:15:29.370Z"
   },
   {
    "duration": 13,
    "start_time": "2023-08-16T13:15:29.384Z"
   },
   {
    "duration": 23,
    "start_time": "2023-08-16T13:15:29.399Z"
   },
   {
    "duration": 20,
    "start_time": "2023-08-16T13:15:29.423Z"
   },
   {
    "duration": 8,
    "start_time": "2023-08-16T13:15:29.445Z"
   },
   {
    "duration": 19,
    "start_time": "2023-08-16T13:15:29.455Z"
   },
   {
    "duration": 8,
    "start_time": "2023-08-16T13:15:29.476Z"
   },
   {
    "duration": 17,
    "start_time": "2023-08-16T13:15:29.488Z"
   },
   {
    "duration": 7,
    "start_time": "2023-08-16T13:15:29.507Z"
   },
   {
    "duration": 13,
    "start_time": "2023-08-16T13:15:29.516Z"
   },
   {
    "duration": 6,
    "start_time": "2023-08-16T13:15:29.532Z"
   },
   {
    "duration": 29,
    "start_time": "2023-08-16T13:15:29.541Z"
   },
   {
    "duration": 25,
    "start_time": "2023-08-16T13:15:29.572Z"
   },
   {
    "duration": 19,
    "start_time": "2023-08-16T13:15:29.599Z"
   },
   {
    "duration": 18,
    "start_time": "2023-08-16T13:15:29.619Z"
   },
   {
    "duration": 169,
    "start_time": "2023-08-16T13:15:29.638Z"
   },
   {
    "duration": 7,
    "start_time": "2023-08-16T13:15:29.809Z"
   },
   {
    "duration": 117,
    "start_time": "2023-08-16T13:15:29.817Z"
   },
   {
    "duration": 9,
    "start_time": "2023-08-16T13:15:29.937Z"
   },
   {
    "duration": 20,
    "start_time": "2023-08-16T13:15:29.948Z"
   },
   {
    "duration": 179,
    "start_time": "2023-08-16T13:15:29.970Z"
   },
   {
    "duration": 9,
    "start_time": "2023-08-16T13:15:30.151Z"
   },
   {
    "duration": 84,
    "start_time": "2023-08-16T13:15:30.168Z"
   },
   {
    "duration": 86,
    "start_time": "2023-08-16T13:15:30.254Z"
   },
   {
    "duration": 199,
    "start_time": "2023-08-16T13:15:30.342Z"
   },
   {
    "duration": 9,
    "start_time": "2023-08-16T13:15:30.544Z"
   },
   {
    "duration": 77,
    "start_time": "2023-08-16T13:15:30.554Z"
   },
   {
    "duration": 59,
    "start_time": "2023-08-16T13:15:30.633Z"
   },
   {
    "duration": 109,
    "start_time": "2023-08-16T13:15:30.694Z"
   },
   {
    "duration": 217,
    "start_time": "2023-08-16T13:15:30.806Z"
   },
   {
    "duration": 48,
    "start_time": "2023-08-16T13:15:31.025Z"
   },
   {
    "duration": 44,
    "start_time": "2023-08-16T13:15:31.075Z"
   },
   {
    "duration": 34,
    "start_time": "2023-08-16T13:15:31.120Z"
   },
   {
    "duration": 228,
    "start_time": "2023-08-16T13:15:31.157Z"
   },
   {
    "duration": 218,
    "start_time": "2023-08-16T13:15:31.388Z"
   },
   {
    "duration": 204,
    "start_time": "2023-08-16T13:15:31.609Z"
   },
   {
    "duration": 296,
    "start_time": "2023-08-16T13:15:31.815Z"
   },
   {
    "duration": 1035,
    "start_time": "2023-08-16T13:15:32.113Z"
   },
   {
    "duration": 22,
    "start_time": "2023-08-16T13:15:33.151Z"
   },
   {
    "duration": 6,
    "start_time": "2023-08-16T13:15:33.175Z"
   },
   {
    "duration": 171,
    "start_time": "2023-08-16T13:15:33.183Z"
   },
   {
    "duration": 25,
    "start_time": "2023-08-16T13:15:33.355Z"
   },
   {
    "duration": 10,
    "start_time": "2023-08-16T13:15:33.382Z"
   },
   {
    "duration": 12,
    "start_time": "2023-08-16T13:15:33.393Z"
   },
   {
    "duration": 23,
    "start_time": "2023-08-16T13:15:33.407Z"
   },
   {
    "duration": 16,
    "start_time": "2023-08-16T13:15:33.432Z"
   },
   {
    "duration": 1334,
    "start_time": "2023-08-16T13:16:49.228Z"
   },
   {
    "duration": 68,
    "start_time": "2023-08-16T13:16:50.564Z"
   },
   {
    "duration": 15,
    "start_time": "2023-08-16T13:16:50.634Z"
   },
   {
    "duration": 19,
    "start_time": "2023-08-16T13:16:50.651Z"
   },
   {
    "duration": 23,
    "start_time": "2023-08-16T13:16:50.672Z"
   },
   {
    "duration": 25,
    "start_time": "2023-08-16T13:16:50.696Z"
   },
   {
    "duration": 14,
    "start_time": "2023-08-16T13:16:50.723Z"
   },
   {
    "duration": 47,
    "start_time": "2023-08-16T13:16:50.739Z"
   },
   {
    "duration": 16,
    "start_time": "2023-08-16T13:16:50.789Z"
   },
   {
    "duration": 9,
    "start_time": "2023-08-16T13:16:50.810Z"
   },
   {
    "duration": 12,
    "start_time": "2023-08-16T13:16:50.821Z"
   },
   {
    "duration": 13,
    "start_time": "2023-08-16T13:16:50.836Z"
   },
   {
    "duration": 11,
    "start_time": "2023-08-16T13:16:50.851Z"
   },
   {
    "duration": 12,
    "start_time": "2023-08-16T13:16:50.865Z"
   },
   {
    "duration": 22,
    "start_time": "2023-08-16T13:16:50.879Z"
   },
   {
    "duration": 14,
    "start_time": "2023-08-16T13:16:50.904Z"
   },
   {
    "duration": 41,
    "start_time": "2023-08-16T13:16:50.919Z"
   },
   {
    "duration": 159,
    "start_time": "2023-08-16T13:16:50.962Z"
   },
   {
    "duration": 7,
    "start_time": "2023-08-16T13:16:51.123Z"
   },
   {
    "duration": 119,
    "start_time": "2023-08-16T13:16:51.132Z"
   },
   {
    "duration": 15,
    "start_time": "2023-08-16T13:16:51.253Z"
   },
   {
    "duration": 23,
    "start_time": "2023-08-16T13:16:51.269Z"
   },
   {
    "duration": 191,
    "start_time": "2023-08-16T13:16:51.294Z"
   },
   {
    "duration": 9,
    "start_time": "2023-08-16T13:16:51.486Z"
   },
   {
    "duration": 16,
    "start_time": "2023-08-16T13:16:51.497Z"
   },
   {
    "duration": 10,
    "start_time": "2023-08-16T13:16:51.515Z"
   },
   {
    "duration": 145,
    "start_time": "2023-08-16T13:16:51.526Z"
   },
   {
    "duration": 10,
    "start_time": "2023-08-16T13:16:51.674Z"
   },
   {
    "duration": 53,
    "start_time": "2023-08-16T13:16:51.686Z"
   },
   {
    "duration": 47,
    "start_time": "2023-08-16T13:16:51.741Z"
   },
   {
    "duration": 26,
    "start_time": "2023-08-16T13:16:51.790Z"
   },
   {
    "duration": 141,
    "start_time": "2023-08-16T13:16:51.818Z"
   },
   {
    "duration": 40,
    "start_time": "2023-08-16T13:16:51.961Z"
   },
   {
    "duration": 23,
    "start_time": "2023-08-16T13:16:52.003Z"
   },
   {
    "duration": 48,
    "start_time": "2023-08-16T13:16:52.028Z"
   },
   {
    "duration": 235,
    "start_time": "2023-08-16T13:16:52.077Z"
   },
   {
    "duration": 230,
    "start_time": "2023-08-16T13:16:52.314Z"
   },
   {
    "duration": 201,
    "start_time": "2023-08-16T13:16:52.546Z"
   },
   {
    "duration": 296,
    "start_time": "2023-08-16T13:16:52.749Z"
   },
   {
    "duration": 1032,
    "start_time": "2023-08-16T13:16:53.047Z"
   },
   {
    "duration": 21,
    "start_time": "2023-08-16T13:16:54.082Z"
   },
   {
    "duration": 19,
    "start_time": "2023-08-16T13:16:54.105Z"
   },
   {
    "duration": 194,
    "start_time": "2023-08-16T13:16:54.126Z"
   },
   {
    "duration": 21,
    "start_time": "2023-08-16T13:16:54.322Z"
   },
   {
    "duration": 27,
    "start_time": "2023-08-16T13:16:54.345Z"
   },
   {
    "duration": 6,
    "start_time": "2023-08-16T13:16:54.373Z"
   },
   {
    "duration": 12,
    "start_time": "2023-08-16T13:16:54.380Z"
   },
   {
    "duration": 22,
    "start_time": "2023-08-16T13:16:54.394Z"
   },
   {
    "duration": 1341,
    "start_time": "2023-08-16T13:21:58.641Z"
   },
   {
    "duration": 312,
    "start_time": "2023-08-16T13:21:59.985Z"
   },
   {
    "duration": 15,
    "start_time": "2023-08-16T13:22:00.299Z"
   },
   {
    "duration": 27,
    "start_time": "2023-08-16T13:22:00.316Z"
   },
   {
    "duration": 43,
    "start_time": "2023-08-16T13:22:00.346Z"
   },
   {
    "duration": 29,
    "start_time": "2023-08-16T13:22:00.391Z"
   },
   {
    "duration": 52,
    "start_time": "2023-08-16T13:22:00.422Z"
   },
   {
    "duration": 47,
    "start_time": "2023-08-16T13:22:00.476Z"
   },
   {
    "duration": 75,
    "start_time": "2023-08-16T13:22:00.525Z"
   },
   {
    "duration": 134,
    "start_time": "2023-08-16T13:22:00.601Z"
   },
   {
    "duration": 90,
    "start_time": "2023-08-16T13:22:00.737Z"
   },
   {
    "duration": 43,
    "start_time": "2023-08-16T13:22:00.829Z"
   },
   {
    "duration": 59,
    "start_time": "2023-08-16T13:22:00.873Z"
   },
   {
    "duration": 79,
    "start_time": "2023-08-16T13:22:00.935Z"
   },
   {
    "duration": 55,
    "start_time": "2023-08-16T13:22:01.016Z"
   },
   {
    "duration": 48,
    "start_time": "2023-08-16T13:22:01.072Z"
   },
   {
    "duration": 40,
    "start_time": "2023-08-16T13:22:01.122Z"
   },
   {
    "duration": 188,
    "start_time": "2023-08-16T13:22:01.164Z"
   },
   {
    "duration": 6,
    "start_time": "2023-08-16T13:22:01.353Z"
   },
   {
    "duration": 168,
    "start_time": "2023-08-16T13:22:01.360Z"
   },
   {
    "duration": 7,
    "start_time": "2023-08-16T13:22:01.529Z"
   },
   {
    "duration": 46,
    "start_time": "2023-08-16T13:22:01.538Z"
   },
   {
    "duration": 174,
    "start_time": "2023-08-16T13:22:01.587Z"
   },
   {
    "duration": 7,
    "start_time": "2023-08-16T13:22:01.762Z"
   },
   {
    "duration": 63,
    "start_time": "2023-08-16T13:22:01.775Z"
   },
   {
    "duration": 75,
    "start_time": "2023-08-16T13:22:01.840Z"
   },
   {
    "duration": 177,
    "start_time": "2023-08-16T13:22:01.916Z"
   },
   {
    "duration": 8,
    "start_time": "2023-08-16T13:22:02.095Z"
   },
   {
    "duration": 36,
    "start_time": "2023-08-16T13:22:02.105Z"
   },
   {
    "duration": 48,
    "start_time": "2023-08-16T13:22:02.143Z"
   },
   {
    "duration": 21,
    "start_time": "2023-08-16T13:22:02.193Z"
   },
   {
    "duration": 132,
    "start_time": "2023-08-16T13:22:02.215Z"
   },
   {
    "duration": 41,
    "start_time": "2023-08-16T13:22:02.349Z"
   },
   {
    "duration": 24,
    "start_time": "2023-08-16T13:22:02.392Z"
   },
   {
    "duration": 30,
    "start_time": "2023-08-16T13:22:02.418Z"
   },
   {
    "duration": 225,
    "start_time": "2023-08-16T13:22:02.450Z"
   },
   {
    "duration": 205,
    "start_time": "2023-08-16T13:22:02.677Z"
   },
   {
    "duration": 250,
    "start_time": "2023-08-16T13:22:02.884Z"
   },
   {
    "duration": 229,
    "start_time": "2023-08-16T13:22:03.136Z"
   },
   {
    "duration": 909,
    "start_time": "2023-08-16T13:22:03.367Z"
   },
   {
    "duration": 12,
    "start_time": "2023-08-16T13:22:04.279Z"
   },
   {
    "duration": 3,
    "start_time": "2023-08-16T13:22:04.294Z"
   },
   {
    "duration": 157,
    "start_time": "2023-08-16T13:22:04.299Z"
   },
   {
    "duration": 25,
    "start_time": "2023-08-16T13:22:04.458Z"
   },
   {
    "duration": 13,
    "start_time": "2023-08-16T13:22:04.486Z"
   },
   {
    "duration": 18,
    "start_time": "2023-08-16T13:22:04.500Z"
   },
   {
    "duration": 24,
    "start_time": "2023-08-16T13:22:04.519Z"
   },
   {
    "duration": 19,
    "start_time": "2023-08-16T13:22:04.545Z"
   },
   {
    "duration": 178,
    "start_time": "2023-08-16T14:30:20.492Z"
   },
   {
    "duration": 192,
    "start_time": "2023-08-16T14:30:39.465Z"
   },
   {
    "duration": 188,
    "start_time": "2023-08-16T14:30:49.684Z"
   },
   {
    "duration": 168,
    "start_time": "2023-08-16T14:30:56.263Z"
   },
   {
    "duration": 183,
    "start_time": "2023-08-16T14:31:00.787Z"
   },
   {
    "duration": 170,
    "start_time": "2023-08-16T14:31:10.475Z"
   },
   {
    "duration": 200,
    "start_time": "2023-08-16T14:31:14.667Z"
   },
   {
    "duration": 161,
    "start_time": "2023-08-16T14:31:37.746Z"
   },
   {
    "duration": 159,
    "start_time": "2023-08-16T14:32:13.443Z"
   },
   {
    "duration": 250,
    "start_time": "2023-08-16T14:32:25.763Z"
   },
   {
    "duration": 162,
    "start_time": "2023-08-16T14:32:39.489Z"
   },
   {
    "duration": 1881,
    "start_time": "2023-08-16T14:34:08.558Z"
   },
   {
    "duration": 0,
    "start_time": "2023-08-16T14:35:31.994Z"
   },
   {
    "duration": 17,
    "start_time": "2023-08-16T14:35:36.041Z"
   },
   {
    "duration": 19825,
    "start_time": "2023-08-16T14:36:00.395Z"
   },
   {
    "duration": 161,
    "start_time": "2023-08-16T14:36:52.545Z"
   },
   {
    "duration": 177,
    "start_time": "2023-08-16T14:37:14.052Z"
   },
   {
    "duration": 167,
    "start_time": "2023-08-16T14:37:32.555Z"
   },
   {
    "duration": 149,
    "start_time": "2023-08-16T14:37:46.317Z"
   },
   {
    "duration": 117,
    "start_time": "2023-08-16T14:39:04.490Z"
   },
   {
    "duration": 164,
    "start_time": "2023-08-16T14:39:07.759Z"
   },
   {
    "duration": 167,
    "start_time": "2023-08-16T14:39:12.486Z"
   },
   {
    "duration": 659,
    "start_time": "2023-08-16T14:39:19.556Z"
   },
   {
    "duration": 11,
    "start_time": "2023-08-16T14:40:21.635Z"
   },
   {
    "duration": 155,
    "start_time": "2023-08-16T14:40:31.715Z"
   },
   {
    "duration": 180,
    "start_time": "2023-08-16T14:40:42.169Z"
   },
   {
    "duration": 173,
    "start_time": "2023-08-16T14:40:48.798Z"
   },
   {
    "duration": 12,
    "start_time": "2023-08-16T14:42:41.106Z"
   },
   {
    "duration": 15,
    "start_time": "2023-08-16T14:45:11.092Z"
   },
   {
    "duration": 5,
    "start_time": "2023-08-16T14:47:23.294Z"
   },
   {
    "duration": 5,
    "start_time": "2023-08-16T14:47:47.073Z"
   },
   {
    "duration": 1366,
    "start_time": "2023-08-16T14:51:09.554Z"
   },
   {
    "duration": 70,
    "start_time": "2023-08-16T14:51:10.923Z"
   },
   {
    "duration": 15,
    "start_time": "2023-08-16T14:51:10.996Z"
   },
   {
    "duration": 20,
    "start_time": "2023-08-16T14:51:11.014Z"
   },
   {
    "duration": 13,
    "start_time": "2023-08-16T14:51:11.036Z"
   },
   {
    "duration": 25,
    "start_time": "2023-08-16T14:51:11.051Z"
   },
   {
    "duration": 9,
    "start_time": "2023-08-16T14:51:11.078Z"
   },
   {
    "duration": 47,
    "start_time": "2023-08-16T14:51:11.089Z"
   },
   {
    "duration": 12,
    "start_time": "2023-08-16T14:51:11.138Z"
   },
   {
    "duration": 16,
    "start_time": "2023-08-16T14:51:11.153Z"
   },
   {
    "duration": 7,
    "start_time": "2023-08-16T14:51:11.170Z"
   },
   {
    "duration": 13,
    "start_time": "2023-08-16T14:51:11.180Z"
   },
   {
    "duration": 18,
    "start_time": "2023-08-16T14:51:11.196Z"
   },
   {
    "duration": 26,
    "start_time": "2023-08-16T14:51:11.218Z"
   },
   {
    "duration": 29,
    "start_time": "2023-08-16T14:51:11.247Z"
   },
   {
    "duration": 8,
    "start_time": "2023-08-16T14:51:11.278Z"
   },
   {
    "duration": 23,
    "start_time": "2023-08-16T14:51:11.288Z"
   },
   {
    "duration": 199,
    "start_time": "2023-08-16T14:51:11.313Z"
   },
   {
    "duration": 195,
    "start_time": "2023-08-16T14:51:11.514Z"
   },
   {
    "duration": 8,
    "start_time": "2023-08-16T14:51:11.712Z"
   },
   {
    "duration": 119,
    "start_time": "2023-08-16T14:51:11.722Z"
   },
   {
    "duration": 26,
    "start_time": "2023-08-16T14:51:11.843Z"
   },
   {
    "duration": 36,
    "start_time": "2023-08-16T14:51:11.871Z"
   },
   {
    "duration": 212,
    "start_time": "2023-08-16T14:51:11.909Z"
   },
   {
    "duration": 10,
    "start_time": "2023-08-16T14:51:12.123Z"
   },
   {
    "duration": 73,
    "start_time": "2023-08-16T14:51:12.135Z"
   },
   {
    "duration": 57,
    "start_time": "2023-08-16T14:51:12.210Z"
   },
   {
    "duration": 163,
    "start_time": "2023-08-16T14:51:12.273Z"
   },
   {
    "duration": 10,
    "start_time": "2023-08-16T14:51:12.437Z"
   },
   {
    "duration": 46,
    "start_time": "2023-08-16T14:51:12.449Z"
   },
   {
    "duration": 38,
    "start_time": "2023-08-16T14:51:12.497Z"
   },
   {
    "duration": 30,
    "start_time": "2023-08-16T14:51:12.537Z"
   },
   {
    "duration": 157,
    "start_time": "2023-08-16T14:51:12.569Z"
   },
   {
    "duration": 43,
    "start_time": "2023-08-16T14:51:12.729Z"
   },
   {
    "duration": 27,
    "start_time": "2023-08-16T14:51:12.775Z"
   },
   {
    "duration": 18,
    "start_time": "2023-08-16T14:51:12.804Z"
   },
   {
    "duration": 49,
    "start_time": "2023-08-16T14:51:12.824Z"
   },
   {
    "duration": 27,
    "start_time": "2023-08-16T14:51:12.876Z"
   },
   {
    "duration": 269,
    "start_time": "2023-08-16T14:51:12.905Z"
   },
   {
    "duration": 254,
    "start_time": "2023-08-16T14:51:13.177Z"
   },
   {
    "duration": 333,
    "start_time": "2023-08-16T14:51:13.434Z"
   },
   {
    "duration": 269,
    "start_time": "2023-08-16T14:51:13.770Z"
   },
   {
    "duration": 1161,
    "start_time": "2023-08-16T14:51:14.042Z"
   },
   {
    "duration": 15,
    "start_time": "2023-08-16T14:51:15.206Z"
   },
   {
    "duration": 3,
    "start_time": "2023-08-16T14:51:15.223Z"
   },
   {
    "duration": 193,
    "start_time": "2023-08-16T14:51:15.228Z"
   },
   {
    "duration": 18,
    "start_time": "2023-08-16T14:51:15.423Z"
   },
   {
    "duration": 36,
    "start_time": "2023-08-16T14:51:15.442Z"
   },
   {
    "duration": 51,
    "start_time": "2023-08-16T14:51:15.481Z"
   },
   {
    "duration": 13,
    "start_time": "2023-08-16T14:51:15.535Z"
   },
   {
    "duration": 21,
    "start_time": "2023-08-16T14:51:15.550Z"
   },
   {
    "duration": 1321,
    "start_time": "2023-08-16T19:18:34.612Z"
   },
   {
    "duration": 91,
    "start_time": "2023-08-16T19:18:35.935Z"
   },
   {
    "duration": 13,
    "start_time": "2023-08-16T19:18:36.027Z"
   },
   {
    "duration": 23,
    "start_time": "2023-08-16T19:18:36.042Z"
   },
   {
    "duration": 38,
    "start_time": "2023-08-16T19:18:36.068Z"
   },
   {
    "duration": 19,
    "start_time": "2023-08-16T19:18:36.109Z"
   },
   {
    "duration": 8,
    "start_time": "2023-08-16T19:18:36.129Z"
   },
   {
    "duration": 14,
    "start_time": "2023-08-16T19:18:36.138Z"
   },
   {
    "duration": 11,
    "start_time": "2023-08-16T19:18:36.154Z"
   },
   {
    "duration": 30,
    "start_time": "2023-08-16T19:18:36.169Z"
   },
   {
    "duration": 16,
    "start_time": "2023-08-16T19:18:36.201Z"
   },
   {
    "duration": 7,
    "start_time": "2023-08-16T19:18:36.218Z"
   },
   {
    "duration": 5,
    "start_time": "2023-08-16T19:18:36.226Z"
   },
   {
    "duration": 6,
    "start_time": "2023-08-16T19:18:36.234Z"
   },
   {
    "duration": 8,
    "start_time": "2023-08-16T19:18:36.241Z"
   },
   {
    "duration": 5,
    "start_time": "2023-08-16T19:18:36.251Z"
   },
   {
    "duration": 28,
    "start_time": "2023-08-16T19:18:36.258Z"
   },
   {
    "duration": 191,
    "start_time": "2023-08-16T19:18:36.287Z"
   },
   {
    "duration": 189,
    "start_time": "2023-08-16T19:18:36.485Z"
   },
   {
    "duration": 15,
    "start_time": "2023-08-16T19:18:36.684Z"
   },
   {
    "duration": 106,
    "start_time": "2023-08-16T19:18:36.709Z"
   },
   {
    "duration": 10,
    "start_time": "2023-08-16T19:18:36.817Z"
   },
   {
    "duration": 10,
    "start_time": "2023-08-16T19:18:36.829Z"
   },
   {
    "duration": 188,
    "start_time": "2023-08-16T19:18:36.841Z"
   },
   {
    "duration": 8,
    "start_time": "2023-08-16T19:18:37.031Z"
   },
   {
    "duration": 10,
    "start_time": "2023-08-16T19:18:37.041Z"
   },
   {
    "duration": 14,
    "start_time": "2023-08-16T19:18:37.070Z"
   },
   {
    "duration": 135,
    "start_time": "2023-08-16T19:18:37.085Z"
   },
   {
    "duration": 8,
    "start_time": "2023-08-16T19:18:37.221Z"
   },
   {
    "duration": 11,
    "start_time": "2023-08-16T19:18:37.231Z"
   },
   {
    "duration": 59,
    "start_time": "2023-08-16T19:18:37.244Z"
   },
   {
    "duration": 13,
    "start_time": "2023-08-16T19:18:37.311Z"
   },
   {
    "duration": 129,
    "start_time": "2023-08-16T19:18:37.327Z"
   },
   {
    "duration": 56,
    "start_time": "2023-08-16T19:18:37.457Z"
   },
   {
    "duration": 11,
    "start_time": "2023-08-16T19:18:37.514Z"
   },
   {
    "duration": 15,
    "start_time": "2023-08-16T19:18:37.526Z"
   },
   {
    "duration": 61,
    "start_time": "2023-08-16T19:18:37.542Z"
   },
   {
    "duration": 21,
    "start_time": "2023-08-16T19:18:37.605Z"
   },
   {
    "duration": 222,
    "start_time": "2023-08-16T19:18:37.628Z"
   },
   {
    "duration": 239,
    "start_time": "2023-08-16T19:18:37.852Z"
   },
   {
    "duration": 288,
    "start_time": "2023-08-16T19:18:38.097Z"
   },
   {
    "duration": 210,
    "start_time": "2023-08-16T19:18:38.393Z"
   },
   {
    "duration": 1022,
    "start_time": "2023-08-16T19:18:38.605Z"
   },
   {
    "duration": 11,
    "start_time": "2023-08-16T19:18:39.629Z"
   },
   {
    "duration": 4,
    "start_time": "2023-08-16T19:18:39.642Z"
   },
   {
    "duration": 210,
    "start_time": "2023-08-16T19:18:39.647Z"
   },
   {
    "duration": 24,
    "start_time": "2023-08-16T19:18:39.859Z"
   },
   {
    "duration": 17,
    "start_time": "2023-08-16T19:18:39.890Z"
   },
   {
    "duration": 7,
    "start_time": "2023-08-16T19:18:39.909Z"
   },
   {
    "duration": 9,
    "start_time": "2023-08-16T19:18:39.917Z"
   },
   {
    "duration": 12,
    "start_time": "2023-08-16T19:18:39.928Z"
   }
  ],
  "kernelspec": {
   "display_name": "Python 3 (ipykernel)",
   "language": "python",
   "name": "python3"
  },
  "language_info": {
   "codemirror_mode": {
    "name": "ipython",
    "version": 3
   },
   "file_extension": ".py",
   "mimetype": "text/x-python",
   "name": "python",
   "nbconvert_exporter": "python",
   "pygments_lexer": "ipython3",
   "version": "3.9.5"
  },
  "toc": {
   "base_numbering": 1,
   "nav_menu": {
    "height": "507px",
    "width": "483px"
   },
   "number_sections": true,
   "sideBar": true,
   "skip_h1_title": true,
   "title_cell": "Table of Contents",
   "title_sidebar": "Contents",
   "toc_cell": false,
   "toc_position": {},
   "toc_section_display": true,
   "toc_window_display": false
  }
 },
 "nbformat": 4,
 "nbformat_minor": 5
}
