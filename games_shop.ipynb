{
 "cells": [
  {
   "cell_type": "markdown",
   "metadata": {},
   "source": [
    "# Анализ интернет-магазина игр"
   ]
  },
  {
   "cell_type": "markdown",
   "metadata": {},
   "source": [
    "**Описание проекта**\n",
    "  \n",
    "Вы работаете в интернет-магазине «Стримчик», который продаёт по всему миру компьютерные игры. Из открытых источников доступны исторические данные о продажах игр, оценки пользователей и экспертов, жанры и платформы (например, Xbox или PlayStation). Вам нужно выявить определяющие успешность игры закономерности. Это позволит сделать ставку на потенциально популярный продукт и спланировать рекламные кампании.\n",
    "  \n",
    "**Описание данных:**\n",
    "  \n",
    "- `Name` — название игры\n",
    "- `Platform` — платформа\n",
    "- `Year_of_Release` — год выпуска\n",
    "- `Genre` — жанр игры\n",
    "- `NA_sales` — продажи в Северной Америке (миллионы проданных копий)\n",
    "- `EU_sales` — продажи в Европе (миллионы проданных копий)\n",
    "- `JP_sales` — продажи в Японии (миллионы проданных копий)\n",
    "- `Other_sales` — продажи в других странах (миллионы проданных копий)\n",
    "- `Critic_Score` — оценка критиков (максимум 100)\n",
    "- `User_Score` — оценка пользователей (максимум 10)\n",
    "- `Rating` — рейтинг от организации ESRB (англ. Entertainment Software Rating Board). Эта ассоциация определяет рейтинг компьютерных игр и присваивает им подходящую возрастную категорию."
   ]
  },
  {
   "cell_type": "markdown",
   "metadata": {},
   "source": [
    "### Распаковка файлов, загрузка пакетов"
   ]
  },
  {
   "cell_type": "code",
   "execution_count": 1,
   "metadata": {},
   "outputs": [],
   "source": [
    "import pandas as pd\n",
    "import numpy as np\n",
    "import matplotlib.pyplot as plt\n",
    "import seaborn as sns\n",
    "from scipy import stats as st"
   ]
  },
  {
   "cell_type": "code",
   "execution_count": 2,
   "metadata": {},
   "outputs": [
    {
     "data": {
      "text/html": [
       "<div>\n",
       "<style scoped>\n",
       "    .dataframe tbody tr th:only-of-type {\n",
       "        vertical-align: middle;\n",
       "    }\n",
       "\n",
       "    .dataframe tbody tr th {\n",
       "        vertical-align: top;\n",
       "    }\n",
       "\n",
       "    .dataframe thead th {\n",
       "        text-align: right;\n",
       "    }\n",
       "</style>\n",
       "<table border=\"1\" class=\"dataframe\">\n",
       "  <thead>\n",
       "    <tr style=\"text-align: right;\">\n",
       "      <th></th>\n",
       "      <th>Name</th>\n",
       "      <th>Platform</th>\n",
       "      <th>Year_of_Release</th>\n",
       "      <th>Genre</th>\n",
       "      <th>NA_sales</th>\n",
       "      <th>EU_sales</th>\n",
       "      <th>JP_sales</th>\n",
       "      <th>Other_sales</th>\n",
       "      <th>Critic_Score</th>\n",
       "      <th>User_Score</th>\n",
       "      <th>Rating</th>\n",
       "    </tr>\n",
       "  </thead>\n",
       "  <tbody>\n",
       "    <tr>\n",
       "      <th>0</th>\n",
       "      <td>Wii Sports</td>\n",
       "      <td>Wii</td>\n",
       "      <td>2006.0</td>\n",
       "      <td>Sports</td>\n",
       "      <td>41.36</td>\n",
       "      <td>28.96</td>\n",
       "      <td>3.77</td>\n",
       "      <td>8.45</td>\n",
       "      <td>76.0</td>\n",
       "      <td>8</td>\n",
       "      <td>E</td>\n",
       "    </tr>\n",
       "    <tr>\n",
       "      <th>1</th>\n",
       "      <td>Super Mario Bros.</td>\n",
       "      <td>NES</td>\n",
       "      <td>1985.0</td>\n",
       "      <td>Platform</td>\n",
       "      <td>29.08</td>\n",
       "      <td>3.58</td>\n",
       "      <td>6.81</td>\n",
       "      <td>0.77</td>\n",
       "      <td>NaN</td>\n",
       "      <td>NaN</td>\n",
       "      <td>NaN</td>\n",
       "    </tr>\n",
       "    <tr>\n",
       "      <th>2</th>\n",
       "      <td>Mario Kart Wii</td>\n",
       "      <td>Wii</td>\n",
       "      <td>2008.0</td>\n",
       "      <td>Racing</td>\n",
       "      <td>15.68</td>\n",
       "      <td>12.76</td>\n",
       "      <td>3.79</td>\n",
       "      <td>3.29</td>\n",
       "      <td>82.0</td>\n",
       "      <td>8.3</td>\n",
       "      <td>E</td>\n",
       "    </tr>\n",
       "    <tr>\n",
       "      <th>3</th>\n",
       "      <td>Wii Sports Resort</td>\n",
       "      <td>Wii</td>\n",
       "      <td>2009.0</td>\n",
       "      <td>Sports</td>\n",
       "      <td>15.61</td>\n",
       "      <td>10.93</td>\n",
       "      <td>3.28</td>\n",
       "      <td>2.95</td>\n",
       "      <td>80.0</td>\n",
       "      <td>8</td>\n",
       "      <td>E</td>\n",
       "    </tr>\n",
       "    <tr>\n",
       "      <th>4</th>\n",
       "      <td>Pokemon Red/Pokemon Blue</td>\n",
       "      <td>GB</td>\n",
       "      <td>1996.0</td>\n",
       "      <td>Role-Playing</td>\n",
       "      <td>11.27</td>\n",
       "      <td>8.89</td>\n",
       "      <td>10.22</td>\n",
       "      <td>1.00</td>\n",
       "      <td>NaN</td>\n",
       "      <td>NaN</td>\n",
       "      <td>NaN</td>\n",
       "    </tr>\n",
       "    <tr>\n",
       "      <th>...</th>\n",
       "      <td>...</td>\n",
       "      <td>...</td>\n",
       "      <td>...</td>\n",
       "      <td>...</td>\n",
       "      <td>...</td>\n",
       "      <td>...</td>\n",
       "      <td>...</td>\n",
       "      <td>...</td>\n",
       "      <td>...</td>\n",
       "      <td>...</td>\n",
       "      <td>...</td>\n",
       "    </tr>\n",
       "    <tr>\n",
       "      <th>16710</th>\n",
       "      <td>Samurai Warriors: Sanada Maru</td>\n",
       "      <td>PS3</td>\n",
       "      <td>2016.0</td>\n",
       "      <td>Action</td>\n",
       "      <td>0.00</td>\n",
       "      <td>0.00</td>\n",
       "      <td>0.01</td>\n",
       "      <td>0.00</td>\n",
       "      <td>NaN</td>\n",
       "      <td>NaN</td>\n",
       "      <td>NaN</td>\n",
       "    </tr>\n",
       "    <tr>\n",
       "      <th>16711</th>\n",
       "      <td>LMA Manager 2007</td>\n",
       "      <td>X360</td>\n",
       "      <td>2006.0</td>\n",
       "      <td>Sports</td>\n",
       "      <td>0.00</td>\n",
       "      <td>0.01</td>\n",
       "      <td>0.00</td>\n",
       "      <td>0.00</td>\n",
       "      <td>NaN</td>\n",
       "      <td>NaN</td>\n",
       "      <td>NaN</td>\n",
       "    </tr>\n",
       "    <tr>\n",
       "      <th>16712</th>\n",
       "      <td>Haitaka no Psychedelica</td>\n",
       "      <td>PSV</td>\n",
       "      <td>2016.0</td>\n",
       "      <td>Adventure</td>\n",
       "      <td>0.00</td>\n",
       "      <td>0.00</td>\n",
       "      <td>0.01</td>\n",
       "      <td>0.00</td>\n",
       "      <td>NaN</td>\n",
       "      <td>NaN</td>\n",
       "      <td>NaN</td>\n",
       "    </tr>\n",
       "    <tr>\n",
       "      <th>16713</th>\n",
       "      <td>Spirits &amp; Spells</td>\n",
       "      <td>GBA</td>\n",
       "      <td>2003.0</td>\n",
       "      <td>Platform</td>\n",
       "      <td>0.01</td>\n",
       "      <td>0.00</td>\n",
       "      <td>0.00</td>\n",
       "      <td>0.00</td>\n",
       "      <td>NaN</td>\n",
       "      <td>NaN</td>\n",
       "      <td>NaN</td>\n",
       "    </tr>\n",
       "    <tr>\n",
       "      <th>16714</th>\n",
       "      <td>Winning Post 8 2016</td>\n",
       "      <td>PSV</td>\n",
       "      <td>2016.0</td>\n",
       "      <td>Simulation</td>\n",
       "      <td>0.00</td>\n",
       "      <td>0.00</td>\n",
       "      <td>0.01</td>\n",
       "      <td>0.00</td>\n",
       "      <td>NaN</td>\n",
       "      <td>NaN</td>\n",
       "      <td>NaN</td>\n",
       "    </tr>\n",
       "  </tbody>\n",
       "</table>\n",
       "<p>16715 rows × 11 columns</p>\n",
       "</div>"
      ],
      "text/plain": [
       "                                Name Platform  Year_of_Release         Genre  \\\n",
       "0                         Wii Sports      Wii           2006.0        Sports   \n",
       "1                  Super Mario Bros.      NES           1985.0      Platform   \n",
       "2                     Mario Kart Wii      Wii           2008.0        Racing   \n",
       "3                  Wii Sports Resort      Wii           2009.0        Sports   \n",
       "4           Pokemon Red/Pokemon Blue       GB           1996.0  Role-Playing   \n",
       "...                              ...      ...              ...           ...   \n",
       "16710  Samurai Warriors: Sanada Maru      PS3           2016.0        Action   \n",
       "16711               LMA Manager 2007     X360           2006.0        Sports   \n",
       "16712        Haitaka no Psychedelica      PSV           2016.0     Adventure   \n",
       "16713               Spirits & Spells      GBA           2003.0      Platform   \n",
       "16714            Winning Post 8 2016      PSV           2016.0    Simulation   \n",
       "\n",
       "       NA_sales  EU_sales  JP_sales  Other_sales  Critic_Score User_Score  \\\n",
       "0         41.36     28.96      3.77         8.45          76.0          8   \n",
       "1         29.08      3.58      6.81         0.77           NaN        NaN   \n",
       "2         15.68     12.76      3.79         3.29          82.0        8.3   \n",
       "3         15.61     10.93      3.28         2.95          80.0          8   \n",
       "4         11.27      8.89     10.22         1.00           NaN        NaN   \n",
       "...         ...       ...       ...          ...           ...        ...   \n",
       "16710      0.00      0.00      0.01         0.00           NaN        NaN   \n",
       "16711      0.00      0.01      0.00         0.00           NaN        NaN   \n",
       "16712      0.00      0.00      0.01         0.00           NaN        NaN   \n",
       "16713      0.01      0.00      0.00         0.00           NaN        NaN   \n",
       "16714      0.00      0.00      0.01         0.00           NaN        NaN   \n",
       "\n",
       "      Rating  \n",
       "0          E  \n",
       "1        NaN  \n",
       "2          E  \n",
       "3          E  \n",
       "4        NaN  \n",
       "...      ...  \n",
       "16710    NaN  \n",
       "16711    NaN  \n",
       "16712    NaN  \n",
       "16713    NaN  \n",
       "16714    NaN  \n",
       "\n",
       "[16715 rows x 11 columns]"
      ]
     },
     "execution_count": 2,
     "metadata": {},
     "output_type": "execute_result"
    }
   ],
   "source": [
    "df = pd.read_csv('/datasets/games.csv')\n",
    "df"
   ]
  },
  {
   "cell_type": "code",
   "execution_count": 3,
   "metadata": {},
   "outputs": [
    {
     "name": "stdout",
     "output_type": "stream",
     "text": [
      "<class 'pandas.core.frame.DataFrame'>\n",
      "RangeIndex: 16715 entries, 0 to 16714\n",
      "Data columns (total 11 columns):\n",
      " #   Column           Non-Null Count  Dtype  \n",
      "---  ------           --------------  -----  \n",
      " 0   Name             16713 non-null  object \n",
      " 1   Platform         16715 non-null  object \n",
      " 2   Year_of_Release  16446 non-null  float64\n",
      " 3   Genre            16713 non-null  object \n",
      " 4   NA_sales         16715 non-null  float64\n",
      " 5   EU_sales         16715 non-null  float64\n",
      " 6   JP_sales         16715 non-null  float64\n",
      " 7   Other_sales      16715 non-null  float64\n",
      " 8   Critic_Score     8137 non-null   float64\n",
      " 9   User_Score       10014 non-null  object \n",
      " 10  Rating           9949 non-null   object \n",
      "dtypes: float64(6), object(5)\n",
      "memory usage: 1.4+ MB\n"
     ]
    }
   ],
   "source": [
    "df.info()"
   ]
  },
  {
   "cell_type": "markdown",
   "metadata": {},
   "source": [
    "Всего в датасете 11 колонок и 16715 строк. Пропуски есть в 6 столбцах. "
   ]
  },
  {
   "cell_type": "markdown",
   "metadata": {},
   "source": [
    "### Подготовка данных"
   ]
  },
  {
   "cell_type": "code",
   "execution_count": 4,
   "metadata": {},
   "outputs": [
    {
     "data": {
      "text/plain": [
       "Index(['Name', 'Platform', 'Year_of_Release', 'Genre', 'NA_sales', 'EU_sales',\n",
       "       'JP_sales', 'Other_sales', 'Critic_Score', 'User_Score', 'Rating'],\n",
       "      dtype='object')"
      ]
     },
     "execution_count": 4,
     "metadata": {},
     "output_type": "execute_result"
    }
   ],
   "source": [
    "#приведём названия столбцов к нижнему регистру\n",
    "df.columns"
   ]
  },
  {
   "cell_type": "code",
   "execution_count": 5,
   "metadata": {},
   "outputs": [
    {
     "data": {
      "text/plain": [
       "Index(['name', 'platform', 'year_of_release', 'genre', 'na_sales', 'eu_sales',\n",
       "       'jp_sales', 'other_sales', 'critic_score', 'user_score', 'rating'],\n",
       "      dtype='object')"
      ]
     },
     "execution_count": 5,
     "metadata": {},
     "output_type": "execute_result"
    }
   ],
   "source": [
    "df.columns = df.columns.str.lower()\n",
    "df.columns"
   ]
  },
  {
   "cell_type": "markdown",
   "metadata": {},
   "source": [
    "Нам нужно поменять типы данных в трёх переменных: `year_of_release`, `critic_score`, `user_score`. Год релиза не может быть вещественным числом. Оценки пользователей b оценки критиков стоит преобразовать в вещественные числа."
   ]
  },
  {
   "cell_type": "code",
   "execution_count": 6,
   "metadata": {},
   "outputs": [
    {
     "data": {
      "text/plain": [
       "array([2006., 1985., 2008., 2009., 1996., 1989., 1984., 2005., 1999.,\n",
       "       2007., 2010., 2013., 2004., 1990., 1988., 2002., 2001., 2011.,\n",
       "       1998., 2015., 2012., 2014., 1992., 1997., 1993., 1994., 1982.,\n",
       "       2016., 2003., 1986., 2000.,   nan, 1995., 1991., 1981., 1987.,\n",
       "       1980., 1983.])"
      ]
     },
     "execution_count": 6,
     "metadata": {},
     "output_type": "execute_result"
    }
   ],
   "source": [
    "df['year_of_release'].unique()"
   ]
  },
  {
   "cell_type": "code",
   "execution_count": 7,
   "metadata": {},
   "outputs": [
    {
     "data": {
      "text/plain": [
       "array([76., nan, 82., 80., 89., 58., 87., 91., 61., 97., 95., 77., 88.,\n",
       "       83., 94., 93., 85., 86., 98., 96., 90., 84., 73., 74., 78., 92.,\n",
       "       71., 72., 68., 62., 49., 67., 81., 66., 56., 79., 70., 59., 64.,\n",
       "       75., 60., 63., 69., 50., 25., 42., 44., 55., 48., 57., 29., 47.,\n",
       "       65., 54., 20., 53., 37., 38., 33., 52., 30., 32., 43., 45., 51.,\n",
       "       40., 46., 39., 34., 35., 41., 36., 28., 31., 27., 26., 19., 23.,\n",
       "       24., 21., 17., 22., 13.])"
      ]
     },
     "execution_count": 7,
     "metadata": {},
     "output_type": "execute_result"
    }
   ],
   "source": [
    "df['critic_score'].unique()"
   ]
  },
  {
   "cell_type": "code",
   "execution_count": 8,
   "metadata": {},
   "outputs": [
    {
     "data": {
      "text/plain": [
       "array(['8', nan, '8.3', '8.5', '6.6', '8.4', '8.6', '7.7', '6.3', '7.4',\n",
       "       '8.2', '9', '7.9', '8.1', '8.7', '7.1', '3.4', '5.3', '4.8', '3.2',\n",
       "       '8.9', '6.4', '7.8', '7.5', '2.6', '7.2', '9.2', '7', '7.3', '4.3',\n",
       "       '7.6', '5.7', '5', '9.1', '6.5', 'tbd', '8.8', '6.9', '9.4', '6.8',\n",
       "       '6.1', '6.7', '5.4', '4', '4.9', '4.5', '9.3', '6.2', '4.2', '6',\n",
       "       '3.7', '4.1', '5.8', '5.6', '5.5', '4.4', '4.6', '5.9', '3.9',\n",
       "       '3.1', '2.9', '5.2', '3.3', '4.7', '5.1', '3.5', '2.5', '1.9', '3',\n",
       "       '2.7', '2.2', '2', '9.5', '2.1', '3.6', '2.8', '1.8', '3.8', '0',\n",
       "       '1.6', '9.6', '2.4', '1.7', '1.1', '0.3', '1.5', '0.7', '1.2',\n",
       "       '2.3', '0.5', '1.3', '0.2', '0.6', '1.4', '0.9', '1', '9.7'],\n",
       "      dtype=object)"
      ]
     },
     "execution_count": 8,
     "metadata": {},
     "output_type": "execute_result"
    }
   ],
   "source": [
    "df['user_score'].unique()"
   ]
  },
  {
   "cell_type": "markdown",
   "metadata": {},
   "source": [
    "Из рассматриваемых столбцов в одном из нашлось строковое значение - tbd. Данная аббревиатура расшифровывается как to be determined (\"будет определено\"). Можем эти значения заменить на NaN."
   ]
  },
  {
   "cell_type": "code",
   "execution_count": 9,
   "metadata": {},
   "outputs": [
    {
     "data": {
      "text/plain": [
       "array(['8', nan, '8.3', '8.5', '6.6', '8.4', '8.6', '7.7', '6.3', '7.4',\n",
       "       '8.2', '9', '7.9', '8.1', '8.7', '7.1', '3.4', '5.3', '4.8', '3.2',\n",
       "       '8.9', '6.4', '7.8', '7.5', '2.6', '7.2', '9.2', '7', '7.3', '4.3',\n",
       "       '7.6', '5.7', '5', '9.1', '6.5', '8.8', '6.9', '9.4', '6.8', '6.1',\n",
       "       '6.7', '5.4', '4', '4.9', '4.5', '9.3', '6.2', '4.2', '6', '3.7',\n",
       "       '4.1', '5.8', '5.6', '5.5', '4.4', '4.6', '5.9', '3.9', '3.1',\n",
       "       '2.9', '5.2', '3.3', '4.7', '5.1', '3.5', '2.5', '1.9', '3', '2.7',\n",
       "       '2.2', '2', '9.5', '2.1', '3.6', '2.8', '1.8', '3.8', '0', '1.6',\n",
       "       '9.6', '2.4', '1.7', '1.1', '0.3', '1.5', '0.7', '1.2', '2.3',\n",
       "       '0.5', '1.3', '0.2', '0.6', '1.4', '0.9', '1', '9.7'], dtype=object)"
      ]
     },
     "execution_count": 9,
     "metadata": {},
     "output_type": "execute_result"
    }
   ],
   "source": [
    "df.loc[df['user_score'] == 'tbd', 'user_score'] = np.nan\n",
    "df['user_score'].unique()"
   ]
  },
  {
   "cell_type": "markdown",
   "metadata": {},
   "source": [
    "Теперь можем поменять типы данных."
   ]
  },
  {
   "cell_type": "code",
   "execution_count": 10,
   "metadata": {},
   "outputs": [
    {
     "name": "stdout",
     "output_type": "stream",
     "text": [
      "<class 'pandas.core.frame.DataFrame'>\n",
      "RangeIndex: 16715 entries, 0 to 16714\n",
      "Data columns (total 11 columns):\n",
      " #   Column           Non-Null Count  Dtype  \n",
      "---  ------           --------------  -----  \n",
      " 0   name             16713 non-null  object \n",
      " 1   platform         16715 non-null  object \n",
      " 2   year_of_release  16446 non-null  Int64  \n",
      " 3   genre            16713 non-null  object \n",
      " 4   na_sales         16715 non-null  float64\n",
      " 5   eu_sales         16715 non-null  float64\n",
      " 6   jp_sales         16715 non-null  float64\n",
      " 7   other_sales      16715 non-null  float64\n",
      " 8   critic_score     8137 non-null   float64\n",
      " 9   user_score       7590 non-null   float64\n",
      " 10  rating           9949 non-null   object \n",
      "dtypes: Int64(1), float64(6), object(4)\n",
      "memory usage: 1.4+ MB\n"
     ]
    }
   ],
   "source": [
    "df['year_of_release'] = df['year_of_release'].astype('Int64')\n",
    "df[['user_score', 'critic_score']] = df[['user_score', 'critic_score']].astype('float')\n",
    "df.info()"
   ]
  },
  {
   "cell_type": "code",
   "execution_count": 11,
   "metadata": {},
   "outputs": [
    {
     "data": {
      "text/html": [
       "<div>\n",
       "<style scoped>\n",
       "    .dataframe tbody tr th:only-of-type {\n",
       "        vertical-align: middle;\n",
       "    }\n",
       "\n",
       "    .dataframe tbody tr th {\n",
       "        vertical-align: top;\n",
       "    }\n",
       "\n",
       "    .dataframe thead th {\n",
       "        text-align: right;\n",
       "    }\n",
       "</style>\n",
       "<table border=\"1\" class=\"dataframe\">\n",
       "  <thead>\n",
       "    <tr style=\"text-align: right;\">\n",
       "      <th></th>\n",
       "      <th>name</th>\n",
       "      <th>platform</th>\n",
       "      <th>year_of_release</th>\n",
       "      <th>genre</th>\n",
       "      <th>na_sales</th>\n",
       "      <th>eu_sales</th>\n",
       "      <th>jp_sales</th>\n",
       "      <th>other_sales</th>\n",
       "      <th>critic_score</th>\n",
       "      <th>user_score</th>\n",
       "      <th>rating</th>\n",
       "    </tr>\n",
       "  </thead>\n",
       "  <tbody>\n",
       "    <tr>\n",
       "      <th>659</th>\n",
       "      <td>NaN</td>\n",
       "      <td>GEN</td>\n",
       "      <td>1993</td>\n",
       "      <td>NaN</td>\n",
       "      <td>1.78</td>\n",
       "      <td>0.53</td>\n",
       "      <td>0.00</td>\n",
       "      <td>0.08</td>\n",
       "      <td>NaN</td>\n",
       "      <td>NaN</td>\n",
       "      <td>NaN</td>\n",
       "    </tr>\n",
       "    <tr>\n",
       "      <th>14244</th>\n",
       "      <td>NaN</td>\n",
       "      <td>GEN</td>\n",
       "      <td>1993</td>\n",
       "      <td>NaN</td>\n",
       "      <td>0.00</td>\n",
       "      <td>0.00</td>\n",
       "      <td>0.03</td>\n",
       "      <td>0.00</td>\n",
       "      <td>NaN</td>\n",
       "      <td>NaN</td>\n",
       "      <td>NaN</td>\n",
       "    </tr>\n",
       "  </tbody>\n",
       "</table>\n",
       "</div>"
      ],
      "text/plain": [
       "      name platform  year_of_release genre  na_sales  eu_sales  jp_sales  \\\n",
       "659    NaN      GEN             1993   NaN      1.78      0.53      0.00   \n",
       "14244  NaN      GEN             1993   NaN      0.00      0.00      0.03   \n",
       "\n",
       "       other_sales  critic_score  user_score rating  \n",
       "659           0.08           NaN         NaN    NaN  \n",
       "14244         0.00           NaN         NaN    NaN  "
      ]
     },
     "execution_count": 11,
     "metadata": {},
     "output_type": "execute_result"
    }
   ],
   "source": [
    "df[df['name'].isnull()]"
   ]
  },
  {
   "cell_type": "markdown",
   "metadata": {},
   "source": [
    "В колонке `name` и `genre` всего 2 строки с пропущенными значениями, можем смело их удалить."
   ]
  },
  {
   "cell_type": "code",
   "execution_count": 12,
   "metadata": {},
   "outputs": [],
   "source": [
    "df = df.dropna(subset = ['name'])"
   ]
  },
  {
   "cell_type": "code",
   "execution_count": 13,
   "metadata": {},
   "outputs": [
    {
     "data": {
      "text/plain": [
       "name                  0\n",
       "platform              0\n",
       "genre                 0\n",
       "na_sales              0\n",
       "eu_sales              0\n",
       "jp_sales              0\n",
       "other_sales           0\n",
       "year_of_release     269\n",
       "rating             6764\n",
       "critic_score       8576\n",
       "user_score         9123\n",
       "dtype: int64"
      ]
     },
     "execution_count": 13,
     "metadata": {},
     "output_type": "execute_result"
    }
   ],
   "source": [
    "df.isnull().sum(axis=0).sort_values()"
   ]
  },
  {
   "cell_type": "markdown",
   "metadata": {},
   "source": [
    "Посмотрим на 10 случайных строк с пропущенным значением в столбце `rating`, чтобы попытаться объяснить их существование."
   ]
  },
  {
   "cell_type": "code",
   "execution_count": 14,
   "metadata": {},
   "outputs": [
    {
     "data": {
      "text/html": [
       "<div>\n",
       "<style scoped>\n",
       "    .dataframe tbody tr th:only-of-type {\n",
       "        vertical-align: middle;\n",
       "    }\n",
       "\n",
       "    .dataframe tbody tr th {\n",
       "        vertical-align: top;\n",
       "    }\n",
       "\n",
       "    .dataframe thead th {\n",
       "        text-align: right;\n",
       "    }\n",
       "</style>\n",
       "<table border=\"1\" class=\"dataframe\">\n",
       "  <thead>\n",
       "    <tr style=\"text-align: right;\">\n",
       "      <th></th>\n",
       "      <th>name</th>\n",
       "      <th>platform</th>\n",
       "      <th>year_of_release</th>\n",
       "      <th>genre</th>\n",
       "      <th>na_sales</th>\n",
       "      <th>eu_sales</th>\n",
       "      <th>jp_sales</th>\n",
       "      <th>other_sales</th>\n",
       "      <th>critic_score</th>\n",
       "      <th>user_score</th>\n",
       "      <th>rating</th>\n",
       "    </tr>\n",
       "  </thead>\n",
       "  <tbody>\n",
       "    <tr>\n",
       "      <th>15338</th>\n",
       "      <td>Mario Tennis</td>\n",
       "      <td>3DS</td>\n",
       "      <td>&lt;NA&gt;</td>\n",
       "      <td>Sports</td>\n",
       "      <td>0.00</td>\n",
       "      <td>0.00</td>\n",
       "      <td>0.02</td>\n",
       "      <td>0.00</td>\n",
       "      <td>NaN</td>\n",
       "      <td>NaN</td>\n",
       "      <td>NaN</td>\n",
       "    </tr>\n",
       "    <tr>\n",
       "      <th>9673</th>\n",
       "      <td>Clock Tower: The First Fear</td>\n",
       "      <td>PS</td>\n",
       "      <td>1997</td>\n",
       "      <td>Adventure</td>\n",
       "      <td>0.00</td>\n",
       "      <td>0.00</td>\n",
       "      <td>0.12</td>\n",
       "      <td>0.01</td>\n",
       "      <td>NaN</td>\n",
       "      <td>NaN</td>\n",
       "      <td>NaN</td>\n",
       "    </tr>\n",
       "    <tr>\n",
       "      <th>12012</th>\n",
       "      <td>IA/VT Colorful</td>\n",
       "      <td>PSV</td>\n",
       "      <td>2015</td>\n",
       "      <td>Misc</td>\n",
       "      <td>0.00</td>\n",
       "      <td>0.00</td>\n",
       "      <td>0.07</td>\n",
       "      <td>0.00</td>\n",
       "      <td>NaN</td>\n",
       "      <td>NaN</td>\n",
       "      <td>NaN</td>\n",
       "    </tr>\n",
       "    <tr>\n",
       "      <th>11247</th>\n",
       "      <td>Cyberia</td>\n",
       "      <td>PS</td>\n",
       "      <td>1995</td>\n",
       "      <td>Action</td>\n",
       "      <td>0.05</td>\n",
       "      <td>0.03</td>\n",
       "      <td>0.00</td>\n",
       "      <td>0.01</td>\n",
       "      <td>NaN</td>\n",
       "      <td>NaN</td>\n",
       "      <td>NaN</td>\n",
       "    </tr>\n",
       "    <tr>\n",
       "      <th>9795</th>\n",
       "      <td>Harvest Moon 2 GBC</td>\n",
       "      <td>GB</td>\n",
       "      <td>1999</td>\n",
       "      <td>Simulation</td>\n",
       "      <td>0.00</td>\n",
       "      <td>0.00</td>\n",
       "      <td>0.12</td>\n",
       "      <td>0.00</td>\n",
       "      <td>NaN</td>\n",
       "      <td>NaN</td>\n",
       "      <td>NaN</td>\n",
       "    </tr>\n",
       "    <tr>\n",
       "      <th>16358</th>\n",
       "      <td>No Fate! Only the Power of Will</td>\n",
       "      <td>X360</td>\n",
       "      <td>2010</td>\n",
       "      <td>Adventure</td>\n",
       "      <td>0.00</td>\n",
       "      <td>0.00</td>\n",
       "      <td>0.01</td>\n",
       "      <td>0.00</td>\n",
       "      <td>NaN</td>\n",
       "      <td>NaN</td>\n",
       "      <td>NaN</td>\n",
       "    </tr>\n",
       "    <tr>\n",
       "      <th>11277</th>\n",
       "      <td>Aibou DS</td>\n",
       "      <td>DS</td>\n",
       "      <td>2009</td>\n",
       "      <td>Adventure</td>\n",
       "      <td>0.00</td>\n",
       "      <td>0.00</td>\n",
       "      <td>0.08</td>\n",
       "      <td>0.00</td>\n",
       "      <td>NaN</td>\n",
       "      <td>NaN</td>\n",
       "      <td>NaN</td>\n",
       "    </tr>\n",
       "    <tr>\n",
       "      <th>16480</th>\n",
       "      <td>Nova Usagi no Game de Ryuugaku!? DS</td>\n",
       "      <td>DS</td>\n",
       "      <td>2007</td>\n",
       "      <td>Misc</td>\n",
       "      <td>0.00</td>\n",
       "      <td>0.00</td>\n",
       "      <td>0.01</td>\n",
       "      <td>0.00</td>\n",
       "      <td>NaN</td>\n",
       "      <td>NaN</td>\n",
       "      <td>NaN</td>\n",
       "    </tr>\n",
       "    <tr>\n",
       "      <th>4254</th>\n",
       "      <td>Mega Man Star Force 3: Black Ace / Red Joker</td>\n",
       "      <td>DS</td>\n",
       "      <td>2008</td>\n",
       "      <td>Action</td>\n",
       "      <td>0.22</td>\n",
       "      <td>0.00</td>\n",
       "      <td>0.22</td>\n",
       "      <td>0.02</td>\n",
       "      <td>NaN</td>\n",
       "      <td>NaN</td>\n",
       "      <td>NaN</td>\n",
       "    </tr>\n",
       "    <tr>\n",
       "      <th>16121</th>\n",
       "      <td>Postman Pat: Special Delivery Service</td>\n",
       "      <td>DS</td>\n",
       "      <td>2009</td>\n",
       "      <td>Misc</td>\n",
       "      <td>0.00</td>\n",
       "      <td>0.01</td>\n",
       "      <td>0.00</td>\n",
       "      <td>0.00</td>\n",
       "      <td>NaN</td>\n",
       "      <td>NaN</td>\n",
       "      <td>NaN</td>\n",
       "    </tr>\n",
       "  </tbody>\n",
       "</table>\n",
       "</div>"
      ],
      "text/plain": [
       "                                               name platform  year_of_release  \\\n",
       "15338                                  Mario Tennis      3DS             <NA>   \n",
       "9673                    Clock Tower: The First Fear       PS             1997   \n",
       "12012                                IA/VT Colorful      PSV             2015   \n",
       "11247                                       Cyberia       PS             1995   \n",
       "9795                             Harvest Moon 2 GBC       GB             1999   \n",
       "16358               No Fate! Only the Power of Will     X360             2010   \n",
       "11277                                      Aibou DS       DS             2009   \n",
       "16480           Nova Usagi no Game de Ryuugaku!? DS       DS             2007   \n",
       "4254   Mega Man Star Force 3: Black Ace / Red Joker       DS             2008   \n",
       "16121         Postman Pat: Special Delivery Service       DS             2009   \n",
       "\n",
       "            genre  na_sales  eu_sales  jp_sales  other_sales  critic_score  \\\n",
       "15338      Sports      0.00      0.00      0.02         0.00           NaN   \n",
       "9673    Adventure      0.00      0.00      0.12         0.01           NaN   \n",
       "12012        Misc      0.00      0.00      0.07         0.00           NaN   \n",
       "11247      Action      0.05      0.03      0.00         0.01           NaN   \n",
       "9795   Simulation      0.00      0.00      0.12         0.00           NaN   \n",
       "16358   Adventure      0.00      0.00      0.01         0.00           NaN   \n",
       "11277   Adventure      0.00      0.00      0.08         0.00           NaN   \n",
       "16480        Misc      0.00      0.00      0.01         0.00           NaN   \n",
       "4254       Action      0.22      0.00      0.22         0.02           NaN   \n",
       "16121        Misc      0.00      0.01      0.00         0.00           NaN   \n",
       "\n",
       "       user_score rating  \n",
       "15338         NaN    NaN  \n",
       "9673          NaN    NaN  \n",
       "12012         NaN    NaN  \n",
       "11247         NaN    NaN  \n",
       "9795          NaN    NaN  \n",
       "16358         NaN    NaN  \n",
       "11277         NaN    NaN  \n",
       "16480         NaN    NaN  \n",
       "4254          NaN    NaN  \n",
       "16121         NaN    NaN  "
      ]
     },
     "execution_count": 14,
     "metadata": {},
     "output_type": "execute_result"
    }
   ],
   "source": [
    "df[df['rating'].isna()].sample(10)"
   ]
  },
  {
   "cell_type": "markdown",
   "metadata": {},
   "source": [
    "Мы можем заметить, что в некоторых случаях пропуски есть сразу в трёх столбцах: `rating`, `user_score`, `critic_score`. Пропуски могли появиться по нескольким причинам. \n",
    "  \n",
    "1. Игра имеет мало продаж, совершенно не популярна, поэтому она и не имеет множества публичных оценок.\n",
    "2. Возможно игра может быть слишком новой, из-за чего она ещё не имеет оценок."
   ]
  },
  {
   "cell_type": "code",
   "execution_count": 15,
   "metadata": {},
   "outputs": [
    {
     "data": {
      "text/plain": [
       "269"
      ]
     },
     "execution_count": 15,
     "metadata": {},
     "output_type": "execute_result"
    }
   ],
   "source": [
    "df['year_of_release'].isna().sum()"
   ]
  },
  {
   "cell_type": "markdown",
   "metadata": {},
   "source": [
    "Всего в столбце `year_of_realease` 269 пропусков. Можно попробовать заполнить часть пропусков теми играми, чьё название совпадает с игрой без года."
   ]
  },
  {
   "cell_type": "code",
   "execution_count": 16,
   "metadata": {},
   "outputs": [
    {
     "name": "stderr",
     "output_type": "stream",
     "text": [
      "/tmp/ipykernel_48/2149726417.py:2: SettingWithCopyWarning: \n",
      "A value is trying to be set on a copy of a slice from a DataFrame\n",
      "\n",
      "See the caveats in the documentation: https://pandas.pydata.org/pandas-docs/stable/user_guide/indexing.html#returning-a-view-versus-a-copy\n",
      "  df['year_of_release'][i] = df.loc[df['name'] == df['name'][i], 'year_of_release'].max()\n"
     ]
    },
    {
     "data": {
      "text/plain": [
       "146"
      ]
     },
     "execution_count": 16,
     "metadata": {},
     "output_type": "execute_result"
    }
   ],
   "source": [
    "for i in df[df['year_of_release'].isnull() == True].index:  \n",
    "    df['year_of_release'][i] = df.loc[df['name'] == df['name'][i], 'year_of_release'].max()\n",
    "    \n",
    "df['year_of_release'].isna().sum()"
   ]
  },
  {
   "cell_type": "markdown",
   "metadata": {},
   "source": [
    "Всего осталось 146 пропусков, можем удалить строки с ними, так как это маленький процент от всех данных."
   ]
  },
  {
   "cell_type": "code",
   "execution_count": 17,
   "metadata": {},
   "outputs": [],
   "source": [
    "df = df.dropna(subset = ['year_of_release'])"
   ]
  },
  {
   "cell_type": "markdown",
   "metadata": {},
   "source": [
    "Создадим отдельный столбец с данными о суммарных продажах."
   ]
  },
  {
   "cell_type": "code",
   "execution_count": 18,
   "metadata": {},
   "outputs": [
    {
     "name": "stdout",
     "output_type": "stream",
     "text": [
      "<class 'pandas.core.frame.DataFrame'>\n",
      "Int64Index: 16567 entries, 0 to 16714\n",
      "Data columns (total 12 columns):\n",
      " #   Column           Non-Null Count  Dtype  \n",
      "---  ------           --------------  -----  \n",
      " 0   name             16567 non-null  object \n",
      " 1   platform         16567 non-null  object \n",
      " 2   year_of_release  16567 non-null  Int64  \n",
      " 3   genre            16567 non-null  object \n",
      " 4   na_sales         16567 non-null  float64\n",
      " 5   eu_sales         16567 non-null  float64\n",
      " 6   jp_sales         16567 non-null  float64\n",
      " 7   other_sales      16567 non-null  float64\n",
      " 8   critic_score     8075 non-null   float64\n",
      " 9   user_score       7540 non-null   float64\n",
      " 10  rating           9868 non-null   object \n",
      " 11  total_sales      16567 non-null  float64\n",
      "dtypes: Int64(1), float64(7), object(4)\n",
      "memory usage: 1.7+ MB\n"
     ]
    }
   ],
   "source": [
    "df['total_sales'] = df['na_sales'] + df['eu_sales'] + df['jp_sales'] + df['other_sales']\n",
    "df.info()"
   ]
  },
  {
   "cell_type": "markdown",
   "metadata": {},
   "source": [
    "Также посмотрим, есть ли явные дубликаты в датафрейме."
   ]
  },
  {
   "cell_type": "code",
   "execution_count": 19,
   "metadata": {},
   "outputs": [
    {
     "data": {
      "text/plain": [
       "0"
      ]
     },
     "execution_count": 19,
     "metadata": {},
     "output_type": "execute_result"
    }
   ],
   "source": [
    "df.duplicated().sum()"
   ]
  },
  {
   "cell_type": "code",
   "execution_count": 20,
   "metadata": {},
   "outputs": [
    {
     "data": {
      "text/html": [
       "<div>\n",
       "<style scoped>\n",
       "    .dataframe tbody tr th:only-of-type {\n",
       "        vertical-align: middle;\n",
       "    }\n",
       "\n",
       "    .dataframe tbody tr th {\n",
       "        vertical-align: top;\n",
       "    }\n",
       "\n",
       "    .dataframe thead th {\n",
       "        text-align: right;\n",
       "    }\n",
       "</style>\n",
       "<table border=\"1\" class=\"dataframe\">\n",
       "  <thead>\n",
       "    <tr style=\"text-align: right;\">\n",
       "      <th></th>\n",
       "      <th>name</th>\n",
       "      <th>platform</th>\n",
       "      <th>year_of_release</th>\n",
       "      <th>genre</th>\n",
       "      <th>na_sales</th>\n",
       "      <th>eu_sales</th>\n",
       "      <th>jp_sales</th>\n",
       "      <th>other_sales</th>\n",
       "      <th>critic_score</th>\n",
       "      <th>user_score</th>\n",
       "      <th>rating</th>\n",
       "      <th>total_sales</th>\n",
       "    </tr>\n",
       "  </thead>\n",
       "  <tbody>\n",
       "    <tr>\n",
       "      <th>4127</th>\n",
       "      <td>Sonic the Hedgehog</td>\n",
       "      <td>PS3</td>\n",
       "      <td>2006</td>\n",
       "      <td>Platform</td>\n",
       "      <td>0.0</td>\n",
       "      <td>0.48</td>\n",
       "      <td>0.0</td>\n",
       "      <td>0.0</td>\n",
       "      <td>43.0</td>\n",
       "      <td>4.1</td>\n",
       "      <td>E10+</td>\n",
       "      <td>0.48</td>\n",
       "    </tr>\n",
       "    <tr>\n",
       "      <th>16230</th>\n",
       "      <td>Madden NFL 13</td>\n",
       "      <td>PS3</td>\n",
       "      <td>2012</td>\n",
       "      <td>Sports</td>\n",
       "      <td>0.0</td>\n",
       "      <td>0.01</td>\n",
       "      <td>0.0</td>\n",
       "      <td>0.0</td>\n",
       "      <td>83.0</td>\n",
       "      <td>5.5</td>\n",
       "      <td>E</td>\n",
       "      <td>0.01</td>\n",
       "    </tr>\n",
       "  </tbody>\n",
       "</table>\n",
       "</div>"
      ],
      "text/plain": [
       "                     name platform  year_of_release     genre  na_sales  \\\n",
       "4127   Sonic the Hedgehog      PS3             2006  Platform       0.0   \n",
       "16230       Madden NFL 13      PS3             2012    Sports       0.0   \n",
       "\n",
       "       eu_sales  jp_sales  other_sales  critic_score  user_score rating  \\\n",
       "4127       0.48       0.0          0.0          43.0         4.1   E10+   \n",
       "16230      0.01       0.0          0.0          83.0         5.5      E   \n",
       "\n",
       "       total_sales  \n",
       "4127          0.48  \n",
       "16230         0.01  "
      ]
     },
     "execution_count": 20,
     "metadata": {},
     "output_type": "execute_result"
    }
   ],
   "source": [
    "df[df.duplicated(subset=['name', 'platform', 'year_of_release'])]"
   ]
  },
  {
   "cell_type": "markdown",
   "metadata": {},
   "source": [
    "При этом оказалось, что есть две игры, которые дважды встречаются в датафрейме. Удалим их."
   ]
  },
  {
   "cell_type": "code",
   "execution_count": 21,
   "metadata": {},
   "outputs": [],
   "source": [
    "df = df.drop_duplicates(subset=['name', 'platform', 'year_of_release'])"
   ]
  },
  {
   "cell_type": "code",
   "execution_count": 22,
   "metadata": {},
   "outputs": [
    {
     "data": {
      "text/html": [
       "<div>\n",
       "<style scoped>\n",
       "    .dataframe tbody tr th:only-of-type {\n",
       "        vertical-align: middle;\n",
       "    }\n",
       "\n",
       "    .dataframe tbody tr th {\n",
       "        vertical-align: top;\n",
       "    }\n",
       "\n",
       "    .dataframe thead th {\n",
       "        text-align: right;\n",
       "    }\n",
       "</style>\n",
       "<table border=\"1\" class=\"dataframe\">\n",
       "  <thead>\n",
       "    <tr style=\"text-align: right;\">\n",
       "      <th></th>\n",
       "      <th>name</th>\n",
       "      <th>platform</th>\n",
       "      <th>year_of_release</th>\n",
       "      <th>genre</th>\n",
       "      <th>na_sales</th>\n",
       "      <th>eu_sales</th>\n",
       "      <th>jp_sales</th>\n",
       "      <th>other_sales</th>\n",
       "      <th>critic_score</th>\n",
       "      <th>user_score</th>\n",
       "      <th>rating</th>\n",
       "      <th>total_sales</th>\n",
       "    </tr>\n",
       "  </thead>\n",
       "  <tbody>\n",
       "  </tbody>\n",
       "</table>\n",
       "</div>"
      ],
      "text/plain": [
       "Empty DataFrame\n",
       "Columns: [name, platform, year_of_release, genre, na_sales, eu_sales, jp_sales, other_sales, critic_score, user_score, rating, total_sales]\n",
       "Index: []"
      ]
     },
     "execution_count": 22,
     "metadata": {},
     "output_type": "execute_result"
    }
   ],
   "source": [
    "df[df.duplicated(subset=['name', 'platform', 'year_of_release'])]"
   ]
  },
  {
   "cell_type": "markdown",
   "metadata": {},
   "source": [
    "В итоге предобработки мы привели названия столбцов к нижнему регистру, поменяли тип данных в трёх переменных, избавились от некоторых пропусков и дубликатов. Создали столбцец с суммарными продажами, который понадобится нам в анализе."
   ]
  },
  {
   "cell_type": "markdown",
   "metadata": {},
   "source": [
    "### Исследовательский анализ данных"
   ]
  },
  {
   "cell_type": "markdown",
   "metadata": {},
   "source": [
    "#### Посмотрим, сколько игр выпускалось в разные годы. Важны ли данные за все периоды?"
   ]
  },
  {
   "cell_type": "code",
   "execution_count": 23,
   "metadata": {},
   "outputs": [
    {
     "data": {
      "image/png": "[encoded data removed]",
      "text/plain": [
       "<Figure size 720x360 with 1 Axes>"
      ]
     },
     "metadata": {
      "needs_background": "light"
     },
     "output_type": "display_data"
    }
   ],
   "source": [
    "games_on_period = df.pivot_table(index='year_of_release', values='name', aggfunc='count')\n",
    "plt.figure(figsize=(10,5))\n",
    "sns.lineplot(data=games_on_period)\n",
    "plt.title(\"Количество игр выпускаемые в разные года\")\n",
    "plt.xlabel(\"Год выпуска\")\n",
    "plt.ylabel(\"Количество выпущенных игр\");"
   ]
  },
  {
   "cell_type": "markdown",
   "metadata": {},
   "source": [
    "Пик выпуска компьютерных игр пришёлся на 2008 год. С 2000 выпуск начал сильно расти, вероятно из-за распространения устройств, на которых люди могут играть в компьютерные игры. После 2008 года выпуск пошёл на убыль, скорее из-за появления мобильного гейминга. Данные до 1990 года не важны, так как игр созданных до этого крайне мало."
   ]
  },
  {
   "cell_type": "markdown",
   "metadata": {},
   "source": [
    "#### Посмотрим, как менялись продажи по платформам. Выберем платформы с наибольшими суммарными продажами и построим распределение по годам. За какой характерный срок появляются новые и исчезают старые платформы?"
   ]
  },
  {
   "cell_type": "markdown",
   "metadata": {},
   "source": [
    "Сначала выберем платформы с наибольшими суммарными продажами, для этого построим график со всеми платформами."
   ]
  },
  {
   "cell_type": "code",
   "execution_count": 24,
   "metadata": {},
   "outputs": [
    {
     "data": {
      "text/plain": [
       "Text(0, 0.5, 'Суммарные продажи')"
      ]
     },
     "execution_count": 24,
     "metadata": {},
     "output_type": "execute_result"
    },
    {
     "data": {
      "image/png": "[encoded data removed]",
      "text/plain": [
       "<Figure size 1080x432 with 1 Axes>"
      ]
     },
     "metadata": {
      "needs_background": "light"
     },
     "output_type": "display_data"
    }
   ],
   "source": [
    "platform_sales = df\\\n",
    "                    .pivot_table(index='platform', values='total_sales', aggfunc='sum')\\\n",
    "                    .sort_values(by='total_sales', ascending=False)\n",
    "\n",
    "plt.figure(figsize=(15,6))\n",
    "sns.barplot(x=platform_sales.index,y=platform_sales['total_sales'], palette=\"Spectral\")\n",
    "plt.title(\"Продажи по платформам\")\n",
    "plt.xlabel(\"Платформа\")\n",
    "plt.ylabel(\"Суммарные продажи\")"
   ]
  },
  {
   "cell_type": "markdown",
   "metadata": {},
   "source": [
    "Главными лидерами являются следующие компании: PS2, X360, PS3, Wii, DS, PS. Посмотрим на их продажи по отдельности."
   ]
  },
  {
   "cell_type": "code",
   "execution_count": 25,
   "metadata": {},
   "outputs": [
    {
     "data": {
      "text/html": [
       "<div>\n",
       "<style scoped>\n",
       "    .dataframe tbody tr th:only-of-type {\n",
       "        vertical-align: middle;\n",
       "    }\n",
       "\n",
       "    .dataframe tbody tr th {\n",
       "        vertical-align: top;\n",
       "    }\n",
       "\n",
       "    .dataframe thead th {\n",
       "        text-align: right;\n",
       "    }\n",
       "</style>\n",
       "<table border=\"1\" class=\"dataframe\">\n",
       "  <thead>\n",
       "    <tr style=\"text-align: right;\">\n",
       "      <th></th>\n",
       "      <th>total_sales</th>\n",
       "    </tr>\n",
       "    <tr>\n",
       "      <th>platform</th>\n",
       "      <th></th>\n",
       "    </tr>\n",
       "  </thead>\n",
       "  <tbody>\n",
       "    <tr>\n",
       "      <th>PS2</th>\n",
       "      <td>1247.16</td>\n",
       "    </tr>\n",
       "    <tr>\n",
       "      <th>X360</th>\n",
       "      <td>966.61</td>\n",
       "    </tr>\n",
       "    <tr>\n",
       "      <th>PS3</th>\n",
       "      <td>934.70</td>\n",
       "    </tr>\n",
       "    <tr>\n",
       "      <th>Wii</th>\n",
       "      <td>903.31</td>\n",
       "    </tr>\n",
       "    <tr>\n",
       "      <th>DS</th>\n",
       "      <td>804.28</td>\n",
       "    </tr>\n",
       "    <tr>\n",
       "      <th>PS</th>\n",
       "      <td>727.58</td>\n",
       "    </tr>\n",
       "  </tbody>\n",
       "</table>\n",
       "</div>"
      ],
      "text/plain": [
       "          total_sales\n",
       "platform             \n",
       "PS2           1247.16\n",
       "X360           966.61\n",
       "PS3            934.70\n",
       "Wii            903.31\n",
       "DS             804.28\n",
       "PS             727.58"
      ]
     },
     "execution_count": 25,
     "metadata": {},
     "output_type": "execute_result"
    }
   ],
   "source": [
    "top_platforms = platform_sales.iloc[0:6]\n",
    "top_platforms"
   ]
  },
  {
   "cell_type": "code",
   "execution_count": 26,
   "metadata": {},
   "outputs": [
    {
     "data": {
      "image/png": "[encoded data removed]",
      "text/plain": [
       "<Figure size 576x216 with 1 Axes>"
      ]
     },
     "metadata": {
      "needs_background": "light"
     },
     "output_type": "display_data"
    },
    {
     "data": {
      "image/png": "[encoded data removed]",
      "text/plain": [
       "<Figure size 576x216 with 1 Axes>"
      ]
     },
     "metadata": {
      "needs_background": "light"
     },
     "output_type": "display_data"
    },
    {
     "data": {
      "image/png": "[encoded data removed]",
      "text/plain": [
       "<Figure size 576x216 with 1 Axes>"
      ]
     },
     "metadata": {
      "needs_background": "light"
     },
     "output_type": "display_data"
    },
    {
     "data": {
      "image/png": "[encoded data removed]",
      "text/plain": [
       "<Figure size 576x216 with 1 Axes>"
      ]
     },
     "metadata": {
      "needs_background": "light"
     },
     "output_type": "display_data"
    },
    {
     "data": {
      "image/png": "[encoded data removed]",
      "text/plain": [
       "<Figure size 576x216 with 1 Axes>"
      ]
     },
     "metadata": {
      "needs_background": "light"
     },
     "output_type": "display_data"
    },
    {
     "data": {
      "image/png": "[encoded data removed]",
      "text/plain": [
       "<Figure size 576x216 with 1 Axes>"
      ]
     },
     "metadata": {
      "needs_background": "light"
     },
     "output_type": "display_data"
    }
   ],
   "source": [
    "for platform in top_platforms.index:\n",
    "    df[df['platform'] == platform]\\\n",
    "        .pivot_table(index = 'year_of_release', values = 'total_sales', aggfunc = 'sum')\\\n",
    "        .plot(kind = 'bar', figsize=(8,3), color='purple')\n",
    "    plt.title(platform)\n",
    "    plt.xlabel(\"Год\")\n",
    "    plt.ylabel(\"Суммарные продажи\")"
   ]
  },
  {
   "cell_type": "markdown",
   "metadata": {},
   "source": [
    "Можно сделать вывод о том, что каждая платформа существует около 10 лет. Самыми продаваемыми платформами являются PlayStation (1, 2 и 3 версий), Xbox 360 и Nintendo DS и Wii."
   ]
  },
  {
   "cell_type": "markdown",
   "metadata": {},
   "source": [
    "#### Какие платформы лидируют по продажам, растут или падают? "
   ]
  },
  {
   "cell_type": "code",
   "execution_count": 27,
   "metadata": {},
   "outputs": [],
   "source": [
    "#возьмем данные за последние 5 лет\n",
    "actual_data = df.query('year_of_release > 2011') "
   ]
  },
  {
   "cell_type": "code",
   "execution_count": 28,
   "metadata": {},
   "outputs": [
    {
     "data": {
      "text/plain": [
       "<AxesSubplot:xlabel='year_of_release'>"
      ]
     },
     "execution_count": 28,
     "metadata": {},
     "output_type": "execute_result"
    },
    {
     "data": {
      "image/png": "[encoded data removed]",
      "text/plain": [
       "<Figure size 1224x504 with 1 Axes>"
      ]
     },
     "metadata": {
      "needs_background": "light"
     },
     "output_type": "display_data"
    }
   ],
   "source": [
    "actual_data\\\n",
    "    .pivot_table(index='year_of_release', columns = 'platform', values='total_sales', aggfunc='sum')\\\n",
    "    .plot(figsize=(17, 7), color=('aquamarine', 'blueviolet', 'chartreuse', 'cornflowerblue',\\\n",
    "                                  'darkgreen', 'darkslategray', 'greenyellow', 'hotpink',\\\n",
    "                                  'lightblue', 'lightpink', 'thistle', 'black'))"
   ]
  },
  {
   "cell_type": "markdown",
   "metadata": {},
   "source": [
    "В итоге мы можем выделить общую тенденцию к снижению продаж среди всех платформ. Но при всём этом мы можем выделить потенциально прибыльные платформы и те, которые потенциально будут хуже продаваться.\n",
    "  \n",
    "Потенциально прибыльные: PS4, XOne, 3DS.  \n",
    "Потенциально будут продаваться хуже остальных: X360, Wii, PS3."
   ]
  },
  {
   "cell_type": "markdown",
   "metadata": {},
   "source": [
    "#### Построим график «ящик с усами» по глобальным продажам игр в разбивке по платформам."
   ]
  },
  {
   "cell_type": "code",
   "execution_count": 29,
   "metadata": {},
   "outputs": [
    {
     "data": {
      "text/plain": [
       "<AxesSubplot:>"
      ]
     },
     "execution_count": 29,
     "metadata": {},
     "output_type": "execute_result"
    },
    {
     "data": {
      "image/png": "[encoded data removed]",
      "text/plain": [
       "<Figure size 1224x504 with 1 Axes>"
      ]
     },
     "metadata": {
      "needs_background": "light"
     },
     "output_type": "display_data"
    }
   ],
   "source": [
    "actual_data\\\n",
    "    .pivot_table(index = 'name', columns = 'platform', values = 'total_sales', aggfunc = 'sum')\\\n",
    "    .plot(kind='box', ylim=(0,1.9), figsize=(17, 7))"
   ]
  },
  {
   "cell_type": "markdown",
   "metadata": {},
   "source": [
    "Благодаря ящику с усами мы можем подвердить, что платформы PS4, XOne, 3DS являются потенциально прибыльными, так как у них похожая медиана. Мы можем увидеть, что у некоторых платформ много выбросов, например, у PSV, PC, 3DS, данные выбросы при первом взгляде без анализа могут запутать. Самые максимальные нормальные значения у таких платформ как X360, PS4 и XOne. "
   ]
  },
  {
   "cell_type": "markdown",
   "metadata": {},
   "source": [
    "#### Посмотрим, как влияют на продажи внутри одной популярной платформы отзывы пользователей и критиков. Построим диаграмму рассеяния и посчитаем корреляцию между отзывами и продажами. Соотнесем выводы с продажами игр на других платформах."
   ]
  },
  {
   "cell_type": "code",
   "execution_count": 30,
   "metadata": {},
   "outputs": [
    {
     "data": {
      "text/plain": [
       "0.17378036664164548"
      ]
     },
     "execution_count": 30,
     "metadata": {},
     "output_type": "execute_result"
    }
   ],
   "source": [
    "ps2 = df[df['platform']=='PS2']\n",
    "ps2['user_score'].corr(ps2['total_sales'])"
   ]
  },
  {
   "cell_type": "markdown",
   "metadata": {},
   "source": [
    "Корреляция между оценками пользователей и продажами составляет всего 0.17, что говорит о том, что переменные практически не зависят друг от друга."
   ]
  },
  {
   "cell_type": "code",
   "execution_count": 31,
   "metadata": {},
   "outputs": [
    {
     "data": {
      "text/plain": [
       "Text(0, 0.5, 'Суммарные продажи')"
      ]
     },
     "execution_count": 31,
     "metadata": {},
     "output_type": "execute_result"
    },
    {
     "data": {
      "image/png": "[encoded data removed]",
      "text/plain": [
       "<Figure size 864x432 with 1 Axes>"
      ]
     },
     "metadata": {
      "needs_background": "light"
     },
     "output_type": "display_data"
    }
   ],
   "source": [
    "plt.figure(figsize=(12,6))\n",
    "sns.scatterplot(x='user_score', y='total_sales', data=ps2)\n",
    "plt.title(\"Диаграмма рассеивания\")\n",
    "plt.xlabel(\"Оценка пользователей\")\n",
    "plt.ylabel(\"Суммарные продажи\")"
   ]
  },
  {
   "cell_type": "markdown",
   "metadata": {},
   "source": [
    "В целом по диаграмме рассеивания можно сказать, что чем выше оценка пользователей, тем больше продажи, что звучит логично. Посмотрим на связь продаж и оценки критиков."
   ]
  },
  {
   "cell_type": "code",
   "execution_count": 32,
   "metadata": {},
   "outputs": [
    {
     "name": "stdout",
     "output_type": "stream",
     "text": [
      "<class 'pandas.core.frame.DataFrame'>\n",
      "Int64Index: 16565 entries, 0 to 16714\n",
      "Data columns (total 12 columns):\n",
      " #   Column           Non-Null Count  Dtype  \n",
      "---  ------           --------------  -----  \n",
      " 0   name             16565 non-null  object \n",
      " 1   platform         16565 non-null  object \n",
      " 2   year_of_release  16565 non-null  Int64  \n",
      " 3   genre            16565 non-null  object \n",
      " 4   na_sales         16565 non-null  float64\n",
      " 5   eu_sales         16565 non-null  float64\n",
      " 6   jp_sales         16565 non-null  float64\n",
      " 7   other_sales      16565 non-null  float64\n",
      " 8   critic_score     8073 non-null   float64\n",
      " 9   user_score       7538 non-null   float64\n",
      " 10  rating           9866 non-null   object \n",
      " 11  total_sales      16565 non-null  float64\n",
      "dtypes: Int64(1), float64(7), object(4)\n",
      "memory usage: 1.7+ MB\n"
     ]
    }
   ],
   "source": [
    "df.info()"
   ]
  },
  {
   "cell_type": "code",
   "execution_count": 33,
   "metadata": {},
   "outputs": [
    {
     "data": {
      "text/plain": [
       "0.3954055368563989"
      ]
     },
     "execution_count": 33,
     "metadata": {},
     "output_type": "execute_result"
    }
   ],
   "source": [
    "ps2['critic_score'].corr(ps2['total_sales'])"
   ]
  },
  {
   "cell_type": "code",
   "execution_count": 34,
   "metadata": {},
   "outputs": [
    {
     "data": {
      "text/plain": [
       "Text(0, 0.5, 'Суммарные продажи')"
      ]
     },
     "execution_count": 34,
     "metadata": {},
     "output_type": "execute_result"
    },
    {
     "data": {
      "image/png": "[encoded data removed]",
      "text/plain": [
       "<Figure size 864x432 with 1 Axes>"
      ]
     },
     "metadata": {
      "needs_background": "light"
     },
     "output_type": "display_data"
    }
   ],
   "source": [
    "plt.figure(figsize=(12,6))\n",
    "sns.scatterplot(x='critic_score', y='total_sales', data=ps2)\n",
    "plt.title(\"Диаграмма рассеивания\")\n",
    "plt.xlabel(\"Оценка критиков\")\n",
    "plt.ylabel(\"Суммарные продажи\")"
   ]
  },
  {
   "cell_type": "markdown",
   "metadata": {},
   "source": [
    "По коэффициенту корреляции мы можем утверждать, что оценка критиков больше влияет на продажи, чем оценка пользователей. И также с увеличением оценки возрастают и продажи.\n",
    "  \n",
    "Возьмем еще три платформы и построим для них матрицы корреляций для сравнения с PS2."
   ]
  },
  {
   "cell_type": "code",
   "execution_count": 35,
   "metadata": {},
   "outputs": [],
   "source": [
    "xone = actual_data.query('platform == \"XOne\"')\n",
    "pc = actual_data.query('platform == \"PC\"')\n",
    "ps4 = actual_data.query('platform == \"PS4\"')"
   ]
  },
  {
   "cell_type": "code",
   "execution_count": 36,
   "metadata": {},
   "outputs": [
    {
     "data": {
      "text/html": [
       "<div>\n",
       "<style scoped>\n",
       "    .dataframe tbody tr th:only-of-type {\n",
       "        vertical-align: middle;\n",
       "    }\n",
       "\n",
       "    .dataframe tbody tr th {\n",
       "        vertical-align: top;\n",
       "    }\n",
       "\n",
       "    .dataframe thead th {\n",
       "        text-align: right;\n",
       "    }\n",
       "</style>\n",
       "<table border=\"1\" class=\"dataframe\">\n",
       "  <thead>\n",
       "    <tr style=\"text-align: right;\">\n",
       "      <th></th>\n",
       "      <th>critic_score</th>\n",
       "      <th>user_score</th>\n",
       "      <th>total_sales</th>\n",
       "    </tr>\n",
       "  </thead>\n",
       "  <tbody>\n",
       "    <tr>\n",
       "      <th>critic_score</th>\n",
       "      <td>1.000000</td>\n",
       "      <td>0.472462</td>\n",
       "      <td>0.416998</td>\n",
       "    </tr>\n",
       "    <tr>\n",
       "      <th>user_score</th>\n",
       "      <td>0.472462</td>\n",
       "      <td>1.000000</td>\n",
       "      <td>-0.068925</td>\n",
       "    </tr>\n",
       "    <tr>\n",
       "      <th>total_sales</th>\n",
       "      <td>0.416998</td>\n",
       "      <td>-0.068925</td>\n",
       "      <td>1.000000</td>\n",
       "    </tr>\n",
       "  </tbody>\n",
       "</table>\n",
       "</div>"
      ],
      "text/plain": [
       "              critic_score  user_score  total_sales\n",
       "critic_score      1.000000    0.472462     0.416998\n",
       "user_score        0.472462    1.000000    -0.068925\n",
       "total_sales       0.416998   -0.068925     1.000000"
      ]
     },
     "execution_count": 36,
     "metadata": {},
     "output_type": "execute_result"
    }
   ],
   "source": [
    "xone_cor = xone[['critic_score','user_score', 'total_sales']]\n",
    "xone_cor.corr()"
   ]
  },
  {
   "cell_type": "code",
   "execution_count": 37,
   "metadata": {},
   "outputs": [
    {
     "data": {
      "image/png": "[encoded data removed]",
      "text/plain": [
       "<Figure size 864x432 with 1 Axes>"
      ]
     },
     "metadata": {
      "needs_background": "light"
     },
     "output_type": "display_data"
    }
   ],
   "source": [
    "plt.figure(figsize=(12,6))\n",
    "sns.scatterplot(x='critic_score', y='total_sales', data=xone)\n",
    "plt.title(\"Диаграмма рассеивания\")\n",
    "plt.xlabel(\"Оценка критиков\")\n",
    "plt.ylabel(\"Суммарные продажи\");"
   ]
  },
  {
   "cell_type": "code",
   "execution_count": 38,
   "metadata": {},
   "outputs": [
    {
     "data": {
      "text/html": [
       "<div>\n",
       "<style scoped>\n",
       "    .dataframe tbody tr th:only-of-type {\n",
       "        vertical-align: middle;\n",
       "    }\n",
       "\n",
       "    .dataframe tbody tr th {\n",
       "        vertical-align: top;\n",
       "    }\n",
       "\n",
       "    .dataframe thead th {\n",
       "        text-align: right;\n",
       "    }\n",
       "</style>\n",
       "<table border=\"1\" class=\"dataframe\">\n",
       "  <thead>\n",
       "    <tr style=\"text-align: right;\">\n",
       "      <th></th>\n",
       "      <th>critic_score</th>\n",
       "      <th>user_score</th>\n",
       "      <th>total_sales</th>\n",
       "    </tr>\n",
       "  </thead>\n",
       "  <tbody>\n",
       "    <tr>\n",
       "      <th>critic_score</th>\n",
       "      <td>1.000000</td>\n",
       "      <td>0.431879</td>\n",
       "      <td>0.240570</td>\n",
       "    </tr>\n",
       "    <tr>\n",
       "      <th>user_score</th>\n",
       "      <td>0.431879</td>\n",
       "      <td>1.000000</td>\n",
       "      <td>-0.120339</td>\n",
       "    </tr>\n",
       "    <tr>\n",
       "      <th>total_sales</th>\n",
       "      <td>0.240570</td>\n",
       "      <td>-0.120339</td>\n",
       "      <td>1.000000</td>\n",
       "    </tr>\n",
       "  </tbody>\n",
       "</table>\n",
       "</div>"
      ],
      "text/plain": [
       "              critic_score  user_score  total_sales\n",
       "critic_score      1.000000    0.431879     0.240570\n",
       "user_score        0.431879    1.000000    -0.120339\n",
       "total_sales       0.240570   -0.120339     1.000000"
      ]
     },
     "execution_count": 38,
     "metadata": {},
     "output_type": "execute_result"
    }
   ],
   "source": [
    "pc_cor = pc[['critic_score','user_score', 'total_sales']]\n",
    "pc_cor.corr()"
   ]
  },
  {
   "cell_type": "code",
   "execution_count": 39,
   "metadata": {},
   "outputs": [
    {
     "data": {
      "image/png": "[encoded data removed]",
      "text/plain": [
       "<Figure size 864x432 with 1 Axes>"
      ]
     },
     "metadata": {
      "needs_background": "light"
     },
     "output_type": "display_data"
    }
   ],
   "source": [
    "plt.figure(figsize=(12,6))\n",
    "sns.scatterplot(x='critic_score', y='total_sales', data=pc)\n",
    "plt.title(\"Диаграмма рассеивания\")\n",
    "plt.xlabel(\"Оценка критиков\")\n",
    "plt.ylabel(\"Суммарные продажи\");"
   ]
  },
  {
   "cell_type": "code",
   "execution_count": 40,
   "metadata": {},
   "outputs": [
    {
     "data": {
      "text/html": [
       "<div>\n",
       "<style scoped>\n",
       "    .dataframe tbody tr th:only-of-type {\n",
       "        vertical-align: middle;\n",
       "    }\n",
       "\n",
       "    .dataframe tbody tr th {\n",
       "        vertical-align: top;\n",
       "    }\n",
       "\n",
       "    .dataframe thead th {\n",
       "        text-align: right;\n",
       "    }\n",
       "</style>\n",
       "<table border=\"1\" class=\"dataframe\">\n",
       "  <thead>\n",
       "    <tr style=\"text-align: right;\">\n",
       "      <th></th>\n",
       "      <th>critic_score</th>\n",
       "      <th>user_score</th>\n",
       "      <th>total_sales</th>\n",
       "    </tr>\n",
       "  </thead>\n",
       "  <tbody>\n",
       "    <tr>\n",
       "      <th>critic_score</th>\n",
       "      <td>1.000000</td>\n",
       "      <td>0.557654</td>\n",
       "      <td>0.406568</td>\n",
       "    </tr>\n",
       "    <tr>\n",
       "      <th>user_score</th>\n",
       "      <td>0.557654</td>\n",
       "      <td>1.000000</td>\n",
       "      <td>-0.031957</td>\n",
       "    </tr>\n",
       "    <tr>\n",
       "      <th>total_sales</th>\n",
       "      <td>0.406568</td>\n",
       "      <td>-0.031957</td>\n",
       "      <td>1.000000</td>\n",
       "    </tr>\n",
       "  </tbody>\n",
       "</table>\n",
       "</div>"
      ],
      "text/plain": [
       "              critic_score  user_score  total_sales\n",
       "critic_score      1.000000    0.557654     0.406568\n",
       "user_score        0.557654    1.000000    -0.031957\n",
       "total_sales       0.406568   -0.031957     1.000000"
      ]
     },
     "execution_count": 40,
     "metadata": {},
     "output_type": "execute_result"
    }
   ],
   "source": [
    "ps4_cor = ps4[['critic_score','user_score', 'total_sales']]\n",
    "ps4_cor.corr()"
   ]
  },
  {
   "cell_type": "code",
   "execution_count": 41,
   "metadata": {},
   "outputs": [
    {
     "data": {
      "image/png": "[encoded data removed]",
      "text/plain": [
       "<Figure size 864x432 with 1 Axes>"
      ]
     },
     "metadata": {
      "needs_background": "light"
     },
     "output_type": "display_data"
    }
   ],
   "source": [
    "plt.figure(figsize=(12,6))\n",
    "sns.scatterplot(x='critic_score', y='total_sales', data=ps4)\n",
    "plt.title(\"Диаграмма рассеивания\")\n",
    "plt.xlabel(\"Оценка критиков\")\n",
    "plt.ylabel(\"Суммарные продажи\");"
   ]
  },
  {
   "cell_type": "markdown",
   "metadata": {},
   "source": [
    "В целом можно сделать вывод о том, что на продажи в большей степени влияют оценки критиков."
   ]
  },
  {
   "cell_type": "markdown",
   "metadata": {},
   "source": [
    "#### Посмотрим на общее распределение игр по жанрам. Что можно сказать о самых прибыльных жанрах? Выделяются ли жанры с высокими и низкими продажами?"
   ]
  },
  {
   "cell_type": "code",
   "execution_count": 42,
   "metadata": {},
   "outputs": [
    {
     "data": {
      "text/html": [
       "<div>\n",
       "<style scoped>\n",
       "    .dataframe tbody tr th:only-of-type {\n",
       "        vertical-align: middle;\n",
       "    }\n",
       "\n",
       "    .dataframe tbody tr th {\n",
       "        vertical-align: top;\n",
       "    }\n",
       "\n",
       "    .dataframe thead th {\n",
       "        text-align: right;\n",
       "    }\n",
       "</style>\n",
       "<table border=\"1\" class=\"dataframe\">\n",
       "  <thead>\n",
       "    <tr style=\"text-align: right;\">\n",
       "      <th></th>\n",
       "      <th>genre</th>\n",
       "      <th>total_sales</th>\n",
       "    </tr>\n",
       "  </thead>\n",
       "  <tbody>\n",
       "    <tr>\n",
       "      <th>0</th>\n",
       "      <td>Action</td>\n",
       "      <td>1735.63</td>\n",
       "    </tr>\n",
       "    <tr>\n",
       "      <th>1</th>\n",
       "      <td>Sports</td>\n",
       "      <td>1326.70</td>\n",
       "    </tr>\n",
       "    <tr>\n",
       "      <th>2</th>\n",
       "      <td>Shooter</td>\n",
       "      <td>1050.02</td>\n",
       "    </tr>\n",
       "    <tr>\n",
       "      <th>3</th>\n",
       "      <td>Role-Playing</td>\n",
       "      <td>931.77</td>\n",
       "    </tr>\n",
       "    <tr>\n",
       "      <th>4</th>\n",
       "      <td>Platform</td>\n",
       "      <td>825.55</td>\n",
       "    </tr>\n",
       "    <tr>\n",
       "      <th>5</th>\n",
       "      <td>Misc</td>\n",
       "      <td>794.41</td>\n",
       "    </tr>\n",
       "    <tr>\n",
       "      <th>6</th>\n",
       "      <td>Racing</td>\n",
       "      <td>725.82</td>\n",
       "    </tr>\n",
       "    <tr>\n",
       "      <th>7</th>\n",
       "      <td>Fighting</td>\n",
       "      <td>443.59</td>\n",
       "    </tr>\n",
       "    <tr>\n",
       "      <th>8</th>\n",
       "      <td>Simulation</td>\n",
       "      <td>388.46</td>\n",
       "    </tr>\n",
       "    <tr>\n",
       "      <th>9</th>\n",
       "      <td>Puzzle</td>\n",
       "      <td>240.54</td>\n",
       "    </tr>\n",
       "    <tr>\n",
       "      <th>10</th>\n",
       "      <td>Adventure</td>\n",
       "      <td>233.35</td>\n",
       "    </tr>\n",
       "    <tr>\n",
       "      <th>11</th>\n",
       "      <td>Strategy</td>\n",
       "      <td>173.25</td>\n",
       "    </tr>\n",
       "  </tbody>\n",
       "</table>\n",
       "</div>"
      ],
      "text/plain": [
       "           genre  total_sales\n",
       "0         Action      1735.63\n",
       "1         Sports      1326.70\n",
       "2        Shooter      1050.02\n",
       "3   Role-Playing       931.77\n",
       "4       Platform       825.55\n",
       "5           Misc       794.41\n",
       "6         Racing       725.82\n",
       "7       Fighting       443.59\n",
       "8     Simulation       388.46\n",
       "9         Puzzle       240.54\n",
       "10     Adventure       233.35\n",
       "11      Strategy       173.25"
      ]
     },
     "execution_count": 42,
     "metadata": {},
     "output_type": "execute_result"
    }
   ],
   "source": [
    "genre = df.pivot_table(\n",
    "    index='genre', values='total_sales', aggfunc='sum').sort_values(by='total_sales', ascending=False)\n",
    "genre = genre.reset_index().rename_axis(None, axis=1)\n",
    "genre"
   ]
  },
  {
   "cell_type": "code",
   "execution_count": 43,
   "metadata": {},
   "outputs": [
    {
     "data": {
      "image/png": "[encoded data removed]",
      "text/plain": [
       "<Figure size 864x432 with 1 Axes>"
      ]
     },
     "metadata": {
      "needs_background": "light"
     },
     "output_type": "display_data"
    }
   ],
   "source": [
    "plt.figure(figsize=(12,6))\n",
    "plt.title('Распределение игр по жанрам')\n",
    "sns.barplot(data=genre, x='genre', y='total_sales', palette=\"Spectral\")\n",
    "plt.xlabel('Жанры игр')\n",
    "plt.ylabel('Суммарные продажи');"
   ]
  },
  {
   "cell_type": "code",
   "execution_count": 44,
   "metadata": {},
   "outputs": [
    {
     "data": {
      "image/png": "[encoded data removed]",
      "text/plain": [
       "<Figure size 1080x1080 with 1 Axes>"
      ]
     },
     "metadata": {
      "needs_background": "light"
     },
     "output_type": "display_data"
    }
   ],
   "source": [
    "plt.figure(figsize=(15,15))\n",
    "sns.boxplot(data=actual_data, x='genre', y='total_sales')\n",
    "plt.title('Ящик с усами', fontsize=15)\n",
    "plt.xlabel('Жанры игр', fontsize=12)\n",
    "plt.ylabel('Суммарные продажи', fontsize=12);"
   ]
  },
  {
   "cell_type": "markdown",
   "metadata": {},
   "source": [
    "Посмотрев на ящик с усами, можно сказать, что самым популярным жанром являются шутеры и спортивные игры. Менее популярные - приключения и пазлы."
   ]
  },
  {
   "cell_type": "markdown",
   "metadata": {},
   "source": [
    "**Выводы:**\n",
    "- Пик выпуска компьютерных игр пришёлся на 2008 год. С 2000 выпуск начал сильно расти, вероятно из-за распространения устройств, на которых люди могут играть в компьютерные игры. После 2008 года выпуск пошёл на убыль, скорее из-за появления мобильного гейминга. Данные до 1990 года не важны, так как игр созданных до этого крайне мало.\n",
    "\n",
    "- Каждая платформа существует около 10 лет. Самыми продаваемыми платформами являются PlayStation (1, 2 и 3 версий), Xbox 360 и Nintendo DS и Wii.\n",
    "\n",
    "- В итоге мы можем выделить общую тенденцию к снижению продаж среди всех платформ. Но при всём этом мы можем выделить потенциально прибыльные платформы и те, которые потенциально будут хуже продаваться. Потенциально прибыльные: PS4, XOne, 3DS. Потенциально будут продаваться хуже остальных: X360, Wii, PS3.\n",
    "\n",
    "- На продажи в большей степени влияют оценки критиков.\n",
    "\n",
    "- Лучшие продажи у игр в жанрах шутеры и спорт. На последнем месте - приключения и пазлы."
   ]
  },
  {
   "cell_type": "markdown",
   "metadata": {},
   "source": [
    "### Портрет пользователей разных регионов"
   ]
  },
  {
   "cell_type": "markdown",
   "metadata": {},
   "source": [
    "#### Самые популярные платформы"
   ]
  },
  {
   "cell_type": "code",
   "execution_count": 45,
   "metadata": {},
   "outputs": [
    {
     "data": {
      "image/png": "[encoded data removed]",
      "text/plain": [
       "<Figure size 1080x360 with 1 Axes>"
      ]
     },
     "metadata": {
      "needs_background": "light"
     },
     "output_type": "display_data"
    }
   ],
   "source": [
    "actual_data\\\n",
    "    .pivot_table(index = 'platform', values = 'na_sales', aggfunc = 'sum')\\\n",
    "    .sort_values(ascending=False, by = 'na_sales')\\\n",
    "    .plot(kind = 'bar', figsize=(15,5), color=('royalblue'));\n",
    "plt.title('Самые популярные платформы в Северной Америке')\n",
    "plt.xlabel('Платформы')\n",
    "plt.ylabel('Суммарные продажи');"
   ]
  },
  {
   "cell_type": "code",
   "execution_count": 46,
   "metadata": {},
   "outputs": [
    {
     "data": {
      "image/png": "[encoded data removed]",
      "text/plain": [
       "<Figure size 1080x360 with 1 Axes>"
      ]
     },
     "metadata": {
      "needs_background": "light"
     },
     "output_type": "display_data"
    }
   ],
   "source": [
    "actual_data\\\n",
    "    .pivot_table(index = 'platform', values = 'eu_sales', aggfunc = 'sum')\\\n",
    "    .sort_values(ascending=False, by = 'eu_sales')\\\n",
    "    .plot(kind = 'bar', figsize=(15,5), color=('thistle'));\n",
    "plt.title('Самые популярные платформы в Европе')\n",
    "plt.xlabel('Платформы')\n",
    "plt.ylabel('Суммарные продажи');"
   ]
  },
  {
   "cell_type": "code",
   "execution_count": 47,
   "metadata": {},
   "outputs": [
    {
     "data": {
      "image/png": "[encoded data removed]",
      "text/plain": [
       "<Figure size 1080x360 with 1 Axes>"
      ]
     },
     "metadata": {
      "needs_background": "light"
     },
     "output_type": "display_data"
    }
   ],
   "source": [
    "actual_data\\\n",
    "    .pivot_table(index = 'platform', values = 'jp_sales', aggfunc = 'sum')\\\n",
    "    .sort_values(ascending=False, by = 'jp_sales')\\\n",
    "    .plot(kind = 'bar', figsize=(15,5), color=('lightblue'));\n",
    "plt.title('Самые популярные платформы в Японии')\n",
    "plt.xlabel('Платформы')\n",
    "plt.ylabel('Суммарные продажи');"
   ]
  },
  {
   "cell_type": "markdown",
   "metadata": {},
   "source": [
    "Самая популярная платформа в Северной Америке - X360, в Европе - PS3, в Японии - 3DC."
   ]
  },
  {
   "cell_type": "markdown",
   "metadata": {},
   "source": [
    "#### Самые популярные жанры"
   ]
  },
  {
   "cell_type": "code",
   "execution_count": 48,
   "metadata": {},
   "outputs": [
    {
     "data": {
      "image/png": "[encoded data removed]",
      "text/plain": [
       "<Figure size 1080x360 with 1 Axes>"
      ]
     },
     "metadata": {
      "needs_background": "light"
     },
     "output_type": "display_data"
    }
   ],
   "source": [
    "actual_data\\\n",
    "    .pivot_table(index = 'genre', values = 'na_sales', aggfunc = 'sum')\\\n",
    "    .sort_values(ascending=False, by = 'na_sales')\\\n",
    "    .plot(kind = 'bar', figsize=(15,5), color=('royalblue'));\n",
    "plt.title('Самые популярные жанры в Северной Америке')\n",
    "plt.xlabel('Жанры')\n",
    "plt.ylabel('Суммарные продажи');"
   ]
  },
  {
   "cell_type": "code",
   "execution_count": 49,
   "metadata": {},
   "outputs": [
    {
     "data": {
      "image/png": "[encoded data removed]",
      "text/plain": [
       "<Figure size 1080x360 with 1 Axes>"
      ]
     },
     "metadata": {
      "needs_background": "light"
     },
     "output_type": "display_data"
    }
   ],
   "source": [
    "actual_data\\\n",
    "    .pivot_table(index = 'genre', values = 'eu_sales', aggfunc = 'sum')\\\n",
    "    .sort_values(ascending=False, by = 'eu_sales')\\\n",
    "    .plot(kind = 'bar', figsize=(15,5), color=('thistle'));\n",
    "plt.title('Самые популярные жанры в Европе')\n",
    "plt.xlabel('Жанры')\n",
    "plt.ylabel('Суммарные продажи');"
   ]
  },
  {
   "cell_type": "code",
   "execution_count": 50,
   "metadata": {},
   "outputs": [
    {
     "data": {
      "image/png": "[encoded data removed]",
      "text/plain": [
       "<Figure size 1080x360 with 1 Axes>"
      ]
     },
     "metadata": {
      "needs_background": "light"
     },
     "output_type": "display_data"
    }
   ],
   "source": [
    "actual_data\\\n",
    "    .pivot_table(index = 'genre', values = 'jp_sales', aggfunc = 'sum')\\\n",
    "    .sort_values(ascending=False, by = 'jp_sales')\\\n",
    "    .plot(kind = 'bar', figsize=(15,5), color=('lightblue'));\n",
    "plt.title('Самые популярные жанры в Японии')\n",
    "plt.xlabel('Жанры')\n",
    "plt.ylabel('Суммарные продажи');"
   ]
  },
  {
   "cell_type": "markdown",
   "metadata": {},
   "source": [
    "Самые популярные жанры в Северной Америке и в Европе совпадают - это экшн и шутеры. В Японии лидеры среди жанров - ролевые игры и экшн."
   ]
  },
  {
   "cell_type": "markdown",
   "metadata": {},
   "source": [
    " #### Влияние рейтинга ESRB на продажи в отдельном регионе"
   ]
  },
  {
   "cell_type": "code",
   "execution_count": 51,
   "metadata": {},
   "outputs": [
    {
     "data": {
      "image/png": "[encoded data removed]",
      "text/plain": [
       "<Figure size 1080x360 with 1 Axes>"
      ]
     },
     "metadata": {
      "needs_background": "light"
     },
     "output_type": "display_data"
    }
   ],
   "source": [
    "actual_data\\\n",
    "    .pivot_table(index = 'rating', values = 'na_sales', aggfunc = 'sum')\\\n",
    "    .sort_values(ascending=False, by = 'na_sales')\\\n",
    "    .plot(kind = 'bar', figsize=(15,5), color=('royalblue'));\n",
    "plt.title('Влияние рейтинга ESRB в Северной Америке')\n",
    "plt.xlabel('Рейтинг ESRB')\n",
    "plt.ylabel('Суммарные продажи');"
   ]
  },
  {
   "cell_type": "code",
   "execution_count": 52,
   "metadata": {},
   "outputs": [
    {
     "data": {
      "image/png": "[encoded data removed]",
      "text/plain": [
       "<Figure size 1080x360 with 1 Axes>"
      ]
     },
     "metadata": {
      "needs_background": "light"
     },
     "output_type": "display_data"
    }
   ],
   "source": [
    "actual_data\\\n",
    "    .pivot_table(index = 'rating', values = 'eu_sales', aggfunc = 'sum')\\\n",
    "    .sort_values(ascending=False, by = 'eu_sales')\\\n",
    "    .plot(kind = 'bar', figsize=(15,5), color=('thistle'));\n",
    "plt.title('Влияние рейтинга ESRB в Европе')\n",
    "plt.xlabel('Рейтинг ESRB')\n",
    "plt.ylabel('Суммарные продажи');"
   ]
  },
  {
   "cell_type": "code",
   "execution_count": 53,
   "metadata": {},
   "outputs": [
    {
     "data": {
      "image/png": "[encoded data removed]",
      "text/plain": [
       "<Figure size 1080x360 with 1 Axes>"
      ]
     },
     "metadata": {
      "needs_background": "light"
     },
     "output_type": "display_data"
    }
   ],
   "source": [
    "actual_data\\\n",
    "    .pivot_table(index = 'rating', values = 'jp_sales', aggfunc = 'sum')\\\n",
    "    .sort_values(ascending=False, by = 'jp_sales')\\\n",
    "    .plot(kind = 'bar', figsize=(15,5), color=('lightblue'));\n",
    "plt.title('Влияние рейтинга ESRB в Японии')\n",
    "plt.xlabel('Рейтинг ESRB')\n",
    "plt.ylabel('Суммарные продажи');"
   ]
  },
  {
   "cell_type": "markdown",
   "metadata": {},
   "source": [
    "Категории рейтинга (возраст, которому должен соответствовать пользователь):\n",
    "- EC (раннее детство)\n",
    "- E (каждый)\n",
    "- Е10+ (каждому старше 10 лет)\n",
    "- T (тинейджеры)\n",
    "- M (старше 17)\n",
    "- A (старше 18)\n",
    "  \n",
    "Рейтинг влияет на проаджи. Так самые большие продажи в Северной Америке и Европе игр с рейтингом М, а в Японии самые продаваемые игры категории Е."
   ]
  },
  {
   "cell_type": "markdown",
   "metadata": {},
   "source": [
    "### Проверка гипотез"
   ]
  },
  {
   "cell_type": "markdown",
   "metadata": {},
   "source": [
    "**Гипотеза**: Средние пользовательские рейтинги платформ Xbox One и PC одинаковые.\n",
    "  \n",
    "**Нулевая гипотеза (Н0)**: Средние пользовательские рейтинги платформ Xbox One и PC равны. \n",
    "  \n",
    "**Альтернативная гипотеза (Н1)**: Средние пользовательские рейтинги платформ Xbox One и PC не равны."
   ]
  },
  {
   "cell_type": "code",
   "execution_count": 54,
   "metadata": {},
   "outputs": [
    {
     "name": "stdout",
     "output_type": "stream",
     "text": [
      "Средний пользовательский рейтинг платформы Xbox One: 6.521428571428572\n",
      "Средний пользовательский рейтинг платформы PC: 6.4454976303317535\n"
     ]
    }
   ],
   "source": [
    "xone = actual_data[(actual_data['platform'] == 'XOne') &  (actual_data['user_score'] > 0)]['user_score']\n",
    "pc = actual_data[(actual_data['platform'] == 'PC') &  (actual_data['user_score'] > 0)]['user_score']\n",
    "print('Средний пользовательский рейтинг платформы Xbox One:', xone.mean())\n",
    "print('Средний пользовательский рейтинг платформы PC:', pc.mean())"
   ]
  },
  {
   "cell_type": "code",
   "execution_count": 55,
   "metadata": {},
   "outputs": [
    {
     "name": "stdout",
     "output_type": "stream",
     "text": [
      "p-значение: 0.6206366351489678\n",
      "Не получилось отвергнуть нулевую гипотезу\n"
     ]
    }
   ],
   "source": [
    "alpha = .01\n",
    "\n",
    "results = st.ttest_ind(xone, pc, equal_var=False)\n",
    "\n",
    "print('p-значение:', results.pvalue)\n",
    "\n",
    "if (results.pvalue < alpha):\n",
    "    print(\"Отвергаем нулевую гипотезу\")\n",
    "else:\n",
    "    print(\"Не получилось отвергнуть нулевую гипотезу\")"
   ]
  },
  {
   "cell_type": "markdown",
   "metadata": {},
   "source": [
    "Первоначально для проверки была гипотеза: средние пользовательские рейтинги платформ Xbox One и PC одинаковые. В этом случае нам не так важно, в ином случае какой показатель больше или меньше, поэтому выбираем двустороннюю гипотезу. В итоге мы не можем отвергнуть нулевую гипотезу."
   ]
  },
  {
   "cell_type": "markdown",
   "metadata": {},
   "source": [
    "**Гипотеза**: Средние пользовательские рейтинги жанров Action (англ. «действие», экшен-игры) и Sports (англ. «спортивные соревнования») разные.\n",
    "  \n",
    "**Нулевая гипотеза (Н0)**: Средние пользовательские рейтинги жанров Action (англ. «действие», экшен-игры) и Sports (англ. «спортивные соревнования») равны. \n",
    "  \n",
    "**Альтернативная гипотеза (Н1)**: Средние пользовательские рейтинги жанров Action (англ. «действие», экшен-игры) и Sports (англ. «спортивные соревнования») не равны."
   ]
  },
  {
   "cell_type": "code",
   "execution_count": 56,
   "metadata": {},
   "outputs": [
    {
     "name": "stdout",
     "output_type": "stream",
     "text": [
      "Средний пользовательский рейтинг жанра action: 6.834274952919021\n",
      "Средний пользовательский рейтинг жанра sports 5.455670103092784\n"
     ]
    }
   ],
   "source": [
    "action = actual_data[(actual_data['genre'] == 'Action') &  (actual_data['user_score'] > 0)]['user_score']#.mean().round()\n",
    "sports = actual_data[(actual_data['genre'] == 'Sports') &  (actual_data['user_score'] > 0)]['user_score']#.mean().round()\n",
    "print('Средний пользовательский рейтинг жанра action:', action.mean())\n",
    "print('Средний пользовательский рейтинг жанра sports', sports.mean())"
   ]
  },
  {
   "cell_type": "code",
   "execution_count": 57,
   "metadata": {},
   "outputs": [
    {
     "name": "stdout",
     "output_type": "stream",
     "text": [
      "p-значение: 3.3183730691020093e-20\n",
      "Отвергаем нулевую гипотезу\n"
     ]
    }
   ],
   "source": [
    "alpha = .01\n",
    "\n",
    "results = st.ttest_ind(action, sports, equal_var=False)\n",
    "\n",
    "print('p-значение:', results.pvalue)\n",
    "\n",
    "\n",
    "if (results.pvalue < alpha):\n",
    "    print(\"Отвергаем нулевую гипотезу\")\n",
    "else:\n",
    "    print(\"Не получилось отвергнуть нулевую гипотезу\")"
   ]
  },
  {
   "cell_type": "markdown",
   "metadata": {},
   "source": [
    "В результате проверки мы отвергаем нулевую гипотезу. "
   ]
  },
  {
   "cell_type": "markdown",
   "metadata": {},
   "source": [
    "### Общие выводы"
   ]
  },
  {
   "cell_type": "markdown",
   "metadata": {},
   "source": [
    "В рамках всей работы мы прошли шесть пунктов:\n",
    "- **Загрузка данных**.\n",
    "- **Подготовка данных**. В итоге предобработки мы привели названия столбцов к нижнему регистру, поменяли тип данных в трёх переменных, избавились от некоторых пропусков и дубликатов. Создали столбцец с суммарными продажами, который понадобится нам в анализе.\n",
    "- **Исследовательский анализ данных**. Мы пришли к следующим выводам:\n",
    "  - Пик выпуска компьютерных игр пришёлся на 2008 год. С 2000 выпуск начал сильно расти, вероятно из-за распространения устройств, на которых люди могут играть в компьютерные игры. После 2008 года выпуск пошёл на убыль, скорее из-за появления мобильного гейминга. Данные до 1990 года не важны, так как игр созданных до этого крайне мало.   - Каждая платформа существует около 10 лет. Самыми продаваемыми платформами являются PlayStation (1, 2 и 3 версий), Xbox 360 и Nintendo DS и Wii.\n",
    "  - В итоге мы можем выделить общую тенденцию к снижению продаж среди всех платформ. Но при всём этом мы можем выделить потенциально прибыльные платформы и те, которые потенциально будут хуже продаваться. Потенциально прибыльные: PS4, XOne, 3DS. Потенциально будут продаваться хуже остальных: X360, Wii, PS3.\n",
    "  - На продажи в большей степени влияют оценки критиков.\n",
    "  - Лучшие продажи у игр в жанрах экшн и спорт. На последнем месте - приключения и стратегии.\n",
    "- **Портрет пользователей разных регионов**. Вот как можно описать пользователей:\n",
    "  - **Северная Америка**. Самые популярные платформы - X360, PS3 и PS4. Самые популярные жанры - экшн и шутеры, меньше всего в данном регионе играют в стратегии и пазлы. Игры категории М и Е популярнее всего.\n",
    "  - **Европа**. Больше всего в Европе играют на PS3, PS4 и X360. Популярные жанры - экшн и шутеры, меньше всего играют в стратегии и пазлы. Игры категории М и Е популярнее всего.\n",
    "  - **Япония**. Самые популярные платформы - 3DS, PS3, PSP. Жанры - ролевые игры и экшн, менее популярные - также стратегии и пазлы. Популярнее всего игры категорий Е и Т.\n",
    "- **Проверка гипотез**.\n",
    "  - Средние пользовательские рейтинги платформ Xbox One и PC одинаковые. Не получилось отвергнуть нулевую гипотезу.\n",
    "  - Средние пользовательские рейтинги жанров Action (англ. «действие», экшен-игры) и Sports (англ. «спортивные соревнования») разные. Отвергаем нулевую гипотезу."
   ]
  }
 ],
 "metadata": {
  "ExecuteTimeLog": [
   {
    "duration": 359,
    "start_time": "2023-08-17T11:32:02.491Z"
   },
   {
    "duration": 125,
    "start_time": "2023-08-17T11:35:39.534Z"
   },
   {
    "duration": 116,
    "start_time": "2023-08-17T11:35:49.132Z"
   },
   {
    "duration": 13,
    "start_time": "2023-08-17T11:37:05.342Z"
   },
   {
    "duration": 15,
    "start_time": "2023-08-17T11:41:04.637Z"
   },
   {
    "duration": 4,
    "start_time": "2023-08-17T11:43:48.058Z"
   },
   {
    "duration": 5,
    "start_time": "2023-08-17T11:43:50.849Z"
   },
   {
    "duration": 86,
    "start_time": "2023-08-17T11:50:00.626Z"
   },
   {
    "duration": 4,
    "start_time": "2023-08-17T11:50:05.626Z"
   },
   {
    "duration": 5,
    "start_time": "2023-08-17T11:53:20.561Z"
   },
   {
    "duration": 5,
    "start_time": "2023-08-17T11:53:41.124Z"
   },
   {
    "duration": 5,
    "start_time": "2023-08-17T11:54:41.361Z"
   },
   {
    "duration": 7,
    "start_time": "2023-08-17T11:57:50.899Z"
   },
   {
    "duration": 2,
    "start_time": "2023-08-17T11:58:04.428Z"
   },
   {
    "duration": 69,
    "start_time": "2023-08-17T11:58:04.591Z"
   },
   {
    "duration": 14,
    "start_time": "2023-08-17T11:58:04.793Z"
   },
   {
    "duration": 4,
    "start_time": "2023-08-17T11:58:05.291Z"
   },
   {
    "duration": 4,
    "start_time": "2023-08-17T11:58:05.540Z"
   },
   {
    "duration": 5,
    "start_time": "2023-08-17T11:58:06.197Z"
   },
   {
    "duration": 5,
    "start_time": "2023-08-17T11:58:06.402Z"
   },
   {
    "duration": 5,
    "start_time": "2023-08-17T11:58:06.553Z"
   },
   {
    "duration": 7,
    "start_time": "2023-08-17T11:58:06.947Z"
   },
   {
    "duration": 4,
    "start_time": "2023-08-17T11:58:07.246Z"
   },
   {
    "duration": 7,
    "start_time": "2023-08-17T11:58:19.410Z"
   },
   {
    "duration": 4,
    "start_time": "2023-08-17T11:58:45.594Z"
   },
   {
    "duration": 6,
    "start_time": "2023-08-17T11:59:13.575Z"
   },
   {
    "duration": 12,
    "start_time": "2023-08-17T11:59:51.158Z"
   },
   {
    "duration": 7,
    "start_time": "2023-08-17T12:00:10.345Z"
   },
   {
    "duration": 14,
    "start_time": "2023-08-17T12:00:16.397Z"
   },
   {
    "duration": 13,
    "start_time": "2023-08-17T12:02:03.910Z"
   },
   {
    "duration": 8,
    "start_time": "2023-08-17T12:02:19.801Z"
   },
   {
    "duration": 14,
    "start_time": "2023-08-17T12:02:32.590Z"
   },
   {
    "duration": 10,
    "start_time": "2023-08-17T12:02:39.691Z"
   },
   {
    "duration": 9,
    "start_time": "2023-08-17T12:02:42.293Z"
   },
   {
    "duration": 7,
    "start_time": "2023-08-17T12:03:19.535Z"
   },
   {
    "duration": 9,
    "start_time": "2023-08-17T12:03:20.677Z"
   },
   {
    "duration": 16,
    "start_time": "2023-08-17T12:06:35.466Z"
   },
   {
    "duration": 16,
    "start_time": "2023-08-17T12:09:40.616Z"
   },
   {
    "duration": 10,
    "start_time": "2023-08-17T12:11:56.135Z"
   },
   {
    "duration": 5,
    "start_time": "2023-08-17T12:14:37.301Z"
   },
   {
    "duration": 355,
    "start_time": "2023-08-17T12:16:18.617Z"
   },
   {
    "duration": 189,
    "start_time": "2023-08-17T12:16:35.755Z"
   },
   {
    "duration": 6,
    "start_time": "2023-08-17T12:17:38.817Z"
   },
   {
    "duration": 11,
    "start_time": "2023-08-17T12:17:47.175Z"
   },
   {
    "duration": 13,
    "start_time": "2023-08-17T12:19:28.740Z"
   },
   {
    "duration": 20,
    "start_time": "2023-08-17T12:20:27.258Z"
   },
   {
    "duration": 9,
    "start_time": "2023-08-17T12:21:23.639Z"
   },
   {
    "duration": 8,
    "start_time": "2023-08-17T12:21:28.412Z"
   },
   {
    "duration": 17,
    "start_time": "2023-08-17T12:22:18.791Z"
   },
   {
    "duration": 14,
    "start_time": "2023-08-17T12:23:09.225Z"
   },
   {
    "duration": 11,
    "start_time": "2023-08-17T12:25:03.013Z"
   },
   {
    "duration": 7,
    "start_time": "2023-08-17T12:25:15.389Z"
   },
   {
    "duration": 7,
    "start_time": "2023-08-17T12:25:20.984Z"
   },
   {
    "duration": 7,
    "start_time": "2023-08-17T12:25:28.621Z"
   },
   {
    "duration": 345,
    "start_time": "2023-08-17T12:25:42.896Z"
   },
   {
    "duration": 71,
    "start_time": "2023-08-17T12:25:43.243Z"
   },
   {
    "duration": 13,
    "start_time": "2023-08-17T12:25:43.316Z"
   },
   {
    "duration": 5,
    "start_time": "2023-08-17T12:25:43.331Z"
   },
   {
    "duration": 5,
    "start_time": "2023-08-17T12:25:43.338Z"
   },
   {
    "duration": 20,
    "start_time": "2023-08-17T12:25:43.345Z"
   },
   {
    "duration": 6,
    "start_time": "2023-08-17T12:25:43.367Z"
   },
   {
    "duration": 5,
    "start_time": "2023-08-17T12:25:43.374Z"
   },
   {
    "duration": 11,
    "start_time": "2023-08-17T12:25:43.380Z"
   },
   {
    "duration": 18,
    "start_time": "2023-08-17T12:25:43.392Z"
   },
   {
    "duration": 11,
    "start_time": "2023-08-17T12:25:43.412Z"
   },
   {
    "duration": 15,
    "start_time": "2023-08-17T12:25:43.425Z"
   },
   {
    "duration": 11,
    "start_time": "2023-08-17T12:25:43.441Z"
   },
   {
    "duration": 17,
    "start_time": "2023-08-17T12:25:43.454Z"
   },
   {
    "duration": 3,
    "start_time": "2023-08-17T12:25:43.473Z"
   },
   {
    "duration": 337,
    "start_time": "2023-08-17T12:25:43.478Z"
   },
   {
    "duration": 6,
    "start_time": "2023-08-17T12:25:43.816Z"
   },
   {
    "duration": 17,
    "start_time": "2023-08-17T12:25:43.824Z"
   },
   {
    "duration": 13,
    "start_time": "2023-08-17T12:25:43.850Z"
   },
   {
    "duration": 16,
    "start_time": "2023-08-17T12:25:43.865Z"
   },
   {
    "duration": 8,
    "start_time": "2023-08-17T12:25:43.882Z"
   },
   {
    "duration": 80,
    "start_time": "2023-08-17T12:25:43.891Z"
   },
   {
    "duration": 7,
    "start_time": "2023-08-17T12:25:52.502Z"
   },
   {
    "duration": 7,
    "start_time": "2023-08-17T12:26:02.532Z"
   },
   {
    "duration": 383,
    "start_time": "2023-08-17T12:26:10.462Z"
   },
   {
    "duration": 69,
    "start_time": "2023-08-17T12:26:10.847Z"
   },
   {
    "duration": 13,
    "start_time": "2023-08-17T12:26:10.917Z"
   },
   {
    "duration": 8,
    "start_time": "2023-08-17T12:26:10.931Z"
   },
   {
    "duration": 8,
    "start_time": "2023-08-17T12:26:10.940Z"
   },
   {
    "duration": 10,
    "start_time": "2023-08-17T12:26:10.949Z"
   },
   {
    "duration": 10,
    "start_time": "2023-08-17T12:26:10.961Z"
   },
   {
    "duration": 4,
    "start_time": "2023-08-17T12:26:10.972Z"
   },
   {
    "duration": 8,
    "start_time": "2023-08-17T12:26:10.977Z"
   },
   {
    "duration": 17,
    "start_time": "2023-08-17T12:26:10.987Z"
   },
   {
    "duration": 12,
    "start_time": "2023-08-17T12:26:11.005Z"
   },
   {
    "duration": 33,
    "start_time": "2023-08-17T12:26:11.018Z"
   },
   {
    "duration": 8,
    "start_time": "2023-08-17T12:26:11.052Z"
   },
   {
    "duration": 15,
    "start_time": "2023-08-17T12:26:11.061Z"
   },
   {
    "duration": 8,
    "start_time": "2023-08-17T12:26:11.077Z"
   },
   {
    "duration": 336,
    "start_time": "2023-08-17T12:26:11.086Z"
   },
   {
    "duration": 5,
    "start_time": "2023-08-17T12:26:11.424Z"
   },
   {
    "duration": 22,
    "start_time": "2023-08-17T12:26:11.431Z"
   },
   {
    "duration": 11,
    "start_time": "2023-08-17T12:26:11.455Z"
   },
   {
    "duration": 15,
    "start_time": "2023-08-17T12:26:11.468Z"
   },
   {
    "duration": 10,
    "start_time": "2023-08-17T12:26:11.484Z"
   },
   {
    "duration": 9,
    "start_time": "2023-08-17T12:26:11.495Z"
   },
   {
    "duration": 7,
    "start_time": "2023-08-17T12:26:19.524Z"
   },
   {
    "duration": 64,
    "start_time": "2023-08-17T12:26:27.217Z"
   },
   {
    "duration": 11,
    "start_time": "2023-08-17T12:26:30.614Z"
   },
   {
    "duration": 8,
    "start_time": "2023-08-17T12:26:32.743Z"
   },
   {
    "duration": 29,
    "start_time": "2023-08-17T12:26:44.384Z"
   },
   {
    "duration": 71,
    "start_time": "2023-08-17T12:27:07.120Z"
   },
   {
    "duration": 14,
    "start_time": "2023-08-17T12:27:12.847Z"
   },
   {
    "duration": 14,
    "start_time": "2023-08-17T12:27:15.299Z"
   },
   {
    "duration": 368,
    "start_time": "2023-08-17T12:27:21.610Z"
   },
   {
    "duration": 79,
    "start_time": "2023-08-17T12:27:21.981Z"
   },
   {
    "duration": 16,
    "start_time": "2023-08-17T12:27:22.061Z"
   },
   {
    "duration": 18,
    "start_time": "2023-08-17T12:27:22.078Z"
   },
   {
    "duration": 9,
    "start_time": "2023-08-17T12:27:22.098Z"
   },
   {
    "duration": 21,
    "start_time": "2023-08-17T12:27:22.109Z"
   },
   {
    "duration": 18,
    "start_time": "2023-08-17T12:27:22.131Z"
   },
   {
    "duration": 12,
    "start_time": "2023-08-17T12:27:22.150Z"
   },
   {
    "duration": 24,
    "start_time": "2023-08-17T12:27:22.164Z"
   },
   {
    "duration": 22,
    "start_time": "2023-08-17T12:27:22.189Z"
   },
   {
    "duration": 15,
    "start_time": "2023-08-17T12:27:22.213Z"
   },
   {
    "duration": 8,
    "start_time": "2023-08-17T12:27:22.229Z"
   },
   {
    "duration": 10,
    "start_time": "2023-08-17T12:27:22.238Z"
   },
   {
    "duration": 22,
    "start_time": "2023-08-17T12:27:22.251Z"
   },
   {
    "duration": 11,
    "start_time": "2023-08-17T12:27:22.275Z"
   },
   {
    "duration": 348,
    "start_time": "2023-08-17T12:27:22.287Z"
   },
   {
    "duration": 6,
    "start_time": "2023-08-17T12:27:22.637Z"
   },
   {
    "duration": 19,
    "start_time": "2023-08-17T12:27:22.649Z"
   },
   {
    "duration": 14,
    "start_time": "2023-08-17T12:27:22.669Z"
   },
   {
    "duration": 16,
    "start_time": "2023-08-17T12:27:22.684Z"
   },
   {
    "duration": 16,
    "start_time": "2023-08-17T12:27:22.701Z"
   },
   {
    "duration": 17,
    "start_time": "2023-08-17T12:27:22.718Z"
   },
   {
    "duration": 367,
    "start_time": "2023-08-17T12:27:43.671Z"
   },
   {
    "duration": 71,
    "start_time": "2023-08-17T12:27:44.039Z"
   },
   {
    "duration": 12,
    "start_time": "2023-08-17T12:27:44.111Z"
   },
   {
    "duration": 4,
    "start_time": "2023-08-17T12:27:44.125Z"
   },
   {
    "duration": 9,
    "start_time": "2023-08-17T12:27:44.130Z"
   },
   {
    "duration": 15,
    "start_time": "2023-08-17T12:27:44.140Z"
   },
   {
    "duration": 32,
    "start_time": "2023-08-17T12:27:44.156Z"
   },
   {
    "duration": 10,
    "start_time": "2023-08-17T12:27:44.189Z"
   },
   {
    "duration": 16,
    "start_time": "2023-08-17T12:27:44.200Z"
   },
   {
    "duration": 23,
    "start_time": "2023-08-17T12:27:44.218Z"
   },
   {
    "duration": 12,
    "start_time": "2023-08-17T12:27:44.242Z"
   },
   {
    "duration": 7,
    "start_time": "2023-08-17T12:27:44.255Z"
   },
   {
    "duration": 15,
    "start_time": "2023-08-17T12:27:44.263Z"
   },
   {
    "duration": 28,
    "start_time": "2023-08-17T12:27:44.279Z"
   },
   {
    "duration": 15,
    "start_time": "2023-08-17T12:27:44.309Z"
   },
   {
    "duration": 324,
    "start_time": "2023-08-17T12:27:44.326Z"
   },
   {
    "duration": 7,
    "start_time": "2023-08-17T12:27:44.652Z"
   },
   {
    "duration": 14,
    "start_time": "2023-08-17T12:27:44.660Z"
   },
   {
    "duration": 12,
    "start_time": "2023-08-17T12:27:44.675Z"
   },
   {
    "duration": 16,
    "start_time": "2023-08-17T12:27:44.689Z"
   },
   {
    "duration": 86,
    "start_time": "2023-08-17T12:27:44.707Z"
   },
   {
    "duration": 0,
    "start_time": "2023-08-17T12:27:44.794Z"
   },
   {
    "duration": 0,
    "start_time": "2023-08-17T12:27:44.795Z"
   },
   {
    "duration": 19,
    "start_time": "2023-08-17T12:28:17.148Z"
   },
   {
    "duration": 9,
    "start_time": "2023-08-17T12:28:18.334Z"
   },
   {
    "duration": 724,
    "start_time": "2023-08-17T12:28:22.704Z"
   },
   {
    "duration": 830,
    "start_time": "2023-08-17T12:28:33.473Z"
   },
   {
    "duration": 16,
    "start_time": "2023-08-17T12:28:37.144Z"
   },
   {
    "duration": 19,
    "start_time": "2023-08-17T12:28:53.193Z"
   },
   {
    "duration": 17,
    "start_time": "2023-08-17T12:28:55.850Z"
   },
   {
    "duration": 19,
    "start_time": "2023-08-17T12:28:57.390Z"
   },
   {
    "duration": 15,
    "start_time": "2023-08-17T12:28:59.401Z"
   },
   {
    "duration": 8,
    "start_time": "2023-08-17T12:29:03.324Z"
   },
   {
    "duration": 752,
    "start_time": "2023-08-17T12:29:39.690Z"
   },
   {
    "duration": 118,
    "start_time": "2023-08-17T12:29:46.591Z"
   },
   {
    "duration": 9,
    "start_time": "2023-08-17T12:29:48.856Z"
   },
   {
    "duration": 9,
    "start_time": "2023-08-17T12:30:04.039Z"
   },
   {
    "duration": 11,
    "start_time": "2023-08-17T12:30:05.998Z"
   },
   {
    "duration": 10,
    "start_time": "2023-08-17T12:30:07.590Z"
   },
   {
    "duration": 22,
    "start_time": "2023-08-17T12:30:10.265Z"
   },
   {
    "duration": 19,
    "start_time": "2023-08-17T12:30:11.567Z"
   },
   {
    "duration": 8,
    "start_time": "2023-08-17T12:30:13.338Z"
   },
   {
    "duration": 17,
    "start_time": "2023-08-17T12:30:23.671Z"
   },
   {
    "duration": 24,
    "start_time": "2023-08-17T12:30:36.299Z"
   },
   {
    "duration": 22,
    "start_time": "2023-08-17T12:30:38.246Z"
   },
   {
    "duration": 8,
    "start_time": "2023-08-17T12:30:39.906Z"
   },
   {
    "duration": 15,
    "start_time": "2023-08-17T12:30:41.327Z"
   },
   {
    "duration": 17,
    "start_time": "2023-08-17T12:30:50.689Z"
   },
   {
    "duration": 9,
    "start_time": "2023-08-17T12:30:55.364Z"
   },
   {
    "duration": 9,
    "start_time": "2023-08-17T12:31:01.904Z"
   },
   {
    "duration": 9,
    "start_time": "2023-08-17T12:31:10.512Z"
   },
   {
    "duration": 15,
    "start_time": "2023-08-17T12:31:26.355Z"
   },
   {
    "duration": 17,
    "start_time": "2023-08-17T12:32:30.357Z"
   },
   {
    "duration": 17,
    "start_time": "2023-08-17T12:32:31.988Z"
   },
   {
    "duration": 26,
    "start_time": "2023-08-17T12:32:33.485Z"
   },
   {
    "duration": 7,
    "start_time": "2023-08-17T12:32:36.685Z"
   },
   {
    "duration": 15,
    "start_time": "2023-08-17T12:32:38.113Z"
   },
   {
    "duration": 16,
    "start_time": "2023-08-17T12:32:39.550Z"
   },
   {
    "duration": 28,
    "start_time": "2023-08-17T12:32:46.065Z"
   },
   {
    "duration": 9,
    "start_time": "2023-08-17T12:32:49.755Z"
   },
   {
    "duration": 16,
    "start_time": "2023-08-17T12:32:51.221Z"
   },
   {
    "duration": 6,
    "start_time": "2023-08-17T12:33:06.717Z"
   },
   {
    "duration": 9,
    "start_time": "2023-08-17T12:33:08.745Z"
   },
   {
    "duration": 17,
    "start_time": "2023-08-17T12:33:09.988Z"
   },
   {
    "duration": 28,
    "start_time": "2023-08-17T12:33:38.465Z"
   },
   {
    "duration": 16,
    "start_time": "2023-08-17T12:33:43.214Z"
   },
   {
    "duration": 20,
    "start_time": "2023-08-17T12:33:59.488Z"
   },
   {
    "duration": 10,
    "start_time": "2023-08-17T12:34:02.672Z"
   },
   {
    "duration": 16,
    "start_time": "2023-08-17T12:34:04.464Z"
   },
   {
    "duration": 402,
    "start_time": "2023-08-17T12:34:11.827Z"
   },
   {
    "duration": 73,
    "start_time": "2023-08-17T12:34:12.231Z"
   },
   {
    "duration": 13,
    "start_time": "2023-08-17T12:34:12.305Z"
   },
   {
    "duration": 5,
    "start_time": "2023-08-17T12:34:12.320Z"
   },
   {
    "duration": 13,
    "start_time": "2023-08-17T12:34:12.326Z"
   },
   {
    "duration": 6,
    "start_time": "2023-08-17T12:34:12.340Z"
   },
   {
    "duration": 8,
    "start_time": "2023-08-17T12:34:12.349Z"
   },
   {
    "duration": 5,
    "start_time": "2023-08-17T12:34:12.358Z"
   },
   {
    "duration": 8,
    "start_time": "2023-08-17T12:34:12.364Z"
   },
   {
    "duration": 21,
    "start_time": "2023-08-17T12:34:12.375Z"
   },
   {
    "duration": 13,
    "start_time": "2023-08-17T12:34:12.397Z"
   },
   {
    "duration": 7,
    "start_time": "2023-08-17T12:34:12.411Z"
   },
   {
    "duration": 35,
    "start_time": "2023-08-17T12:34:12.419Z"
   },
   {
    "duration": 22,
    "start_time": "2023-08-17T12:34:12.456Z"
   },
   {
    "duration": 4,
    "start_time": "2023-08-17T12:34:12.479Z"
   },
   {
    "duration": 351,
    "start_time": "2023-08-17T12:34:12.485Z"
   },
   {
    "duration": 15,
    "start_time": "2023-08-17T12:34:12.837Z"
   },
   {
    "duration": 13,
    "start_time": "2023-08-17T12:34:12.853Z"
   },
   {
    "duration": 12,
    "start_time": "2023-08-17T12:34:12.867Z"
   },
   {
    "duration": 16,
    "start_time": "2023-08-17T12:34:12.881Z"
   },
   {
    "duration": 21,
    "start_time": "2023-08-17T12:34:12.899Z"
   },
   {
    "duration": 59,
    "start_time": "2023-08-17T12:34:12.921Z"
   },
   {
    "duration": 11,
    "start_time": "2023-08-17T12:34:12.982Z"
   },
   {
    "duration": 18,
    "start_time": "2023-08-17T12:34:12.995Z"
   },
   {
    "duration": 22,
    "start_time": "2023-08-17T12:34:39.014Z"
   },
   {
    "duration": 18,
    "start_time": "2023-08-17T12:34:39.934Z"
   },
   {
    "duration": 21,
    "start_time": "2023-08-17T12:34:43.349Z"
   },
   {
    "duration": 66,
    "start_time": "2023-08-17T12:34:54.693Z"
   },
   {
    "duration": 26,
    "start_time": "2023-08-17T12:35:02.440Z"
   },
   {
    "duration": 9,
    "start_time": "2023-08-17T12:35:08.949Z"
   },
   {
    "duration": 367,
    "start_time": "2023-08-17T12:35:13.366Z"
   },
   {
    "duration": 71,
    "start_time": "2023-08-17T12:35:13.735Z"
   },
   {
    "duration": 13,
    "start_time": "2023-08-17T12:35:13.808Z"
   },
   {
    "duration": 3,
    "start_time": "2023-08-17T12:35:13.823Z"
   },
   {
    "duration": 9,
    "start_time": "2023-08-17T12:35:13.827Z"
   },
   {
    "duration": 8,
    "start_time": "2023-08-17T12:35:13.838Z"
   },
   {
    "duration": 5,
    "start_time": "2023-08-17T12:35:13.847Z"
   },
   {
    "duration": 11,
    "start_time": "2023-08-17T12:35:13.853Z"
   },
   {
    "duration": 17,
    "start_time": "2023-08-17T12:35:13.865Z"
   },
   {
    "duration": 35,
    "start_time": "2023-08-17T12:35:13.884Z"
   },
   {
    "duration": 32,
    "start_time": "2023-08-17T12:35:13.920Z"
   },
   {
    "duration": 26,
    "start_time": "2023-08-17T12:35:13.953Z"
   },
   {
    "duration": 14,
    "start_time": "2023-08-17T12:35:13.981Z"
   },
   {
    "duration": 39,
    "start_time": "2023-08-17T12:35:13.996Z"
   },
   {
    "duration": 3,
    "start_time": "2023-08-17T12:35:14.037Z"
   },
   {
    "duration": 332,
    "start_time": "2023-08-17T12:35:14.042Z"
   },
   {
    "duration": 7,
    "start_time": "2023-08-17T12:35:14.376Z"
   },
   {
    "duration": 14,
    "start_time": "2023-08-17T12:35:14.384Z"
   },
   {
    "duration": 14,
    "start_time": "2023-08-17T12:35:14.400Z"
   },
   {
    "duration": 43,
    "start_time": "2023-08-17T12:35:14.415Z"
   },
   {
    "duration": 19,
    "start_time": "2023-08-17T12:35:14.460Z"
   },
   {
    "duration": 20,
    "start_time": "2023-08-17T12:35:14.480Z"
   },
   {
    "duration": 8,
    "start_time": "2023-08-17T12:35:14.501Z"
   },
   {
    "duration": 43,
    "start_time": "2023-08-17T12:35:14.510Z"
   },
   {
    "duration": 8,
    "start_time": "2023-08-17T12:36:03.111Z"
   },
   {
    "duration": 58,
    "start_time": "2023-08-17T12:36:05.321Z"
   },
   {
    "duration": 411,
    "start_time": "2023-08-17T12:36:11.023Z"
   },
   {
    "duration": 71,
    "start_time": "2023-08-17T12:36:11.436Z"
   },
   {
    "duration": 14,
    "start_time": "2023-08-17T12:36:11.509Z"
   },
   {
    "duration": 4,
    "start_time": "2023-08-17T12:36:11.524Z"
   },
   {
    "duration": 6,
    "start_time": "2023-08-17T12:36:11.531Z"
   },
   {
    "duration": 15,
    "start_time": "2023-08-17T12:36:11.538Z"
   },
   {
    "duration": 6,
    "start_time": "2023-08-17T12:36:11.555Z"
   },
   {
    "duration": 7,
    "start_time": "2023-08-17T12:36:11.562Z"
   },
   {
    "duration": 8,
    "start_time": "2023-08-17T12:36:11.570Z"
   },
   {
    "duration": 18,
    "start_time": "2023-08-17T12:36:11.580Z"
   },
   {
    "duration": 13,
    "start_time": "2023-08-17T12:36:11.600Z"
   },
   {
    "duration": 35,
    "start_time": "2023-08-17T12:36:11.614Z"
   },
   {
    "duration": 8,
    "start_time": "2023-08-17T12:36:11.651Z"
   },
   {
    "duration": 15,
    "start_time": "2023-08-17T12:36:11.661Z"
   },
   {
    "duration": 4,
    "start_time": "2023-08-17T12:36:11.678Z"
   },
   {
    "duration": 346,
    "start_time": "2023-08-17T12:36:11.683Z"
   },
   {
    "duration": 7,
    "start_time": "2023-08-17T12:36:12.030Z"
   },
   {
    "duration": 66,
    "start_time": "2023-08-17T12:36:12.038Z"
   },
   {
    "duration": 0,
    "start_time": "2023-08-17T12:36:12.105Z"
   },
   {
    "duration": 0,
    "start_time": "2023-08-17T12:36:12.106Z"
   },
   {
    "duration": 7,
    "start_time": "2023-08-17T12:36:29.533Z"
   },
   {
    "duration": 7,
    "start_time": "2023-08-17T12:36:31.335Z"
   },
   {
    "duration": 2,
    "start_time": "2023-08-17T12:36:35.100Z"
   },
   {
    "duration": 64,
    "start_time": "2023-08-17T12:36:35.434Z"
   },
   {
    "duration": 12,
    "start_time": "2023-08-17T12:36:35.789Z"
   },
   {
    "duration": 3,
    "start_time": "2023-08-17T12:36:36.751Z"
   },
   {
    "duration": 5,
    "start_time": "2023-08-17T12:36:36.958Z"
   },
   {
    "duration": 5,
    "start_time": "2023-08-17T12:36:37.289Z"
   },
   {
    "duration": 5,
    "start_time": "2023-08-17T12:36:37.442Z"
   },
   {
    "duration": 4,
    "start_time": "2023-08-17T12:36:37.623Z"
   },
   {
    "duration": 8,
    "start_time": "2023-08-17T12:36:37.930Z"
   },
   {
    "duration": 16,
    "start_time": "2023-08-17T12:36:38.259Z"
   },
   {
    "duration": 13,
    "start_time": "2023-08-17T12:36:38.423Z"
   },
   {
    "duration": 6,
    "start_time": "2023-08-17T12:36:38.740Z"
   },
   {
    "duration": 8,
    "start_time": "2023-08-17T12:36:38.925Z"
   },
   {
    "duration": 16,
    "start_time": "2023-08-17T12:36:39.335Z"
   },
   {
    "duration": 5,
    "start_time": "2023-08-17T12:36:39.733Z"
   },
   {
    "duration": 323,
    "start_time": "2023-08-17T12:36:40.695Z"
   },
   {
    "duration": 7,
    "start_time": "2023-08-17T12:36:41.886Z"
   },
   {
    "duration": 15,
    "start_time": "2023-08-17T12:36:43.062Z"
   },
   {
    "duration": 14,
    "start_time": "2023-08-17T12:36:44.567Z"
   },
   {
    "duration": 18,
    "start_time": "2023-08-17T12:36:45.316Z"
   },
   {
    "duration": 3,
    "start_time": "2023-08-17T12:37:15.029Z"
   },
   {
    "duration": 21,
    "start_time": "2023-08-17T12:37:18.072Z"
   },
   {
    "duration": 18,
    "start_time": "2023-08-17T12:37:29.524Z"
   },
   {
    "duration": 18,
    "start_time": "2023-08-17T12:37:59.431Z"
   },
   {
    "duration": 20,
    "start_time": "2023-08-17T12:38:03.406Z"
   },
   {
    "duration": 1355,
    "start_time": "2023-08-17T12:39:43.544Z"
   },
   {
    "duration": 355,
    "start_time": "2023-08-17T12:40:11.875Z"
   },
   {
    "duration": 72,
    "start_time": "2023-08-17T12:40:12.232Z"
   },
   {
    "duration": 13,
    "start_time": "2023-08-17T12:40:12.305Z"
   },
   {
    "duration": 7,
    "start_time": "2023-08-17T12:40:12.320Z"
   },
   {
    "duration": 13,
    "start_time": "2023-08-17T12:40:12.328Z"
   },
   {
    "duration": 16,
    "start_time": "2023-08-17T12:40:12.342Z"
   },
   {
    "duration": 18,
    "start_time": "2023-08-17T12:40:12.360Z"
   },
   {
    "duration": 17,
    "start_time": "2023-08-17T12:40:12.380Z"
   },
   {
    "duration": 7,
    "start_time": "2023-08-17T12:40:12.399Z"
   },
   {
    "duration": 22,
    "start_time": "2023-08-17T12:40:12.408Z"
   },
   {
    "duration": 14,
    "start_time": "2023-08-17T12:40:12.432Z"
   },
   {
    "duration": 8,
    "start_time": "2023-08-17T12:40:12.448Z"
   },
   {
    "duration": 14,
    "start_time": "2023-08-17T12:40:12.458Z"
   },
   {
    "duration": 17,
    "start_time": "2023-08-17T12:40:12.474Z"
   },
   {
    "duration": 3,
    "start_time": "2023-08-17T12:40:12.493Z"
   },
   {
    "duration": 334,
    "start_time": "2023-08-17T12:40:12.497Z"
   },
   {
    "duration": 7,
    "start_time": "2023-08-17T12:40:12.832Z"
   },
   {
    "duration": 18,
    "start_time": "2023-08-17T12:40:12.849Z"
   },
   {
    "duration": 19,
    "start_time": "2023-08-17T12:40:12.868Z"
   },
   {
    "duration": 27,
    "start_time": "2023-08-17T12:40:12.888Z"
   },
   {
    "duration": 32,
    "start_time": "2023-08-17T12:40:12.916Z"
   },
   {
    "duration": 25,
    "start_time": "2023-08-17T12:40:12.950Z"
   },
   {
    "duration": 21,
    "start_time": "2023-08-17T12:42:31.149Z"
   },
   {
    "duration": 17,
    "start_time": "2023-08-17T12:42:40.792Z"
   },
   {
    "duration": 21,
    "start_time": "2023-08-17T12:42:57.801Z"
   },
   {
    "duration": 16,
    "start_time": "2023-08-17T12:43:00.174Z"
   },
   {
    "duration": 69,
    "start_time": "2023-08-17T12:43:31.460Z"
   },
   {
    "duration": 18,
    "start_time": "2023-08-17T12:43:41.838Z"
   },
   {
    "duration": 18,
    "start_time": "2023-08-17T12:43:48.851Z"
   },
   {
    "duration": 23,
    "start_time": "2023-08-17T12:44:06.892Z"
   },
   {
    "duration": 18,
    "start_time": "2023-08-17T12:44:11.224Z"
   },
   {
    "duration": 24,
    "start_time": "2023-08-17T12:44:12.904Z"
   },
   {
    "duration": 16,
    "start_time": "2023-08-17T12:44:21.116Z"
   },
   {
    "duration": 23,
    "start_time": "2023-08-17T12:44:26.212Z"
   },
   {
    "duration": 17,
    "start_time": "2023-08-17T12:44:27.842Z"
   },
   {
    "duration": 26,
    "start_time": "2023-08-17T12:48:29.283Z"
   },
   {
    "duration": 17,
    "start_time": "2023-08-17T12:48:31.906Z"
   },
   {
    "duration": 391,
    "start_time": "2023-08-17T12:48:38.644Z"
   },
   {
    "duration": 85,
    "start_time": "2023-08-17T12:48:39.037Z"
   },
   {
    "duration": 14,
    "start_time": "2023-08-17T12:48:39.123Z"
   },
   {
    "duration": 23,
    "start_time": "2023-08-17T12:48:39.140Z"
   },
   {
    "duration": 27,
    "start_time": "2023-08-17T12:48:39.165Z"
   },
   {
    "duration": 47,
    "start_time": "2023-08-17T12:48:39.194Z"
   },
   {
    "duration": 20,
    "start_time": "2023-08-17T12:48:39.243Z"
   },
   {
    "duration": 42,
    "start_time": "2023-08-17T12:48:39.265Z"
   },
   {
    "duration": 30,
    "start_time": "2023-08-17T12:48:39.309Z"
   },
   {
    "duration": 56,
    "start_time": "2023-08-17T12:48:39.341Z"
   },
   {
    "duration": 22,
    "start_time": "2023-08-17T12:48:39.398Z"
   },
   {
    "duration": 27,
    "start_time": "2023-08-17T12:48:39.422Z"
   },
   {
    "duration": 26,
    "start_time": "2023-08-17T12:48:39.450Z"
   },
   {
    "duration": 36,
    "start_time": "2023-08-17T12:48:39.477Z"
   },
   {
    "duration": 9,
    "start_time": "2023-08-17T12:48:39.515Z"
   },
   {
    "duration": 348,
    "start_time": "2023-08-17T12:48:39.526Z"
   },
   {
    "duration": 6,
    "start_time": "2023-08-17T12:48:39.875Z"
   },
   {
    "duration": 43,
    "start_time": "2023-08-17T12:48:39.883Z"
   },
   {
    "duration": 14,
    "start_time": "2023-08-17T12:48:39.928Z"
   },
   {
    "duration": 28,
    "start_time": "2023-08-17T12:48:39.943Z"
   },
   {
    "duration": 59,
    "start_time": "2023-08-17T12:48:39.973Z"
   },
   {
    "duration": 15,
    "start_time": "2023-08-17T12:48:40.033Z"
   },
   {
    "duration": 10,
    "start_time": "2023-08-17T12:49:10.969Z"
   },
   {
    "duration": 13,
    "start_time": "2023-08-17T12:49:12.409Z"
   },
   {
    "duration": 6,
    "start_time": "2023-08-17T12:56:07.775Z"
   },
   {
    "duration": 8,
    "start_time": "2023-08-17T12:56:09.611Z"
   },
   {
    "duration": 13,
    "start_time": "2023-08-17T12:56:11.116Z"
   },
   {
    "duration": 64,
    "start_time": "2023-08-17T13:02:38.299Z"
   },
   {
    "duration": 1311,
    "start_time": "2023-08-17T13:03:12.126Z"
   },
   {
    "duration": 73,
    "start_time": "2023-08-17T13:03:13.439Z"
   },
   {
    "duration": 14,
    "start_time": "2023-08-17T13:03:13.513Z"
   },
   {
    "duration": 10,
    "start_time": "2023-08-17T13:03:13.528Z"
   },
   {
    "duration": 9,
    "start_time": "2023-08-17T13:03:13.540Z"
   },
   {
    "duration": 9,
    "start_time": "2023-08-17T13:03:13.550Z"
   },
   {
    "duration": 6,
    "start_time": "2023-08-17T13:03:13.560Z"
   },
   {
    "duration": 12,
    "start_time": "2023-08-17T13:03:13.567Z"
   },
   {
    "duration": 11,
    "start_time": "2023-08-17T13:03:13.580Z"
   },
   {
    "duration": 19,
    "start_time": "2023-08-17T13:03:13.592Z"
   },
   {
    "duration": 11,
    "start_time": "2023-08-17T13:03:13.613Z"
   },
   {
    "duration": 25,
    "start_time": "2023-08-17T13:03:13.626Z"
   },
   {
    "duration": 8,
    "start_time": "2023-08-17T13:03:13.652Z"
   },
   {
    "duration": 24,
    "start_time": "2023-08-17T13:03:13.662Z"
   },
   {
    "duration": 14,
    "start_time": "2023-08-17T13:03:13.687Z"
   },
   {
    "duration": 332,
    "start_time": "2023-08-17T13:03:13.702Z"
   },
   {
    "duration": 14,
    "start_time": "2023-08-17T13:03:14.035Z"
   },
   {
    "duration": 13,
    "start_time": "2023-08-17T13:03:14.051Z"
   },
   {
    "duration": 13,
    "start_time": "2023-08-17T13:03:14.065Z"
   },
   {
    "duration": 18,
    "start_time": "2023-08-17T13:03:14.080Z"
   },
   {
    "duration": 9,
    "start_time": "2023-08-17T13:03:14.099Z"
   },
   {
    "duration": 41,
    "start_time": "2023-08-17T13:03:14.109Z"
   },
   {
    "duration": 185,
    "start_time": "2023-08-17T13:03:14.152Z"
   },
   {
    "duration": 191,
    "start_time": "2023-08-17T13:03:34.432Z"
   },
   {
    "duration": 189,
    "start_time": "2023-08-17T13:03:40.431Z"
   },
   {
    "duration": 178,
    "start_time": "2023-08-17T13:03:51.808Z"
   },
   {
    "duration": 191,
    "start_time": "2023-08-17T13:04:28.398Z"
   },
   {
    "duration": 171,
    "start_time": "2023-08-17T13:04:33.092Z"
   },
   {
    "duration": 168,
    "start_time": "2023-08-17T13:04:37.953Z"
   },
   {
    "duration": 346,
    "start_time": "2023-08-17T13:28:32.432Z"
   },
   {
    "duration": 267,
    "start_time": "2023-08-17T13:28:59.239Z"
   },
   {
    "duration": 273,
    "start_time": "2023-08-17T13:29:42.518Z"
   },
   {
    "duration": 284,
    "start_time": "2023-08-17T13:29:56.317Z"
   },
   {
    "duration": 278,
    "start_time": "2023-08-17T13:30:24.923Z"
   },
   {
    "duration": 273,
    "start_time": "2023-08-17T13:31:31.029Z"
   },
   {
    "duration": 366,
    "start_time": "2023-08-17T13:32:04.154Z"
   },
   {
    "duration": 283,
    "start_time": "2023-08-17T13:32:11.503Z"
   },
   {
    "duration": 280,
    "start_time": "2023-08-17T13:37:20.706Z"
   },
   {
    "duration": 106,
    "start_time": "2023-08-17T13:38:01.354Z"
   },
   {
    "duration": 7,
    "start_time": "2023-08-17T13:39:30.060Z"
   },
   {
    "duration": 7,
    "start_time": "2023-08-17T13:39:37.602Z"
   },
   {
    "duration": 7,
    "start_time": "2023-08-17T13:39:52.714Z"
   },
   {
    "duration": 19,
    "start_time": "2023-08-17T13:40:06.305Z"
   },
   {
    "duration": 1441,
    "start_time": "2023-08-17T13:42:05.705Z"
   },
   {
    "duration": 106,
    "start_time": "2023-08-17T13:43:17.028Z"
   },
   {
    "duration": 18,
    "start_time": "2023-08-17T13:44:53.238Z"
   },
   {
    "duration": 1922,
    "start_time": "2023-08-17T13:45:53.301Z"
   },
   {
    "duration": 8,
    "start_time": "2023-08-17T13:46:06.608Z"
   },
   {
    "duration": 8,
    "start_time": "2023-08-17T13:46:33.214Z"
   },
   {
    "duration": 4,
    "start_time": "2023-08-17T13:46:35.572Z"
   },
   {
    "duration": 4,
    "start_time": "2023-08-17T13:46:44.406Z"
   },
   {
    "duration": 7,
    "start_time": "2023-08-17T13:46:59.823Z"
   },
   {
    "duration": 1024,
    "start_time": "2023-08-17T13:47:07.839Z"
   },
   {
    "duration": 1139,
    "start_time": "2023-08-17T13:54:00.875Z"
   },
   {
    "duration": 1085,
    "start_time": "2023-08-17T13:54:17.543Z"
   },
   {
    "duration": 1130,
    "start_time": "2023-08-17T13:54:42.136Z"
   },
   {
    "duration": 1075,
    "start_time": "2023-08-17T13:57:17.920Z"
   },
   {
    "duration": 1128,
    "start_time": "2023-08-17T13:57:26.069Z"
   },
   {
    "duration": 1164,
    "start_time": "2023-08-17T13:58:15.532Z"
   },
   {
    "duration": 1983,
    "start_time": "2023-08-17T13:58:44.273Z"
   },
   {
    "duration": 19,
    "start_time": "2023-08-17T13:59:04.947Z"
   },
   {
    "duration": 82,
    "start_time": "2023-08-17T13:59:48.177Z"
   },
   {
    "duration": 484,
    "start_time": "2023-08-17T14:00:03.070Z"
   },
   {
    "duration": 1174,
    "start_time": "2023-08-17T14:00:27.298Z"
   },
   {
    "duration": 979,
    "start_time": "2023-08-17T14:00:33.803Z"
   },
   {
    "duration": 1029,
    "start_time": "2023-08-17T14:00:38.045Z"
   },
   {
    "duration": 901,
    "start_time": "2023-08-17T14:00:49.215Z"
   },
   {
    "duration": 884,
    "start_time": "2023-08-17T14:00:52.943Z"
   },
   {
    "duration": 1140,
    "start_time": "2023-08-17T14:02:01.606Z"
   },
   {
    "duration": 118,
    "start_time": "2023-08-17T14:02:09.270Z"
   },
   {
    "duration": 973,
    "start_time": "2023-08-17T14:02:13.297Z"
   },
   {
    "duration": 957,
    "start_time": "2023-08-17T14:02:20.001Z"
   },
   {
    "duration": 1044,
    "start_time": "2023-08-17T14:07:50.121Z"
   },
   {
    "duration": 9,
    "start_time": "2023-08-17T14:11:14.561Z"
   },
   {
    "duration": 29,
    "start_time": "2023-08-17T14:12:35.865Z"
   },
   {
    "duration": 7,
    "start_time": "2023-08-17T14:12:47.515Z"
   },
   {
    "duration": 25,
    "start_time": "2023-08-17T14:12:49.667Z"
   },
   {
    "duration": 16,
    "start_time": "2023-08-17T14:12:55.863Z"
   },
   {
    "duration": 18,
    "start_time": "2023-08-17T14:13:30.862Z"
   },
   {
    "duration": 22,
    "start_time": "2023-08-17T14:13:43.400Z"
   },
   {
    "duration": 302,
    "start_time": "2023-08-17T14:15:07.467Z"
   },
   {
    "duration": 321,
    "start_time": "2023-08-17T14:15:18.401Z"
   },
   {
    "duration": 308,
    "start_time": "2023-08-17T14:22:42.345Z"
   },
   {
    "duration": 285,
    "start_time": "2023-08-17T14:25:59.611Z"
   },
   {
    "duration": 290,
    "start_time": "2023-08-17T14:26:09.869Z"
   },
   {
    "duration": 317,
    "start_time": "2023-08-17T14:27:19.975Z"
   },
   {
    "duration": 451,
    "start_time": "2023-08-17T14:27:25.777Z"
   },
   {
    "duration": 290,
    "start_time": "2023-08-17T14:27:31.756Z"
   },
   {
    "duration": 272,
    "start_time": "2023-08-17T14:27:43.957Z"
   },
   {
    "duration": 277,
    "start_time": "2023-08-17T14:44:31.572Z"
   },
   {
    "duration": 275,
    "start_time": "2023-08-17T14:44:56.810Z"
   },
   {
    "duration": 292,
    "start_time": "2023-08-17T14:46:48.898Z"
   },
   {
    "duration": 118,
    "start_time": "2023-08-17T14:46:54.160Z"
   },
   {
    "duration": 123,
    "start_time": "2023-08-17T14:47:00.068Z"
   },
   {
    "duration": 141,
    "start_time": "2023-08-17T14:47:04.448Z"
   },
   {
    "duration": 122,
    "start_time": "2023-08-17T14:47:07.067Z"
   },
   {
    "duration": 123,
    "start_time": "2023-08-17T14:47:12.698Z"
   },
   {
    "duration": 286,
    "start_time": "2023-08-17T14:53:31.552Z"
   },
   {
    "duration": 126,
    "start_time": "2023-08-17T14:55:15.946Z"
   },
   {
    "duration": 358,
    "start_time": "2023-08-17T14:55:22.445Z"
   },
   {
    "duration": 335,
    "start_time": "2023-08-17T14:55:27.135Z"
   },
   {
    "duration": 8,
    "start_time": "2023-08-17T14:55:56.069Z"
   },
   {
    "duration": 438,
    "start_time": "2023-08-17T14:55:58.125Z"
   },
   {
    "duration": 290,
    "start_time": "2023-08-17T14:56:19.892Z"
   },
   {
    "duration": 288,
    "start_time": "2023-08-17T14:56:30.652Z"
   },
   {
    "duration": 318,
    "start_time": "2023-08-17T14:56:59.036Z"
   },
   {
    "duration": 16,
    "start_time": "2023-08-17T15:00:33.209Z"
   },
   {
    "duration": 11,
    "start_time": "2023-08-17T15:00:39.710Z"
   },
   {
    "duration": 14,
    "start_time": "2023-08-17T15:00:45.378Z"
   },
   {
    "duration": 14,
    "start_time": "2023-08-17T15:00:50.294Z"
   },
   {
    "duration": 104,
    "start_time": "2023-08-17T15:01:10.409Z"
   },
   {
    "duration": 74,
    "start_time": "2023-08-17T15:01:31.695Z"
   },
   {
    "duration": 163,
    "start_time": "2023-08-17T15:01:35.261Z"
   },
   {
    "duration": 207,
    "start_time": "2023-08-17T15:02:13.054Z"
   },
   {
    "duration": 86,
    "start_time": "2023-08-17T15:03:25.310Z"
   },
   {
    "duration": 245,
    "start_time": "2023-08-17T15:03:31.136Z"
   },
   {
    "duration": 23,
    "start_time": "2023-08-17T15:04:13.131Z"
   },
   {
    "duration": 27,
    "start_time": "2023-08-17T15:04:28.443Z"
   },
   {
    "duration": 1055,
    "start_time": "2023-08-17T15:04:34.872Z"
   },
   {
    "duration": 78,
    "start_time": "2023-08-17T15:04:35.928Z"
   },
   {
    "duration": 19,
    "start_time": "2023-08-17T15:04:36.008Z"
   },
   {
    "duration": 55,
    "start_time": "2023-08-17T15:04:36.030Z"
   },
   {
    "duration": 5,
    "start_time": "2023-08-17T15:04:36.088Z"
   },
   {
    "duration": 6,
    "start_time": "2023-08-17T15:04:36.095Z"
   },
   {
    "duration": 9,
    "start_time": "2023-08-17T15:04:36.103Z"
   },
   {
    "duration": 6,
    "start_time": "2023-08-17T15:04:36.114Z"
   },
   {
    "duration": 14,
    "start_time": "2023-08-17T15:04:36.122Z"
   },
   {
    "duration": 23,
    "start_time": "2023-08-17T15:04:36.139Z"
   },
   {
    "duration": 18,
    "start_time": "2023-08-17T15:04:36.163Z"
   },
   {
    "duration": 8,
    "start_time": "2023-08-17T15:04:36.183Z"
   },
   {
    "duration": 10,
    "start_time": "2023-08-17T15:04:36.193Z"
   },
   {
    "duration": 46,
    "start_time": "2023-08-17T15:04:36.205Z"
   },
   {
    "duration": 5,
    "start_time": "2023-08-17T15:04:36.253Z"
   },
   {
    "duration": 378,
    "start_time": "2023-08-17T15:04:36.259Z"
   },
   {
    "duration": 10,
    "start_time": "2023-08-17T15:04:36.639Z"
   },
   {
    "duration": 24,
    "start_time": "2023-08-17T15:04:36.651Z"
   },
   {
    "duration": 15,
    "start_time": "2023-08-17T15:04:36.677Z"
   },
   {
    "duration": 18,
    "start_time": "2023-08-17T15:04:36.694Z"
   },
   {
    "duration": 36,
    "start_time": "2023-08-17T15:04:36.713Z"
   },
   {
    "duration": 13,
    "start_time": "2023-08-17T15:04:36.751Z"
   },
   {
    "duration": 194,
    "start_time": "2023-08-17T15:04:36.765Z"
   },
   {
    "duration": 114,
    "start_time": "2023-08-17T15:04:36.961Z"
   },
   {
    "duration": 0,
    "start_time": "2023-08-17T15:04:37.077Z"
   },
   {
    "duration": 0,
    "start_time": "2023-08-17T15:04:37.078Z"
   },
   {
    "duration": 0,
    "start_time": "2023-08-17T15:04:37.079Z"
   },
   {
    "duration": 0,
    "start_time": "2023-08-17T15:04:37.081Z"
   },
   {
    "duration": 0,
    "start_time": "2023-08-17T15:04:37.082Z"
   },
   {
    "duration": 283,
    "start_time": "2023-08-17T15:05:14.098Z"
   },
   {
    "duration": 294,
    "start_time": "2023-08-17T15:05:17.001Z"
   },
   {
    "duration": 8,
    "start_time": "2023-08-17T15:05:17.312Z"
   },
   {
    "duration": 1063,
    "start_time": "2023-08-17T15:05:17.461Z"
   },
   {
    "duration": 8,
    "start_time": "2023-08-17T15:05:18.526Z"
   },
   {
    "duration": 340,
    "start_time": "2023-08-17T15:05:18.536Z"
   },
   {
    "duration": 24,
    "start_time": "2023-08-17T15:05:18.878Z"
   },
   {
    "duration": 21,
    "start_time": "2023-08-17T15:05:29.196Z"
   },
   {
    "duration": 27,
    "start_time": "2023-08-17T15:05:58.256Z"
   },
   {
    "duration": 244,
    "start_time": "2023-08-17T15:06:10.784Z"
   },
   {
    "duration": 11,
    "start_time": "2023-08-17T15:11:31.508Z"
   },
   {
    "duration": 7,
    "start_time": "2023-08-17T15:11:37.020Z"
   },
   {
    "duration": 139,
    "start_time": "2023-08-17T15:12:04.628Z"
   },
   {
    "duration": 132,
    "start_time": "2023-08-17T15:15:01.900Z"
   },
   {
    "duration": 130,
    "start_time": "2023-08-17T15:15:08.936Z"
   },
   {
    "duration": 151,
    "start_time": "2023-08-17T15:15:12.246Z"
   },
   {
    "duration": 4,
    "start_time": "2023-08-17T15:16:35.711Z"
   },
   {
    "duration": 303,
    "start_time": "2023-08-17T15:16:45.191Z"
   },
   {
    "duration": 318,
    "start_time": "2023-08-17T15:17:23.248Z"
   },
   {
    "duration": 135,
    "start_time": "2023-08-17T15:17:37.227Z"
   },
   {
    "duration": 361,
    "start_time": "2023-08-17T15:17:41.185Z"
   },
   {
    "duration": 13,
    "start_time": "2023-08-17T15:18:25.359Z"
   },
   {
    "duration": 77,
    "start_time": "2023-08-17T15:19:38.989Z"
   },
   {
    "duration": 14,
    "start_time": "2023-08-17T15:20:06.730Z"
   },
   {
    "duration": 1077,
    "start_time": "2023-08-17T15:20:12.859Z"
   },
   {
    "duration": 77,
    "start_time": "2023-08-17T15:20:13.937Z"
   },
   {
    "duration": 12,
    "start_time": "2023-08-17T15:20:14.016Z"
   },
   {
    "duration": 6,
    "start_time": "2023-08-17T15:20:14.030Z"
   },
   {
    "duration": 21,
    "start_time": "2023-08-17T15:20:14.037Z"
   },
   {
    "duration": 17,
    "start_time": "2023-08-17T15:20:14.060Z"
   },
   {
    "duration": 22,
    "start_time": "2023-08-17T15:20:14.079Z"
   },
   {
    "duration": 8,
    "start_time": "2023-08-17T15:20:14.103Z"
   },
   {
    "duration": 14,
    "start_time": "2023-08-17T15:20:14.112Z"
   },
   {
    "duration": 15,
    "start_time": "2023-08-17T15:20:14.128Z"
   },
   {
    "duration": 12,
    "start_time": "2023-08-17T15:20:14.144Z"
   },
   {
    "duration": 8,
    "start_time": "2023-08-17T15:20:14.157Z"
   },
   {
    "duration": 13,
    "start_time": "2023-08-17T15:20:14.166Z"
   },
   {
    "duration": 15,
    "start_time": "2023-08-17T15:20:14.181Z"
   },
   {
    "duration": 4,
    "start_time": "2023-08-17T15:20:14.197Z"
   },
   {
    "duration": 344,
    "start_time": "2023-08-17T15:20:14.202Z"
   },
   {
    "duration": 6,
    "start_time": "2023-08-17T15:20:14.550Z"
   },
   {
    "duration": 15,
    "start_time": "2023-08-17T15:20:14.557Z"
   },
   {
    "duration": 12,
    "start_time": "2023-08-17T15:20:14.573Z"
   },
   {
    "duration": 15,
    "start_time": "2023-08-17T15:20:14.586Z"
   },
   {
    "duration": 7,
    "start_time": "2023-08-17T15:20:14.603Z"
   },
   {
    "duration": 44,
    "start_time": "2023-08-17T15:20:14.612Z"
   },
   {
    "duration": 188,
    "start_time": "2023-08-17T15:20:14.657Z"
   },
   {
    "duration": 302,
    "start_time": "2023-08-17T15:20:14.849Z"
   },
   {
    "duration": 8,
    "start_time": "2023-08-17T15:20:15.153Z"
   },
   {
    "duration": 952,
    "start_time": "2023-08-17T15:20:15.162Z"
   },
   {
    "duration": 7,
    "start_time": "2023-08-17T15:20:16.116Z"
   },
   {
    "duration": 405,
    "start_time": "2023-08-17T15:20:16.127Z"
   },
   {
    "duration": 329,
    "start_time": "2023-08-17T15:20:16.534Z"
   },
   {
    "duration": 7,
    "start_time": "2023-08-17T15:20:16.865Z"
   },
   {
    "duration": 156,
    "start_time": "2023-08-17T15:20:16.873Z"
   },
   {
    "duration": 18,
    "start_time": "2023-08-17T15:20:17.031Z"
   },
   {
    "duration": 15,
    "start_time": "2023-08-17T15:20:17.051Z"
   },
   {
    "duration": 144,
    "start_time": "2023-08-17T15:21:30.672Z"
   },
   {
    "duration": 142,
    "start_time": "2023-08-17T15:21:51.770Z"
   },
   {
    "duration": 161,
    "start_time": "2023-08-17T15:22:17.628Z"
   },
   {
    "duration": 157,
    "start_time": "2023-08-17T15:22:38.011Z"
   },
   {
    "duration": 8,
    "start_time": "2023-08-17T15:26:16.564Z"
   },
   {
    "duration": 9,
    "start_time": "2023-08-17T15:26:40.684Z"
   },
   {
    "duration": 8,
    "start_time": "2023-08-17T15:26:57.181Z"
   },
   {
    "duration": 8,
    "start_time": "2023-08-17T15:27:09.677Z"
   },
   {
    "duration": 90,
    "start_time": "2023-08-17T15:27:44.312Z"
   },
   {
    "duration": 8,
    "start_time": "2023-08-17T15:27:47.050Z"
   },
   {
    "duration": 9,
    "start_time": "2023-08-17T15:27:48.937Z"
   },
   {
    "duration": 15,
    "start_time": "2023-08-17T15:30:19.545Z"
   },
   {
    "duration": 14,
    "start_time": "2023-08-17T15:30:24.708Z"
   },
   {
    "duration": 107,
    "start_time": "2023-08-17T15:30:57.544Z"
   },
   {
    "duration": 174,
    "start_time": "2023-08-17T15:31:03.631Z"
   },
   {
    "duration": 174,
    "start_time": "2023-08-17T15:31:11.666Z"
   },
   {
    "duration": 186,
    "start_time": "2023-08-17T15:31:17.614Z"
   },
   {
    "duration": 240,
    "start_time": "2023-08-17T15:31:28.013Z"
   },
   {
    "duration": 173,
    "start_time": "2023-08-17T15:33:09.524Z"
   },
   {
    "duration": 179,
    "start_time": "2023-08-17T15:33:24.972Z"
   },
   {
    "duration": 4,
    "start_time": "2023-08-17T15:40:59.410Z"
   },
   {
    "duration": 18,
    "start_time": "2023-08-17T15:41:06.398Z"
   },
   {
    "duration": 159,
    "start_time": "2023-08-17T15:41:11.469Z"
   },
   {
    "duration": 161,
    "start_time": "2023-08-17T15:41:32.169Z"
   },
   {
    "duration": 120,
    "start_time": "2023-08-17T15:42:23.138Z"
   },
   {
    "duration": 170,
    "start_time": "2023-08-17T15:42:48.795Z"
   },
   {
    "duration": 168,
    "start_time": "2023-08-17T15:43:16.447Z"
   },
   {
    "duration": 170,
    "start_time": "2023-08-17T15:43:39.559Z"
   },
   {
    "duration": 156,
    "start_time": "2023-08-17T15:43:53.956Z"
   },
   {
    "duration": 178,
    "start_time": "2023-08-17T15:43:56.383Z"
   },
   {
    "duration": 159,
    "start_time": "2023-08-17T15:43:59.511Z"
   },
   {
    "duration": 272,
    "start_time": "2023-08-17T15:44:06.704Z"
   },
   {
    "duration": 193,
    "start_time": "2023-08-17T15:44:10.494Z"
   },
   {
    "duration": 154,
    "start_time": "2023-08-17T15:44:14.092Z"
   },
   {
    "duration": 173,
    "start_time": "2023-08-17T15:46:03.626Z"
   },
   {
    "duration": 184,
    "start_time": "2023-08-17T15:46:18.219Z"
   },
   {
    "duration": 169,
    "start_time": "2023-08-17T15:46:27.352Z"
   },
   {
    "duration": 166,
    "start_time": "2023-08-17T15:46:37.360Z"
   },
   {
    "duration": 184,
    "start_time": "2023-08-17T15:46:41.351Z"
   },
   {
    "duration": 177,
    "start_time": "2023-08-17T15:46:45.067Z"
   },
   {
    "duration": 185,
    "start_time": "2023-08-17T15:52:58.084Z"
   },
   {
    "duration": 191,
    "start_time": "2023-08-17T15:53:02.061Z"
   },
   {
    "duration": 203,
    "start_time": "2023-08-17T15:53:04.570Z"
   },
   {
    "duration": 151,
    "start_time": "2023-08-17T15:59:58.943Z"
   },
   {
    "duration": 145,
    "start_time": "2023-08-17T16:00:01.104Z"
   },
   {
    "duration": 150,
    "start_time": "2023-08-17T16:00:03.943Z"
   },
   {
    "duration": 8,
    "start_time": "2023-08-17T16:43:51.044Z"
   },
   {
    "duration": 9,
    "start_time": "2023-08-17T16:47:11.803Z"
   },
   {
    "duration": 1225,
    "start_time": "2023-08-17T16:47:46.317Z"
   },
   {
    "duration": 67,
    "start_time": "2023-08-17T16:47:47.544Z"
   },
   {
    "duration": 12,
    "start_time": "2023-08-17T16:47:47.613Z"
   },
   {
    "duration": 4,
    "start_time": "2023-08-17T16:47:47.626Z"
   },
   {
    "duration": 8,
    "start_time": "2023-08-17T16:47:47.632Z"
   },
   {
    "duration": 42,
    "start_time": "2023-08-17T16:47:47.641Z"
   },
   {
    "duration": 9,
    "start_time": "2023-08-17T16:47:47.685Z"
   },
   {
    "duration": 9,
    "start_time": "2023-08-17T16:47:47.695Z"
   },
   {
    "duration": 23,
    "start_time": "2023-08-17T16:47:47.706Z"
   },
   {
    "duration": 31,
    "start_time": "2023-08-17T16:47:47.730Z"
   },
   {
    "duration": 18,
    "start_time": "2023-08-17T16:47:47.763Z"
   },
   {
    "duration": 7,
    "start_time": "2023-08-17T16:47:47.783Z"
   },
   {
    "duration": 7,
    "start_time": "2023-08-17T16:47:47.792Z"
   },
   {
    "duration": 22,
    "start_time": "2023-08-17T16:47:47.802Z"
   },
   {
    "duration": 23,
    "start_time": "2023-08-17T16:47:47.826Z"
   },
   {
    "duration": 335,
    "start_time": "2023-08-17T16:47:47.852Z"
   },
   {
    "duration": 7,
    "start_time": "2023-08-17T16:47:48.188Z"
   },
   {
    "duration": 19,
    "start_time": "2023-08-17T16:47:48.196Z"
   },
   {
    "duration": 12,
    "start_time": "2023-08-17T16:47:48.216Z"
   },
   {
    "duration": 31,
    "start_time": "2023-08-17T16:47:48.229Z"
   },
   {
    "duration": 10,
    "start_time": "2023-08-17T16:47:48.262Z"
   },
   {
    "duration": 13,
    "start_time": "2023-08-17T16:47:48.273Z"
   },
   {
    "duration": 211,
    "start_time": "2023-08-17T16:47:48.288Z"
   },
   {
    "duration": 374,
    "start_time": "2023-08-17T16:47:48.501Z"
   },
   {
    "duration": 7,
    "start_time": "2023-08-17T16:47:48.877Z"
   },
   {
    "duration": 978,
    "start_time": "2023-08-17T16:47:48.886Z"
   },
   {
    "duration": 5,
    "start_time": "2023-08-17T16:47:49.866Z"
   },
   {
    "duration": 327,
    "start_time": "2023-08-17T16:47:49.873Z"
   },
   {
    "duration": 341,
    "start_time": "2023-08-17T16:47:50.201Z"
   },
   {
    "duration": 7,
    "start_time": "2023-08-17T16:47:50.549Z"
   },
   {
    "duration": 151,
    "start_time": "2023-08-17T16:47:50.557Z"
   },
   {
    "duration": 11,
    "start_time": "2023-08-17T16:47:50.710Z"
   },
   {
    "duration": 4,
    "start_time": "2023-08-17T16:47:50.723Z"
   },
   {
    "duration": 157,
    "start_time": "2023-08-17T16:47:50.729Z"
   },
   {
    "duration": 9,
    "start_time": "2023-08-17T16:47:50.888Z"
   },
   {
    "duration": 17,
    "start_time": "2023-08-17T16:47:50.898Z"
   },
   {
    "duration": 8,
    "start_time": "2023-08-17T16:47:50.917Z"
   },
   {
    "duration": 16,
    "start_time": "2023-08-17T16:47:50.926Z"
   },
   {
    "duration": 31,
    "start_time": "2023-08-17T16:47:50.943Z"
   },
   {
    "duration": 174,
    "start_time": "2023-08-17T16:47:50.976Z"
   },
   {
    "duration": 169,
    "start_time": "2023-08-17T16:47:51.153Z"
   },
   {
    "duration": 187,
    "start_time": "2023-08-17T16:47:51.324Z"
   },
   {
    "duration": 174,
    "start_time": "2023-08-17T16:47:51.513Z"
   },
   {
    "duration": 187,
    "start_time": "2023-08-17T16:47:51.688Z"
   },
   {
    "duration": 205,
    "start_time": "2023-08-17T16:47:51.876Z"
   },
   {
    "duration": 197,
    "start_time": "2023-08-17T16:47:52.083Z"
   },
   {
    "duration": 235,
    "start_time": "2023-08-17T16:47:52.281Z"
   },
   {
    "duration": 146,
    "start_time": "2023-08-17T16:47:52.518Z"
   },
   {
    "duration": 159,
    "start_time": "2023-08-17T16:47:52.665Z"
   },
   {
    "duration": 7,
    "start_time": "2023-08-17T16:47:52.825Z"
   },
   {
    "duration": 16,
    "start_time": "2023-08-17T16:47:52.834Z"
   },
   {
    "duration": 6,
    "start_time": "2023-08-17T16:49:23.059Z"
   },
   {
    "duration": 8,
    "start_time": "2023-08-17T16:49:38.946Z"
   },
   {
    "duration": 5,
    "start_time": "2023-08-17T16:49:40.688Z"
   },
   {
    "duration": 8,
    "start_time": "2023-08-17T16:53:00.693Z"
   },
   {
    "duration": 5,
    "start_time": "2023-08-17T16:53:01.217Z"
   },
   {
    "duration": 5,
    "start_time": "2023-08-17T16:53:28.566Z"
   },
   {
    "duration": 5,
    "start_time": "2023-08-17T16:53:55.480Z"
   },
   {
    "duration": 5,
    "start_time": "2023-08-17T16:54:37.107Z"
   },
   {
    "duration": 1067,
    "start_time": "2023-08-17T16:54:42.165Z"
   },
   {
    "duration": 68,
    "start_time": "2023-08-17T16:54:43.234Z"
   },
   {
    "duration": 12,
    "start_time": "2023-08-17T16:54:43.304Z"
   },
   {
    "duration": 7,
    "start_time": "2023-08-17T16:54:43.318Z"
   },
   {
    "duration": 10,
    "start_time": "2023-08-17T16:54:43.327Z"
   },
   {
    "duration": 39,
    "start_time": "2023-08-17T16:54:43.338Z"
   },
   {
    "duration": 16,
    "start_time": "2023-08-17T16:54:43.379Z"
   },
   {
    "duration": 7,
    "start_time": "2023-08-17T16:54:43.397Z"
   },
   {
    "duration": 27,
    "start_time": "2023-08-17T16:54:43.406Z"
   },
   {
    "duration": 17,
    "start_time": "2023-08-17T16:54:43.434Z"
   },
   {
    "duration": 13,
    "start_time": "2023-08-17T16:54:43.452Z"
   },
   {
    "duration": 18,
    "start_time": "2023-08-17T16:54:43.467Z"
   },
   {
    "duration": 14,
    "start_time": "2023-08-17T16:54:43.486Z"
   },
   {
    "duration": 15,
    "start_time": "2023-08-17T16:54:43.504Z"
   },
   {
    "duration": 3,
    "start_time": "2023-08-17T16:54:43.521Z"
   },
   {
    "duration": 324,
    "start_time": "2023-08-17T16:54:43.526Z"
   },
   {
    "duration": 6,
    "start_time": "2023-08-17T16:54:43.851Z"
   },
   {
    "duration": 13,
    "start_time": "2023-08-17T16:54:43.859Z"
   },
   {
    "duration": 14,
    "start_time": "2023-08-17T16:54:43.873Z"
   },
   {
    "duration": 14,
    "start_time": "2023-08-17T16:54:43.888Z"
   },
   {
    "duration": 7,
    "start_time": "2023-08-17T16:54:43.904Z"
   },
   {
    "duration": 38,
    "start_time": "2023-08-17T16:54:43.912Z"
   },
   {
    "duration": 191,
    "start_time": "2023-08-17T16:54:43.952Z"
   },
   {
    "duration": 295,
    "start_time": "2023-08-17T16:54:44.144Z"
   },
   {
    "duration": 14,
    "start_time": "2023-08-17T16:54:44.441Z"
   },
   {
    "duration": 903,
    "start_time": "2023-08-17T16:54:44.457Z"
   },
   {
    "duration": 5,
    "start_time": "2023-08-17T16:54:45.362Z"
   },
   {
    "duration": 281,
    "start_time": "2023-08-17T16:54:45.369Z"
   },
   {
    "duration": 318,
    "start_time": "2023-08-17T16:54:45.651Z"
   },
   {
    "duration": 10,
    "start_time": "2023-08-17T16:54:45.971Z"
   },
   {
    "duration": 209,
    "start_time": "2023-08-17T16:54:45.982Z"
   },
   {
    "duration": 13,
    "start_time": "2023-08-17T16:54:46.193Z"
   },
   {
    "duration": 5,
    "start_time": "2023-08-17T16:54:46.207Z"
   },
   {
    "duration": 179,
    "start_time": "2023-08-17T16:54:46.213Z"
   },
   {
    "duration": 10,
    "start_time": "2023-08-17T16:54:46.393Z"
   },
   {
    "duration": 9,
    "start_time": "2023-08-17T16:54:46.404Z"
   },
   {
    "duration": 8,
    "start_time": "2023-08-17T16:54:46.415Z"
   },
   {
    "duration": 9,
    "start_time": "2023-08-17T16:54:46.449Z"
   },
   {
    "duration": 15,
    "start_time": "2023-08-17T16:54:46.460Z"
   },
   {
    "duration": 187,
    "start_time": "2023-08-17T16:54:46.476Z"
   },
   {
    "duration": 178,
    "start_time": "2023-08-17T16:54:46.667Z"
   },
   {
    "duration": 189,
    "start_time": "2023-08-17T16:54:46.848Z"
   },
   {
    "duration": 183,
    "start_time": "2023-08-17T16:54:47.038Z"
   },
   {
    "duration": 190,
    "start_time": "2023-08-17T16:54:47.222Z"
   },
   {
    "duration": 199,
    "start_time": "2023-08-17T16:54:47.414Z"
   },
   {
    "duration": 196,
    "start_time": "2023-08-17T16:54:47.614Z"
   },
   {
    "duration": 230,
    "start_time": "2023-08-17T16:54:47.812Z"
   },
   {
    "duration": 148,
    "start_time": "2023-08-17T16:54:48.044Z"
   },
   {
    "duration": 155,
    "start_time": "2023-08-17T16:54:48.194Z"
   },
   {
    "duration": 8,
    "start_time": "2023-08-17T16:54:48.351Z"
   },
   {
    "duration": 34,
    "start_time": "2023-08-17T16:54:48.360Z"
   },
   {
    "duration": 8,
    "start_time": "2023-08-17T16:57:42.797Z"
   },
   {
    "duration": 95,
    "start_time": "2023-08-17T16:58:18.395Z"
   },
   {
    "duration": 5,
    "start_time": "2023-08-17T16:58:24.385Z"
   },
   {
    "duration": 1085,
    "start_time": "2023-08-17T17:16:05.364Z"
   },
   {
    "duration": 71,
    "start_time": "2023-08-17T17:16:06.451Z"
   },
   {
    "duration": 13,
    "start_time": "2023-08-17T17:16:06.524Z"
   },
   {
    "duration": 4,
    "start_time": "2023-08-17T17:16:06.539Z"
   },
   {
    "duration": 6,
    "start_time": "2023-08-17T17:16:06.544Z"
   },
   {
    "duration": 8,
    "start_time": "2023-08-17T17:16:06.551Z"
   },
   {
    "duration": 8,
    "start_time": "2023-08-17T17:16:06.560Z"
   },
   {
    "duration": 5,
    "start_time": "2023-08-17T17:16:06.569Z"
   },
   {
    "duration": 10,
    "start_time": "2023-08-17T17:16:06.575Z"
   },
   {
    "duration": 14,
    "start_time": "2023-08-17T17:16:06.588Z"
   },
   {
    "duration": 11,
    "start_time": "2023-08-17T17:16:06.604Z"
   },
   {
    "duration": 7,
    "start_time": "2023-08-17T17:16:06.616Z"
   },
   {
    "duration": 31,
    "start_time": "2023-08-17T17:16:06.624Z"
   },
   {
    "duration": 17,
    "start_time": "2023-08-17T17:16:06.656Z"
   },
   {
    "duration": 3,
    "start_time": "2023-08-17T17:16:06.674Z"
   },
   {
    "duration": 343,
    "start_time": "2023-08-17T17:16:06.679Z"
   },
   {
    "duration": 7,
    "start_time": "2023-08-17T17:16:07.023Z"
   },
   {
    "duration": 27,
    "start_time": "2023-08-17T17:16:07.031Z"
   },
   {
    "duration": 13,
    "start_time": "2023-08-17T17:16:07.060Z"
   },
   {
    "duration": 16,
    "start_time": "2023-08-17T17:16:07.074Z"
   },
   {
    "duration": 7,
    "start_time": "2023-08-17T17:16:07.091Z"
   },
   {
    "duration": 11,
    "start_time": "2023-08-17T17:16:07.099Z"
   },
   {
    "duration": 203,
    "start_time": "2023-08-17T17:16:07.112Z"
   },
   {
    "duration": 289,
    "start_time": "2023-08-17T17:16:07.316Z"
   },
   {
    "duration": 7,
    "start_time": "2023-08-17T17:16:07.606Z"
   },
   {
    "duration": 888,
    "start_time": "2023-08-17T17:16:07.614Z"
   },
   {
    "duration": 6,
    "start_time": "2023-08-17T17:16:08.503Z"
   },
   {
    "duration": 295,
    "start_time": "2023-08-17T17:16:08.511Z"
   },
   {
    "duration": 325,
    "start_time": "2023-08-17T17:16:08.807Z"
   },
   {
    "duration": 17,
    "start_time": "2023-08-17T17:16:09.133Z"
   },
   {
    "duration": 153,
    "start_time": "2023-08-17T17:16:09.151Z"
   },
   {
    "duration": 12,
    "start_time": "2023-08-17T17:16:09.305Z"
   },
   {
    "duration": 5,
    "start_time": "2023-08-17T17:16:09.319Z"
   },
   {
    "duration": 168,
    "start_time": "2023-08-17T17:16:09.326Z"
   },
   {
    "duration": 9,
    "start_time": "2023-08-17T17:16:09.497Z"
   },
   {
    "duration": 11,
    "start_time": "2023-08-17T17:16:09.508Z"
   },
   {
    "duration": 30,
    "start_time": "2023-08-17T17:16:09.520Z"
   },
   {
    "duration": 8,
    "start_time": "2023-08-17T17:16:09.552Z"
   },
   {
    "duration": 16,
    "start_time": "2023-08-17T17:16:09.562Z"
   },
   {
    "duration": 198,
    "start_time": "2023-08-17T17:16:09.580Z"
   },
   {
    "duration": 173,
    "start_time": "2023-08-17T17:16:09.780Z"
   },
   {
    "duration": 186,
    "start_time": "2023-08-17T17:16:09.954Z"
   },
   {
    "duration": 176,
    "start_time": "2023-08-17T17:16:10.141Z"
   },
   {
    "duration": 192,
    "start_time": "2023-08-17T17:16:10.318Z"
   },
   {
    "duration": 197,
    "start_time": "2023-08-17T17:16:10.512Z"
   },
   {
    "duration": 203,
    "start_time": "2023-08-17T17:16:10.711Z"
   },
   {
    "duration": 235,
    "start_time": "2023-08-17T17:16:10.915Z"
   },
   {
    "duration": 150,
    "start_time": "2023-08-17T17:16:11.151Z"
   },
   {
    "duration": 150,
    "start_time": "2023-08-17T17:16:11.302Z"
   },
   {
    "duration": 8,
    "start_time": "2023-08-17T17:16:11.454Z"
   },
   {
    "duration": 23,
    "start_time": "2023-08-17T17:16:11.463Z"
   },
   {
    "duration": 9,
    "start_time": "2023-08-17T17:16:11.488Z"
   },
   {
    "duration": 14,
    "start_time": "2023-08-17T17:16:11.499Z"
   },
   {
    "duration": 1436,
    "start_time": "2023-08-17T18:07:23.601Z"
   },
   {
    "duration": 77,
    "start_time": "2023-08-17T18:07:25.039Z"
   },
   {
    "duration": 16,
    "start_time": "2023-08-17T18:07:25.118Z"
   },
   {
    "duration": 23,
    "start_time": "2023-08-17T18:07:25.136Z"
   },
   {
    "duration": 20,
    "start_time": "2023-08-17T18:07:25.161Z"
   },
   {
    "duration": 44,
    "start_time": "2023-08-17T18:07:25.182Z"
   },
   {
    "duration": 12,
    "start_time": "2023-08-17T18:07:25.228Z"
   },
   {
    "duration": 28,
    "start_time": "2023-08-17T18:07:25.242Z"
   },
   {
    "duration": 19,
    "start_time": "2023-08-17T18:07:25.272Z"
   },
   {
    "duration": 26,
    "start_time": "2023-08-17T18:07:25.295Z"
   },
   {
    "duration": 19,
    "start_time": "2023-08-17T18:07:25.324Z"
   },
   {
    "duration": 10,
    "start_time": "2023-08-17T18:07:25.345Z"
   },
   {
    "duration": 16,
    "start_time": "2023-08-17T18:07:25.358Z"
   },
   {
    "duration": 47,
    "start_time": "2023-08-17T18:07:25.376Z"
   },
   {
    "duration": 6,
    "start_time": "2023-08-17T18:07:25.425Z"
   },
   {
    "duration": 440,
    "start_time": "2023-08-17T18:07:25.433Z"
   },
   {
    "duration": 9,
    "start_time": "2023-08-17T18:07:25.875Z"
   },
   {
    "duration": 57,
    "start_time": "2023-08-17T18:07:25.890Z"
   },
   {
    "duration": 44,
    "start_time": "2023-08-17T18:07:25.950Z"
   },
   {
    "duration": 61,
    "start_time": "2023-08-17T18:07:25.997Z"
   },
   {
    "duration": 13,
    "start_time": "2023-08-17T18:07:26.060Z"
   },
   {
    "duration": 19,
    "start_time": "2023-08-17T18:07:26.076Z"
   },
   {
    "duration": 281,
    "start_time": "2023-08-17T18:07:26.097Z"
   },
   {
    "duration": 397,
    "start_time": "2023-08-17T18:07:26.380Z"
   },
   {
    "duration": 9,
    "start_time": "2023-08-17T18:07:26.779Z"
   },
   {
    "duration": 1254,
    "start_time": "2023-08-17T18:07:26.790Z"
   },
   {
    "duration": 7,
    "start_time": "2023-08-17T18:07:28.047Z"
   },
   {
    "duration": 351,
    "start_time": "2023-08-17T18:07:28.058Z"
   },
   {
    "duration": 414,
    "start_time": "2023-08-17T18:07:28.411Z"
   },
   {
    "duration": 9,
    "start_time": "2023-08-17T18:07:28.827Z"
   },
   {
    "duration": 198,
    "start_time": "2023-08-17T18:07:28.838Z"
   },
   {
    "duration": 14,
    "start_time": "2023-08-17T18:07:29.037Z"
   },
   {
    "duration": 6,
    "start_time": "2023-08-17T18:07:29.053Z"
   },
   {
    "duration": 203,
    "start_time": "2023-08-17T18:07:29.060Z"
   },
   {
    "duration": 11,
    "start_time": "2023-08-17T18:07:29.265Z"
   },
   {
    "duration": 17,
    "start_time": "2023-08-17T18:07:29.278Z"
   },
   {
    "duration": 21,
    "start_time": "2023-08-17T18:07:29.297Z"
   },
   {
    "duration": 26,
    "start_time": "2023-08-17T18:07:29.320Z"
   },
   {
    "duration": 23,
    "start_time": "2023-08-17T18:07:29.348Z"
   },
   {
    "duration": 253,
    "start_time": "2023-08-17T18:07:29.374Z"
   },
   {
    "duration": 220,
    "start_time": "2023-08-17T18:07:29.630Z"
   },
   {
    "duration": 236,
    "start_time": "2023-08-17T18:07:29.852Z"
   },
   {
    "duration": 227,
    "start_time": "2023-08-17T18:07:30.090Z"
   },
   {
    "duration": 244,
    "start_time": "2023-08-17T18:07:30.319Z"
   },
   {
    "duration": 252,
    "start_time": "2023-08-17T18:07:30.566Z"
   },
   {
    "duration": 244,
    "start_time": "2023-08-17T18:07:30.820Z"
   },
   {
    "duration": 322,
    "start_time": "2023-08-17T18:07:31.067Z"
   },
   {
    "duration": 194,
    "start_time": "2023-08-17T18:07:31.391Z"
   },
   {
    "duration": 245,
    "start_time": "2023-08-17T18:07:31.587Z"
   },
   {
    "duration": 10,
    "start_time": "2023-08-17T18:07:31.834Z"
   },
   {
    "duration": 92,
    "start_time": "2023-08-17T18:07:31.846Z"
   },
   {
    "duration": 137,
    "start_time": "2023-08-17T18:07:31.940Z"
   },
   {
    "duration": 61,
    "start_time": "2023-08-17T18:07:32.079Z"
   },
   {
    "duration": 61,
    "start_time": "2023-08-17T19:06:49.241Z"
   },
   {
    "duration": 1509,
    "start_time": "2023-08-17T19:13:38.520Z"
   },
   {
    "duration": 206,
    "start_time": "2023-08-17T19:13:46.390Z"
   },
   {
    "duration": 18,
    "start_time": "2023-08-17T19:13:47.028Z"
   },
   {
    "duration": 5,
    "start_time": "2023-08-17T19:13:49.426Z"
   },
   {
    "duration": 7,
    "start_time": "2023-08-17T19:13:49.860Z"
   },
   {
    "duration": 6,
    "start_time": "2023-08-17T19:13:50.818Z"
   },
   {
    "duration": 6,
    "start_time": "2023-08-17T19:13:51.425Z"
   },
   {
    "duration": 6,
    "start_time": "2023-08-17T19:13:52.013Z"
   },
   {
    "duration": 8,
    "start_time": "2023-08-17T19:13:53.282Z"
   },
   {
    "duration": 21,
    "start_time": "2023-08-17T19:13:58.466Z"
   },
   {
    "duration": 16,
    "start_time": "2023-08-17T19:13:59.197Z"
   },
   {
    "duration": 10,
    "start_time": "2023-08-17T19:14:00.270Z"
   },
   {
    "duration": 10,
    "start_time": "2023-08-17T19:14:01.209Z"
   },
   {
    "duration": 22,
    "start_time": "2023-08-17T19:14:02.456Z"
   },
   {
    "duration": 5,
    "start_time": "2023-08-17T19:14:03.701Z"
   },
   {
    "duration": 352,
    "start_time": "2023-08-17T19:14:08.268Z"
   },
   {
    "duration": 8,
    "start_time": "2023-08-17T19:14:13.013Z"
   },
   {
    "duration": 16,
    "start_time": "2023-08-17T19:14:14.884Z"
   },
   {
    "duration": 17,
    "start_time": "2023-08-17T19:14:16.672Z"
   },
   {
    "duration": 29,
    "start_time": "2023-08-17T19:14:17.227Z"
   },
   {
    "duration": 11,
    "start_time": "2023-08-17T19:14:20.819Z"
   },
   {
    "duration": 16,
    "start_time": "2023-08-17T19:14:21.112Z"
   },
   {
    "duration": 242,
    "start_time": "2023-08-17T19:14:25.727Z"
   },
   {
    "duration": 407,
    "start_time": "2023-08-17T19:14:32.319Z"
   },
   {
    "duration": 8,
    "start_time": "2023-08-17T19:14:34.470Z"
   },
   {
    "duration": 1136,
    "start_time": "2023-08-17T19:14:35.051Z"
   },
   {
    "duration": 10,
    "start_time": "2023-08-17T19:14:50.577Z"
   },
   {
    "duration": 373,
    "start_time": "2023-08-17T19:14:54.868Z"
   },
   {
    "duration": 384,
    "start_time": "2023-08-17T19:14:58.013Z"
   },
   {
    "duration": 77,
    "start_time": "2023-08-17T19:47:41.494Z"
   },
   {
    "duration": 408,
    "start_time": "2023-08-17T19:47:55.500Z"
   },
   {
    "duration": 11,
    "start_time": "2023-08-17T19:47:56.811Z"
   },
   {
    "duration": 213,
    "start_time": "2023-08-17T19:47:57.638Z"
   },
   {
    "duration": 15,
    "start_time": "2023-08-17T19:47:58.371Z"
   },
   {
    "duration": 8,
    "start_time": "2023-08-17T19:47:58.904Z"
   },
   {
    "duration": 174,
    "start_time": "2023-08-17T19:47:59.387Z"
   },
   {
    "duration": 14,
    "start_time": "2023-08-17T19:48:03.890Z"
   },
   {
    "duration": 11,
    "start_time": "2023-08-17T19:48:04.418Z"
   },
   {
    "duration": 200,
    "start_time": "2023-08-17T19:48:04.841Z"
   },
   {
    "duration": 206,
    "start_time": "2023-08-17T19:48:26.669Z"
   },
   {
    "duration": 12,
    "start_time": "2023-08-17T19:48:38.794Z"
   },
   {
    "duration": 196,
    "start_time": "2023-08-17T19:48:55.874Z"
   },
   {
    "duration": 14,
    "start_time": "2023-08-17T19:49:24.989Z"
   },
   {
    "duration": 237,
    "start_time": "2023-08-17T19:49:25.381Z"
   },
   {
    "duration": 23,
    "start_time": "2023-08-17T19:50:24.760Z"
   },
   {
    "duration": 304,
    "start_time": "2023-08-17T19:50:25.606Z"
   },
   {
    "duration": 355,
    "start_time": "2023-08-17T19:50:30.893Z"
   },
   {
    "duration": 515,
    "start_time": "2023-08-17T19:52:42.430Z"
   },
   {
    "duration": 434,
    "start_time": "2023-08-17T19:53:31.401Z"
   },
   {
    "duration": 286,
    "start_time": "2023-08-17T19:54:10.518Z"
   },
   {
    "duration": 324,
    "start_time": "2023-08-17T19:54:18.818Z"
   },
   {
    "duration": 290,
    "start_time": "2023-08-17T19:55:18.277Z"
   },
   {
    "duration": 154,
    "start_time": "2023-08-17T19:56:26.199Z"
   },
   {
    "duration": 17,
    "start_time": "2023-08-17T19:58:09.234Z"
   },
   {
    "duration": 215,
    "start_time": "2023-08-17T19:58:10.054Z"
   },
   {
    "duration": 22,
    "start_time": "2023-08-17T19:58:35.084Z"
   },
   {
    "duration": 453,
    "start_time": "2023-08-17T19:58:49.303Z"
   },
   {
    "duration": 343,
    "start_time": "2023-08-17T20:00:27.760Z"
   },
   {
    "duration": 327,
    "start_time": "2023-08-17T20:00:55.829Z"
   },
   {
    "duration": 378,
    "start_time": "2023-08-17T20:01:00.302Z"
   },
   {
    "duration": 370,
    "start_time": "2023-08-17T20:05:27.149Z"
   },
   {
    "duration": 325,
    "start_time": "2023-08-17T20:05:31.134Z"
   },
   {
    "duration": 560,
    "start_time": "2023-08-17T20:05:50.369Z"
   },
   {
    "duration": 218,
    "start_time": "2023-08-17T20:06:18.895Z"
   },
   {
    "duration": 354,
    "start_time": "2023-08-17T20:06:19.472Z"
   },
   {
    "duration": 158,
    "start_time": "2023-08-17T20:08:29.625Z"
   },
   {
    "duration": 288,
    "start_time": "2023-08-17T20:08:58.623Z"
   },
   {
    "duration": 289,
    "start_time": "2023-08-17T20:09:11.380Z"
   },
   {
    "duration": 4,
    "start_time": "2023-08-17T20:10:25.530Z"
   },
   {
    "duration": 171,
    "start_time": "2023-08-17T20:10:31.603Z"
   },
   {
    "duration": 331,
    "start_time": "2023-08-17T20:10:57.462Z"
   },
   {
    "duration": 352,
    "start_time": "2023-08-17T20:11:18.031Z"
   },
   {
    "duration": 467,
    "start_time": "2023-08-17T20:11:37.167Z"
   },
   {
    "duration": 281,
    "start_time": "2023-08-17T20:13:37.076Z"
   },
   {
    "duration": 329,
    "start_time": "2023-08-17T20:13:41.830Z"
   },
   {
    "duration": 365,
    "start_time": "2023-08-17T20:13:53.281Z"
   },
   {
    "duration": 326,
    "start_time": "2023-08-17T20:15:11.849Z"
   },
   {
    "duration": 1074,
    "start_time": "2023-08-18T03:59:41.485Z"
   },
   {
    "duration": 68,
    "start_time": "2023-08-18T03:59:42.561Z"
   },
   {
    "duration": 14,
    "start_time": "2023-08-18T03:59:42.631Z"
   },
   {
    "duration": 4,
    "start_time": "2023-08-18T03:59:42.647Z"
   },
   {
    "duration": 8,
    "start_time": "2023-08-18T03:59:42.652Z"
   },
   {
    "duration": 12,
    "start_time": "2023-08-18T03:59:42.661Z"
   },
   {
    "duration": 5,
    "start_time": "2023-08-18T03:59:42.675Z"
   },
   {
    "duration": 5,
    "start_time": "2023-08-18T03:59:42.681Z"
   },
   {
    "duration": 8,
    "start_time": "2023-08-18T03:59:42.687Z"
   },
   {
    "duration": 15,
    "start_time": "2023-08-18T03:59:42.697Z"
   },
   {
    "duration": 13,
    "start_time": "2023-08-18T03:59:42.714Z"
   },
   {
    "duration": 36,
    "start_time": "2023-08-18T03:59:42.728Z"
   },
   {
    "duration": 19,
    "start_time": "2023-08-18T03:59:42.765Z"
   },
   {
    "duration": 21,
    "start_time": "2023-08-18T03:59:42.785Z"
   },
   {
    "duration": 3,
    "start_time": "2023-08-18T03:59:42.808Z"
   },
   {
    "duration": 340,
    "start_time": "2023-08-18T03:59:42.813Z"
   },
   {
    "duration": 7,
    "start_time": "2023-08-18T03:59:43.158Z"
   },
   {
    "duration": 15,
    "start_time": "2023-08-18T03:59:43.166Z"
   },
   {
    "duration": 15,
    "start_time": "2023-08-18T03:59:43.182Z"
   },
   {
    "duration": 19,
    "start_time": "2023-08-18T03:59:43.198Z"
   },
   {
    "duration": 42,
    "start_time": "2023-08-18T03:59:43.219Z"
   },
   {
    "duration": 14,
    "start_time": "2023-08-18T03:59:43.263Z"
   },
   {
    "duration": 217,
    "start_time": "2023-08-18T03:59:43.279Z"
   },
   {
    "duration": 320,
    "start_time": "2023-08-18T03:59:43.498Z"
   },
   {
    "duration": 8,
    "start_time": "2023-08-18T03:59:43.819Z"
   },
   {
    "duration": 1088,
    "start_time": "2023-08-18T03:59:43.829Z"
   },
   {
    "duration": 7,
    "start_time": "2023-08-18T03:59:44.919Z"
   },
   {
    "duration": 328,
    "start_time": "2023-08-18T03:59:44.929Z"
   },
   {
    "duration": 351,
    "start_time": "2023-08-18T03:59:45.259Z"
   },
   {
    "duration": 8,
    "start_time": "2023-08-18T03:59:45.612Z"
   },
   {
    "duration": 174,
    "start_time": "2023-08-18T03:59:45.622Z"
   },
   {
    "duration": 13,
    "start_time": "2023-08-18T03:59:45.797Z"
   },
   {
    "duration": 7,
    "start_time": "2023-08-18T03:59:45.811Z"
   },
   {
    "duration": 181,
    "start_time": "2023-08-18T03:59:45.820Z"
   },
   {
    "duration": 9,
    "start_time": "2023-08-18T03:59:46.003Z"
   },
   {
    "duration": 14,
    "start_time": "2023-08-18T03:59:46.014Z"
   },
   {
    "duration": 177,
    "start_time": "2023-08-18T03:59:46.030Z"
   },
   {
    "duration": 10,
    "start_time": "2023-08-18T03:59:46.209Z"
   },
   {
    "duration": 161,
    "start_time": "2023-08-18T03:59:46.221Z"
   },
   {
    "duration": 9,
    "start_time": "2023-08-18T03:59:46.384Z"
   },
   {
    "duration": 171,
    "start_time": "2023-08-18T03:59:46.394Z"
   },
   {
    "duration": 16,
    "start_time": "2023-08-18T03:59:46.567Z"
   },
   {
    "duration": 226,
    "start_time": "2023-08-18T03:59:46.585Z"
   },
   {
    "duration": 328,
    "start_time": "2023-08-18T03:59:46.812Z"
   },
   {
    "duration": 198,
    "start_time": "2023-08-18T03:59:47.142Z"
   },
   {
    "duration": 275,
    "start_time": "2023-08-18T03:59:47.342Z"
   },
   {
    "duration": 184,
    "start_time": "2023-08-18T03:59:47.618Z"
   },
   {
    "duration": 214,
    "start_time": "2023-08-18T03:59:47.805Z"
   },
   {
    "duration": 224,
    "start_time": "2023-08-18T03:59:48.021Z"
   },
   {
    "duration": 208,
    "start_time": "2023-08-18T03:59:48.246Z"
   },
   {
    "duration": 155,
    "start_time": "2023-08-18T03:59:48.455Z"
   },
   {
    "duration": 167,
    "start_time": "2023-08-18T03:59:48.612Z"
   },
   {
    "duration": 156,
    "start_time": "2023-08-18T03:59:48.781Z"
   },
   {
    "duration": 8,
    "start_time": "2023-08-18T03:59:48.939Z"
   },
   {
    "duration": 23,
    "start_time": "2023-08-18T03:59:48.959Z"
   },
   {
    "duration": 26,
    "start_time": "2023-08-18T03:59:48.983Z"
   },
   {
    "duration": 14,
    "start_time": "2023-08-18T03:59:49.011Z"
   },
   {
    "duration": 1256,
    "start_time": "2023-08-18T06:16:11.868Z"
   },
   {
    "duration": 113,
    "start_time": "2023-08-18T06:16:13.126Z"
   },
   {
    "duration": 12,
    "start_time": "2023-08-18T06:16:13.241Z"
   },
   {
    "duration": 51,
    "start_time": "2023-08-18T06:16:13.255Z"
   },
   {
    "duration": 18,
    "start_time": "2023-08-18T06:16:13.308Z"
   },
   {
    "duration": 51,
    "start_time": "2023-08-18T06:16:13.327Z"
   },
   {
    "duration": 22,
    "start_time": "2023-08-18T06:16:13.380Z"
   },
   {
    "duration": 6,
    "start_time": "2023-08-18T06:16:13.404Z"
   },
   {
    "duration": 10,
    "start_time": "2023-08-18T06:16:13.412Z"
   },
   {
    "duration": 25,
    "start_time": "2023-08-18T06:16:13.424Z"
   },
   {
    "duration": 12,
    "start_time": "2023-08-18T06:16:13.450Z"
   },
   {
    "duration": 11,
    "start_time": "2023-08-18T06:16:13.464Z"
   },
   {
    "duration": 19,
    "start_time": "2023-08-18T06:16:13.476Z"
   },
   {
    "duration": 19,
    "start_time": "2023-08-18T06:16:13.497Z"
   },
   {
    "duration": 4,
    "start_time": "2023-08-18T06:16:13.517Z"
   },
   {
    "duration": 325,
    "start_time": "2023-08-18T06:16:13.522Z"
   },
   {
    "duration": 5,
    "start_time": "2023-08-18T06:16:13.850Z"
   },
   {
    "duration": 22,
    "start_time": "2023-08-18T06:16:13.857Z"
   },
   {
    "duration": 14,
    "start_time": "2023-08-18T06:16:13.880Z"
   },
   {
    "duration": 15,
    "start_time": "2023-08-18T06:16:13.895Z"
   },
   {
    "duration": 8,
    "start_time": "2023-08-18T06:16:13.911Z"
   },
   {
    "duration": 30,
    "start_time": "2023-08-18T06:16:13.920Z"
   },
   {
    "duration": 186,
    "start_time": "2023-08-18T06:16:13.951Z"
   },
   {
    "duration": 284,
    "start_time": "2023-08-18T06:16:14.139Z"
   },
   {
    "duration": 7,
    "start_time": "2023-08-18T06:16:14.424Z"
   },
   {
    "duration": 890,
    "start_time": "2023-08-18T06:16:14.432Z"
   },
   {
    "duration": 6,
    "start_time": "2023-08-18T06:16:15.324Z"
   },
   {
    "duration": 301,
    "start_time": "2023-08-18T06:16:15.335Z"
   },
   {
    "duration": 343,
    "start_time": "2023-08-18T06:16:15.637Z"
   },
   {
    "duration": 11,
    "start_time": "2023-08-18T06:16:15.982Z"
   },
   {
    "duration": 185,
    "start_time": "2023-08-18T06:16:15.995Z"
   },
   {
    "duration": 12,
    "start_time": "2023-08-18T06:16:16.181Z"
   },
   {
    "duration": 9,
    "start_time": "2023-08-18T06:16:16.195Z"
   },
   {
    "duration": 174,
    "start_time": "2023-08-18T06:16:16.206Z"
   },
   {
    "duration": 8,
    "start_time": "2023-08-18T06:16:16.382Z"
   },
   {
    "duration": 42,
    "start_time": "2023-08-18T06:16:16.392Z"
   },
   {
    "duration": 178,
    "start_time": "2023-08-18T06:16:16.436Z"
   },
   {
    "duration": 8,
    "start_time": "2023-08-18T06:16:16.616Z"
   },
   {
    "duration": 151,
    "start_time": "2023-08-18T06:16:16.625Z"
   },
   {
    "duration": 9,
    "start_time": "2023-08-18T06:16:16.777Z"
   },
   {
    "duration": 155,
    "start_time": "2023-08-18T06:16:16.787Z"
   },
   {
    "duration": 18,
    "start_time": "2023-08-18T06:16:16.943Z"
   },
   {
    "duration": 199,
    "start_time": "2023-08-18T06:16:16.962Z"
   },
   {
    "duration": 282,
    "start_time": "2023-08-18T06:16:17.163Z"
   },
   {
    "duration": 183,
    "start_time": "2023-08-18T06:16:17.447Z"
   },
   {
    "duration": 261,
    "start_time": "2023-08-18T06:16:17.632Z"
   },
   {
    "duration": 168,
    "start_time": "2023-08-18T06:16:17.895Z"
   },
   {
    "duration": 200,
    "start_time": "2023-08-18T06:16:18.065Z"
   },
   {
    "duration": 201,
    "start_time": "2023-08-18T06:16:18.267Z"
   },
   {
    "duration": 225,
    "start_time": "2023-08-18T06:16:18.469Z"
   },
   {
    "duration": 137,
    "start_time": "2023-08-18T06:16:18.695Z"
   },
   {
    "duration": 147,
    "start_time": "2023-08-18T06:16:18.834Z"
   },
   {
    "duration": 154,
    "start_time": "2023-08-18T06:16:18.983Z"
   },
   {
    "duration": 14,
    "start_time": "2023-08-18T06:16:19.139Z"
   },
   {
    "duration": 8,
    "start_time": "2023-08-18T06:16:19.155Z"
   },
   {
    "duration": 8,
    "start_time": "2023-08-18T06:16:19.165Z"
   },
   {
    "duration": 6,
    "start_time": "2023-08-18T06:16:19.175Z"
   },
   {
    "duration": 1375,
    "start_time": "2023-08-18T08:42:50.709Z"
   },
   {
    "duration": 221,
    "start_time": "2023-08-18T08:42:52.087Z"
   },
   {
    "duration": 15,
    "start_time": "2023-08-18T08:42:52.309Z"
   },
   {
    "duration": 11,
    "start_time": "2023-08-18T08:42:52.326Z"
   },
   {
    "duration": 33,
    "start_time": "2023-08-18T08:42:52.338Z"
   },
   {
    "duration": 45,
    "start_time": "2023-08-18T08:42:52.372Z"
   },
   {
    "duration": 23,
    "start_time": "2023-08-18T08:42:52.420Z"
   },
   {
    "duration": 8,
    "start_time": "2023-08-18T08:42:52.445Z"
   },
   {
    "duration": 11,
    "start_time": "2023-08-18T08:42:52.454Z"
   },
   {
    "duration": 40,
    "start_time": "2023-08-18T08:42:52.468Z"
   },
   {
    "duration": 25,
    "start_time": "2023-08-18T08:42:52.510Z"
   },
   {
    "duration": 18,
    "start_time": "2023-08-18T08:42:52.537Z"
   },
   {
    "duration": 24,
    "start_time": "2023-08-18T08:42:52.556Z"
   },
   {
    "duration": 24,
    "start_time": "2023-08-18T08:42:52.582Z"
   },
   {
    "duration": 6,
    "start_time": "2023-08-18T08:42:52.607Z"
   },
   {
    "duration": 349,
    "start_time": "2023-08-18T08:42:52.615Z"
   },
   {
    "duration": 7,
    "start_time": "2023-08-18T08:42:52.966Z"
   },
   {
    "duration": 28,
    "start_time": "2023-08-18T08:42:52.974Z"
   },
   {
    "duration": 22,
    "start_time": "2023-08-18T08:42:53.004Z"
   },
   {
    "duration": 38,
    "start_time": "2023-08-18T08:42:53.028Z"
   },
   {
    "duration": 10,
    "start_time": "2023-08-18T08:42:53.068Z"
   },
   {
    "duration": 17,
    "start_time": "2023-08-18T08:42:53.080Z"
   },
   {
    "duration": 237,
    "start_time": "2023-08-18T08:42:53.099Z"
   },
   {
    "duration": 346,
    "start_time": "2023-08-18T08:42:53.338Z"
   },
   {
    "duration": 7,
    "start_time": "2023-08-18T08:42:53.686Z"
   },
   {
    "duration": 1118,
    "start_time": "2023-08-18T08:42:53.695Z"
   },
   {
    "duration": 6,
    "start_time": "2023-08-18T08:42:54.815Z"
   },
   {
    "duration": 360,
    "start_time": "2023-08-18T08:42:54.825Z"
   },
   {
    "duration": 354,
    "start_time": "2023-08-18T08:42:55.187Z"
   },
   {
    "duration": 14,
    "start_time": "2023-08-18T08:42:55.543Z"
   },
   {
    "duration": 174,
    "start_time": "2023-08-18T08:42:55.559Z"
   },
   {
    "duration": 26,
    "start_time": "2023-08-18T08:42:55.735Z"
   },
   {
    "duration": 6,
    "start_time": "2023-08-18T08:42:55.763Z"
   },
   {
    "duration": 178,
    "start_time": "2023-08-18T08:42:55.770Z"
   },
   {
    "duration": 14,
    "start_time": "2023-08-18T08:42:55.950Z"
   },
   {
    "duration": 34,
    "start_time": "2023-08-18T08:42:55.966Z"
   },
   {
    "duration": 185,
    "start_time": "2023-08-18T08:42:56.002Z"
   },
   {
    "duration": 10,
    "start_time": "2023-08-18T08:42:56.189Z"
   },
   {
    "duration": 167,
    "start_time": "2023-08-18T08:42:56.201Z"
   },
   {
    "duration": 11,
    "start_time": "2023-08-18T08:42:56.369Z"
   },
   {
    "duration": 185,
    "start_time": "2023-08-18T08:42:56.382Z"
   },
   {
    "duration": 17,
    "start_time": "2023-08-18T08:42:56.569Z"
   },
   {
    "duration": 219,
    "start_time": "2023-08-18T08:42:56.588Z"
   },
   {
    "duration": 334,
    "start_time": "2023-08-18T08:42:56.809Z"
   },
   {
    "duration": 239,
    "start_time": "2023-08-18T08:42:57.145Z"
   },
   {
    "duration": 324,
    "start_time": "2023-08-18T08:42:57.386Z"
   },
   {
    "duration": 203,
    "start_time": "2023-08-18T08:42:57.712Z"
   },
   {
    "duration": 234,
    "start_time": "2023-08-18T08:42:57.917Z"
   },
   {
    "duration": 231,
    "start_time": "2023-08-18T08:42:58.156Z"
   },
   {
    "duration": 235,
    "start_time": "2023-08-18T08:42:58.389Z"
   },
   {
    "duration": 166,
    "start_time": "2023-08-18T08:42:58.625Z"
   },
   {
    "duration": 227,
    "start_time": "2023-08-18T08:42:58.793Z"
   },
   {
    "duration": 176,
    "start_time": "2023-08-18T08:42:59.022Z"
   },
   {
    "duration": 9,
    "start_time": "2023-08-18T08:42:59.200Z"
   },
   {
    "duration": 11,
    "start_time": "2023-08-18T08:42:59.211Z"
   },
   {
    "duration": 30,
    "start_time": "2023-08-18T08:42:59.224Z"
   },
   {
    "duration": 19,
    "start_time": "2023-08-18T08:42:59.256Z"
   }
  ],
  "kernelspec": {
   "display_name": "Python 3 (ipykernel)",
   "language": "python",
   "name": "python3"
  },
  "language_info": {
   "codemirror_mode": {
    "name": "ipython",
    "version": 3
   },
   "file_extension": ".py",
   "mimetype": "text/x-python",
   "name": "python",
   "nbconvert_exporter": "python",
   "pygments_lexer": "ipython3",
   "version": "3.9.5"
  },
  "toc": {
   "base_numbering": 1,
   "nav_menu": {
    "height": "298px",
    "width": "459px"
   },
   "number_sections": true,
   "sideBar": true,
   "skip_h1_title": true,
   "title_cell": "Table of Contents",
   "title_sidebar": "Contents",
   "toc_cell": false,
   "toc_position": {},
   "toc_section_display": true,
   "toc_window_display": false
  }
 },
 "nbformat": 4,
 "nbformat_minor": 2
}
