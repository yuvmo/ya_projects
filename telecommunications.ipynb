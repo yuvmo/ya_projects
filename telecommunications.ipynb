{
 "cells": [
  {
   "cell_type": "markdown",
   "id": "584adb06",
   "metadata": {},
   "source": [
    "# Описание проекта: телекоммуникации\n",
    "  \n",
    "Оператор связи «ТелеДом» хочет бороться с оттоком клиентов. Для этого его сотрудники начнут предлагать промокоды и специальные условия всем, кто планирует отказаться от услуг связи. Чтобы заранее находить таких пользователей, «ТелеДому» нужна модель, которая будет предсказывать, разорвёт ли абонент договор. Команда оператора собрала персональные данные о некоторых клиентах, информацию об их тарифах и услугах. Ваша задача — обучить на этих данных модель для прогноза оттока клиентов.\n",
    "  \n",
    "### Описание услуг\n",
    "  \n",
    "Оператор предоставляет два основных типа услуг: \n",
    "- Стационарную телефонную связь. Телефон можно подключить к нескольким линиям одновременно.\n",
    "- Интернет. Подключение может быть двух типов: через телефонную линию (DSL, от англ. digital subscriber line — «цифровая абонентская линия») или оптоволоконный кабель (Fiber optic).\n",
    "  \n",
    "Также доступны такие услуги:\n",
    "- Интернет-безопасность: антивирус (DeviceProtection) и блокировка небезопасных сайтов (OnlineSecurity);\n",
    "- Выделенная линия технической поддержки (TechSupport);\n",
    "- Облачное хранилище файлов для резервного копирования данных (OnlineBackup);\n",
    "- Стриминговое телевидение (StreamingTV) и каталог фильмов (StreamingMovies).\n",
    "  \n",
    "Клиенты могут платить за услуги каждый месяц или заключить договор на 1–2 года. Возможно оплатить счёт разными способами, а также получить электронный чек.\n",
    "  \n",
    "### Описание данных\n",
    "  \n",
    "Данные состоят из нескольких файлов, полученных из разных источников:\n",
    "  \n",
    "`contract_new.csv` — информация о договоре;  \n",
    "`personal_new.csv` — персональные данные клиента;  \n",
    "`internet_new.csv` — информация об интернет-услугах;  \n",
    "`phone_new.csv` — информация об услугах телефонии.  \n",
    "  \n",
    "#### Файл `contract_new.csv`\n",
    "  \n",
    "`customerID` — идентификатор абонента;  \n",
    "`BeginDate` — дата начала действия договора;  \n",
    "`EndDate` — дата окончания действия договора;  \n",
    "`Type` — тип оплаты: раз в год-два или ежемесячно;  \n",
    "`PaperlessBilling` — электронный расчётный лист;  \n",
    "`PaymentMethod` — тип платежа;  \n",
    "`MonthlyCharges` — расходы за месяц;  \n",
    "`TotalCharges` — общие расходы абонента.  \n",
    "  \n",
    "#### Файл `personal_new.csv`\n",
    "  \n",
    "`customerID` — идентификатор пользователя;  \n",
    "`gender` — пол;  \n",
    "`SeniorCitizen` — является ли абонент пенсионером;  \n",
    "`Partner` — есть ли у абонента супруг или супруга;  \n",
    "`Dependents` — есть ли у абонента дети.  \n",
    "  \n",
    "#### Файл `internet_new.csv`\n",
    "  \n",
    "`customerID` — идентификатор пользователя;  \n",
    "`InternetService` — тип подключения;  \n",
    "`OnlineSecurity` — блокировка опасных сайтов;  \n",
    "`OnlineBackup` — облачное хранилище файлов для резервного копирования данных;  \n",
    "`DeviceProtection` — антивирус;  \n",
    "`TechSupport` — выделенная линия технической поддержки;  \n",
    "`StreamingTV` — стриминговое телевидение;  \n",
    "`StreamingMovies` — каталог фильмов.  \n",
    "  \n",
    "#### Файл `phone_new.csv`\n",
    "  \n",
    "`customerID` — идентификатор пользователя;  \n",
    "`MultipleLines` — подключение телефона к нескольким линиям одновременно.\n",
    "  \n",
    "Во всех файлах столбец `customerID` содержит код клиента. Информация о договорах актуальна на 1 февраля 2020 года.\n",
    "Данные также находятся в тренажёре, в папке `/datasets/`."
   ]
  },
  {
   "cell_type": "markdown",
   "id": "e855a0b1",
   "metadata": {},
   "source": [
    "## Содержание:\n",
    "* [Загрузка библиотек и данных](#Загрузка-библиотек-и-данных)\n",
    "* [Предобработка и анализ](#Предобработка-и-анализ)\n",
    "    * [`contract_new`](#contract_new)\n",
    "    * [`personal_new`](#personal_new)\n",
    "    * [`internet_new`](#internet_new)\n",
    "    * [`phone_new`](#phone_new)\n",
    "    * [Объединение датафреймов и общий препроцессинг](#Объединение-датафреймов-и-общий-препроцессинг)\n",
    "* [Исследовательский анализ данных](#Исследовательский-анализ-данных)\n",
    "    * [Категориальные переменные](#Категориальные-переменные)\n",
    "    * [Количественные переменные](#Количественные-переменные)\n",
    "    * [Анализ мультиколлинеарности](#Анализ-мультиколлинеарности)\n",
    "* [Деление на выборки](#Деление-на-выборки)\n",
    "* [Обучение моделей](#Обучение-моделей)\n",
    "    * [Логистическая регрессия](#Логистическая-регрессия)\n",
    "    * [Random Forest](#Random-Forest)\n",
    "    * [CatBoostClassifier](#CatBoostClassifier)\n",
    "* [Анализ лучшей модели](#Анализ-лучшей-модели)\n",
    "* [Итоговые выводы](#Итоговые-выводы)"
   ]
  },
  {
   "cell_type": "markdown",
   "id": "8c4be0f4",
   "metadata": {},
   "source": [
    "## Загрузка библиотек и данных"
   ]
  },
  {
   "cell_type": "code",
   "execution_count": 1,
   "id": "32e55e97",
   "metadata": {},
   "outputs": [
    {
     "name": "stdout",
     "output_type": "stream",
     "text": [
      "Requirement already satisfied: phik in /opt/conda/lib/python3.9/site-packages (0.12.4)\n",
      "Requirement already satisfied: matplotlib>=2.2.3 in /opt/conda/lib/python3.9/site-packages (from phik) (3.3.4)\n",
      "Requirement already satisfied: joblib>=0.14.1 in /opt/conda/lib/python3.9/site-packages (from phik) (1.1.0)\n",
      "Requirement already satisfied: scipy>=1.5.2 in /opt/conda/lib/python3.9/site-packages (from phik) (1.9.1)\n",
      "Requirement already satisfied: pandas>=0.25.1 in /opt/conda/lib/python3.9/site-packages (from phik) (1.2.4)\n",
      "Requirement already satisfied: numpy>=1.18.0 in /opt/conda/lib/python3.9/site-packages (from phik) (1.21.1)\n",
      "Requirement already satisfied: pyparsing!=2.0.4,!=2.1.2,!=2.1.6,>=2.0.3 in /opt/conda/lib/python3.9/site-packages (from matplotlib>=2.2.3->phik) (2.4.7)\n",
      "Requirement already satisfied: kiwisolver>=1.0.1 in /opt/conda/lib/python3.9/site-packages (from matplotlib>=2.2.3->phik) (1.4.4)\n",
      "Requirement already satisfied: pillow>=6.2.0 in /opt/conda/lib/python3.9/site-packages (from matplotlib>=2.2.3->phik) (8.4.0)\n",
      "Requirement already satisfied: python-dateutil>=2.1 in /opt/conda/lib/python3.9/site-packages (from matplotlib>=2.2.3->phik) (2.8.1)\n",
      "Requirement already satisfied: cycler>=0.10 in /opt/conda/lib/python3.9/site-packages (from matplotlib>=2.2.3->phik) (0.11.0)\n",
      "Requirement already satisfied: pytz>=2017.3 in /opt/conda/lib/python3.9/site-packages (from pandas>=0.25.1->phik) (2021.1)\n",
      "Requirement already satisfied: six>=1.5 in /opt/conda/lib/python3.9/site-packages (from python-dateutil>=2.1->matplotlib>=2.2.3->phik) (1.16.0)\n",
      "Note: you may need to restart the kernel to use updated packages.\n"
     ]
    }
   ],
   "source": [
    "pip install phik"
   ]
  },
  {
   "cell_type": "code",
   "execution_count": 2,
   "id": "3f21748d",
   "metadata": {},
   "outputs": [],
   "source": [
    "#загрузка библиотек\n",
    "\n",
    "import pandas as pd\n",
    "import numpy as np\n",
    "import re\n",
    "import phik\n",
    "import time\n",
    "\n",
    "import seaborn as sns\n",
    "import matplotlib.pyplot as plt\n",
    "\n",
    "from sklearn.model_selection import train_test_split, GridSearchCV\n",
    "from sklearn.metrics import roc_auc_score, roc_curve, accuracy_score\n",
    "from sklearn.metrics import confusion_matrix, ConfusionMatrixDisplay \n",
    "from sklearn.preprocessing import StandardScaler\n",
    "\n",
    "from sklearn.preprocessing import OneHotEncoder\n",
    "from sklearn.preprocessing import OrdinalEncoder\n",
    "from sklearn.compose import ColumnTransformer\n",
    "\n",
    "from sklearn.linear_model import LogisticRegression\n",
    "from sklearn.ensemble import RandomForestClassifier\n",
    "from catboost import CatBoostClassifier"
   ]
  },
  {
   "cell_type": "code",
   "execution_count": 3,
   "id": "35959a4e",
   "metadata": {},
   "outputs": [],
   "source": [
    "#константы\n",
    "\n",
    "RANDOM_STATE = 80424\n",
    "COLORS = ['#FFB6C1', '#ADD8E6', '#6495ED', '#9999FF']\n",
    "FIGSIZE = [15, 20]"
   ]
  },
  {
   "cell_type": "code",
   "execution_count": 4,
   "id": "8fa70379",
   "metadata": {},
   "outputs": [],
   "source": [
    "#загрузка всех данных\n",
    "\n",
    "try:\n",
    "    contract_new = pd.read_csv('/datasets/contract_new.csv')\n",
    "    personal_new = pd.read_csv('/datasets/personal_new.csv')\n",
    "    internet_new = pd.read_csv('/datasets/internet_new.csv')\n",
    "    phone_new = pd.read_csv('/datasets/phone_new.csv')\n",
    "except:\n",
    "    contract_new = pd.read_csv('/Users/yumo/Downloads/contract_new.csv')\n",
    "    personal_new = pd.read_csv('/Users/yumo/Downloads/personal_new.csv')\n",
    "    internet_new = pd.read_csv('/Users/yumo/Downloads/internet_new.csv')\n",
    "    phone_new = pd.read_csv('/Users/yumo/Downloads/phone_new.csv')"
   ]
  },
  {
   "cell_type": "markdown",
   "id": "323a4c7e",
   "metadata": {},
   "source": [
    "## Предобработка и анализ"
   ]
  },
  {
   "cell_type": "markdown",
   "id": "6bf53234",
   "metadata": {},
   "source": [
    "### `contract_new`"
   ]
  },
  {
   "cell_type": "code",
   "execution_count": 5,
   "id": "219d252c",
   "metadata": {},
   "outputs": [
    {
     "data": {
      "text/plain": [
       "Index(['customer_id', 'begin_date', 'end_date', 'type', 'paperless_billing',\n",
       "       'payment_method', 'monthly_charges', 'total_charges'],\n",
       "      dtype='object')"
      ]
     },
     "execution_count": 5,
     "metadata": {},
     "output_type": "execute_result"
    }
   ],
   "source": [
    "#приводим названия признаков к змеиному регистру\n",
    "contract_new.columns = [re.sub(r'(?<!^)(?=[A-Z])', '_', i).lower() for i in contract_new.columns] \n",
    "contract_new = contract_new.rename(columns={'customer_i_d':'customer_id'})\n",
    "\n",
    "contract_new.columns"
   ]
  },
  {
   "cell_type": "code",
   "execution_count": 6,
   "id": "8a0d68b5",
   "metadata": {},
   "outputs": [
    {
     "name": "stdout",
     "output_type": "stream",
     "text": [
      "  customer_id  begin_date end_date            type paperless_billing  \\\n",
      "0  7590-VHVEG  2020-01-01       No  Month-to-month               Yes   \n",
      "1  5575-GNVDE  2017-04-01       No        One year                No   \n",
      "2  3668-QPYBK  2019-10-01       No  Month-to-month               Yes   \n",
      "3  7795-CFOCW  2016-05-01       No        One year                No   \n",
      "4  9237-HQITU  2019-09-01       No  Month-to-month               Yes   \n",
      "\n",
      "              payment_method  monthly_charges total_charges  \n",
      "0           Electronic check            29.85         31.04  \n",
      "1               Mailed check            56.95       2071.84  \n",
      "2               Mailed check            53.85        226.17  \n",
      "3  Bank transfer (automatic)            42.30        1960.6  \n",
      "4           Electronic check            70.70         353.5  \n",
      "----------------------------------------------------------------------\n",
      "<class 'pandas.core.frame.DataFrame'>\n",
      "RangeIndex: 7043 entries, 0 to 7042\n",
      "Data columns (total 8 columns):\n",
      " #   Column             Non-Null Count  Dtype  \n",
      "---  ------             --------------  -----  \n",
      " 0   customer_id        7043 non-null   object \n",
      " 1   begin_date         7043 non-null   object \n",
      " 2   end_date           7043 non-null   object \n",
      " 3   type               7043 non-null   object \n",
      " 4   paperless_billing  7043 non-null   object \n",
      " 5   payment_method     7043 non-null   object \n",
      " 6   monthly_charges    7043 non-null   float64\n",
      " 7   total_charges      7043 non-null   object \n",
      "dtypes: float64(1), object(7)\n",
      "memory usage: 440.3+ KB\n",
      "None\n",
      "----------------------------------------------------------------------\n",
      "       monthly_charges\n",
      "count      7043.000000\n",
      "mean         64.761692\n",
      "std          30.090047\n",
      "min          18.250000\n",
      "25%          35.500000\n",
      "50%          70.350000\n",
      "75%          89.850000\n",
      "max         118.750000\n"
     ]
    }
   ],
   "source": [
    "print(contract_new.head())\n",
    "print('----------------------------------------------------------------------')\n",
    "print(contract_new.info())\n",
    "print('----------------------------------------------------------------------')\n",
    "print(contract_new.describe())"
   ]
  },
  {
   "cell_type": "code",
   "execution_count": 7,
   "id": "e8e6b3b3",
   "metadata": {},
   "outputs": [
    {
     "data": {
      "text/plain": [
       "Month-to-month    3875\n",
       "Two year          1695\n",
       "One year          1473\n",
       "Name: type, dtype: int64"
      ]
     },
     "execution_count": 7,
     "metadata": {},
     "output_type": "execute_result"
    }
   ],
   "source": [
    "#проверим какие есть уникальные значения в категориальных переменных\n",
    "contract_new['type'].value_counts()"
   ]
  },
  {
   "cell_type": "code",
   "execution_count": 8,
   "id": "b6b4668b",
   "metadata": {},
   "outputs": [
    {
     "data": {
      "text/plain": [
       "Electronic check             2365\n",
       "Mailed check                 1612\n",
       "Bank transfer (automatic)    1544\n",
       "Credit card (automatic)      1522\n",
       "Name: payment_method, dtype: int64"
      ]
     },
     "execution_count": 8,
     "metadata": {},
     "output_type": "execute_result"
    }
   ],
   "source": [
    "contract_new['payment_method'].value_counts()"
   ]
  },
  {
   "cell_type": "code",
   "execution_count": 9,
   "id": "95124717",
   "metadata": {},
   "outputs": [
    {
     "data": {
      "text/plain": [
       "Yes    4171\n",
       "No     2872\n",
       "Name: paperless_billing, dtype: int64"
      ]
     },
     "execution_count": 9,
     "metadata": {},
     "output_type": "execute_result"
    }
   ],
   "source": [
    "contract_new['paperless_billing'].value_counts()"
   ]
  },
  {
   "cell_type": "code",
   "execution_count": 10,
   "id": "2d2f2b3a",
   "metadata": {
    "scrolled": true
   },
   "outputs": [
    {
     "data": {
      "text/plain": [
       "0"
      ]
     },
     "execution_count": 10,
     "metadata": {},
     "output_type": "execute_result"
    }
   ],
   "source": [
    "contract_new.duplicated().sum()"
   ]
  },
  {
   "cell_type": "markdown",
   "id": "4a670dd5",
   "metadata": {},
   "source": [
    "1. В первом датафрейме нет ни пропусков, ни дубликатов\n",
    "2. В признаке `end_date` есть значение `No`, что означает, что договор на момент создания датафрейма всё ещё действителен. Поменяем это значение на последнюю дату, упомянутую в датафрейме (01.02.2020)\n",
    "3. Даты начала и окончания действия договора (признаки `begin_date` и `end_date`) нужно перевести в формат даты\n",
    "4. Признаки `type`, `paperless_billing` и `payment_method` категориальные. К ним нужно применить OneHotEncoder перед применением в линейных моделях, или OrdinalEncoder для дерева решений\n",
    "5. Признак `total_charges` нужно перевести в числа с плавающей точкой\n",
    "6. Добавим признак `use_days`, где в днях посмотрим на продолжительность действия договора\n",
    "7. Для того, чтобы создать целевой признак, создадим столбец `contract_now`, где если в конечной дате есть No, то `contract_now` = 0. Если конечная дата стоит, то `contract_now` = 1. Сделаем это до 2 пункта."
   ]
  },
  {
   "cell_type": "code",
   "execution_count": 11,
   "id": "1ed6defc",
   "metadata": {
    "scrolled": true
   },
   "outputs": [],
   "source": [
    "#заполняем пропуски на 0, подразумевая, что пропуск означает отсутствие расходов\n",
    "contract_new.loc[contract_new['total_charges'] == ' ', 'total_charges'] = 0\n",
    "\n",
    "#меняем тип данных у total_charges\n",
    "contract_new['total_charges'] = contract_new['total_charges'].astype(float)"
   ]
  },
  {
   "cell_type": "code",
   "execution_count": 12,
   "id": "b5b77aba",
   "metadata": {},
   "outputs": [],
   "source": [
    "#создание переменной contract_now\n",
    "contract_new['contract_now'] = (contract_new['end_date'] != 'No').astype(int)"
   ]
  },
  {
   "cell_type": "code",
   "execution_count": 13,
   "id": "337e6b94",
   "metadata": {},
   "outputs": [
    {
     "name": "stdout",
     "output_type": "stream",
     "text": [
      "0\n"
     ]
    }
   ],
   "source": [
    "#заменяем значение No датой выгрузки данных\n",
    "contract_new['end_date'] = contract_new['end_date'].replace(['No'], ['2020-02-01'])\n",
    "print(contract_new[contract_new['end_date'] == 'No'].shape[0])"
   ]
  },
  {
   "cell_type": "code",
   "execution_count": 14,
   "id": "09ba7600",
   "metadata": {},
   "outputs": [
    {
     "name": "stdout",
     "output_type": "stream",
     "text": [
      "<class 'pandas.core.frame.DataFrame'>\n",
      "RangeIndex: 7043 entries, 0 to 7042\n",
      "Data columns (total 9 columns):\n",
      " #   Column             Non-Null Count  Dtype         \n",
      "---  ------             --------------  -----         \n",
      " 0   customer_id        7043 non-null   object        \n",
      " 1   begin_date         7043 non-null   datetime64[ns]\n",
      " 2   end_date           7043 non-null   datetime64[ns]\n",
      " 3   type               7043 non-null   object        \n",
      " 4   paperless_billing  7043 non-null   object        \n",
      " 5   payment_method     7043 non-null   object        \n",
      " 6   monthly_charges    7043 non-null   float64       \n",
      " 7   total_charges      7043 non-null   float64       \n",
      " 8   contract_now       7043 non-null   int64         \n",
      "dtypes: datetime64[ns](2), float64(2), int64(1), object(4)\n",
      "memory usage: 495.3+ KB\n"
     ]
    }
   ],
   "source": [
    "#меняем тип данных у begin_date и end_date\n",
    "contract_new['begin_date'] = pd.to_datetime(contract_new['begin_date'], format='%Y-%m-%d')\n",
    "contract_new['end_date'] = pd.to_datetime(contract_new['end_date'], format='%Y-%m-%d')\n",
    "contract_new.info()"
   ]
  },
  {
   "cell_type": "code",
   "execution_count": 15,
   "id": "31424214",
   "metadata": {},
   "outputs": [
    {
     "name": "stdout",
     "output_type": "stream",
     "text": [
      "<class 'pandas.core.frame.DataFrame'>\n",
      "RangeIndex: 7043 entries, 0 to 7042\n",
      "Data columns (total 10 columns):\n",
      " #   Column             Non-Null Count  Dtype         \n",
      "---  ------             --------------  -----         \n",
      " 0   customer_id        7043 non-null   object        \n",
      " 1   begin_date         7043 non-null   datetime64[ns]\n",
      " 2   end_date           7043 non-null   datetime64[ns]\n",
      " 3   type               7043 non-null   object        \n",
      " 4   paperless_billing  7043 non-null   object        \n",
      " 5   payment_method     7043 non-null   object        \n",
      " 6   monthly_charges    7043 non-null   float64       \n",
      " 7   total_charges      7043 non-null   float64       \n",
      " 8   contract_now       7043 non-null   int64         \n",
      " 9   use_days           7043 non-null   int64         \n",
      "dtypes: datetime64[ns](2), float64(2), int64(2), object(4)\n",
      "memory usage: 550.4+ KB\n"
     ]
    }
   ],
   "source": [
    "contract_new['use_days'] = (contract_new['end_date'] - contract_new['begin_date']).dt.days\n",
    "contract_new.info()"
   ]
  },
  {
   "cell_type": "code",
   "execution_count": 16,
   "id": "99b43ad8",
   "metadata": {},
   "outputs": [
    {
     "data": {
      "text/html": [
       "<div>\n",
       "<style scoped>\n",
       "    .dataframe tbody tr th:only-of-type {\n",
       "        vertical-align: middle;\n",
       "    }\n",
       "\n",
       "    .dataframe tbody tr th {\n",
       "        vertical-align: top;\n",
       "    }\n",
       "\n",
       "    .dataframe thead th {\n",
       "        text-align: right;\n",
       "    }\n",
       "</style>\n",
       "<table border=\"1\" class=\"dataframe\">\n",
       "  <thead>\n",
       "    <tr style=\"text-align: right;\">\n",
       "      <th></th>\n",
       "      <th>customer_id</th>\n",
       "      <th>begin_date</th>\n",
       "      <th>end_date</th>\n",
       "      <th>type</th>\n",
       "      <th>paperless_billing</th>\n",
       "      <th>payment_method</th>\n",
       "      <th>monthly_charges</th>\n",
       "      <th>total_charges</th>\n",
       "      <th>contract_now</th>\n",
       "      <th>use_days</th>\n",
       "    </tr>\n",
       "  </thead>\n",
       "  <tbody>\n",
       "    <tr>\n",
       "      <th>0</th>\n",
       "      <td>7590-VHVEG</td>\n",
       "      <td>2020-01-01</td>\n",
       "      <td>2020-02-01</td>\n",
       "      <td>Month-to-month</td>\n",
       "      <td>Yes</td>\n",
       "      <td>Electronic check</td>\n",
       "      <td>29.85</td>\n",
       "      <td>31.04</td>\n",
       "      <td>0</td>\n",
       "      <td>31</td>\n",
       "    </tr>\n",
       "    <tr>\n",
       "      <th>1</th>\n",
       "      <td>5575-GNVDE</td>\n",
       "      <td>2017-04-01</td>\n",
       "      <td>2020-02-01</td>\n",
       "      <td>One year</td>\n",
       "      <td>No</td>\n",
       "      <td>Mailed check</td>\n",
       "      <td>56.95</td>\n",
       "      <td>2071.84</td>\n",
       "      <td>0</td>\n",
       "      <td>1036</td>\n",
       "    </tr>\n",
       "    <tr>\n",
       "      <th>2</th>\n",
       "      <td>3668-QPYBK</td>\n",
       "      <td>2019-10-01</td>\n",
       "      <td>2020-02-01</td>\n",
       "      <td>Month-to-month</td>\n",
       "      <td>Yes</td>\n",
       "      <td>Mailed check</td>\n",
       "      <td>53.85</td>\n",
       "      <td>226.17</td>\n",
       "      <td>0</td>\n",
       "      <td>123</td>\n",
       "    </tr>\n",
       "    <tr>\n",
       "      <th>3</th>\n",
       "      <td>7795-CFOCW</td>\n",
       "      <td>2016-05-01</td>\n",
       "      <td>2020-02-01</td>\n",
       "      <td>One year</td>\n",
       "      <td>No</td>\n",
       "      <td>Bank transfer (automatic)</td>\n",
       "      <td>42.30</td>\n",
       "      <td>1960.60</td>\n",
       "      <td>0</td>\n",
       "      <td>1371</td>\n",
       "    </tr>\n",
       "    <tr>\n",
       "      <th>4</th>\n",
       "      <td>9237-HQITU</td>\n",
       "      <td>2019-09-01</td>\n",
       "      <td>2020-02-01</td>\n",
       "      <td>Month-to-month</td>\n",
       "      <td>Yes</td>\n",
       "      <td>Electronic check</td>\n",
       "      <td>70.70</td>\n",
       "      <td>353.50</td>\n",
       "      <td>0</td>\n",
       "      <td>153</td>\n",
       "    </tr>\n",
       "    <tr>\n",
       "      <th>5</th>\n",
       "      <td>9305-CDSKC</td>\n",
       "      <td>2019-03-01</td>\n",
       "      <td>2020-02-01</td>\n",
       "      <td>Month-to-month</td>\n",
       "      <td>Yes</td>\n",
       "      <td>Electronic check</td>\n",
       "      <td>99.65</td>\n",
       "      <td>1150.96</td>\n",
       "      <td>0</td>\n",
       "      <td>337</td>\n",
       "    </tr>\n",
       "    <tr>\n",
       "      <th>6</th>\n",
       "      <td>1452-KIOVK</td>\n",
       "      <td>2018-04-01</td>\n",
       "      <td>2020-02-01</td>\n",
       "      <td>Month-to-month</td>\n",
       "      <td>Yes</td>\n",
       "      <td>Credit card (automatic)</td>\n",
       "      <td>89.10</td>\n",
       "      <td>2058.21</td>\n",
       "      <td>0</td>\n",
       "      <td>671</td>\n",
       "    </tr>\n",
       "    <tr>\n",
       "      <th>7</th>\n",
       "      <td>6713-OKOMC</td>\n",
       "      <td>2019-04-01</td>\n",
       "      <td>2020-02-01</td>\n",
       "      <td>Month-to-month</td>\n",
       "      <td>No</td>\n",
       "      <td>Mailed check</td>\n",
       "      <td>29.75</td>\n",
       "      <td>300.48</td>\n",
       "      <td>0</td>\n",
       "      <td>306</td>\n",
       "    </tr>\n",
       "    <tr>\n",
       "      <th>8</th>\n",
       "      <td>7892-POOKP</td>\n",
       "      <td>2017-07-01</td>\n",
       "      <td>2020-02-01</td>\n",
       "      <td>Month-to-month</td>\n",
       "      <td>Yes</td>\n",
       "      <td>Electronic check</td>\n",
       "      <td>104.80</td>\n",
       "      <td>3573.68</td>\n",
       "      <td>0</td>\n",
       "      <td>945</td>\n",
       "    </tr>\n",
       "    <tr>\n",
       "      <th>9</th>\n",
       "      <td>6388-TABGU</td>\n",
       "      <td>2014-12-01</td>\n",
       "      <td>2017-05-01</td>\n",
       "      <td>One year</td>\n",
       "      <td>No</td>\n",
       "      <td>Bank transfer (automatic)</td>\n",
       "      <td>56.15</td>\n",
       "      <td>1628.35</td>\n",
       "      <td>1</td>\n",
       "      <td>882</td>\n",
       "    </tr>\n",
       "  </tbody>\n",
       "</table>\n",
       "</div>"
      ],
      "text/plain": [
       "  customer_id begin_date   end_date            type paperless_billing  \\\n",
       "0  7590-VHVEG 2020-01-01 2020-02-01  Month-to-month               Yes   \n",
       "1  5575-GNVDE 2017-04-01 2020-02-01        One year                No   \n",
       "2  3668-QPYBK 2019-10-01 2020-02-01  Month-to-month               Yes   \n",
       "3  7795-CFOCW 2016-05-01 2020-02-01        One year                No   \n",
       "4  9237-HQITU 2019-09-01 2020-02-01  Month-to-month               Yes   \n",
       "5  9305-CDSKC 2019-03-01 2020-02-01  Month-to-month               Yes   \n",
       "6  1452-KIOVK 2018-04-01 2020-02-01  Month-to-month               Yes   \n",
       "7  6713-OKOMC 2019-04-01 2020-02-01  Month-to-month                No   \n",
       "8  7892-POOKP 2017-07-01 2020-02-01  Month-to-month               Yes   \n",
       "9  6388-TABGU 2014-12-01 2017-05-01        One year                No   \n",
       "\n",
       "              payment_method  monthly_charges  total_charges  contract_now  \\\n",
       "0           Electronic check            29.85          31.04             0   \n",
       "1               Mailed check            56.95        2071.84             0   \n",
       "2               Mailed check            53.85         226.17             0   \n",
       "3  Bank transfer (automatic)            42.30        1960.60             0   \n",
       "4           Electronic check            70.70         353.50             0   \n",
       "5           Electronic check            99.65        1150.96             0   \n",
       "6    Credit card (automatic)            89.10        2058.21             0   \n",
       "7               Mailed check            29.75         300.48             0   \n",
       "8           Electronic check           104.80        3573.68             0   \n",
       "9  Bank transfer (automatic)            56.15        1628.35             1   \n",
       "\n",
       "   use_days  \n",
       "0        31  \n",
       "1      1036  \n",
       "2       123  \n",
       "3      1371  \n",
       "4       153  \n",
       "5       337  \n",
       "6       671  \n",
       "7       306  \n",
       "8       945  \n",
       "9       882  "
      ]
     },
     "execution_count": 16,
     "metadata": {},
     "output_type": "execute_result"
    }
   ],
   "source": [
    "contract_new.head(10)"
   ]
  },
  {
   "cell_type": "markdown",
   "id": "49e0cc29",
   "metadata": {},
   "source": [
    "### `personal_new`"
   ]
  },
  {
   "cell_type": "code",
   "execution_count": 17,
   "id": "6041cf36",
   "metadata": {},
   "outputs": [
    {
     "data": {
      "text/plain": [
       "Index(['customer_id', 'gender', 'senior_citizen', 'partner', 'dependents'], dtype='object')"
      ]
     },
     "execution_count": 17,
     "metadata": {},
     "output_type": "execute_result"
    }
   ],
   "source": [
    "#приводим названия признаков к змеиному регистру\n",
    "personal_new.columns = [re.sub(r'(?<!^)(?=[A-Z])', '_', i).lower() for i in personal_new.columns] \n",
    "personal_new = personal_new.rename(columns={'customer_i_d':'customer_id'})\n",
    "\n",
    "personal_new.columns"
   ]
  },
  {
   "cell_type": "code",
   "execution_count": 18,
   "id": "03f5923e",
   "metadata": {},
   "outputs": [
    {
     "name": "stdout",
     "output_type": "stream",
     "text": [
      "  customer_id  gender  senior_citizen partner dependents\n",
      "0  7590-VHVEG  Female               0     Yes         No\n",
      "1  5575-GNVDE    Male               0      No         No\n",
      "2  3668-QPYBK    Male               0      No         No\n",
      "3  7795-CFOCW    Male               0      No         No\n",
      "4  9237-HQITU  Female               0      No         No\n",
      "----------------------------------------------------------------------\n",
      "<class 'pandas.core.frame.DataFrame'>\n",
      "RangeIndex: 7043 entries, 0 to 7042\n",
      "Data columns (total 5 columns):\n",
      " #   Column          Non-Null Count  Dtype \n",
      "---  ------          --------------  ----- \n",
      " 0   customer_id     7043 non-null   object\n",
      " 1   gender          7043 non-null   object\n",
      " 2   senior_citizen  7043 non-null   int64 \n",
      " 3   partner         7043 non-null   object\n",
      " 4   dependents      7043 non-null   object\n",
      "dtypes: int64(1), object(4)\n",
      "memory usage: 275.2+ KB\n",
      "None\n",
      "----------------------------------------------------------------------\n",
      "       senior_citizen\n",
      "count     7043.000000\n",
      "mean         0.162147\n",
      "std          0.368612\n",
      "min          0.000000\n",
      "25%          0.000000\n",
      "50%          0.000000\n",
      "75%          0.000000\n",
      "max          1.000000\n"
     ]
    }
   ],
   "source": [
    "print(personal_new.head())\n",
    "print('----------------------------------------------------------------------')\n",
    "print(personal_new.info())\n",
    "print('----------------------------------------------------------------------')\n",
    "print(personal_new.describe())"
   ]
  },
  {
   "cell_type": "code",
   "execution_count": 19,
   "id": "ceb5f744",
   "metadata": {},
   "outputs": [
    {
     "data": {
      "text/plain": [
       "Male      3555\n",
       "Female    3488\n",
       "Name: gender, dtype: int64"
      ]
     },
     "execution_count": 19,
     "metadata": {},
     "output_type": "execute_result"
    }
   ],
   "source": [
    "#проверим какие есть уникальные значения в категориальных переменных\n",
    "personal_new['gender'].value_counts()"
   ]
  },
  {
   "cell_type": "code",
   "execution_count": 20,
   "id": "11bc6850",
   "metadata": {},
   "outputs": [
    {
     "data": {
      "text/plain": [
       "0    5901\n",
       "1    1142\n",
       "Name: senior_citizen, dtype: int64"
      ]
     },
     "execution_count": 20,
     "metadata": {},
     "output_type": "execute_result"
    }
   ],
   "source": [
    "personal_new['senior_citizen'].value_counts()"
   ]
  },
  {
   "cell_type": "code",
   "execution_count": 21,
   "id": "213ce29b",
   "metadata": {},
   "outputs": [
    {
     "data": {
      "text/plain": [
       "No     3641\n",
       "Yes    3402\n",
       "Name: partner, dtype: int64"
      ]
     },
     "execution_count": 21,
     "metadata": {},
     "output_type": "execute_result"
    }
   ],
   "source": [
    "personal_new['partner'].value_counts()"
   ]
  },
  {
   "cell_type": "code",
   "execution_count": 22,
   "id": "0d5da2cf",
   "metadata": {},
   "outputs": [
    {
     "data": {
      "text/plain": [
       "No     4933\n",
       "Yes    2110\n",
       "Name: dependents, dtype: int64"
      ]
     },
     "execution_count": 22,
     "metadata": {},
     "output_type": "execute_result"
    }
   ],
   "source": [
    "personal_new['dependents'].value_counts()"
   ]
  },
  {
   "cell_type": "code",
   "execution_count": 23,
   "id": "dee3279d",
   "metadata": {},
   "outputs": [
    {
     "data": {
      "text/plain": [
       "0"
      ]
     },
     "execution_count": 23,
     "metadata": {},
     "output_type": "execute_result"
    }
   ],
   "source": [
    "personal_new.duplicated().sum()"
   ]
  },
  {
   "cell_type": "markdown",
   "id": "93920ffb",
   "metadata": {},
   "source": [
    "1. В датафрейме нет ни пропусков, ни дубликатов\n",
    "2. Ко всем 4 категориальным бинарным признакам нужно применить OHE и OE (`gender`, `senior_citizen`, `partner`, `dependents`)\n",
    "3. Нужно перевести значения 0 и 1 в признаке `senior_citizen` на `No` и `Yes`, а тип данных в `object`"
   ]
  },
  {
   "cell_type": "code",
   "execution_count": 24,
   "id": "d531eb50",
   "metadata": {},
   "outputs": [],
   "source": [
    "personal_new.loc[personal_new['senior_citizen'] == 0, 'senior_citizen'] = 'No' \n",
    "personal_new.loc[personal_new['senior_citizen'] == 1, 'senior_citizen'] = 'Yes' "
   ]
  },
  {
   "cell_type": "code",
   "execution_count": 25,
   "id": "748b782d",
   "metadata": {},
   "outputs": [
    {
     "name": "stdout",
     "output_type": "stream",
     "text": [
      "<class 'pandas.core.frame.DataFrame'>\n",
      "RangeIndex: 7043 entries, 0 to 7042\n",
      "Data columns (total 5 columns):\n",
      " #   Column          Non-Null Count  Dtype \n",
      "---  ------          --------------  ----- \n",
      " 0   customer_id     7043 non-null   object\n",
      " 1   gender          7043 non-null   object\n",
      " 2   senior_citizen  7043 non-null   object\n",
      " 3   partner         7043 non-null   object\n",
      " 4   dependents      7043 non-null   object\n",
      "dtypes: object(5)\n",
      "memory usage: 275.2+ KB\n"
     ]
    }
   ],
   "source": [
    "personal_new.info()"
   ]
  },
  {
   "cell_type": "markdown",
   "id": "71d76211",
   "metadata": {},
   "source": [
    "### `internet_new`"
   ]
  },
  {
   "cell_type": "code",
   "execution_count": 26,
   "id": "db1bccc7",
   "metadata": {},
   "outputs": [
    {
     "data": {
      "text/plain": [
       "Index(['customer_id', 'internet_service', 'online_security', 'online_backup',\n",
       "       'device_protection', 'tech_support', 'streaming_t_v',\n",
       "       'streaming_movies'],\n",
       "      dtype='object')"
      ]
     },
     "execution_count": 26,
     "metadata": {},
     "output_type": "execute_result"
    }
   ],
   "source": [
    "#приводим названия признаков к змеиному регистру\n",
    "internet_new.columns = [re.sub(r'(?<!^)(?=[A-Z])', '_', i).lower() for i in internet_new.columns] \n",
    "internet_new = internet_new.rename(columns={'customer_i_d':'customer_id'})\n",
    "\n",
    "internet_new.columns"
   ]
  },
  {
   "cell_type": "code",
   "execution_count": 27,
   "id": "25db52a6",
   "metadata": {},
   "outputs": [
    {
     "name": "stdout",
     "output_type": "stream",
     "text": [
      "  customer_id internet_service online_security online_backup  \\\n",
      "0  7590-VHVEG              DSL              No           Yes   \n",
      "1  5575-GNVDE              DSL             Yes            No   \n",
      "2  3668-QPYBK              DSL             Yes           Yes   \n",
      "3  7795-CFOCW              DSL             Yes            No   \n",
      "4  9237-HQITU      Fiber optic              No            No   \n",
      "\n",
      "  device_protection tech_support streaming_t_v streaming_movies  \n",
      "0                No           No            No               No  \n",
      "1               Yes           No            No               No  \n",
      "2                No           No            No               No  \n",
      "3               Yes          Yes            No               No  \n",
      "4                No           No            No               No  \n",
      "----------------------------------------------------------------------\n",
      "<class 'pandas.core.frame.DataFrame'>\n",
      "RangeIndex: 5517 entries, 0 to 5516\n",
      "Data columns (total 8 columns):\n",
      " #   Column             Non-Null Count  Dtype \n",
      "---  ------             --------------  ----- \n",
      " 0   customer_id        5517 non-null   object\n",
      " 1   internet_service   5517 non-null   object\n",
      " 2   online_security    5517 non-null   object\n",
      " 3   online_backup      5517 non-null   object\n",
      " 4   device_protection  5517 non-null   object\n",
      " 5   tech_support       5517 non-null   object\n",
      " 6   streaming_t_v      5517 non-null   object\n",
      " 7   streaming_movies   5517 non-null   object\n",
      "dtypes: object(8)\n",
      "memory usage: 344.9+ KB\n",
      "None\n",
      "----------------------------------------------------------------------\n",
      "       customer_id internet_service online_security online_backup  \\\n",
      "count         5517             5517            5517          5517   \n",
      "unique        5517                2               2             2   \n",
      "top     9134-CEQMF      Fiber optic              No            No   \n",
      "freq             1             3096            3498          3088   \n",
      "\n",
      "       device_protection tech_support streaming_t_v streaming_movies  \n",
      "count               5517         5517          5517             5517  \n",
      "unique                 2            2             2                2  \n",
      "top                   No           No            No               No  \n",
      "freq                3095         3473          2810             2785  \n"
     ]
    }
   ],
   "source": [
    "print(internet_new.head())\n",
    "print('----------------------------------------------------------------------')\n",
    "print(internet_new.info())\n",
    "print('----------------------------------------------------------------------')\n",
    "print(internet_new.describe())"
   ]
  },
  {
   "cell_type": "code",
   "execution_count": 28,
   "id": "9adeab5f",
   "metadata": {},
   "outputs": [
    {
     "name": "stdout",
     "output_type": "stream",
     "text": [
      "Признак \"customer_id\" имеет 5517 уникальных значений:\n",
      "['7590-VHVEG' '5575-GNVDE' '3668-QPYBK' ... '4801-JZAZL' '8361-LTMKD'\n",
      " '3186-AJIEK'] \n",
      "\n",
      "Признак \"internet_service\" имеет 2 уникальных значений:\n",
      "['DSL' 'Fiber optic'] \n",
      "\n",
      "Признак \"online_security\" имеет 2 уникальных значений:\n",
      "['No' 'Yes'] \n",
      "\n",
      "Признак \"online_backup\" имеет 2 уникальных значений:\n",
      "['Yes' 'No'] \n",
      "\n",
      "Признак \"device_protection\" имеет 2 уникальных значений:\n",
      "['No' 'Yes'] \n",
      "\n",
      "Признак \"tech_support\" имеет 2 уникальных значений:\n",
      "['No' 'Yes'] \n",
      "\n",
      "Признак \"streaming_t_v\" имеет 2 уникальных значений:\n",
      "['No' 'Yes'] \n",
      "\n",
      "Признак \"streaming_movies\" имеет 2 уникальных значений:\n",
      "['No' 'Yes'] \n",
      "\n"
     ]
    }
   ],
   "source": [
    "#проверим какие есть уникальные значения в категориальных переменных\n",
    "for i in internet_new.columns:\n",
    "    print(f'Признак \"{i}\" имеет {len(internet_new[i].unique())} уникальных значений:')\n",
    "    print(internet_new[i].unique(), '\\n')"
   ]
  },
  {
   "cell_type": "code",
   "execution_count": 29,
   "id": "7c3ff2c2",
   "metadata": {},
   "outputs": [
    {
     "data": {
      "text/plain": [
       "0"
      ]
     },
     "execution_count": 29,
     "metadata": {},
     "output_type": "execute_result"
    }
   ],
   "source": [
    "personal_new.duplicated().sum()"
   ]
  },
  {
   "cell_type": "markdown",
   "id": "faba7def",
   "metadata": {},
   "source": [
    "1. В датафрейме нет пропусков и дубликатов\n",
    "2. Все переменные кроме айди пользователя являются категориальными бинарными, будем из кодировать с помощью OHE и OE"
   ]
  },
  {
   "cell_type": "markdown",
   "id": "2a37df2b",
   "metadata": {},
   "source": [
    "### `phone_new`"
   ]
  },
  {
   "cell_type": "code",
   "execution_count": 30,
   "id": "128364b2",
   "metadata": {},
   "outputs": [
    {
     "data": {
      "text/plain": [
       "Index(['customer_id', 'multiple_lines'], dtype='object')"
      ]
     },
     "execution_count": 30,
     "metadata": {},
     "output_type": "execute_result"
    }
   ],
   "source": [
    "#приводим названия признаков к змеиному регистру\n",
    "phone_new.columns = [re.sub(r'(?<!^)(?=[A-Z])', '_', i).lower() for i in phone_new.columns] \n",
    "phone_new = phone_new.rename(columns={'customer_i_d':'customer_id'})\n",
    "\n",
    "phone_new.columns"
   ]
  },
  {
   "cell_type": "code",
   "execution_count": 31,
   "id": "6fea733d",
   "metadata": {},
   "outputs": [
    {
     "name": "stdout",
     "output_type": "stream",
     "text": [
      "  customer_id multiple_lines\n",
      "0  5575-GNVDE             No\n",
      "1  3668-QPYBK             No\n",
      "2  9237-HQITU             No\n",
      "3  9305-CDSKC            Yes\n",
      "4  1452-KIOVK            Yes\n",
      "----------------------------------------------------------------------\n",
      "<class 'pandas.core.frame.DataFrame'>\n",
      "RangeIndex: 6361 entries, 0 to 6360\n",
      "Data columns (total 2 columns):\n",
      " #   Column          Non-Null Count  Dtype \n",
      "---  ------          --------------  ----- \n",
      " 0   customer_id     6361 non-null   object\n",
      " 1   multiple_lines  6361 non-null   object\n",
      "dtypes: object(2)\n",
      "memory usage: 99.5+ KB\n",
      "None\n",
      "----------------------------------------------------------------------\n",
      "       customer_id multiple_lines\n",
      "count         6361           6361\n",
      "unique        6361              2\n",
      "top     2809-ILCYT             No\n",
      "freq             1           3390\n"
     ]
    }
   ],
   "source": [
    "print(phone_new.head())\n",
    "print('----------------------------------------------------------------------')\n",
    "print(phone_new.info())\n",
    "print('----------------------------------------------------------------------')\n",
    "print(phone_new.describe())"
   ]
  },
  {
   "cell_type": "code",
   "execution_count": 32,
   "id": "b2a7c897",
   "metadata": {},
   "outputs": [
    {
     "data": {
      "text/plain": [
       "No     3390\n",
       "Yes    2971\n",
       "Name: multiple_lines, dtype: int64"
      ]
     },
     "execution_count": 32,
     "metadata": {},
     "output_type": "execute_result"
    }
   ],
   "source": [
    "#проверим какие есть уникальные значения в категориальных переменных\n",
    "phone_new['multiple_lines'].value_counts()"
   ]
  },
  {
   "cell_type": "code",
   "execution_count": 33,
   "id": "acfe98f8",
   "metadata": {},
   "outputs": [
    {
     "data": {
      "text/plain": [
       "0"
      ]
     },
     "execution_count": 33,
     "metadata": {},
     "output_type": "execute_result"
    }
   ],
   "source": [
    "personal_new.duplicated().sum()"
   ]
  },
  {
   "cell_type": "markdown",
   "id": "4b69abeb",
   "metadata": {},
   "source": [
    "1. В датафрейме нет пропусков и дубликатов\n",
    "2. Только один категориальный бинарный признак - `multiple_lines`. Кодирование через OHE и OE"
   ]
  },
  {
   "cell_type": "markdown",
   "id": "16216614",
   "metadata": {},
   "source": [
    "### Объединение датафреймов и общий препроцессинг"
   ]
  },
  {
   "cell_type": "markdown",
   "id": "7f351c26",
   "metadata": {},
   "source": [
    "Для дальнейшей работы нам нужно соединить все датафреймы. Во всех есть айди пользователя, по которому будем соединять таблицы."
   ]
  },
  {
   "cell_type": "code",
   "execution_count": 34,
   "id": "de754d8f",
   "metadata": {},
   "outputs": [
    {
     "name": "stdout",
     "output_type": "stream",
     "text": [
      "Размерность датафрейма \"contract_new\": (7043, 10)\n",
      "Размерность датафрейма \"personal_new\": (7043, 5)\n",
      "Размерность датафрейма \"internet_new\": (5517, 8)\n",
      "Размерность датафрейма \"phone_new\"   : (6361, 2)\n"
     ]
    }
   ],
   "source": [
    "print('Размерность датафрейма \"contract_new\":', contract_new.shape)\n",
    "print('Размерность датафрейма \"personal_new\":', personal_new.shape)\n",
    "print('Размерность датафрейма \"internet_new\":', internet_new.shape)\n",
    "print('Размерность датафрейма \"phone_new\"   :', phone_new.shape)"
   ]
  },
  {
   "cell_type": "markdown",
   "id": "a4cf2428",
   "metadata": {},
   "source": [
    "В первых двух датафреймах хранится основная информация. Делаем предположение, что учитывая их одинаковую длину, айди совпадают. Соединяя оставшиееся два датафрейма заполним пропуски значением `No`, так как это предполагает, что услуга не подключена."
   ]
  },
  {
   "cell_type": "code",
   "execution_count": 35,
   "id": "6091afdc",
   "metadata": {},
   "outputs": [
    {
     "data": {
      "text/plain": [
       "True"
      ]
     },
     "execution_count": 35,
     "metadata": {},
     "output_type": "execute_result"
    }
   ],
   "source": [
    "data = contract_new \\\n",
    "    .merge(personal_new, how='left', on='customer_id') \\\n",
    "    .merge(internet_new, how='left', on='customer_id') \\\n",
    "    .merge(phone_new, how='left', on='customer_id') \n",
    "\n",
    "data['customer_id'].is_unique"
   ]
  },
  {
   "cell_type": "code",
   "execution_count": 36,
   "id": "bf6c1d34",
   "metadata": {},
   "outputs": [
    {
     "name": "stdout",
     "output_type": "stream",
     "text": [
      "<class 'pandas.core.frame.DataFrame'>\n",
      "Int64Index: 7043 entries, 0 to 7042\n",
      "Data columns (total 22 columns):\n",
      " #   Column             Non-Null Count  Dtype         \n",
      "---  ------             --------------  -----         \n",
      " 0   customer_id        7043 non-null   object        \n",
      " 1   begin_date         7043 non-null   datetime64[ns]\n",
      " 2   end_date           7043 non-null   datetime64[ns]\n",
      " 3   type               7043 non-null   object        \n",
      " 4   paperless_billing  7043 non-null   object        \n",
      " 5   payment_method     7043 non-null   object        \n",
      " 6   monthly_charges    7043 non-null   float64       \n",
      " 7   total_charges      7043 non-null   float64       \n",
      " 8   contract_now       7043 non-null   int64         \n",
      " 9   use_days           7043 non-null   int64         \n",
      " 10  gender             7043 non-null   object        \n",
      " 11  senior_citizen     7043 non-null   object        \n",
      " 12  partner            7043 non-null   object        \n",
      " 13  dependents         7043 non-null   object        \n",
      " 14  internet_service   5517 non-null   object        \n",
      " 15  online_security    5517 non-null   object        \n",
      " 16  online_backup      5517 non-null   object        \n",
      " 17  device_protection  5517 non-null   object        \n",
      " 18  tech_support       5517 non-null   object        \n",
      " 19  streaming_t_v      5517 non-null   object        \n",
      " 20  streaming_movies   5517 non-null   object        \n",
      " 21  multiple_lines     6361 non-null   object        \n",
      "dtypes: datetime64[ns](2), float64(2), int64(2), object(16)\n",
      "memory usage: 1.2+ MB\n"
     ]
    }
   ],
   "source": [
    "data.info()"
   ]
  },
  {
   "cell_type": "markdown",
   "id": "66678b59",
   "metadata": {},
   "source": [
    "Айди оказались уникальными. Устанавливаем их в качестве индекса и заполняем пустые значения на `No`."
   ]
  },
  {
   "cell_type": "code",
   "execution_count": 37,
   "id": "ba928ac5",
   "metadata": {},
   "outputs": [],
   "source": [
    "data = data.set_index('customer_id')"
   ]
  },
  {
   "cell_type": "code",
   "execution_count": 38,
   "id": "e793300b",
   "metadata": {},
   "outputs": [],
   "source": [
    "no_columns = [\n",
    "    'internet_service', 'online_security', 'online_backup', \n",
    "    'device_protection', 'tech_support', 'streaming_t_v', \n",
    "    'streaming_movies', 'multiple_lines'\n",
    "]\n",
    "\n",
    "for column in no_columns:\n",
    "    data[column] = data[column].fillna('No')"
   ]
  },
  {
   "cell_type": "code",
   "execution_count": 39,
   "id": "2526afee",
   "metadata": {},
   "outputs": [
    {
     "name": "stdout",
     "output_type": "stream",
     "text": [
      "<class 'pandas.core.frame.DataFrame'>\n",
      "Index: 7043 entries, 7590-VHVEG to 3186-AJIEK\n",
      "Data columns (total 21 columns):\n",
      " #   Column             Non-Null Count  Dtype         \n",
      "---  ------             --------------  -----         \n",
      " 0   begin_date         7043 non-null   datetime64[ns]\n",
      " 1   end_date           7043 non-null   datetime64[ns]\n",
      " 2   type               7043 non-null   object        \n",
      " 3   paperless_billing  7043 non-null   object        \n",
      " 4   payment_method     7043 non-null   object        \n",
      " 5   monthly_charges    7043 non-null   float64       \n",
      " 6   total_charges      7043 non-null   float64       \n",
      " 7   contract_now       7043 non-null   int64         \n",
      " 8   use_days           7043 non-null   int64         \n",
      " 9   gender             7043 non-null   object        \n",
      " 10  senior_citizen     7043 non-null   object        \n",
      " 11  partner            7043 non-null   object        \n",
      " 12  dependents         7043 non-null   object        \n",
      " 13  internet_service   7043 non-null   object        \n",
      " 14  online_security    7043 non-null   object        \n",
      " 15  online_backup      7043 non-null   object        \n",
      " 16  device_protection  7043 non-null   object        \n",
      " 17  tech_support       7043 non-null   object        \n",
      " 18  streaming_t_v      7043 non-null   object        \n",
      " 19  streaming_movies   7043 non-null   object        \n",
      " 20  multiple_lines     7043 non-null   object        \n",
      "dtypes: datetime64[ns](2), float64(2), int64(2), object(15)\n",
      "memory usage: 1.2+ MB\n"
     ]
    }
   ],
   "source": [
    "data.info()"
   ]
  },
  {
   "cell_type": "markdown",
   "id": "ebcdd518",
   "metadata": {},
   "source": [
    "Так как мы создали переменную, отражающую количество дней, можем удалить данные о начале и конце заключения договора."
   ]
  },
  {
   "cell_type": "code",
   "execution_count": 40,
   "id": "26148e68",
   "metadata": {},
   "outputs": [],
   "source": [
    "del data['begin_date']\n",
    "del data['end_date']"
   ]
  },
  {
   "cell_type": "code",
   "execution_count": 41,
   "id": "b08b5efc",
   "metadata": {},
   "outputs": [
    {
     "name": "stdout",
     "output_type": "stream",
     "text": [
      "<class 'pandas.core.frame.DataFrame'>\n",
      "Index: 7043 entries, 7590-VHVEG to 3186-AJIEK\n",
      "Data columns (total 19 columns):\n",
      " #   Column             Non-Null Count  Dtype  \n",
      "---  ------             --------------  -----  \n",
      " 0   type               7043 non-null   object \n",
      " 1   paperless_billing  7043 non-null   object \n",
      " 2   payment_method     7043 non-null   object \n",
      " 3   monthly_charges    7043 non-null   float64\n",
      " 4   total_charges      7043 non-null   float64\n",
      " 5   contract_now       7043 non-null   int64  \n",
      " 6   use_days           7043 non-null   int64  \n",
      " 7   gender             7043 non-null   object \n",
      " 8   senior_citizen     7043 non-null   object \n",
      " 9   partner            7043 non-null   object \n",
      " 10  dependents         7043 non-null   object \n",
      " 11  internet_service   7043 non-null   object \n",
      " 12  online_security    7043 non-null   object \n",
      " 13  online_backup      7043 non-null   object \n",
      " 14  device_protection  7043 non-null   object \n",
      " 15  tech_support       7043 non-null   object \n",
      " 16  streaming_t_v      7043 non-null   object \n",
      " 17  streaming_movies   7043 non-null   object \n",
      " 18  multiple_lines     7043 non-null   object \n",
      "dtypes: float64(2), int64(2), object(15)\n",
      "memory usage: 1.1+ MB\n"
     ]
    }
   ],
   "source": [
    "data.info()"
   ]
  },
  {
   "cell_type": "markdown",
   "id": "765209d0",
   "metadata": {},
   "source": [
    "В рамках предобработки мы проверили данные на наличие пропусков и дубликатов, меняли типы данных. Также соединили все данные в одну таблицу и заполнили пустые данные, получившиеся при соединении."
   ]
  },
  {
   "cell_type": "markdown",
   "id": "4a1f7499",
   "metadata": {},
   "source": [
    "## Исследовательский анализ данных"
   ]
  },
  {
   "cell_type": "markdown",
   "id": "07a19232",
   "metadata": {},
   "source": [
    "Всего у нас 19 признаков:\n",
    " - 1 целевой: `contract_now`\n",
    " - 3 количественных: `monthly_charges`, `total_charges`, `use_days`\n",
    " - 15 категориальных: `type`, `paperless_billing`, `payment_method`, `gender`, `senior_citizen`, `partner`, `dependents`, `internet_service`, `online_security`, `online_backup`, `device_protection`, `tech_support`, `streaming_t_v`, `streaming_movies`, `multiple_lines`"
   ]
  },
  {
   "cell_type": "markdown",
   "id": "ef6790a8",
   "metadata": {},
   "source": [
    "### Категориальные данные"
   ]
  },
  {
   "cell_type": "code",
   "execution_count": 42,
   "id": "e2debb46",
   "metadata": {},
   "outputs": [],
   "source": [
    "categorical_cols = ['type', 'paperless_billing', 'payment_method', 'gender',\n",
    "                    'senior_citizen', 'partner', 'dependents', 'internet_service',\n",
    "                    'online_security', 'online_backup', 'device_protection',\n",
    "                    'tech_support', 'streaming_t_v', 'streaming_movies', 'multiple_lines']"
   ]
  },
  {
   "cell_type": "code",
   "execution_count": 43,
   "id": "a742fb7e",
   "metadata": {
    "scrolled": false
   },
   "outputs": [
    {
     "data": {
      "image/png": "[encoded data removed]",
      "text/plain": [
       "<Figure size 1080x1440 with 15 Axes>"
      ]
     },
     "metadata": {
      "needs_background": "light"
     },
     "output_type": "display_data"
    }
   ],
   "source": [
    "#диаграммы распределения категориальных признаков\n",
    "fig, axes = plt.subplots(nrows=5, ncols=3, figsize=FIGSIZE)\n",
    "\n",
    "for i in range(len(categorical_cols)):\n",
    "    ax = axes.flatten()[i]\n",
    "    col = categorical_cols[i]\n",
    "    \n",
    "    data[col].value_counts().plot(kind='bar', ax=ax, color=COLORS)\n",
    "    ax.set_title(col)\n",
    "    ax.set_xlabel('')\n",
    "    ax.set_ylabel('Count')\n",
    "\n",
    "plt.tight_layout()\n",
    "plt.show()"
   ]
  },
  {
   "cell_type": "markdown",
   "id": "15af7bf9",
   "metadata": {},
   "source": [
    "**Выводы:**\n",
    "- Чаще всего пользователи выбирают ежемесячную оплату\n",
    "- Самый популярный способ оплаты - электронный чек\n",
    "- В равной степени услугами компании пользуются и мужчины, и женщины, а также люди в браке и вне брака\n",
    "- Пенсионеры составляют маленькую долю клиентов\n",
    "- У большинства пользователей нет детей\n",
    "- Самый популярный тип подключения - оптическое волокно\n",
    "- Дополнительные услуги (блокировка опасных сайтов, облачное хранилище, антивирус, техническая поддержка, стриминговое ТВ и каталог фильмов) не пользуются популярностью у пользователей."
   ]
  },
  {
   "cell_type": "code",
   "execution_count": 44,
   "id": "b16db7d3",
   "metadata": {},
   "outputs": [
    {
     "data": {
      "image/png": "[encoded data removed]",
      "text/plain": [
       "<Figure size 1080x1440 with 15 Axes>"
      ]
     },
     "metadata": {
      "needs_background": "light"
     },
     "output_type": "display_data"
    }
   ],
   "source": [
    "#диаграммы распределения категориальных признаков в зависимости от целевой переменной\n",
    "fig, axes = plt.subplots(nrows=5, ncols=3, figsize=FIGSIZE)\n",
    "\n",
    "for i, col in enumerate(categorical_cols):\n",
    "    ax = axes.flatten()[i]\n",
    "    \n",
    "    grouped = data.groupby(['contract_now', col]).size().unstack()\n",
    "    grouped.plot(kind='barh', stacked=True, ax=ax, color=COLORS)\n",
    "    \n",
    "    ax.set_title(col)\n",
    "    ax.set_ylabel('contract_now')\n",
    "    ax.set_xlabel('Count')\n",
    "    ax.legend(title=col)\n",
    "\n",
    "plt.tight_layout()\n",
    "plt.show()"
   ]
  },
  {
   "cell_type": "markdown",
   "id": "b73d4081",
   "metadata": {},
   "source": [
    "**Выводы:**\n",
    "- Дополнительные услуги практически не влияют на отток клиентов\n",
    "- Большинство отказывающихся от услуг пользователей находились в браке\n",
    "- Доля клиентов, которые отказались от использования услуг компании и платили ежемесечно, немного больше тех, кто платил на год-два вперед."
   ]
  },
  {
   "cell_type": "markdown",
   "id": "f1dc2635",
   "metadata": {},
   "source": [
    "### Количественные данные"
   ]
  },
  {
   "cell_type": "code",
   "execution_count": 45,
   "id": "1c923888",
   "metadata": {},
   "outputs": [
    {
     "data": {
      "image/png": "[encoded data removed]",
      "text/plain": [
       "<Figure size 1080x360 with 3 Axes>"
      ]
     },
     "metadata": {
      "needs_background": "light"
     },
     "output_type": "display_data"
    },
    {
     "data": {
      "image/png": "[encoded data removed]",
      "text/plain": [
       "<Figure size 720x360 with 3 Axes>"
      ]
     },
     "metadata": {
      "needs_background": "light"
     },
     "output_type": "display_data"
    }
   ],
   "source": [
    "#графики распределения\n",
    "plt.figure(figsize=(15, 5))\n",
    "\n",
    "plt.subplot(1, 3, 1)\n",
    "sns.histplot(data['monthly_charges'], kde=True, color='skyblue')\n",
    "plt.title('monthly_charges')\n",
    "\n",
    "plt.subplot(1, 3, 2)\n",
    "sns.histplot(data['total_charges'], kde=True, color='pink')\n",
    "plt.title('total_charges')\n",
    "\n",
    "plt.subplot(1, 3, 3)\n",
    "sns.histplot(data['use_days'], kde=True, color='lavender')\n",
    "plt.title('use_days')\n",
    "\n",
    "plt.tight_layout()\n",
    "plt.show()\n",
    "\n",
    "#ящики с усами\n",
    "plt.figure(figsize=(10, 5))\n",
    "\n",
    "plt.subplot(1, 3, 1)\n",
    "sns.boxplot(y=data['monthly_charges'], color='skyblue')\n",
    "plt.title('monthly_charges')\n",
    "\n",
    "plt.subplot(1, 3, 2)\n",
    "sns.boxplot(y=data['total_charges'], color='pink')\n",
    "plt.title('total_charges')\n",
    "\n",
    "plt.subplot(1, 3, 3)\n",
    "sns.boxplot(y=data['use_days'], color='lavender')\n",
    "plt.title('use_days')\n",
    "\n",
    "plt.tight_layout()\n",
    "plt.show()"
   ]
  },
  {
   "cell_type": "code",
   "execution_count": 46,
   "id": "15d7974d",
   "metadata": {},
   "outputs": [
    {
     "data": {
      "text/html": [
       "<div>\n",
       "<style scoped>\n",
       "    .dataframe tbody tr th:only-of-type {\n",
       "        vertical-align: middle;\n",
       "    }\n",
       "\n",
       "    .dataframe tbody tr th {\n",
       "        vertical-align: top;\n",
       "    }\n",
       "\n",
       "    .dataframe thead th {\n",
       "        text-align: right;\n",
       "    }\n",
       "</style>\n",
       "<table border=\"1\" class=\"dataframe\">\n",
       "  <thead>\n",
       "    <tr style=\"text-align: right;\">\n",
       "      <th></th>\n",
       "      <th>monthly_charges</th>\n",
       "      <th>total_charges</th>\n",
       "      <th>use_days</th>\n",
       "    </tr>\n",
       "  </thead>\n",
       "  <tbody>\n",
       "    <tr>\n",
       "      <th>count</th>\n",
       "      <td>7043.000000</td>\n",
       "      <td>7043.000000</td>\n",
       "      <td>7043.000000</td>\n",
       "    </tr>\n",
       "    <tr>\n",
       "      <th>mean</th>\n",
       "      <td>64.761692</td>\n",
       "      <td>2115.312885</td>\n",
       "      <td>898.555729</td>\n",
       "    </tr>\n",
       "    <tr>\n",
       "      <th>std</th>\n",
       "      <td>30.090047</td>\n",
       "      <td>2112.742814</td>\n",
       "      <td>683.130510</td>\n",
       "    </tr>\n",
       "    <tr>\n",
       "      <th>min</th>\n",
       "      <td>18.250000</td>\n",
       "      <td>0.000000</td>\n",
       "      <td>0.000000</td>\n",
       "    </tr>\n",
       "    <tr>\n",
       "      <th>25%</th>\n",
       "      <td>35.500000</td>\n",
       "      <td>436.750000</td>\n",
       "      <td>276.000000</td>\n",
       "    </tr>\n",
       "    <tr>\n",
       "      <th>50%</th>\n",
       "      <td>70.350000</td>\n",
       "      <td>1343.350000</td>\n",
       "      <td>761.000000</td>\n",
       "    </tr>\n",
       "    <tr>\n",
       "      <th>75%</th>\n",
       "      <td>89.850000</td>\n",
       "      <td>3236.690000</td>\n",
       "      <td>1461.000000</td>\n",
       "    </tr>\n",
       "    <tr>\n",
       "      <th>max</th>\n",
       "      <td>118.750000</td>\n",
       "      <td>9221.380000</td>\n",
       "      <td>2314.000000</td>\n",
       "    </tr>\n",
       "  </tbody>\n",
       "</table>\n",
       "</div>"
      ],
      "text/plain": [
       "       monthly_charges  total_charges     use_days\n",
       "count      7043.000000    7043.000000  7043.000000\n",
       "mean         64.761692    2115.312885   898.555729\n",
       "std          30.090047    2112.742814   683.130510\n",
       "min          18.250000       0.000000     0.000000\n",
       "25%          35.500000     436.750000   276.000000\n",
       "50%          70.350000    1343.350000   761.000000\n",
       "75%          89.850000    3236.690000  1461.000000\n",
       "max         118.750000    9221.380000  2314.000000"
      ]
     },
     "execution_count": 46,
     "metadata": {},
     "output_type": "execute_result"
    }
   ],
   "source": [
    "data[['monthly_charges', 'total_charges', 'use_days']].describe()"
   ]
  },
  {
   "cell_type": "markdown",
   "id": "382efa2d",
   "metadata": {},
   "source": [
    "**Выводы:**\n",
    "1. График `monthly_charges`\n",
    "    - В среднем пользователи ежемесячно тратят около 70 единиц (медиана)\n",
    "    - Ограничиваясь первым и третьим квартилями, мы можем сказать, что большинство пользователей тратят от 35 до 90 единиц\n",
    "2. График `total_charges`\n",
    "    - Считая общие траты, в среднем пользователи тратят около 1400 единиц\n",
    "    - Большинство тратят от 400 до 3000 единиц\n",
    "    - График имеет плавное уменьшение в большую сторону, что показывает, что небольшое количество пользователей имеют более высокие траты\n",
    "3. График `use_days`\n",
    "    - В среднем пользователи пользуются услугами компании около 750 дней\n",
    "    - Большинство пользователей пользуются услугами от 270 до 1500 дней\n",
    "    - Также есть небольшая часть пользователей с более долгим пользованием (максимум 2300)"
   ]
  },
  {
   "cell_type": "code",
   "execution_count": 47,
   "id": "876dab16",
   "metadata": {
    "scrolled": false
   },
   "outputs": [
    {
     "data": {
      "image/png": "[encoded data removed]",
      "text/plain": [
       "<Figure size 576x288 with 2 Axes>"
      ]
     },
     "metadata": {
      "needs_background": "light"
     },
     "output_type": "display_data"
    },
    {
     "data": {
      "image/png": "[encoded data removed]",
      "text/plain": [
       "<Figure size 576x288 with 2 Axes>"
      ]
     },
     "metadata": {
      "needs_background": "light"
     },
     "output_type": "display_data"
    },
    {
     "data": {
      "image/png": "[encoded data removed]",
      "text/plain": [
       "<Figure size 576x288 with 2 Axes>"
      ]
     },
     "metadata": {
      "needs_background": "light"
     },
     "output_type": "display_data"
    }
   ],
   "source": [
    "#monthly_charges с разделением по contract_now\n",
    "g = sns.FacetGrid(data, col='contract_now', height=4)\n",
    "g.map(plt.hist, 'monthly_charges', bins=20, color='skyblue')\n",
    "plt.show()\n",
    "\n",
    "#total_charges с разделением по contract_now\n",
    "g = sns.FacetGrid(data, col='contract_now', height=4)\n",
    "g.map(plt.hist, 'total_charges', bins=20, color='pink')\n",
    "plt.show()\n",
    "\n",
    "#use_days с разделением по contract_now\n",
    "g = sns.FacetGrid(data, col='contract_now', height=4)\n",
    "g.map(plt.hist, 'use_days', bins=20, color='lavender')\n",
    "plt.show()"
   ]
  },
  {
   "cell_type": "code",
   "execution_count": 48,
   "id": "8586fd92",
   "metadata": {
    "scrolled": false
   },
   "outputs": [
    {
     "data": {
      "image/png": "[encoded data removed]",
      "text/plain": [
       "<Figure size 432x288 with 1 Axes>"
      ]
     },
     "metadata": {
      "needs_background": "light"
     },
     "output_type": "display_data"
    },
    {
     "data": {
      "image/png": "[encoded data removed]",
      "text/plain": [
       "<Figure size 432x288 with 1 Axes>"
      ]
     },
     "metadata": {
      "needs_background": "light"
     },
     "output_type": "display_data"
    },
    {
     "data": {
      "image/png": "[encoded data removed]",
      "text/plain": [
       "<Figure size 432x288 with 1 Axes>"
      ]
     },
     "metadata": {
      "needs_background": "light"
     },
     "output_type": "display_data"
    }
   ],
   "source": [
    "#ящик с усами для monthly_charges относительно contract_now \n",
    "sns.boxplot(x='contract_now', y='monthly_charges', data=data, color='skyblue')\n",
    "plt.show()\n",
    "\n",
    "#ящик с усами для total_charges относительно contract_now \n",
    "sns.boxplot(x='contract_now', y='total_charges', data=data, color='pink')\n",
    "plt.show()\n",
    "\n",
    "#ящик с усами для use_days относительно contract_now \n",
    "sns.boxplot(x='contract_now', y='use_days', data=data, color='lavender')\n",
    "plt.show()"
   ]
  },
  {
   "cell_type": "markdown",
   "id": "8e8f39e5",
   "metadata": {},
   "source": [
    "**Выводы:**\n",
    " - Когда контракт еще действует (`contract_now = 0`), распределение ежемесячных платежей более широкое и смещено к более высоким значениям. Это говорит о том, что более активные пользователи ежемесячно тратят больше(например, приобретая дополнительные услуги)\n",
    " - Когда контракт действует (`contract_now = 0`), распределение общих платежей имеет более длинный \"хвост\", указывая на присутствие пользователей с очень высокими совокупными расходами. Это может быть связано с тем, что пользователь долго пользуется услугами компании\n",
    " - Когда контракт действует (`contract_now = 0`), распределение дней использования более рассеянное, охватывая как пользователей с очень низким, так и с очень высоким использованием. Это может отражать разнообразие моделей потребления среди активных клиентов."
   ]
  },
  {
   "cell_type": "markdown",
   "id": "b3a840e5",
   "metadata": {},
   "source": [
    "### Анализ мультиколлинеарности"
   ]
  },
  {
   "cell_type": "code",
   "execution_count": 49,
   "id": "ae17ccdd",
   "metadata": {},
   "outputs": [],
   "source": [
    "data = data[['contract_now', 'paperless_billing', 'payment_method', 'monthly_charges',\n",
    "       'total_charges', 'type', 'use_days', 'gender', 'senior_citizen',\n",
    "       'partner', 'dependents', 'internet_service', 'online_security',\n",
    "       'online_backup', 'device_protection', 'tech_support', 'streaming_t_v',\n",
    "       'streaming_movies', 'multiple_lines']]"
   ]
  },
  {
   "cell_type": "code",
   "execution_count": 50,
   "id": "d73a5199",
   "metadata": {},
   "outputs": [],
   "source": [
    "numeric_cols = ['monthly_charges', 'total_charges', 'use_days']"
   ]
  },
  {
   "cell_type": "code",
   "execution_count": 51,
   "id": "e38c0256",
   "metadata": {
    "scrolled": false
   },
   "outputs": [
    {
     "data": {
      "image/png": "[encoded data removed]",
      "text/plain": [
       "<Figure size 720x576 with 2 Axes>"
      ]
     },
     "metadata": {
      "needs_background": "light"
     },
     "output_type": "display_data"
    }
   ],
   "source": [
    "#корреляция\n",
    "multicol = data.phik_matrix(interval_cols=numeric_cols)\n",
    "\n",
    "#тепловая карта\n",
    "plt.figure(figsize=(10, 8))\n",
    "sns.heatmap(multicol.copy().round(1), annot=True, cmap='coolwarm');\n",
    "plt.show()"
   ]
  },
  {
   "cell_type": "markdown",
   "id": "73a23ad9",
   "metadata": {},
   "source": [
    "Возьмем все признаки, которые имеют корреляцию больше 0, так как они не имеют связи с целевым признаком."
   ]
  },
  {
   "cell_type": "code",
   "execution_count": 52,
   "id": "9b577528",
   "metadata": {},
   "outputs": [],
   "source": [
    "final_data = data[['contract_now', 'paperless_billing', 'payment_method', 'monthly_charges',\n",
    "                   'total_charges', 'type', 'use_days', 'senior_citizen',\n",
    "                   'partner', 'internet_service', 'online_security',\n",
    "                   'online_backup', 'device_protection', 'tech_support', 'streaming_t_v',\n",
    "                   'streaming_movies', 'multiple_lines']]"
   ]
  },
  {
   "cell_type": "markdown",
   "id": "e9f37673",
   "metadata": {},
   "source": [
    "## Деление на выборки"
   ]
  },
  {
   "cell_type": "code",
   "execution_count": 53,
   "id": "afdbf5ec",
   "metadata": {},
   "outputs": [],
   "source": [
    "#признаки и целевой признак:\n",
    "features_orig = final_data.drop('contract_now', axis=1)\n",
    "target = final_data.contract_now"
   ]
  },
  {
   "cell_type": "code",
   "execution_count": 54,
   "id": "b7f8474e",
   "metadata": {},
   "outputs": [],
   "source": [
    "#деление на выборки:\n",
    "features_train, features_test, target_train, target_test = train_test_split(features_orig,\n",
    "                                                                            target, \n",
    "                                                                            test_size=.25,\n",
    "                                                                            random_state=RANDOM_STATE)"
   ]
  },
  {
   "cell_type": "code",
   "execution_count": 55,
   "id": "93ea1fde",
   "metadata": {},
   "outputs": [
    {
     "name": "stdout",
     "output_type": "stream",
     "text": [
      "['paperless_billing', 'payment_method', 'type', 'senior_citizen', 'partner', 'internet_service', 'online_security', 'online_backup', 'device_protection', 'tech_support', 'streaming_t_v', 'streaming_movies', 'multiple_lines']\n"
     ]
    }
   ],
   "source": [
    "#категориальные признаки \n",
    "ohe_features = features_train.select_dtypes(include='object').columns.to_list()\n",
    "print(ohe_features)"
   ]
  },
  {
   "cell_type": "code",
   "execution_count": 56,
   "id": "8e6135e4",
   "metadata": {},
   "outputs": [
    {
     "data": {
      "text/plain": [
       "['monthly_charges', 'total_charges', 'use_days']"
      ]
     },
     "execution_count": 56,
     "metadata": {},
     "output_type": "execute_result"
    }
   ],
   "source": [
    "#количественные признаки\n",
    "num_features = features_train.select_dtypes(exclude='object').columns.to_list()\n",
    "num_features"
   ]
  },
  {
   "cell_type": "code",
   "execution_count": 57,
   "id": "587efac8",
   "metadata": {},
   "outputs": [],
   "source": [
    "#кодирование OHE\n",
    "encoder_ohe = OneHotEncoder(drop='first', handle_unknown='error')\n",
    "\n",
    "encoder_ohe.fit(features_train[ohe_features])\n",
    "\n",
    "sparse_matrix = encoder_ohe.transform(features_train[ohe_features])\n",
    "\n",
    "ohe_columns = encoder_ohe.get_feature_names().tolist()\n",
    "\n",
    "scaler = StandardScaler()\n",
    "\n",
    "X_train_scaled = scaler.fit_transform(features_train[num_features])\n",
    "\n",
    "features_train_arr = np.column_stack((sparse_matrix.toarray(), X_train_scaled))\n",
    "features_train_ohe = pd.DataFrame(features_train_arr, columns = ohe_columns + num_features)"
   ]
  },
  {
   "cell_type": "code",
   "execution_count": 58,
   "id": "f56fce64",
   "metadata": {},
   "outputs": [
    {
     "data": {
      "text/html": [
       "<div>\n",
       "<style scoped>\n",
       "    .dataframe tbody tr th:only-of-type {\n",
       "        vertical-align: middle;\n",
       "    }\n",
       "\n",
       "    .dataframe tbody tr th {\n",
       "        vertical-align: top;\n",
       "    }\n",
       "\n",
       "    .dataframe thead th {\n",
       "        text-align: right;\n",
       "    }\n",
       "</style>\n",
       "<table border=\"1\" class=\"dataframe\">\n",
       "  <thead>\n",
       "    <tr style=\"text-align: right;\">\n",
       "      <th></th>\n",
       "      <th>x0_Yes</th>\n",
       "      <th>x1_Credit card (automatic)</th>\n",
       "      <th>x1_Electronic check</th>\n",
       "      <th>x1_Mailed check</th>\n",
       "      <th>x2_One year</th>\n",
       "      <th>x2_Two year</th>\n",
       "      <th>x3_Yes</th>\n",
       "      <th>x4_Yes</th>\n",
       "      <th>x5_Fiber optic</th>\n",
       "      <th>x5_No</th>\n",
       "      <th>x6_Yes</th>\n",
       "      <th>x7_Yes</th>\n",
       "      <th>x8_Yes</th>\n",
       "      <th>x9_Yes</th>\n",
       "      <th>x10_Yes</th>\n",
       "      <th>x11_Yes</th>\n",
       "      <th>x12_Yes</th>\n",
       "      <th>monthly_charges</th>\n",
       "      <th>total_charges</th>\n",
       "      <th>use_days</th>\n",
       "    </tr>\n",
       "  </thead>\n",
       "  <tbody>\n",
       "    <tr>\n",
       "      <th>0</th>\n",
       "      <td>1.0</td>\n",
       "      <td>1.0</td>\n",
       "      <td>0.0</td>\n",
       "      <td>0.0</td>\n",
       "      <td>0.0</td>\n",
       "      <td>0.0</td>\n",
       "      <td>0.0</td>\n",
       "      <td>1.0</td>\n",
       "      <td>1.0</td>\n",
       "      <td>0.0</td>\n",
       "      <td>0.0</td>\n",
       "      <td>1.0</td>\n",
       "      <td>1.0</td>\n",
       "      <td>0.0</td>\n",
       "      <td>1.0</td>\n",
       "      <td>1.0</td>\n",
       "      <td>1.0</td>\n",
       "      <td>1.248421</td>\n",
       "      <td>-0.415769</td>\n",
       "      <td>-0.778485</td>\n",
       "    </tr>\n",
       "    <tr>\n",
       "      <th>1</th>\n",
       "      <td>0.0</td>\n",
       "      <td>0.0</td>\n",
       "      <td>0.0</td>\n",
       "      <td>1.0</td>\n",
       "      <td>1.0</td>\n",
       "      <td>0.0</td>\n",
       "      <td>0.0</td>\n",
       "      <td>1.0</td>\n",
       "      <td>0.0</td>\n",
       "      <td>1.0</td>\n",
       "      <td>0.0</td>\n",
       "      <td>0.0</td>\n",
       "      <td>0.0</td>\n",
       "      <td>0.0</td>\n",
       "      <td>0.0</td>\n",
       "      <td>0.0</td>\n",
       "      <td>0.0</td>\n",
       "      <td>-1.488696</td>\n",
       "      <td>-0.820711</td>\n",
       "      <td>-0.462667</td>\n",
       "    </tr>\n",
       "    <tr>\n",
       "      <th>2</th>\n",
       "      <td>1.0</td>\n",
       "      <td>1.0</td>\n",
       "      <td>0.0</td>\n",
       "      <td>0.0</td>\n",
       "      <td>0.0</td>\n",
       "      <td>1.0</td>\n",
       "      <td>0.0</td>\n",
       "      <td>0.0</td>\n",
       "      <td>0.0</td>\n",
       "      <td>1.0</td>\n",
       "      <td>0.0</td>\n",
       "      <td>0.0</td>\n",
       "      <td>0.0</td>\n",
       "      <td>0.0</td>\n",
       "      <td>0.0</td>\n",
       "      <td>0.0</td>\n",
       "      <td>0.0</td>\n",
       "      <td>-1.530268</td>\n",
       "      <td>-0.652963</td>\n",
       "      <td>0.293828</td>\n",
       "    </tr>\n",
       "    <tr>\n",
       "      <th>3</th>\n",
       "      <td>1.0</td>\n",
       "      <td>0.0</td>\n",
       "      <td>0.0</td>\n",
       "      <td>0.0</td>\n",
       "      <td>0.0</td>\n",
       "      <td>1.0</td>\n",
       "      <td>0.0</td>\n",
       "      <td>1.0</td>\n",
       "      <td>1.0</td>\n",
       "      <td>0.0</td>\n",
       "      <td>1.0</td>\n",
       "      <td>1.0</td>\n",
       "      <td>1.0</td>\n",
       "      <td>1.0</td>\n",
       "      <td>1.0</td>\n",
       "      <td>1.0</td>\n",
       "      <td>1.0</td>\n",
       "      <td>1.644189</td>\n",
       "      <td>2.860394</td>\n",
       "      <td>1.862636</td>\n",
       "    </tr>\n",
       "    <tr>\n",
       "      <th>4</th>\n",
       "      <td>0.0</td>\n",
       "      <td>0.0</td>\n",
       "      <td>0.0</td>\n",
       "      <td>1.0</td>\n",
       "      <td>0.0</td>\n",
       "      <td>0.0</td>\n",
       "      <td>0.0</td>\n",
       "      <td>0.0</td>\n",
       "      <td>1.0</td>\n",
       "      <td>0.0</td>\n",
       "      <td>0.0</td>\n",
       "      <td>0.0</td>\n",
       "      <td>0.0</td>\n",
       "      <td>0.0</td>\n",
       "      <td>0.0</td>\n",
       "      <td>0.0</td>\n",
       "      <td>0.0</td>\n",
       "      <td>0.217430</td>\n",
       "      <td>-0.898408</td>\n",
       "      <td>-1.179501</td>\n",
       "    </tr>\n",
       "  </tbody>\n",
       "</table>\n",
       "</div>"
      ],
      "text/plain": [
       "   x0_Yes  x1_Credit card (automatic)  x1_Electronic check  x1_Mailed check  \\\n",
       "0     1.0                         1.0                  0.0              0.0   \n",
       "1     0.0                         0.0                  0.0              1.0   \n",
       "2     1.0                         1.0                  0.0              0.0   \n",
       "3     1.0                         0.0                  0.0              0.0   \n",
       "4     0.0                         0.0                  0.0              1.0   \n",
       "\n",
       "   x2_One year  x2_Two year  x3_Yes  x4_Yes  x5_Fiber optic  x5_No  x6_Yes  \\\n",
       "0          0.0          0.0     0.0     1.0             1.0    0.0     0.0   \n",
       "1          1.0          0.0     0.0     1.0             0.0    1.0     0.0   \n",
       "2          0.0          1.0     0.0     0.0             0.0    1.0     0.0   \n",
       "3          0.0          1.0     0.0     1.0             1.0    0.0     1.0   \n",
       "4          0.0          0.0     0.0     0.0             1.0    0.0     0.0   \n",
       "\n",
       "   x7_Yes  x8_Yes  x9_Yes  x10_Yes  x11_Yes  x12_Yes  monthly_charges  \\\n",
       "0     1.0     1.0     0.0      1.0      1.0      1.0         1.248421   \n",
       "1     0.0     0.0     0.0      0.0      0.0      0.0        -1.488696   \n",
       "2     0.0     0.0     0.0      0.0      0.0      0.0        -1.530268   \n",
       "3     1.0     1.0     1.0      1.0      1.0      1.0         1.644189   \n",
       "4     0.0     0.0     0.0      0.0      0.0      0.0         0.217430   \n",
       "\n",
       "   total_charges  use_days  \n",
       "0      -0.415769 -0.778485  \n",
       "1      -0.820711 -0.462667  \n",
       "2      -0.652963  0.293828  \n",
       "3       2.860394  1.862636  \n",
       "4      -0.898408 -1.179501  "
      ]
     },
     "execution_count": 58,
     "metadata": {},
     "output_type": "execute_result"
    }
   ],
   "source": [
    "features_train_ohe.head()"
   ]
  },
  {
   "cell_type": "code",
   "execution_count": 59,
   "id": "a0cf6f67",
   "metadata": {},
   "outputs": [],
   "source": [
    "sparse_matrix_test = encoder_ohe.transform(features_test[ohe_features])\n",
    "X_test_scaled = scaler.transform(features_test[num_features])\n",
    "features_test_arr = np.column_stack((sparse_matrix_test.toarray(), X_test_scaled))\n",
    "features_test_ohe = pd.DataFrame(features_test_arr, columns = ohe_columns + num_features)"
   ]
  },
  {
   "cell_type": "code",
   "execution_count": 60,
   "id": "4c6f4ad9",
   "metadata": {},
   "outputs": [
    {
     "data": {
      "text/html": [
       "<div>\n",
       "<style scoped>\n",
       "    .dataframe tbody tr th:only-of-type {\n",
       "        vertical-align: middle;\n",
       "    }\n",
       "\n",
       "    .dataframe tbody tr th {\n",
       "        vertical-align: top;\n",
       "    }\n",
       "\n",
       "    .dataframe thead th {\n",
       "        text-align: right;\n",
       "    }\n",
       "</style>\n",
       "<table border=\"1\" class=\"dataframe\">\n",
       "  <thead>\n",
       "    <tr style=\"text-align: right;\">\n",
       "      <th></th>\n",
       "      <th>x0_Yes</th>\n",
       "      <th>x1_Credit card (automatic)</th>\n",
       "      <th>x1_Electronic check</th>\n",
       "      <th>x1_Mailed check</th>\n",
       "      <th>x2_One year</th>\n",
       "      <th>x2_Two year</th>\n",
       "      <th>x3_Yes</th>\n",
       "      <th>x4_Yes</th>\n",
       "      <th>x5_Fiber optic</th>\n",
       "      <th>x5_No</th>\n",
       "      <th>x6_Yes</th>\n",
       "      <th>x7_Yes</th>\n",
       "      <th>x8_Yes</th>\n",
       "      <th>x9_Yes</th>\n",
       "      <th>x10_Yes</th>\n",
       "      <th>x11_Yes</th>\n",
       "      <th>x12_Yes</th>\n",
       "      <th>monthly_charges</th>\n",
       "      <th>total_charges</th>\n",
       "      <th>use_days</th>\n",
       "    </tr>\n",
       "  </thead>\n",
       "  <tbody>\n",
       "    <tr>\n",
       "      <th>0</th>\n",
       "      <td>0.0</td>\n",
       "      <td>1.0</td>\n",
       "      <td>0.0</td>\n",
       "      <td>0.0</td>\n",
       "      <td>0.0</td>\n",
       "      <td>1.0</td>\n",
       "      <td>0.0</td>\n",
       "      <td>1.0</td>\n",
       "      <td>1.0</td>\n",
       "      <td>0.0</td>\n",
       "      <td>1.0</td>\n",
       "      <td>1.0</td>\n",
       "      <td>1.0</td>\n",
       "      <td>1.0</td>\n",
       "      <td>1.0</td>\n",
       "      <td>1.0</td>\n",
       "      <td>1.0</td>\n",
       "      <td>1.619246</td>\n",
       "      <td>0.188209</td>\n",
       "      <td>-0.330464</td>\n",
       "    </tr>\n",
       "    <tr>\n",
       "      <th>1</th>\n",
       "      <td>0.0</td>\n",
       "      <td>0.0</td>\n",
       "      <td>0.0</td>\n",
       "      <td>0.0</td>\n",
       "      <td>0.0</td>\n",
       "      <td>1.0</td>\n",
       "      <td>0.0</td>\n",
       "      <td>1.0</td>\n",
       "      <td>0.0</td>\n",
       "      <td>1.0</td>\n",
       "      <td>0.0</td>\n",
       "      <td>0.0</td>\n",
       "      <td>0.0</td>\n",
       "      <td>0.0</td>\n",
       "      <td>0.0</td>\n",
       "      <td>0.0</td>\n",
       "      <td>0.0</td>\n",
       "      <td>-1.501999</td>\n",
       "      <td>-0.267300</td>\n",
       "      <td>1.903766</td>\n",
       "    </tr>\n",
       "    <tr>\n",
       "      <th>2</th>\n",
       "      <td>1.0</td>\n",
       "      <td>1.0</td>\n",
       "      <td>0.0</td>\n",
       "      <td>0.0</td>\n",
       "      <td>0.0</td>\n",
       "      <td>0.0</td>\n",
       "      <td>1.0</td>\n",
       "      <td>1.0</td>\n",
       "      <td>0.0</td>\n",
       "      <td>0.0</td>\n",
       "      <td>1.0</td>\n",
       "      <td>0.0</td>\n",
       "      <td>0.0</td>\n",
       "      <td>1.0</td>\n",
       "      <td>1.0</td>\n",
       "      <td>0.0</td>\n",
       "      <td>1.0</td>\n",
       "      <td>0.164217</td>\n",
       "      <td>-0.138272</td>\n",
       "      <td>-0.196792</td>\n",
       "    </tr>\n",
       "    <tr>\n",
       "      <th>3</th>\n",
       "      <td>1.0</td>\n",
       "      <td>0.0</td>\n",
       "      <td>0.0</td>\n",
       "      <td>1.0</td>\n",
       "      <td>0.0</td>\n",
       "      <td>0.0</td>\n",
       "      <td>0.0</td>\n",
       "      <td>0.0</td>\n",
       "      <td>1.0</td>\n",
       "      <td>0.0</td>\n",
       "      <td>0.0</td>\n",
       "      <td>1.0</td>\n",
       "      <td>0.0</td>\n",
       "      <td>0.0</td>\n",
       "      <td>0.0</td>\n",
       "      <td>0.0</td>\n",
       "      <td>1.0</td>\n",
       "      <td>0.523401</td>\n",
       "      <td>-0.836222</td>\n",
       "      <td>-1.133964</td>\n",
       "    </tr>\n",
       "    <tr>\n",
       "      <th>4</th>\n",
       "      <td>1.0</td>\n",
       "      <td>0.0</td>\n",
       "      <td>1.0</td>\n",
       "      <td>0.0</td>\n",
       "      <td>0.0</td>\n",
       "      <td>0.0</td>\n",
       "      <td>0.0</td>\n",
       "      <td>0.0</td>\n",
       "      <td>1.0</td>\n",
       "      <td>0.0</td>\n",
       "      <td>0.0</td>\n",
       "      <td>0.0</td>\n",
       "      <td>0.0</td>\n",
       "      <td>0.0</td>\n",
       "      <td>0.0</td>\n",
       "      <td>0.0</td>\n",
       "      <td>0.0</td>\n",
       "      <td>0.187498</td>\n",
       "      <td>-0.754046</td>\n",
       "      <td>-0.998823</td>\n",
       "    </tr>\n",
       "  </tbody>\n",
       "</table>\n",
       "</div>"
      ],
      "text/plain": [
       "   x0_Yes  x1_Credit card (automatic)  x1_Electronic check  x1_Mailed check  \\\n",
       "0     0.0                         1.0                  0.0              0.0   \n",
       "1     0.0                         0.0                  0.0              0.0   \n",
       "2     1.0                         1.0                  0.0              0.0   \n",
       "3     1.0                         0.0                  0.0              1.0   \n",
       "4     1.0                         0.0                  1.0              0.0   \n",
       "\n",
       "   x2_One year  x2_Two year  x3_Yes  x4_Yes  x5_Fiber optic  x5_No  x6_Yes  \\\n",
       "0          0.0          1.0     0.0     1.0             1.0    0.0     1.0   \n",
       "1          0.0          1.0     0.0     1.0             0.0    1.0     0.0   \n",
       "2          0.0          0.0     1.0     1.0             0.0    0.0     1.0   \n",
       "3          0.0          0.0     0.0     0.0             1.0    0.0     0.0   \n",
       "4          0.0          0.0     0.0     0.0             1.0    0.0     0.0   \n",
       "\n",
       "   x7_Yes  x8_Yes  x9_Yes  x10_Yes  x11_Yes  x12_Yes  monthly_charges  \\\n",
       "0     1.0     1.0     1.0      1.0      1.0      1.0         1.619246   \n",
       "1     0.0     0.0     0.0      0.0      0.0      0.0        -1.501999   \n",
       "2     0.0     0.0     1.0      1.0      0.0      1.0         0.164217   \n",
       "3     1.0     0.0     0.0      0.0      0.0      1.0         0.523401   \n",
       "4     0.0     0.0     0.0      0.0      0.0      0.0         0.187498   \n",
       "\n",
       "   total_charges  use_days  \n",
       "0       0.188209 -0.330464  \n",
       "1      -0.267300  1.903766  \n",
       "2      -0.138272 -0.196792  \n",
       "3      -0.836222 -1.133964  \n",
       "4      -0.754046 -0.998823  "
      ]
     },
     "execution_count": 60,
     "metadata": {},
     "output_type": "execute_result"
    }
   ],
   "source": [
    "features_test_ohe.head()"
   ]
  },
  {
   "cell_type": "code",
   "execution_count": 61,
   "id": "42b756d1",
   "metadata": {},
   "outputs": [],
   "source": [
    "#кодировка OE:\n",
    "encoder = OrdinalEncoder(handle_unknown = 'use_encoded_value', unknown_value = -1) \n",
    "\n",
    "features_train_oe = features_train[ohe_features]\n",
    "features_train_oe = pd.DataFrame(encoder.fit_transform(features_train),\n",
    "                                 columns=features_train.columns,\n",
    "                                 index=features_train.index)\n",
    "\n",
    "features_test_oe = features_test[ohe_features]\n",
    "features_test_oe = pd.DataFrame(encoder.transform(features_test),\n",
    "                                columns=features_test.columns,\n",
    "                                index=features_test.index)\n",
    "\n",
    "target_train_oe = target_train.copy()\n",
    "\n",
    "target_test_oe = target_test.copy()"
   ]
  },
  {
   "cell_type": "code",
   "execution_count": 62,
   "id": "1af94e54",
   "metadata": {},
   "outputs": [
    {
     "name": "stdout",
     "output_type": "stream",
     "text": [
      "(5282, 20)\n",
      "(1761, 20)\n",
      "(5282,)\n",
      "(1761,)\n",
      "\n",
      "(5282, 16)\n",
      "(1761, 16)\n",
      "(5282,)\n",
      "(1761,)\n",
      "\n",
      "(5282, 16)\n",
      "(1761, 16)\n",
      "(5282,)\n",
      "(1761,)\n"
     ]
    }
   ],
   "source": [
    "for i in [features_train_ohe, features_test_ohe, target_train, target_test]:\n",
    "    print(i.shape)   \n",
    "    \n",
    "print()\n",
    "\n",
    "for i in [features_train_oe, features_test_oe, target_train_oe, target_test_oe]:\n",
    "    print(i.shape)\n",
    "\n",
    "print()\n",
    "    \n",
    "for i in [features_train, features_test, target_train, target_test]:\n",
    "    print(i.shape)"
   ]
  },
  {
   "cell_type": "markdown",
   "id": "ad44c1a9",
   "metadata": {},
   "source": [
    "## Обучение моделей"
   ]
  },
  {
   "cell_type": "code",
   "execution_count": 63,
   "id": "deae924e",
   "metadata": {},
   "outputs": [],
   "source": [
    "#функция для построения графика roc-кривой\n",
    "def plot_roc_curve(target_test, predictions):\n",
    "    print('ROC-AUC score', roc_auc_score(target_test, predictions))\n",
    "    \n",
    "    fpr, tpr, thresholds = roc_curve(target_test, predictions)\n",
    "\n",
    "    plt.figure(figsize=(11, 5))\n",
    "    \n",
    "    plt.plot(fpr, tpr, color=COLORS[0])\n",
    "    \n",
    "    plt.plot([0, 1], [0, 1], linestyle='--', color=COLORS[1])\n",
    "    \n",
    "    plt.xlim([0.0, 1.0])\n",
    "    plt.ylim([0.0, 1.0])\n",
    "    \n",
    "    plt.grid(True)\n",
    "    \n",
    "    plt.xlabel('False Positive Rate')\n",
    "    plt.ylabel('True Positive Rate')\n",
    "    \n",
    "    plt.title('ROC-кривая')\n",
    "    \n",
    "    plt.show()"
   ]
  },
  {
   "cell_type": "markdown",
   "id": "4cf61bfc",
   "metadata": {},
   "source": [
    "### Логистическая регрессия"
   ]
  },
  {
   "cell_type": "code",
   "execution_count": 64,
   "id": "ad584773",
   "metadata": {},
   "outputs": [
    {
     "name": "stdout",
     "output_type": "stream",
     "text": [
      "0.7696829355055007\n",
      "{'C': 1}\n"
     ]
    }
   ],
   "source": [
    "param_grid = {'C': [0.001, 0.01, 0.1, 1, 10, 100, 1000]}\n",
    "\n",
    "model = LogisticRegression(solver='lbfgs', n_jobs=-1, random_state=RANDOM_STATE)\n",
    "\n",
    "search = GridSearchCV(model, param_grid, cv=5, scoring='roc_auc')\n",
    "search.fit(features_train_ohe, target_train)\n",
    "\n",
    "print('ROC-AUC:', search.best_score_)\n",
    "print('Лучшие параметры:', search.best_params_)\n",
    "\n",
    "predicted_probalities = search.best_estimator_.predict_proba(features_train_ohe)[:, 1]"
   ]
  },
  {
   "cell_type": "markdown",
   "id": "7f2c83da",
   "metadata": {},
   "source": [
    "### Random Forest"
   ]
  },
  {
   "cell_type": "code",
   "execution_count": 65,
   "id": "6f60e9ca",
   "metadata": {},
   "outputs": [
    {
     "name": "stdout",
     "output_type": "stream",
     "text": [
      "0.8277815682669989\n",
      "{'max_depth': 10, 'min_samples_leaf': 2, 'min_samples_split': 2, 'n_estimators': 100}\n"
     ]
    }
   ],
   "source": [
    "param_grid = {\n",
    "    'max_depth': [5, 10, 20],\n",
    "    'min_samples_split': [2, 10],\n",
    "    'min_samples_leaf': [2, 10],\n",
    "    'n_estimators': [10, 50, 100], \n",
    "}\n",
    "\n",
    "model = RandomForestClassifier(random_state=RANDOM_STATE)\n",
    "\n",
    "search = GridSearchCV(model, param_grid, cv=5, scoring='roc_auc')\n",
    "search.fit(features_train_oe, target_train_oe)\n",
    "\n",
    "print('ROC-AUC:', search.best_score_)\n",
    "print('Лучшие параметры:', search.best_params_)\n",
    "\n",
    "predicted_probalities = search.best_estimator_.predict_proba(features_train_oe)[:, 1]"
   ]
  },
  {
   "cell_type": "markdown",
   "id": "a0403969",
   "metadata": {},
   "source": [
    "### CatBoostClassifier"
   ]
  },
  {
   "cell_type": "code",
   "execution_count": 66,
   "id": "5d3dbbeb",
   "metadata": {},
   "outputs": [
    {
     "name": "stdout",
     "output_type": "stream",
     "text": [
      "0.88893325867244\n",
      "{'iterations': 200, 'l2_leaf_reg': 15, 'learning_rate': 0.7}\n"
     ]
    }
   ],
   "source": [
    "param_grid_cb = {\n",
    "    'learning_rate': [0.1, 0.7],\n",
    "    'iterations': [50, 200],\n",
    "    'l2_leaf_reg': [3, 15]\n",
    "}\n",
    "\n",
    "model_cb = CatBoostClassifier(random_state=RANDOM_STATE, verbose=0)\n",
    "\n",
    "search_cb = GridSearchCV(model_cb, param_grid_cb, cv=5, scoring='roc_auc')\n",
    "search_cb.fit(features_train_oe, target_train_oe)\n",
    "\n",
    "print('ROC-AUC:', search_cb.best_score_)\n",
    "print('Лучшие параметры:', search_cb.best_params_)\n",
    "\n",
    "predicted_probalities = search_cb.best_estimator_.predict_proba(features_train_oe)[:, 1]"
   ]
  },
  {
   "cell_type": "markdown",
   "id": "de7d7049",
   "metadata": {},
   "source": [
    "Самый высокий показатель на обучающей выборке: `CatBoostClassifier` с гиперпараметрами `{'iterations': 200, 'l2_leaf_reg': 15, 'learning_rate': 0.7}` и ROC-AUC 0.87. Проверим работу модели на тестовых данных."
   ]
  },
  {
   "cell_type": "code",
   "execution_count": 67,
   "id": "2979433f",
   "metadata": {},
   "outputs": [
    {
     "name": "stdout",
     "output_type": "stream",
     "text": [
      "ROC-AUC score 0.8697570598006644\n"
     ]
    },
    {
     "data": {
      "image/png": "[encoded data removed]",
      "text/plain": [
       "<Figure size 792x360 with 1 Axes>"
      ]
     },
     "metadata": {
      "needs_background": "light"
     },
     "output_type": "display_data"
    }
   ],
   "source": [
    "predicted_probalities = search_cb.best_estimator_.predict_proba(features_test_oe)[:, 1]\n",
    "plot_roc_curve(target_test, predicted_probalities)"
   ]
  },
  {
   "cell_type": "markdown",
   "id": "d3ec487b",
   "metadata": {},
   "source": [
    "Таким образом на тестовой выборке `CatBoostClassifier` с параметрами `{'iterations': 200, 'l2_leaf_reg': 15, 'learning_rate': 0.7}` показала ROC-AUC 0.869."
   ]
  },
  {
   "cell_type": "markdown",
   "id": "e7e3fa1e",
   "metadata": {},
   "source": [
    "## Анализ лучшей модели"
   ]
  },
  {
   "cell_type": "code",
   "execution_count": 68,
   "id": "8659b8d6",
   "metadata": {},
   "outputs": [
    {
     "name": "stdout",
     "output_type": "stream",
     "text": [
      "Accuracy: 0.9017603634298694\n"
     ]
    }
   ],
   "source": [
    "predict = search_cb.predict(features_test_oe)\n",
    "print('Accuracy:', accuracy_score(target_test, predict)) "
   ]
  },
  {
   "cell_type": "markdown",
   "id": "f80967f3",
   "metadata": {},
   "source": [
    "Показатель говорит нам о том, что модель делает правильный выбор в 87,9 процентах случаев."
   ]
  },
  {
   "cell_type": "code",
   "execution_count": 69,
   "id": "0a618286",
   "metadata": {},
   "outputs": [
    {
     "data": {
      "image/png": "[encoded data removed]",
      "text/plain": [
       "<Figure size 432x288 with 2 Axes>"
      ]
     },
     "metadata": {
      "needs_background": "light"
     },
     "output_type": "display_data"
    }
   ],
   "source": [
    "cm = confusion_matrix(target_test_oe, predict)\n",
    "disp = ConfusionMatrixDisplay(confusion_matrix=cm, display_labels=[\"Negative\", \"Positive\"])\n",
    "cmap = 'PuBu'\n",
    "disp.plot(cmap=cmap)\n",
    "plt.show()\n",
    "plt.show()"
   ]
  },
  {
   "cell_type": "markdown",
   "id": "df3ff223",
   "metadata": {},
   "source": [
    "По матрице мы можем оценить как хорошо модель определяет целевую переменную. Модель хорошо предсказывает случаи, когда договор не рассторгнут (верхняя горизонталь, True Negative и True Positive). При этом намного хуже предсказания того, что договор закроют (False Posiive и False Negative). В большинстве случаев модель лучше определить когда договор не рассторгнут."
   ]
  },
  {
   "cell_type": "code",
   "execution_count": 70,
   "id": "77eef4f3",
   "metadata": {},
   "outputs": [
    {
     "data": {
      "text/html": [
       "<div>\n",
       "<style scoped>\n",
       "    .dataframe tbody tr th:only-of-type {\n",
       "        vertical-align: middle;\n",
       "    }\n",
       "\n",
       "    .dataframe tbody tr th {\n",
       "        vertical-align: top;\n",
       "    }\n",
       "\n",
       "    .dataframe thead th {\n",
       "        text-align: right;\n",
       "    }\n",
       "</style>\n",
       "<table border=\"1\" class=\"dataframe\">\n",
       "  <thead>\n",
       "    <tr style=\"text-align: right;\">\n",
       "      <th></th>\n",
       "      <th>importances</th>\n",
       "    </tr>\n",
       "  </thead>\n",
       "  <tbody>\n",
       "    <tr>\n",
       "      <th>use_days</th>\n",
       "      <td>0.241081</td>\n",
       "    </tr>\n",
       "    <tr>\n",
       "      <th>total_charges</th>\n",
       "      <td>0.187162</td>\n",
       "    </tr>\n",
       "    <tr>\n",
       "      <th>monthly_charges</th>\n",
       "      <td>0.171228</td>\n",
       "    </tr>\n",
       "    <tr>\n",
       "      <th>type</th>\n",
       "      <td>0.094562</td>\n",
       "    </tr>\n",
       "    <tr>\n",
       "      <th>payment_method</th>\n",
       "      <td>0.052081</td>\n",
       "    </tr>\n",
       "    <tr>\n",
       "      <th>multiple_lines</th>\n",
       "      <td>0.047909</td>\n",
       "    </tr>\n",
       "    <tr>\n",
       "      <th>partner</th>\n",
       "      <td>0.037065</td>\n",
       "    </tr>\n",
       "    <tr>\n",
       "      <th>online_backup</th>\n",
       "      <td>0.029549</td>\n",
       "    </tr>\n",
       "    <tr>\n",
       "      <th>device_protection</th>\n",
       "      <td>0.021638</td>\n",
       "    </tr>\n",
       "    <tr>\n",
       "      <th>streaming_movies</th>\n",
       "      <td>0.020027</td>\n",
       "    </tr>\n",
       "    <tr>\n",
       "      <th>online_security</th>\n",
       "      <td>0.019100</td>\n",
       "    </tr>\n",
       "    <tr>\n",
       "      <th>paperless_billing</th>\n",
       "      <td>0.017890</td>\n",
       "    </tr>\n",
       "    <tr>\n",
       "      <th>streaming_t_v</th>\n",
       "      <td>0.016942</td>\n",
       "    </tr>\n",
       "    <tr>\n",
       "      <th>tech_support</th>\n",
       "      <td>0.015620</td>\n",
       "    </tr>\n",
       "    <tr>\n",
       "      <th>senior_citizen</th>\n",
       "      <td>0.014895</td>\n",
       "    </tr>\n",
       "    <tr>\n",
       "      <th>internet_service</th>\n",
       "      <td>0.013252</td>\n",
       "    </tr>\n",
       "  </tbody>\n",
       "</table>\n",
       "</div>"
      ],
      "text/plain": [
       "                   importances\n",
       "use_days              0.241081\n",
       "total_charges         0.187162\n",
       "monthly_charges       0.171228\n",
       "type                  0.094562\n",
       "payment_method        0.052081\n",
       "multiple_lines        0.047909\n",
       "partner               0.037065\n",
       "online_backup         0.029549\n",
       "device_protection     0.021638\n",
       "streaming_movies      0.020027\n",
       "online_security       0.019100\n",
       "paperless_billing     0.017890\n",
       "streaming_t_v         0.016942\n",
       "tech_support          0.015620\n",
       "senior_citizen        0.014895\n",
       "internet_service      0.013252"
      ]
     },
     "execution_count": 70,
     "metadata": {},
     "output_type": "execute_result"
    }
   ],
   "source": [
    "importances_data = pd.DataFrame(search.best_estimator_.feature_importances_, index = features_test.columns, columns=['importances'])\n",
    "importances_data = importances_data.sort_values(by='importances', ascending=False)\n",
    "importances_data"
   ]
  },
  {
   "cell_type": "code",
   "execution_count": 71,
   "id": "ae5328b9",
   "metadata": {},
   "outputs": [
    {
     "data": {
      "image/png": "[encoded data removed]",
      "text/plain": [
       "<Figure size 720x360 with 1 Axes>"
      ]
     },
     "metadata": {
      "needs_background": "light"
     },
     "output_type": "display_data"
    }
   ],
   "source": [
    "importances_data.plot(kind='bar', figsize=(10, 5), title='Важность признаков', color='pink')\n",
    "plt.show()"
   ]
  },
  {
   "cell_type": "markdown",
   "id": "0e1806ec",
   "metadata": {},
   "source": [
    "Большей значимостью из всех обладает показатель длительности договора в днях. Немного меньше влияют ежемесячные и общие траты."
   ]
  },
  {
   "cell_type": "markdown",
   "id": "59678c45",
   "metadata": {},
   "source": [
    "## Итоговые выводы"
   ]
  },
  {
   "cell_type": "markdown",
   "id": "aecc467a",
   "metadata": {},
   "source": [
    "- В рамках проекта мы загрузили данные. Проверили их на наличие дубликатов и пропусков.  \n",
    "- Проанализировали все четыре датасета и соединили их в один общий датасет. Добавили отдельную целевую переменную и обработали имеющиеся данные, поменяли тип данных.   \n",
    "- Провели исследовательский анализ данных, где посмотрели распределение категориальных и количественных переменных как просто самих переменных, так и их связь с целевой переменной.   \n",
    "- Категоризировали переменные и разделили их на выборки.   \n",
    "- Обучили три модели: логистическая регрессия, случайный лес и catboost. На обучающей выборке логистическая регрессия показала 0.769, случайный лес - 0.827, а catboost - 0.888. В итоге лучшей моделью оказалась catboost с гиперпараметрами {'iterations': 200, 'l2_leaf_reg': 15, 'learning_rate': 0.7} и ключевым показателем на тестовой выборке ROC-AUC 0.869.  \n",
    "- Модель в большем количестве случаев правильно определяет случаи, когда договор не будет рассторнуг.   \n",
    "- Из всех переменных больше всего определяет целевую переменную количество дней, которые действует договор. Также влияют ежемесячные и общие траты. Остальные показатели в меньшей степени влияют на продолжение действия договора (дополнительные услуги, статус пенсионера, наличие партнера и другие).  \n",
    "  \n",
    "Все пункты плана были выполнены. Из-за невнимательности потерялась ключевая метрика, но главное вовремя это заметить! В целом проект состоял из загрузки данных и библиотек, исследования датафреймов, их обьединение. Статистического анализа данных, кодирования и масштабирования признаков. С помощью проделанного исследования а также анализа мультиколлинеарности мы вывели список признаков, которые использовали в обучении:  \n",
    " - 1 целевой: `contract_now`\n",
    " - 3 количественных: `monthly_charges`, `total_charges`, `use_days`\n",
    " - 13 категориальных: `type`, `paperless_billing`, `payment_method`, `senior_citizen`, `partner`, `internet_service`, `online_security`, `online_backup`, `device_protection`, `tech_support`, `streaming_t_v`, `streaming_movies`, `multiple_lines`\n",
    "   \n",
    "С помощью этих признаков обучили три модели и выбрали лучшую: catboost с гиперпараметрами {'iterations': 200, 'l2_leaf_reg': 15, 'learning_rate': 0.7} и ключевым показателем на тестовой выборке ROC-AUC 0.869. Самым важным фактором оказался показатель длительности договора в днях."
   ]
  }
 ],
 "metadata": {
  "ExecuteTimeLog": [
   {
    "duration": 378,
    "start_time": "2024-04-09T17:28:57.600Z"
   },
   {
    "duration": 91,
    "start_time": "2024-04-09T17:33:40.807Z"
   },
   {
    "duration": 351,
    "start_time": "2024-04-09T17:34:00.467Z"
   },
   {
    "duration": 3,
    "start_time": "2024-04-09T17:34:04.361Z"
   },
   {
    "duration": 383,
    "start_time": "2024-04-15T10:46:38.382Z"
   },
   {
    "duration": 3,
    "start_time": "2024-04-15T10:46:38.767Z"
   },
   {
    "duration": 339,
    "start_time": "2024-04-15T10:46:39.107Z"
   },
   {
    "duration": 3719,
    "start_time": "2024-04-17T11:57:58.633Z"
   },
   {
    "duration": 1667,
    "start_time": "2024-04-17T11:58:02.355Z"
   },
   {
    "duration": 0,
    "start_time": "2024-04-17T11:58:04.027Z"
   },
   {
    "duration": 0,
    "start_time": "2024-04-17T11:58:04.028Z"
   },
   {
    "duration": 0,
    "start_time": "2024-04-17T11:58:04.030Z"
   },
   {
    "duration": 0,
    "start_time": "2024-04-17T11:58:04.031Z"
   },
   {
    "duration": 0,
    "start_time": "2024-04-17T11:58:04.032Z"
   },
   {
    "duration": 0,
    "start_time": "2024-04-17T11:58:04.033Z"
   },
   {
    "duration": 0,
    "start_time": "2024-04-17T11:58:04.034Z"
   },
   {
    "duration": 0,
    "start_time": "2024-04-17T11:58:04.045Z"
   },
   {
    "duration": 0,
    "start_time": "2024-04-17T11:58:04.049Z"
   },
   {
    "duration": 0,
    "start_time": "2024-04-17T11:58:04.050Z"
   },
   {
    "duration": 0,
    "start_time": "2024-04-17T11:58:04.050Z"
   },
   {
    "duration": 0,
    "start_time": "2024-04-17T11:58:04.051Z"
   },
   {
    "duration": 0,
    "start_time": "2024-04-17T11:58:04.053Z"
   },
   {
    "duration": 0,
    "start_time": "2024-04-17T11:58:04.055Z"
   },
   {
    "duration": 0,
    "start_time": "2024-04-17T11:58:04.056Z"
   },
   {
    "duration": 0,
    "start_time": "2024-04-17T11:58:04.057Z"
   },
   {
    "duration": 0,
    "start_time": "2024-04-17T11:58:04.059Z"
   },
   {
    "duration": 0,
    "start_time": "2024-04-17T11:58:04.061Z"
   },
   {
    "duration": 0,
    "start_time": "2024-04-17T11:58:04.062Z"
   },
   {
    "duration": 0,
    "start_time": "2024-04-17T11:58:04.064Z"
   },
   {
    "duration": 0,
    "start_time": "2024-04-17T11:58:04.066Z"
   },
   {
    "duration": 0,
    "start_time": "2024-04-17T11:58:04.067Z"
   },
   {
    "duration": 0,
    "start_time": "2024-04-17T11:58:04.069Z"
   },
   {
    "duration": 0,
    "start_time": "2024-04-17T11:58:04.071Z"
   },
   {
    "duration": 0,
    "start_time": "2024-04-17T11:58:04.072Z"
   },
   {
    "duration": 0,
    "start_time": "2024-04-17T11:58:04.073Z"
   },
   {
    "duration": 0,
    "start_time": "2024-04-17T11:58:04.074Z"
   },
   {
    "duration": 0,
    "start_time": "2024-04-17T11:58:04.075Z"
   },
   {
    "duration": 0,
    "start_time": "2024-04-17T11:58:04.076Z"
   },
   {
    "duration": 0,
    "start_time": "2024-04-17T11:58:04.077Z"
   },
   {
    "duration": 0,
    "start_time": "2024-04-17T11:58:04.078Z"
   },
   {
    "duration": 0,
    "start_time": "2024-04-17T11:58:04.079Z"
   },
   {
    "duration": 0,
    "start_time": "2024-04-17T11:58:04.080Z"
   },
   {
    "duration": 0,
    "start_time": "2024-04-17T11:58:04.081Z"
   },
   {
    "duration": 0,
    "start_time": "2024-04-17T11:58:04.082Z"
   },
   {
    "duration": 0,
    "start_time": "2024-04-17T11:58:04.083Z"
   },
   {
    "duration": 0,
    "start_time": "2024-04-17T11:58:04.084Z"
   },
   {
    "duration": 0,
    "start_time": "2024-04-17T11:58:04.085Z"
   },
   {
    "duration": 0,
    "start_time": "2024-04-17T11:58:04.086Z"
   },
   {
    "duration": 0,
    "start_time": "2024-04-17T11:58:04.146Z"
   },
   {
    "duration": 0,
    "start_time": "2024-04-17T11:58:04.148Z"
   },
   {
    "duration": 0,
    "start_time": "2024-04-17T11:58:04.150Z"
   },
   {
    "duration": 0,
    "start_time": "2024-04-17T11:58:04.151Z"
   },
   {
    "duration": 0,
    "start_time": "2024-04-17T11:58:04.153Z"
   },
   {
    "duration": 0,
    "start_time": "2024-04-17T11:58:04.155Z"
   },
   {
    "duration": 0,
    "start_time": "2024-04-17T11:58:04.156Z"
   },
   {
    "duration": 0,
    "start_time": "2024-04-17T11:58:04.157Z"
   },
   {
    "duration": 0,
    "start_time": "2024-04-17T11:58:04.162Z"
   },
   {
    "duration": 0,
    "start_time": "2024-04-17T11:58:04.165Z"
   },
   {
    "duration": 0,
    "start_time": "2024-04-17T11:58:04.166Z"
   },
   {
    "duration": 0,
    "start_time": "2024-04-17T11:58:04.168Z"
   },
   {
    "duration": 0,
    "start_time": "2024-04-17T11:58:04.169Z"
   },
   {
    "duration": 0,
    "start_time": "2024-04-17T11:58:04.170Z"
   },
   {
    "duration": 0,
    "start_time": "2024-04-17T11:58:04.171Z"
   },
   {
    "duration": 0,
    "start_time": "2024-04-17T11:58:04.173Z"
   },
   {
    "duration": 0,
    "start_time": "2024-04-17T11:58:04.174Z"
   },
   {
    "duration": 0,
    "start_time": "2024-04-17T11:58:04.175Z"
   },
   {
    "duration": 0,
    "start_time": "2024-04-17T11:58:04.176Z"
   },
   {
    "duration": 0,
    "start_time": "2024-04-17T11:58:04.177Z"
   },
   {
    "duration": 0,
    "start_time": "2024-04-17T11:58:04.178Z"
   },
   {
    "duration": 0,
    "start_time": "2024-04-17T11:58:04.179Z"
   },
   {
    "duration": 0,
    "start_time": "2024-04-17T11:58:04.180Z"
   },
   {
    "duration": 0,
    "start_time": "2024-04-17T11:58:04.181Z"
   },
   {
    "duration": 0,
    "start_time": "2024-04-17T11:58:04.182Z"
   },
   {
    "duration": 0,
    "start_time": "2024-04-17T11:58:04.183Z"
   },
   {
    "duration": 0,
    "start_time": "2024-04-17T11:58:04.183Z"
   },
   {
    "duration": 0,
    "start_time": "2024-04-17T11:58:04.185Z"
   },
   {
    "duration": 0,
    "start_time": "2024-04-17T11:58:04.245Z"
   },
   {
    "duration": 0,
    "start_time": "2024-04-17T11:58:04.246Z"
   },
   {
    "duration": 0,
    "start_time": "2024-04-17T11:58:04.248Z"
   },
   {
    "duration": 0,
    "start_time": "2024-04-17T11:58:04.249Z"
   },
   {
    "duration": 0,
    "start_time": "2024-04-17T11:58:04.252Z"
   },
   {
    "duration": 2516,
    "start_time": "2024-04-17T11:58:23.170Z"
   },
   {
    "duration": 1379,
    "start_time": "2024-04-17T11:58:25.688Z"
   },
   {
    "duration": 3,
    "start_time": "2024-04-17T11:58:27.069Z"
   },
   {
    "duration": 369,
    "start_time": "2024-04-17T11:58:27.075Z"
   },
   {
    "duration": 15,
    "start_time": "2024-04-17T11:58:27.447Z"
   },
   {
    "duration": 38,
    "start_time": "2024-04-17T11:58:27.467Z"
   },
   {
    "duration": 5,
    "start_time": "2024-04-17T11:58:27.507Z"
   },
   {
    "duration": 8,
    "start_time": "2024-04-17T11:58:27.514Z"
   },
   {
    "duration": 23,
    "start_time": "2024-04-17T11:58:27.524Z"
   },
   {
    "duration": 15,
    "start_time": "2024-04-17T11:58:27.551Z"
   },
   {
    "duration": 12,
    "start_time": "2024-04-17T11:58:27.568Z"
   },
   {
    "duration": 17,
    "start_time": "2024-04-17T11:58:27.582Z"
   },
   {
    "duration": 16,
    "start_time": "2024-04-17T11:58:27.601Z"
   },
   {
    "duration": 21,
    "start_time": "2024-04-17T11:58:27.619Z"
   },
   {
    "duration": 15,
    "start_time": "2024-04-17T11:58:27.653Z"
   },
   {
    "duration": 35,
    "start_time": "2024-04-17T11:58:27.670Z"
   },
   {
    "duration": 39,
    "start_time": "2024-04-17T11:58:27.707Z"
   },
   {
    "duration": 32,
    "start_time": "2024-04-17T11:58:27.748Z"
   },
   {
    "duration": 6,
    "start_time": "2024-04-17T11:58:27.781Z"
   },
   {
    "duration": 19,
    "start_time": "2024-04-17T11:58:27.788Z"
   },
   {
    "duration": 28,
    "start_time": "2024-04-17T11:58:27.808Z"
   },
   {
    "duration": 18,
    "start_time": "2024-04-17T11:58:27.837Z"
   },
   {
    "duration": 15,
    "start_time": "2024-04-17T11:58:27.858Z"
   },
   {
    "duration": 6,
    "start_time": "2024-04-17T11:58:27.875Z"
   },
   {
    "duration": 12,
    "start_time": "2024-04-17T11:58:27.882Z"
   },
   {
    "duration": 7,
    "start_time": "2024-04-17T11:58:27.895Z"
   },
   {
    "duration": 53,
    "start_time": "2024-04-17T11:58:27.903Z"
   },
   {
    "duration": 14,
    "start_time": "2024-04-17T11:58:27.961Z"
   },
   {
    "duration": 7,
    "start_time": "2024-04-17T11:58:27.976Z"
   },
   {
    "duration": 5,
    "start_time": "2024-04-17T11:58:27.984Z"
   },
   {
    "duration": 20,
    "start_time": "2024-04-17T11:58:27.990Z"
   },
   {
    "duration": 39,
    "start_time": "2024-04-17T11:58:28.011Z"
   },
   {
    "duration": 18,
    "start_time": "2024-04-17T11:58:28.053Z"
   },
   {
    "duration": 14,
    "start_time": "2024-04-17T11:58:28.072Z"
   },
   {
    "duration": 31,
    "start_time": "2024-04-17T11:58:28.087Z"
   },
   {
    "duration": 29,
    "start_time": "2024-04-17T11:58:28.120Z"
   },
   {
    "duration": 6,
    "start_time": "2024-04-17T11:58:28.152Z"
   },
   {
    "duration": 13,
    "start_time": "2024-04-17T11:58:28.160Z"
   },
   {
    "duration": 15,
    "start_time": "2024-04-17T11:58:28.175Z"
   },
   {
    "duration": 24,
    "start_time": "2024-04-17T11:58:28.192Z"
   },
   {
    "duration": 36,
    "start_time": "2024-04-17T11:58:28.218Z"
   },
   {
    "duration": 12,
    "start_time": "2024-04-17T11:58:28.261Z"
   },
   {
    "duration": 1644,
    "start_time": "2024-04-17T11:58:28.274Z"
   },
   {
    "duration": 2365,
    "start_time": "2024-04-17T11:58:29.920Z"
   },
   {
    "duration": 1147,
    "start_time": "2024-04-17T11:58:32.286Z"
   },
   {
    "duration": 29,
    "start_time": "2024-04-17T11:58:33.434Z"
   },
   {
    "duration": 1301,
    "start_time": "2024-04-17T11:58:33.465Z"
   },
   {
    "duration": 309,
    "start_time": "2024-04-17T11:58:34.767Z"
   },
   {
    "duration": 5,
    "start_time": "2024-04-17T11:58:35.078Z"
   },
   {
    "duration": 14,
    "start_time": "2024-04-17T11:58:35.084Z"
   },
   {
    "duration": 3097,
    "start_time": "2024-04-17T11:58:35.099Z"
   },
   {
    "duration": 5,
    "start_time": "2024-04-17T11:58:38.197Z"
   },
   {
    "duration": 36,
    "start_time": "2024-04-17T11:58:38.203Z"
   },
   {
    "duration": 16,
    "start_time": "2024-04-17T11:58:38.241Z"
   },
   {
    "duration": 12,
    "start_time": "2024-04-17T11:58:38.260Z"
   },
   {
    "duration": 27,
    "start_time": "2024-04-17T11:58:38.273Z"
   },
   {
    "duration": 7,
    "start_time": "2024-04-17T11:58:38.302Z"
   },
   {
    "duration": 138,
    "start_time": "2024-04-17T11:58:38.311Z"
   },
   {
    "duration": 0,
    "start_time": "2024-04-17T11:58:38.451Z"
   },
   {
    "duration": 0,
    "start_time": "2024-04-17T11:58:38.453Z"
   },
   {
    "duration": 0,
    "start_time": "2024-04-17T11:58:38.455Z"
   },
   {
    "duration": 0,
    "start_time": "2024-04-17T11:58:38.456Z"
   },
   {
    "duration": 0,
    "start_time": "2024-04-17T11:58:38.457Z"
   },
   {
    "duration": 0,
    "start_time": "2024-04-17T11:58:38.458Z"
   },
   {
    "duration": 0,
    "start_time": "2024-04-17T11:58:38.459Z"
   },
   {
    "duration": 0,
    "start_time": "2024-04-17T11:58:38.460Z"
   },
   {
    "duration": 0,
    "start_time": "2024-04-17T11:58:38.462Z"
   },
   {
    "duration": 0,
    "start_time": "2024-04-17T11:58:38.463Z"
   },
   {
    "duration": 0,
    "start_time": "2024-04-17T11:58:38.465Z"
   },
   {
    "duration": 0,
    "start_time": "2024-04-17T11:58:38.467Z"
   },
   {
    "duration": 0,
    "start_time": "2024-04-17T11:58:38.468Z"
   },
   {
    "duration": 0,
    "start_time": "2024-04-17T11:58:38.469Z"
   },
   {
    "duration": 0,
    "start_time": "2024-04-17T11:58:38.469Z"
   },
   {
    "duration": 0,
    "start_time": "2024-04-17T11:58:38.470Z"
   },
   {
    "duration": 41,
    "start_time": "2024-04-17T11:59:38.452Z"
   },
   {
    "duration": 30,
    "start_time": "2024-04-17T11:59:45.104Z"
   },
   {
    "duration": 2606,
    "start_time": "2024-04-17T11:59:53.390Z"
   },
   {
    "duration": 1441,
    "start_time": "2024-04-17T11:59:55.998Z"
   },
   {
    "duration": 7,
    "start_time": "2024-04-17T11:59:57.441Z"
   },
   {
    "duration": 136,
    "start_time": "2024-04-17T11:59:57.451Z"
   },
   {
    "duration": 7,
    "start_time": "2024-04-17T11:59:57.589Z"
   },
   {
    "duration": 62,
    "start_time": "2024-04-17T11:59:57.597Z"
   },
   {
    "duration": 6,
    "start_time": "2024-04-17T11:59:57.662Z"
   },
   {
    "duration": 24,
    "start_time": "2024-04-17T11:59:57.670Z"
   },
   {
    "duration": 8,
    "start_time": "2024-04-17T11:59:57.695Z"
   },
   {
    "duration": 10,
    "start_time": "2024-04-17T11:59:57.706Z"
   },
   {
    "duration": 5,
    "start_time": "2024-04-17T11:59:57.718Z"
   },
   {
    "duration": 26,
    "start_time": "2024-04-17T11:59:57.725Z"
   },
   {
    "duration": 28,
    "start_time": "2024-04-17T11:59:57.752Z"
   },
   {
    "duration": 17,
    "start_time": "2024-04-17T11:59:57.782Z"
   },
   {
    "duration": 12,
    "start_time": "2024-04-17T11:59:57.800Z"
   },
   {
    "duration": 14,
    "start_time": "2024-04-17T11:59:57.813Z"
   },
   {
    "duration": 19,
    "start_time": "2024-04-17T11:59:57.829Z"
   },
   {
    "duration": 37,
    "start_time": "2024-04-17T11:59:57.851Z"
   },
   {
    "duration": 6,
    "start_time": "2024-04-17T11:59:57.890Z"
   },
   {
    "duration": 11,
    "start_time": "2024-04-17T11:59:57.897Z"
   },
   {
    "duration": 8,
    "start_time": "2024-04-17T11:59:57.909Z"
   },
   {
    "duration": 6,
    "start_time": "2024-04-17T11:59:57.919Z"
   },
   {
    "duration": 10,
    "start_time": "2024-04-17T11:59:57.946Z"
   },
   {
    "duration": 11,
    "start_time": "2024-04-17T11:59:57.958Z"
   },
   {
    "duration": 10,
    "start_time": "2024-04-17T11:59:57.971Z"
   },
   {
    "duration": 28,
    "start_time": "2024-04-17T11:59:57.983Z"
   },
   {
    "duration": 77,
    "start_time": "2024-04-17T11:59:58.012Z"
   },
   {
    "duration": 18,
    "start_time": "2024-04-17T11:59:58.092Z"
   },
   {
    "duration": 43,
    "start_time": "2024-04-17T11:59:58.112Z"
   },
   {
    "duration": 33,
    "start_time": "2024-04-17T11:59:58.158Z"
   },
   {
    "duration": 80,
    "start_time": "2024-04-17T11:59:58.192Z"
   },
   {
    "duration": 5,
    "start_time": "2024-04-17T11:59:58.274Z"
   },
   {
    "duration": 14,
    "start_time": "2024-04-17T11:59:58.280Z"
   },
   {
    "duration": 7,
    "start_time": "2024-04-17T11:59:58.295Z"
   },
   {
    "duration": 81,
    "start_time": "2024-04-17T11:59:58.303Z"
   },
   {
    "duration": 15,
    "start_time": "2024-04-17T11:59:58.385Z"
   },
   {
    "duration": 20,
    "start_time": "2024-04-17T11:59:58.401Z"
   },
   {
    "duration": 18,
    "start_time": "2024-04-17T11:59:58.423Z"
   },
   {
    "duration": 39,
    "start_time": "2024-04-17T11:59:58.443Z"
   },
   {
    "duration": 3,
    "start_time": "2024-04-17T11:59:58.484Z"
   },
   {
    "duration": 23,
    "start_time": "2024-04-17T11:59:58.488Z"
   },
   {
    "duration": 3,
    "start_time": "2024-04-17T11:59:58.512Z"
   },
   {
    "duration": 1554,
    "start_time": "2024-04-17T11:59:58.517Z"
   },
   {
    "duration": 2419,
    "start_time": "2024-04-17T12:00:00.072Z"
   },
   {
    "duration": 1220,
    "start_time": "2024-04-17T12:00:02.493Z"
   },
   {
    "duration": 17,
    "start_time": "2024-04-17T12:00:03.715Z"
   },
   {
    "duration": 1435,
    "start_time": "2024-04-17T12:00:03.734Z"
   },
   {
    "duration": 311,
    "start_time": "2024-04-17T12:00:05.171Z"
   },
   {
    "duration": 7,
    "start_time": "2024-04-17T12:00:05.484Z"
   },
   {
    "duration": 26,
    "start_time": "2024-04-17T12:00:05.494Z"
   },
   {
    "duration": 3286,
    "start_time": "2024-04-17T12:00:05.521Z"
   },
   {
    "duration": 5,
    "start_time": "2024-04-17T12:00:08.808Z"
   },
   {
    "duration": 17,
    "start_time": "2024-04-17T12:00:08.814Z"
   },
   {
    "duration": 25,
    "start_time": "2024-04-17T12:00:08.833Z"
   },
   {
    "duration": 26,
    "start_time": "2024-04-17T12:00:08.860Z"
   },
   {
    "duration": 8,
    "start_time": "2024-04-17T12:00:08.887Z"
   },
   {
    "duration": 17,
    "start_time": "2024-04-17T12:00:08.896Z"
   },
   {
    "duration": 57,
    "start_time": "2024-04-17T12:00:08.915Z"
   },
   {
    "duration": 24,
    "start_time": "2024-04-17T12:00:08.974Z"
   },
   {
    "duration": 16,
    "start_time": "2024-04-17T12:00:08.999Z"
   },
   {
    "duration": 36,
    "start_time": "2024-04-17T12:00:09.017Z"
   },
   {
    "duration": 67,
    "start_time": "2024-04-17T12:00:09.056Z"
   },
   {
    "duration": 14,
    "start_time": "2024-04-17T12:00:09.124Z"
   },
   {
    "duration": 29,
    "start_time": "2024-04-17T12:00:09.140Z"
   },
   {
    "duration": 41980,
    "start_time": "2024-04-17T12:00:09.171Z"
   },
   {
    "duration": 338,
    "start_time": "2024-04-17T12:00:51.154Z"
   },
   {
    "duration": 36187,
    "start_time": "2024-04-17T12:00:51.494Z"
   },
   {
    "duration": 142,
    "start_time": "2024-04-17T12:01:27.686Z"
   },
   {
    "duration": 26835,
    "start_time": "2024-04-17T12:01:27.830Z"
   },
   {
    "duration": 143,
    "start_time": "2024-04-17T12:01:54.667Z"
   },
   {
    "duration": 6,
    "start_time": "2024-04-17T12:01:54.811Z"
   },
   {
    "duration": 179,
    "start_time": "2024-04-17T12:01:54.818Z"
   },
   {
    "duration": 17,
    "start_time": "2024-04-17T12:01:54.999Z"
   },
   {
    "duration": 365,
    "start_time": "2024-04-17T12:01:55.018Z"
   },
   {
    "duration": 2643,
    "start_time": "2024-04-17T12:02:35.775Z"
   },
   {
    "duration": 1487,
    "start_time": "2024-04-17T12:02:38.420Z"
   },
   {
    "duration": 2,
    "start_time": "2024-04-17T12:02:39.909Z"
   },
   {
    "duration": 114,
    "start_time": "2024-04-17T12:02:39.912Z"
   },
   {
    "duration": 7,
    "start_time": "2024-04-17T12:02:40.028Z"
   },
   {
    "duration": 43,
    "start_time": "2024-04-17T12:02:40.036Z"
   },
   {
    "duration": 5,
    "start_time": "2024-04-17T12:02:40.080Z"
   },
   {
    "duration": 14,
    "start_time": "2024-04-17T12:02:40.087Z"
   },
   {
    "duration": 6,
    "start_time": "2024-04-17T12:02:40.103Z"
   },
   {
    "duration": 12,
    "start_time": "2024-04-17T12:02:40.110Z"
   },
   {
    "duration": 10,
    "start_time": "2024-04-17T12:02:40.123Z"
   },
   {
    "duration": 11,
    "start_time": "2024-04-17T12:02:40.135Z"
   },
   {
    "duration": 11,
    "start_time": "2024-04-17T12:02:40.147Z"
   },
   {
    "duration": 18,
    "start_time": "2024-04-17T12:02:40.163Z"
   },
   {
    "duration": 11,
    "start_time": "2024-04-17T12:02:40.183Z"
   },
   {
    "duration": 21,
    "start_time": "2024-04-17T12:02:40.195Z"
   },
   {
    "duration": 35,
    "start_time": "2024-04-17T12:02:40.218Z"
   },
   {
    "duration": 30,
    "start_time": "2024-04-17T12:02:40.255Z"
   },
   {
    "duration": 10,
    "start_time": "2024-04-17T12:02:40.286Z"
   },
   {
    "duration": 19,
    "start_time": "2024-04-17T12:02:40.298Z"
   },
   {
    "duration": 7,
    "start_time": "2024-04-17T12:02:40.318Z"
   },
   {
    "duration": 6,
    "start_time": "2024-04-17T12:02:40.326Z"
   },
   {
    "duration": 21,
    "start_time": "2024-04-17T12:02:40.333Z"
   },
   {
    "duration": 10,
    "start_time": "2024-04-17T12:02:40.356Z"
   },
   {
    "duration": 15,
    "start_time": "2024-04-17T12:02:40.369Z"
   },
   {
    "duration": 8,
    "start_time": "2024-04-17T12:02:40.386Z"
   },
   {
    "duration": 33,
    "start_time": "2024-04-17T12:02:40.396Z"
   },
   {
    "duration": 14,
    "start_time": "2024-04-17T12:02:40.444Z"
   },
   {
    "duration": 24,
    "start_time": "2024-04-17T12:02:40.460Z"
   },
   {
    "duration": 20,
    "start_time": "2024-04-17T12:02:40.486Z"
   },
   {
    "duration": 22,
    "start_time": "2024-04-17T12:02:40.508Z"
   },
   {
    "duration": 4,
    "start_time": "2024-04-17T12:02:40.532Z"
   },
   {
    "duration": 19,
    "start_time": "2024-04-17T12:02:40.546Z"
   },
   {
    "duration": 4,
    "start_time": "2024-04-17T12:02:40.567Z"
   },
   {
    "duration": 42,
    "start_time": "2024-04-17T12:02:40.572Z"
   },
   {
    "duration": 16,
    "start_time": "2024-04-17T12:02:40.617Z"
   },
   {
    "duration": 14,
    "start_time": "2024-04-17T12:02:40.635Z"
   },
   {
    "duration": 29,
    "start_time": "2024-04-17T12:02:40.651Z"
   },
   {
    "duration": 41,
    "start_time": "2024-04-17T12:02:40.681Z"
   },
   {
    "duration": 12,
    "start_time": "2024-04-17T12:02:40.724Z"
   },
   {
    "duration": 20,
    "start_time": "2024-04-17T12:02:40.742Z"
   },
   {
    "duration": 6,
    "start_time": "2024-04-17T12:02:40.764Z"
   },
   {
    "duration": 1569,
    "start_time": "2024-04-17T12:02:40.771Z"
   },
   {
    "duration": 2316,
    "start_time": "2024-04-17T12:02:42.344Z"
   },
   {
    "duration": 1208,
    "start_time": "2024-04-17T12:02:44.662Z"
   },
   {
    "duration": 18,
    "start_time": "2024-04-17T12:02:45.872Z"
   },
   {
    "duration": 1390,
    "start_time": "2024-04-17T12:02:45.891Z"
   },
   {
    "duration": 368,
    "start_time": "2024-04-17T12:02:47.283Z"
   },
   {
    "duration": 16,
    "start_time": "2024-04-17T12:02:47.654Z"
   },
   {
    "duration": 15,
    "start_time": "2024-04-17T12:02:47.672Z"
   },
   {
    "duration": 3036,
    "start_time": "2024-04-17T12:02:47.689Z"
   },
   {
    "duration": 4,
    "start_time": "2024-04-17T12:02:50.726Z"
   },
   {
    "duration": 24,
    "start_time": "2024-04-17T12:02:50.732Z"
   },
   {
    "duration": 20,
    "start_time": "2024-04-17T12:02:50.758Z"
   },
   {
    "duration": 30,
    "start_time": "2024-04-17T12:02:50.780Z"
   },
   {
    "duration": 15,
    "start_time": "2024-04-17T12:02:50.812Z"
   },
   {
    "duration": 8,
    "start_time": "2024-04-17T12:02:50.829Z"
   },
   {
    "duration": 48,
    "start_time": "2024-04-17T12:02:50.838Z"
   },
   {
    "duration": 21,
    "start_time": "2024-04-17T12:02:50.888Z"
   },
   {
    "duration": 15,
    "start_time": "2024-04-17T12:02:50.910Z"
   },
   {
    "duration": 43,
    "start_time": "2024-04-17T12:02:50.926Z"
   },
   {
    "duration": 39,
    "start_time": "2024-04-17T12:02:50.971Z"
   },
   {
    "duration": 6,
    "start_time": "2024-04-17T12:02:51.012Z"
   },
   {
    "duration": 31,
    "start_time": "2024-04-17T12:02:51.020Z"
   },
   {
    "duration": 23493,
    "start_time": "2024-04-17T12:02:51.054Z"
   },
   {
    "duration": 311,
    "start_time": "2024-04-17T12:03:14.549Z"
   },
   {
    "duration": 34034,
    "start_time": "2024-04-17T12:03:14.861Z"
   },
   {
    "duration": 132,
    "start_time": "2024-04-17T12:03:48.896Z"
   },
   {
    "duration": 25617,
    "start_time": "2024-04-17T12:03:49.029Z"
   },
   {
    "duration": 131,
    "start_time": "2024-04-17T12:04:14.647Z"
   },
   {
    "duration": 6,
    "start_time": "2024-04-17T12:04:14.780Z"
   },
   {
    "duration": 146,
    "start_time": "2024-04-17T12:04:14.787Z"
   },
   {
    "duration": 20,
    "start_time": "2024-04-17T12:04:14.934Z"
   },
   {
    "duration": 319,
    "start_time": "2024-04-17T12:04:14.955Z"
   },
   {
    "duration": 33,
    "start_time": "2024-04-17T12:04:33.264Z"
   },
   {
    "duration": 23,
    "start_time": "2024-04-17T12:04:36.755Z"
   },
   {
    "duration": 27,
    "start_time": "2024-04-17T12:04:38.409Z"
   },
   {
    "duration": 16,
    "start_time": "2024-04-17T12:04:38.782Z"
   },
   {
    "duration": 20,
    "start_time": "2024-04-17T12:04:38.970Z"
   },
   {
    "duration": 40,
    "start_time": "2024-04-17T12:04:39.127Z"
   },
   {
    "duration": 4,
    "start_time": "2024-04-17T12:04:39.295Z"
   },
   {
    "duration": 4,
    "start_time": "2024-04-17T12:04:44.167Z"
   },
   {
    "duration": 17786,
    "start_time": "2024-04-17T12:04:44.761Z"
   },
   {
    "duration": 302,
    "start_time": "2024-04-17T12:05:02.549Z"
   },
   {
    "duration": 33833,
    "start_time": "2024-04-17T12:05:03.996Z"
   },
   {
    "duration": 138,
    "start_time": "2024-04-17T12:05:37.830Z"
   },
   {
    "duration": 26472,
    "start_time": "2024-04-17T12:05:37.969Z"
   },
   {
    "duration": 133,
    "start_time": "2024-04-17T12:06:04.442Z"
   },
   {
    "duration": 2421,
    "start_time": "2024-04-17T12:06:46.077Z"
   },
   {
    "duration": 1370,
    "start_time": "2024-04-17T12:06:48.500Z"
   },
   {
    "duration": 3,
    "start_time": "2024-04-17T12:06:49.871Z"
   },
   {
    "duration": 105,
    "start_time": "2024-04-17T12:06:49.876Z"
   },
   {
    "duration": 7,
    "start_time": "2024-04-17T12:06:49.983Z"
   },
   {
    "duration": 35,
    "start_time": "2024-04-17T12:06:49.991Z"
   },
   {
    "duration": 38,
    "start_time": "2024-04-17T12:06:50.027Z"
   },
   {
    "duration": 57,
    "start_time": "2024-04-17T12:06:50.067Z"
   },
   {
    "duration": 12,
    "start_time": "2024-04-17T12:06:50.126Z"
   },
   {
    "duration": 34,
    "start_time": "2024-04-17T12:06:50.140Z"
   },
   {
    "duration": 6,
    "start_time": "2024-04-17T12:06:50.176Z"
   },
   {
    "duration": 25,
    "start_time": "2024-04-17T12:06:50.183Z"
   },
   {
    "duration": 45,
    "start_time": "2024-04-17T12:06:50.210Z"
   },
   {
    "duration": 81,
    "start_time": "2024-04-17T12:06:50.256Z"
   },
   {
    "duration": 44,
    "start_time": "2024-04-17T12:06:50.339Z"
   },
   {
    "duration": 25,
    "start_time": "2024-04-17T12:06:50.384Z"
   },
   {
    "duration": 11,
    "start_time": "2024-04-17T12:06:50.411Z"
   },
   {
    "duration": 42,
    "start_time": "2024-04-17T12:06:50.423Z"
   },
   {
    "duration": 11,
    "start_time": "2024-04-17T12:06:50.467Z"
   },
   {
    "duration": 11,
    "start_time": "2024-04-17T12:06:50.480Z"
   },
   {
    "duration": 16,
    "start_time": "2024-04-17T12:06:50.493Z"
   },
   {
    "duration": 19,
    "start_time": "2024-04-17T12:06:50.511Z"
   },
   {
    "duration": 21,
    "start_time": "2024-04-17T12:06:50.531Z"
   },
   {
    "duration": 7,
    "start_time": "2024-04-17T12:06:50.554Z"
   },
   {
    "duration": 27,
    "start_time": "2024-04-17T12:06:50.562Z"
   },
   {
    "duration": 27,
    "start_time": "2024-04-17T12:06:50.590Z"
   },
   {
    "duration": 68,
    "start_time": "2024-04-17T12:06:50.619Z"
   },
   {
    "duration": 11,
    "start_time": "2024-04-17T12:06:50.692Z"
   },
   {
    "duration": 20,
    "start_time": "2024-04-17T12:06:50.705Z"
   },
   {
    "duration": 9,
    "start_time": "2024-04-17T12:06:50.726Z"
   },
   {
    "duration": 32,
    "start_time": "2024-04-17T12:06:50.736Z"
   },
   {
    "duration": 5,
    "start_time": "2024-04-17T12:06:50.770Z"
   },
   {
    "duration": 41,
    "start_time": "2024-04-17T12:06:50.776Z"
   },
   {
    "duration": 39,
    "start_time": "2024-04-17T12:06:50.819Z"
   },
   {
    "duration": 38,
    "start_time": "2024-04-17T12:06:50.860Z"
   },
   {
    "duration": 15,
    "start_time": "2024-04-17T12:06:50.900Z"
   },
   {
    "duration": 4,
    "start_time": "2024-04-17T12:06:50.917Z"
   },
   {
    "duration": 37,
    "start_time": "2024-04-17T12:06:50.922Z"
   },
   {
    "duration": 31,
    "start_time": "2024-04-17T12:06:50.961Z"
   },
   {
    "duration": 6,
    "start_time": "2024-04-17T12:06:50.994Z"
   },
   {
    "duration": 21,
    "start_time": "2024-04-17T12:06:51.001Z"
   },
   {
    "duration": 6,
    "start_time": "2024-04-17T12:06:51.023Z"
   },
   {
    "duration": 1559,
    "start_time": "2024-04-17T12:06:51.030Z"
   },
   {
    "duration": 2160,
    "start_time": "2024-04-17T12:06:52.590Z"
   },
   {
    "duration": 1095,
    "start_time": "2024-04-17T12:06:54.751Z"
   },
   {
    "duration": 18,
    "start_time": "2024-04-17T12:06:55.847Z"
   },
   {
    "duration": 1258,
    "start_time": "2024-04-17T12:06:55.867Z"
   },
   {
    "duration": 319,
    "start_time": "2024-04-17T12:06:57.126Z"
   },
   {
    "duration": 4,
    "start_time": "2024-04-17T12:06:57.447Z"
   },
   {
    "duration": 16,
    "start_time": "2024-04-17T12:06:57.453Z"
   },
   {
    "duration": 3012,
    "start_time": "2024-04-17T12:06:57.471Z"
   },
   {
    "duration": 5,
    "start_time": "2024-04-17T12:07:00.484Z"
   },
   {
    "duration": 56,
    "start_time": "2024-04-17T12:07:00.490Z"
   },
   {
    "duration": 55,
    "start_time": "2024-04-17T12:07:00.547Z"
   },
   {
    "duration": 61,
    "start_time": "2024-04-17T12:07:00.604Z"
   },
   {
    "duration": 68,
    "start_time": "2024-04-17T12:07:00.667Z"
   },
   {
    "duration": 38,
    "start_time": "2024-04-17T12:07:00.736Z"
   },
   {
    "duration": 30,
    "start_time": "2024-04-17T12:07:00.775Z"
   },
   {
    "duration": 0,
    "start_time": "2024-04-17T12:07:00.806Z"
   },
   {
    "duration": 0,
    "start_time": "2024-04-17T12:07:00.807Z"
   },
   {
    "duration": 0,
    "start_time": "2024-04-17T12:07:00.808Z"
   },
   {
    "duration": 0,
    "start_time": "2024-04-17T12:07:00.809Z"
   },
   {
    "duration": 0,
    "start_time": "2024-04-17T12:07:00.809Z"
   },
   {
    "duration": 0,
    "start_time": "2024-04-17T12:07:00.810Z"
   },
   {
    "duration": 0,
    "start_time": "2024-04-17T12:07:00.811Z"
   },
   {
    "duration": 0,
    "start_time": "2024-04-17T12:07:00.812Z"
   },
   {
    "duration": 0,
    "start_time": "2024-04-17T12:07:00.813Z"
   },
   {
    "duration": 0,
    "start_time": "2024-04-17T12:07:00.814Z"
   },
   {
    "duration": 0,
    "start_time": "2024-04-17T12:07:00.814Z"
   },
   {
    "duration": 0,
    "start_time": "2024-04-17T12:07:00.815Z"
   },
   {
    "duration": 0,
    "start_time": "2024-04-17T12:07:00.816Z"
   },
   {
    "duration": 0,
    "start_time": "2024-04-17T12:07:00.817Z"
   },
   {
    "duration": 0,
    "start_time": "2024-04-17T12:07:00.817Z"
   },
   {
    "duration": 0,
    "start_time": "2024-04-17T12:07:00.818Z"
   },
   {
    "duration": 36,
    "start_time": "2024-04-17T12:07:14.312Z"
   },
   {
    "duration": 22,
    "start_time": "2024-04-17T12:07:14.487Z"
   },
   {
    "duration": 14,
    "start_time": "2024-04-17T12:07:14.639Z"
   },
   {
    "duration": 23,
    "start_time": "2024-04-17T12:07:14.804Z"
   },
   {
    "duration": 41,
    "start_time": "2024-04-17T12:07:14.920Z"
   },
   {
    "duration": 6,
    "start_time": "2024-04-17T12:07:15.243Z"
   },
   {
    "duration": 4,
    "start_time": "2024-04-17T12:07:15.620Z"
   },
   {
    "duration": 16181,
    "start_time": "2024-04-17T12:07:15.965Z"
   },
   {
    "duration": 299,
    "start_time": "2024-04-17T12:07:32.151Z"
   },
   {
    "duration": 34249,
    "start_time": "2024-04-17T12:07:32.451Z"
   },
   {
    "duration": 136,
    "start_time": "2024-04-17T12:08:06.702Z"
   },
   {
    "duration": 25642,
    "start_time": "2024-04-17T12:08:06.845Z"
   },
   {
    "duration": 123,
    "start_time": "2024-04-17T12:08:32.489Z"
   },
   {
    "duration": 7,
    "start_time": "2024-04-17T12:08:32.614Z"
   },
   {
    "duration": 145,
    "start_time": "2024-04-17T12:08:32.623Z"
   },
   {
    "duration": 18,
    "start_time": "2024-04-17T12:08:32.769Z"
   },
   {
    "duration": 325,
    "start_time": "2024-04-17T12:08:32.790Z"
   },
   {
    "duration": 26911,
    "start_time": "2024-04-17T12:13:27.042Z"
   },
   {
    "duration": 139,
    "start_time": "2024-04-17T12:13:54.101Z"
   },
   {
    "duration": 7,
    "start_time": "2024-04-17T12:13:54.245Z"
   },
   {
    "duration": 159,
    "start_time": "2024-04-17T12:13:54.254Z"
   },
   {
    "duration": 135,
    "start_time": "2024-04-17T12:13:58.887Z"
   },
   {
    "duration": 33719,
    "start_time": "2024-04-17T12:14:18.557Z"
   },
   {
    "duration": 136,
    "start_time": "2024-04-17T12:14:52.278Z"
   },
   {
    "duration": 2615,
    "start_time": "2024-04-17T12:15:50.038Z"
   },
   {
    "duration": 1539,
    "start_time": "2024-04-17T12:15:52.656Z"
   },
   {
    "duration": 3,
    "start_time": "2024-04-17T12:15:54.196Z"
   },
   {
    "duration": 100,
    "start_time": "2024-04-17T12:15:54.201Z"
   },
   {
    "duration": 9,
    "start_time": "2024-04-17T12:15:54.302Z"
   },
   {
    "duration": 36,
    "start_time": "2024-04-17T12:15:54.313Z"
   },
   {
    "duration": 8,
    "start_time": "2024-04-17T12:15:54.351Z"
   },
   {
    "duration": 13,
    "start_time": "2024-04-17T12:15:54.361Z"
   },
   {
    "duration": 12,
    "start_time": "2024-04-17T12:15:54.375Z"
   },
   {
    "duration": 22,
    "start_time": "2024-04-17T12:15:54.389Z"
   },
   {
    "duration": 9,
    "start_time": "2024-04-17T12:15:54.412Z"
   },
   {
    "duration": 13,
    "start_time": "2024-04-17T12:15:54.423Z"
   },
   {
    "duration": 50,
    "start_time": "2024-04-17T12:15:54.438Z"
   },
   {
    "duration": 25,
    "start_time": "2024-04-17T12:15:54.490Z"
   },
   {
    "duration": 12,
    "start_time": "2024-04-17T12:15:54.516Z"
   },
   {
    "duration": 16,
    "start_time": "2024-04-17T12:15:54.529Z"
   },
   {
    "duration": 13,
    "start_time": "2024-04-17T12:15:54.547Z"
   },
   {
    "duration": 25,
    "start_time": "2024-04-17T12:15:54.562Z"
   },
   {
    "duration": 6,
    "start_time": "2024-04-17T12:15:54.588Z"
   },
   {
    "duration": 8,
    "start_time": "2024-04-17T12:15:54.596Z"
   },
   {
    "duration": 9,
    "start_time": "2024-04-17T12:15:54.605Z"
   },
   {
    "duration": 13,
    "start_time": "2024-04-17T12:15:54.615Z"
   },
   {
    "duration": 17,
    "start_time": "2024-04-17T12:15:54.630Z"
   },
   {
    "duration": 18,
    "start_time": "2024-04-17T12:15:54.649Z"
   },
   {
    "duration": 11,
    "start_time": "2024-04-17T12:15:54.669Z"
   },
   {
    "duration": 19,
    "start_time": "2024-04-17T12:15:54.681Z"
   },
   {
    "duration": 43,
    "start_time": "2024-04-17T12:15:54.702Z"
   },
   {
    "duration": 15,
    "start_time": "2024-04-17T12:15:54.752Z"
   },
   {
    "duration": 22,
    "start_time": "2024-04-17T12:15:54.768Z"
   },
   {
    "duration": 26,
    "start_time": "2024-04-17T12:15:54.792Z"
   },
   {
    "duration": 45,
    "start_time": "2024-04-17T12:15:54.820Z"
   },
   {
    "duration": 6,
    "start_time": "2024-04-17T12:15:54.866Z"
   },
   {
    "duration": 17,
    "start_time": "2024-04-17T12:15:54.873Z"
   },
   {
    "duration": 4,
    "start_time": "2024-04-17T12:15:54.892Z"
   },
   {
    "duration": 28,
    "start_time": "2024-04-17T12:15:54.897Z"
   },
   {
    "duration": 44,
    "start_time": "2024-04-17T12:15:54.927Z"
   },
   {
    "duration": 5,
    "start_time": "2024-04-17T12:15:54.973Z"
   },
   {
    "duration": 10,
    "start_time": "2024-04-17T12:15:54.980Z"
   },
   {
    "duration": 21,
    "start_time": "2024-04-17T12:15:54.991Z"
   },
   {
    "duration": 12,
    "start_time": "2024-04-17T12:15:55.014Z"
   },
   {
    "duration": 39,
    "start_time": "2024-04-17T12:15:55.027Z"
   },
   {
    "duration": 14,
    "start_time": "2024-04-17T12:15:55.068Z"
   },
   {
    "duration": 1695,
    "start_time": "2024-04-17T12:15:55.084Z"
   },
   {
    "duration": 2464,
    "start_time": "2024-04-17T12:15:56.781Z"
   },
   {
    "duration": 1141,
    "start_time": "2024-04-17T12:15:59.247Z"
   },
   {
    "duration": 19,
    "start_time": "2024-04-17T12:16:00.389Z"
   },
   {
    "duration": 1414,
    "start_time": "2024-04-17T12:16:00.409Z"
   },
   {
    "duration": 355,
    "start_time": "2024-04-17T12:16:01.824Z"
   },
   {
    "duration": 5,
    "start_time": "2024-04-17T12:16:02.180Z"
   },
   {
    "duration": 26,
    "start_time": "2024-04-17T12:16:02.186Z"
   },
   {
    "duration": 3168,
    "start_time": "2024-04-17T12:16:02.214Z"
   },
   {
    "duration": 5,
    "start_time": "2024-04-17T12:16:05.383Z"
   },
   {
    "duration": 24,
    "start_time": "2024-04-17T12:16:05.389Z"
   },
   {
    "duration": 7,
    "start_time": "2024-04-17T12:16:05.415Z"
   },
   {
    "duration": 7,
    "start_time": "2024-04-17T12:16:05.423Z"
   },
   {
    "duration": 8,
    "start_time": "2024-04-17T12:16:05.432Z"
   },
   {
    "duration": 5,
    "start_time": "2024-04-17T12:16:05.444Z"
   },
   {
    "duration": 62,
    "start_time": "2024-04-17T12:16:05.451Z"
   },
   {
    "duration": 25,
    "start_time": "2024-04-17T12:16:05.515Z"
   },
   {
    "duration": 23,
    "start_time": "2024-04-17T12:16:05.541Z"
   },
   {
    "duration": 44,
    "start_time": "2024-04-17T12:16:05.566Z"
   },
   {
    "duration": 48,
    "start_time": "2024-04-17T12:16:05.612Z"
   },
   {
    "duration": 5,
    "start_time": "2024-04-17T12:16:05.662Z"
   },
   {
    "duration": 7,
    "start_time": "2024-04-17T12:16:05.668Z"
   },
   {
    "duration": 15388,
    "start_time": "2024-04-17T12:16:05.676Z"
   },
   {
    "duration": 241,
    "start_time": "2024-04-17T12:16:21.145Z"
   },
   {
    "duration": 37544,
    "start_time": "2024-04-17T12:16:21.388Z"
   },
   {
    "duration": 150,
    "start_time": "2024-04-17T12:16:58.933Z"
   },
   {
    "duration": 35179,
    "start_time": "2024-04-17T12:16:59.085Z"
   },
   {
    "duration": 138,
    "start_time": "2024-04-17T12:17:34.266Z"
   },
   {
    "duration": 9,
    "start_time": "2024-04-17T12:17:34.405Z"
   },
   {
    "duration": 182,
    "start_time": "2024-04-17T12:17:34.415Z"
   },
   {
    "duration": 17,
    "start_time": "2024-04-17T12:17:34.598Z"
   },
   {
    "duration": 361,
    "start_time": "2024-04-17T12:17:34.616Z"
   },
   {
    "duration": 3746,
    "start_time": "2024-04-18T12:09:27.820Z"
   },
   {
    "duration": 2475,
    "start_time": "2024-04-18T12:09:31.568Z"
   },
   {
    "duration": 3,
    "start_time": "2024-04-18T12:09:39.232Z"
   },
   {
    "duration": 369,
    "start_time": "2024-04-18T12:09:41.150Z"
   },
   {
    "duration": 4190,
    "start_time": "2024-04-18T12:40:29.026Z"
   },
   {
    "duration": 1821,
    "start_time": "2024-04-18T12:40:33.219Z"
   },
   {
    "duration": 4,
    "start_time": "2024-04-18T12:40:35.043Z"
   },
   {
    "duration": 372,
    "start_time": "2024-04-18T12:40:35.050Z"
   },
   {
    "duration": 9,
    "start_time": "2024-04-18T12:40:35.424Z"
   },
   {
    "duration": 53,
    "start_time": "2024-04-18T12:40:35.435Z"
   },
   {
    "duration": 9,
    "start_time": "2024-04-18T12:40:35.491Z"
   },
   {
    "duration": 12,
    "start_time": "2024-04-18T12:40:35.501Z"
   },
   {
    "duration": 15,
    "start_time": "2024-04-18T12:40:35.515Z"
   },
   {
    "duration": 38,
    "start_time": "2024-04-18T12:40:35.532Z"
   },
   {
    "duration": 22,
    "start_time": "2024-04-18T12:40:35.572Z"
   },
   {
    "duration": 7,
    "start_time": "2024-04-18T12:40:35.595Z"
   },
   {
    "duration": 8,
    "start_time": "2024-04-18T12:40:35.603Z"
   },
   {
    "duration": 26,
    "start_time": "2024-04-18T12:40:35.614Z"
   },
   {
    "duration": 16,
    "start_time": "2024-04-18T12:40:35.642Z"
   },
   {
    "duration": 17,
    "start_time": "2024-04-18T12:40:35.660Z"
   },
   {
    "duration": 13,
    "start_time": "2024-04-18T12:40:35.678Z"
   },
   {
    "duration": 37,
    "start_time": "2024-04-18T12:40:35.693Z"
   },
   {
    "duration": 9,
    "start_time": "2024-04-18T12:40:35.732Z"
   },
   {
    "duration": 23,
    "start_time": "2024-04-18T12:40:35.746Z"
   },
   {
    "duration": 39,
    "start_time": "2024-04-18T12:40:35.771Z"
   },
   {
    "duration": 10,
    "start_time": "2024-04-18T12:40:35.812Z"
   },
   {
    "duration": 28,
    "start_time": "2024-04-18T12:40:35.824Z"
   },
   {
    "duration": 38,
    "start_time": "2024-04-18T12:40:35.854Z"
   },
   {
    "duration": 25,
    "start_time": "2024-04-18T12:40:35.894Z"
   },
   {
    "duration": 13,
    "start_time": "2024-04-18T12:40:35.921Z"
   },
   {
    "duration": 74,
    "start_time": "2024-04-18T12:40:35.936Z"
   },
   {
    "duration": 13,
    "start_time": "2024-04-18T12:40:36.012Z"
   },
   {
    "duration": 31,
    "start_time": "2024-04-18T12:40:36.027Z"
   },
   {
    "duration": 39,
    "start_time": "2024-04-18T12:40:36.060Z"
   },
   {
    "duration": 43,
    "start_time": "2024-04-18T12:40:36.103Z"
   },
   {
    "duration": 23,
    "start_time": "2024-04-18T12:40:36.149Z"
   },
   {
    "duration": 34,
    "start_time": "2024-04-18T12:40:36.173Z"
   },
   {
    "duration": 5,
    "start_time": "2024-04-18T12:40:36.209Z"
   },
   {
    "duration": 72,
    "start_time": "2024-04-18T12:40:36.216Z"
   },
   {
    "duration": 17,
    "start_time": "2024-04-18T12:40:36.290Z"
   },
   {
    "duration": 15,
    "start_time": "2024-04-18T12:40:36.309Z"
   },
   {
    "duration": 16,
    "start_time": "2024-04-18T12:40:36.326Z"
   },
   {
    "duration": 22,
    "start_time": "2024-04-18T12:40:36.344Z"
   },
   {
    "duration": 7,
    "start_time": "2024-04-18T12:40:36.368Z"
   },
   {
    "duration": 17,
    "start_time": "2024-04-18T12:40:36.379Z"
   },
   {
    "duration": 3,
    "start_time": "2024-04-18T12:40:36.398Z"
   },
   {
    "duration": 1943,
    "start_time": "2024-04-18T12:40:36.403Z"
   },
   {
    "duration": 2704,
    "start_time": "2024-04-18T12:40:38.349Z"
   },
   {
    "duration": 1357,
    "start_time": "2024-04-18T12:40:41.055Z"
   },
   {
    "duration": 31,
    "start_time": "2024-04-18T12:40:42.414Z"
   },
   {
    "duration": 1508,
    "start_time": "2024-04-18T12:40:42.447Z"
   },
   {
    "duration": 362,
    "start_time": "2024-04-18T12:40:43.957Z"
   },
   {
    "duration": 14,
    "start_time": "2024-04-18T12:40:44.321Z"
   },
   {
    "duration": 19,
    "start_time": "2024-04-18T12:40:44.337Z"
   },
   {
    "duration": 3568,
    "start_time": "2024-04-18T12:40:44.358Z"
   },
   {
    "duration": 12,
    "start_time": "2024-04-18T12:40:47.929Z"
   },
   {
    "duration": 14,
    "start_time": "2024-04-18T12:40:47.943Z"
   },
   {
    "duration": 14,
    "start_time": "2024-04-18T12:40:47.959Z"
   },
   {
    "duration": 49,
    "start_time": "2024-04-18T12:40:47.974Z"
   },
   {
    "duration": 42,
    "start_time": "2024-04-18T12:40:48.025Z"
   },
   {
    "duration": 81,
    "start_time": "2024-04-18T12:40:48.069Z"
   },
   {
    "duration": 35,
    "start_time": "2024-04-18T12:40:48.153Z"
   },
   {
    "duration": 46,
    "start_time": "2024-04-18T12:40:48.190Z"
   },
   {
    "duration": 35,
    "start_time": "2024-04-18T12:40:48.238Z"
   },
   {
    "duration": 55,
    "start_time": "2024-04-18T12:40:48.275Z"
   },
   {
    "duration": 9,
    "start_time": "2024-04-18T12:40:48.333Z"
   },
   {
    "duration": 7,
    "start_time": "2024-04-18T12:40:48.348Z"
   },
   {
    "duration": 38589,
    "start_time": "2024-04-18T12:40:48.357Z"
   },
   {
    "duration": 231,
    "start_time": "2024-04-18T12:41:27.034Z"
   },
   {
    "duration": 40911,
    "start_time": "2024-04-18T12:41:27.267Z"
   },
   {
    "duration": 175,
    "start_time": "2024-04-18T12:42:08.180Z"
   },
   {
    "duration": 9792,
    "start_time": "2024-04-18T12:42:08.357Z"
   },
   {
    "duration": 0,
    "start_time": "2024-04-18T12:42:18.152Z"
   },
   {
    "duration": 0,
    "start_time": "2024-04-18T12:42:18.154Z"
   },
   {
    "duration": 0,
    "start_time": "2024-04-18T12:42:18.155Z"
   },
   {
    "duration": 0,
    "start_time": "2024-04-18T12:42:18.157Z"
   },
   {
    "duration": 0,
    "start_time": "2024-04-18T12:42:18.158Z"
   },
   {
    "duration": 36882,
    "start_time": "2024-04-18T12:42:38.672Z"
   },
   {
    "duration": 184,
    "start_time": "2024-04-18T12:43:15.556Z"
   },
   {
    "duration": 41552,
    "start_time": "2024-04-18T12:43:44.811Z"
   },
   {
    "duration": 151,
    "start_time": "2024-04-18T12:44:26.365Z"
   },
   {
    "duration": 32967,
    "start_time": "2024-04-18T12:50:05.477Z"
   },
   {
    "duration": 31432,
    "start_time": "2024-04-18T12:54:41.806Z"
   },
   {
    "duration": 21700,
    "start_time": "2024-04-18T12:55:34.734Z"
   },
   {
    "duration": 255,
    "start_time": "2024-04-18T12:55:56.445Z"
   },
   {
    "duration": 40842,
    "start_time": "2024-04-18T12:56:01.426Z"
   },
   {
    "duration": 177,
    "start_time": "2024-04-18T12:56:42.270Z"
   },
   {
    "duration": 34376,
    "start_time": "2024-04-18T12:56:42.449Z"
   },
   {
    "duration": 176,
    "start_time": "2024-04-18T12:57:16.828Z"
   },
   {
    "duration": 139,
    "start_time": "2024-04-18T12:57:38.567Z"
   },
   {
    "duration": 2777,
    "start_time": "2024-04-18T12:59:43.072Z"
   },
   {
    "duration": 1468,
    "start_time": "2024-04-18T12:59:45.852Z"
   },
   {
    "duration": 7,
    "start_time": "2024-04-18T12:59:47.322Z"
   },
   {
    "duration": 110,
    "start_time": "2024-04-18T12:59:47.335Z"
   },
   {
    "duration": 10,
    "start_time": "2024-04-18T12:59:47.447Z"
   },
   {
    "duration": 30,
    "start_time": "2024-04-18T12:59:47.459Z"
   },
   {
    "duration": 6,
    "start_time": "2024-04-18T12:59:47.490Z"
   },
   {
    "duration": 20,
    "start_time": "2024-04-18T12:59:47.498Z"
   },
   {
    "duration": 23,
    "start_time": "2024-04-18T12:59:47.520Z"
   },
   {
    "duration": 31,
    "start_time": "2024-04-18T12:59:47.547Z"
   },
   {
    "duration": 6,
    "start_time": "2024-04-18T12:59:47.580Z"
   },
   {
    "duration": 19,
    "start_time": "2024-04-18T12:59:47.588Z"
   },
   {
    "duration": 49,
    "start_time": "2024-04-18T12:59:47.609Z"
   },
   {
    "duration": 31,
    "start_time": "2024-04-18T12:59:47.659Z"
   },
   {
    "duration": 12,
    "start_time": "2024-04-18T12:59:47.692Z"
   },
   {
    "duration": 15,
    "start_time": "2024-04-18T12:59:47.706Z"
   },
   {
    "duration": 24,
    "start_time": "2024-04-18T12:59:47.722Z"
   },
   {
    "duration": 28,
    "start_time": "2024-04-18T12:59:47.748Z"
   },
   {
    "duration": 34,
    "start_time": "2024-04-18T12:59:47.777Z"
   },
   {
    "duration": 6,
    "start_time": "2024-04-18T12:59:47.813Z"
   },
   {
    "duration": 7,
    "start_time": "2024-04-18T12:59:47.821Z"
   },
   {
    "duration": 15,
    "start_time": "2024-04-18T12:59:47.830Z"
   },
   {
    "duration": 11,
    "start_time": "2024-04-18T12:59:47.848Z"
   },
   {
    "duration": 6,
    "start_time": "2024-04-18T12:59:47.861Z"
   },
   {
    "duration": 12,
    "start_time": "2024-04-18T12:59:47.869Z"
   },
   {
    "duration": 13,
    "start_time": "2024-04-18T12:59:47.883Z"
   },
   {
    "duration": 70,
    "start_time": "2024-04-18T12:59:47.898Z"
   },
   {
    "duration": 11,
    "start_time": "2024-04-18T12:59:47.972Z"
   },
   {
    "duration": 82,
    "start_time": "2024-04-18T12:59:47.984Z"
   },
   {
    "duration": 33,
    "start_time": "2024-04-18T12:59:48.068Z"
   },
   {
    "duration": 26,
    "start_time": "2024-04-18T12:59:48.102Z"
   },
   {
    "duration": 7,
    "start_time": "2024-04-18T12:59:48.130Z"
   },
   {
    "duration": 24,
    "start_time": "2024-04-18T12:59:48.139Z"
   },
   {
    "duration": 4,
    "start_time": "2024-04-18T12:59:48.165Z"
   },
   {
    "duration": 48,
    "start_time": "2024-04-18T12:59:48.170Z"
   },
   {
    "duration": 24,
    "start_time": "2024-04-18T12:59:48.219Z"
   },
   {
    "duration": 6,
    "start_time": "2024-04-18T12:59:48.246Z"
   },
   {
    "duration": 9,
    "start_time": "2024-04-18T12:59:48.255Z"
   },
   {
    "duration": 17,
    "start_time": "2024-04-18T12:59:48.266Z"
   },
   {
    "duration": 3,
    "start_time": "2024-04-18T12:59:48.285Z"
   },
   {
    "duration": 62,
    "start_time": "2024-04-18T12:59:48.290Z"
   },
   {
    "duration": 3,
    "start_time": "2024-04-18T12:59:48.354Z"
   },
   {
    "duration": 1797,
    "start_time": "2024-04-18T12:59:48.359Z"
   },
   {
    "duration": 2514,
    "start_time": "2024-04-18T12:59:50.158Z"
   },
   {
    "duration": 1267,
    "start_time": "2024-04-18T12:59:52.674Z"
   },
   {
    "duration": 24,
    "start_time": "2024-04-18T12:59:53.943Z"
   },
   {
    "duration": 1535,
    "start_time": "2024-04-18T12:59:53.968Z"
   },
   {
    "duration": 381,
    "start_time": "2024-04-18T12:59:55.506Z"
   },
   {
    "duration": 5,
    "start_time": "2024-04-18T12:59:55.888Z"
   },
   {
    "duration": 34,
    "start_time": "2024-04-18T12:59:55.895Z"
   },
   {
    "duration": 3485,
    "start_time": "2024-04-18T12:59:55.932Z"
   },
   {
    "duration": 5,
    "start_time": "2024-04-18T12:59:59.418Z"
   },
   {
    "duration": 24,
    "start_time": "2024-04-18T12:59:59.430Z"
   },
   {
    "duration": 46,
    "start_time": "2024-04-18T12:59:59.456Z"
   },
   {
    "duration": 17,
    "start_time": "2024-04-18T12:59:59.504Z"
   },
   {
    "duration": 47,
    "start_time": "2024-04-18T12:59:59.523Z"
   },
   {
    "duration": 62,
    "start_time": "2024-04-18T12:59:59.572Z"
   },
   {
    "duration": 32,
    "start_time": "2024-04-18T12:59:59.637Z"
   },
   {
    "duration": 34,
    "start_time": "2024-04-18T12:59:59.671Z"
   },
   {
    "duration": 44,
    "start_time": "2024-04-18T12:59:59.706Z"
   },
   {
    "duration": 53,
    "start_time": "2024-04-18T12:59:59.752Z"
   },
   {
    "duration": 5,
    "start_time": "2024-04-18T12:59:59.807Z"
   },
   {
    "duration": 18,
    "start_time": "2024-04-18T12:59:59.814Z"
   },
   {
    "duration": 36998,
    "start_time": "2024-04-18T12:59:59.833Z"
   },
   {
    "duration": 41228,
    "start_time": "2024-04-18T13:00:36.833Z"
   },
   {
    "duration": 35534,
    "start_time": "2024-04-18T13:01:18.063Z"
   },
   {
    "duration": 161,
    "start_time": "2024-04-18T13:01:53.598Z"
   },
   {
    "duration": 6,
    "start_time": "2024-04-18T13:01:53.760Z"
   },
   {
    "duration": 178,
    "start_time": "2024-04-18T13:01:53.768Z"
   },
   {
    "duration": 19,
    "start_time": "2024-04-18T13:01:53.949Z"
   },
   {
    "duration": 243,
    "start_time": "2024-04-18T13:01:53.970Z"
   }
  ],
  "kernelspec": {
   "display_name": "Python 3 (ipykernel)",
   "language": "python",
   "name": "python3"
  },
  "language_info": {
   "codemirror_mode": {
    "name": "ipython",
    "version": 3
   },
   "file_extension": ".py",
   "mimetype": "text/x-python",
   "name": "python",
   "nbconvert_exporter": "python",
   "pygments_lexer": "ipython3",
   "version": "3.9.5"
  },
  "toc": {
   "base_numbering": 1,
   "nav_menu": {
    "height": "158px",
    "width": "245px"
   },
   "number_sections": true,
   "sideBar": true,
   "skip_h1_title": true,
   "title_cell": "Table of Contents",
   "title_sidebar": "Contents",
   "toc_cell": false,
   "toc_position": {
    "height": "calc(100% - 180px)",
    "left": "10px",
    "top": "150px",
    "width": "336px"
   },
   "toc_section_display": true,
   "toc_window_display": true
  }
 },
 "nbformat": 4,
 "nbformat_minor": 5
}
