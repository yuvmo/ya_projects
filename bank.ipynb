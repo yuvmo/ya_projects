{
 "cells": [
  {
   "attachments": {},
   "cell_type": "markdown",
   "metadata": {
    "toc": true
   },
   "source": [
    "<h1>Содержание<span class=\"tocSkip\"></span></h1>\n",
    "<div class=\"toc\"><ul class=\"toc-item\"><li><span><a href=\"#Подготовка-данных\" data-toc-modified-id=\"Подготовка-данных-1\"><span class=\"toc-item-num\">1&nbsp;&nbsp;</span>Подготовка данных</a></span><ul class=\"toc-item\"><li><span><a href=\"#Загрузка-библиотек\" data-toc-modified-id=\"Загрузка-библиотек-1.1\"><span class=\"toc-item-num\">1.1&nbsp;&nbsp;</span>Загрузка библиотек</a></span></li><li><span><a href=\"#Загрузка-и-описание-данных\" data-toc-modified-id=\"Загрузка-и-описание-данных-1.2\"><span class=\"toc-item-num\">1.2&nbsp;&nbsp;</span>Загрузка и описание данных</a></span></li></ul></li><li><span><a href=\"#Предобработка-данных\" data-toc-modified-id=\"Предобработка-данных-2\"><span class=\"toc-item-num\">2&nbsp;&nbsp;</span>Предобработка данных</a></span></li><li><span><a href=\"#Исследование-задачи\" data-toc-modified-id=\"Исследование-задачи-3\"><span class=\"toc-item-num\">3&nbsp;&nbsp;</span>Исследование задачи</a></span><ul class=\"toc-item\"><li><span><a href=\"#Деление-на-выборки\" data-toc-modified-id=\"Деление-на-выборки-3.1\"><span class=\"toc-item-num\">3.1&nbsp;&nbsp;</span>Деление на выборки</a></span></li><li><span><a href=\"#Изучение-дисбаланса\" data-toc-modified-id=\"Изучение-дисбаланса-3.2\"><span class=\"toc-item-num\">3.2&nbsp;&nbsp;</span>Изучение дисбаланса</a></span></li><li><span><a href=\"#Обучение-моделей-без-учёта-дисбаланса-классов\" data-toc-modified-id=\"Обучение-моделей-без-учёта-дисбаланса-классов-3.3\"><span class=\"toc-item-num\">3.3&nbsp;&nbsp;</span>Обучение моделей без учёта дисбаланса классов</a></span><ul class=\"toc-item\"><li><span><a href=\"#Логистическая-регрессия\" data-toc-modified-id=\"Логистическая-регрессия-3.3.1\"><span class=\"toc-item-num\">3.3.1&nbsp;&nbsp;</span>Логистическая регрессия</a></span></li><li><span><a href=\"#Дерево-решений\" data-toc-modified-id=\"Дерево-решений-3.3.2\"><span class=\"toc-item-num\">3.3.2&nbsp;&nbsp;</span>Дерево решений</a></span></li><li><span><a href=\"#Случайный-лес\" data-toc-modified-id=\"Случайный-лес-3.3.3\"><span class=\"toc-item-num\">3.3.3&nbsp;&nbsp;</span>Случайный лес</a></span></li></ul></li></ul></li><li><span><a href=\"#Борьба-с-дисбалансом\" data-toc-modified-id=\"Борьба-с-дисбалансом-4\"><span class=\"toc-item-num\">4&nbsp;&nbsp;</span>Борьба с дисбалансом</a></span><ul class=\"toc-item\"><li><span><a href=\"#Взвешивание-классов\" data-toc-modified-id=\"Взвешивание-классов-4.1\"><span class=\"toc-item-num\">4.1&nbsp;&nbsp;</span>Взвешивание классов</a></span><ul class=\"toc-item\"><li><span><a href=\"#Логистическая-регрессия\" data-toc-modified-id=\"Логистическая-регрессия-4.1.1\"><span class=\"toc-item-num\">4.1.1&nbsp;&nbsp;</span>Логистическая регрессия</a></span></li><li><span><a href=\"#Дерево-решений\" data-toc-modified-id=\"Дерево-решений-4.1.2\"><span class=\"toc-item-num\">4.1.2&nbsp;&nbsp;</span>Дерево решений</a></span></li><li><span><a href=\"#Случайный-лес\" data-toc-modified-id=\"Случайный-лес-4.1.3\"><span class=\"toc-item-num\">4.1.3&nbsp;&nbsp;</span>Случайный лес</a></span></li></ul></li><li><span><a href=\"#Увеличение-выборки\" data-toc-modified-id=\"Увеличение-выборки-4.2\"><span class=\"toc-item-num\">4.2&nbsp;&nbsp;</span>Увеличение выборки</a></span><ul class=\"toc-item\"><li><span><a href=\"#Логистическая-регрессия\" data-toc-modified-id=\"Логистическая-регрессия-4.2.1\"><span class=\"toc-item-num\">4.2.1&nbsp;&nbsp;</span>Логистическая регрессия</a></span></li><li><span><a href=\"#Дерево-решений\" data-toc-modified-id=\"Дерево-решений-4.2.2\"><span class=\"toc-item-num\">4.2.2&nbsp;&nbsp;</span>Дерево решений</a></span></li><li><span><a href=\"#Случайный-лес\" data-toc-modified-id=\"Случайный-лес-4.2.3\"><span class=\"toc-item-num\">4.2.3&nbsp;&nbsp;</span>Случайный лес</a></span></li></ul></li><li><span><a href=\"#Уменьшение-выборки\" data-toc-modified-id=\"Уменьшение-выборки-4.3\"><span class=\"toc-item-num\">4.3&nbsp;&nbsp;</span>Уменьшение выборки</a></span><ul class=\"toc-item\"><li><span><a href=\"#Логистическая-регрессия\" data-toc-modified-id=\"Логистическая-регрессия-4.3.1\"><span class=\"toc-item-num\">4.3.1&nbsp;&nbsp;</span>Логистическая регрессия</a></span></li><li><span><a href=\"#Дерево-решений\" data-toc-modified-id=\"Дерево-решений-4.3.2\"><span class=\"toc-item-num\">4.3.2&nbsp;&nbsp;</span>Дерево решений</a></span></li><li><span><a href=\"#Случайный-лес\" data-toc-modified-id=\"Случайный-лес-4.3.3\"><span class=\"toc-item-num\">4.3.3&nbsp;&nbsp;</span>Случайный лес</a></span></li></ul></li><li><span><a href=\"#Сравнение-результатов\" data-toc-modified-id=\"Сравнение-результатов-4.4\"><span class=\"toc-item-num\">4.4&nbsp;&nbsp;</span>Сравнение результатов</a></span></li></ul></li><li><span><a href=\"#Тестирование-модели\" data-toc-modified-id=\"Тестирование-модели-5\"><span class=\"toc-item-num\">5&nbsp;&nbsp;</span>Тестирование модели</a></span></li><li><span><a href=\"#Выводы\" data-toc-modified-id=\"Выводы-6\"><span class=\"toc-item-num\">6&nbsp;&nbsp;</span>Выводы</a></span></li><li><span><a href=\"#Чек-лист-готовности-проекта\" data-toc-modified-id=\"Чек-лист-готовности-проекта-7\"><span class=\"toc-item-num\">7&nbsp;&nbsp;</span>Чек-лист готовности проекта</a></span></li></ul></div>"
   ]
  },
  {
   "cell_type": "markdown",
   "metadata": {},
   "source": [
    "# Отток клиентов"
   ]
  },
  {
   "cell_type": "markdown",
   "metadata": {},
   "source": [
    "Из «Бета-Банка» стали уходить клиенты. Каждый месяц. Немного, но заметно. Банковские маркетологи посчитали: сохранять текущих клиентов дешевле, чем привлекать новых.\n",
    "\n",
    "Нужно спрогнозировать, уйдёт клиент из банка в ближайшее время или нет. Вам предоставлены исторические данные о поведении клиентов и расторжении договоров с банком. \n",
    "\n",
    "Постройте модель с предельно большим значением *F1*-меры. Чтобы сдать проект успешно, нужно довести метрику до 0.59. Проверьте *F1*-меру на тестовой выборке самостоятельно.\n",
    "\n",
    "Дополнительно измеряйте *AUC-ROC*, сравнивайте её значение с *F1*-мерой.\n",
    "\n",
    "Источник данных: [https://www.kaggle.com/barelydedicated/bank-customer-churn-modeling](https://www.kaggle.com/barelydedicated/bank-customer-churn-modeling)"
   ]
  },
  {
   "cell_type": "markdown",
   "metadata": {},
   "source": [
    "## Подготовка данных"
   ]
  },
  {
   "cell_type": "markdown",
   "metadata": {},
   "source": [
    "### Загрузка библиотек"
   ]
  },
  {
   "cell_type": "code",
   "execution_count": 1,
   "metadata": {},
   "outputs": [],
   "source": [
    "import pandas as pd\n",
    "import numpy as np\n",
    "import matplotlib.pyplot as plt\n",
    "import seaborn as sns\n",
    "import statsmodels.api as sm\n",
    "import scipy\n",
    "import math\n",
    "import time\n",
    "from sklearn.linear_model import LogisticRegression\n",
    "from sklearn.tree import DecisionTreeRegressor\n",
    "from sklearn.tree import DecisionTreeClassifier\n",
    "from sklearn.ensemble import RandomForestRegressor\n",
    "from sklearn.ensemble import RandomForestClassifier\n",
    "from sklearn.model_selection import train_test_split\n",
    "from sklearn.metrics import plot_confusion_matrix\n",
    "from sklearn.metrics import f1_score\n",
    "from sklearn.metrics import mean_squared_error\n",
    "from sklearn.metrics import mean_absolute_error\n",
    "from sklearn.preprocessing import StandardScaler\n",
    "from sklearn.metrics import accuracy_score\n",
    "from sklearn.metrics import recall_score\n",
    "from sklearn.metrics import precision_score\n",
    "from sklearn.utils import shuffle\n",
    "from sklearn.metrics import precision_recall_curve\n",
    "from sklearn.metrics import roc_curve\n",
    "from sklearn.metrics import roc_auc_score\n",
    "from sklearn.metrics import r2_score"
   ]
  },
  {
   "cell_type": "markdown",
   "metadata": {},
   "source": [
    "### Загрузка и описание данных"
   ]
  },
  {
   "cell_type": "code",
   "execution_count": 2,
   "metadata": {},
   "outputs": [
    {
     "data": {
      "text/html": [
       "<div>\n",
       "<style scoped>\n",
       "    .dataframe tbody tr th:only-of-type {\n",
       "        vertical-align: middle;\n",
       "    }\n",
       "\n",
       "    .dataframe tbody tr th {\n",
       "        vertical-align: top;\n",
       "    }\n",
       "\n",
       "    .dataframe thead th {\n",
       "        text-align: right;\n",
       "    }\n",
       "</style>\n",
       "<table border=\"1\" class=\"dataframe\">\n",
       "  <thead>\n",
       "    <tr style=\"text-align: right;\">\n",
       "      <th></th>\n",
       "      <th>RowNumber</th>\n",
       "      <th>CustomerId</th>\n",
       "      <th>Surname</th>\n",
       "      <th>CreditScore</th>\n",
       "      <th>Geography</th>\n",
       "      <th>Gender</th>\n",
       "      <th>Age</th>\n",
       "      <th>Tenure</th>\n",
       "      <th>Balance</th>\n",
       "      <th>NumOfProducts</th>\n",
       "      <th>HasCrCard</th>\n",
       "      <th>IsActiveMember</th>\n",
       "      <th>EstimatedSalary</th>\n",
       "      <th>Exited</th>\n",
       "    </tr>\n",
       "  </thead>\n",
       "  <tbody>\n",
       "    <tr>\n",
       "      <th>0</th>\n",
       "      <td>1</td>\n",
       "      <td>15634602</td>\n",
       "      <td>Hargrave</td>\n",
       "      <td>619</td>\n",
       "      <td>France</td>\n",
       "      <td>Female</td>\n",
       "      <td>42</td>\n",
       "      <td>2.0</td>\n",
       "      <td>0.00</td>\n",
       "      <td>1</td>\n",
       "      <td>1</td>\n",
       "      <td>1</td>\n",
       "      <td>101348.88</td>\n",
       "      <td>1</td>\n",
       "    </tr>\n",
       "    <tr>\n",
       "      <th>1</th>\n",
       "      <td>2</td>\n",
       "      <td>15647311</td>\n",
       "      <td>Hill</td>\n",
       "      <td>608</td>\n",
       "      <td>Spain</td>\n",
       "      <td>Female</td>\n",
       "      <td>41</td>\n",
       "      <td>1.0</td>\n",
       "      <td>83807.86</td>\n",
       "      <td>1</td>\n",
       "      <td>0</td>\n",
       "      <td>1</td>\n",
       "      <td>112542.58</td>\n",
       "      <td>0</td>\n",
       "    </tr>\n",
       "    <tr>\n",
       "      <th>2</th>\n",
       "      <td>3</td>\n",
       "      <td>15619304</td>\n",
       "      <td>Onio</td>\n",
       "      <td>502</td>\n",
       "      <td>France</td>\n",
       "      <td>Female</td>\n",
       "      <td>42</td>\n",
       "      <td>8.0</td>\n",
       "      <td>159660.80</td>\n",
       "      <td>3</td>\n",
       "      <td>1</td>\n",
       "      <td>0</td>\n",
       "      <td>113931.57</td>\n",
       "      <td>1</td>\n",
       "    </tr>\n",
       "    <tr>\n",
       "      <th>3</th>\n",
       "      <td>4</td>\n",
       "      <td>15701354</td>\n",
       "      <td>Boni</td>\n",
       "      <td>699</td>\n",
       "      <td>France</td>\n",
       "      <td>Female</td>\n",
       "      <td>39</td>\n",
       "      <td>1.0</td>\n",
       "      <td>0.00</td>\n",
       "      <td>2</td>\n",
       "      <td>0</td>\n",
       "      <td>0</td>\n",
       "      <td>93826.63</td>\n",
       "      <td>0</td>\n",
       "    </tr>\n",
       "    <tr>\n",
       "      <th>4</th>\n",
       "      <td>5</td>\n",
       "      <td>15737888</td>\n",
       "      <td>Mitchell</td>\n",
       "      <td>850</td>\n",
       "      <td>Spain</td>\n",
       "      <td>Female</td>\n",
       "      <td>43</td>\n",
       "      <td>2.0</td>\n",
       "      <td>125510.82</td>\n",
       "      <td>1</td>\n",
       "      <td>1</td>\n",
       "      <td>1</td>\n",
       "      <td>79084.10</td>\n",
       "      <td>0</td>\n",
       "    </tr>\n",
       "    <tr>\n",
       "      <th>5</th>\n",
       "      <td>6</td>\n",
       "      <td>15574012</td>\n",
       "      <td>Chu</td>\n",
       "      <td>645</td>\n",
       "      <td>Spain</td>\n",
       "      <td>Male</td>\n",
       "      <td>44</td>\n",
       "      <td>8.0</td>\n",
       "      <td>113755.78</td>\n",
       "      <td>2</td>\n",
       "      <td>1</td>\n",
       "      <td>0</td>\n",
       "      <td>149756.71</td>\n",
       "      <td>1</td>\n",
       "    </tr>\n",
       "    <tr>\n",
       "      <th>6</th>\n",
       "      <td>7</td>\n",
       "      <td>15592531</td>\n",
       "      <td>Bartlett</td>\n",
       "      <td>822</td>\n",
       "      <td>France</td>\n",
       "      <td>Male</td>\n",
       "      <td>50</td>\n",
       "      <td>7.0</td>\n",
       "      <td>0.00</td>\n",
       "      <td>2</td>\n",
       "      <td>1</td>\n",
       "      <td>1</td>\n",
       "      <td>10062.80</td>\n",
       "      <td>0</td>\n",
       "    </tr>\n",
       "    <tr>\n",
       "      <th>7</th>\n",
       "      <td>8</td>\n",
       "      <td>15656148</td>\n",
       "      <td>Obinna</td>\n",
       "      <td>376</td>\n",
       "      <td>Germany</td>\n",
       "      <td>Female</td>\n",
       "      <td>29</td>\n",
       "      <td>4.0</td>\n",
       "      <td>115046.74</td>\n",
       "      <td>4</td>\n",
       "      <td>1</td>\n",
       "      <td>0</td>\n",
       "      <td>119346.88</td>\n",
       "      <td>1</td>\n",
       "    </tr>\n",
       "    <tr>\n",
       "      <th>8</th>\n",
       "      <td>9</td>\n",
       "      <td>15792365</td>\n",
       "      <td>He</td>\n",
       "      <td>501</td>\n",
       "      <td>France</td>\n",
       "      <td>Male</td>\n",
       "      <td>44</td>\n",
       "      <td>4.0</td>\n",
       "      <td>142051.07</td>\n",
       "      <td>2</td>\n",
       "      <td>0</td>\n",
       "      <td>1</td>\n",
       "      <td>74940.50</td>\n",
       "      <td>0</td>\n",
       "    </tr>\n",
       "    <tr>\n",
       "      <th>9</th>\n",
       "      <td>10</td>\n",
       "      <td>15592389</td>\n",
       "      <td>H?</td>\n",
       "      <td>684</td>\n",
       "      <td>France</td>\n",
       "      <td>Male</td>\n",
       "      <td>27</td>\n",
       "      <td>2.0</td>\n",
       "      <td>134603.88</td>\n",
       "      <td>1</td>\n",
       "      <td>1</td>\n",
       "      <td>1</td>\n",
       "      <td>71725.73</td>\n",
       "      <td>0</td>\n",
       "    </tr>\n",
       "  </tbody>\n",
       "</table>\n",
       "</div>"
      ],
      "text/plain": [
       "   RowNumber  CustomerId   Surname  CreditScore Geography  Gender  Age  \\\n",
       "0          1    15634602  Hargrave          619    France  Female   42   \n",
       "1          2    15647311      Hill          608     Spain  Female   41   \n",
       "2          3    15619304      Onio          502    France  Female   42   \n",
       "3          4    15701354      Boni          699    France  Female   39   \n",
       "4          5    15737888  Mitchell          850     Spain  Female   43   \n",
       "5          6    15574012       Chu          645     Spain    Male   44   \n",
       "6          7    15592531  Bartlett          822    France    Male   50   \n",
       "7          8    15656148    Obinna          376   Germany  Female   29   \n",
       "8          9    15792365        He          501    France    Male   44   \n",
       "9         10    15592389        H?          684    France    Male   27   \n",
       "\n",
       "   Tenure    Balance  NumOfProducts  HasCrCard  IsActiveMember  \\\n",
       "0     2.0       0.00              1          1               1   \n",
       "1     1.0   83807.86              1          0               1   \n",
       "2     8.0  159660.80              3          1               0   \n",
       "3     1.0       0.00              2          0               0   \n",
       "4     2.0  125510.82              1          1               1   \n",
       "5     8.0  113755.78              2          1               0   \n",
       "6     7.0       0.00              2          1               1   \n",
       "7     4.0  115046.74              4          1               0   \n",
       "8     4.0  142051.07              2          0               1   \n",
       "9     2.0  134603.88              1          1               1   \n",
       "\n",
       "   EstimatedSalary  Exited  \n",
       "0        101348.88       1  \n",
       "1        112542.58       0  \n",
       "2        113931.57       1  \n",
       "3         93826.63       0  \n",
       "4         79084.10       0  \n",
       "5        149756.71       1  \n",
       "6         10062.80       0  \n",
       "7        119346.88       1  \n",
       "8         74940.50       0  \n",
       "9         71725.73       0  "
      ]
     },
     "execution_count": 2,
     "metadata": {},
     "output_type": "execute_result"
    }
   ],
   "source": [
    "data = pd.read_csv('/datasets/Churn.csv')\n",
    "data.head(10)"
   ]
  },
  {
   "cell_type": "code",
   "execution_count": 3,
   "metadata": {},
   "outputs": [
    {
     "name": "stdout",
     "output_type": "stream",
     "text": [
      "<class 'pandas.core.frame.DataFrame'>\n",
      "RangeIndex: 10000 entries, 0 to 9999\n",
      "Data columns (total 14 columns):\n",
      " #   Column           Non-Null Count  Dtype  \n",
      "---  ------           --------------  -----  \n",
      " 0   RowNumber        10000 non-null  int64  \n",
      " 1   CustomerId       10000 non-null  int64  \n",
      " 2   Surname          10000 non-null  object \n",
      " 3   CreditScore      10000 non-null  int64  \n",
      " 4   Geography        10000 non-null  object \n",
      " 5   Gender           10000 non-null  object \n",
      " 6   Age              10000 non-null  int64  \n",
      " 7   Tenure           9091 non-null   float64\n",
      " 8   Balance          10000 non-null  float64\n",
      " 9   NumOfProducts    10000 non-null  int64  \n",
      " 10  HasCrCard        10000 non-null  int64  \n",
      " 11  IsActiveMember   10000 non-null  int64  \n",
      " 12  EstimatedSalary  10000 non-null  float64\n",
      " 13  Exited           10000 non-null  int64  \n",
      "dtypes: float64(3), int64(8), object(3)\n",
      "memory usage: 1.1+ MB\n"
     ]
    }
   ],
   "source": [
    "data.info()"
   ]
  },
  {
   "cell_type": "code",
   "execution_count": 4,
   "metadata": {},
   "outputs": [
    {
     "data": {
      "text/plain": [
       "0"
      ]
     },
     "execution_count": 4,
     "metadata": {},
     "output_type": "execute_result"
    }
   ],
   "source": [
    "data.duplicated().sum()"
   ]
  },
  {
   "cell_type": "markdown",
   "metadata": {},
   "source": [
    "**Признаки:**\n",
    "  \n",
    "- `RowNumber` — индекс строки в данных\n",
    "- `CustomerId` — уникальный идентификатор клиента\n",
    "- `Surname` — фамилия\n",
    "- `CreditScore` — кредитный рейтинг\n",
    "- `Geography` — страна проживания\n",
    "- `Gender` — пол\n",
    "- `Age` — возраст\n",
    "- `Tenure` — сколько лет человек является клиентом банка\n",
    "- `Balance` — баланс на счёте\n",
    "- `NumOfProducts` — количество продуктов банка, используемых клиентом\n",
    "- `HasCrCard` — наличие кредитной карты\n",
    "- `IsActiveMember` — активность клиента\n",
    "- `EstimatedSalary` — предполагаемая зарплата\n",
    "  \n",
    "**Целевой признак:**\n",
    "  \n",
    "- `Exited` — факт ухода клиента\n"
   ]
  },
  {
   "cell_type": "markdown",
   "metadata": {},
   "source": [
    "Посмотрев на данные, мы можем сделать первые выводы:\n",
    " - В таблице 10000 объектов. Пропуски есть только в столбце `Tenure`;\n",
    " - Явных дубликатов нет;\n",
    " - Нужно поменять названия столбцов (их регистр и пробелы);\n",
    " - Можно удалить некоторые столбцы: `RowNumber` (он дублирует индексацию +1), `CustomerId`, `Surname` (данные колонки никак не повлияют на исследование)\n",
    " - Данные в признаках `Gender` и `Geography` преобразовать методом OHE."
   ]
  },
  {
   "cell_type": "markdown",
   "metadata": {},
   "source": [
    "## Предобработка данных"
   ]
  },
  {
   "cell_type": "code",
   "execution_count": 5,
   "metadata": {},
   "outputs": [],
   "source": [
    "#удаляем признаки\n",
    "data = data.drop(['RowNumber', 'CustomerId', 'Surname'], axis=1)"
   ]
  },
  {
   "cell_type": "code",
   "execution_count": 6,
   "metadata": {},
   "outputs": [
    {
     "data": {
      "text/plain": [
       "Index(['credit_score', 'geography', 'gender', 'age', 'tenure', 'balance',\n",
       "       'num_of_products', 'has_cr_card', 'is_active_member',\n",
       "       'estimated_salary', 'exited'],\n",
       "      dtype='object')"
      ]
     },
     "execution_count": 6,
     "metadata": {},
     "output_type": "execute_result"
    }
   ],
   "source": [
    "#заменяем названия стоблцов\n",
    "data.columns = data.columns.str.lower()\n",
    "data = data.rename(columns={'creditscore':'credit_score',\n",
    "                         'numofproducts':'num_of_products',\n",
    "                         'hascrcard':'has_cr_card',\n",
    "                         'isactivemember':'is_active_member',\n",
    "                         'estimatedsalary': 'estimated_salary'\n",
    "                        })\n",
    "data.columns"
   ]
  },
  {
   "cell_type": "markdown",
   "metadata": {},
   "source": [
    "Для того, чтобы заполнить пропуски в признаке `tenure` стоит посмотреть на уникальные значения и в целом среднее, медианное, чтобы решить чем заполнять пропуски."
   ]
  },
  {
   "cell_type": "code",
   "execution_count": 7,
   "metadata": {},
   "outputs": [
    {
     "data": {
      "text/plain": [
       "count    9091.000000\n",
       "mean        4.997690\n",
       "std         2.894723\n",
       "min         0.000000\n",
       "25%         2.000000\n",
       "50%         5.000000\n",
       "75%         7.000000\n",
       "max        10.000000\n",
       "Name: tenure, dtype: float64"
      ]
     },
     "execution_count": 7,
     "metadata": {},
     "output_type": "execute_result"
    }
   ],
   "source": [
    "data['tenure'].describe()"
   ]
  },
  {
   "cell_type": "code",
   "execution_count": 8,
   "metadata": {},
   "outputs": [
    {
     "data": {
      "text/plain": [
       "[0.0, 1.0, 2.0, 3.0, 4.0, 5.0, 6.0, 7.0, 8.0, 9.0, 10.0, nan]"
      ]
     },
     "execution_count": 8,
     "metadata": {},
     "output_type": "execute_result"
    }
   ],
   "source": [
    "sorted(data['tenure'].unique())"
   ]
  },
  {
   "cell_type": "markdown",
   "metadata": {},
   "source": [
    "Попробуем заполнить пропущенные значения медианой и посмотрим на то, как изменятся среднее и стандартное отклонение."
   ]
  },
  {
   "cell_type": "code",
   "execution_count": 9,
   "metadata": {},
   "outputs": [],
   "source": [
    "data['tenure'] = data['tenure'].fillna(5.0)"
   ]
  },
  {
   "cell_type": "code",
   "execution_count": 10,
   "metadata": {},
   "outputs": [
    {
     "data": {
      "text/plain": [
       "count    10000.00000\n",
       "mean         4.99790\n",
       "std          2.76001\n",
       "min          0.00000\n",
       "25%          3.00000\n",
       "50%          5.00000\n",
       "75%          7.00000\n",
       "max         10.00000\n",
       "Name: tenure, dtype: float64"
      ]
     },
     "execution_count": 10,
     "metadata": {},
     "output_type": "execute_result"
    }
   ],
   "source": [
    "data['tenure'].describe()"
   ]
  },
  {
   "cell_type": "markdown",
   "metadata": {},
   "source": [
    "Среднее и стандартное отклонение практически не изменились, оставляем замену медианой. Также данный признак измеряется в годах, поэтому поменяем тип данных."
   ]
  },
  {
   "cell_type": "code",
   "execution_count": 11,
   "metadata": {},
   "outputs": [],
   "source": [
    "data['tenure'] = data['tenure'].astype('int')"
   ]
  },
  {
   "cell_type": "markdown",
   "metadata": {},
   "source": [
    "Применим OHE к двум столбцам: `gender` и `geography`."
   ]
  },
  {
   "cell_type": "code",
   "execution_count": 12,
   "metadata": {},
   "outputs": [
    {
     "data": {
      "text/html": [
       "<div>\n",
       "<style scoped>\n",
       "    .dataframe tbody tr th:only-of-type {\n",
       "        vertical-align: middle;\n",
       "    }\n",
       "\n",
       "    .dataframe tbody tr th {\n",
       "        vertical-align: top;\n",
       "    }\n",
       "\n",
       "    .dataframe thead th {\n",
       "        text-align: right;\n",
       "    }\n",
       "</style>\n",
       "<table border=\"1\" class=\"dataframe\">\n",
       "  <thead>\n",
       "    <tr style=\"text-align: right;\">\n",
       "      <th></th>\n",
       "      <th>credit_score</th>\n",
       "      <th>age</th>\n",
       "      <th>tenure</th>\n",
       "      <th>balance</th>\n",
       "      <th>num_of_products</th>\n",
       "      <th>has_cr_card</th>\n",
       "      <th>is_active_member</th>\n",
       "      <th>estimated_salary</th>\n",
       "      <th>exited</th>\n",
       "      <th>Male</th>\n",
       "      <th>Germany</th>\n",
       "      <th>Spain</th>\n",
       "    </tr>\n",
       "  </thead>\n",
       "  <tbody>\n",
       "    <tr>\n",
       "      <th>0</th>\n",
       "      <td>619</td>\n",
       "      <td>42</td>\n",
       "      <td>2</td>\n",
       "      <td>0.00</td>\n",
       "      <td>1</td>\n",
       "      <td>1</td>\n",
       "      <td>1</td>\n",
       "      <td>101348.88</td>\n",
       "      <td>1</td>\n",
       "      <td>0</td>\n",
       "      <td>0</td>\n",
       "      <td>0</td>\n",
       "    </tr>\n",
       "    <tr>\n",
       "      <th>1</th>\n",
       "      <td>608</td>\n",
       "      <td>41</td>\n",
       "      <td>1</td>\n",
       "      <td>83807.86</td>\n",
       "      <td>1</td>\n",
       "      <td>0</td>\n",
       "      <td>1</td>\n",
       "      <td>112542.58</td>\n",
       "      <td>0</td>\n",
       "      <td>0</td>\n",
       "      <td>0</td>\n",
       "      <td>1</td>\n",
       "    </tr>\n",
       "    <tr>\n",
       "      <th>2</th>\n",
       "      <td>502</td>\n",
       "      <td>42</td>\n",
       "      <td>8</td>\n",
       "      <td>159660.80</td>\n",
       "      <td>3</td>\n",
       "      <td>1</td>\n",
       "      <td>0</td>\n",
       "      <td>113931.57</td>\n",
       "      <td>1</td>\n",
       "      <td>0</td>\n",
       "      <td>0</td>\n",
       "      <td>0</td>\n",
       "    </tr>\n",
       "    <tr>\n",
       "      <th>3</th>\n",
       "      <td>699</td>\n",
       "      <td>39</td>\n",
       "      <td>1</td>\n",
       "      <td>0.00</td>\n",
       "      <td>2</td>\n",
       "      <td>0</td>\n",
       "      <td>0</td>\n",
       "      <td>93826.63</td>\n",
       "      <td>0</td>\n",
       "      <td>0</td>\n",
       "      <td>0</td>\n",
       "      <td>0</td>\n",
       "    </tr>\n",
       "    <tr>\n",
       "      <th>4</th>\n",
       "      <td>850</td>\n",
       "      <td>43</td>\n",
       "      <td>2</td>\n",
       "      <td>125510.82</td>\n",
       "      <td>1</td>\n",
       "      <td>1</td>\n",
       "      <td>1</td>\n",
       "      <td>79084.10</td>\n",
       "      <td>0</td>\n",
       "      <td>0</td>\n",
       "      <td>0</td>\n",
       "      <td>1</td>\n",
       "    </tr>\n",
       "  </tbody>\n",
       "</table>\n",
       "</div>"
      ],
      "text/plain": [
       "   credit_score  age  tenure    balance  num_of_products  has_cr_card  \\\n",
       "0           619   42       2       0.00                1            1   \n",
       "1           608   41       1   83807.86                1            0   \n",
       "2           502   42       8  159660.80                3            1   \n",
       "3           699   39       1       0.00                2            0   \n",
       "4           850   43       2  125510.82                1            1   \n",
       "\n",
       "   is_active_member  estimated_salary  exited  Male  Germany  Spain  \n",
       "0                 1         101348.88       1     0        0      0  \n",
       "1                 1         112542.58       0     0        0      1  \n",
       "2                 0         113931.57       1     0        0      0  \n",
       "3                 0          93826.63       0     0        0      0  \n",
       "4                 1          79084.10       0     0        0      1  "
      ]
     },
     "execution_count": 12,
     "metadata": {},
     "output_type": "execute_result"
    }
   ],
   "source": [
    "gender_ohe = pd.get_dummies(data['gender'], drop_first=True)\n",
    "geography_ohe = pd.get_dummies(data['geography'], drop_first=True)\n",
    "data.drop(['gender', 'geography'], axis=1, inplace=True)\n",
    "data = pd.concat([data, gender_ohe, geography_ohe], axis=1)\n",
    "data.head()"
   ]
  },
  {
   "cell_type": "code",
   "execution_count": 13,
   "metadata": {},
   "outputs": [
    {
     "name": "stdout",
     "output_type": "stream",
     "text": [
      "<class 'pandas.core.frame.DataFrame'>\n",
      "RangeIndex: 10000 entries, 0 to 9999\n",
      "Data columns (total 12 columns):\n",
      " #   Column            Non-Null Count  Dtype  \n",
      "---  ------            --------------  -----  \n",
      " 0   credit_score      10000 non-null  int64  \n",
      " 1   age               10000 non-null  int64  \n",
      " 2   tenure            10000 non-null  int64  \n",
      " 3   balance           10000 non-null  float64\n",
      " 4   num_of_products   10000 non-null  int64  \n",
      " 5   has_cr_card       10000 non-null  int64  \n",
      " 6   is_active_member  10000 non-null  int64  \n",
      " 7   estimated_salary  10000 non-null  float64\n",
      " 8   exited            10000 non-null  int64  \n",
      " 9   Male              10000 non-null  uint8  \n",
      " 10  Germany           10000 non-null  uint8  \n",
      " 11  Spain             10000 non-null  uint8  \n",
      "dtypes: float64(2), int64(7), uint8(3)\n",
      "memory usage: 732.5 KB\n"
     ]
    }
   ],
   "source": [
    "data.info()"
   ]
  },
  {
   "cell_type": "markdown",
   "metadata": {},
   "source": [
    "Выводы по предобработке:\n",
    "- Удалили ненеужные переменные;\n",
    "- Заполнили пропуски медианным значением;\n",
    "- Изменили названия столбцов;\n",
    "- Применили прямое кодирование к двум стобцам.\n",
    "  \n",
    "Всего в итоге получилось 12 переменных. Из изначальных 14 мы убрали три ненужных (11), а после кодирования мы убрали два столбца (9), которые кодировали и добавили три уже закодированных (12). "
   ]
  },
  {
   "cell_type": "markdown",
   "metadata": {},
   "source": [
    "## Исследование задачи"
   ]
  },
  {
   "cell_type": "markdown",
   "metadata": {},
   "source": [
    "### Деление на выборки"
   ]
  },
  {
   "cell_type": "markdown",
   "metadata": {},
   "source": [
    "Сначала мы создаём переменные со всеми признаками и с целевым признаков, а также делим данные на обучающую, тестовую и валидационную выборки."
   ]
  },
  {
   "cell_type": "code",
   "execution_count": 14,
   "metadata": {},
   "outputs": [
    {
     "name": "stdout",
     "output_type": "stream",
     "text": [
      "(6000, 11)\n",
      "(6000,)\n",
      "(2000, 11)\n",
      "(2000,)\n",
      "(2000, 11)\n",
      "(2000,)\n"
     ]
    }
   ],
   "source": [
    "#создаём переменные для всех признаков и целевого признака\n",
    "features = data.drop(['exited'], axis=1)\n",
    "target = data['exited']\n",
    "\n",
    "#разделяем данные на обучающую и валидационную выборки в соотношении 60/40\n",
    "features_train, features_valid, target_train, target_valid = train_test_split(features, target, \n",
    "                                                                              test_size=0.4, random_state=12345)\n",
    "\n",
    "#разделяем валидационную выборку на валидационную и тестовую в соотношении 20/20\n",
    "features_test, features_valid, target_test, target_valid = train_test_split(features_valid, target_valid, \n",
    "                                                                            test_size=0.5, random_state=12345)\n",
    "\n",
    "#размеры итоговых выборок\n",
    "for i in [features_train, target_train, features_valid, target_valid, features_test, target_test]:\n",
    "    print(i.shape)"
   ]
  },
  {
   "cell_type": "markdown",
   "metadata": {},
   "source": [
    "### Изучение дисбаланса"
   ]
  },
  {
   "cell_type": "code",
   "execution_count": 15,
   "metadata": {},
   "outputs": [
    {
     "data": {
      "text/plain": [
       "0    0.800667\n",
       "1    0.199333\n",
       "Name: exited, dtype: float64"
      ]
     },
     "execution_count": 15,
     "metadata": {},
     "output_type": "execute_result"
    }
   ],
   "source": [
    "target_train.value_counts(normalize = 1)"
   ]
  },
  {
   "cell_type": "code",
   "execution_count": 16,
   "metadata": {},
   "outputs": [
    {
     "data": {
      "text/plain": [
       "<AxesSubplot:ylabel='Frequency'>"
      ]
     },
     "execution_count": 16,
     "metadata": {},
     "output_type": "execute_result"
    },
    {
     "data": {
      "image/png": "[encoded data removed]",
      "text/plain": [
       "<Figure size 432x432 with 1 Axes>"
      ]
     },
     "metadata": {
      "needs_background": "light"
     },
     "output_type": "display_data"
    }
   ],
   "source": [
    "target_train.plot(kind ='hist', bins=2, figsize=(6,6))"
   ]
  },
  {
   "cell_type": "markdown",
   "metadata": {},
   "source": [
    "Можно сделать вывод о том, что дисбаланс есть: около 80% данных это нули. Для начала посмотрим на работу моделей без учёта дисбаланса, а далее уже будем с ним бороться."
   ]
  },
  {
   "cell_type": "markdown",
   "metadata": {},
   "source": [
    "### Обучение моделей без учёта дисбаланса классов"
   ]
  },
  {
   "cell_type": "markdown",
   "metadata": {},
   "source": [
    "#### Логистическая регрессия"
   ]
  },
  {
   "cell_type": "code",
   "execution_count": 17,
   "metadata": {},
   "outputs": [
    {
     "name": "stdout",
     "output_type": "stream",
     "text": [
      "Время выполнения кода: 0.04294443130493164 сек.\n",
      "Accuracy_log: 0.7875\n",
      "Recall_log: 0.07801418439716312\n",
      "Precision_log: 0.4852941176470588\n",
      "F1_log: 0.13441955193482688\n",
      "AUC-ROC_log: 0.6407713721627831\n"
     ]
    }
   ],
   "source": [
    "start_time = time.time()\n",
    "\n",
    "model_log = LogisticRegression(random_state=12345, solver='liblinear')\n",
    "model_log.fit(features_train, target_train)\n",
    "predictions_valid_log = model_log.predict(features_valid)\n",
    "\n",
    "print('Время выполнения кода:', (time.time() - start_time), 'сек.')\n",
    "print(\"Accuracy_log:\", accuracy_score(target_valid, predictions_valid_log))\n",
    "print(\"Recall_log:\", recall_score(target_valid, predictions_valid_log))\n",
    "print(\"Precision_log:\", precision_score(target_valid, predictions_valid_log))\n",
    "print(\"F1_log:\", f1_score(target_valid, predictions_valid_log))\n",
    "\n",
    "probabilities_valid = model_log.predict_proba(features_valid)\n",
    "probabilities_one_valid = probabilities_valid[:, 1]\n",
    "print(\"AUC-ROC_log:\", roc_auc_score(target_valid, probabilities_one_valid))"
   ]
  },
  {
   "cell_type": "markdown",
   "metadata": {},
   "source": [
    "#### Дерево решений"
   ]
  },
  {
   "cell_type": "code",
   "execution_count": 18,
   "metadata": {},
   "outputs": [
    {
     "name": "stdout",
     "output_type": "stream",
     "text": [
      "Оптимальная глубина дерева = 6\n",
      "Качество модели -  0.5311203319502075\n",
      "Время выполнения кода =  0.2529935836791992 сек.\n"
     ]
    }
   ],
   "source": [
    "start_time = time.time()\n",
    "\n",
    "best_model = None\n",
    "best_f1 = 0\n",
    "for depth in range(1, 10):\n",
    "    model_tree = DecisionTreeClassifier(random_state=12345, max_depth=depth)\n",
    "    model_tree.fit(features_train, target_train)\n",
    "    predictions_valid_tree = model_tree.predict(features_valid)\n",
    "    f1_tree = f1_score(target_valid, predictions_valid_tree)\n",
    "    if f1_tree > best_f1:\n",
    "        best_model = model_tree\n",
    "        best_depth = depth\n",
    "        best_f1 = f1_tree\n",
    "\n",
    "print('Оптимальная глубина дерева =', best_depth) \n",
    "print('Качество модели - ', f1_tree)\n",
    "print('Время выполнения кода = ', (time.time() - start_time), 'сек.')"
   ]
  },
  {
   "cell_type": "code",
   "execution_count": 19,
   "metadata": {},
   "outputs": [
    {
     "name": "stdout",
     "output_type": "stream",
     "text": [
      "Accuracy_tree: 0.8485\n",
      "Recall_tree: 0.41371158392434987\n",
      "Precision_tree: 0.7608695652173914\n",
      "F1_tree: 0.5359877488514548\n",
      "AUC-ROC_tree: 0.8418061945430099\n"
     ]
    }
   ],
   "source": [
    "#модель с оптимальными значениями гиперпараметров\n",
    "model_tree = DecisionTreeClassifier(random_state=12345, max_depth=6)\n",
    "model_tree.fit(features_train, target_train)\n",
    "predictions_valid_tree = model_tree.predict(features_valid)\n",
    "\n",
    "print(\"Accuracy_tree:\", accuracy_score(target_valid, predictions_valid_tree))\n",
    "print(\"Recall_tree:\", recall_score(target_valid, predictions_valid_tree))\n",
    "print(\"Precision_tree:\", precision_score(target_valid, predictions_valid_tree))\n",
    "print(\"F1_tree:\", f1_score(target_valid, predictions_valid_tree))\n",
    "\n",
    "probabilities_valid = model_tree.predict_proba(features_valid)\n",
    "probabilities_one_valid = probabilities_valid[:, 1]\n",
    "print(\"AUC-ROC_tree:\", roc_auc_score(target_valid, probabilities_one_valid))"
   ]
  },
  {
   "cell_type": "markdown",
   "metadata": {},
   "source": [
    "#### Случайный лес"
   ]
  },
  {
   "cell_type": "code",
   "execution_count": 20,
   "metadata": {},
   "outputs": [
    {
     "name": "stdout",
     "output_type": "stream",
     "text": [
      "Оптимальное количество деревьев = 60\n",
      "Оптимальная глубина дерева = 9\n",
      "Качество модели -  0.5273010920436818\n",
      "Время выполнения кода =  20.25062131881714 сек.\n"
     ]
    }
   ],
   "source": [
    "#случайный лес\n",
    "start_time = time.time()\n",
    "\n",
    "best_model = None\n",
    "best_f1 = 0\n",
    "for est in range(10, 101, 10):\n",
    "    for depth in range(1, 10):\n",
    "        model_forest = RandomForestClassifier(random_state=12345, n_estimators=est, max_depth=depth)\n",
    "        model_forest.fit(features_train, target_train)\n",
    "        predictions_valid_forest = model_forest.predict(features_valid)\n",
    "        f1_forest = f1_score(target_valid, predictions_valid_forest)\n",
    "        if f1_forest > best_f1:\n",
    "            best_model = model_forest\n",
    "            best_est = est\n",
    "            best_depth = depth\n",
    "            best_f1 = f1_forest\n",
    "\n",
    "print('Оптимальное количество деревьев =', best_est)\n",
    "print('Оптимальная глубина дерева =', best_depth)\n",
    "print('Качество модели - ', best_f1)\n",
    "print('Время выполнения кода = ', (time.time() - start_time), 'сек.')"
   ]
  },
  {
   "cell_type": "code",
   "execution_count": 21,
   "metadata": {},
   "outputs": [
    {
     "name": "stdout",
     "output_type": "stream",
     "text": [
      "Accuracy_forest: 0.8485\n",
      "Recall_forest: 0.39952718676122934\n",
      "Precision_forest: 0.7752293577981652\n",
      "F1_forest: 0.5273010920436818\n",
      "AUC-ROC_forest: 0.8548985040572893\n"
     ]
    }
   ],
   "source": [
    "#модель с оптимальными значениями гиперпараметров\n",
    "model_forest = RandomForestClassifier(random_state=12345, n_estimators=60, max_depth=9)\n",
    "model_forest.fit(features_train, target_train)\n",
    "predictions_valid_forest = model_forest.predict(features_valid)\n",
    "\n",
    "print(\"Accuracy_forest:\", accuracy_score(target_valid, predictions_valid_forest))\n",
    "print(\"Recall_forest:\", recall_score(target_valid, predictions_valid_forest))\n",
    "print(\"Precision_forest:\", precision_score(target_valid, predictions_valid_forest))\n",
    "print(\"F1_forest:\", f1_score(target_valid, predictions_valid_forest))\n",
    "\n",
    "probabilities_valid = model_forest.predict_proba(features_valid)\n",
    "probabilities_one_valid = probabilities_valid[:, 1]\n",
    "print(\"AUC-ROC_forest:\", roc_auc_score(target_valid, probabilities_one_valid))"
   ]
  },
  {
   "cell_type": "markdown",
   "metadata": {},
   "source": [
    "Без учёта дисбалансов класса метрика F1 у моделей вышла следующая:\n",
    "   - Логистическая регрессия: 0.13\n",
    "   - Дерево решений: 0.54\n",
    "   - Случайный лес: 0.53\n",
    "  \n",
    "Лучшие результаты показало дерево решений и случайный лес, логистическая регрессия показала себя намного хуже. Посмотрим на матрицы ошибок для полученных моделей. Во всех трёх случаях AUC-ROC оказался больше F1."
   ]
  },
  {
   "cell_type": "code",
   "execution_count": 22,
   "metadata": {},
   "outputs": [
    {
     "data": {
      "image/png": "[encoded data removed]",
      "text/plain": [
       "<Figure size 432x288 with 2 Axes>"
      ]
     },
     "metadata": {
      "needs_background": "light"
     },
     "output_type": "display_data"
    },
    {
     "data": {
      "image/png": "[encoded data removed]",
      "text/plain": [
       "<Figure size 432x288 with 2 Axes>"
      ]
     },
     "metadata": {
      "needs_background": "light"
     },
     "output_type": "display_data"
    },
    {
     "data": {
      "image/png": "[encoded data removed]",
      "text/plain": [
       "<Figure size 432x288 with 2 Axes>"
      ]
     },
     "metadata": {
      "needs_background": "light"
     },
     "output_type": "display_data"
    }
   ],
   "source": [
    "#логистическая регрессия\n",
    "plot_confusion_matrix(estimator=model_log, X=features_valid, y_true=target_valid,\n",
    "                      normalize='true', cmap='BuPu')\n",
    "#дерево решений\n",
    "plot_confusion_matrix(estimator=model_tree, X=features_valid, y_true=target_valid,\n",
    "                      normalize='true', cmap='BuPu')\n",
    "#случайный лес\n",
    "plot_confusion_matrix(estimator=model_forest, X=features_valid, y_true=target_valid,\n",
    "                      normalize='true', cmap='BuPu');"
   ]
  },
  {
   "cell_type": "markdown",
   "metadata": {},
   "source": [
    "**Выводы**"
   ]
  },
  {
   "cell_type": "markdown",
   "metadata": {},
   "source": [
    "Несмотря на высокие значения метрики accuracy у всех трёх моделей, по мтарицам ошибок видно, что модели плохо определяют значения. Так дерево решений и случайный лес справляются лучше логистической регрессии. Они в 97% случаев определяют то, что клиент остался, при этом результат предсказаний по факту ухода в среднем всего 40%."
   ]
  },
  {
   "cell_type": "markdown",
   "metadata": {},
   "source": [
    "## Борьба с дисбалансом"
   ]
  },
  {
   "cell_type": "markdown",
   "metadata": {},
   "source": [
    "Для борьбы с дисбалансом рассмотрим метрики наших трёх моделей при трёх методах:\n",
    " - Взвешивание классов;\n",
    " - Увеличение выборки;\n",
    " - Уменьшение выборки."
   ]
  },
  {
   "cell_type": "markdown",
   "metadata": {},
   "source": [
    "### Взвешивание классов"
   ]
  },
  {
   "cell_type": "markdown",
   "metadata": {},
   "source": [
    "#### Логистическая регрессия"
   ]
  },
  {
   "cell_type": "code",
   "execution_count": 23,
   "metadata": {},
   "outputs": [
    {
     "name": "stdout",
     "output_type": "stream",
     "text": [
      "Время выполнения кода: 0.0433201789855957 сек.\n",
      "Recall_log: 0.6359338061465721\n",
      "Precision_log: 0.32292917166866747\n",
      "F1_log: 0.42834394904458606\n",
      "AUC-ROC_log: 0.6856646443931755\n"
     ]
    }
   ],
   "source": [
    "start_time = time.time()\n",
    "\n",
    "model_log = LogisticRegression(random_state=12345, solver='liblinear', class_weight='balanced')\n",
    "model_log.fit(features_train, target_train)\n",
    "predictions_valid_log = model_log.predict(features_valid)\n",
    "\n",
    "print('Время выполнения кода:', (time.time() - start_time), 'сек.')\n",
    "print(\"Recall_log:\", recall_score(target_valid, predictions_valid_log))\n",
    "print(\"Precision_log:\", precision_score(target_valid, predictions_valid_log))\n",
    "print(\"F1_log:\", f1_score(target_valid, predictions_valid_log))\n",
    "\n",
    "probabilities_valid = model_log.predict_proba(features_valid)\n",
    "probabilities_one_valid = probabilities_valid[:, 1]\n",
    "print(\"AUC-ROC_log:\", roc_auc_score(target_valid, probabilities_one_valid))"
   ]
  },
  {
   "cell_type": "markdown",
   "metadata": {},
   "source": [
    "#### Дерево решений"
   ]
  },
  {
   "cell_type": "code",
   "execution_count": 24,
   "metadata": {},
   "outputs": [
    {
     "name": "stdout",
     "output_type": "stream",
     "text": [
      "Оптимальная глубина дерева = 5\n",
      "Качество модели -  0.5809128630705395\n",
      "Время выполнения кода =  0.3290565013885498 сек.\n"
     ]
    }
   ],
   "source": [
    "start_time = time.time()\n",
    "\n",
    "best_model = None\n",
    "best_f1 = 0\n",
    "for depth in range(1, 10):\n",
    "    model_tree = DecisionTreeClassifier(random_state=12345, max_depth=depth, class_weight='balanced')\n",
    "    model_tree.fit(features_train, target_train)\n",
    "    predictions_valid_tree = model_tree.predict(features_valid)\n",
    "    f1_tree = f1_score(target_valid, predictions_valid_tree)\n",
    "    if f1_tree > best_f1:\n",
    "        best_model = model_tree\n",
    "        best_depth = depth\n",
    "        best_f1 = f1_tree\n",
    "\n",
    "print('Оптимальная глубина дерева =', best_depth) \n",
    "print('Качество модели - ', best_f1)\n",
    "print('Время выполнения кода = ', (time.time() - start_time), 'сек.')"
   ]
  },
  {
   "cell_type": "code",
   "execution_count": 25,
   "metadata": {},
   "outputs": [
    {
     "name": "stdout",
     "output_type": "stream",
     "text": [
      "Recall_tree: 0.6619385342789598\n",
      "Precision_tree: 0.5175600739371534\n",
      "F1_tree: 0.5809128630705395\n",
      "AUC-ROC_tree: 0.8355347481752318\n"
     ]
    }
   ],
   "source": [
    "#модель с оптимальными значениями гиперпараметров\n",
    "model_tree = DecisionTreeClassifier(random_state=12345, max_depth=5, class_weight='balanced')\n",
    "model_tree.fit(features_train, target_train)\n",
    "predictions_valid_tree = model_tree.predict(features_valid)\n",
    "\n",
    "print(\"Recall_tree:\", recall_score(target_valid, predictions_valid_tree))\n",
    "print(\"Precision_tree:\", precision_score(target_valid, predictions_valid_tree))\n",
    "print(\"F1_tree:\", f1_score(target_valid, predictions_valid_tree))\n",
    "\n",
    "probabilities_valid = model_tree.predict_proba(features_valid)\n",
    "probabilities_one_valid = probabilities_valid[:, 1]\n",
    "print(\"AUC-ROC_tree:\", roc_auc_score(target_valid, probabilities_one_valid))"
   ]
  },
  {
   "cell_type": "markdown",
   "metadata": {},
   "source": [
    "#### Случайный лес"
   ]
  },
  {
   "cell_type": "code",
   "execution_count": 26,
   "metadata": {},
   "outputs": [
    {
     "name": "stdout",
     "output_type": "stream",
     "text": [
      "Оптимальное количество деревьев = 60\n",
      "Оптимальная глубина дерева = 8\n",
      "Качество модели -  0.6214209968186638\n",
      "Время выполнения кода =  19.862173795700073 сек.\n"
     ]
    }
   ],
   "source": [
    "#случайный лес\n",
    "start_time = time.time()\n",
    "\n",
    "best_model = None\n",
    "best_f1 = 0\n",
    "for est in range(10, 101, 10):\n",
    "    for depth in range(1, 10):\n",
    "        model_forest = RandomForestClassifier(random_state=12345, n_estimators=est, max_depth=depth, class_weight='balanced')\n",
    "        model_forest.fit(features_train, target_train)\n",
    "        predictions_valid_forest = model_forest.predict(features_valid)\n",
    "        f1_forest = f1_score(target_valid, predictions_valid_forest)\n",
    "        if f1_forest > best_f1:\n",
    "            best_model = model_forest\n",
    "            best_est = est\n",
    "            best_depth = depth\n",
    "            best_f1 = f1_forest\n",
    "\n",
    "print('Оптимальное количество деревьев =', best_est)\n",
    "print('Оптимальная глубина дерева =', best_depth)\n",
    "print('Качество модели - ', best_f1)\n",
    "print('Время выполнения кода = ', (time.time() - start_time), 'сек.')"
   ]
  },
  {
   "cell_type": "code",
   "execution_count": 27,
   "metadata": {},
   "outputs": [
    {
     "name": "stdout",
     "output_type": "stream",
     "text": [
      "Recall_forest: 0.6926713947990544\n",
      "Precision_forest: 0.5634615384615385\n",
      "F1_forest: 0.6214209968186638\n",
      "AUC-ROC_forest: 0.8556570440028124\n"
     ]
    }
   ],
   "source": [
    "#модель с оптимальными значениями гиперпараметров\n",
    "model_forest = RandomForestClassifier(random_state=12345, n_estimators=60, max_depth=8, class_weight='balanced')\n",
    "model_forest.fit(features_train, target_train)\n",
    "predictions_valid_forest = model_forest.predict(features_valid)\n",
    "\n",
    "print(\"Recall_forest:\", recall_score(target_valid, predictions_valid_forest))\n",
    "print(\"Precision_forest:\", precision_score(target_valid, predictions_valid_forest))\n",
    "print(\"F1_forest:\", f1_score(target_valid, predictions_valid_forest))\n",
    "\n",
    "probabilities_valid = model_forest.predict_proba(features_valid)\n",
    "probabilities_one_valid = probabilities_valid[:, 1]\n",
    "print(\"AUC-ROC_forest:\", roc_auc_score(target_valid, probabilities_one_valid))"
   ]
  },
  {
   "cell_type": "markdown",
   "metadata": {},
   "source": [
    "### Увеличение выборки "
   ]
  },
  {
   "cell_type": "code",
   "execution_count": 28,
   "metadata": {},
   "outputs": [
    {
     "name": "stdout",
     "output_type": "stream",
     "text": [
      "(9588, 11)\n",
      "(9588,)\n"
     ]
    }
   ],
   "source": [
    "# увеличим выборку в 4 раза, так как соотношение 80 к 20\n",
    "def upsample(features, target, repeat):\n",
    "    features_zeros = features[target == 0]\n",
    "    features_ones = features[target == 1]\n",
    "    target_zeros = target[target == 0]\n",
    "    target_ones = target[target == 1]\n",
    "    \n",
    "    features_upsampled = pd.concat([features_zeros] + [features_ones] * repeat)\n",
    "    target_upsampled = pd.concat([target_zeros] + [target_ones] * repeat)\n",
    "    \n",
    "    features_upsampled = shuffle(features_upsampled, random_state=12345)\n",
    "    target_upsampled = shuffle(target_upsampled, random_state=12345)\n",
    "    return features_upsampled, target_upsampled\n",
    "\n",
    "features_upsampled, target_upsampled = upsample(features_train, target_train, 4)\n",
    "\n",
    "print(features_upsampled.shape)\n",
    "print(target_upsampled.shape)"
   ]
  },
  {
   "cell_type": "markdown",
   "metadata": {},
   "source": [
    "#### Логистическая регрессия"
   ]
  },
  {
   "cell_type": "code",
   "execution_count": 29,
   "metadata": {},
   "outputs": [
    {
     "name": "stdout",
     "output_type": "stream",
     "text": [
      "Время выполнения кода: 0.0609738826751709 сек.\n",
      "Recall_log: 0.6359338061465721\n",
      "Precision_log: 0.3248792270531401\n",
      "F1_log: 0.43005595523581136\n",
      "AUC-ROC_log: 0.6855702016726856\n"
     ]
    }
   ],
   "source": [
    "start_time = time.time()\n",
    "\n",
    "model_log = LogisticRegression(random_state=12345, solver='liblinear')\n",
    "model_log.fit(features_upsampled, target_upsampled)\n",
    "predictions_valid_log = model_log.predict(features_valid)\n",
    "\n",
    "print('Время выполнения кода:', (time.time() - start_time), 'сек.')\n",
    "print(\"Recall_log:\", recall_score(target_valid, predictions_valid_log))\n",
    "print(\"Precision_log:\", precision_score(target_valid, predictions_valid_log))\n",
    "print(\"F1_log:\", f1_score(target_valid, predictions_valid_log))\n",
    "\n",
    "probabilities_valid = model_log.predict_proba(features_valid)\n",
    "probabilities_one_valid = probabilities_valid[:, 1]\n",
    "print(\"AUC-ROC_log:\", roc_auc_score(target_valid, probabilities_one_valid))"
   ]
  },
  {
   "cell_type": "markdown",
   "metadata": {},
   "source": [
    "#### Дерево решений"
   ]
  },
  {
   "cell_type": "code",
   "execution_count": 30,
   "metadata": {},
   "outputs": [
    {
     "name": "stdout",
     "output_type": "stream",
     "text": [
      "Оптимальная глубина дерева = 5\n",
      "Качество модели -  0.5809128630705395\n",
      "Время выполнения кода =  0.2779254913330078 сек.\n"
     ]
    }
   ],
   "source": [
    "start_time = time.time()\n",
    "\n",
    "best_model = None\n",
    "best_f1 = 0\n",
    "for depth in range(1, 10):\n",
    "    model_tree = DecisionTreeClassifier(random_state=12345, max_depth=depth)\n",
    "    model_tree.fit(features_upsampled, target_upsampled)\n",
    "    predictions_valid_tree = model_tree.predict(features_valid)\n",
    "    f1_tree = f1_score(target_valid, predictions_valid_tree)\n",
    "    if f1_tree > best_f1:\n",
    "        best_model = model_tree\n",
    "        best_depth = depth\n",
    "        best_f1 = f1_tree\n",
    "\n",
    "print('Оптимальная глубина дерева =', best_depth) \n",
    "print('Качество модели - ', best_f1)\n",
    "print('Время выполнения кода = ', (time.time() - start_time), 'сек.')"
   ]
  },
  {
   "cell_type": "code",
   "execution_count": 31,
   "metadata": {},
   "outputs": [
    {
     "name": "stdout",
     "output_type": "stream",
     "text": [
      "Recall_tree: 0.6619385342789598\n",
      "Precision_tree: 0.5175600739371534\n",
      "F1_tree: 0.5809128630705395\n",
      "AUC-ROC_tree: 0.8355347481752318\n"
     ]
    }
   ],
   "source": [
    "#модель с оптимальными значениями гиперпараметров\n",
    "model_tree = DecisionTreeClassifier(random_state=12345, max_depth=5)\n",
    "model_tree.fit(features_upsampled, target_upsampled)\n",
    "predictions_valid_tree = model_tree.predict(features_valid)\n",
    "\n",
    "print(\"Recall_tree:\", recall_score(target_valid, predictions_valid_tree))\n",
    "print(\"Precision_tree:\", precision_score(target_valid, predictions_valid_tree))\n",
    "print(\"F1_tree:\", f1_score(target_valid, predictions_valid_tree))\n",
    "\n",
    "probabilities_valid = model_tree.predict_proba(features_valid)\n",
    "probabilities_one_valid = probabilities_valid[:, 1]\n",
    "print(\"AUC-ROC_tree:\", roc_auc_score(target_valid, probabilities_one_valid))"
   ]
  },
  {
   "cell_type": "markdown",
   "metadata": {},
   "source": [
    "#### Случайный лес"
   ]
  },
  {
   "cell_type": "code",
   "execution_count": 32,
   "metadata": {},
   "outputs": [
    {
     "name": "stdout",
     "output_type": "stream",
     "text": [
      "Оптимальное количество деревьев = 100\n",
      "Оптимальная глубина дерева = 9\n",
      "Качество модели -  0\n",
      "Время выполнения кода =  27.190986156463623 сек.\n"
     ]
    }
   ],
   "source": [
    "start_time = time.time()\n",
    "\n",
    "best_model = None\n",
    "best_f1 = 0\n",
    "for est in range(10, 101, 10):\n",
    "    for depth in range(1, 10):\n",
    "        model_forest = RandomForestClassifier(random_state=12345, n_estimators=est, max_depth=depth)\n",
    "        model_forest.fit(features_upsampled, target_upsampled)\n",
    "        predictions_valid_forest = model_forest.predict(features_valid)\n",
    "        f1_forest = f1_score(target_valid, predictions_valid_forest)\n",
    "        if f1_forest > best_f1:\n",
    "            best_model = model_forest\n",
    "            best_est = est\n",
    "            best_depth = depth\n",
    "\n",
    "print('Оптимальное количество деревьев =', best_est)\n",
    "print('Оптимальная глубина дерева =', best_depth)\n",
    "print('Качество модели - ', best_f1)\n",
    "print('Время выполнения кода = ', (time.time() - start_time), 'сек.')"
   ]
  },
  {
   "cell_type": "code",
   "execution_count": 33,
   "metadata": {},
   "outputs": [
    {
     "name": "stdout",
     "output_type": "stream",
     "text": [
      "Recall_forest: 0.6855791962174941\n",
      "Precision_forest: 0.5282331511839709\n",
      "F1_forest: 0.5967078189300412\n",
      "AUC-ROC_forest: 0.8582549683616886\n"
     ]
    }
   ],
   "source": [
    "#модель с оптимальными значениями гиперпараметров\n",
    "model_forest = RandomForestClassifier(random_state=12345, n_estimators=100, max_depth=9)\n",
    "model_forest.fit(features_upsampled, target_upsampled)\n",
    "predictions_valid_forest = model_forest.predict(features_valid)\n",
    "\n",
    "print(\"Recall_forest:\", recall_score(target_valid, predictions_valid_forest))\n",
    "print(\"Precision_forest:\", precision_score(target_valid, predictions_valid_forest))\n",
    "print(\"F1_forest:\", f1_score(target_valid, predictions_valid_forest))\n",
    "\n",
    "probabilities_valid = model_forest.predict_proba(features_valid)\n",
    "probabilities_one_valid = probabilities_valid[:, 1]\n",
    "print(\"AUC-ROC_forest:\", roc_auc_score(target_valid, probabilities_one_valid))"
   ]
  },
  {
   "cell_type": "markdown",
   "metadata": {},
   "source": [
    "### Уменьшение выборки "
   ]
  },
  {
   "cell_type": "code",
   "execution_count": 34,
   "metadata": {},
   "outputs": [
    {
     "name": "stdout",
     "output_type": "stream",
     "text": [
      "(2397, 11)\n",
      "(2397,)\n"
     ]
    }
   ],
   "source": [
    "# уменьшим выборку в 4 раза, также руководствуясь соотношением 80 к 20\n",
    "def downsample(features, target, fraction):\n",
    "    features_zeros = features[target == 0]\n",
    "    features_ones = features[target == 1]\n",
    "    target_zeros = target[target == 0]\n",
    "    target_ones = target[target == 1]\n",
    "\n",
    "    features_downsampled = pd.concat([features_zeros.sample(frac=fraction, random_state=12345)] + [features_ones])\n",
    "    target_downsampled = pd.concat([target_zeros.sample(frac=fraction, random_state=12345)] + [target_ones])\n",
    "    \n",
    "    features_downsampled = shuffle(features_downsampled, random_state=12345)\n",
    "    target_downsampled = shuffle(target_downsampled, random_state=12345)\n",
    "    return features_downsampled, target_downsampled\n",
    "\n",
    "features_downsampled, target_downsampled = downsample(features_train, target_train, 0.25)\n",
    "\n",
    "print(features_downsampled.shape)\n",
    "print(target_downsampled.shape)"
   ]
  },
  {
   "cell_type": "markdown",
   "metadata": {},
   "source": [
    "#### Логистическая регрессия"
   ]
  },
  {
   "cell_type": "code",
   "execution_count": 35,
   "metadata": {},
   "outputs": [
    {
     "name": "stdout",
     "output_type": "stream",
     "text": [
      "Время выполнения кода: 0.013717174530029297 сек.\n",
      "Recall_log: 0.640661938534279\n",
      "Precision_log: 0.3288834951456311\n",
      "F1_log: 0.43464314354450684\n",
      "AUC-ROC_log: 0.6943953492206978\n"
     ]
    }
   ],
   "source": [
    "start_time = time.time()\n",
    "\n",
    "model_log = LogisticRegression(random_state=12345, solver='liblinear')\n",
    "model_log.fit(features_downsampled, target_downsampled)\n",
    "predictions_valid_log = model_log.predict(features_valid)\n",
    "\n",
    "print('Время выполнения кода:', (time.time() - start_time), 'сек.')\n",
    "print(\"Recall_log:\", recall_score(target_valid, predictions_valid_log))\n",
    "print(\"Precision_log:\", precision_score(target_valid, predictions_valid_log))\n",
    "print(\"F1_log:\", f1_score(target_valid, predictions_valid_log))\n",
    "\n",
    "probabilities_valid = model_log.predict_proba(features_valid)\n",
    "probabilities_one_valid = probabilities_valid[:, 1]\n",
    "print(\"AUC-ROC_log:\", roc_auc_score(target_valid, probabilities_one_valid))"
   ]
  },
  {
   "cell_type": "markdown",
   "metadata": {},
   "source": [
    "#### Дерево решений"
   ]
  },
  {
   "cell_type": "code",
   "execution_count": 36,
   "metadata": {},
   "outputs": [
    {
     "name": "stdout",
     "output_type": "stream",
     "text": [
      "Оптимальная глубина дерева = 5\n",
      "Качество модели -  0.554945054945055\n",
      "Время выполнения кода =  0.17252278327941895 сек.\n"
     ]
    }
   ],
   "source": [
    "start_time = time.time()\n",
    "\n",
    "best_model = None\n",
    "best_f1 = 0\n",
    "for depth in range(1, 10):\n",
    "    model_tree = DecisionTreeClassifier(random_state=12345, max_depth=depth)\n",
    "    model_tree.fit(features_downsampled, target_downsampled)\n",
    "    predictions_valid_tree = model_tree.predict(features_valid)\n",
    "    f1_tree = f1_score(target_valid, predictions_valid_tree)\n",
    "    if f1_tree > best_f1:\n",
    "        best_model = model_tree\n",
    "        best_depth = depth\n",
    "        best_f1 = f1_tree\n",
    "\n",
    "print('Оптимальная глубина дерева =', best_depth) \n",
    "print('Качество модели - ', f1_tree)\n",
    "print('Время выполнения кода = ', (time.time() - start_time), 'сек.')"
   ]
  },
  {
   "cell_type": "code",
   "execution_count": 37,
   "metadata": {},
   "outputs": [
    {
     "name": "stdout",
     "output_type": "stream",
     "text": [
      "Recall_tree: 0.6950354609929078\n",
      "Precision_tree: 0.5424354243542435\n",
      "F1_tree: 0.6093264248704664\n",
      "AUC-ROC_tree: 0.8389699147467062\n"
     ]
    }
   ],
   "source": [
    "#модель с оптимальными значениями гиперпараметров\n",
    "model_tree = DecisionTreeClassifier(random_state=12345, max_depth=5)\n",
    "model_tree.fit(features_downsampled, target_downsampled)\n",
    "predictions_valid_tree = model_tree.predict(features_valid)\n",
    "\n",
    "print(\"Recall_tree:\", recall_score(target_valid, predictions_valid_tree))\n",
    "print(\"Precision_tree:\", precision_score(target_valid, predictions_valid_tree))\n",
    "print(\"F1_tree:\", f1_score(target_valid, predictions_valid_tree))\n",
    "\n",
    "probabilities_valid = model_tree.predict_proba(features_valid)\n",
    "probabilities_one_valid = probabilities_valid[:, 1]\n",
    "print(\"AUC-ROC_tree:\", roc_auc_score(target_valid, probabilities_one_valid))"
   ]
  },
  {
   "cell_type": "markdown",
   "metadata": {},
   "source": [
    "#### Случайный лес"
   ]
  },
  {
   "cell_type": "code",
   "execution_count": 38,
   "metadata": {},
   "outputs": [
    {
     "name": "stdout",
     "output_type": "stream",
     "text": [
      "Оптимальное количество деревьев = 100\n",
      "Оптимальная глубина дерева = 9\n",
      "Качество модели -  0\n",
      "Время выполнения кода =  12.563823223114014 сек.\n"
     ]
    }
   ],
   "source": [
    "start_time = time.time()\n",
    "\n",
    "best_model = None\n",
    "best_f1 = 0\n",
    "for est in range(10, 101, 10):\n",
    "    for depth in range(1, 10):\n",
    "        model_forest = RandomForestClassifier(random_state=12345, n_estimators=est, max_depth=depth)\n",
    "        model_forest.fit(features_downsampled, target_downsampled)\n",
    "        predictions_valid_forest = model_forest.predict(features_valid)\n",
    "        f1_forest = f1_score(target_valid, predictions_valid_forest)\n",
    "        if f1_forest > best_f1:\n",
    "            best_model = model_forest\n",
    "            best_est = est\n",
    "            best_depth = depth\n",
    "\n",
    "print('Оптимальное количество деревьев =', best_est)\n",
    "print('Оптимальная глубина дерева =', best_depth)\n",
    "print('Качество модели - ', best_f1)\n",
    "print('Время выполнения кода = ', (time.time() - start_time), 'сек.')"
   ]
  },
  {
   "cell_type": "code",
   "execution_count": 39,
   "metadata": {},
   "outputs": [
    {
     "name": "stdout",
     "output_type": "stream",
     "text": [
      "Recall_forest: 0.6855791962174941\n",
      "Precision_forest: 0.5282331511839709\n",
      "F1_forest: 0.5967078189300412\n",
      "AUC-ROC_forest: 0.8582549683616886\n"
     ]
    }
   ],
   "source": [
    "#модель с оптимальными значениями гиперпараметров\n",
    "model_forest = RandomForestClassifier(random_state=12345, n_estimators=100, max_depth=9)\n",
    "model_forest.fit(features_upsampled, target_upsampled)\n",
    "predictions_valid_forest = model_forest.predict(features_valid)\n",
    "\n",
    "print(\"Recall_forest:\", recall_score(target_valid, predictions_valid_forest))\n",
    "print(\"Precision_forest:\", precision_score(target_valid, predictions_valid_forest))\n",
    "print(\"F1_forest:\", f1_score(target_valid, predictions_valid_forest))\n",
    "\n",
    "probabilities_valid = model_forest.predict_proba(features_valid)\n",
    "probabilities_one_valid = probabilities_valid[:, 1]\n",
    "print(\"AUC-ROC_forest:\", roc_auc_score(target_valid, probabilities_one_valid))"
   ]
  },
  {
   "cell_type": "markdown",
   "metadata": {},
   "source": [
    "### Сравнение результатов"
   ]
  },
  {
   "cell_type": "markdown",
   "metadata": {},
   "source": [
    "Соберём все результаты в один датафрейм"
   ]
  },
  {
   "cell_type": "code",
   "execution_count": 40,
   "metadata": {},
   "outputs": [
    {
     "data": {
      "text/html": [
       "<div>\n",
       "<style scoped>\n",
       "    .dataframe tbody tr th:only-of-type {\n",
       "        vertical-align: middle;\n",
       "    }\n",
       "\n",
       "    .dataframe tbody tr th {\n",
       "        vertical-align: top;\n",
       "    }\n",
       "\n",
       "    .dataframe thead th {\n",
       "        text-align: right;\n",
       "    }\n",
       "</style>\n",
       "<table border=\"1\" class=\"dataframe\">\n",
       "  <thead>\n",
       "    <tr style=\"text-align: right;\">\n",
       "      <th></th>\n",
       "      <th>model</th>\n",
       "      <th>initial</th>\n",
       "      <th>weigting</th>\n",
       "      <th>upsample</th>\n",
       "      <th>downsample</th>\n",
       "    </tr>\n",
       "  </thead>\n",
       "  <tbody>\n",
       "    <tr>\n",
       "      <th>0</th>\n",
       "      <td>logistic_regression</td>\n",
       "      <td>0.13</td>\n",
       "      <td>0.43</td>\n",
       "      <td>0.43</td>\n",
       "      <td>0.43</td>\n",
       "    </tr>\n",
       "    <tr>\n",
       "      <th>1</th>\n",
       "      <td>decision_tree</td>\n",
       "      <td>0.54</td>\n",
       "      <td>0.58</td>\n",
       "      <td>0.58</td>\n",
       "      <td>0.61</td>\n",
       "    </tr>\n",
       "    <tr>\n",
       "      <th>2</th>\n",
       "      <td>random_forest</td>\n",
       "      <td>0.53</td>\n",
       "      <td>0.62</td>\n",
       "      <td>0.60</td>\n",
       "      <td>0.60</td>\n",
       "    </tr>\n",
       "  </tbody>\n",
       "</table>\n",
       "</div>"
      ],
      "text/plain": [
       "                 model  initial  weigting  upsample  downsample\n",
       "0  logistic_regression     0.13      0.43      0.43        0.43\n",
       "1        decision_tree     0.54      0.58      0.58        0.61\n",
       "2        random_forest     0.53      0.62      0.60        0.60"
      ]
     },
     "execution_count": 40,
     "metadata": {},
     "output_type": "execute_result"
    }
   ],
   "source": [
    "model_name = ['logistic_regression', 'decision_tree', 'random_forest']\n",
    "initial_values = [0.13, 0.54, 0.53]\n",
    "weighting_values = [0.43, 0.58, 0.62]\n",
    "up_values = [0.43, 0.58, 0.6]\n",
    "down_values = [0.43, 0.61, 0.6]\n",
    "\n",
    "\n",
    "data_metrics = pd.DataFrame({'model': model_name,\n",
    "                           'initial': initial_values,\n",
    "                           'weigting': weighting_values,\n",
    "                           'upsample': up_values,\n",
    "                           'downsample': down_values})\n",
    "\n",
    "data_metrics"
   ]
  },
  {
   "cell_type": "markdown",
   "metadata": {},
   "source": [
    "**Выводы:**\n",
    "  \n",
    "Самое высокое значение метрики F1 получилось при использовании случайного леса и балансирования классов, её и будем использовать для теста. AUC-ROC у каждой модели была примерно одинаковой: у логистической регресии около 0.6, у дерева решений и случайного леса чуть больше 0.8, что во всех случаях выше F1."
   ]
  },
  {
   "cell_type": "markdown",
   "metadata": {},
   "source": [
    "## Тестирование модели"
   ]
  },
  {
   "cell_type": "markdown",
   "metadata": {},
   "source": [
    "Для тестирования соединим обучающую и валидационную выборки."
   ]
  },
  {
   "cell_type": "code",
   "execution_count": 41,
   "metadata": {},
   "outputs": [
    {
     "name": "stdout",
     "output_type": "stream",
     "text": [
      "(8000, 11)\n",
      "(8000,)\n"
     ]
    }
   ],
   "source": [
    "features_train_valid = pd.concat([features_train] + [features_valid])\n",
    "target_train_valid = pd.concat([target_train] + [target_valid]) \n",
    "print(features_train_valid.shape)\n",
    "print(target_train_valid.shape)"
   ]
  },
  {
   "cell_type": "markdown",
   "metadata": {},
   "source": [
    "Подбираем параметры и обучаем модель "
   ]
  },
  {
   "cell_type": "code",
   "execution_count": 45,
   "metadata": {},
   "outputs": [
    {
     "name": "stdout",
     "output_type": "stream",
     "text": [
      "Оптимальное количество деревьев = 60\n",
      "Оптимальная глубина дерева = 8\n",
      "Качество модели -  0.6214209968186638\n",
      "Время выполнения кода =  19.128751277923584 сек.\n"
     ]
    }
   ],
   "source": [
    "start_time = time.time()\n",
    "\n",
    "best_model = None\n",
    "best_f1 = 0\n",
    "for est in range(10, 101, 10):\n",
    "    for depth in range(1, 10):\n",
    "        model_forest = RandomForestClassifier(random_state=12345, n_estimators=est, max_depth=depth, class_weight='balanced')\n",
    "        model_forest.fit(features_train, target_train)\n",
    "        predictions_valid_forest = model_forest.predict(features_valid)\n",
    "        f1_forest = f1_score(target_valid, predictions_valid_forest)\n",
    "        if f1_forest > best_f1:\n",
    "            best_model = model_forest\n",
    "            best_est = est\n",
    "            best_depth = depth\n",
    "            best_f1 = f1_forest\n",
    "\n",
    "print('Оптимальное количество деревьев =', best_est)\n",
    "print('Оптимальная глубина дерева =', best_depth)\n",
    "print('Качество модели - ', best_f1)\n",
    "print('Время выполнения кода = ', (time.time() - start_time), 'сек.')"
   ]
  },
  {
   "cell_type": "code",
   "execution_count": 46,
   "metadata": {},
   "outputs": [
    {
     "name": "stdout",
     "output_type": "stream",
     "text": [
      "F1_forest: 0.6197183098591549\n",
      "AUC-ROC_forest: 0.8573696913240463\n"
     ]
    }
   ],
   "source": [
    "#модель с оптимальными значениями гиперпараметров\n",
    "model_forest = RandomForestClassifier(random_state=12345, n_estimators=60, max_depth=8, class_weight='balanced')\n",
    "model_forest.fit(features_train_valid, target_train_valid)\n",
    "predictions_test_forest = model_forest.predict(features_test)\n",
    "\n",
    "print(\"F1_forest:\", f1_score(target_test, predictions_test_forest))\n",
    "\n",
    "probabilities_test = model_forest.predict_proba(features_test)\n",
    "probabilities_one_test = probabilities_test[:, 1]\n",
    "print(\"AUC-ROC_forest:\", roc_auc_score(target_test, probabilities_one_test))"
   ]
  },
  {
   "cell_type": "code",
   "execution_count": 47,
   "metadata": {},
   "outputs": [
    {
     "data": {
      "image/png": "[encoded data removed]",
      "text/plain": [
       "<Figure size 432x288 with 1 Axes>"
      ]
     },
     "metadata": {
      "needs_background": "light"
     },
     "output_type": "display_data"
    }
   ],
   "source": [
    "fpr, tpr, thresholds = roc_curve(target_test, probabilities_one_test) \n",
    "\n",
    "plt.figure()\n",
    "plt.plot(fpr, tpr, linestyle='solid')\n",
    "plt.plot([0, 1], [0, 1], linestyle='--')\n",
    "plt.xlim([0.0, 1.0])\n",
    "plt.ylim([0.0, 1.0])\n",
    "plt.xlabel('False Positive Rate')\n",
    "plt.ylabel('True Positive Rate')\n",
    "plt.title('ROC-кривая')\n",
    "plt.show()"
   ]
  },
  {
   "cell_type": "markdown",
   "metadata": {},
   "source": [
    "## Выводы"
   ]
  },
  {
   "cell_type": "markdown",
   "metadata": {},
   "source": [
    "В рамках предобработки мы:\n",
    "- Удалили ненеужные переменные;\n",
    "- Заполнили пропуски медианным значением;\n",
    "- Изменили названия столбцов;\n",
    "- Применили прямое кодирование к двум стобцам.\n",
    "  \n",
    "Всего в итоге получилось 12 переменных. Из изначальных 14 мы убрали три ненужных (11), а после кодирования мы убрали два столбца (9), которые кодировали и добавили три уже закодированных (12). \n",
    "  \n",
    "Далее мы разделили датафрейм на три выборки для дальнейшей работы. Изучили дисбаланс классов. Факт ухода клиента составил всего 20%, что в 4 раза меньше другой части, где клиенты остались.\n",
    "  \n",
    "С помощью трёх методов борьбы с дисбалансов: взвешивание классво, уменьшение и увеличение выборке. В ходе сравнения метрики F1, мы выяснили, что лучший показатель у случайного леса при балансировке классов (0.62). Стоит отметить, что AUC-ROC во всех случаях оказалась больше F1. С искомой моделью мы построили график в последнем пункте, который визуализирует успешные показатели метрик. \n",
    "  \n",
    "С помощью случайного леса и балансировки классов мы получили на тестовой выборке F1-score 0.63 и AUC-ROC 0.86."
   ]
  }
 ],
 "metadata": {
  "ExecuteTimeLog": [
   {
    "duration": 43,
    "start_time": "2023-09-19T12:43:02.064Z"
   },
   {
    "duration": 1806,
    "start_time": "2023-09-19T12:43:06.965Z"
   },
   {
    "duration": 91,
    "start_time": "2023-09-19T12:43:10.294Z"
   },
   {
    "duration": 62,
    "start_time": "2023-09-19T12:43:20.414Z"
   },
   {
    "duration": 18,
    "start_time": "2023-09-19T12:43:34.606Z"
   },
   {
    "duration": 10,
    "start_time": "2023-09-19T12:48:51.272Z"
   },
   {
    "duration": 4,
    "start_time": "2023-09-19T12:55:43.035Z"
   },
   {
    "duration": 94,
    "start_time": "2023-09-19T12:56:54.613Z"
   },
   {
    "duration": 11,
    "start_time": "2023-09-19T12:57:14.834Z"
   },
   {
    "duration": 3,
    "start_time": "2023-09-19T12:57:20.851Z"
   },
   {
    "duration": 9,
    "start_time": "2023-09-19T12:57:24.022Z"
   },
   {
    "duration": 10,
    "start_time": "2023-09-19T12:57:44.889Z"
   },
   {
    "duration": 10,
    "start_time": "2023-09-19T12:58:36.732Z"
   },
   {
    "duration": 5,
    "start_time": "2023-09-19T12:59:07.755Z"
   },
   {
    "duration": 7,
    "start_time": "2023-09-19T12:59:39.524Z"
   },
   {
    "duration": 6,
    "start_time": "2023-09-19T12:59:58.555Z"
   },
   {
    "duration": 8,
    "start_time": "2023-09-19T13:05:35.395Z"
   },
   {
    "duration": 4,
    "start_time": "2023-09-19T13:06:01.258Z"
   },
   {
    "duration": 3,
    "start_time": "2023-09-19T13:06:08.292Z"
   },
   {
    "duration": 3,
    "start_time": "2023-09-19T13:06:17.772Z"
   },
   {
    "duration": 9,
    "start_time": "2023-09-19T13:06:21.673Z"
   },
   {
    "duration": 9,
    "start_time": "2023-09-19T13:06:29.893Z"
   },
   {
    "duration": 9,
    "start_time": "2023-09-19T13:06:36.530Z"
   },
   {
    "duration": 5,
    "start_time": "2023-09-19T13:06:45.310Z"
   },
   {
    "duration": 10,
    "start_time": "2023-09-19T13:09:09.237Z"
   },
   {
    "duration": 81,
    "start_time": "2023-09-19T13:09:26.396Z"
   },
   {
    "duration": 14,
    "start_time": "2023-09-19T13:09:42.860Z"
   },
   {
    "duration": 12,
    "start_time": "2023-09-19T13:09:45.722Z"
   },
   {
    "duration": 32,
    "start_time": "2023-09-19T13:10:01.084Z"
   },
   {
    "duration": 4,
    "start_time": "2023-09-19T13:12:11.758Z"
   },
   {
    "duration": 13,
    "start_time": "2023-09-19T13:12:14.018Z"
   },
   {
    "duration": 7,
    "start_time": "2023-09-19T13:12:18.746Z"
   },
   {
    "duration": 62,
    "start_time": "2023-09-19T13:12:19.031Z"
   },
   {
    "duration": 10,
    "start_time": "2023-09-19T13:12:19.194Z"
   },
   {
    "duration": 10,
    "start_time": "2023-09-19T13:12:19.344Z"
   },
   {
    "duration": 4,
    "start_time": "2023-09-19T13:12:19.980Z"
   },
   {
    "duration": 6,
    "start_time": "2023-09-19T13:12:20.414Z"
   },
   {
    "duration": 9,
    "start_time": "2023-09-19T13:12:21.082Z"
   },
   {
    "duration": 4,
    "start_time": "2023-09-19T13:12:21.643Z"
   },
   {
    "duration": 5,
    "start_time": "2023-09-19T13:12:22.581Z"
   },
   {
    "duration": 9,
    "start_time": "2023-09-19T13:12:23.015Z"
   },
   {
    "duration": 4,
    "start_time": "2023-09-19T13:12:33.513Z"
   },
   {
    "duration": 8,
    "start_time": "2023-09-19T13:12:34.895Z"
   },
   {
    "duration": 5,
    "start_time": "2023-09-19T13:12:39.485Z"
   },
   {
    "duration": 49,
    "start_time": "2023-09-19T13:12:39.788Z"
   },
   {
    "duration": 11,
    "start_time": "2023-09-19T13:12:39.928Z"
   },
   {
    "duration": 9,
    "start_time": "2023-09-19T13:12:40.098Z"
   },
   {
    "duration": 4,
    "start_time": "2023-09-19T13:12:40.746Z"
   },
   {
    "duration": 6,
    "start_time": "2023-09-19T13:12:40.915Z"
   },
   {
    "duration": 8,
    "start_time": "2023-09-19T13:12:41.238Z"
   },
   {
    "duration": 4,
    "start_time": "2023-09-19T13:12:41.395Z"
   },
   {
    "duration": 4,
    "start_time": "2023-09-19T13:12:41.789Z"
   },
   {
    "duration": 9,
    "start_time": "2023-09-19T13:12:42.282Z"
   },
   {
    "duration": 3,
    "start_time": "2023-09-19T13:15:47.315Z"
   },
   {
    "duration": 16,
    "start_time": "2023-09-19T13:17:31.214Z"
   },
   {
    "duration": 2079,
    "start_time": "2023-09-19T13:20:18.584Z"
   },
   {
    "duration": 4,
    "start_time": "2023-09-19T13:20:28.547Z"
   },
   {
    "duration": 50,
    "start_time": "2023-09-19T13:20:28.880Z"
   },
   {
    "duration": 13,
    "start_time": "2023-09-19T13:20:29.062Z"
   },
   {
    "duration": 9,
    "start_time": "2023-09-19T13:20:29.245Z"
   },
   {
    "duration": 4,
    "start_time": "2023-09-19T13:20:30.179Z"
   },
   {
    "duration": 6,
    "start_time": "2023-09-19T13:20:30.515Z"
   },
   {
    "duration": 9,
    "start_time": "2023-09-19T13:20:30.962Z"
   },
   {
    "duration": 5,
    "start_time": "2023-09-19T13:20:31.162Z"
   },
   {
    "duration": 3,
    "start_time": "2023-09-19T13:20:31.648Z"
   },
   {
    "duration": 8,
    "start_time": "2023-09-19T13:20:31.860Z"
   },
   {
    "duration": 4,
    "start_time": "2023-09-19T13:20:32.430Z"
   },
   {
    "duration": 16,
    "start_time": "2023-09-19T13:20:33.031Z"
   },
   {
    "duration": 11,
    "start_time": "2023-09-19T13:24:51.354Z"
   },
   {
    "duration": 11,
    "start_time": "2023-09-19T13:28:32.153Z"
   },
   {
    "duration": 25,
    "start_time": "2023-09-19T13:29:07.603Z"
   },
   {
    "duration": 12,
    "start_time": "2023-09-19T13:29:13.483Z"
   },
   {
    "duration": 15,
    "start_time": "2023-09-19T13:29:18.887Z"
   },
   {
    "duration": 10,
    "start_time": "2023-09-19T13:29:26.169Z"
   },
   {
    "duration": 10,
    "start_time": "2023-09-19T13:30:40.538Z"
   },
   {
    "duration": 6,
    "start_time": "2023-09-19T13:36:40.636Z"
   },
   {
    "duration": 80,
    "start_time": "2023-09-19T13:36:56.815Z"
   },
   {
    "duration": 130,
    "start_time": "2023-09-19T13:37:01.350Z"
   },
   {
    "duration": 102,
    "start_time": "2023-09-19T13:37:09.976Z"
   },
   {
    "duration": 11,
    "start_time": "2023-09-19T13:40:39.045Z"
   },
   {
    "duration": 127,
    "start_time": "2023-09-19T13:41:36.822Z"
   },
   {
    "duration": 199,
    "start_time": "2023-09-19T13:41:47.551Z"
   },
   {
    "duration": 56,
    "start_time": "2023-09-19T13:41:53.307Z"
   },
   {
    "duration": 105,
    "start_time": "2023-09-19T13:43:13.748Z"
   },
   {
    "duration": 183,
    "start_time": "2023-09-19T13:44:03.566Z"
   },
   {
    "duration": 132,
    "start_time": "2023-09-19T13:45:08.935Z"
   },
   {
    "duration": 127,
    "start_time": "2023-09-19T13:45:24.279Z"
   },
   {
    "duration": 138,
    "start_time": "2023-09-19T13:46:28.694Z"
   },
   {
    "duration": 26,
    "start_time": "2023-09-19T13:47:22.610Z"
   },
   {
    "duration": 17026,
    "start_time": "2023-09-19T13:48:27.976Z"
   },
   {
    "duration": 17234,
    "start_time": "2023-09-19T13:49:21.146Z"
   },
   {
    "duration": 17208,
    "start_time": "2023-09-19T13:50:07.980Z"
   },
   {
    "duration": 17199,
    "start_time": "2023-09-19T13:51:30.980Z"
   },
   {
    "duration": 17244,
    "start_time": "2023-09-19T13:53:37.653Z"
   },
   {
    "duration": 17115,
    "start_time": "2023-09-19T13:54:43.658Z"
   },
   {
    "duration": 337,
    "start_time": "2023-09-19T13:55:08.200Z"
   },
   {
    "duration": 75,
    "start_time": "2023-09-19T13:58:36.712Z"
   },
   {
    "duration": 548,
    "start_time": "2023-09-19T14:04:01.082Z"
   },
   {
    "duration": 565,
    "start_time": "2023-09-19T14:04:11.026Z"
   },
   {
    "duration": 543,
    "start_time": "2023-09-19T14:05:14.863Z"
   },
   {
    "duration": 534,
    "start_time": "2023-09-19T14:09:08.523Z"
   },
   {
    "duration": 532,
    "start_time": "2023-09-19T14:09:29.188Z"
   },
   {
    "duration": 539,
    "start_time": "2023-09-19T14:09:35.380Z"
   },
   {
    "duration": 509,
    "start_time": "2023-09-19T14:09:42.994Z"
   },
   {
    "duration": 1922,
    "start_time": "2023-09-19T14:50:58.170Z"
   },
   {
    "duration": 59,
    "start_time": "2023-09-19T14:51:00.094Z"
   },
   {
    "duration": 57,
    "start_time": "2023-09-19T14:51:00.155Z"
   },
   {
    "duration": 57,
    "start_time": "2023-09-19T14:51:00.214Z"
   },
   {
    "duration": 16,
    "start_time": "2023-09-19T14:51:00.274Z"
   },
   {
    "duration": 31,
    "start_time": "2023-09-19T14:51:00.292Z"
   },
   {
    "duration": 32,
    "start_time": "2023-09-19T14:51:00.325Z"
   },
   {
    "duration": 32,
    "start_time": "2023-09-19T14:51:00.359Z"
   },
   {
    "duration": 35,
    "start_time": "2023-09-19T14:51:00.393Z"
   },
   {
    "duration": 50,
    "start_time": "2023-09-19T14:51:00.430Z"
   },
   {
    "duration": 38,
    "start_time": "2023-09-19T14:51:00.482Z"
   },
   {
    "duration": 55,
    "start_time": "2023-09-19T14:51:00.522Z"
   },
   {
    "duration": 55,
    "start_time": "2023-09-19T14:51:00.579Z"
   },
   {
    "duration": 37,
    "start_time": "2023-09-19T14:51:00.637Z"
   },
   {
    "duration": 33,
    "start_time": "2023-09-19T14:51:00.676Z"
   },
   {
    "duration": 231,
    "start_time": "2023-09-19T14:51:00.712Z"
   },
   {
    "duration": 48,
    "start_time": "2023-09-19T14:51:00.945Z"
   },
   {
    "duration": 269,
    "start_time": "2023-09-19T14:51:01.051Z"
   },
   {
    "duration": 37,
    "start_time": "2023-09-19T14:51:01.322Z"
   },
   {
    "duration": 22567,
    "start_time": "2023-09-19T14:51:01.361Z"
   },
   {
    "duration": 470,
    "start_time": "2023-09-19T14:51:23.931Z"
   },
   {
    "duration": 637,
    "start_time": "2023-09-19T14:51:24.402Z"
   },
   {
    "duration": 124,
    "start_time": "2023-09-19T14:51:25.040Z"
   },
   {
    "duration": 180,
    "start_time": "2023-09-19T14:53:20.951Z"
   },
   {
    "duration": 30,
    "start_time": "2023-09-19T14:53:52.383Z"
   },
   {
    "duration": 19975,
    "start_time": "2023-09-19T14:55:03.555Z"
   },
   {
    "duration": 359,
    "start_time": "2023-09-19T14:55:48.178Z"
   },
   {
    "duration": 14,
    "start_time": "2023-09-19T14:59:12.567Z"
   },
   {
    "duration": 207,
    "start_time": "2023-09-19T15:01:14.254Z"
   },
   {
    "duration": 44,
    "start_time": "2023-09-19T15:01:20.957Z"
   },
   {
    "duration": 374,
    "start_time": "2023-09-19T15:01:28.314Z"
   },
   {
    "duration": 17,
    "start_time": "2023-09-19T15:01:32.594Z"
   },
   {
    "duration": 204,
    "start_time": "2023-09-19T15:01:43.346Z"
   },
   {
    "duration": 209,
    "start_time": "2023-09-19T15:03:42.912Z"
   },
   {
    "duration": 44,
    "start_time": "2023-09-19T15:04:12.532Z"
   },
   {
    "duration": 26753,
    "start_time": "2023-09-19T15:06:22.277Z"
   },
   {
    "duration": 812,
    "start_time": "2023-09-19T15:07:07.243Z"
   },
   {
    "duration": 17,
    "start_time": "2023-09-19T15:09:28.768Z"
   },
   {
    "duration": 214,
    "start_time": "2023-09-19T15:10:05.143Z"
   },
   {
    "duration": 81,
    "start_time": "2023-09-19T15:10:54.183Z"
   },
   {
    "duration": 29,
    "start_time": "2023-09-19T15:11:16.498Z"
   },
   {
    "duration": 13375,
    "start_time": "2023-09-19T15:11:46.788Z"
   },
   {
    "duration": 781,
    "start_time": "2023-09-19T15:12:10.709Z"
   },
   {
    "duration": 19,
    "start_time": "2023-09-19T15:20:41.547Z"
   },
   {
    "duration": 6,
    "start_time": "2023-09-19T15:32:44.205Z"
   },
   {
    "duration": 137,
    "start_time": "2023-09-19T15:34:03.699Z"
   },
   {
    "duration": 27,
    "start_time": "2023-09-19T15:34:14.370Z"
   },
   {
    "duration": 12,
    "start_time": "2023-09-19T15:35:28.338Z"
   },
   {
    "duration": 10,
    "start_time": "2023-09-19T15:35:38.175Z"
   },
   {
    "duration": 7,
    "start_time": "2023-09-19T15:35:43.361Z"
   },
   {
    "duration": 11,
    "start_time": "2023-09-19T15:35:44.679Z"
   },
   {
    "duration": 13,
    "start_time": "2023-09-19T15:36:09.072Z"
   },
   {
    "duration": 7,
    "start_time": "2023-09-19T15:36:11.076Z"
   },
   {
    "duration": 11,
    "start_time": "2023-09-19T15:36:12.525Z"
   },
   {
    "duration": 13,
    "start_time": "2023-09-19T15:36:14.229Z"
   },
   {
    "duration": 8,
    "start_time": "2023-09-19T15:37:11.185Z"
   },
   {
    "duration": 12,
    "start_time": "2023-09-19T15:37:13.308Z"
   },
   {
    "duration": 17,
    "start_time": "2023-09-19T15:37:33.917Z"
   },
   {
    "duration": 12,
    "start_time": "2023-09-19T15:37:43.688Z"
   },
   {
    "duration": 8,
    "start_time": "2023-09-19T15:37:51.683Z"
   },
   {
    "duration": 16,
    "start_time": "2023-09-19T15:37:56.589Z"
   },
   {
    "duration": 24,
    "start_time": "2023-09-19T15:38:30.931Z"
   },
   {
    "duration": 20,
    "start_time": "2023-09-19T15:38:47.671Z"
   },
   {
    "duration": 15,
    "start_time": "2023-09-19T15:39:18.771Z"
   },
   {
    "duration": 117,
    "start_time": "2023-09-19T15:40:05.615Z"
   },
   {
    "duration": 22,
    "start_time": "2023-09-19T15:40:10.268Z"
   },
   {
    "duration": 91,
    "start_time": "2023-09-19T15:41:52.346Z"
   },
   {
    "duration": 16,
    "start_time": "2023-09-19T15:41:59.623Z"
   },
   {
    "duration": 154,
    "start_time": "2023-09-19T15:42:11.718Z"
   },
   {
    "duration": 8,
    "start_time": "2023-09-19T15:42:42.649Z"
   },
   {
    "duration": 18,
    "start_time": "2023-09-19T15:42:43.633Z"
   },
   {
    "duration": 137,
    "start_time": "2023-09-19T15:42:44.098Z"
   },
   {
    "duration": 22,
    "start_time": "2023-09-19T15:42:44.988Z"
   },
   {
    "duration": 123,
    "start_time": "2023-09-19T15:42:46.132Z"
   },
   {
    "duration": 17,
    "start_time": "2023-09-19T15:43:15.240Z"
   },
   {
    "duration": 111,
    "start_time": "2023-09-19T15:43:17.875Z"
   },
   {
    "duration": 19,
    "start_time": "2023-09-19T15:44:26.883Z"
   },
   {
    "duration": 119,
    "start_time": "2023-09-19T15:44:29.502Z"
   },
   {
    "duration": 23,
    "start_time": "2023-09-19T15:44:31.379Z"
   },
   {
    "duration": 109,
    "start_time": "2023-09-19T15:44:33.185Z"
   },
   {
    "duration": 1730,
    "start_time": "2023-09-19T15:44:45.716Z"
   },
   {
    "duration": 76,
    "start_time": "2023-09-19T15:44:47.448Z"
   },
   {
    "duration": 15,
    "start_time": "2023-09-19T15:44:47.526Z"
   },
   {
    "duration": 16,
    "start_time": "2023-09-19T15:44:47.543Z"
   },
   {
    "duration": 4,
    "start_time": "2023-09-19T15:44:47.561Z"
   },
   {
    "duration": 11,
    "start_time": "2023-09-19T15:44:47.566Z"
   },
   {
    "duration": 12,
    "start_time": "2023-09-19T15:44:47.579Z"
   },
   {
    "duration": 5,
    "start_time": "2023-09-19T15:44:47.594Z"
   },
   {
    "duration": 13,
    "start_time": "2023-09-19T15:44:47.601Z"
   },
   {
    "duration": 39,
    "start_time": "2023-09-19T15:44:47.618Z"
   },
   {
    "duration": 5,
    "start_time": "2023-09-19T15:44:47.659Z"
   },
   {
    "duration": 36,
    "start_time": "2023-09-19T15:44:47.666Z"
   },
   {
    "duration": 13,
    "start_time": "2023-09-19T15:44:47.705Z"
   },
   {
    "duration": 15,
    "start_time": "2023-09-19T15:44:47.720Z"
   },
   {
    "duration": 9,
    "start_time": "2023-09-19T15:44:47.749Z"
   },
   {
    "duration": 174,
    "start_time": "2023-09-19T15:44:47.760Z"
   },
   {
    "duration": 52,
    "start_time": "2023-09-19T15:44:47.936Z"
   },
   {
    "duration": 214,
    "start_time": "2023-09-19T15:44:48.052Z"
   },
   {
    "duration": 0,
    "start_time": "2023-09-19T15:44:48.268Z"
   },
   {
    "duration": 0,
    "start_time": "2023-09-19T15:44:48.270Z"
   },
   {
    "duration": 0,
    "start_time": "2023-09-19T15:44:48.271Z"
   },
   {
    "duration": 0,
    "start_time": "2023-09-19T15:44:48.272Z"
   },
   {
    "duration": 0,
    "start_time": "2023-09-19T15:44:48.273Z"
   },
   {
    "duration": 0,
    "start_time": "2023-09-19T15:44:48.274Z"
   },
   {
    "duration": 0,
    "start_time": "2023-09-19T15:44:48.275Z"
   },
   {
    "duration": 0,
    "start_time": "2023-09-19T15:44:48.276Z"
   },
   {
    "duration": 0,
    "start_time": "2023-09-19T15:44:48.277Z"
   },
   {
    "duration": 0,
    "start_time": "2023-09-19T15:44:48.278Z"
   },
   {
    "duration": 0,
    "start_time": "2023-09-19T15:44:48.279Z"
   },
   {
    "duration": 0,
    "start_time": "2023-09-19T15:44:48.280Z"
   },
   {
    "duration": 0,
    "start_time": "2023-09-19T15:44:48.281Z"
   },
   {
    "duration": 0,
    "start_time": "2023-09-19T15:44:48.282Z"
   },
   {
    "duration": 0,
    "start_time": "2023-09-19T15:44:48.282Z"
   },
   {
    "duration": 0,
    "start_time": "2023-09-19T15:44:48.284Z"
   },
   {
    "duration": 0,
    "start_time": "2023-09-19T15:44:48.284Z"
   },
   {
    "duration": 0,
    "start_time": "2023-09-19T15:44:48.286Z"
   },
   {
    "duration": 0,
    "start_time": "2023-09-19T15:44:48.287Z"
   },
   {
    "duration": 0,
    "start_time": "2023-09-19T15:44:48.288Z"
   },
   {
    "duration": 0,
    "start_time": "2023-09-19T15:44:48.289Z"
   },
   {
    "duration": 0,
    "start_time": "2023-09-19T15:44:48.290Z"
   },
   {
    "duration": 0,
    "start_time": "2023-09-19T15:44:48.290Z"
   },
   {
    "duration": 0,
    "start_time": "2023-09-19T15:44:48.292Z"
   },
   {
    "duration": 0,
    "start_time": "2023-09-19T15:44:48.293Z"
   },
   {
    "duration": 0,
    "start_time": "2023-09-19T15:44:48.294Z"
   },
   {
    "duration": 0,
    "start_time": "2023-09-19T15:44:48.294Z"
   },
   {
    "duration": 1847,
    "start_time": "2023-09-19T15:45:28.547Z"
   },
   {
    "duration": 59,
    "start_time": "2023-09-19T15:45:30.396Z"
   },
   {
    "duration": 13,
    "start_time": "2023-09-19T15:45:30.457Z"
   },
   {
    "duration": 35,
    "start_time": "2023-09-19T15:45:30.472Z"
   },
   {
    "duration": 28,
    "start_time": "2023-09-19T15:45:30.509Z"
   },
   {
    "duration": 31,
    "start_time": "2023-09-19T15:45:30.539Z"
   },
   {
    "duration": 56,
    "start_time": "2023-09-19T15:45:30.572Z"
   },
   {
    "duration": 55,
    "start_time": "2023-09-19T15:45:30.630Z"
   },
   {
    "duration": 34,
    "start_time": "2023-09-19T15:45:30.686Z"
   },
   {
    "duration": 42,
    "start_time": "2023-09-19T15:45:30.723Z"
   },
   {
    "duration": 150,
    "start_time": "2023-09-19T15:45:30.767Z"
   },
   {
    "duration": 101,
    "start_time": "2023-09-19T15:45:30.918Z"
   },
   {
    "duration": 59,
    "start_time": "2023-09-19T15:45:31.021Z"
   },
   {
    "duration": 49,
    "start_time": "2023-09-19T15:45:31.083Z"
   },
   {
    "duration": 37,
    "start_time": "2023-09-19T15:45:31.135Z"
   },
   {
    "duration": 269,
    "start_time": "2023-09-19T15:45:31.174Z"
   },
   {
    "duration": 106,
    "start_time": "2023-09-19T15:45:31.445Z"
   },
   {
    "duration": 247,
    "start_time": "2023-09-19T15:45:31.553Z"
   },
   {
    "duration": 48,
    "start_time": "2023-09-19T15:45:31.803Z"
   },
   {
    "duration": 142,
    "start_time": "2023-09-19T15:45:31.853Z"
   },
   {
    "duration": 0,
    "start_time": "2023-09-19T15:45:31.998Z"
   },
   {
    "duration": 0,
    "start_time": "2023-09-19T15:45:31.999Z"
   },
   {
    "duration": 0,
    "start_time": "2023-09-19T15:45:32.000Z"
   },
   {
    "duration": 0,
    "start_time": "2023-09-19T15:45:32.002Z"
   },
   {
    "duration": 0,
    "start_time": "2023-09-19T15:45:32.002Z"
   },
   {
    "duration": 0,
    "start_time": "2023-09-19T15:45:32.003Z"
   },
   {
    "duration": 0,
    "start_time": "2023-09-19T15:45:32.004Z"
   },
   {
    "duration": 0,
    "start_time": "2023-09-19T15:45:32.006Z"
   },
   {
    "duration": 0,
    "start_time": "2023-09-19T15:45:32.007Z"
   },
   {
    "duration": 0,
    "start_time": "2023-09-19T15:45:32.008Z"
   },
   {
    "duration": 0,
    "start_time": "2023-09-19T15:45:32.009Z"
   },
   {
    "duration": 0,
    "start_time": "2023-09-19T15:45:32.011Z"
   },
   {
    "duration": 0,
    "start_time": "2023-09-19T15:45:32.013Z"
   },
   {
    "duration": 1,
    "start_time": "2023-09-19T15:45:32.014Z"
   },
   {
    "duration": 0,
    "start_time": "2023-09-19T15:45:32.016Z"
   },
   {
    "duration": 0,
    "start_time": "2023-09-19T15:45:32.017Z"
   },
   {
    "duration": 0,
    "start_time": "2023-09-19T15:45:32.051Z"
   },
   {
    "duration": 0,
    "start_time": "2023-09-19T15:45:32.052Z"
   },
   {
    "duration": 0,
    "start_time": "2023-09-19T15:45:32.054Z"
   },
   {
    "duration": 0,
    "start_time": "2023-09-19T15:45:32.055Z"
   },
   {
    "duration": 0,
    "start_time": "2023-09-19T15:45:32.056Z"
   },
   {
    "duration": 0,
    "start_time": "2023-09-19T15:45:32.058Z"
   },
   {
    "duration": 0,
    "start_time": "2023-09-19T15:45:32.059Z"
   },
   {
    "duration": 0,
    "start_time": "2023-09-19T15:45:32.061Z"
   },
   {
    "duration": 0,
    "start_time": "2023-09-19T15:45:32.061Z"
   },
   {
    "duration": 1653,
    "start_time": "2023-09-19T15:45:57.899Z"
   },
   {
    "duration": 56,
    "start_time": "2023-09-19T15:45:59.554Z"
   },
   {
    "duration": 13,
    "start_time": "2023-09-19T15:45:59.612Z"
   },
   {
    "duration": 25,
    "start_time": "2023-09-19T15:45:59.627Z"
   },
   {
    "duration": 40,
    "start_time": "2023-09-19T15:45:59.654Z"
   },
   {
    "duration": 19,
    "start_time": "2023-09-19T15:45:59.696Z"
   },
   {
    "duration": 8,
    "start_time": "2023-09-19T15:45:59.716Z"
   },
   {
    "duration": 7,
    "start_time": "2023-09-19T15:45:59.726Z"
   },
   {
    "duration": 45,
    "start_time": "2023-09-19T15:45:59.735Z"
   },
   {
    "duration": 32,
    "start_time": "2023-09-19T15:45:59.782Z"
   },
   {
    "duration": 4,
    "start_time": "2023-09-19T15:45:59.816Z"
   },
   {
    "duration": 27,
    "start_time": "2023-09-19T15:45:59.821Z"
   },
   {
    "duration": 33,
    "start_time": "2023-09-19T15:45:59.849Z"
   },
   {
    "duration": 11,
    "start_time": "2023-09-19T15:45:59.886Z"
   },
   {
    "duration": 27,
    "start_time": "2023-09-19T15:45:59.899Z"
   },
   {
    "duration": 149,
    "start_time": "2023-09-19T15:45:59.927Z"
   },
   {
    "duration": 87,
    "start_time": "2023-09-19T15:46:00.078Z"
   },
   {
    "duration": 147,
    "start_time": "2023-09-19T15:46:00.249Z"
   },
   {
    "duration": 26,
    "start_time": "2023-09-19T15:46:00.398Z"
   },
   {
    "duration": 18742,
    "start_time": "2023-09-19T15:46:00.426Z"
   },
   {
    "duration": 327,
    "start_time": "2023-09-19T15:46:19.169Z"
   },
   {
    "duration": 540,
    "start_time": "2023-09-19T15:46:19.497Z"
   },
   {
    "duration": 122,
    "start_time": "2023-09-19T15:46:20.039Z"
   },
   {
    "duration": 370,
    "start_time": "2023-09-19T15:46:20.163Z"
   },
   {
    "duration": 37,
    "start_time": "2023-09-19T15:46:20.535Z"
   },
   {
    "duration": 18245,
    "start_time": "2023-09-19T15:46:20.574Z"
   },
   {
    "duration": 332,
    "start_time": "2023-09-19T15:46:38.821Z"
   },
   {
    "duration": 19,
    "start_time": "2023-09-19T15:46:39.156Z"
   },
   {
    "duration": 272,
    "start_time": "2023-09-19T15:46:39.178Z"
   },
   {
    "duration": 278,
    "start_time": "2023-09-19T15:46:39.452Z"
   },
   {
    "duration": 45,
    "start_time": "2023-09-19T15:46:39.732Z"
   },
   {
    "duration": 24085,
    "start_time": "2023-09-19T15:46:39.779Z"
   },
   {
    "duration": 730,
    "start_time": "2023-09-19T15:47:03.865Z"
   },
   {
    "duration": 14,
    "start_time": "2023-09-19T15:47:04.596Z"
   },
   {
    "duration": 48,
    "start_time": "2023-09-19T15:47:04.612Z"
   },
   {
    "duration": 268,
    "start_time": "2023-09-19T15:47:04.661Z"
   },
   {
    "duration": 33,
    "start_time": "2023-09-19T15:47:04.931Z"
   },
   {
    "duration": 12429,
    "start_time": "2023-09-19T15:47:04.965Z"
   },
   {
    "duration": 722,
    "start_time": "2023-09-19T15:47:17.395Z"
   },
   {
    "duration": 11,
    "start_time": "2023-09-19T15:47:18.118Z"
   },
   {
    "duration": 20,
    "start_time": "2023-09-19T15:47:18.132Z"
   },
   {
    "duration": 18,
    "start_time": "2023-09-19T15:47:18.153Z"
   },
   {
    "duration": 111,
    "start_time": "2023-09-19T15:47:18.173Z"
   },
   {
    "duration": 20,
    "start_time": "2023-09-19T15:47:18.286Z"
   },
   {
    "duration": 127,
    "start_time": "2023-09-19T15:47:18.308Z"
   },
   {
    "duration": 15,
    "start_time": "2023-09-19T15:49:36.257Z"
   },
   {
    "duration": 14,
    "start_time": "2023-09-19T15:49:41.797Z"
   },
   {
    "duration": 17,
    "start_time": "2023-09-19T15:53:56.971Z"
   },
   {
    "duration": 15,
    "start_time": "2023-09-19T15:55:22.917Z"
   },
   {
    "duration": 96,
    "start_time": "2023-09-19T15:55:25.055Z"
   },
   {
    "duration": 18,
    "start_time": "2023-09-19T15:55:27.210Z"
   },
   {
    "duration": 141,
    "start_time": "2023-09-19T15:55:29.232Z"
   },
   {
    "duration": 171,
    "start_time": "2023-09-19T15:56:52.810Z"
   },
   {
    "duration": 92,
    "start_time": "2023-09-19T15:56:57.399Z"
   },
   {
    "duration": 144,
    "start_time": "2023-09-19T15:58:45.801Z"
   },
   {
    "duration": 303,
    "start_time": "2023-09-19T15:59:22.603Z"
   },
   {
    "duration": 11,
    "start_time": "2023-09-19T15:59:59.398Z"
   },
   {
    "duration": 8,
    "start_time": "2023-09-19T16:00:43.297Z"
   },
   {
    "duration": 21287,
    "start_time": "2023-09-19T16:02:27.386Z"
   },
   {
    "duration": 385,
    "start_time": "2023-09-19T16:03:42.242Z"
   },
   {
    "duration": 114,
    "start_time": "2023-09-19T16:04:01.789Z"
   },
   {
    "duration": 1558,
    "start_time": "2023-09-19T16:14:22.170Z"
   },
   {
    "duration": 54,
    "start_time": "2023-09-19T16:14:23.729Z"
   },
   {
    "duration": 13,
    "start_time": "2023-09-19T16:14:23.785Z"
   },
   {
    "duration": 32,
    "start_time": "2023-09-19T16:14:23.800Z"
   },
   {
    "duration": 18,
    "start_time": "2023-09-19T16:14:23.834Z"
   },
   {
    "duration": 33,
    "start_time": "2023-09-19T16:14:23.854Z"
   },
   {
    "duration": 19,
    "start_time": "2023-09-19T16:14:23.888Z"
   },
   {
    "duration": 24,
    "start_time": "2023-09-19T16:14:23.909Z"
   },
   {
    "duration": 22,
    "start_time": "2023-09-19T16:14:23.934Z"
   },
   {
    "duration": 33,
    "start_time": "2023-09-19T16:14:23.958Z"
   },
   {
    "duration": 20,
    "start_time": "2023-09-19T16:14:23.992Z"
   },
   {
    "duration": 33,
    "start_time": "2023-09-19T16:14:24.013Z"
   },
   {
    "duration": 23,
    "start_time": "2023-09-19T16:14:24.048Z"
   },
   {
    "duration": 21,
    "start_time": "2023-09-19T16:14:24.072Z"
   },
   {
    "duration": 16,
    "start_time": "2023-09-19T16:14:24.095Z"
   },
   {
    "duration": 161,
    "start_time": "2023-09-19T16:14:24.113Z"
   },
   {
    "duration": 174,
    "start_time": "2023-09-19T16:14:24.276Z"
   },
   {
    "duration": 148,
    "start_time": "2023-09-19T16:14:24.452Z"
   },
   {
    "duration": 26,
    "start_time": "2023-09-19T16:14:24.601Z"
   },
   {
    "duration": 16980,
    "start_time": "2023-09-19T16:14:24.628Z"
   },
   {
    "duration": 309,
    "start_time": "2023-09-19T16:14:41.609Z"
   },
   {
    "duration": 505,
    "start_time": "2023-09-19T16:14:41.920Z"
   },
   {
    "duration": 126,
    "start_time": "2023-09-19T16:14:42.426Z"
   },
   {
    "duration": 243,
    "start_time": "2023-09-19T16:14:42.555Z"
   },
   {
    "duration": 28,
    "start_time": "2023-09-19T16:14:42.799Z"
   },
   {
    "duration": 17169,
    "start_time": "2023-09-19T16:14:42.829Z"
   },
   {
    "duration": 312,
    "start_time": "2023-09-19T16:15:00.000Z"
   },
   {
    "duration": 12,
    "start_time": "2023-09-19T16:15:00.316Z"
   },
   {
    "duration": 221,
    "start_time": "2023-09-19T16:15:00.330Z"
   },
   {
    "duration": 262,
    "start_time": "2023-09-19T16:15:00.553Z"
   },
   {
    "duration": 38,
    "start_time": "2023-09-19T16:15:00.817Z"
   },
   {
    "duration": 22986,
    "start_time": "2023-09-19T16:15:00.857Z"
   },
   {
    "duration": 720,
    "start_time": "2023-09-19T16:15:23.845Z"
   },
   {
    "duration": 12,
    "start_time": "2023-09-19T16:15:24.566Z"
   },
   {
    "duration": 80,
    "start_time": "2023-09-19T16:15:24.579Z"
   },
   {
    "duration": 260,
    "start_time": "2023-09-19T16:15:24.661Z"
   },
   {
    "duration": 39,
    "start_time": "2023-09-19T16:15:24.923Z"
   },
   {
    "duration": 10833,
    "start_time": "2023-09-19T16:15:24.964Z"
   },
   {
    "duration": 739,
    "start_time": "2023-09-19T16:15:35.798Z"
   },
   {
    "duration": 12,
    "start_time": "2023-09-19T16:15:36.538Z"
   },
   {
    "duration": 18,
    "start_time": "2023-09-19T16:15:36.552Z"
   },
   {
    "duration": 20785,
    "start_time": "2023-09-19T16:15:36.571Z"
   },
   {
    "duration": 380,
    "start_time": "2023-09-19T16:15:57.358Z"
   },
   {
    "duration": 114,
    "start_time": "2023-09-19T16:15:57.739Z"
   },
   {
    "duration": 166,
    "start_time": "2023-09-19T19:32:23.632Z"
   },
   {
    "duration": 2060,
    "start_time": "2023-09-21T18:06:28.677Z"
   },
   {
    "duration": 97,
    "start_time": "2023-09-21T18:06:30.740Z"
   },
   {
    "duration": 16,
    "start_time": "2023-09-21T18:06:30.839Z"
   },
   {
    "duration": 122,
    "start_time": "2023-09-21T18:06:30.856Z"
   },
   {
    "duration": 170,
    "start_time": "2023-09-21T18:06:30.980Z"
   },
   {
    "duration": 71,
    "start_time": "2023-09-21T18:06:31.152Z"
   },
   {
    "duration": 59,
    "start_time": "2023-09-21T18:06:31.225Z"
   },
   {
    "duration": 47,
    "start_time": "2023-09-21T18:06:31.286Z"
   },
   {
    "duration": 54,
    "start_time": "2023-09-21T18:06:31.334Z"
   },
   {
    "duration": 58,
    "start_time": "2023-09-21T18:06:31.390Z"
   },
   {
    "duration": 50,
    "start_time": "2023-09-21T18:06:31.450Z"
   },
   {
    "duration": 77,
    "start_time": "2023-09-21T18:06:31.502Z"
   },
   {
    "duration": 88,
    "start_time": "2023-09-21T18:06:31.581Z"
   },
   {
    "duration": 46,
    "start_time": "2023-09-21T18:06:31.672Z"
   },
   {
    "duration": 59,
    "start_time": "2023-09-21T18:06:31.720Z"
   },
   {
    "duration": 180,
    "start_time": "2023-09-21T18:06:31.780Z"
   },
   {
    "duration": 95,
    "start_time": "2023-09-21T18:06:31.963Z"
   },
   {
    "duration": 342,
    "start_time": "2023-09-21T18:06:32.061Z"
   },
   {
    "duration": 51,
    "start_time": "2023-09-21T18:06:32.405Z"
   },
   {
    "duration": 20257,
    "start_time": "2023-09-21T18:06:32.458Z"
   },
   {
    "duration": 372,
    "start_time": "2023-09-21T18:06:52.717Z"
   },
   {
    "duration": 605,
    "start_time": "2023-09-21T18:06:53.091Z"
   },
   {
    "duration": 151,
    "start_time": "2023-09-21T18:06:53.698Z"
   },
   {
    "duration": 336,
    "start_time": "2023-09-21T18:06:53.851Z"
   },
   {
    "duration": 30,
    "start_time": "2023-09-21T18:06:54.189Z"
   },
   {
    "duration": 19881,
    "start_time": "2023-09-21T18:06:54.221Z"
   },
   {
    "duration": 374,
    "start_time": "2023-09-21T18:07:14.104Z"
   },
   {
    "duration": 16,
    "start_time": "2023-09-21T18:07:14.481Z"
   },
   {
    "duration": 149,
    "start_time": "2023-09-21T18:07:14.499Z"
   },
   {
    "duration": 284,
    "start_time": "2023-09-21T18:07:14.650Z"
   },
   {
    "duration": 45,
    "start_time": "2023-09-21T18:07:14.936Z"
   },
   {
    "duration": 27196,
    "start_time": "2023-09-21T18:07:14.983Z"
   },
   {
    "duration": 791,
    "start_time": "2023-09-21T18:07:42.180Z"
   },
   {
    "duration": 13,
    "start_time": "2023-09-21T18:07:42.973Z"
   },
   {
    "duration": 68,
    "start_time": "2023-09-21T18:07:42.988Z"
   },
   {
    "duration": 179,
    "start_time": "2023-09-21T18:07:43.144Z"
   },
   {
    "duration": 32,
    "start_time": "2023-09-21T18:07:43.325Z"
   },
   {
    "duration": 12569,
    "start_time": "2023-09-21T18:07:43.359Z"
   },
   {
    "duration": 909,
    "start_time": "2023-09-21T18:07:55.930Z"
   },
   {
    "duration": 16,
    "start_time": "2023-09-21T18:07:56.841Z"
   },
   {
    "duration": 10,
    "start_time": "2023-09-21T18:07:56.862Z"
   },
   {
    "duration": 24382,
    "start_time": "2023-09-21T18:07:56.874Z"
   },
   {
    "duration": 432,
    "start_time": "2023-09-21T18:08:21.258Z"
   },
   {
    "duration": 124,
    "start_time": "2023-09-21T18:08:21.692Z"
   },
   {
    "duration": 19134,
    "start_time": "2023-09-21T18:08:59.281Z"
   },
   {
    "duration": 399,
    "start_time": "2023-09-21T18:09:40.679Z"
   },
   {
    "duration": 120,
    "start_time": "2023-09-21T18:09:44.102Z"
   }
  ],
  "kernelspec": {
   "display_name": "Python 3 (ipykernel)",
   "language": "python",
   "name": "python3"
  },
  "language_info": {
   "codemirror_mode": {
    "name": "ipython",
    "version": 3
   },
   "file_extension": ".py",
   "mimetype": "text/x-python",
   "name": "python",
   "nbconvert_exporter": "python",
   "pygments_lexer": "ipython3",
   "version": "3.9.5"
  },
  "toc": {
   "base_numbering": 1,
   "nav_menu": {},
   "number_sections": true,
   "sideBar": true,
   "skip_h1_title": true,
   "title_cell": "Содержание",
   "title_sidebar": "Contents",
   "toc_cell": true,
   "toc_position": {
    "height": "calc(100% - 180px)",
    "left": "10px",
    "top": "150px",
    "width": "165px"
   },
   "toc_section_display": true,
   "toc_window_display": true
  }
 },
 "nbformat": 4,
 "nbformat_minor": 2
}
