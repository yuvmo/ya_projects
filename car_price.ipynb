{
 "cells": [
  {
   "cell_type": "markdown",
   "metadata": {},
   "source": [
    "# Определение стоимости автомобилей"
   ]
  },
  {
   "cell_type": "markdown",
   "metadata": {},
   "source": [
    "Сервис по продаже автомобилей с пробегом «Не бит, не крашен» разрабатывает приложение для привлечения новых клиентов. В нём можно быстро узнать рыночную стоимость своего автомобиля. В вашем распоряжении исторические данные: технические характеристики, комплектации и цены автомобилей. Вам нужно построить модель для определения стоимости. \n",
    "\n",
    "Заказчику важны:\n",
    "\n",
    "- качество предсказания;\n",
    "- скорость предсказания;\n",
    "- время обучения."
   ]
  },
  {
   "cell_type": "markdown",
   "metadata": {},
   "source": [
    "Описание данных\n",
    "  \n",
    "Признаки\n",
    "  \n",
    "- DateCrawled — дата скачивания анкеты из базы\n",
    "- VehicleType — тип автомобильного кузова\n",
    "- RegistrationYear — год регистрации автомобиля\n",
    "- Gearbox — тип коробки передач\n",
    "- Power — мощность (л. с.)\n",
    "- Model — модель автомобиля\n",
    "- Kilometer — пробег (км)\n",
    "- RegistrationMonth — месяц регистрации автомобиля\n",
    "- FuelType — тип топлива\n",
    "- Brand — марка автомобиля\n",
    "- Repaired — была машина в ремонте или нет\n",
    "- DateCreated — дата создания анкеты\n",
    "- NumberOfPictures — количество фотографий автомобиля\n",
    "- PostalCode — почтовый индекс владельца анкеты (пользователя)\n",
    "- LastSeen — дата последней активности пользователя\n",
    "  \n",
    "Целевой признак\n",
    "  \n",
    "- Price — цена (евро)\n"
   ]
  },
  {
   "cell_type": "code",
   "execution_count": 1,
   "metadata": {},
   "outputs": [
    {
     "name": "stdout",
     "output_type": "stream",
     "text": [
      "Requirement already satisfied: scikit-learn==1.1.3 in /opt/conda/lib/python3.9/site-packages (1.1.3)\n",
      "Requirement already satisfied: threadpoolctl>=2.0.0 in /opt/conda/lib/python3.9/site-packages (from scikit-learn==1.1.3) (3.1.0)\n",
      "Requirement already satisfied: numpy>=1.17.3 in /opt/conda/lib/python3.9/site-packages (from scikit-learn==1.1.3) (1.21.1)\n",
      "Requirement already satisfied: joblib>=1.0.0 in /opt/conda/lib/python3.9/site-packages (from scikit-learn==1.1.3) (1.1.0)\n",
      "Requirement already satisfied: scipy>=1.3.2 in /opt/conda/lib/python3.9/site-packages (from scikit-learn==1.1.3) (1.9.1)\n"
     ]
    }
   ],
   "source": [
    "!pip install scikit-learn==1.1.3"
   ]
  },
  {
   "cell_type": "markdown",
   "metadata": {},
   "source": [
    "## Загрузка библиотек"
   ]
  },
  {
   "cell_type": "code",
   "execution_count": 2,
   "metadata": {},
   "outputs": [],
   "source": [
    "import matplotlib.pyplot as plt\n",
    "import numpy as np\n",
    "import pandas as pd\n",
    "import warnings\n",
    "from sklearn.model_selection import train_test_split\n",
    "from sklearn.preprocessing import StandardScaler\n",
    "from sklearn.metrics import mean_squared_error\n",
    "from sklearn.preprocessing import PolynomialFeatures\n",
    "from sklearn.preprocessing import OrdinalEncoder\n",
    "from sklearn.preprocessing import OneHotEncoder\n",
    "from sklearn.linear_model import LinearRegression\n",
    "from sklearn.linear_model import Ridge\n",
    "from sklearn.tree import DecisionTreeRegressor\n",
    "from sklearn.ensemble import ExtraTreesRegressor\n",
    "from catboost import Pool, CatBoostRegressor, cv\n",
    "from lightgbm import LGBMRegressor\n",
    "from sklearn.model_selection import cross_val_score\n",
    "from sklearn.model_selection import GridSearchCV\n",
    "from sklearn.pipeline import Pipeline\n",
    "warnings.filterwarnings('ignore')"
   ]
  },
  {
   "cell_type": "markdown",
   "metadata": {},
   "source": [
    "## Подготовка данных"
   ]
  },
  {
   "cell_type": "code",
   "execution_count": 3,
   "metadata": {},
   "outputs": [
    {
     "name": "stdout",
     "output_type": "stream",
     "text": [
      "<class 'pandas.core.frame.DataFrame'>\n",
      "RangeIndex: 354369 entries, 0 to 354368\n",
      "Data columns (total 16 columns):\n",
      " #   Column             Non-Null Count   Dtype \n",
      "---  ------             --------------   ----- \n",
      " 0   DateCrawled        354369 non-null  object\n",
      " 1   Price              354369 non-null  int64 \n",
      " 2   VehicleType        316879 non-null  object\n",
      " 3   RegistrationYear   354369 non-null  int64 \n",
      " 4   Gearbox            334536 non-null  object\n",
      " 5   Power              354369 non-null  int64 \n",
      " 6   Model              334664 non-null  object\n",
      " 7   Kilometer          354369 non-null  int64 \n",
      " 8   RegistrationMonth  354369 non-null  int64 \n",
      " 9   FuelType           321474 non-null  object\n",
      " 10  Brand              354369 non-null  object\n",
      " 11  Repaired           283215 non-null  object\n",
      " 12  DateCreated        354369 non-null  object\n",
      " 13  NumberOfPictures   354369 non-null  int64 \n",
      " 14  PostalCode         354369 non-null  int64 \n",
      " 15  LastSeen           354369 non-null  object\n",
      "dtypes: int64(7), object(9)\n",
      "memory usage: 43.3+ MB\n"
     ]
    },
    {
     "data": {
      "text/plain": [
       "None"
      ]
     },
     "metadata": {},
     "output_type": "display_data"
    },
    {
     "data": {
      "text/html": [
       "<div>\n",
       "<style scoped>\n",
       "    .dataframe tbody tr th:only-of-type {\n",
       "        vertical-align: middle;\n",
       "    }\n",
       "\n",
       "    .dataframe tbody tr th {\n",
       "        vertical-align: top;\n",
       "    }\n",
       "\n",
       "    .dataframe thead th {\n",
       "        text-align: right;\n",
       "    }\n",
       "</style>\n",
       "<table border=\"1\" class=\"dataframe\">\n",
       "  <thead>\n",
       "    <tr style=\"text-align: right;\">\n",
       "      <th></th>\n",
       "      <th>DateCrawled</th>\n",
       "      <th>Price</th>\n",
       "      <th>VehicleType</th>\n",
       "      <th>RegistrationYear</th>\n",
       "      <th>Gearbox</th>\n",
       "      <th>Power</th>\n",
       "      <th>Model</th>\n",
       "      <th>Kilometer</th>\n",
       "      <th>RegistrationMonth</th>\n",
       "      <th>FuelType</th>\n",
       "      <th>Brand</th>\n",
       "      <th>Repaired</th>\n",
       "      <th>DateCreated</th>\n",
       "      <th>NumberOfPictures</th>\n",
       "      <th>PostalCode</th>\n",
       "      <th>LastSeen</th>\n",
       "    </tr>\n",
       "  </thead>\n",
       "  <tbody>\n",
       "    <tr>\n",
       "      <th>0</th>\n",
       "      <td>2016-03-24 11:52:17</td>\n",
       "      <td>480</td>\n",
       "      <td>NaN</td>\n",
       "      <td>1993</td>\n",
       "      <td>manual</td>\n",
       "      <td>0</td>\n",
       "      <td>golf</td>\n",
       "      <td>150000</td>\n",
       "      <td>0</td>\n",
       "      <td>petrol</td>\n",
       "      <td>volkswagen</td>\n",
       "      <td>NaN</td>\n",
       "      <td>2016-03-24 00:00:00</td>\n",
       "      <td>0</td>\n",
       "      <td>70435</td>\n",
       "      <td>2016-04-07 03:16:57</td>\n",
       "    </tr>\n",
       "    <tr>\n",
       "      <th>1</th>\n",
       "      <td>2016-03-24 10:58:45</td>\n",
       "      <td>18300</td>\n",
       "      <td>coupe</td>\n",
       "      <td>2011</td>\n",
       "      <td>manual</td>\n",
       "      <td>190</td>\n",
       "      <td>NaN</td>\n",
       "      <td>125000</td>\n",
       "      <td>5</td>\n",
       "      <td>gasoline</td>\n",
       "      <td>audi</td>\n",
       "      <td>yes</td>\n",
       "      <td>2016-03-24 00:00:00</td>\n",
       "      <td>0</td>\n",
       "      <td>66954</td>\n",
       "      <td>2016-04-07 01:46:50</td>\n",
       "    </tr>\n",
       "    <tr>\n",
       "      <th>2</th>\n",
       "      <td>2016-03-14 12:52:21</td>\n",
       "      <td>9800</td>\n",
       "      <td>suv</td>\n",
       "      <td>2004</td>\n",
       "      <td>auto</td>\n",
       "      <td>163</td>\n",
       "      <td>grand</td>\n",
       "      <td>125000</td>\n",
       "      <td>8</td>\n",
       "      <td>gasoline</td>\n",
       "      <td>jeep</td>\n",
       "      <td>NaN</td>\n",
       "      <td>2016-03-14 00:00:00</td>\n",
       "      <td>0</td>\n",
       "      <td>90480</td>\n",
       "      <td>2016-04-05 12:47:46</td>\n",
       "    </tr>\n",
       "    <tr>\n",
       "      <th>3</th>\n",
       "      <td>2016-03-17 16:54:04</td>\n",
       "      <td>1500</td>\n",
       "      <td>small</td>\n",
       "      <td>2001</td>\n",
       "      <td>manual</td>\n",
       "      <td>75</td>\n",
       "      <td>golf</td>\n",
       "      <td>150000</td>\n",
       "      <td>6</td>\n",
       "      <td>petrol</td>\n",
       "      <td>volkswagen</td>\n",
       "      <td>no</td>\n",
       "      <td>2016-03-17 00:00:00</td>\n",
       "      <td>0</td>\n",
       "      <td>91074</td>\n",
       "      <td>2016-03-17 17:40:17</td>\n",
       "    </tr>\n",
       "    <tr>\n",
       "      <th>4</th>\n",
       "      <td>2016-03-31 17:25:20</td>\n",
       "      <td>3600</td>\n",
       "      <td>small</td>\n",
       "      <td>2008</td>\n",
       "      <td>manual</td>\n",
       "      <td>69</td>\n",
       "      <td>fabia</td>\n",
       "      <td>90000</td>\n",
       "      <td>7</td>\n",
       "      <td>gasoline</td>\n",
       "      <td>skoda</td>\n",
       "      <td>no</td>\n",
       "      <td>2016-03-31 00:00:00</td>\n",
       "      <td>0</td>\n",
       "      <td>60437</td>\n",
       "      <td>2016-04-06 10:17:21</td>\n",
       "    </tr>\n",
       "  </tbody>\n",
       "</table>\n",
       "</div>"
      ],
      "text/plain": [
       "           DateCrawled  Price VehicleType  RegistrationYear Gearbox  Power  \\\n",
       "0  2016-03-24 11:52:17    480         NaN              1993  manual      0   \n",
       "1  2016-03-24 10:58:45  18300       coupe              2011  manual    190   \n",
       "2  2016-03-14 12:52:21   9800         suv              2004    auto    163   \n",
       "3  2016-03-17 16:54:04   1500       small              2001  manual     75   \n",
       "4  2016-03-31 17:25:20   3600       small              2008  manual     69   \n",
       "\n",
       "   Model  Kilometer  RegistrationMonth  FuelType       Brand Repaired  \\\n",
       "0   golf     150000                  0    petrol  volkswagen      NaN   \n",
       "1    NaN     125000                  5  gasoline        audi      yes   \n",
       "2  grand     125000                  8  gasoline        jeep      NaN   \n",
       "3   golf     150000                  6    petrol  volkswagen       no   \n",
       "4  fabia      90000                  7  gasoline       skoda       no   \n",
       "\n",
       "           DateCreated  NumberOfPictures  PostalCode             LastSeen  \n",
       "0  2016-03-24 00:00:00                 0       70435  2016-04-07 03:16:57  \n",
       "1  2016-03-24 00:00:00                 0       66954  2016-04-07 01:46:50  \n",
       "2  2016-03-14 00:00:00                 0       90480  2016-04-05 12:47:46  \n",
       "3  2016-03-17 00:00:00                 0       91074  2016-03-17 17:40:17  \n",
       "4  2016-03-31 00:00:00                 0       60437  2016-04-06 10:17:21  "
      ]
     },
     "execution_count": 3,
     "metadata": {},
     "output_type": "execute_result"
    }
   ],
   "source": [
    "data = pd.read_csv('/datasets/autos.csv')\n",
    "display(data.info())\n",
    "data.head()"
   ]
  },
  {
   "cell_type": "code",
   "execution_count": 4,
   "metadata": {},
   "outputs": [],
   "source": [
    "data.drop_duplicates(inplace=True)"
   ]
  },
  {
   "cell_type": "code",
   "execution_count": 5,
   "metadata": {},
   "outputs": [
    {
     "data": {
      "text/plain": [
       "Index(['date_crawled', 'price', 'vehicle_type', 'registration_year', 'gearbox',\n",
       "       'power', 'model', 'kilometer', 'registration_month', 'fuel_type',\n",
       "       'brand', 'repaired', 'date_created', 'number_of_pictures',\n",
       "       'postal_code', 'last_seen'],\n",
       "      dtype='object')"
      ]
     },
     "execution_count": 5,
     "metadata": {},
     "output_type": "execute_result"
    }
   ],
   "source": [
    "data.columns = data.columns.str.replace(r\"([A-Z])\", r\" \\1\").str.lower().str.replace(' ', '_').str[1:]\n",
    "data.columns"
   ]
  },
  {
   "cell_type": "code",
   "execution_count": 6,
   "metadata": {},
   "outputs": [
    {
     "data": {
      "text/plain": [
       "date_crawled          0.000000\n",
       "price                 0.000000\n",
       "vehicle_type          0.105795\n",
       "registration_year     0.000000\n",
       "gearbox               0.055968\n",
       "power                 0.000000\n",
       "model                 0.055607\n",
       "kilometer             0.000000\n",
       "registration_month    0.000000\n",
       "fuel_type             0.092828\n",
       "brand                 0.000000\n",
       "repaired              0.200793\n",
       "date_created          0.000000\n",
       "number_of_pictures    0.000000\n",
       "postal_code           0.000000\n",
       "last_seen             0.000000\n",
       "dtype: float64"
      ]
     },
     "execution_count": 6,
     "metadata": {},
     "output_type": "execute_result"
    }
   ],
   "source": [
    "data.isna().mean()"
   ]
  },
  {
   "cell_type": "code",
   "execution_count": 7,
   "metadata": {},
   "outputs": [],
   "source": [
    "def show_rows(data_frame):\n",
    "    for column in data_frame.columns:\n",
    "        print('Уникальные значения столбца', column)\n",
    "        print(data_frame[column].unique())"
   ]
  },
  {
   "cell_type": "code",
   "execution_count": 8,
   "metadata": {},
   "outputs": [
    {
     "name": "stdout",
     "output_type": "stream",
     "text": [
      "Уникальные значения столбца date_crawled\n",
      "['2016-03-24 11:52:17' '2016-03-24 10:58:45' '2016-03-14 12:52:21' ...\n",
      " '2016-03-21 09:50:58' '2016-03-14 17:48:27' '2016-03-19 18:57:12']\n",
      "Уникальные значения столбца price\n",
      "[  480 18300  9800 ... 12395 18429 10985]\n",
      "Уникальные значения столбца vehicle_type\n",
      "[nan 'coupe' 'suv' 'small' 'sedan' 'convertible' 'bus' 'wagon' 'other']\n",
      "Уникальные значения столбца registration_year\n",
      "[1993 2011 2004 2001 2008 1995 1980 2014 1998 2005 1910 2016 2007 2009\n",
      " 2002 2018 1997 1990 2017 1981 2003 1994 1991 1984 2006 1999 2012 2010\n",
      " 2000 1992 2013 1996 1985 1989 2015 1982 1976 1983 1973 1111 1969 1971\n",
      " 1987 1986 1988 1970 1965 1945 1925 1974 1979 1955 1978 1972 1968 1977\n",
      " 1961 1960 1966 1975 1963 1964 5000 1954 1958 1967 1959 9999 1956 3200\n",
      " 1000 1941 8888 1500 2200 4100 1962 1929 1957 1940 3000 2066 1949 2019\n",
      " 1937 1951 1800 1953 1234 8000 5300 9000 2900 6000 5900 5911 1933 1400\n",
      " 1950 4000 1948 1952 1200 8500 1932 1255 3700 3800 4800 1942 7000 1935\n",
      " 1936 6500 1923 2290 2500 1930 1001 9450 1944 1943 1934 1938 1688 2800\n",
      " 1253 1928 1919 5555 5600 1600 2222 1039 9996 1300 8455 1931 1915 4500\n",
      " 1920 1602 7800 9229 1947 1927 7100 8200 1946 7500 3500]\n",
      "Уникальные значения столбца gearbox\n",
      "['manual' 'auto' nan]\n",
      "Уникальные значения столбца power\n",
      "[    0   190   163    75    69   102   109    50   125   101   105   140\n",
      "   115   131    60   136   160   231    90   118   193    99   113   218\n",
      "   122   129    70   306    95    61   177    80   170    55   143    64\n",
      "   286   232   150   156    82   155    54   185    87   180    86    84\n",
      "   224   235   200   178   265    77   110   144   120   116   184   126\n",
      "   204    88   194   305   197   179   250    45   313    41   165    98\n",
      "   130   114   211    56   201   213    58   107    83   174   100   220\n",
      "    85    73   192    68    66   299    74    52   147    65   310    71\n",
      "    97   239   203     5   300   103   258   320    63    81   148    44\n",
      "   145   230   280   260   104   188   333   186   117   141    59   132\n",
      "   234   158    39    92    51   135    53   209    43   146    67   106\n",
      "   166   276   344    72   249   237   245   111   326   279    23   138\n",
      "   175    96   226    26    37   301   334   128   133   124    33   219\n",
      "   241   167    94   182   196   238  1398   228   112    48   272   139\n",
      "  1799    40   240    79   256   360   243   375   252   396   340   108\n",
      "   121   345   187   289   222   198   284   450   233   387   152   347\n",
      "   172    57   137   212   476   314    30     7    47   173   290   207\n",
      "   205   171   750    78    91    89   349   325    76   151   350   953\n",
      "    93   142   500   343   199   119   164    16   264   367   208   210\n",
      "    46   435  1001   225   127   176   161   603   307   354    35   206\n",
      "   771   355   273   223   255   123   154   149  7515  1400   268   620\n",
      "   169   400   275    34     2   242  1779   285   162   328  1753   329\n",
      "   134   420   247   168 10317   215    18   330   283    62    10   214\n",
      "   183   254    15   321   322   315   952   600   181   426   599   379\n",
      "   999    22   157    42   195   553     4   309   507   381   271   440\n",
      "   189   401  1111  2729    21   236  1240  1704   521     1  1900   270\n",
      "    24   159   292   808   515  1200   303    29    38  1993    14   216\n",
      "   610   504    49   267   331   363   261   385  1011   253   696 10520\n",
      "   376   227   311    27   217    20  1999    11  1056    25   394    12\n",
      "   298   296  1659   294   551  6920   246    17  1800  1625   368   390\n",
      "   221  1367   259   606   327  2017  1597   266   374   392     9   405\n",
      "    13   262   601   430   295     8   411   900   541  7512   382 10218\n",
      "  7544  1102   287    19   751   297  1090   457   282   602   388     6\n",
      "  1000  5411   335  1360   202  3750   805  1062  1024 11530   364  1796\n",
      "  5000   269   460  1002   288  1780 12012 17932   316  2005  1399   191\n",
      "   278  1300   380   257   449  1256   153  1653   520   560   281 12510\n",
      "     3  1500   386    32  1202  2016  1436  1405   671   274  1288  1055\n",
      " 10912 15016  6226  1115   277  1105   341  1223  2340  8404  1968   338\n",
      "   445  1920   370   517  4400 10710 10522  9010   431  1164 11509   371\n",
      "  1501   428 11635    36   304   348  1703  1910  1995   579 10000   580\n",
      "   408    31  1005   358  1403   489  5575 19211   585   960   365   353\n",
      "   490   352  1801   346   550  3199   800  7508  1312   357  1937   950\n",
      "  4700  1600  3454 19208   251   850   337   700  8011  2331  2789   487\n",
      "   519  2461  6006  3500  5815  6018  1781  1503   612  1596   229  1506\n",
      "  5809 15020  5867  2172  1598 17410  1363   584  1054   851  1339   318\n",
      "   510   525  1700    28  1151   685  6011   317   703  1771 15001   514\n",
      "   362   332   324  6045   530   425   308  6010   475   903   640  2000\n",
      "   248   651  2799 17011   505  1103  1521   351 16051   398  9000  1998\n",
      " 10311   409  1230 17019 12684  8259  1895   901  1317   871   909  2201\n",
      "  1595   776 17700 11011  1199   459  1162  1120 15033  1896   339   361\n",
      "   574  6512   454   650 13616   604   607 16312  1082   336 20000   416\n",
      "   678  6012  1401  1021  1870 13636  1250  9710   323  1158  2009   902\n",
      "  6062  1275   572   244   399  1016   743  1221  2402 16011  1362   544\n",
      "   645   907   702 12512  1986  1003  1432  9013  9011   442  1017  1394\n",
      " 15017 10910  1992   540  2018 11025  1433  1701  2792  1502  1239  1390\n",
      " 14009  1160  1351 11111  1783  9007   923  1149   754  1988   402  2004\n",
      "  5420  1793  1324   356  7511  1299   293 19312  1079  1689   998  1100\n",
      "  9012  1933   508 16311   682  1252  1922  7529   732  2389  2200  1707\n",
      "  1416  8500  1012   485  3000 10110   421  4507  1631  7518   377  1004\n",
      "  2007  2598  1548  1241]\n",
      "Уникальные значения столбца model\n",
      "['golf' nan 'grand' 'fabia' '3er' '2_reihe' 'other' 'c_max' '3_reihe'\n",
      " 'passat' 'navara' 'ka' 'polo' 'twingo' 'a_klasse' 'scirocco' '5er'\n",
      " 'meriva' 'arosa' 'c4' 'civic' 'transporter' 'punto' 'e_klasse' 'clio'\n",
      " 'kadett' 'kangoo' 'corsa' 'one' 'fortwo' '1er' 'b_klasse' 'signum'\n",
      " 'astra' 'a8' 'jetta' 'fiesta' 'c_klasse' 'micra' 'vito' 'sprinter' '156'\n",
      " 'escort' 'forester' 'xc_reihe' 'scenic' 'a4' 'a1' 'insignia' 'combo'\n",
      " 'focus' 'tt' 'a6' 'jazz' 'omega' 'slk' '7er' '80' '147' '100' 'z_reihe'\n",
      " 'sportage' 'sorento' 'v40' 'ibiza' 'mustang' 'eos' 'touran' 'getz' 'a3'\n",
      " 'almera' 'megane' 'lupo' 'r19' 'zafira' 'caddy' 'mondeo' 'cordoba' 'colt'\n",
      " 'impreza' 'vectra' 'berlingo' 'tiguan' 'i_reihe' 'espace' 'sharan'\n",
      " '6_reihe' 'panda' 'up' 'seicento' 'ceed' '5_reihe' 'yeti' 'octavia' 'mii'\n",
      " 'rx_reihe' '6er' 'modus' 'fox' 'matiz' 'beetle' 'c1' 'rio' 'touareg'\n",
      " 'logan' 'spider' 'cuore' 's_max' 'a2' 'galaxy' 'c3' 'viano' 's_klasse'\n",
      " '1_reihe' 'avensis' 'roomster' 'sl' 'kaefer' 'santa' 'cooper' 'leon'\n",
      " '4_reihe' 'a5' '500' 'laguna' 'ptcruiser' 'clk' 'primera' 'x_reihe'\n",
      " 'exeo' '159' 'transit' 'juke' 'qashqai' 'carisma' 'accord' 'corolla'\n",
      " 'lanos' 'phaeton' 'verso' 'swift' 'rav' 'picanto' 'boxster' 'kalos'\n",
      " 'superb' 'stilo' 'alhambra' 'mx_reihe' 'roadster' 'ypsilon' 'cayenne'\n",
      " 'galant' 'justy' '90' 'sirion' 'crossfire' 'agila' 'duster' 'cr_reihe'\n",
      " 'v50' 'c_reihe' 'v_klasse' 'm_klasse' 'yaris' 'c5' 'aygo' 'cc' 'carnival'\n",
      " 'fusion' '911' 'bora' 'forfour' 'm_reihe' 'cl' 'tigra' '300c' 'spark'\n",
      " 'v70' 'kuga' 'x_type' 'ducato' 's_type' 'x_trail' 'toledo' 'altea'\n",
      " 'voyager' 'calibra' 'bravo' 'antara' 'tucson' 'citigo' 'jimny' 'wrangler'\n",
      " 'lybra' 'q7' 'lancer' 'captiva' 'c2' 'discovery' 'freelander' 'sandero'\n",
      " 'note' '900' 'cherokee' 'clubman' 'samara' 'defender' '601' 'cx_reihe'\n",
      " 'legacy' 'pajero' 'auris' 'niva' 's60' 'nubira' 'vivaro' 'g_klasse'\n",
      " 'lodgy' '850' 'range_rover' 'q3' 'serie_2' 'glk' 'charade' 'croma'\n",
      " 'outlander' 'doblo' 'musa' 'move' '9000' 'v60' '145' 'aveo' '200' 'b_max'\n",
      " 'range_rover_sport' 'terios' 'rangerover' 'q5' 'range_rover_evoque'\n",
      " 'materia' 'delta' 'gl' 'kalina' 'amarok' 'elefantino' 'i3' 'kappa'\n",
      " 'serie_3' 'serie_1']\n",
      "Уникальные значения столбца kilometer\n",
      "[150000 125000  90000  40000  30000  70000   5000 100000  60000  20000\n",
      "  80000  50000  10000]\n",
      "Уникальные значения столбца registration_month\n",
      "[ 0  5  8  6  7 10 12 11  2  3  1  4  9]\n",
      "Уникальные значения столбца fuel_type\n",
      "['petrol' 'gasoline' nan 'lpg' 'other' 'hybrid' 'cng' 'electric']\n",
      "Уникальные значения столбца brand\n",
      "['volkswagen' 'audi' 'jeep' 'skoda' 'bmw' 'peugeot' 'ford' 'mazda'\n",
      " 'nissan' 'renault' 'mercedes_benz' 'opel' 'seat' 'citroen' 'honda' 'fiat'\n",
      " 'mini' 'smart' 'hyundai' 'sonstige_autos' 'alfa_romeo' 'subaru' 'volvo'\n",
      " 'mitsubishi' 'kia' 'suzuki' 'lancia' 'toyota' 'chevrolet' 'dacia'\n",
      " 'daihatsu' 'trabant' 'saab' 'chrysler' 'jaguar' 'daewoo' 'porsche'\n",
      " 'rover' 'land_rover' 'lada']\n",
      "Уникальные значения столбца repaired\n",
      "[nan 'yes' 'no']\n",
      "Уникальные значения столбца date_created\n",
      "['2016-03-24 00:00:00' '2016-03-14 00:00:00' '2016-03-17 00:00:00'\n",
      " '2016-03-31 00:00:00' '2016-04-04 00:00:00' '2016-04-01 00:00:00'\n",
      " '2016-03-21 00:00:00' '2016-03-26 00:00:00' '2016-04-07 00:00:00'\n",
      " '2016-03-15 00:00:00' '2016-03-11 00:00:00' '2016-03-20 00:00:00'\n",
      " '2016-03-23 00:00:00' '2016-03-27 00:00:00' '2016-03-12 00:00:00'\n",
      " '2016-03-13 00:00:00' '2016-03-18 00:00:00' '2016-03-10 00:00:00'\n",
      " '2016-03-07 00:00:00' '2016-03-09 00:00:00' '2016-03-08 00:00:00'\n",
      " '2016-04-03 00:00:00' '2016-03-29 00:00:00' '2016-03-25 00:00:00'\n",
      " '2016-03-28 00:00:00' '2016-03-30 00:00:00' '2016-03-22 00:00:00'\n",
      " '2016-02-09 00:00:00' '2016-03-05 00:00:00' '2016-04-02 00:00:00'\n",
      " '2016-03-16 00:00:00' '2016-03-19 00:00:00' '2016-04-05 00:00:00'\n",
      " '2016-03-06 00:00:00' '2016-02-12 00:00:00' '2016-03-03 00:00:00'\n",
      " '2016-03-01 00:00:00' '2016-03-04 00:00:00' '2016-04-06 00:00:00'\n",
      " '2016-02-15 00:00:00' '2016-02-24 00:00:00' '2016-02-27 00:00:00'\n",
      " '2015-03-20 00:00:00' '2016-02-28 00:00:00' '2016-02-17 00:00:00'\n",
      " '2016-01-27 00:00:00' '2016-02-20 00:00:00' '2016-02-29 00:00:00'\n",
      " '2016-02-10 00:00:00' '2016-02-23 00:00:00' '2016-02-21 00:00:00'\n",
      " '2015-11-02 00:00:00' '2016-02-19 00:00:00' '2016-02-26 00:00:00'\n",
      " '2016-02-11 00:00:00' '2016-01-10 00:00:00' '2016-02-06 00:00:00'\n",
      " '2016-02-18 00:00:00' '2016-01-29 00:00:00' '2016-03-02 00:00:00'\n",
      " '2015-12-06 00:00:00' '2016-01-24 00:00:00' '2016-01-30 00:00:00'\n",
      " '2016-02-02 00:00:00' '2016-02-16 00:00:00' '2016-02-13 00:00:00'\n",
      " '2016-02-05 00:00:00' '2016-02-22 00:00:00' '2015-11-17 00:00:00'\n",
      " '2014-03-10 00:00:00' '2016-02-07 00:00:00' '2016-01-23 00:00:00'\n",
      " '2016-02-25 00:00:00' '2016-02-14 00:00:00' '2016-01-02 00:00:00'\n",
      " '2015-09-04 00:00:00' '2015-11-12 00:00:00' '2015-12-27 00:00:00'\n",
      " '2015-11-24 00:00:00' '2016-01-20 00:00:00' '2016-02-03 00:00:00'\n",
      " '2015-12-05 00:00:00' '2015-08-07 00:00:00' '2016-01-28 00:00:00'\n",
      " '2016-01-31 00:00:00' '2016-02-08 00:00:00' '2016-01-07 00:00:00'\n",
      " '2016-01-22 00:00:00' '2016-01-18 00:00:00' '2016-01-08 00:00:00'\n",
      " '2015-11-23 00:00:00' '2016-01-13 00:00:00' '2016-01-17 00:00:00'\n",
      " '2016-01-15 00:00:00' '2015-11-08 00:00:00' '2016-01-26 00:00:00'\n",
      " '2016-02-04 00:00:00' '2016-01-25 00:00:00' '2016-01-16 00:00:00'\n",
      " '2015-08-10 00:00:00' '2016-01-03 00:00:00' '2016-01-19 00:00:00'\n",
      " '2015-12-30 00:00:00' '2016-02-01 00:00:00' '2015-12-17 00:00:00'\n",
      " '2015-11-10 00:00:00' '2016-01-06 00:00:00' '2015-09-09 00:00:00'\n",
      " '2015-06-18 00:00:00']\n",
      "Уникальные значения столбца number_of_pictures\n",
      "[0]\n",
      "Уникальные значения столбца postal_code\n",
      "[70435 66954 90480 ... 38528 38325 31096]\n",
      "Уникальные значения столбца last_seen\n",
      "['2016-04-07 03:16:57' '2016-04-07 01:46:50' '2016-04-05 12:47:46' ...\n",
      " '2016-03-19 20:44:43' '2016-03-29 10:17:23' '2016-03-21 10:42:49']\n"
     ]
    }
   ],
   "source": [
    "show_rows(data)"
   ]
  },
  {
   "cell_type": "markdown",
   "metadata": {},
   "source": [
    "В столбце registrationyear существуют некорректные значения года регистрации.\n",
    "В столбце registrationmonth отсутсвует месяц регистрации.\n",
    "В столбце power присутвует некорректное значение мощности.\n",
    "\n",
    "Определим признаки, важные для модели.\n",
    "\n",
    "К значимым признакам отнесем следующие столбцы:\n",
    "\n",
    "vehicle_type. Тип машины определяет ее стоимость и возможность использования в разных ситуациях.   \n",
    "gearbox. Наличие автоматической коробки передач повышает стоимость машины из-за сложности конструкции.  \n",
    "power. Мощность в лоашдиных силах напрямую влияют на цену.  \n",
    "kilometer. Имеет обратно пропорциональную зависиммость от цены. Чем больше пробег, тем меньше цена.  \n",
    "fuel_type. Тип топлива определяет конструкцию двигателя внутреннего сгорания, что также влияет на цену.  \n",
    "brand. Компания, которая создала автомобиль, может влиять на цену (более элитные марки будут стоить больше).  \n",
    "repaired. Машины, которые были в ремонте, менее надежно, а следовательно дешевле.  \n",
    "registration_year. Год регистрации определяет сколько уже лет машина на ходу. Чем больше возраст, тем меньше цена.  \n",
    "model. Вместе с типом машины и брендом може влиять на популярность у покупателей.  \n",
    "  \n",
    "Остальные столбцы для модели не требуются, так как не влияют на стоимость."
   ]
  },
  {
   "cell_type": "code",
   "execution_count": 9,
   "metadata": {},
   "outputs": [
    {
     "name": "stdout",
     "output_type": "stream",
     "text": [
      "<class 'pandas.core.frame.DataFrame'>\n",
      "Int64Index: 354365 entries, 0 to 354368\n",
      "Data columns (total 10 columns):\n",
      " #   Column             Non-Null Count   Dtype \n",
      "---  ------             --------------   ----- \n",
      " 0   vehicle_type       316875 non-null  object\n",
      " 1   gearbox            334532 non-null  object\n",
      " 2   power              354365 non-null  int64 \n",
      " 3   kilometer          354365 non-null  int64 \n",
      " 4   fuel_type          321470 non-null  object\n",
      " 5   brand              354365 non-null  object\n",
      " 6   repaired           283211 non-null  object\n",
      " 7   registration_year  354365 non-null  int64 \n",
      " 8   model              334660 non-null  object\n",
      " 9   price              354365 non-null  int64 \n",
      "dtypes: int64(4), object(6)\n",
      "memory usage: 29.7+ MB\n"
     ]
    }
   ],
   "source": [
    "filtred_data = data[['vehicle_type', \n",
    "                     'gearbox', \n",
    "                     'power',\n",
    "                     'kilometer',\n",
    "                     'fuel_type',\n",
    "                     'brand',\n",
    "                     'repaired',\n",
    "                     'registration_year',\n",
    "                     'model',\n",
    "                     'price']]\n",
    "filtred_data.info()"
   ]
  },
  {
   "cell_type": "markdown",
   "metadata": {},
   "source": [
    "- VehicleType. Для всех Nan установим значение 'other'.\n",
    "- Gearbox. Для всех NaN установим значение 'manual'.\n",
    "- FuelType. Для всех Nan установим значение 'other'.\n",
    "- Repaired. Для всех NaN установим значение 'yes'.\n",
    "- Model. Для всех NaN установим значение 'unknown'.\n",
    "  \n",
    "- Power. Избавимся от выбросов. \n",
    "- RegistrationYear. Избавимся от выбросов."
   ]
  },
  {
   "cell_type": "code",
   "execution_count": 10,
   "metadata": {},
   "outputs": [],
   "source": [
    "filtred_data[\"vehicle_type\"] = filtred_data[\"vehicle_type\"].fillna(\"other\")\n",
    "filtred_data[\"gearbox\"] = filtred_data[\"gearbox\"].fillna(\"manual\")\n",
    "filtred_data[\"fuel_type\"] = filtred_data[\"fuel_type\"].fillna(\"other\")\n",
    "filtred_data[\"repaired\"] = filtred_data[\"repaired\"].fillna(\"yes\")\n",
    "filtred_data[\"model\"] = filtred_data[\"model\"].fillna(\"unknown\")"
   ]
  },
  {
   "cell_type": "code",
   "execution_count": 11,
   "metadata": {},
   "outputs": [
    {
     "name": "stdout",
     "output_type": "stream",
     "text": [
      "<class 'pandas.core.frame.DataFrame'>\n",
      "Int64Index: 354365 entries, 0 to 354368\n",
      "Data columns (total 10 columns):\n",
      " #   Column             Non-Null Count   Dtype \n",
      "---  ------             --------------   ----- \n",
      " 0   vehicle_type       354365 non-null  object\n",
      " 1   gearbox            354365 non-null  object\n",
      " 2   power              354365 non-null  int64 \n",
      " 3   kilometer          354365 non-null  int64 \n",
      " 4   fuel_type          354365 non-null  object\n",
      " 5   brand              354365 non-null  object\n",
      " 6   repaired           354365 non-null  object\n",
      " 7   registration_year  354365 non-null  int64 \n",
      " 8   model              354365 non-null  object\n",
      " 9   price              354365 non-null  int64 \n",
      "dtypes: int64(4), object(6)\n",
      "memory usage: 29.7+ MB\n"
     ]
    }
   ],
   "source": [
    "filtred_data.info()"
   ]
  },
  {
   "cell_type": "code",
   "execution_count": 12,
   "metadata": {},
   "outputs": [
    {
     "data": {
      "text/html": [
       "<div>\n",
       "<style scoped>\n",
       "    .dataframe tbody tr th:only-of-type {\n",
       "        vertical-align: middle;\n",
       "    }\n",
       "\n",
       "    .dataframe tbody tr th {\n",
       "        vertical-align: top;\n",
       "    }\n",
       "\n",
       "    .dataframe thead th {\n",
       "        text-align: right;\n",
       "    }\n",
       "</style>\n",
       "<table border=\"1\" class=\"dataframe\">\n",
       "  <thead>\n",
       "    <tr style=\"text-align: right;\">\n",
       "      <th></th>\n",
       "      <th>power</th>\n",
       "      <th>kilometer</th>\n",
       "      <th>registration_year</th>\n",
       "      <th>price</th>\n",
       "    </tr>\n",
       "  </thead>\n",
       "  <tbody>\n",
       "    <tr>\n",
       "      <th>count</th>\n",
       "      <td>354365.000000</td>\n",
       "      <td>354365.000000</td>\n",
       "      <td>354365.000000</td>\n",
       "      <td>354365.000000</td>\n",
       "    </tr>\n",
       "    <tr>\n",
       "      <th>mean</th>\n",
       "      <td>110.093816</td>\n",
       "      <td>128211.363989</td>\n",
       "      <td>2004.234481</td>\n",
       "      <td>4416.679830</td>\n",
       "    </tr>\n",
       "    <tr>\n",
       "      <th>std</th>\n",
       "      <td>189.851330</td>\n",
       "      <td>37905.083858</td>\n",
       "      <td>90.228466</td>\n",
       "      <td>4514.176349</td>\n",
       "    </tr>\n",
       "    <tr>\n",
       "      <th>min</th>\n",
       "      <td>0.000000</td>\n",
       "      <td>5000.000000</td>\n",
       "      <td>1000.000000</td>\n",
       "      <td>0.000000</td>\n",
       "    </tr>\n",
       "    <tr>\n",
       "      <th>25%</th>\n",
       "      <td>69.000000</td>\n",
       "      <td>125000.000000</td>\n",
       "      <td>1999.000000</td>\n",
       "      <td>1050.000000</td>\n",
       "    </tr>\n",
       "    <tr>\n",
       "      <th>50%</th>\n",
       "      <td>105.000000</td>\n",
       "      <td>150000.000000</td>\n",
       "      <td>2003.000000</td>\n",
       "      <td>2700.000000</td>\n",
       "    </tr>\n",
       "    <tr>\n",
       "      <th>75%</th>\n",
       "      <td>143.000000</td>\n",
       "      <td>150000.000000</td>\n",
       "      <td>2008.000000</td>\n",
       "      <td>6400.000000</td>\n",
       "    </tr>\n",
       "    <tr>\n",
       "      <th>max</th>\n",
       "      <td>20000.000000</td>\n",
       "      <td>150000.000000</td>\n",
       "      <td>9999.000000</td>\n",
       "      <td>20000.000000</td>\n",
       "    </tr>\n",
       "  </tbody>\n",
       "</table>\n",
       "</div>"
      ],
      "text/plain": [
       "               power      kilometer  registration_year          price\n",
       "count  354365.000000  354365.000000      354365.000000  354365.000000\n",
       "mean      110.093816  128211.363989        2004.234481    4416.679830\n",
       "std       189.851330   37905.083858          90.228466    4514.176349\n",
       "min         0.000000    5000.000000        1000.000000       0.000000\n",
       "25%        69.000000  125000.000000        1999.000000    1050.000000\n",
       "50%       105.000000  150000.000000        2003.000000    2700.000000\n",
       "75%       143.000000  150000.000000        2008.000000    6400.000000\n",
       "max     20000.000000  150000.000000        9999.000000   20000.000000"
      ]
     },
     "execution_count": 12,
     "metadata": {},
     "output_type": "execute_result"
    }
   ],
   "source": [
    "filtred_data.describe()"
   ]
  },
  {
   "cell_type": "code",
   "execution_count": 13,
   "metadata": {},
   "outputs": [],
   "source": [
    "# RegistrationYear \n",
    "def Balance_RegistrationYear(value):\n",
    "    if value > 2015:\n",
    "        return 2015\n",
    "    elif value < 1900:\n",
    "        return 1900\n",
    "    else:\n",
    "        return value\n",
    "\n",
    "filtred_data[\"registration_year\"] = filtred_data[\"registration_year\"].apply(Balance_RegistrationYear)"
   ]
  },
  {
   "cell_type": "code",
   "execution_count": 14,
   "metadata": {},
   "outputs": [],
   "source": [
    "# Power\n",
    "def Balance_Power(value):\n",
    "    if value > 3500:\n",
    "        return 3500\n",
    "    elif value < 80:\n",
    "        return 80\n",
    "    else:\n",
    "        return value\n",
    "\n",
    "filtred_data[\"power\"] = filtred_data[\"power\"].apply(Balance_Power)"
   ]
  },
  {
   "cell_type": "code",
   "execution_count": 15,
   "metadata": {},
   "outputs": [
    {
     "data": {
      "text/html": [
       "<div>\n",
       "<style scoped>\n",
       "    .dataframe tbody tr th:only-of-type {\n",
       "        vertical-align: middle;\n",
       "    }\n",
       "\n",
       "    .dataframe tbody tr th {\n",
       "        vertical-align: top;\n",
       "    }\n",
       "\n",
       "    .dataframe thead th {\n",
       "        text-align: right;\n",
       "    }\n",
       "</style>\n",
       "<table border=\"1\" class=\"dataframe\">\n",
       "  <thead>\n",
       "    <tr style=\"text-align: right;\">\n",
       "      <th></th>\n",
       "      <th>power</th>\n",
       "      <th>kilometer</th>\n",
       "      <th>registration_year</th>\n",
       "      <th>price</th>\n",
       "    </tr>\n",
       "  </thead>\n",
       "  <tbody>\n",
       "    <tr>\n",
       "      <th>count</th>\n",
       "      <td>354365.000000</td>\n",
       "      <td>354365.000000</td>\n",
       "      <td>354365.000000</td>\n",
       "      <td>354365.000000</td>\n",
       "    </tr>\n",
       "    <tr>\n",
       "      <th>mean</th>\n",
       "      <td>121.263485</td>\n",
       "      <td>128211.363989</td>\n",
       "      <td>2002.949326</td>\n",
       "      <td>4416.679830</td>\n",
       "    </tr>\n",
       "    <tr>\n",
       "      <th>std</th>\n",
       "      <td>82.474071</td>\n",
       "      <td>37905.083858</td>\n",
       "      <td>7.461354</td>\n",
       "      <td>4514.176349</td>\n",
       "    </tr>\n",
       "    <tr>\n",
       "      <th>min</th>\n",
       "      <td>80.000000</td>\n",
       "      <td>5000.000000</td>\n",
       "      <td>1900.000000</td>\n",
       "      <td>0.000000</td>\n",
       "    </tr>\n",
       "    <tr>\n",
       "      <th>25%</th>\n",
       "      <td>80.000000</td>\n",
       "      <td>125000.000000</td>\n",
       "      <td>1999.000000</td>\n",
       "      <td>1050.000000</td>\n",
       "    </tr>\n",
       "    <tr>\n",
       "      <th>50%</th>\n",
       "      <td>105.000000</td>\n",
       "      <td>150000.000000</td>\n",
       "      <td>2003.000000</td>\n",
       "      <td>2700.000000</td>\n",
       "    </tr>\n",
       "    <tr>\n",
       "      <th>75%</th>\n",
       "      <td>143.000000</td>\n",
       "      <td>150000.000000</td>\n",
       "      <td>2008.000000</td>\n",
       "      <td>6400.000000</td>\n",
       "    </tr>\n",
       "    <tr>\n",
       "      <th>max</th>\n",
       "      <td>3500.000000</td>\n",
       "      <td>150000.000000</td>\n",
       "      <td>2015.000000</td>\n",
       "      <td>20000.000000</td>\n",
       "    </tr>\n",
       "  </tbody>\n",
       "</table>\n",
       "</div>"
      ],
      "text/plain": [
       "               power      kilometer  registration_year          price\n",
       "count  354365.000000  354365.000000      354365.000000  354365.000000\n",
       "mean      121.263485  128211.363989        2002.949326    4416.679830\n",
       "std        82.474071   37905.083858           7.461354    4514.176349\n",
       "min        80.000000    5000.000000        1900.000000       0.000000\n",
       "25%        80.000000  125000.000000        1999.000000    1050.000000\n",
       "50%       105.000000  150000.000000        2003.000000    2700.000000\n",
       "75%       143.000000  150000.000000        2008.000000    6400.000000\n",
       "max      3500.000000  150000.000000        2015.000000   20000.000000"
      ]
     },
     "execution_count": 15,
     "metadata": {},
     "output_type": "execute_result"
    }
   ],
   "source": [
    "filtred_data.describe()"
   ]
  },
  {
   "cell_type": "code",
   "execution_count": 16,
   "metadata": {},
   "outputs": [
    {
     "name": "stdout",
     "output_type": "stream",
     "text": [
      "<class 'pandas.core.frame.DataFrame'>\n",
      "Int64Index: 354365 entries, 0 to 354368\n",
      "Data columns (total 10 columns):\n",
      " #   Column             Non-Null Count   Dtype \n",
      "---  ------             --------------   ----- \n",
      " 0   vehicle_type       354365 non-null  object\n",
      " 1   gearbox            354365 non-null  object\n",
      " 2   power              354365 non-null  int64 \n",
      " 3   kilometer          354365 non-null  int64 \n",
      " 4   fuel_type          354365 non-null  object\n",
      " 5   brand              354365 non-null  object\n",
      " 6   repaired           354365 non-null  object\n",
      " 7   registration_year  354365 non-null  int64 \n",
      " 8   model              354365 non-null  object\n",
      " 9   price              354365 non-null  int64 \n",
      "dtypes: int64(4), object(6)\n",
      "memory usage: 29.7+ MB\n"
     ]
    }
   ],
   "source": [
    "filtred_data.info()"
   ]
  },
  {
   "cell_type": "markdown",
   "metadata": {},
   "source": [
    "Выводы предобработки:\n",
    "  \n",
    "Мы избавились от пропусков и выбросов. Можно приступать к обучению."
   ]
  },
  {
   "cell_type": "code",
   "execution_count": 17,
   "metadata": {
    "scrolled": true
   },
   "outputs": [
    {
     "data": {
      "text/plain": [
       "0        10772\n",
       "500       5670\n",
       "1500      5394\n",
       "1000      4648\n",
       "1200      4594\n",
       "         ...  \n",
       "13180        1\n",
       "10879        1\n",
       "2683         1\n",
       "634          1\n",
       "8188         1\n",
       "Name: price, Length: 3731, dtype: int64"
      ]
     },
     "execution_count": 17,
     "metadata": {},
     "output_type": "execute_result"
    }
   ],
   "source": [
    "filtred_data.price.value_counts()"
   ]
  },
  {
   "cell_type": "code",
   "execution_count": 18,
   "metadata": {},
   "outputs": [],
   "source": [
    "filtred_data = filtred_data.query('price > 0')"
   ]
  },
  {
   "cell_type": "code",
   "execution_count": 19,
   "metadata": {},
   "outputs": [
    {
     "data": {
      "text/plain": [
       "500      5670\n",
       "1500     5394\n",
       "1000     4648\n",
       "1200     4594\n",
       "2500     4438\n",
       "         ... \n",
       "5240        1\n",
       "13180       1\n",
       "10879       1\n",
       "2683        1\n",
       "8188        1\n",
       "Name: price, Length: 3730, dtype: int64"
      ]
     },
     "execution_count": 19,
     "metadata": {},
     "output_type": "execute_result"
    }
   ],
   "source": [
    "filtred_data.price.value_counts()"
   ]
  },
  {
   "cell_type": "code",
   "execution_count": 20,
   "metadata": {},
   "outputs": [
    {
     "data": {
      "text/plain": [
       "(343593, 10)"
      ]
     },
     "execution_count": 20,
     "metadata": {},
     "output_type": "execute_result"
    }
   ],
   "source": [
    "filtred_data.shape"
   ]
  },
  {
   "cell_type": "markdown",
   "metadata": {},
   "source": [
    "## Обучение моделей"
   ]
  },
  {
   "cell_type": "code",
   "execution_count": 21,
   "metadata": {},
   "outputs": [],
   "source": [
    "#признаки и целевой признак:\n",
    "features_orig = filtred_data.drop('price', axis=1)\n",
    "target = filtred_data.price"
   ]
  },
  {
   "cell_type": "code",
   "execution_count": 22,
   "metadata": {},
   "outputs": [],
   "source": [
    "#деление на выборки:\n",
    "features_train, features_test, target_train, target_test = train_test_split(features_orig,\n",
    "                                                                            target, \n",
    "                                                                            test_size=.25,\n",
    "                                                                            random_state=12345)"
   ]
  },
  {
   "cell_type": "code",
   "execution_count": 23,
   "metadata": {},
   "outputs": [
    {
     "name": "stdout",
     "output_type": "stream",
     "text": [
      "['vehicle_type', 'gearbox', 'fuel_type', 'brand', 'repaired', 'model']\n"
     ]
    }
   ],
   "source": [
    "#категориальные признаки для OHE \n",
    "ohe_features = features_train.select_dtypes(include='object').columns.to_list()\n",
    "print(ohe_features)"
   ]
  },
  {
   "cell_type": "code",
   "execution_count": 24,
   "metadata": {},
   "outputs": [
    {
     "data": {
      "text/plain": [
       "['power', 'kilometer', 'registration_year']"
      ]
     },
     "execution_count": 24,
     "metadata": {},
     "output_type": "execute_result"
    }
   ],
   "source": [
    "#численные признаки\n",
    "num_features = features_train.select_dtypes(exclude='object').columns.to_list()\n",
    "num_features"
   ]
  },
  {
   "cell_type": "code",
   "execution_count": 25,
   "metadata": {},
   "outputs": [],
   "source": [
    "# TEST\n",
    "encoder_ohe = OneHotEncoder(drop='first', handle_unknown='ignore')\n",
    "\n",
    "encoder_ohe.fit(features_train[ohe_features])\n",
    "\n",
    "# Получаем разреженую матрицу - она занимает меньше памяти\n",
    "sparse_matrix = encoder_ohe.transform(features_train[ohe_features])\n",
    "\n",
    "# Имена ohe фичей.\n",
    "ohe_columns = encoder_ohe.get_feature_names_out().tolist()\n",
    "\n",
    "# удаляем незакодированные категориальные признаки (изначальные колонки)\n",
    "# features_train = features_train.drop(ohe_features, axis=1)\n",
    "\n",
    "# создаём скелер\n",
    "scaler = StandardScaler()\n",
    "\n",
    "# обучаем его на численных признаках тренировочной выборки, трансформируем её же\n",
    "X_train_scaled = scaler.fit_transform(features_train[num_features])\n",
    "\n",
    "# собираем всё в Датафрейм\n",
    "features_train_arr = np.column_stack((sparse_matrix.toarray(), X_train_scaled))\n",
    "features_train_ohe = pd.DataFrame(features_train_arr, columns = ohe_columns + num_features)"
   ]
  },
  {
   "cell_type": "code",
   "execution_count": 26,
   "metadata": {
    "scrolled": true
   },
   "outputs": [
    {
     "data": {
      "text/html": [
       "<div>\n",
       "<style scoped>\n",
       "    .dataframe tbody tr th:only-of-type {\n",
       "        vertical-align: middle;\n",
       "    }\n",
       "\n",
       "    .dataframe tbody tr th {\n",
       "        vertical-align: top;\n",
       "    }\n",
       "\n",
       "    .dataframe thead th {\n",
       "        text-align: right;\n",
       "    }\n",
       "</style>\n",
       "<table border=\"1\" class=\"dataframe\">\n",
       "  <thead>\n",
       "    <tr style=\"text-align: right;\">\n",
       "      <th></th>\n",
       "      <th>vehicle_type_convertible</th>\n",
       "      <th>vehicle_type_coupe</th>\n",
       "      <th>vehicle_type_other</th>\n",
       "      <th>vehicle_type_sedan</th>\n",
       "      <th>vehicle_type_small</th>\n",
       "      <th>vehicle_type_suv</th>\n",
       "      <th>vehicle_type_wagon</th>\n",
       "      <th>gearbox_manual</th>\n",
       "      <th>fuel_type_electric</th>\n",
       "      <th>fuel_type_gasoline</th>\n",
       "      <th>...</th>\n",
       "      <th>model_x_type</th>\n",
       "      <th>model_xc_reihe</th>\n",
       "      <th>model_yaris</th>\n",
       "      <th>model_yeti</th>\n",
       "      <th>model_ypsilon</th>\n",
       "      <th>model_z_reihe</th>\n",
       "      <th>model_zafira</th>\n",
       "      <th>power</th>\n",
       "      <th>kilometer</th>\n",
       "      <th>registration_year</th>\n",
       "    </tr>\n",
       "  </thead>\n",
       "  <tbody>\n",
       "    <tr>\n",
       "      <th>0</th>\n",
       "      <td>0.0</td>\n",
       "      <td>0.0</td>\n",
       "      <td>0.0</td>\n",
       "      <td>1.0</td>\n",
       "      <td>0.0</td>\n",
       "      <td>0.0</td>\n",
       "      <td>0.0</td>\n",
       "      <td>1.0</td>\n",
       "      <td>0.0</td>\n",
       "      <td>0.0</td>\n",
       "      <td>...</td>\n",
       "      <td>0.0</td>\n",
       "      <td>0.0</td>\n",
       "      <td>0.0</td>\n",
       "      <td>0.0</td>\n",
       "      <td>0.0</td>\n",
       "      <td>0.0</td>\n",
       "      <td>0.0</td>\n",
       "      <td>1.373943</td>\n",
       "      <td>0.577495</td>\n",
       "      <td>0.816029</td>\n",
       "    </tr>\n",
       "    <tr>\n",
       "      <th>1</th>\n",
       "      <td>0.0</td>\n",
       "      <td>0.0</td>\n",
       "      <td>0.0</td>\n",
       "      <td>0.0</td>\n",
       "      <td>0.0</td>\n",
       "      <td>0.0</td>\n",
       "      <td>0.0</td>\n",
       "      <td>0.0</td>\n",
       "      <td>0.0</td>\n",
       "      <td>0.0</td>\n",
       "      <td>...</td>\n",
       "      <td>0.0</td>\n",
       "      <td>0.0</td>\n",
       "      <td>0.0</td>\n",
       "      <td>0.0</td>\n",
       "      <td>0.0</td>\n",
       "      <td>0.0</td>\n",
       "      <td>0.0</td>\n",
       "      <td>-0.506446</td>\n",
       "      <td>0.577495</td>\n",
       "      <td>-0.694671</td>\n",
       "    </tr>\n",
       "    <tr>\n",
       "      <th>2</th>\n",
       "      <td>0.0</td>\n",
       "      <td>0.0</td>\n",
       "      <td>0.0</td>\n",
       "      <td>0.0</td>\n",
       "      <td>1.0</td>\n",
       "      <td>0.0</td>\n",
       "      <td>0.0</td>\n",
       "      <td>0.0</td>\n",
       "      <td>0.0</td>\n",
       "      <td>0.0</td>\n",
       "      <td>...</td>\n",
       "      <td>0.0</td>\n",
       "      <td>0.0</td>\n",
       "      <td>0.0</td>\n",
       "      <td>0.0</td>\n",
       "      <td>0.0</td>\n",
       "      <td>0.0</td>\n",
       "      <td>0.0</td>\n",
       "      <td>-0.506446</td>\n",
       "      <td>0.577495</td>\n",
       "      <td>-1.381353</td>\n",
       "    </tr>\n",
       "    <tr>\n",
       "      <th>3</th>\n",
       "      <td>0.0</td>\n",
       "      <td>0.0</td>\n",
       "      <td>0.0</td>\n",
       "      <td>0.0</td>\n",
       "      <td>1.0</td>\n",
       "      <td>0.0</td>\n",
       "      <td>0.0</td>\n",
       "      <td>1.0</td>\n",
       "      <td>0.0</td>\n",
       "      <td>0.0</td>\n",
       "      <td>...</td>\n",
       "      <td>0.0</td>\n",
       "      <td>0.0</td>\n",
       "      <td>0.0</td>\n",
       "      <td>0.0</td>\n",
       "      <td>0.0</td>\n",
       "      <td>0.0</td>\n",
       "      <td>0.0</td>\n",
       "      <td>-0.506446</td>\n",
       "      <td>-1.555553</td>\n",
       "      <td>0.816029</td>\n",
       "    </tr>\n",
       "    <tr>\n",
       "      <th>4</th>\n",
       "      <td>0.0</td>\n",
       "      <td>0.0</td>\n",
       "      <td>0.0</td>\n",
       "      <td>1.0</td>\n",
       "      <td>0.0</td>\n",
       "      <td>0.0</td>\n",
       "      <td>0.0</td>\n",
       "      <td>1.0</td>\n",
       "      <td>0.0</td>\n",
       "      <td>0.0</td>\n",
       "      <td>...</td>\n",
       "      <td>0.0</td>\n",
       "      <td>0.0</td>\n",
       "      <td>0.0</td>\n",
       "      <td>0.0</td>\n",
       "      <td>0.0</td>\n",
       "      <td>0.0</td>\n",
       "      <td>0.0</td>\n",
       "      <td>-0.506446</td>\n",
       "      <td>0.577495</td>\n",
       "      <td>-0.832007</td>\n",
       "    </tr>\n",
       "  </tbody>\n",
       "</table>\n",
       "<p>5 rows × 307 columns</p>\n",
       "</div>"
      ],
      "text/plain": [
       "   vehicle_type_convertible  vehicle_type_coupe  vehicle_type_other  \\\n",
       "0                       0.0                 0.0                 0.0   \n",
       "1                       0.0                 0.0                 0.0   \n",
       "2                       0.0                 0.0                 0.0   \n",
       "3                       0.0                 0.0                 0.0   \n",
       "4                       0.0                 0.0                 0.0   \n",
       "\n",
       "   vehicle_type_sedan  vehicle_type_small  vehicle_type_suv  \\\n",
       "0                 1.0                 0.0               0.0   \n",
       "1                 0.0                 0.0               0.0   \n",
       "2                 0.0                 1.0               0.0   \n",
       "3                 0.0                 1.0               0.0   \n",
       "4                 1.0                 0.0               0.0   \n",
       "\n",
       "   vehicle_type_wagon  gearbox_manual  fuel_type_electric  fuel_type_gasoline  \\\n",
       "0                 0.0             1.0                 0.0                 0.0   \n",
       "1                 0.0             0.0                 0.0                 0.0   \n",
       "2                 0.0             0.0                 0.0                 0.0   \n",
       "3                 0.0             1.0                 0.0                 0.0   \n",
       "4                 0.0             1.0                 0.0                 0.0   \n",
       "\n",
       "   ...  model_x_type  model_xc_reihe  model_yaris  model_yeti  model_ypsilon  \\\n",
       "0  ...           0.0             0.0          0.0         0.0            0.0   \n",
       "1  ...           0.0             0.0          0.0         0.0            0.0   \n",
       "2  ...           0.0             0.0          0.0         0.0            0.0   \n",
       "3  ...           0.0             0.0          0.0         0.0            0.0   \n",
       "4  ...           0.0             0.0          0.0         0.0            0.0   \n",
       "\n",
       "   model_z_reihe  model_zafira     power  kilometer  registration_year  \n",
       "0            0.0           0.0  1.373943   0.577495           0.816029  \n",
       "1            0.0           0.0 -0.506446   0.577495          -0.694671  \n",
       "2            0.0           0.0 -0.506446   0.577495          -1.381353  \n",
       "3            0.0           0.0 -0.506446  -1.555553           0.816029  \n",
       "4            0.0           0.0 -0.506446   0.577495          -0.832007  \n",
       "\n",
       "[5 rows x 307 columns]"
      ]
     },
     "execution_count": 26,
     "metadata": {},
     "output_type": "execute_result"
    }
   ],
   "source": [
    "# смотрим на результат\n",
    "features_train_ohe.head()"
   ]
  },
  {
   "cell_type": "code",
   "execution_count": 28,
   "metadata": {},
   "outputs": [],
   "source": [
    "sparse_matrix_test = encoder_ohe.transform(features_test[ohe_features])\n",
    "X_test_scaled = scaler.transform(features_test[num_features])\n",
    "features_test_arr = np.column_stack((sparse_matrix_test.toarray(), X_test_scaled))\n",
    "features_test_ohe = pd.DataFrame(features_test_arr, columns = ohe_columns + num_features)"
   ]
  },
  {
   "cell_type": "code",
   "execution_count": 29,
   "metadata": {},
   "outputs": [
    {
     "data": {
      "text/html": [
       "<div>\n",
       "<style scoped>\n",
       "    .dataframe tbody tr th:only-of-type {\n",
       "        vertical-align: middle;\n",
       "    }\n",
       "\n",
       "    .dataframe tbody tr th {\n",
       "        vertical-align: top;\n",
       "    }\n",
       "\n",
       "    .dataframe thead th {\n",
       "        text-align: right;\n",
       "    }\n",
       "</style>\n",
       "<table border=\"1\" class=\"dataframe\">\n",
       "  <thead>\n",
       "    <tr style=\"text-align: right;\">\n",
       "      <th></th>\n",
       "      <th>vehicle_type_convertible</th>\n",
       "      <th>vehicle_type_coupe</th>\n",
       "      <th>vehicle_type_other</th>\n",
       "      <th>vehicle_type_sedan</th>\n",
       "      <th>vehicle_type_small</th>\n",
       "      <th>vehicle_type_suv</th>\n",
       "      <th>vehicle_type_wagon</th>\n",
       "      <th>gearbox_manual</th>\n",
       "      <th>fuel_type_electric</th>\n",
       "      <th>fuel_type_gasoline</th>\n",
       "      <th>...</th>\n",
       "      <th>model_x_type</th>\n",
       "      <th>model_xc_reihe</th>\n",
       "      <th>model_yaris</th>\n",
       "      <th>model_yeti</th>\n",
       "      <th>model_ypsilon</th>\n",
       "      <th>model_z_reihe</th>\n",
       "      <th>model_zafira</th>\n",
       "      <th>power</th>\n",
       "      <th>kilometer</th>\n",
       "      <th>registration_year</th>\n",
       "    </tr>\n",
       "  </thead>\n",
       "  <tbody>\n",
       "    <tr>\n",
       "      <th>0</th>\n",
       "      <td>0.0</td>\n",
       "      <td>1.0</td>\n",
       "      <td>0.0</td>\n",
       "      <td>0.0</td>\n",
       "      <td>0.0</td>\n",
       "      <td>0.0</td>\n",
       "      <td>0.0</td>\n",
       "      <td>1.0</td>\n",
       "      <td>0.0</td>\n",
       "      <td>0.0</td>\n",
       "      <td>...</td>\n",
       "      <td>0.0</td>\n",
       "      <td>0.0</td>\n",
       "      <td>0.0</td>\n",
       "      <td>0.0</td>\n",
       "      <td>0.0</td>\n",
       "      <td>0.0</td>\n",
       "      <td>0.0</td>\n",
       "      <td>0.755234</td>\n",
       "      <td>-0.755660</td>\n",
       "      <td>1.090701</td>\n",
       "    </tr>\n",
       "    <tr>\n",
       "      <th>1</th>\n",
       "      <td>0.0</td>\n",
       "      <td>0.0</td>\n",
       "      <td>0.0</td>\n",
       "      <td>0.0</td>\n",
       "      <td>0.0</td>\n",
       "      <td>0.0</td>\n",
       "      <td>1.0</td>\n",
       "      <td>1.0</td>\n",
       "      <td>0.0</td>\n",
       "      <td>1.0</td>\n",
       "      <td>...</td>\n",
       "      <td>0.0</td>\n",
       "      <td>0.0</td>\n",
       "      <td>0.0</td>\n",
       "      <td>0.0</td>\n",
       "      <td>0.0</td>\n",
       "      <td>0.0</td>\n",
       "      <td>0.0</td>\n",
       "      <td>-0.506446</td>\n",
       "      <td>0.577495</td>\n",
       "      <td>0.129347</td>\n",
       "    </tr>\n",
       "    <tr>\n",
       "      <th>2</th>\n",
       "      <td>0.0</td>\n",
       "      <td>0.0</td>\n",
       "      <td>0.0</td>\n",
       "      <td>1.0</td>\n",
       "      <td>0.0</td>\n",
       "      <td>0.0</td>\n",
       "      <td>0.0</td>\n",
       "      <td>1.0</td>\n",
       "      <td>0.0</td>\n",
       "      <td>0.0</td>\n",
       "      <td>...</td>\n",
       "      <td>0.0</td>\n",
       "      <td>0.0</td>\n",
       "      <td>0.0</td>\n",
       "      <td>0.0</td>\n",
       "      <td>0.0</td>\n",
       "      <td>0.0</td>\n",
       "      <td>0.0</td>\n",
       "      <td>-0.203158</td>\n",
       "      <td>0.577495</td>\n",
       "      <td>-0.419998</td>\n",
       "    </tr>\n",
       "    <tr>\n",
       "      <th>3</th>\n",
       "      <td>0.0</td>\n",
       "      <td>0.0</td>\n",
       "      <td>0.0</td>\n",
       "      <td>0.0</td>\n",
       "      <td>0.0</td>\n",
       "      <td>0.0</td>\n",
       "      <td>0.0</td>\n",
       "      <td>1.0</td>\n",
       "      <td>0.0</td>\n",
       "      <td>1.0</td>\n",
       "      <td>...</td>\n",
       "      <td>0.0</td>\n",
       "      <td>0.0</td>\n",
       "      <td>0.0</td>\n",
       "      <td>0.0</td>\n",
       "      <td>0.0</td>\n",
       "      <td>0.0</td>\n",
       "      <td>0.0</td>\n",
       "      <td>-0.506446</td>\n",
       "      <td>0.577495</td>\n",
       "      <td>-0.145326</td>\n",
       "    </tr>\n",
       "    <tr>\n",
       "      <th>4</th>\n",
       "      <td>0.0</td>\n",
       "      <td>0.0</td>\n",
       "      <td>0.0</td>\n",
       "      <td>0.0</td>\n",
       "      <td>0.0</td>\n",
       "      <td>0.0</td>\n",
       "      <td>1.0</td>\n",
       "      <td>1.0</td>\n",
       "      <td>0.0</td>\n",
       "      <td>0.0</td>\n",
       "      <td>...</td>\n",
       "      <td>0.0</td>\n",
       "      <td>0.0</td>\n",
       "      <td>0.0</td>\n",
       "      <td>0.0</td>\n",
       "      <td>0.0</td>\n",
       "      <td>0.0</td>\n",
       "      <td>0.0</td>\n",
       "      <td>-0.227421</td>\n",
       "      <td>0.577495</td>\n",
       "      <td>0.129347</td>\n",
       "    </tr>\n",
       "  </tbody>\n",
       "</table>\n",
       "<p>5 rows × 307 columns</p>\n",
       "</div>"
      ],
      "text/plain": [
       "   vehicle_type_convertible  vehicle_type_coupe  vehicle_type_other  \\\n",
       "0                       0.0                 1.0                 0.0   \n",
       "1                       0.0                 0.0                 0.0   \n",
       "2                       0.0                 0.0                 0.0   \n",
       "3                       0.0                 0.0                 0.0   \n",
       "4                       0.0                 0.0                 0.0   \n",
       "\n",
       "   vehicle_type_sedan  vehicle_type_small  vehicle_type_suv  \\\n",
       "0                 0.0                 0.0               0.0   \n",
       "1                 0.0                 0.0               0.0   \n",
       "2                 1.0                 0.0               0.0   \n",
       "3                 0.0                 0.0               0.0   \n",
       "4                 0.0                 0.0               0.0   \n",
       "\n",
       "   vehicle_type_wagon  gearbox_manual  fuel_type_electric  fuel_type_gasoline  \\\n",
       "0                 0.0             1.0                 0.0                 0.0   \n",
       "1                 1.0             1.0                 0.0                 1.0   \n",
       "2                 0.0             1.0                 0.0                 0.0   \n",
       "3                 0.0             1.0                 0.0                 1.0   \n",
       "4                 1.0             1.0                 0.0                 0.0   \n",
       "\n",
       "   ...  model_x_type  model_xc_reihe  model_yaris  model_yeti  model_ypsilon  \\\n",
       "0  ...           0.0             0.0          0.0         0.0            0.0   \n",
       "1  ...           0.0             0.0          0.0         0.0            0.0   \n",
       "2  ...           0.0             0.0          0.0         0.0            0.0   \n",
       "3  ...           0.0             0.0          0.0         0.0            0.0   \n",
       "4  ...           0.0             0.0          0.0         0.0            0.0   \n",
       "\n",
       "   model_z_reihe  model_zafira     power  kilometer  registration_year  \n",
       "0            0.0           0.0  0.755234  -0.755660           1.090701  \n",
       "1            0.0           0.0 -0.506446   0.577495           0.129347  \n",
       "2            0.0           0.0 -0.203158   0.577495          -0.419998  \n",
       "3            0.0           0.0 -0.506446   0.577495          -0.145326  \n",
       "4            0.0           0.0 -0.227421   0.577495           0.129347  \n",
       "\n",
       "[5 rows x 307 columns]"
      ]
     },
     "execution_count": 29,
     "metadata": {},
     "output_type": "execute_result"
    }
   ],
   "source": [
    "features_test_ohe.head()"
   ]
  },
  {
   "cell_type": "code",
   "execution_count": 30,
   "metadata": {},
   "outputs": [],
   "source": [
    "del features_test_arr, X_test_scaled, sparse_matrix\n",
    "del features_train_arr, X_train_scaled, sparse_matrix_test"
   ]
  },
  {
   "cell_type": "code",
   "execution_count": 30,
   "metadata": {},
   "outputs": [],
   "source": [
    "#кодировка OE:\n",
    "encoder = OrdinalEncoder(handle_unknown = 'use_encoded_value', unknown_value = -1) # Если в тестовых данных возникнет занчение \n",
    "                                                                                   # категорий которой не было в обучении,\n",
    "                                                                                   # код не упадёт.\n",
    "\n",
    "features_train_oe = features_train[['vehicle_type','fuel_type','brand','model']]\n",
    "features_train_oe = pd.DataFrame(encoder.fit_transform(features_train),\n",
    "                                 columns=features_train.columns,\n",
    "                                 index=features_train.index)\n",
    "\n",
    "features_test_oe = features_test[['vehicle_type','fuel_type','brand','model']]\n",
    "features_test_oe = pd.DataFrame(encoder.transform(features_test),\n",
    "                                columns=features_test.columns,\n",
    "                                index=features_test.index)\n",
    "\n",
    "target_train_oe = target_train.copy()\n",
    "\n",
    "target_test_oe = target_test.copy()"
   ]
  },
  {
   "cell_type": "code",
   "execution_count": 31,
   "metadata": {
    "scrolled": true
   },
   "outputs": [
    {
     "name": "stdout",
     "output_type": "stream",
     "text": [
      "(257694, 307)\n",
      "(85899, 307)\n",
      "(257694,)\n",
      "(85899,)\n",
      "\n",
      "(257694, 9)\n",
      "(85899, 9)\n",
      "(257694,)\n",
      "(85899,)\n",
      "\n",
      "(257694, 9)\n",
      "(85899, 9)\n",
      "(257694,)\n",
      "(85899,)\n"
     ]
    }
   ],
   "source": [
    "#размеры выборок:\n",
    "for i in [features_train_ohe, features_test_ohe, target_train, target_test]:\n",
    "    print(i.shape)   \n",
    "    \n",
    "print()\n",
    "\n",
    "for i in [features_train_oe, features_test_oe, target_train_oe, target_test_oe]:\n",
    "    print(i.shape)\n",
    "\n",
    "print()\n",
    "    \n",
    "for i in [features_train, features_test, target_train, target_test]:\n",
    "    print(i.shape)"
   ]
  },
  {
   "cell_type": "markdown",
   "metadata": {},
   "source": [
    "### LinearRegression"
   ]
  },
  {
   "cell_type": "markdown",
   "metadata": {},
   "source": [
    "#### OHE"
   ]
  },
  {
   "cell_type": "code",
   "execution_count": 32,
   "metadata": {},
   "outputs": [
    {
     "name": "stdout",
     "output_type": "stream",
     "text": [
      "CPU times: user 18 s, sys: 6.37 s, total: 24.4 s\n",
      "Wall time: 24.6 s\n"
     ]
    },
    {
     "data": {
      "text/html": [
       "<style>#sk-container-id-1 {color: black;background-color: white;}#sk-container-id-1 pre{padding: 0;}#sk-container-id-1 div.sk-toggleable {background-color: white;}#sk-container-id-1 label.sk-toggleable__label {cursor: pointer;display: block;width: 100%;margin-bottom: 0;padding: 0.3em;box-sizing: border-box;text-align: center;}#sk-container-id-1 label.sk-toggleable__label-arrow:before {content: \"▸\";float: left;margin-right: 0.25em;color: #696969;}#sk-container-id-1 label.sk-toggleable__label-arrow:hover:before {color: black;}#sk-container-id-1 div.sk-estimator:hover label.sk-toggleable__label-arrow:before {color: black;}#sk-container-id-1 div.sk-toggleable__content {max-height: 0;max-width: 0;overflow: hidden;text-align: left;background-color: #f0f8ff;}#sk-container-id-1 div.sk-toggleable__content pre {margin: 0.2em;color: black;border-radius: 0.25em;background-color: #f0f8ff;}#sk-container-id-1 input.sk-toggleable__control:checked~div.sk-toggleable__content {max-height: 200px;max-width: 100%;overflow: auto;}#sk-container-id-1 input.sk-toggleable__control:checked~label.sk-toggleable__label-arrow:before {content: \"▾\";}#sk-container-id-1 div.sk-estimator input.sk-toggleable__control:checked~label.sk-toggleable__label {background-color: #d4ebff;}#sk-container-id-1 div.sk-label input.sk-toggleable__control:checked~label.sk-toggleable__label {background-color: #d4ebff;}#sk-container-id-1 input.sk-hidden--visually {border: 0;clip: rect(1px 1px 1px 1px);clip: rect(1px, 1px, 1px, 1px);height: 1px;margin: -1px;overflow: hidden;padding: 0;position: absolute;width: 1px;}#sk-container-id-1 div.sk-estimator {font-family: monospace;background-color: #f0f8ff;border: 1px dotted black;border-radius: 0.25em;box-sizing: border-box;margin-bottom: 0.5em;}#sk-container-id-1 div.sk-estimator:hover {background-color: #d4ebff;}#sk-container-id-1 div.sk-parallel-item::after {content: \"\";width: 100%;border-bottom: 1px solid gray;flex-grow: 1;}#sk-container-id-1 div.sk-label:hover label.sk-toggleable__label {background-color: #d4ebff;}#sk-container-id-1 div.sk-serial::before {content: \"\";position: absolute;border-left: 1px solid gray;box-sizing: border-box;top: 0;bottom: 0;left: 50%;z-index: 0;}#sk-container-id-1 div.sk-serial {display: flex;flex-direction: column;align-items: center;background-color: white;padding-right: 0.2em;padding-left: 0.2em;position: relative;}#sk-container-id-1 div.sk-item {position: relative;z-index: 1;}#sk-container-id-1 div.sk-parallel {display: flex;align-items: stretch;justify-content: center;background-color: white;position: relative;}#sk-container-id-1 div.sk-item::before, #sk-container-id-1 div.sk-parallel-item::before {content: \"\";position: absolute;border-left: 1px solid gray;box-sizing: border-box;top: 0;bottom: 0;left: 50%;z-index: -1;}#sk-container-id-1 div.sk-parallel-item {display: flex;flex-direction: column;z-index: 1;position: relative;background-color: white;}#sk-container-id-1 div.sk-parallel-item:first-child::after {align-self: flex-end;width: 50%;}#sk-container-id-1 div.sk-parallel-item:last-child::after {align-self: flex-start;width: 50%;}#sk-container-id-1 div.sk-parallel-item:only-child::after {width: 0;}#sk-container-id-1 div.sk-dashed-wrapped {border: 1px dashed gray;margin: 0 0.4em 0.5em 0.4em;box-sizing: border-box;padding-bottom: 0.4em;background-color: white;}#sk-container-id-1 div.sk-label label {font-family: monospace;font-weight: bold;display: inline-block;line-height: 1.2em;}#sk-container-id-1 div.sk-label-container {text-align: center;}#sk-container-id-1 div.sk-container {/* jupyter's `normalize.less` sets `[hidden] { display: none; }` but bootstrap.min.css set `[hidden] { display: none !important; }` so we also need the `!important` here to be able to override the default hidden behavior on the sphinx rendered scikit-learn.org. See: https://github.com/scikit-learn/scikit-learn/issues/21755 */display: inline-block !important;position: relative;}#sk-container-id-1 div.sk-text-repr-fallback {display: none;}</style><div id=\"sk-container-id-1\" class=\"sk-top-container\"><div class=\"sk-text-repr-fallback\"><pre>LinearRegression()</pre><b>In a Jupyter environment, please rerun this cell to show the HTML representation or trust the notebook. <br />On GitHub, the HTML representation is unable to render, please try loading this page with nbviewer.org.</b></div><div class=\"sk-container\" hidden><div class=\"sk-item\"><div class=\"sk-estimator sk-toggleable\"><input class=\"sk-toggleable__control sk-hidden--visually\" id=\"sk-estimator-id-1\" type=\"checkbox\" checked><label for=\"sk-estimator-id-1\" class=\"sk-toggleable__label sk-toggleable__label-arrow\">LinearRegression</label><div class=\"sk-toggleable__content\"><pre>LinearRegression()</pre></div></div></div></div></div>"
      ],
      "text/plain": [
       "LinearRegression()"
      ]
     },
     "execution_count": 32,
     "metadata": {},
     "output_type": "execute_result"
    }
   ],
   "source": [
    "%%time\n",
    "\n",
    "model_lr = LinearRegression()\n",
    "model_lr.fit(features_train_ohe, target_train)"
   ]
  },
  {
   "cell_type": "code",
   "execution_count": 33,
   "metadata": {},
   "outputs": [
    {
     "name": "stdout",
     "output_type": "stream",
     "text": [
      "CPU times: user 158 ms, sys: 34 ms, total: 192 ms\n",
      "Wall time: 184 ms\n"
     ]
    }
   ],
   "source": [
    "%%time\n",
    "\n",
    "target_predict = model_lr.predict(features_train_ohe)"
   ]
  },
  {
   "cell_type": "code",
   "execution_count": 34,
   "metadata": {},
   "outputs": [
    {
     "data": {
      "text/plain": [
       "2847.3450941260653"
      ]
     },
     "execution_count": 34,
     "metadata": {},
     "output_type": "execute_result"
    }
   ],
   "source": [
    "#rmse_lr_ohe = mean_squared_error(target_train_ohe, target_predict) ** .5\n",
    "#rmse_lr_ohe\n",
    "\n",
    "model_lr = LinearRegression()\n",
    "\n",
    "#mse доступна только как neg_mean_squared_error, которая возвращает массив отрицательных значений\n",
    "#поэтому на -1 умножаю:\n",
    "rmse_lr_ohe = (cross_val_score(model_lr,\n",
    "                               features_train_ohe,\n",
    "                               target_train,\n",
    "                               cv=3,\n",
    "                               scoring='neg_root_mean_squared_error')).mean() * -1 \n",
    "rmse_lr_ohe"
   ]
  },
  {
   "cell_type": "markdown",
   "metadata": {},
   "source": [
    "### CatBoostRegressor"
   ]
  },
  {
   "cell_type": "markdown",
   "metadata": {},
   "source": [
    "#### OHE"
   ]
  },
  {
   "cell_type": "code",
   "execution_count": 40,
   "metadata": {},
   "outputs": [
    {
     "name": "stdout",
     "output_type": "stream",
     "text": [
      "{'learning_rate': 0.5, 'random_state': 12345, 'verbose': False}\n",
      "32.43224501609802\n",
      "CPU times: user 6min 39s, sys: 6.83 s, total: 6min 46s\n",
      "Wall time: 7min 1s\n"
     ]
    },
    {
     "data": {
      "text/plain": [
       "1654.9661276684203"
      ]
     },
     "execution_count": 40,
     "metadata": {},
     "output_type": "execute_result"
    }
   ],
   "source": [
    "%%time\n",
    "\n",
    "model_cbr = CatBoostRegressor() \n",
    "parameters = [{'learning_rate':[.1, .5, .8], 'random_state':[12345], 'verbose':[False]}]\n",
    "\n",
    "gscv = GridSearchCV(model_cbr, parameters, scoring='neg_mean_squared_error')\n",
    "gscv.fit(features_train_ohe, target_train)\n",
    "\n",
    "print(gscv.best_params_)\n",
    "\n",
    "mts = gscv.cv_results_['mean_test_score']\n",
    "\n",
    "print(gscv.refit_time_)\n",
    "\n",
    "gscv_rsme_cbr_ohe = (max(mts) * -1) ** .5\n",
    "gscv_rsme_cbr_ohe"
   ]
  },
  {
   "cell_type": "code",
   "execution_count": 41,
   "metadata": {},
   "outputs": [
    {
     "name": "stdout",
     "output_type": "stream",
     "text": [
      "CPU times: user 30.5 s, sys: 269 ms, total: 30.8 s\n",
      "Wall time: 34.7 s\n"
     ]
    },
    {
     "data": {
      "text/plain": [
       "<catboost.core.CatBoostRegressor at 0x7f26911494c0>"
      ]
     },
     "execution_count": 41,
     "metadata": {},
     "output_type": "execute_result"
    }
   ],
   "source": [
    "%%time\n",
    "\n",
    "model_cbr = CatBoostRegressor(learning_rate=.5, random_state=12345, verbose=False) #подставила лучшие параметры\n",
    "model_cbr.fit(features_train_ohe, target_train)"
   ]
  },
  {
   "cell_type": "code",
   "execution_count": 42,
   "metadata": {},
   "outputs": [
    {
     "name": "stdout",
     "output_type": "stream",
     "text": [
      "CPU times: user 343 ms, sys: 36.1 ms, total: 380 ms\n",
      "Wall time: 378 ms\n"
     ]
    }
   ],
   "source": [
    "%%time\n",
    "\n",
    "target_predict = model_cbr.predict(features_test_ohe)"
   ]
  },
  {
   "cell_type": "code",
   "execution_count": 43,
   "metadata": {
    "scrolled": true
   },
   "outputs": [
    {
     "data": {
      "text/plain": [
       "1621.1637741955888"
      ]
     },
     "execution_count": 43,
     "metadata": {},
     "output_type": "execute_result"
    }
   ],
   "source": [
    "# rmse_cbr_ohe = mean_squared_error(target_test, target_predict) ** .5\n",
    "# rmse_cbr_ohe"
   ]
  },
  {
   "cell_type": "markdown",
   "metadata": {},
   "source": [
    "#### OE"
   ]
  },
  {
   "cell_type": "code",
   "execution_count": 44,
   "metadata": {},
   "outputs": [
    {
     "name": "stdout",
     "output_type": "stream",
     "text": [
      "{'learning_rate': 0.5, 'random_state': 12345, 'verbose': False}\n",
      "CPU times: user 6min 28s, sys: 1.77 s, total: 6min 30s\n",
      "Wall time: 6min 47s\n"
     ]
    },
    {
     "data": {
      "text/plain": [
       "1673.080196493667"
      ]
     },
     "execution_count": 44,
     "metadata": {},
     "output_type": "execute_result"
    }
   ],
   "source": [
    "%%time\n",
    "\n",
    "model_cbr = CatBoostRegressor() \n",
    "parameters = [{'learning_rate':[.1, .5, .8], 'random_state':[12345], 'verbose':[False]}]\n",
    "\n",
    "gscv = GridSearchCV(model_cbr, parameters, scoring='neg_mean_squared_error')\n",
    "gscv.fit(features_train_oe, target_train_oe)\n",
    "\n",
    "print(gscv.best_params_)\n",
    "\n",
    "mts = gscv.cv_results_['mean_test_score']\n",
    "    \n",
    "gscv_rsme_cbr_oe = (max(mts) * -1) ** .5\n",
    "gscv_rsme_cbr_oe"
   ]
  },
  {
   "cell_type": "code",
   "execution_count": 45,
   "metadata": {},
   "outputs": [
    {
     "name": "stdout",
     "output_type": "stream",
     "text": [
      "CPU times: user 30.1 s, sys: 136 ms, total: 30.2 s\n",
      "Wall time: 31.1 s\n"
     ]
    },
    {
     "data": {
      "text/plain": [
       "<catboost.core.CatBoostRegressor at 0x7f2691149160>"
      ]
     },
     "execution_count": 45,
     "metadata": {},
     "output_type": "execute_result"
    }
   ],
   "source": [
    "%%time\n",
    "\n",
    "model_cbr = CatBoostRegressor(learning_rate=.5, random_state=12345, verbose=False) \n",
    "model_cbr.fit(features_train_oe, target_train_oe)"
   ]
  },
  {
   "cell_type": "code",
   "execution_count": 46,
   "metadata": {},
   "outputs": [
    {
     "name": "stdout",
     "output_type": "stream",
     "text": [
      "CPU times: user 80.5 ms, sys: 7.74 ms, total: 88.3 ms\n",
      "Wall time: 86.8 ms\n"
     ]
    }
   ],
   "source": [
    "%%time\n",
    "\n",
    "target_predict = model_cbr.predict(features_test_oe)"
   ]
  },
  {
   "cell_type": "markdown",
   "metadata": {},
   "source": [
    "### LightGBMRegressor"
   ]
  },
  {
   "cell_type": "markdown",
   "metadata": {},
   "source": [
    "#### OHE"
   ]
  },
  {
   "cell_type": "code",
   "execution_count": 31,
   "metadata": {
    "scrolled": false
   },
   "outputs": [],
   "source": [
    "%%capture\n",
    "\n",
    "model_lgbmr = LGBMRegressor(num_threads = 10) \n",
    "parameters = [{'num_leaves':[25, 50, 100, 200], 'learning_rate':[.1, .3, .5], 'random_state':[12345]}]\n",
    "\n",
    "clf = GridSearchCV(model_lgbmr, parameters, scoring='neg_mean_squared_error')\n",
    "clf.fit(features_train_ohe, target_train)\n",
    "\n",
    "print(clf.best_params_)\n",
    "print()\n",
    "\n",
    "mts = clf.cv_results_['mean_test_score']\n",
    "\n",
    "rsme_lgbmr = (max(mts) * -1) ** .5\n",
    "rsme_lgbmr"
   ]
  },
  {
   "cell_type": "code",
   "execution_count": 32,
   "metadata": {},
   "outputs": [
    {
     "data": {
      "text/plain": [
       "1649.8337567663073"
      ]
     },
     "execution_count": 32,
     "metadata": {},
     "output_type": "execute_result"
    }
   ],
   "source": [
    "rsme_lgbmr"
   ]
  },
  {
   "cell_type": "code",
   "execution_count": 33,
   "metadata": {},
   "outputs": [
    {
     "name": "stdout",
     "output_type": "stream",
     "text": [
      "CPU times: user 9.66 s, sys: 8.04 s, total: 17.7 s\n",
      "Wall time: 17.7 s\n"
     ]
    },
    {
     "data": {
      "text/html": [
       "<style>#sk-container-id-1 {color: black;background-color: white;}#sk-container-id-1 pre{padding: 0;}#sk-container-id-1 div.sk-toggleable {background-color: white;}#sk-container-id-1 label.sk-toggleable__label {cursor: pointer;display: block;width: 100%;margin-bottom: 0;padding: 0.3em;box-sizing: border-box;text-align: center;}#sk-container-id-1 label.sk-toggleable__label-arrow:before {content: \"▸\";float: left;margin-right: 0.25em;color: #696969;}#sk-container-id-1 label.sk-toggleable__label-arrow:hover:before {color: black;}#sk-container-id-1 div.sk-estimator:hover label.sk-toggleable__label-arrow:before {color: black;}#sk-container-id-1 div.sk-toggleable__content {max-height: 0;max-width: 0;overflow: hidden;text-align: left;background-color: #f0f8ff;}#sk-container-id-1 div.sk-toggleable__content pre {margin: 0.2em;color: black;border-radius: 0.25em;background-color: #f0f8ff;}#sk-container-id-1 input.sk-toggleable__control:checked~div.sk-toggleable__content {max-height: 200px;max-width: 100%;overflow: auto;}#sk-container-id-1 input.sk-toggleable__control:checked~label.sk-toggleable__label-arrow:before {content: \"▾\";}#sk-container-id-1 div.sk-estimator input.sk-toggleable__control:checked~label.sk-toggleable__label {background-color: #d4ebff;}#sk-container-id-1 div.sk-label input.sk-toggleable__control:checked~label.sk-toggleable__label {background-color: #d4ebff;}#sk-container-id-1 input.sk-hidden--visually {border: 0;clip: rect(1px 1px 1px 1px);clip: rect(1px, 1px, 1px, 1px);height: 1px;margin: -1px;overflow: hidden;padding: 0;position: absolute;width: 1px;}#sk-container-id-1 div.sk-estimator {font-family: monospace;background-color: #f0f8ff;border: 1px dotted black;border-radius: 0.25em;box-sizing: border-box;margin-bottom: 0.5em;}#sk-container-id-1 div.sk-estimator:hover {background-color: #d4ebff;}#sk-container-id-1 div.sk-parallel-item::after {content: \"\";width: 100%;border-bottom: 1px solid gray;flex-grow: 1;}#sk-container-id-1 div.sk-label:hover label.sk-toggleable__label {background-color: #d4ebff;}#sk-container-id-1 div.sk-serial::before {content: \"\";position: absolute;border-left: 1px solid gray;box-sizing: border-box;top: 0;bottom: 0;left: 50%;z-index: 0;}#sk-container-id-1 div.sk-serial {display: flex;flex-direction: column;align-items: center;background-color: white;padding-right: 0.2em;padding-left: 0.2em;position: relative;}#sk-container-id-1 div.sk-item {position: relative;z-index: 1;}#sk-container-id-1 div.sk-parallel {display: flex;align-items: stretch;justify-content: center;background-color: white;position: relative;}#sk-container-id-1 div.sk-item::before, #sk-container-id-1 div.sk-parallel-item::before {content: \"\";position: absolute;border-left: 1px solid gray;box-sizing: border-box;top: 0;bottom: 0;left: 50%;z-index: -1;}#sk-container-id-1 div.sk-parallel-item {display: flex;flex-direction: column;z-index: 1;position: relative;background-color: white;}#sk-container-id-1 div.sk-parallel-item:first-child::after {align-self: flex-end;width: 50%;}#sk-container-id-1 div.sk-parallel-item:last-child::after {align-self: flex-start;width: 50%;}#sk-container-id-1 div.sk-parallel-item:only-child::after {width: 0;}#sk-container-id-1 div.sk-dashed-wrapped {border: 1px dashed gray;margin: 0 0.4em 0.5em 0.4em;box-sizing: border-box;padding-bottom: 0.4em;background-color: white;}#sk-container-id-1 div.sk-label label {font-family: monospace;font-weight: bold;display: inline-block;line-height: 1.2em;}#sk-container-id-1 div.sk-label-container {text-align: center;}#sk-container-id-1 div.sk-container {/* jupyter's `normalize.less` sets `[hidden] { display: none; }` but bootstrap.min.css set `[hidden] { display: none !important; }` so we also need the `!important` here to be able to override the default hidden behavior on the sphinx rendered scikit-learn.org. See: https://github.com/scikit-learn/scikit-learn/issues/21755 */display: inline-block !important;position: relative;}#sk-container-id-1 div.sk-text-repr-fallback {display: none;}</style><div id=\"sk-container-id-1\" class=\"sk-top-container\"><div class=\"sk-text-repr-fallback\"><pre>LGBMRegressor(learning_rate=0.3, num_leaves=100, random_state=12345)</pre><b>In a Jupyter environment, please rerun this cell to show the HTML representation or trust the notebook. <br />On GitHub, the HTML representation is unable to render, please try loading this page with nbviewer.org.</b></div><div class=\"sk-container\" hidden><div class=\"sk-item\"><div class=\"sk-estimator sk-toggleable\"><input class=\"sk-toggleable__control sk-hidden--visually\" id=\"sk-estimator-id-1\" type=\"checkbox\" checked><label for=\"sk-estimator-id-1\" class=\"sk-toggleable__label sk-toggleable__label-arrow\">LGBMRegressor</label><div class=\"sk-toggleable__content\"><pre>LGBMRegressor(learning_rate=0.3, num_leaves=100, random_state=12345)</pre></div></div></div></div></div>"
      ],
      "text/plain": [
       "LGBMRegressor(learning_rate=0.3, num_leaves=100, random_state=12345)"
      ]
     },
     "execution_count": 33,
     "metadata": {},
     "output_type": "execute_result"
    }
   ],
   "source": [
    "%%time\n",
    "\n",
    "model_lgbmr = LGBMRegressor(learning_rate=.3, num_leaves=100, random_state=12345)\n",
    "model_lgbmr.fit(features_train_ohe, target_train)"
   ]
  },
  {
   "cell_type": "code",
   "execution_count": 34,
   "metadata": {},
   "outputs": [
    {
     "name": "stdout",
     "output_type": "stream",
     "text": [
      "CPU times: user 1.13 s, sys: 0 ns, total: 1.13 s\n",
      "Wall time: 1.11 s\n"
     ]
    }
   ],
   "source": [
    "%%time\n",
    "\n",
    "target_predict = model_lgbmr.predict(features_test_ohe)"
   ]
  },
  {
   "cell_type": "markdown",
   "metadata": {},
   "source": [
    "#### OE"
   ]
  },
  {
   "cell_type": "code",
   "execution_count": null,
   "metadata": {},
   "outputs": [],
   "source": [
    "%%time\n",
    "\n",
    "model_lgbmr = LGBMRegressor() \n",
    "parameters = [{'num_leaves':[25, 50, 100, 200], 'learning_rate':[.1, .3, .5], 'random_state':[12345]}]\n",
    "\n",
    "\n",
    "clf = GridSearchCV(model_lgbmr, parameters, scoring='neg_mean_squared_error')\n",
    "clf.fit(features_train_oe, target_train_oe)\n",
    "\n",
    "print(clf.best_params_)\n",
    "print()\n",
    "\n",
    "mts = clf.cv_results_['mean_test_score']\n",
    "\n",
    "rsme_lgbmr_1 = (max(mts) * -1) ** .5\n",
    "rsme_lgbmr_1"
   ]
  },
  {
   "cell_type": "code",
   "execution_count": null,
   "metadata": {},
   "outputs": [],
   "source": [
    "%%time\n",
    "\n",
    "model = LGBMRegressor(learning_rate=.3, num_leaves=100, random_state=12345)\n",
    "model.fit(features_train_oe, target_train_oe)"
   ]
  },
  {
   "cell_type": "code",
   "execution_count": null,
   "metadata": {},
   "outputs": [],
   "source": [
    "%%time\n",
    "\n",
    "target_predict = model.predict(features_test_oe)"
   ]
  },
  {
   "cell_type": "markdown",
   "metadata": {},
   "source": [
    "## Анализ моделей, cравнение результатов, выводы"
   ]
  },
  {
   "cell_type": "code",
   "execution_count": null,
   "metadata": {
    "scrolled": true
   },
   "outputs": [],
   "source": [
    "#таблица по показателям RMSE, время обучения модели и время предсказания модели:\n",
    "index = ['Линейная регрессия с OHE',\n",
    "         'CatBoostRegressor с OHE',\n",
    "         'CatBoostRegressor с OE',\n",
    "         'LGBMRegressor с OHE',\n",
    "         'LGBMRegressor с OE']\n",
    "\n",
    "data = {'RMSE':[rmse_lr_ohe,\n",
    "                gscv_rsme_cbr_ohe,\n",
    "                gscv_rsme_cbr_oe,\n",
    "                rsme_lgbmr,\n",
    "                rsme_lgbmr_1],\n",
    "        \n",
    "        'Время обучения модели':[25.4,\n",
    "                                 33.6,\n",
    "                                 33.2,\n",
    "                                 10.8,\n",
    "                                 5.85],\n",
    "        \n",
    "        'Время предсказания модели':[0.192,\n",
    "                                     1.16,\n",
    "                                     0.107,\n",
    "                                     2.73,\n",
    "                                     0.788]\n",
    "       }\n",
    "\n",
    "kpi_data = pd.DataFrame(data=data, index=index)\n",
    "\n",
    "#Рейтинг с весами:\n",
    "kpi_data['Рейтинг'] = (kpi_data['RMSE'] * .34 \\\n",
    "                       + kpi_data['Время обучения модели'] * .33 \\\n",
    "                       + kpi_data['Время предсказания модели'] * .33)\n",
    "\n",
    "kpi_data.sort_values(by = 'Рейтинг', ascending=True)"
   ]
  },
  {
   "cell_type": "code",
   "execution_count": 35,
   "metadata": {},
   "outputs": [
    {
     "name": "stdout",
     "output_type": "stream",
     "text": [
      "CPU times: user 1.12 s, sys: 0 ns, total: 1.12 s\n",
      "Wall time: 1.1 s\n"
     ]
    }
   ],
   "source": [
    "%%time\n",
    "\n",
    "target_predict = model_lgbmr.predict(features_test_ohe)"
   ]
  },
  {
   "cell_type": "code",
   "execution_count": 36,
   "metadata": {},
   "outputs": [
    {
     "data": {
      "text/plain": [
       "1638.9826145432692"
      ]
     },
     "execution_count": 36,
     "metadata": {},
     "output_type": "execute_result"
    }
   ],
   "source": [
    "rsme_lgbmr_ohe = mean_squared_error(target_test, target_predict) ** .5\n",
    "rsme_lgbmr_ohe"
   ]
  },
  {
   "cell_type": "markdown",
   "metadata": {},
   "source": [
    "В итоге на тестовых данных мы получили RMSE = 1616."
   ]
  },
  {
   "cell_type": "markdown",
   "metadata": {},
   "source": [
    "В итоге лучшей моделью по RMSE оказалась CatBoostRegressor с OHE, но важно учитывать, что время её обучения было не минимальным. Но по соотношениям трёх показателей данная модель является лучшей. "
   ]
  }
 ],
 "metadata": {
  "ExecuteTimeLog": [
   {
    "duration": 1647,
    "start_time": "2024-01-16T18:28:25.891Z"
   },
   {
    "duration": 2981,
    "start_time": "2024-01-16T18:28:28.131Z"
   },
   {
    "duration": 149,
    "start_time": "2024-01-16T18:28:32.702Z"
   },
   {
    "duration": 1398,
    "start_time": "2024-01-16T18:28:40.620Z"
   },
   {
    "duration": 897,
    "start_time": "2024-01-16T18:28:42.020Z"
   },
   {
    "duration": 160,
    "start_time": "2024-01-16T18:28:42.919Z"
   },
   {
    "duration": 1226,
    "start_time": "2024-01-16T18:28:43.080Z"
   },
   {
    "duration": 0,
    "start_time": "2024-01-16T18:28:44.308Z"
   },
   {
    "duration": 0,
    "start_time": "2024-01-16T18:28:44.310Z"
   },
   {
    "duration": 0,
    "start_time": "2024-01-16T18:28:44.311Z"
   },
   {
    "duration": 0,
    "start_time": "2024-01-16T18:28:44.313Z"
   },
   {
    "duration": 0,
    "start_time": "2024-01-16T18:28:44.314Z"
   },
   {
    "duration": 0,
    "start_time": "2024-01-16T18:28:44.315Z"
   },
   {
    "duration": 0,
    "start_time": "2024-01-16T18:28:44.317Z"
   },
   {
    "duration": 0,
    "start_time": "2024-01-16T18:28:44.319Z"
   },
   {
    "duration": 0,
    "start_time": "2024-01-16T18:28:44.320Z"
   },
   {
    "duration": 0,
    "start_time": "2024-01-16T18:28:44.322Z"
   },
   {
    "duration": 0,
    "start_time": "2024-01-16T18:28:44.323Z"
   },
   {
    "duration": 0,
    "start_time": "2024-01-16T18:28:44.325Z"
   },
   {
    "duration": 0,
    "start_time": "2024-01-16T18:28:44.326Z"
   },
   {
    "duration": 0,
    "start_time": "2024-01-16T18:28:44.327Z"
   },
   {
    "duration": 0,
    "start_time": "2024-01-16T18:28:44.329Z"
   },
   {
    "duration": 0,
    "start_time": "2024-01-16T18:28:44.330Z"
   },
   {
    "duration": 0,
    "start_time": "2024-01-16T18:28:44.331Z"
   },
   {
    "duration": 0,
    "start_time": "2024-01-16T18:28:44.334Z"
   },
   {
    "duration": 0,
    "start_time": "2024-01-16T18:28:44.335Z"
   },
   {
    "duration": 1466,
    "start_time": "2024-01-16T18:32:33.279Z"
   },
   {
    "duration": 915,
    "start_time": "2024-01-16T18:32:34.747Z"
   },
   {
    "duration": 150,
    "start_time": "2024-01-16T18:32:35.664Z"
   },
   {
    "duration": 186,
    "start_time": "2024-01-16T18:32:35.816Z"
   },
   {
    "duration": 1193,
    "start_time": "2024-01-16T18:32:36.005Z"
   },
   {
    "duration": 0,
    "start_time": "2024-01-16T18:32:37.200Z"
   },
   {
    "duration": 0,
    "start_time": "2024-01-16T18:32:37.201Z"
   },
   {
    "duration": 0,
    "start_time": "2024-01-16T18:32:37.203Z"
   },
   {
    "duration": 0,
    "start_time": "2024-01-16T18:32:37.204Z"
   },
   {
    "duration": 0,
    "start_time": "2024-01-16T18:32:37.205Z"
   },
   {
    "duration": 0,
    "start_time": "2024-01-16T18:32:37.207Z"
   },
   {
    "duration": 0,
    "start_time": "2024-01-16T18:32:37.208Z"
   },
   {
    "duration": 0,
    "start_time": "2024-01-16T18:32:37.211Z"
   },
   {
    "duration": 0,
    "start_time": "2024-01-16T18:32:37.212Z"
   },
   {
    "duration": 0,
    "start_time": "2024-01-16T18:32:37.214Z"
   },
   {
    "duration": 0,
    "start_time": "2024-01-16T18:32:37.215Z"
   },
   {
    "duration": 0,
    "start_time": "2024-01-16T18:32:37.216Z"
   },
   {
    "duration": 0,
    "start_time": "2024-01-16T18:32:37.218Z"
   },
   {
    "duration": 0,
    "start_time": "2024-01-16T18:32:37.219Z"
   },
   {
    "duration": 0,
    "start_time": "2024-01-16T18:32:37.221Z"
   },
   {
    "duration": 0,
    "start_time": "2024-01-16T18:32:37.222Z"
   },
   {
    "duration": 0,
    "start_time": "2024-01-16T18:32:37.224Z"
   },
   {
    "duration": 0,
    "start_time": "2024-01-16T18:32:37.225Z"
   },
   {
    "duration": 1504,
    "start_time": "2024-01-16T18:33:28.562Z"
   },
   {
    "duration": 927,
    "start_time": "2024-01-16T18:33:30.068Z"
   },
   {
    "duration": 183,
    "start_time": "2024-01-16T18:33:30.997Z"
   },
   {
    "duration": 199,
    "start_time": "2024-01-16T18:33:31.182Z"
   },
   {
    "duration": 158,
    "start_time": "2024-01-16T18:33:31.383Z"
   },
   {
    "duration": 482,
    "start_time": "2024-01-16T18:33:31.543Z"
   },
   {
    "duration": 951,
    "start_time": "2024-01-16T18:33:32.026Z"
   },
   {
    "duration": 103,
    "start_time": "2024-01-16T18:33:32.979Z"
   },
   {
    "duration": 102,
    "start_time": "2024-01-16T18:33:33.083Z"
   },
   {
    "duration": 160,
    "start_time": "2024-01-16T18:33:33.187Z"
   },
   {
    "duration": 5,
    "start_time": "2024-01-16T18:33:33.348Z"
   },
   {
    "duration": 540,
    "start_time": "2024-01-16T18:33:33.354Z"
   },
   {
    "duration": 42,
    "start_time": "2024-01-16T18:33:33.896Z"
   },
   {
    "duration": 875,
    "start_time": "2024-01-16T18:33:33.940Z"
   },
   {
    "duration": 633,
    "start_time": "2024-01-16T18:33:34.817Z"
   },
   {
    "duration": 3811951,
    "start_time": "2024-01-16T18:33:35.451Z"
   },
   {
    "duration": 4,
    "start_time": "2024-01-16T19:37:07.404Z"
   },
   {
    "duration": 406313,
    "start_time": "2024-01-16T19:37:07.409Z"
   },
   {
    "duration": 570984,
    "start_time": "2024-01-16T19:43:53.724Z"
   },
   {
    "duration": 46175,
    "start_time": "2024-01-16T19:53:24.710Z"
   },
   {
    "duration": 1354,
    "start_time": "2024-01-16T19:54:10.887Z"
   },
   {
    "duration": 5024,
    "start_time": "2024-01-16T19:54:12.243Z"
   },
   {
    "duration": 9238,
    "start_time": "2024-01-16T19:54:17.273Z"
   },
   {
    "duration": 1501,
    "start_time": "2024-01-17T17:56:39.376Z"
   },
   {
    "duration": 1181,
    "start_time": "2024-01-17T17:56:40.878Z"
   },
   {
    "duration": 142,
    "start_time": "2024-01-17T17:56:42.061Z"
   },
   {
    "duration": 3,
    "start_time": "2024-01-17T17:57:07.161Z"
   },
   {
    "duration": 299,
    "start_time": "2024-01-17T17:57:22.500Z"
   },
   {
    "duration": 112,
    "start_time": "2024-01-17T18:05:40.117Z"
   },
   {
    "duration": 10,
    "start_time": "2024-01-17T18:07:04.759Z"
   },
   {
    "duration": 310,
    "start_time": "2024-01-17T18:09:33.426Z"
   },
   {
    "duration": 4,
    "start_time": "2024-01-17T18:16:46.302Z"
   },
   {
    "duration": 946,
    "start_time": "2024-01-17T18:16:47.032Z"
   },
   {
    "duration": 133,
    "start_time": "2024-01-17T18:16:47.980Z"
   },
   {
    "duration": 36,
    "start_time": "2024-01-17T18:16:48.115Z"
   },
   {
    "duration": 294,
    "start_time": "2024-01-17T18:16:48.155Z"
   },
   {
    "duration": 110,
    "start_time": "2024-01-17T18:16:49.647Z"
   },
   {
    "duration": 98,
    "start_time": "2024-01-17T18:16:52.376Z"
   },
   {
    "duration": 1279,
    "start_time": "2024-01-17T18:17:33.498Z"
   },
   {
    "duration": 83,
    "start_time": "2024-01-17T18:17:40.854Z"
   },
   {
    "duration": 92,
    "start_time": "2024-01-17T18:17:55.179Z"
   },
   {
    "duration": 126,
    "start_time": "2024-01-17T18:20:12.890Z"
   },
   {
    "duration": 49,
    "start_time": "2024-01-17T18:20:40.244Z"
   },
   {
    "duration": 117,
    "start_time": "2024-01-17T18:20:49.311Z"
   },
   {
    "duration": 52,
    "start_time": "2024-01-17T18:21:00.100Z"
   },
   {
    "duration": 4,
    "start_time": "2024-01-17T18:23:18.094Z"
   },
   {
    "duration": 898,
    "start_time": "2024-01-17T18:23:18.910Z"
   },
   {
    "duration": 146,
    "start_time": "2024-01-17T18:23:19.809Z"
   },
   {
    "duration": 3,
    "start_time": "2024-01-17T18:23:19.957Z"
   },
   {
    "duration": 261,
    "start_time": "2024-01-17T18:23:20.393Z"
   },
   {
    "duration": 103,
    "start_time": "2024-01-17T18:23:21.627Z"
   },
   {
    "duration": 87,
    "start_time": "2024-01-17T18:23:22.974Z"
   },
   {
    "duration": 93,
    "start_time": "2024-01-17T18:23:23.919Z"
   },
   {
    "duration": 52,
    "start_time": "2024-01-17T18:23:24.772Z"
   },
   {
    "duration": 115,
    "start_time": "2024-01-17T18:23:25.820Z"
   },
   {
    "duration": 104,
    "start_time": "2024-01-17T18:23:26.870Z"
   },
   {
    "duration": 47,
    "start_time": "2024-01-17T18:23:27.538Z"
   },
   {
    "duration": 11,
    "start_time": "2024-01-17T18:26:53.960Z"
   },
   {
    "duration": 1028,
    "start_time": "2024-01-17T18:27:22.574Z"
   },
   {
    "duration": 973,
    "start_time": "2024-01-17T18:27:31.298Z"
   },
   {
    "duration": 498,
    "start_time": "2024-01-17T18:27:34.336Z"
   },
   {
    "duration": 88598,
    "start_time": "2024-01-17T18:30:54.150Z"
   },
   {
    "duration": 99302,
    "start_time": "2024-01-17T18:32:22.844Z"
   },
   {
    "duration": 124,
    "start_time": "2024-01-17T18:38:18.841Z"
   },
   {
    "duration": 1299,
    "start_time": "2024-01-17T18:40:38.199Z"
   },
   {
    "duration": 1185,
    "start_time": "2024-01-17T18:40:39.500Z"
   },
   {
    "duration": 145,
    "start_time": "2024-01-17T18:40:40.687Z"
   },
   {
    "duration": 11,
    "start_time": "2024-01-17T18:40:40.834Z"
   },
   {
    "duration": 287,
    "start_time": "2024-01-17T18:40:40.847Z"
   },
   {
    "duration": 125,
    "start_time": "2024-01-17T18:40:41.135Z"
   },
   {
    "duration": 96,
    "start_time": "2024-01-17T18:40:41.262Z"
   },
   {
    "duration": 99,
    "start_time": "2024-01-17T18:40:41.359Z"
   },
   {
    "duration": 85,
    "start_time": "2024-01-17T18:40:41.459Z"
   },
   {
    "duration": 146,
    "start_time": "2024-01-17T18:40:41.545Z"
   },
   {
    "duration": 113,
    "start_time": "2024-01-17T18:40:41.692Z"
   },
   {
    "duration": 53,
    "start_time": "2024-01-17T18:40:41.806Z"
   },
   {
    "duration": 1034,
    "start_time": "2024-01-17T18:40:41.860Z"
   },
   {
    "duration": 510,
    "start_time": "2024-01-17T18:40:42.897Z"
   },
   {
    "duration": 97142,
    "start_time": "2024-01-17T18:40:43.409Z"
   },
   {
    "duration": 131522,
    "start_time": "2024-01-17T18:42:20.555Z"
   },
   {
    "duration": 121,
    "start_time": "2024-01-17T18:48:04.980Z"
   },
   {
    "duration": 1337,
    "start_time": "2024-01-17T18:48:12.759Z"
   },
   {
    "duration": 1164,
    "start_time": "2024-01-17T18:48:14.098Z"
   },
   {
    "duration": 145,
    "start_time": "2024-01-17T18:48:15.263Z"
   },
   {
    "duration": 8,
    "start_time": "2024-01-17T18:48:15.410Z"
   },
   {
    "duration": 293,
    "start_time": "2024-01-17T18:48:15.420Z"
   },
   {
    "duration": 111,
    "start_time": "2024-01-17T18:48:15.715Z"
   },
   {
    "duration": 102,
    "start_time": "2024-01-17T18:48:15.827Z"
   },
   {
    "duration": 93,
    "start_time": "2024-01-17T18:48:15.930Z"
   },
   {
    "duration": 75,
    "start_time": "2024-01-17T18:48:16.024Z"
   },
   {
    "duration": 119,
    "start_time": "2024-01-17T18:48:16.103Z"
   },
   {
    "duration": 112,
    "start_time": "2024-01-17T18:48:16.223Z"
   },
   {
    "duration": 50,
    "start_time": "2024-01-17T18:48:16.337Z"
   },
   {
    "duration": 1062,
    "start_time": "2024-01-17T18:48:16.389Z"
   },
   {
    "duration": 539,
    "start_time": "2024-01-17T18:48:17.453Z"
   },
   {
    "duration": 54428,
    "start_time": "2024-01-17T18:48:17.993Z"
   },
   {
    "duration": 99223,
    "start_time": "2024-01-17T18:49:12.422Z"
   },
   {
    "duration": 1327,
    "start_time": "2024-01-17T19:06:18.248Z"
   },
   {
    "duration": 1183,
    "start_time": "2024-01-17T19:06:19.577Z"
   },
   {
    "duration": 151,
    "start_time": "2024-01-17T19:06:20.762Z"
   },
   {
    "duration": 3,
    "start_time": "2024-01-17T19:06:20.915Z"
   },
   {
    "duration": 292,
    "start_time": "2024-01-17T19:06:20.920Z"
   },
   {
    "duration": 124,
    "start_time": "2024-01-17T19:06:21.214Z"
   },
   {
    "duration": 91,
    "start_time": "2024-01-17T19:06:21.340Z"
   },
   {
    "duration": 116,
    "start_time": "2024-01-17T19:06:21.432Z"
   },
   {
    "duration": 54,
    "start_time": "2024-01-17T19:06:21.549Z"
   },
   {
    "duration": 133,
    "start_time": "2024-01-17T19:06:21.605Z"
   },
   {
    "duration": 108,
    "start_time": "2024-01-17T19:06:21.740Z"
   },
   {
    "duration": 47,
    "start_time": "2024-01-17T19:06:21.850Z"
   },
   {
    "duration": 1034,
    "start_time": "2024-01-17T19:06:21.898Z"
   },
   {
    "duration": 518,
    "start_time": "2024-01-17T19:06:22.933Z"
   },
   {
    "duration": 88699,
    "start_time": "2024-01-17T19:06:23.452Z"
   },
   {
    "duration": 99692,
    "start_time": "2024-01-17T19:07:52.153Z"
   },
   {
    "duration": 1364,
    "start_time": "2024-01-17T19:13:56.206Z"
   },
   {
    "duration": 1160,
    "start_time": "2024-01-17T19:13:57.572Z"
   },
   {
    "duration": 134,
    "start_time": "2024-01-17T19:13:58.734Z"
   },
   {
    "duration": 11,
    "start_time": "2024-01-17T19:13:58.870Z"
   },
   {
    "duration": 285,
    "start_time": "2024-01-17T19:13:58.882Z"
   },
   {
    "duration": 122,
    "start_time": "2024-01-17T19:13:59.169Z"
   },
   {
    "duration": 104,
    "start_time": "2024-01-17T19:13:59.293Z"
   },
   {
    "duration": 100,
    "start_time": "2024-01-17T19:13:59.399Z"
   },
   {
    "duration": 62,
    "start_time": "2024-01-17T19:13:59.500Z"
   },
   {
    "duration": 124,
    "start_time": "2024-01-17T19:13:59.564Z"
   },
   {
    "duration": 112,
    "start_time": "2024-01-17T19:13:59.689Z"
   },
   {
    "duration": 53,
    "start_time": "2024-01-17T19:13:59.803Z"
   },
   {
    "duration": 1058,
    "start_time": "2024-01-17T19:13:59.858Z"
   },
   {
    "duration": 519,
    "start_time": "2024-01-17T19:14:00.918Z"
   },
   {
    "duration": 88814,
    "start_time": "2024-01-17T19:14:01.438Z"
   },
   {
    "duration": 96,
    "start_time": "2024-01-17T19:15:30.254Z"
   },
   {
    "duration": 1435,
    "start_time": "2024-01-17T19:18:28.011Z"
   },
   {
    "duration": 923,
    "start_time": "2024-01-17T19:18:29.448Z"
   },
   {
    "duration": 131,
    "start_time": "2024-01-17T19:18:30.372Z"
   },
   {
    "duration": 58,
    "start_time": "2024-01-17T19:18:30.505Z"
   },
   {
    "duration": 544,
    "start_time": "2024-01-17T19:18:30.564Z"
   },
   {
    "duration": 121,
    "start_time": "2024-01-17T19:18:31.110Z"
   },
   {
    "duration": 118,
    "start_time": "2024-01-17T19:18:31.232Z"
   },
   {
    "duration": 95,
    "start_time": "2024-01-17T19:18:31.352Z"
   },
   {
    "duration": 78,
    "start_time": "2024-01-17T19:18:31.449Z"
   },
   {
    "duration": 129,
    "start_time": "2024-01-17T19:18:31.530Z"
   },
   {
    "duration": 106,
    "start_time": "2024-01-17T19:18:31.660Z"
   },
   {
    "duration": 47,
    "start_time": "2024-01-17T19:18:31.767Z"
   },
   {
    "duration": 1017,
    "start_time": "2024-01-17T19:18:31.815Z"
   },
   {
    "duration": 503,
    "start_time": "2024-01-17T19:18:32.833Z"
   },
   {
    "duration": 499741,
    "start_time": "2024-01-17T19:18:33.338Z"
   },
   {
    "duration": 10803,
    "start_time": "2024-01-17T19:26:53.081Z"
   },
   {
    "duration": 7456,
    "start_time": "2024-01-17T19:27:03.886Z"
   },
   {
    "duration": 1823,
    "start_time": "2024-01-17T19:27:11.344Z"
   },
   {
    "duration": 756,
    "start_time": "2024-01-17T19:27:13.169Z"
   },
   {
    "duration": 22139,
    "start_time": "2024-01-17T19:27:13.926Z"
   },
   {
    "duration": 301,
    "start_time": "2024-01-17T19:27:36.145Z"
   },
   {
    "duration": 5,
    "start_time": "2024-01-17T19:27:36.448Z"
   },
   {
    "duration": 40794,
    "start_time": "2024-01-17T19:27:36.454Z"
   },
   {
    "duration": 396,
    "start_time": "2024-01-17T19:28:17.250Z"
   },
   {
    "duration": 4,
    "start_time": "2024-01-17T19:28:17.649Z"
   },
   {
    "duration": 6315,
    "start_time": "2024-01-17T19:28:17.655Z"
   },
   {
    "duration": 166,
    "start_time": "2024-01-17T19:28:23.972Z"
   },
   {
    "duration": 4,
    "start_time": "2024-01-17T19:28:24.145Z"
   },
   {
    "duration": 211,
    "start_time": "2024-01-17T19:28:24.150Z"
   },
   {
    "duration": 78,
    "start_time": "2024-01-17T19:28:24.363Z"
   },
   {
    "duration": 3,
    "start_time": "2024-01-17T19:28:24.443Z"
   },
   {
    "duration": 2763,
    "start_time": "2024-01-17T19:28:24.448Z"
   },
   {
    "duration": 78,
    "start_time": "2024-01-17T19:28:27.212Z"
   },
   {
    "duration": 4,
    "start_time": "2024-01-17T19:28:27.292Z"
   },
   {
    "duration": 2760,
    "start_time": "2024-01-17T19:28:27.298Z"
   },
   {
    "duration": 89,
    "start_time": "2024-01-17T19:28:30.060Z"
   },
   {
    "duration": 3,
    "start_time": "2024-01-17T19:28:30.151Z"
   },
   {
    "duration": 142,
    "start_time": "2024-01-17T19:28:30.155Z"
   },
   {
    "duration": 79,
    "start_time": "2024-01-17T19:28:30.298Z"
   },
   {
    "duration": 129,
    "start_time": "2024-01-17T19:28:30.378Z"
   },
   {
    "duration": 244,
    "start_time": "2024-01-17T19:28:30.509Z"
   },
   {
    "duration": 1286,
    "start_time": "2024-01-17T21:59:28.496Z"
   },
   {
    "duration": 910,
    "start_time": "2024-01-17T21:59:29.783Z"
   },
   {
    "duration": 131,
    "start_time": "2024-01-17T21:59:30.695Z"
   },
   {
    "duration": 288,
    "start_time": "2024-01-17T21:59:30.827Z"
   },
   {
    "duration": 605,
    "start_time": "2024-01-17T21:59:31.117Z"
   },
   {
    "duration": 123,
    "start_time": "2024-01-17T21:59:31.724Z"
   },
   {
    "duration": 97,
    "start_time": "2024-01-17T21:59:31.848Z"
   },
   {
    "duration": 88,
    "start_time": "2024-01-17T21:59:31.946Z"
   },
   {
    "duration": 54,
    "start_time": "2024-01-17T21:59:32.044Z"
   },
   {
    "duration": 133,
    "start_time": "2024-01-17T21:59:32.099Z"
   },
   {
    "duration": 111,
    "start_time": "2024-01-17T21:59:32.234Z"
   },
   {
    "duration": 46,
    "start_time": "2024-01-17T21:59:32.346Z"
   },
   {
    "duration": 1499,
    "start_time": "2024-02-11T14:22:03.691Z"
   },
   {
    "duration": 1219,
    "start_time": "2024-02-11T14:22:05.192Z"
   },
   {
    "duration": 121,
    "start_time": "2024-02-11T14:22:06.413Z"
   },
   {
    "duration": 10,
    "start_time": "2024-02-11T14:22:06.535Z"
   },
   {
    "duration": 280,
    "start_time": "2024-02-11T14:22:06.547Z"
   },
   {
    "duration": 117,
    "start_time": "2024-02-11T14:22:06.828Z"
   },
   {
    "duration": 88,
    "start_time": "2024-02-11T14:22:06.946Z"
   },
   {
    "duration": 95,
    "start_time": "2024-02-11T14:22:07.035Z"
   },
   {
    "duration": 60,
    "start_time": "2024-02-11T14:22:07.132Z"
   },
   {
    "duration": 181,
    "start_time": "2024-02-11T14:22:07.194Z"
   },
   {
    "duration": 125,
    "start_time": "2024-02-11T14:22:07.377Z"
   },
   {
    "duration": 47,
    "start_time": "2024-02-11T14:22:07.503Z"
   },
   {
    "duration": 3,
    "start_time": "2024-02-11T14:22:07.552Z"
   },
   {
    "duration": 23,
    "start_time": "2024-02-11T14:22:07.557Z"
   },
   {
    "duration": 11,
    "start_time": "2024-02-11T14:22:07.582Z"
   },
   {
    "duration": 7,
    "start_time": "2024-02-11T14:22:07.595Z"
   },
   {
    "duration": 6,
    "start_time": "2024-02-11T14:22:07.603Z"
   },
   {
    "duration": 18,
    "start_time": "2024-02-11T14:22:07.610Z"
   },
   {
    "duration": 36,
    "start_time": "2024-02-11T14:22:07.630Z"
   },
   {
    "duration": 139,
    "start_time": "2024-02-11T14:22:07.667Z"
   },
   {
    "duration": 16,
    "start_time": "2024-02-11T14:22:07.808Z"
   },
   {
    "duration": 45,
    "start_time": "2024-02-11T14:22:07.826Z"
   },
   {
    "duration": 9,
    "start_time": "2024-02-11T14:22:07.872Z"
   },
   {
    "duration": 131,
    "start_time": "2024-02-11T14:22:07.883Z"
   },
   {
    "duration": 12,
    "start_time": "2024-02-11T14:22:44.916Z"
   },
   {
    "duration": 916,
    "start_time": "2024-02-11T14:24:52.699Z"
   },
   {
    "duration": 6,
    "start_time": "2024-02-11T14:25:22.778Z"
   },
   {
    "duration": 137,
    "start_time": "2024-02-11T14:25:28.249Z"
   },
   {
    "duration": 3,
    "start_time": "2024-02-11T14:25:37.097Z"
   },
   {
    "duration": 262,
    "start_time": "2024-02-11T14:25:41.026Z"
   },
   {
    "duration": 13,
    "start_time": "2024-02-11T14:28:58.583Z"
   },
   {
    "duration": 109,
    "start_time": "2024-02-11T14:30:47.273Z"
   },
   {
    "duration": 115,
    "start_time": "2024-02-11T14:32:04.901Z"
   },
   {
    "duration": 1210,
    "start_time": "2024-02-11T14:32:09.198Z"
   },
   {
    "duration": 85,
    "start_time": "2024-02-11T14:32:56.901Z"
   },
   {
    "duration": 91,
    "start_time": "2024-02-11T14:33:02.393Z"
   },
   {
    "duration": 46,
    "start_time": "2024-02-11T14:33:12.048Z"
   },
   {
    "duration": 116,
    "start_time": "2024-02-11T14:33:16.891Z"
   },
   {
    "duration": 1046,
    "start_time": "2024-02-11T14:33:41.188Z"
   },
   {
    "duration": 1094,
    "start_time": "2024-02-11T14:33:43.673Z"
   },
   {
    "duration": 112,
    "start_time": "2024-02-11T14:34:09.659Z"
   },
   {
    "duration": 109,
    "start_time": "2024-02-11T14:34:22.589Z"
   },
   {
    "duration": 47,
    "start_time": "2024-02-11T14:34:26.021Z"
   },
   {
    "duration": 87,
    "start_time": "2024-02-11T14:34:53.307Z"
   },
   {
    "duration": 423,
    "start_time": "2024-02-11T14:35:51.468Z"
   },
   {
    "duration": 871,
    "start_time": "2024-02-11T14:35:54.042Z"
   },
   {
    "duration": 428,
    "start_time": "2024-02-11T14:35:54.915Z"
   },
   {
    "duration": 5,
    "start_time": "2024-02-11T14:35:55.345Z"
   },
   {
    "duration": 126,
    "start_time": "2024-02-11T14:35:56.232Z"
   },
   {
    "duration": 2,
    "start_time": "2024-02-11T14:35:56.865Z"
   },
   {
    "duration": 268,
    "start_time": "2024-02-11T14:35:57.665Z"
   },
   {
    "duration": 106,
    "start_time": "2024-02-11T14:35:59.117Z"
   },
   {
    "duration": 83,
    "start_time": "2024-02-11T14:36:00.382Z"
   },
   {
    "duration": 86,
    "start_time": "2024-02-11T14:36:01.007Z"
   },
   {
    "duration": 46,
    "start_time": "2024-02-11T14:36:01.770Z"
   },
   {
    "duration": 113,
    "start_time": "2024-02-11T14:36:02.201Z"
   },
   {
    "duration": 133,
    "start_time": "2024-02-11T14:36:02.703Z"
   },
   {
    "duration": 46,
    "start_time": "2024-02-11T14:36:03.702Z"
   },
   {
    "duration": 90,
    "start_time": "2024-02-11T14:36:04.990Z"
   },
   {
    "duration": 21,
    "start_time": "2024-02-11T14:38:51.940Z"
   },
   {
    "duration": 69,
    "start_time": "2024-02-11T14:40:23.015Z"
   },
   {
    "duration": 1037,
    "start_time": "2024-02-11T14:40:36.780Z"
   },
   {
    "duration": 636,
    "start_time": "2024-02-11T14:40:55.929Z"
   },
   {
    "duration": 5,
    "start_time": "2024-02-11T14:41:16.817Z"
   },
   {
    "duration": 21415,
    "start_time": "2024-02-11T14:45:27.336Z"
   },
   {
    "duration": 903,
    "start_time": "2024-02-11T14:45:48.752Z"
   },
   {
    "duration": 7,
    "start_time": "2024-02-11T14:45:49.746Z"
   },
   {
    "duration": 70,
    "start_time": "2024-02-11T14:46:41.781Z"
   },
   {
    "duration": 8,
    "start_time": "2024-02-11T14:46:51.900Z"
   },
   {
    "duration": 5,
    "start_time": "2024-02-11T14:47:02.329Z"
   },
   {
    "duration": 86149,
    "start_time": "2024-02-11T14:48:32.602Z"
   },
   {
    "duration": 1092,
    "start_time": "2024-02-11T14:49:58.755Z"
   },
   {
    "duration": 409641,
    "start_time": "2024-02-11T14:49:59.849Z"
   },
   {
    "duration": 30808,
    "start_time": "2024-02-11T14:56:49.492Z"
   },
   {
    "duration": 159,
    "start_time": "2024-02-11T14:57:20.301Z"
   },
   {
    "duration": 4,
    "start_time": "2024-02-11T14:57:20.461Z"
   },
   {
    "duration": 404431,
    "start_time": "2024-02-11T14:57:20.467Z"
   },
   {
    "duration": 31091,
    "start_time": "2024-02-11T15:04:04.900Z"
   },
   {
    "duration": 86,
    "start_time": "2024-02-11T15:04:35.992Z"
   },
   {
    "duration": 5,
    "start_time": "2024-02-11T15:04:36.080Z"
   },
   {
    "duration": 2820,
    "start_time": "2024-02-11T15:04:36.086Z"
   },
   {
    "duration": 71,
    "start_time": "2024-02-11T15:04:38.908Z"
   },
   {
    "duration": 4,
    "start_time": "2024-02-11T15:04:38.980Z"
   },
   {
    "duration": 753466,
    "start_time": "2024-02-11T15:04:38.985Z"
   },
   {
    "duration": 17000,
    "start_time": "2024-02-11T15:17:12.453Z"
   },
   {
    "duration": 1213,
    "start_time": "2024-02-11T15:17:29.454Z"
   },
   {
    "duration": 5,
    "start_time": "2024-02-11T15:17:30.669Z"
   },
   {
    "duration": 447778,
    "start_time": "2024-02-11T15:17:30.675Z"
   },
   {
    "duration": 8702,
    "start_time": "2024-02-11T15:24:58.454Z"
   },
   {
    "duration": 603,
    "start_time": "2024-02-11T15:25:07.157Z"
   },
   {
    "duration": 5,
    "start_time": "2024-02-11T15:25:07.761Z"
   },
   {
    "duration": 0,
    "start_time": "2024-02-11T15:25:07.861Z"
   },
   {
    "duration": 0,
    "start_time": "2024-02-11T15:25:07.862Z"
   },
   {
    "duration": 0,
    "start_time": "2024-02-11T15:25:07.863Z"
   },
   {
    "duration": 0,
    "start_time": "2024-02-11T15:25:07.865Z"
   },
   {
    "duration": 1261,
    "start_time": "2024-02-11T15:28:50.005Z"
   },
   {
    "duration": 933,
    "start_time": "2024-02-11T15:28:51.267Z"
   },
   {
    "duration": 456,
    "start_time": "2024-02-11T15:28:52.202Z"
   },
   {
    "duration": 5,
    "start_time": "2024-02-11T15:28:52.660Z"
   },
   {
    "duration": 137,
    "start_time": "2024-02-11T15:28:52.666Z"
   },
   {
    "duration": 3,
    "start_time": "2024-02-11T15:28:52.804Z"
   },
   {
    "duration": 278,
    "start_time": "2024-02-11T15:28:52.808Z"
   },
   {
    "duration": 109,
    "start_time": "2024-02-11T15:28:53.088Z"
   },
   {
    "duration": 104,
    "start_time": "2024-02-11T15:28:53.199Z"
   },
   {
    "duration": 96,
    "start_time": "2024-02-11T15:28:53.306Z"
   },
   {
    "duration": 71,
    "start_time": "2024-02-11T15:28:53.404Z"
   },
   {
    "duration": 126,
    "start_time": "2024-02-11T15:28:53.477Z"
   },
   {
    "duration": 109,
    "start_time": "2024-02-11T15:28:53.605Z"
   },
   {
    "duration": 53,
    "start_time": "2024-02-11T15:28:53.716Z"
   },
   {
    "duration": 91,
    "start_time": "2024-02-11T15:28:53.771Z"
   },
   {
    "duration": 19,
    "start_time": "2024-02-11T15:28:53.863Z"
   },
   {
    "duration": 101,
    "start_time": "2024-02-11T15:28:53.884Z"
   },
   {
    "duration": 1039,
    "start_time": "2024-02-11T15:28:53.986Z"
   },
   {
    "duration": 625,
    "start_time": "2024-02-11T15:28:55.026Z"
   },
   {
    "duration": 5,
    "start_time": "2024-02-11T15:28:55.653Z"
   },
   {
    "duration": 21293,
    "start_time": "2024-02-11T15:28:55.659Z"
   },
   {
    "duration": 992,
    "start_time": "2024-02-11T15:29:16.954Z"
   },
   {
    "duration": 7,
    "start_time": "2024-02-11T15:29:17.948Z"
   },
   {
    "duration": 106,
    "start_time": "2024-02-11T15:29:18.044Z"
   },
   {
    "duration": 12,
    "start_time": "2024-02-11T15:29:18.152Z"
   },
   {
    "duration": 180,
    "start_time": "2024-02-11T15:29:18.166Z"
   },
   {
    "duration": 87999,
    "start_time": "2024-02-11T15:29:18.348Z"
   },
   {
    "duration": 932,
    "start_time": "2024-02-11T15:30:46.352Z"
   },
   {
    "duration": 420593,
    "start_time": "2024-02-11T15:30:47.348Z"
   },
   {
    "duration": 32328,
    "start_time": "2024-02-11T15:37:47.943Z"
   },
   {
    "duration": 174,
    "start_time": "2024-02-11T15:38:20.273Z"
   },
   {
    "duration": 6,
    "start_time": "2024-02-11T15:38:20.448Z"
   },
   {
    "duration": 411284,
    "start_time": "2024-02-11T15:38:20.455Z"
   },
   {
    "duration": 31304,
    "start_time": "2024-02-11T15:45:11.741Z"
   },
   {
    "duration": 85,
    "start_time": "2024-02-11T15:45:43.046Z"
   },
   {
    "duration": 14,
    "start_time": "2024-02-11T15:45:43.132Z"
   },
   {
    "duration": 2753,
    "start_time": "2024-02-11T15:45:43.147Z"
   },
   {
    "duration": 69,
    "start_time": "2024-02-11T15:45:45.901Z"
   },
   {
    "duration": 5,
    "start_time": "2024-02-11T15:45:45.971Z"
   },
   {
    "duration": 826583,
    "start_time": "2024-02-11T15:45:45.977Z"
   },
   {
    "duration": 15096,
    "start_time": "2024-02-11T15:59:32.561Z"
   },
   {
    "duration": 1202,
    "start_time": "2024-02-11T15:59:47.658Z"
   },
   {
    "duration": 5,
    "start_time": "2024-02-11T15:59:48.861Z"
   },
   {
    "duration": 461984,
    "start_time": "2024-02-11T15:59:48.867Z"
   },
   {
    "duration": 7603,
    "start_time": "2024-02-11T16:07:30.852Z"
   },
   {
    "duration": 597,
    "start_time": "2024-02-11T16:07:38.456Z"
   },
   {
    "duration": 5,
    "start_time": "2024-02-11T16:07:39.055Z"
   },
   {
    "duration": 68,
    "start_time": "2024-02-11T16:07:39.061Z"
   },
   {
    "duration": 1319,
    "start_time": "2024-02-11T18:26:14.566Z"
   },
   {
    "duration": 940,
    "start_time": "2024-02-11T18:26:15.887Z"
   },
   {
    "duration": 469,
    "start_time": "2024-02-11T18:26:16.829Z"
   },
   {
    "duration": 6,
    "start_time": "2024-02-11T18:26:17.300Z"
   },
   {
    "duration": 151,
    "start_time": "2024-02-11T18:26:17.307Z"
   },
   {
    "duration": 3,
    "start_time": "2024-02-11T18:26:17.459Z"
   },
   {
    "duration": 302,
    "start_time": "2024-02-11T18:26:17.463Z"
   },
   {
    "duration": 113,
    "start_time": "2024-02-11T18:26:17.766Z"
   },
   {
    "duration": 124,
    "start_time": "2024-02-11T18:26:17.881Z"
   },
   {
    "duration": 98,
    "start_time": "2024-02-11T18:26:18.007Z"
   },
   {
    "duration": 125,
    "start_time": "2024-02-11T18:26:18.106Z"
   },
   {
    "duration": 119,
    "start_time": "2024-02-11T18:26:18.232Z"
   },
   {
    "duration": 107,
    "start_time": "2024-02-11T18:26:18.353Z"
   },
   {
    "duration": 44,
    "start_time": "2024-02-11T18:26:18.462Z"
   },
   {
    "duration": 95,
    "start_time": "2024-02-11T18:26:18.507Z"
   },
   {
    "duration": 45,
    "start_time": "2024-02-11T18:26:18.603Z"
   },
   {
    "duration": 104,
    "start_time": "2024-02-11T18:26:18.650Z"
   },
   {
    "duration": 1051,
    "start_time": "2024-02-11T18:26:18.756Z"
   },
   {
    "duration": 592,
    "start_time": "2024-02-11T18:26:19.808Z"
   },
   {
    "duration": 4,
    "start_time": "2024-02-11T18:26:20.402Z"
   },
   {
    "duration": 21343,
    "start_time": "2024-02-11T18:26:20.407Z"
   },
   {
    "duration": 897,
    "start_time": "2024-02-11T18:26:41.752Z"
   },
   {
    "duration": 94,
    "start_time": "2024-02-11T18:26:42.651Z"
   },
   {
    "duration": 68,
    "start_time": "2024-02-11T18:26:42.746Z"
   },
   {
    "duration": 14,
    "start_time": "2024-02-11T18:26:42.845Z"
   },
   {
    "duration": 9,
    "start_time": "2024-02-11T18:26:42.945Z"
   },
   {
    "duration": 87701,
    "start_time": "2024-02-11T18:26:43.045Z"
   },
   {
    "duration": 1002,
    "start_time": "2024-02-11T18:28:10.751Z"
   },
   {
    "duration": 421396,
    "start_time": "2024-02-11T18:28:11.758Z"
   },
   {
    "duration": 30706,
    "start_time": "2024-02-11T18:35:13.156Z"
   },
   {
    "duration": 151,
    "start_time": "2024-02-11T18:35:43.863Z"
   },
   {
    "duration": 5,
    "start_time": "2024-02-11T18:35:44.016Z"
   },
   {
    "duration": 401643,
    "start_time": "2024-02-11T18:35:44.022Z"
   },
   {
    "duration": 32696,
    "start_time": "2024-02-11T18:42:25.666Z"
   },
   {
    "duration": 92,
    "start_time": "2024-02-11T18:42:58.363Z"
   },
   {
    "duration": 5,
    "start_time": "2024-02-11T18:42:58.456Z"
   },
   {
    "duration": 3296089,
    "start_time": "2024-02-11T18:42:58.462Z"
   },
   {
    "duration": 14708,
    "start_time": "2024-02-11T19:37:54.553Z"
   },
   {
    "duration": 1200,
    "start_time": "2024-02-11T19:38:09.262Z"
   },
   {
    "duration": 4,
    "start_time": "2024-02-11T19:38:10.464Z"
   },
   {
    "duration": 1175890,
    "start_time": "2024-02-11T19:38:10.470Z"
   },
   {
    "duration": 7690,
    "start_time": "2024-02-11T19:57:46.361Z"
   },
   {
    "duration": 509,
    "start_time": "2024-02-11T19:57:54.052Z"
   },
   {
    "duration": 81,
    "start_time": "2024-02-11T19:57:54.566Z"
   },
   {
    "duration": 124,
    "start_time": "2024-02-11T19:57:54.649Z"
   },
   {
    "duration": 32,
    "start_time": "2024-02-11T20:28:46.394Z"
   },
   {
    "duration": 14,
    "start_time": "2024-02-11T20:29:08.061Z"
   },
   {
    "duration": 14,
    "start_time": "2024-02-11T20:43:10.658Z"
   },
   {
    "duration": 45,
    "start_time": "2024-02-12T14:29:13.820Z"
   },
   {
    "duration": 1666,
    "start_time": "2024-02-12T14:29:21.425Z"
   },
   {
    "duration": 1219,
    "start_time": "2024-02-12T14:29:23.093Z"
   },
   {
    "duration": 452,
    "start_time": "2024-02-12T14:29:24.314Z"
   },
   {
    "duration": 6,
    "start_time": "2024-02-12T14:29:24.767Z"
   },
   {
    "duration": 138,
    "start_time": "2024-02-12T14:29:24.775Z"
   },
   {
    "duration": 4,
    "start_time": "2024-02-12T14:29:25.238Z"
   },
   {
    "duration": 280,
    "start_time": "2024-02-12T14:29:26.275Z"
   },
   {
    "duration": 118,
    "start_time": "2024-02-12T14:29:27.803Z"
   },
   {
    "duration": 89,
    "start_time": "2024-02-12T14:29:29.209Z"
   },
   {
    "duration": 89,
    "start_time": "2024-02-12T14:29:29.925Z"
   },
   {
    "duration": 55,
    "start_time": "2024-02-12T14:29:30.660Z"
   },
   {
    "duration": 120,
    "start_time": "2024-02-12T14:29:31.858Z"
   },
   {
    "duration": 107,
    "start_time": "2024-02-12T14:29:35.144Z"
   },
   {
    "duration": 49,
    "start_time": "2024-02-12T14:29:37.015Z"
   },
   {
    "duration": 106,
    "start_time": "2024-02-12T14:29:37.886Z"
   },
   {
    "duration": 8,
    "start_time": "2024-02-12T14:29:42.144Z"
   },
   {
    "duration": 30,
    "start_time": "2024-02-12T14:32:00.464Z"
   },
   {
    "duration": 8,
    "start_time": "2024-02-12T14:32:07.153Z"
   },
   {
    "duration": 18,
    "start_time": "2024-02-12T14:37:00.569Z"
   },
   {
    "duration": 88,
    "start_time": "2024-02-12T14:37:01.779Z"
   },
   {
    "duration": 1661,
    "start_time": "2024-02-13T16:16:12.191Z"
   },
   {
    "duration": 1454,
    "start_time": "2024-02-13T16:16:13.854Z"
   },
   {
    "duration": 546,
    "start_time": "2024-02-13T16:16:15.309Z"
   },
   {
    "duration": 6,
    "start_time": "2024-02-13T16:16:15.858Z"
   },
   {
    "duration": 161,
    "start_time": "2024-02-13T16:16:15.865Z"
   },
   {
    "duration": 9,
    "start_time": "2024-02-13T16:16:16.028Z"
   },
   {
    "duration": 363,
    "start_time": "2024-02-13T16:16:16.040Z"
   },
   {
    "duration": 142,
    "start_time": "2024-02-13T16:16:16.404Z"
   },
   {
    "duration": 108,
    "start_time": "2024-02-13T16:16:16.553Z"
   },
   {
    "duration": 107,
    "start_time": "2024-02-13T16:16:16.663Z"
   },
   {
    "duration": 85,
    "start_time": "2024-02-13T16:16:16.772Z"
   },
   {
    "duration": 175,
    "start_time": "2024-02-13T16:16:16.860Z"
   },
   {
    "duration": 132,
    "start_time": "2024-02-13T16:16:22.269Z"
   },
   {
    "duration": 50,
    "start_time": "2024-02-13T16:16:24.771Z"
   },
   {
    "duration": 118,
    "start_time": "2024-02-13T16:16:26.341Z"
   },
   {
    "duration": 11,
    "start_time": "2024-02-13T16:16:29.513Z"
   },
   {
    "duration": 42,
    "start_time": "2024-02-13T16:16:30.713Z"
   },
   {
    "duration": 11,
    "start_time": "2024-02-13T16:16:30.987Z"
   },
   {
    "duration": 24,
    "start_time": "2024-02-13T16:16:31.886Z"
   },
   {
    "duration": 94,
    "start_time": "2024-02-13T16:16:33.115Z"
   },
   {
    "duration": 112,
    "start_time": "2024-02-13T16:16:34.292Z"
   },
   {
    "duration": 4,
    "start_time": "2024-02-13T16:17:23.455Z"
   },
   {
    "duration": 991,
    "start_time": "2024-02-13T16:17:24.299Z"
   },
   {
    "duration": 452,
    "start_time": "2024-02-13T16:17:25.292Z"
   },
   {
    "duration": 11,
    "start_time": "2024-02-13T16:17:25.746Z"
   },
   {
    "duration": 180,
    "start_time": "2024-02-13T16:17:25.759Z"
   },
   {
    "duration": 5,
    "start_time": "2024-02-13T16:17:25.940Z"
   },
   {
    "duration": 363,
    "start_time": "2024-02-13T16:17:25.947Z"
   },
   {
    "duration": 114,
    "start_time": "2024-02-13T16:17:26.312Z"
   },
   {
    "duration": 87,
    "start_time": "2024-02-13T16:17:26.427Z"
   },
   {
    "duration": 88,
    "start_time": "2024-02-13T16:17:26.648Z"
   },
   {
    "duration": 56,
    "start_time": "2024-02-13T16:17:26.817Z"
   },
   {
    "duration": 117,
    "start_time": "2024-02-13T16:17:26.981Z"
   },
   {
    "duration": 118,
    "start_time": "2024-02-13T16:17:27.948Z"
   },
   {
    "duration": 49,
    "start_time": "2024-02-13T16:17:28.299Z"
   },
   {
    "duration": 88,
    "start_time": "2024-02-13T16:17:28.534Z"
   },
   {
    "duration": 9,
    "start_time": "2024-02-13T16:17:29.559Z"
   },
   {
    "duration": 36,
    "start_time": "2024-02-13T16:17:30.021Z"
   },
   {
    "duration": 8,
    "start_time": "2024-02-13T16:17:30.486Z"
   },
   {
    "duration": 18,
    "start_time": "2024-02-13T16:17:31.087Z"
   },
   {
    "duration": 65,
    "start_time": "2024-02-13T16:17:31.453Z"
   },
   {
    "duration": 18,
    "start_time": "2024-02-13T16:17:32.236Z"
   },
   {
    "duration": 15,
    "start_time": "2024-02-13T16:28:02.443Z"
   },
   {
    "duration": 14,
    "start_time": "2024-02-13T16:28:03.855Z"
   },
   {
    "duration": 6,
    "start_time": "2024-02-13T16:28:26.986Z"
   },
   {
    "duration": 18,
    "start_time": "2024-02-13T16:32:16.979Z"
   },
   {
    "duration": 22,
    "start_time": "2024-02-13T16:33:35.454Z"
   },
   {
    "duration": 17,
    "start_time": "2024-02-13T16:33:45.558Z"
   },
   {
    "duration": 19,
    "start_time": "2024-02-13T16:39:29.455Z"
   },
   {
    "duration": 13,
    "start_time": "2024-02-13T16:39:33.018Z"
   },
   {
    "duration": 8,
    "start_time": "2024-02-13T16:39:34.545Z"
   },
   {
    "duration": 17,
    "start_time": "2024-02-13T16:39:36.223Z"
   },
   {
    "duration": 1295,
    "start_time": "2024-02-13T16:39:44.924Z"
   },
   {
    "duration": 6860,
    "start_time": "2024-02-13T16:40:08.785Z"
   },
   {
    "duration": 2298,
    "start_time": "2024-02-13T16:40:24.660Z"
   },
   {
    "duration": 6,
    "start_time": "2024-02-13T16:40:30.107Z"
   },
   {
    "duration": 997,
    "start_time": "2024-02-13T16:40:30.554Z"
   },
   {
    "duration": 457,
    "start_time": "2024-02-13T16:40:31.553Z"
   },
   {
    "duration": 6,
    "start_time": "2024-02-13T16:40:32.011Z"
   },
   {
    "duration": 168,
    "start_time": "2024-02-13T16:40:32.019Z"
   },
   {
    "duration": 3,
    "start_time": "2024-02-13T16:40:32.189Z"
   },
   {
    "duration": 344,
    "start_time": "2024-02-13T16:40:32.194Z"
   },
   {
    "duration": 116,
    "start_time": "2024-02-13T16:40:32.540Z"
   },
   {
    "duration": 94,
    "start_time": "2024-02-13T16:40:32.657Z"
   },
   {
    "duration": 92,
    "start_time": "2024-02-13T16:40:32.768Z"
   },
   {
    "duration": 55,
    "start_time": "2024-02-13T16:40:32.935Z"
   },
   {
    "duration": 139,
    "start_time": "2024-02-13T16:40:33.135Z"
   },
   {
    "duration": 107,
    "start_time": "2024-02-13T16:40:35.137Z"
   },
   {
    "duration": 54,
    "start_time": "2024-02-13T16:40:35.603Z"
   },
   {
    "duration": 90,
    "start_time": "2024-02-13T16:40:36.005Z"
   },
   {
    "duration": 17,
    "start_time": "2024-02-13T16:40:37.753Z"
   },
   {
    "duration": 25,
    "start_time": "2024-02-13T16:40:38.687Z"
   },
   {
    "duration": 9,
    "start_time": "2024-02-13T16:40:38.867Z"
   },
   {
    "duration": 18,
    "start_time": "2024-02-13T16:40:39.153Z"
   },
   {
    "duration": 77,
    "start_time": "2024-02-13T16:40:39.683Z"
   },
   {
    "duration": 14,
    "start_time": "2024-02-13T16:40:40.783Z"
   },
   {
    "duration": 9,
    "start_time": "2024-02-13T16:40:41.453Z"
   },
   {
    "duration": 28,
    "start_time": "2024-02-13T16:40:47.476Z"
   },
   {
    "duration": 19,
    "start_time": "2024-02-13T16:40:59.535Z"
   },
   {
    "duration": 1263,
    "start_time": "2024-02-13T16:41:03.852Z"
   },
   {
    "duration": 1200,
    "start_time": "2024-02-13T16:41:46.890Z"
   },
   {
    "duration": 1032,
    "start_time": "2024-02-13T16:41:48.092Z"
   },
   {
    "duration": 508,
    "start_time": "2024-02-13T16:41:49.125Z"
   },
   {
    "duration": 8,
    "start_time": "2024-02-13T16:41:49.635Z"
   },
   {
    "duration": 176,
    "start_time": "2024-02-13T16:41:49.645Z"
   },
   {
    "duration": 3,
    "start_time": "2024-02-13T16:41:49.822Z"
   },
   {
    "duration": 329,
    "start_time": "2024-02-13T16:41:49.826Z"
   },
   {
    "duration": 115,
    "start_time": "2024-02-13T16:41:50.156Z"
   },
   {
    "duration": 110,
    "start_time": "2024-02-13T16:41:50.272Z"
   },
   {
    "duration": 90,
    "start_time": "2024-02-13T16:41:50.384Z"
   },
   {
    "duration": 94,
    "start_time": "2024-02-13T16:41:50.475Z"
   },
   {
    "duration": 126,
    "start_time": "2024-02-13T16:41:50.571Z"
   },
   {
    "duration": 108,
    "start_time": "2024-02-13T16:41:50.699Z"
   },
   {
    "duration": 59,
    "start_time": "2024-02-13T16:41:50.809Z"
   },
   {
    "duration": 91,
    "start_time": "2024-02-13T16:41:50.869Z"
   },
   {
    "duration": 12,
    "start_time": "2024-02-13T16:41:50.961Z"
   },
   {
    "duration": 56,
    "start_time": "2024-02-13T16:41:50.974Z"
   },
   {
    "duration": 13,
    "start_time": "2024-02-13T16:41:51.032Z"
   },
   {
    "duration": 33,
    "start_time": "2024-02-13T16:41:51.046Z"
   },
   {
    "duration": 113,
    "start_time": "2024-02-13T16:41:51.081Z"
   },
   {
    "duration": 18,
    "start_time": "2024-02-13T16:41:51.197Z"
   },
   {
    "duration": 16,
    "start_time": "2024-02-13T16:41:51.217Z"
   },
   {
    "duration": 47,
    "start_time": "2024-02-13T16:42:07.633Z"
   },
   {
    "duration": 1820,
    "start_time": "2024-02-13T16:42:24.713Z"
   },
   {
    "duration": 1246,
    "start_time": "2024-02-13T16:42:26.534Z"
   },
   {
    "duration": 517,
    "start_time": "2024-02-13T16:42:27.782Z"
   },
   {
    "duration": 6,
    "start_time": "2024-02-13T16:42:28.301Z"
   },
   {
    "duration": 165,
    "start_time": "2024-02-13T16:42:28.309Z"
   },
   {
    "duration": 2,
    "start_time": "2024-02-13T16:42:28.476Z"
   },
   {
    "duration": 312,
    "start_time": "2024-02-13T16:42:28.480Z"
   },
   {
    "duration": 117,
    "start_time": "2024-02-13T16:42:28.793Z"
   },
   {
    "duration": 96,
    "start_time": "2024-02-13T16:42:28.912Z"
   },
   {
    "duration": 94,
    "start_time": "2024-02-13T16:42:29.012Z"
   },
   {
    "duration": 67,
    "start_time": "2024-02-13T16:42:29.107Z"
   },
   {
    "duration": 133,
    "start_time": "2024-02-13T16:42:29.175Z"
   },
   {
    "duration": 109,
    "start_time": "2024-02-13T16:42:29.309Z"
   },
   {
    "duration": 53,
    "start_time": "2024-02-13T16:42:29.500Z"
   },
   {
    "duration": 93,
    "start_time": "2024-02-13T16:42:29.555Z"
   },
   {
    "duration": 8,
    "start_time": "2024-02-13T16:42:30.794Z"
   },
   {
    "duration": 30,
    "start_time": "2024-02-13T16:42:31.386Z"
   },
   {
    "duration": 19,
    "start_time": "2024-02-13T16:42:31.418Z"
   },
   {
    "duration": 19,
    "start_time": "2024-02-13T16:42:31.833Z"
   },
   {
    "duration": 77,
    "start_time": "2024-02-13T16:42:32.483Z"
   },
   {
    "duration": 18,
    "start_time": "2024-02-13T16:42:34.038Z"
   },
   {
    "duration": 6,
    "start_time": "2024-02-13T16:42:34.825Z"
   },
   {
    "duration": 1970,
    "start_time": "2024-02-13T16:43:31.300Z"
   },
   {
    "duration": 1353,
    "start_time": "2024-02-13T16:43:33.272Z"
   },
   {
    "duration": 538,
    "start_time": "2024-02-13T16:43:34.626Z"
   },
   {
    "duration": 7,
    "start_time": "2024-02-13T16:43:35.166Z"
   },
   {
    "duration": 173,
    "start_time": "2024-02-13T16:43:35.175Z"
   },
   {
    "duration": 3,
    "start_time": "2024-02-13T16:43:35.350Z"
   },
   {
    "duration": 352,
    "start_time": "2024-02-13T16:43:35.355Z"
   },
   {
    "duration": 182,
    "start_time": "2024-02-13T16:43:35.709Z"
   },
   {
    "duration": 135,
    "start_time": "2024-02-13T16:43:35.893Z"
   },
   {
    "duration": 114,
    "start_time": "2024-02-13T16:43:36.648Z"
   },
   {
    "duration": 60,
    "start_time": "2024-02-13T16:43:36.764Z"
   },
   {
    "duration": 148,
    "start_time": "2024-02-13T16:43:37.707Z"
   },
   {
    "duration": 123,
    "start_time": "2024-02-13T16:43:42.429Z"
   },
   {
    "duration": 55,
    "start_time": "2024-02-13T16:43:45.030Z"
   },
   {
    "duration": 100,
    "start_time": "2024-02-13T16:43:45.869Z"
   },
   {
    "duration": 9,
    "start_time": "2024-02-13T16:43:47.469Z"
   },
   {
    "duration": 31,
    "start_time": "2024-02-13T16:43:49.053Z"
   },
   {
    "duration": 14,
    "start_time": "2024-02-13T16:43:49.086Z"
   },
   {
    "duration": 22,
    "start_time": "2024-02-13T16:43:50.616Z"
   },
   {
    "duration": 79,
    "start_time": "2024-02-13T16:43:50.640Z"
   },
   {
    "duration": 18,
    "start_time": "2024-02-13T16:43:53.146Z"
   },
   {
    "duration": 7,
    "start_time": "2024-02-13T16:43:55.168Z"
   },
   {
    "duration": 43,
    "start_time": "2024-02-13T16:44:08.771Z"
   },
   {
    "duration": 7,
    "start_time": "2024-02-13T16:44:09.856Z"
   },
   {
    "duration": 1818,
    "start_time": "2024-02-13T16:44:15.431Z"
   },
   {
    "duration": 1338,
    "start_time": "2024-02-13T16:44:17.251Z"
   },
   {
    "duration": 565,
    "start_time": "2024-02-13T16:44:18.590Z"
   },
   {
    "duration": 6,
    "start_time": "2024-02-13T16:44:19.157Z"
   },
   {
    "duration": 189,
    "start_time": "2024-02-13T16:44:19.165Z"
   },
   {
    "duration": 4,
    "start_time": "2024-02-13T16:44:19.355Z"
   },
   {
    "duration": 318,
    "start_time": "2024-02-13T16:44:19.361Z"
   },
   {
    "duration": 155,
    "start_time": "2024-02-13T16:44:19.681Z"
   },
   {
    "duration": 94,
    "start_time": "2024-02-13T16:44:19.844Z"
   },
   {
    "duration": 97,
    "start_time": "2024-02-13T16:44:19.945Z"
   },
   {
    "duration": 56,
    "start_time": "2024-02-13T16:44:20.043Z"
   },
   {
    "duration": 145,
    "start_time": "2024-02-13T16:44:20.100Z"
   },
   {
    "duration": 115,
    "start_time": "2024-02-13T16:44:20.919Z"
   },
   {
    "duration": 53,
    "start_time": "2024-02-13T16:44:21.043Z"
   },
   {
    "duration": 109,
    "start_time": "2024-02-13T16:44:21.811Z"
   },
   {
    "duration": 9,
    "start_time": "2024-02-13T16:44:22.178Z"
   },
   {
    "duration": 32,
    "start_time": "2024-02-13T16:44:22.699Z"
   },
   {
    "duration": 12,
    "start_time": "2024-02-13T16:44:22.948Z"
   },
   {
    "duration": 20,
    "start_time": "2024-02-13T16:44:24.045Z"
   },
   {
    "duration": 82,
    "start_time": "2024-02-13T16:44:24.067Z"
   },
   {
    "duration": 19,
    "start_time": "2024-02-13T16:44:25.386Z"
   },
   {
    "duration": 8,
    "start_time": "2024-02-13T16:44:57.786Z"
   },
   {
    "duration": 1919,
    "start_time": "2024-02-13T16:46:33.669Z"
   },
   {
    "duration": 1339,
    "start_time": "2024-02-13T16:46:35.590Z"
   },
   {
    "duration": 518,
    "start_time": "2024-02-13T16:46:36.935Z"
   },
   {
    "duration": 5,
    "start_time": "2024-02-13T16:46:37.455Z"
   },
   {
    "duration": 149,
    "start_time": "2024-02-13T16:46:37.462Z"
   },
   {
    "duration": 3,
    "start_time": "2024-02-13T16:46:37.612Z"
   },
   {
    "duration": 336,
    "start_time": "2024-02-13T16:46:37.617Z"
   },
   {
    "duration": 137,
    "start_time": "2024-02-13T16:46:37.955Z"
   },
   {
    "duration": 128,
    "start_time": "2024-02-13T16:46:38.094Z"
   },
   {
    "duration": 115,
    "start_time": "2024-02-13T16:46:38.225Z"
   },
   {
    "duration": 60,
    "start_time": "2024-02-13T16:46:38.341Z"
   },
   {
    "duration": 159,
    "start_time": "2024-02-13T16:46:38.402Z"
   },
   {
    "duration": 120,
    "start_time": "2024-02-13T16:46:39.855Z"
   },
   {
    "duration": 57,
    "start_time": "2024-02-13T16:46:40.195Z"
   },
   {
    "duration": 112,
    "start_time": "2024-02-13T16:46:40.254Z"
   },
   {
    "duration": 9,
    "start_time": "2024-02-13T16:46:41.308Z"
   },
   {
    "duration": 33,
    "start_time": "2024-02-13T16:46:42.377Z"
   },
   {
    "duration": 12,
    "start_time": "2024-02-13T16:46:42.412Z"
   },
   {
    "duration": 20,
    "start_time": "2024-02-13T16:46:44.079Z"
   },
   {
    "duration": 83,
    "start_time": "2024-02-13T16:46:44.968Z"
   },
   {
    "duration": 23,
    "start_time": "2024-02-13T16:46:45.544Z"
   },
   {
    "duration": 11,
    "start_time": "2024-02-13T16:46:45.569Z"
   },
   {
    "duration": 1781,
    "start_time": "2024-02-13T16:47:13.110Z"
   },
   {
    "duration": 1277,
    "start_time": "2024-02-13T16:47:14.893Z"
   },
   {
    "duration": 491,
    "start_time": "2024-02-13T16:47:16.171Z"
   },
   {
    "duration": 5,
    "start_time": "2024-02-13T16:47:16.664Z"
   },
   {
    "duration": 137,
    "start_time": "2024-02-13T16:47:16.671Z"
   },
   {
    "duration": 3,
    "start_time": "2024-02-13T16:47:16.810Z"
   },
   {
    "duration": 297,
    "start_time": "2024-02-13T16:47:16.814Z"
   },
   {
    "duration": 126,
    "start_time": "2024-02-13T16:47:17.113Z"
   },
   {
    "duration": 104,
    "start_time": "2024-02-13T16:47:17.241Z"
   },
   {
    "duration": 106,
    "start_time": "2024-02-13T16:47:17.347Z"
   },
   {
    "duration": 56,
    "start_time": "2024-02-13T16:47:17.455Z"
   },
   {
    "duration": 144,
    "start_time": "2024-02-13T16:47:17.513Z"
   },
   {
    "duration": 120,
    "start_time": "2024-02-13T16:47:17.659Z"
   },
   {
    "duration": 63,
    "start_time": "2024-02-13T16:47:17.783Z"
   },
   {
    "duration": 96,
    "start_time": "2024-02-13T16:47:17.848Z"
   },
   {
    "duration": 9,
    "start_time": "2024-02-13T16:47:17.946Z"
   },
   {
    "duration": 31,
    "start_time": "2024-02-13T16:47:17.957Z"
   },
   {
    "duration": 12,
    "start_time": "2024-02-13T16:47:17.990Z"
   },
   {
    "duration": 49,
    "start_time": "2024-02-13T16:47:18.003Z"
   },
   {
    "duration": 92,
    "start_time": "2024-02-13T16:47:18.054Z"
   },
   {
    "duration": 19,
    "start_time": "2024-02-13T16:47:18.147Z"
   },
   {
    "duration": 34,
    "start_time": "2024-02-13T16:47:18.168Z"
   },
   {
    "duration": 110,
    "start_time": "2024-02-13T17:01:26.914Z"
   },
   {
    "duration": 1745,
    "start_time": "2024-02-13T17:05:12.689Z"
   },
   {
    "duration": 1257,
    "start_time": "2024-02-13T17:05:14.436Z"
   },
   {
    "duration": 544,
    "start_time": "2024-02-13T17:05:15.695Z"
   },
   {
    "duration": 6,
    "start_time": "2024-02-13T17:05:16.241Z"
   },
   {
    "duration": 149,
    "start_time": "2024-02-13T17:05:16.249Z"
   },
   {
    "duration": 4,
    "start_time": "2024-02-13T17:05:16.399Z"
   },
   {
    "duration": 297,
    "start_time": "2024-02-13T17:05:16.404Z"
   },
   {
    "duration": 114,
    "start_time": "2024-02-13T17:05:16.702Z"
   },
   {
    "duration": 96,
    "start_time": "2024-02-13T17:05:16.818Z"
   },
   {
    "duration": 100,
    "start_time": "2024-02-13T17:05:16.915Z"
   },
   {
    "duration": 61,
    "start_time": "2024-02-13T17:05:17.016Z"
   },
   {
    "duration": 155,
    "start_time": "2024-02-13T17:05:17.078Z"
   },
   {
    "duration": 115,
    "start_time": "2024-02-13T17:05:17.235Z"
   },
   {
    "duration": 50,
    "start_time": "2024-02-13T17:05:17.352Z"
   },
   {
    "duration": 113,
    "start_time": "2024-02-13T17:05:17.404Z"
   },
   {
    "duration": 17,
    "start_time": "2024-02-13T17:05:17.519Z"
   },
   {
    "duration": 31,
    "start_time": "2024-02-13T17:05:17.538Z"
   },
   {
    "duration": 9,
    "start_time": "2024-02-13T17:05:17.571Z"
   },
   {
    "duration": 19,
    "start_time": "2024-02-13T17:05:17.582Z"
   },
   {
    "duration": 101,
    "start_time": "2024-02-13T17:05:17.603Z"
   },
   {
    "duration": 28,
    "start_time": "2024-02-13T17:05:17.706Z"
   },
   {
    "duration": 7,
    "start_time": "2024-02-13T17:05:17.735Z"
   },
   {
    "duration": 1106,
    "start_time": "2024-02-14T09:57:23.487Z"
   },
   {
    "duration": 900,
    "start_time": "2024-02-14T09:57:24.595Z"
   },
   {
    "duration": 448,
    "start_time": "2024-02-14T09:57:25.497Z"
   },
   {
    "duration": 5,
    "start_time": "2024-02-14T09:57:25.947Z"
   },
   {
    "duration": 158,
    "start_time": "2024-02-14T09:57:25.953Z"
   },
   {
    "duration": 2,
    "start_time": "2024-02-14T09:57:26.113Z"
   },
   {
    "duration": 313,
    "start_time": "2024-02-14T09:57:26.117Z"
   },
   {
    "duration": 116,
    "start_time": "2024-02-14T09:57:26.431Z"
   },
   {
    "duration": 95,
    "start_time": "2024-02-14T09:57:26.549Z"
   },
   {
    "duration": 86,
    "start_time": "2024-02-14T09:57:26.646Z"
   },
   {
    "duration": 80,
    "start_time": "2024-02-14T09:57:26.733Z"
   },
   {
    "duration": 120,
    "start_time": "2024-02-14T09:57:26.814Z"
   },
   {
    "duration": 102,
    "start_time": "2024-02-14T09:57:26.935Z"
   },
   {
    "duration": 46,
    "start_time": "2024-02-14T09:57:27.045Z"
   },
   {
    "duration": 97,
    "start_time": "2024-02-14T09:57:27.092Z"
   },
   {
    "duration": 22,
    "start_time": "2024-02-14T09:57:27.190Z"
   },
   {
    "duration": 50,
    "start_time": "2024-02-14T09:57:27.213Z"
   },
   {
    "duration": 10,
    "start_time": "2024-02-14T09:57:27.265Z"
   },
   {
    "duration": 31,
    "start_time": "2024-02-14T09:57:27.277Z"
   },
   {
    "duration": 68,
    "start_time": "2024-02-14T09:57:27.309Z"
   },
   {
    "duration": 16,
    "start_time": "2024-02-14T09:57:27.378Z"
   },
   {
    "duration": 26,
    "start_time": "2024-02-14T09:57:27.396Z"
   },
   {
    "duration": 43,
    "start_time": "2024-02-14T09:58:36.764Z"
   },
   {
    "duration": 1649,
    "start_time": "2024-02-14T09:58:45.932Z"
   },
   {
    "duration": 1146,
    "start_time": "2024-02-14T09:58:47.583Z"
   },
   {
    "duration": 449,
    "start_time": "2024-02-14T09:58:48.730Z"
   },
   {
    "duration": 6,
    "start_time": "2024-02-14T09:58:49.180Z"
   },
   {
    "duration": 158,
    "start_time": "2024-02-14T09:58:49.187Z"
   },
   {
    "duration": 3,
    "start_time": "2024-02-14T09:58:49.346Z"
   },
   {
    "duration": 268,
    "start_time": "2024-02-14T09:58:49.350Z"
   },
   {
    "duration": 126,
    "start_time": "2024-02-14T09:58:49.619Z"
   },
   {
    "duration": 85,
    "start_time": "2024-02-14T09:58:49.746Z"
   },
   {
    "duration": 93,
    "start_time": "2024-02-14T09:58:49.833Z"
   },
   {
    "duration": 58,
    "start_time": "2024-02-14T09:58:49.927Z"
   },
   {
    "duration": 119,
    "start_time": "2024-02-14T09:58:49.986Z"
   },
   {
    "duration": 103,
    "start_time": "2024-02-14T09:58:50.107Z"
   },
   {
    "duration": 55,
    "start_time": "2024-02-14T09:58:50.211Z"
   },
   {
    "duration": 89,
    "start_time": "2024-02-14T09:58:50.268Z"
   },
   {
    "duration": 18,
    "start_time": "2024-02-14T09:58:50.358Z"
   },
   {
    "duration": 31,
    "start_time": "2024-02-14T09:58:50.377Z"
   },
   {
    "duration": 8,
    "start_time": "2024-02-14T09:58:50.409Z"
   },
   {
    "duration": 36,
    "start_time": "2024-02-14T09:58:50.419Z"
   },
   {
    "duration": 101,
    "start_time": "2024-02-14T09:58:50.456Z"
   },
   {
    "duration": 17,
    "start_time": "2024-02-14T09:58:50.558Z"
   },
   {
    "duration": 30,
    "start_time": "2024-02-14T09:58:50.577Z"
   },
   {
    "duration": 712,
    "start_time": "2024-02-14T09:58:50.608Z"
   },
   {
    "duration": 3,
    "start_time": "2024-02-14T10:03:31.748Z"
   },
   {
    "duration": 591,
    "start_time": "2024-02-14T10:05:06.732Z"
   },
   {
    "duration": 43,
    "start_time": "2024-02-14T10:14:10.588Z"
   },
   {
    "duration": 1551,
    "start_time": "2024-02-14T10:14:19.605Z"
   },
   {
    "duration": 1184,
    "start_time": "2024-02-14T10:14:21.157Z"
   },
   {
    "duration": 479,
    "start_time": "2024-02-14T10:14:22.345Z"
   },
   {
    "duration": 5,
    "start_time": "2024-02-14T10:14:22.826Z"
   },
   {
    "duration": 134,
    "start_time": "2024-02-14T10:14:22.833Z"
   },
   {
    "duration": 3,
    "start_time": "2024-02-14T10:14:22.968Z"
   },
   {
    "duration": 275,
    "start_time": "2024-02-14T10:14:22.972Z"
   },
   {
    "duration": 116,
    "start_time": "2024-02-14T10:14:23.248Z"
   },
   {
    "duration": 96,
    "start_time": "2024-02-14T10:14:23.365Z"
   },
   {
    "duration": 91,
    "start_time": "2024-02-14T10:14:23.464Z"
   },
   {
    "duration": 95,
    "start_time": "2024-02-14T10:14:23.556Z"
   },
   {
    "duration": 125,
    "start_time": "2024-02-14T10:14:23.652Z"
   },
   {
    "duration": 108,
    "start_time": "2024-02-14T10:14:23.778Z"
   },
   {
    "duration": 51,
    "start_time": "2024-02-14T10:14:23.887Z"
   },
   {
    "duration": 86,
    "start_time": "2024-02-14T10:14:23.945Z"
   },
   {
    "duration": 14,
    "start_time": "2024-02-14T10:14:24.033Z"
   },
   {
    "duration": 34,
    "start_time": "2024-02-14T10:14:24.049Z"
   },
   {
    "duration": 7,
    "start_time": "2024-02-14T10:14:24.085Z"
   },
   {
    "duration": 3,
    "start_time": "2024-02-14T10:14:24.094Z"
   },
   {
    "duration": 21,
    "start_time": "2024-02-14T10:14:24.098Z"
   },
   {
    "duration": 90,
    "start_time": "2024-02-14T10:14:24.120Z"
   },
   {
    "duration": 17,
    "start_time": "2024-02-14T10:14:24.211Z"
   },
   {
    "duration": 37,
    "start_time": "2024-02-14T10:14:24.230Z"
   },
   {
    "duration": 1737,
    "start_time": "2024-02-14T10:14:43.845Z"
   },
   {
    "duration": 1154,
    "start_time": "2024-02-14T10:14:45.584Z"
   },
   {
    "duration": 478,
    "start_time": "2024-02-14T10:14:46.739Z"
   },
   {
    "duration": 7,
    "start_time": "2024-02-14T10:14:47.218Z"
   },
   {
    "duration": 147,
    "start_time": "2024-02-14T10:14:47.227Z"
   },
   {
    "duration": 3,
    "start_time": "2024-02-14T10:14:47.375Z"
   },
   {
    "duration": 311,
    "start_time": "2024-02-14T10:14:47.379Z"
   },
   {
    "duration": 114,
    "start_time": "2024-02-14T10:14:47.692Z"
   },
   {
    "duration": 99,
    "start_time": "2024-02-14T10:14:47.808Z"
   },
   {
    "duration": 85,
    "start_time": "2024-02-14T10:14:47.910Z"
   },
   {
    "duration": 68,
    "start_time": "2024-02-14T10:14:47.997Z"
   },
   {
    "duration": 131,
    "start_time": "2024-02-14T10:14:48.067Z"
   },
   {
    "duration": 108,
    "start_time": "2024-02-14T10:14:48.200Z"
   },
   {
    "duration": 55,
    "start_time": "2024-02-14T10:14:48.309Z"
   },
   {
    "duration": 90,
    "start_time": "2024-02-14T10:14:48.366Z"
   },
   {
    "duration": 20,
    "start_time": "2024-02-14T10:14:48.458Z"
   },
   {
    "duration": 47,
    "start_time": "2024-02-14T10:14:48.479Z"
   },
   {
    "duration": 8,
    "start_time": "2024-02-14T10:14:48.527Z"
   },
   {
    "duration": 14,
    "start_time": "2024-02-14T10:14:48.536Z"
   },
   {
    "duration": 27,
    "start_time": "2024-02-14T10:14:48.551Z"
   },
   {
    "duration": 80,
    "start_time": "2024-02-14T10:14:48.579Z"
   },
   {
    "duration": 17,
    "start_time": "2024-02-14T10:14:48.660Z"
   },
   {
    "duration": 31,
    "start_time": "2024-02-14T10:14:48.678Z"
   },
   {
    "duration": 1632,
    "start_time": "2024-02-14T10:15:42.883Z"
   },
   {
    "duration": 1165,
    "start_time": "2024-02-14T10:15:44.517Z"
   },
   {
    "duration": 484,
    "start_time": "2024-02-14T10:15:45.683Z"
   },
   {
    "duration": 5,
    "start_time": "2024-02-14T10:15:46.169Z"
   },
   {
    "duration": 142,
    "start_time": "2024-02-14T10:15:46.176Z"
   },
   {
    "duration": 3,
    "start_time": "2024-02-14T10:15:46.319Z"
   },
   {
    "duration": 292,
    "start_time": "2024-02-14T10:15:46.323Z"
   },
   {
    "duration": 117,
    "start_time": "2024-02-14T10:15:46.616Z"
   },
   {
    "duration": 93,
    "start_time": "2024-02-14T10:15:46.735Z"
   },
   {
    "duration": 116,
    "start_time": "2024-02-14T10:15:46.831Z"
   },
   {
    "duration": 53,
    "start_time": "2024-02-14T10:15:46.949Z"
   },
   {
    "duration": 133,
    "start_time": "2024-02-14T10:15:47.003Z"
   },
   {
    "duration": 134,
    "start_time": "2024-02-14T10:15:47.137Z"
   },
   {
    "duration": 49,
    "start_time": "2024-02-14T10:15:47.272Z"
   },
   {
    "duration": 97,
    "start_time": "2024-02-14T10:15:47.322Z"
   },
   {
    "duration": 8,
    "start_time": "2024-02-14T10:15:47.420Z"
   },
   {
    "duration": 44,
    "start_time": "2024-02-14T10:15:47.429Z"
   },
   {
    "duration": 11,
    "start_time": "2024-02-14T10:15:47.474Z"
   },
   {
    "duration": 6,
    "start_time": "2024-02-14T10:15:47.486Z"
   },
   {
    "duration": 37,
    "start_time": "2024-02-14T10:15:47.493Z"
   },
   {
    "duration": 94,
    "start_time": "2024-02-14T10:15:47.531Z"
   },
   {
    "duration": 18,
    "start_time": "2024-02-14T10:15:47.626Z"
   },
   {
    "duration": 23,
    "start_time": "2024-02-14T10:15:47.645Z"
   },
   {
    "duration": 614,
    "start_time": "2024-02-14T10:15:47.669Z"
   },
   {
    "duration": 114,
    "start_time": "2024-02-14T10:16:05.443Z"
   },
   {
    "duration": 1195,
    "start_time": "2024-02-14T10:16:18.736Z"
   },
   {
    "duration": 938,
    "start_time": "2024-02-14T10:16:19.932Z"
   },
   {
    "duration": 456,
    "start_time": "2024-02-14T10:16:20.871Z"
   },
   {
    "duration": 6,
    "start_time": "2024-02-14T10:16:21.328Z"
   },
   {
    "duration": 164,
    "start_time": "2024-02-14T10:16:21.335Z"
   },
   {
    "duration": 3,
    "start_time": "2024-02-14T10:16:21.500Z"
   },
   {
    "duration": 290,
    "start_time": "2024-02-14T10:16:21.504Z"
   },
   {
    "duration": 119,
    "start_time": "2024-02-14T10:16:21.795Z"
   },
   {
    "duration": 119,
    "start_time": "2024-02-14T10:16:21.916Z"
   },
   {
    "duration": 90,
    "start_time": "2024-02-14T10:16:22.037Z"
   },
   {
    "duration": 68,
    "start_time": "2024-02-14T10:16:22.128Z"
   },
   {
    "duration": 131,
    "start_time": "2024-02-14T10:16:22.198Z"
   },
   {
    "duration": 108,
    "start_time": "2024-02-14T10:16:22.330Z"
   },
   {
    "duration": 51,
    "start_time": "2024-02-14T10:16:22.439Z"
   },
   {
    "duration": 97,
    "start_time": "2024-02-14T10:16:22.491Z"
   },
   {
    "duration": 8,
    "start_time": "2024-02-14T10:16:22.589Z"
   },
   {
    "duration": 50,
    "start_time": "2024-02-14T10:16:22.598Z"
   },
   {
    "duration": 8,
    "start_time": "2024-02-14T10:16:22.649Z"
   },
   {
    "duration": 16,
    "start_time": "2024-02-14T10:16:22.658Z"
   },
   {
    "duration": 35,
    "start_time": "2024-02-14T10:16:22.676Z"
   },
   {
    "duration": 82,
    "start_time": "2024-02-14T10:16:22.712Z"
   },
   {
    "duration": 17,
    "start_time": "2024-02-14T10:16:22.795Z"
   },
   {
    "duration": 10,
    "start_time": "2024-02-14T10:16:22.814Z"
   },
   {
    "duration": 1451,
    "start_time": "2024-02-14T10:16:22.825Z"
   },
   {
    "duration": 14,
    "start_time": "2024-02-14T10:16:49.732Z"
   },
   {
    "duration": 4,
    "start_time": "2024-02-14T10:16:59.046Z"
   },
   {
    "duration": 884,
    "start_time": "2024-02-14T10:16:59.052Z"
   },
   {
    "duration": 382,
    "start_time": "2024-02-14T10:16:59.937Z"
   },
   {
    "duration": 5,
    "start_time": "2024-02-14T10:17:00.321Z"
   },
   {
    "duration": 155,
    "start_time": "2024-02-14T10:17:00.327Z"
   },
   {
    "duration": 2,
    "start_time": "2024-02-14T10:17:00.484Z"
   },
   {
    "duration": 316,
    "start_time": "2024-02-14T10:17:00.487Z"
   },
   {
    "duration": 112,
    "start_time": "2024-02-14T10:17:00.804Z"
   },
   {
    "duration": 95,
    "start_time": "2024-02-14T10:17:00.917Z"
   },
   {
    "duration": 95,
    "start_time": "2024-02-14T10:17:01.014Z"
   },
   {
    "duration": 86,
    "start_time": "2024-02-14T10:17:01.110Z"
   },
   {
    "duration": 124,
    "start_time": "2024-02-14T10:17:01.197Z"
   },
   {
    "duration": 113,
    "start_time": "2024-02-14T10:17:01.322Z"
   },
   {
    "duration": 56,
    "start_time": "2024-02-14T10:17:01.436Z"
   },
   {
    "duration": 145,
    "start_time": "2024-02-14T10:17:01.494Z"
   },
   {
    "duration": 48,
    "start_time": "2024-02-14T10:17:01.640Z"
   },
   {
    "duration": 83,
    "start_time": "2024-02-14T10:17:01.689Z"
   },
   {
    "duration": 30,
    "start_time": "2024-02-14T10:17:01.773Z"
   },
   {
    "duration": 45,
    "start_time": "2024-02-14T10:17:01.805Z"
   },
   {
    "duration": 70,
    "start_time": "2024-02-14T10:17:01.852Z"
   },
   {
    "duration": 169,
    "start_time": "2024-02-14T10:17:01.923Z"
   },
   {
    "duration": 35,
    "start_time": "2024-02-14T10:17:02.093Z"
   },
   {
    "duration": 110,
    "start_time": "2024-02-14T10:17:02.129Z"
   },
   {
    "duration": 1330,
    "start_time": "2024-02-14T10:17:02.240Z"
   },
   {
    "duration": 3,
    "start_time": "2024-02-14T10:17:55.854Z"
   },
   {
    "duration": 911,
    "start_time": "2024-02-14T10:17:55.859Z"
   },
   {
    "duration": 372,
    "start_time": "2024-02-14T10:17:56.771Z"
   },
   {
    "duration": 6,
    "start_time": "2024-02-14T10:17:57.145Z"
   },
   {
    "duration": 153,
    "start_time": "2024-02-14T10:17:57.152Z"
   },
   {
    "duration": 2,
    "start_time": "2024-02-14T10:17:57.307Z"
   },
   {
    "duration": 309,
    "start_time": "2024-02-14T10:17:57.311Z"
   },
   {
    "duration": 147,
    "start_time": "2024-02-14T10:17:57.621Z"
   },
   {
    "duration": 93,
    "start_time": "2024-02-14T10:17:57.769Z"
   },
   {
    "duration": 90,
    "start_time": "2024-02-14T10:17:57.864Z"
   },
   {
    "duration": 52,
    "start_time": "2024-02-14T10:17:57.956Z"
   },
   {
    "duration": 121,
    "start_time": "2024-02-14T10:17:58.010Z"
   },
   {
    "duration": 121,
    "start_time": "2024-02-14T10:17:58.132Z"
   },
   {
    "duration": 51,
    "start_time": "2024-02-14T10:17:58.255Z"
   },
   {
    "duration": 117,
    "start_time": "2024-02-14T10:17:58.308Z"
   },
   {
    "duration": 19,
    "start_time": "2024-02-14T10:17:58.427Z"
   },
   {
    "duration": 33,
    "start_time": "2024-02-14T10:17:58.447Z"
   },
   {
    "duration": 7,
    "start_time": "2024-02-14T10:17:58.482Z"
   },
   {
    "duration": 14,
    "start_time": "2024-02-14T10:17:58.491Z"
   },
   {
    "duration": 46,
    "start_time": "2024-02-14T10:17:58.506Z"
   },
   {
    "duration": 65,
    "start_time": "2024-02-14T10:17:58.554Z"
   },
   {
    "duration": 24,
    "start_time": "2024-02-14T10:17:58.621Z"
   },
   {
    "duration": 6,
    "start_time": "2024-02-14T10:17:58.647Z"
   },
   {
    "duration": 503,
    "start_time": "2024-02-14T10:17:58.655Z"
   },
   {
    "duration": 4,
    "start_time": "2024-02-14T10:18:16.866Z"
   },
   {
    "duration": 952,
    "start_time": "2024-02-14T10:18:16.872Z"
   },
   {
    "duration": 420,
    "start_time": "2024-02-14T10:18:17.825Z"
   },
   {
    "duration": 5,
    "start_time": "2024-02-14T10:18:18.247Z"
   },
   {
    "duration": 143,
    "start_time": "2024-02-14T10:18:18.253Z"
   },
   {
    "duration": 2,
    "start_time": "2024-02-14T10:18:18.398Z"
   },
   {
    "duration": 278,
    "start_time": "2024-02-14T10:18:18.401Z"
   },
   {
    "duration": 108,
    "start_time": "2024-02-14T10:18:18.681Z"
   },
   {
    "duration": 93,
    "start_time": "2024-02-14T10:18:18.791Z"
   },
   {
    "duration": 92,
    "start_time": "2024-02-14T10:18:18.885Z"
   },
   {
    "duration": 51,
    "start_time": "2024-02-14T10:18:18.978Z"
   },
   {
    "duration": 136,
    "start_time": "2024-02-14T10:18:19.045Z"
   },
   {
    "duration": 116,
    "start_time": "2024-02-14T10:18:19.183Z"
   },
   {
    "duration": 54,
    "start_time": "2024-02-14T10:18:19.300Z"
   },
   {
    "duration": 96,
    "start_time": "2024-02-14T10:18:19.355Z"
   },
   {
    "duration": 10,
    "start_time": "2024-02-14T10:18:19.455Z"
   },
   {
    "duration": 29,
    "start_time": "2024-02-14T10:18:19.467Z"
   },
   {
    "duration": 8,
    "start_time": "2024-02-14T10:18:19.498Z"
   },
   {
    "duration": 3,
    "start_time": "2024-02-14T10:18:19.507Z"
   },
   {
    "duration": 40,
    "start_time": "2024-02-14T10:18:19.511Z"
   },
   {
    "duration": 59,
    "start_time": "2024-02-14T10:18:19.552Z"
   },
   {
    "duration": 13,
    "start_time": "2024-02-14T10:18:19.612Z"
   },
   {
    "duration": 20,
    "start_time": "2024-02-14T10:18:19.626Z"
   },
   {
    "duration": 1200,
    "start_time": "2024-02-14T10:18:19.649Z"
   },
   {
    "duration": 1150,
    "start_time": "2024-02-14T10:19:54.187Z"
   },
   {
    "duration": 917,
    "start_time": "2024-02-14T10:19:55.339Z"
   },
   {
    "duration": 462,
    "start_time": "2024-02-14T10:19:56.257Z"
   },
   {
    "duration": 5,
    "start_time": "2024-02-14T10:19:56.721Z"
   },
   {
    "duration": 137,
    "start_time": "2024-02-14T10:19:56.727Z"
   },
   {
    "duration": 3,
    "start_time": "2024-02-14T10:19:56.865Z"
   },
   {
    "duration": 357,
    "start_time": "2024-02-14T10:19:56.869Z"
   },
   {
    "duration": 124,
    "start_time": "2024-02-14T10:19:57.228Z"
   },
   {
    "duration": 93,
    "start_time": "2024-02-14T10:19:57.353Z"
   },
   {
    "duration": 89,
    "start_time": "2024-02-14T10:19:57.449Z"
   },
   {
    "duration": 51,
    "start_time": "2024-02-14T10:19:57.545Z"
   },
   {
    "duration": 143,
    "start_time": "2024-02-14T10:19:57.598Z"
   },
   {
    "duration": 111,
    "start_time": "2024-02-14T10:19:57.742Z"
   },
   {
    "duration": 46,
    "start_time": "2024-02-14T10:19:57.855Z"
   },
   {
    "duration": 97,
    "start_time": "2024-02-14T10:19:57.903Z"
   },
   {
    "duration": 8,
    "start_time": "2024-02-14T10:19:58.001Z"
   },
   {
    "duration": 44,
    "start_time": "2024-02-14T10:19:58.010Z"
   },
   {
    "duration": 10,
    "start_time": "2024-02-14T10:19:58.056Z"
   },
   {
    "duration": 10,
    "start_time": "2024-02-14T10:19:58.067Z"
   },
   {
    "duration": 21,
    "start_time": "2024-02-14T10:19:58.079Z"
   },
   {
    "duration": 83,
    "start_time": "2024-02-14T10:19:58.102Z"
   },
   {
    "duration": 18,
    "start_time": "2024-02-14T10:19:58.187Z"
   },
   {
    "duration": 15,
    "start_time": "2024-02-14T10:19:58.206Z"
   },
   {
    "duration": 1364,
    "start_time": "2024-02-14T10:19:58.222Z"
   },
   {
    "duration": 14,
    "start_time": "2024-02-14T10:20:39.758Z"
   },
   {
    "duration": 1098,
    "start_time": "2024-02-14T10:20:49.999Z"
   },
   {
    "duration": 914,
    "start_time": "2024-02-14T10:20:51.099Z"
   },
   {
    "duration": 484,
    "start_time": "2024-02-14T10:20:52.014Z"
   },
   {
    "duration": 5,
    "start_time": "2024-02-14T10:20:52.500Z"
   },
   {
    "duration": 165,
    "start_time": "2024-02-14T10:20:52.506Z"
   },
   {
    "duration": 3,
    "start_time": "2024-02-14T10:20:52.672Z"
   },
   {
    "duration": 282,
    "start_time": "2024-02-14T10:20:52.676Z"
   },
   {
    "duration": 108,
    "start_time": "2024-02-14T10:20:52.960Z"
   },
   {
    "duration": 95,
    "start_time": "2024-02-14T10:20:53.070Z"
   },
   {
    "duration": 91,
    "start_time": "2024-02-14T10:20:53.167Z"
   },
   {
    "duration": 51,
    "start_time": "2024-02-14T10:20:53.260Z"
   },
   {
    "duration": 136,
    "start_time": "2024-02-14T10:20:53.312Z"
   },
   {
    "duration": 121,
    "start_time": "2024-02-14T10:20:53.449Z"
   },
   {
    "duration": 46,
    "start_time": "2024-02-14T10:20:53.572Z"
   },
   {
    "duration": 94,
    "start_time": "2024-02-14T10:20:53.620Z"
   },
   {
    "duration": 7,
    "start_time": "2024-02-14T10:20:53.716Z"
   },
   {
    "duration": 45,
    "start_time": "2024-02-14T10:20:53.725Z"
   },
   {
    "duration": 9,
    "start_time": "2024-02-14T10:20:53.771Z"
   },
   {
    "duration": 6,
    "start_time": "2024-02-14T10:20:53.781Z"
   },
   {
    "duration": 22,
    "start_time": "2024-02-14T10:20:53.788Z"
   },
   {
    "duration": 81,
    "start_time": "2024-02-14T10:20:53.811Z"
   },
   {
    "duration": 16,
    "start_time": "2024-02-14T10:20:53.894Z"
   },
   {
    "duration": 16,
    "start_time": "2024-02-14T10:20:53.911Z"
   },
   {
    "duration": 1583,
    "start_time": "2024-02-14T10:20:53.929Z"
   },
   {
    "duration": 4,
    "start_time": "2024-02-14T10:21:47.119Z"
   },
   {
    "duration": 1209,
    "start_time": "2024-02-14T10:24:24.938Z"
   },
   {
    "duration": 1006,
    "start_time": "2024-02-14T10:24:26.149Z"
   },
   {
    "duration": 517,
    "start_time": "2024-02-14T10:24:27.156Z"
   },
   {
    "duration": 6,
    "start_time": "2024-02-14T10:24:27.676Z"
   },
   {
    "duration": 158,
    "start_time": "2024-02-14T10:24:27.684Z"
   },
   {
    "duration": 11,
    "start_time": "2024-02-14T10:24:27.844Z"
   },
   {
    "duration": 301,
    "start_time": "2024-02-14T10:24:27.856Z"
   },
   {
    "duration": 131,
    "start_time": "2024-02-14T10:24:28.158Z"
   },
   {
    "duration": 135,
    "start_time": "2024-02-14T10:24:28.291Z"
   },
   {
    "duration": 92,
    "start_time": "2024-02-14T10:24:28.429Z"
   },
   {
    "duration": 126,
    "start_time": "2024-02-14T10:24:28.522Z"
   },
   {
    "duration": 130,
    "start_time": "2024-02-14T10:24:28.649Z"
   },
   {
    "duration": 115,
    "start_time": "2024-02-14T10:24:28.780Z"
   },
   {
    "duration": 61,
    "start_time": "2024-02-14T10:24:28.897Z"
   },
   {
    "duration": 145,
    "start_time": "2024-02-14T10:24:28.960Z"
   },
   {
    "duration": 8,
    "start_time": "2024-02-14T10:24:29.107Z"
   },
   {
    "duration": 42,
    "start_time": "2024-02-14T10:24:29.116Z"
   },
   {
    "duration": 12,
    "start_time": "2024-02-14T10:24:29.159Z"
   },
   {
    "duration": 14,
    "start_time": "2024-02-14T10:24:29.172Z"
   },
   {
    "duration": 23,
    "start_time": "2024-02-14T10:24:29.187Z"
   },
   {
    "duration": 89,
    "start_time": "2024-02-14T10:24:29.212Z"
   },
   {
    "duration": 18,
    "start_time": "2024-02-14T10:24:29.302Z"
   },
   {
    "duration": 17,
    "start_time": "2024-02-14T10:24:29.321Z"
   },
   {
    "duration": 1539,
    "start_time": "2024-02-14T10:24:29.340Z"
   },
   {
    "duration": 21,
    "start_time": "2024-02-14T10:24:46.718Z"
   },
   {
    "duration": 21,
    "start_time": "2024-02-14T10:29:27.397Z"
   },
   {
    "duration": 1176,
    "start_time": "2024-02-14T10:40:25.665Z"
   },
   {
    "duration": 957,
    "start_time": "2024-02-14T10:40:26.842Z"
   },
   {
    "duration": 484,
    "start_time": "2024-02-14T10:40:27.801Z"
   },
   {
    "duration": 6,
    "start_time": "2024-02-14T10:40:28.287Z"
   },
   {
    "duration": 142,
    "start_time": "2024-02-14T10:40:28.294Z"
   },
   {
    "duration": 3,
    "start_time": "2024-02-14T10:40:28.437Z"
   },
   {
    "duration": 279,
    "start_time": "2024-02-14T10:40:28.444Z"
   },
   {
    "duration": 120,
    "start_time": "2024-02-14T10:40:28.725Z"
   },
   {
    "duration": 86,
    "start_time": "2024-02-14T10:40:28.847Z"
   },
   {
    "duration": 97,
    "start_time": "2024-02-14T10:40:28.935Z"
   },
   {
    "duration": 70,
    "start_time": "2024-02-14T10:40:29.034Z"
   },
   {
    "duration": 122,
    "start_time": "2024-02-14T10:40:29.106Z"
   },
   {
    "duration": 104,
    "start_time": "2024-02-14T10:40:29.230Z"
   },
   {
    "duration": 51,
    "start_time": "2024-02-14T10:40:29.336Z"
   },
   {
    "duration": 117,
    "start_time": "2024-02-14T10:40:29.389Z"
   },
   {
    "duration": 7,
    "start_time": "2024-02-14T10:40:29.508Z"
   },
   {
    "duration": 55,
    "start_time": "2024-02-14T10:40:29.517Z"
   },
   {
    "duration": 9,
    "start_time": "2024-02-14T10:40:29.573Z"
   },
   {
    "duration": 12,
    "start_time": "2024-02-14T10:40:29.583Z"
   },
   {
    "duration": 45,
    "start_time": "2024-02-14T10:40:29.596Z"
   },
   {
    "duration": 81,
    "start_time": "2024-02-14T10:40:29.642Z"
   },
   {
    "duration": 17,
    "start_time": "2024-02-14T10:40:29.724Z"
   },
   {
    "duration": 34,
    "start_time": "2024-02-14T10:40:29.743Z"
   },
   {
    "duration": 98,
    "start_time": "2024-02-14T10:40:29.778Z"
   },
   {
    "duration": 0,
    "start_time": "2024-02-14T10:40:29.878Z"
   },
   {
    "duration": 0,
    "start_time": "2024-02-14T10:40:29.879Z"
   },
   {
    "duration": 0,
    "start_time": "2024-02-14T10:40:29.880Z"
   },
   {
    "duration": 0,
    "start_time": "2024-02-14T10:40:29.881Z"
   },
   {
    "duration": 0,
    "start_time": "2024-02-14T10:40:29.882Z"
   },
   {
    "duration": 0,
    "start_time": "2024-02-14T10:40:29.883Z"
   },
   {
    "duration": 0,
    "start_time": "2024-02-14T10:40:29.884Z"
   },
   {
    "duration": 0,
    "start_time": "2024-02-14T10:40:29.885Z"
   },
   {
    "duration": 0,
    "start_time": "2024-02-14T10:40:29.886Z"
   },
   {
    "duration": 0,
    "start_time": "2024-02-14T10:40:29.887Z"
   },
   {
    "duration": 0,
    "start_time": "2024-02-14T10:40:29.888Z"
   },
   {
    "duration": 1223,
    "start_time": "2024-02-14T10:41:49.425Z"
   },
   {
    "duration": 971,
    "start_time": "2024-02-14T10:41:50.650Z"
   },
   {
    "duration": 495,
    "start_time": "2024-02-14T10:41:51.622Z"
   },
   {
    "duration": 6,
    "start_time": "2024-02-14T10:41:52.119Z"
   },
   {
    "duration": 152,
    "start_time": "2024-02-14T10:41:52.126Z"
   },
   {
    "duration": 3,
    "start_time": "2024-02-14T10:41:52.279Z"
   },
   {
    "duration": 315,
    "start_time": "2024-02-14T10:41:52.283Z"
   },
   {
    "duration": 113,
    "start_time": "2024-02-14T10:41:52.599Z"
   },
   {
    "duration": 97,
    "start_time": "2024-02-14T10:41:52.714Z"
   },
   {
    "duration": 92,
    "start_time": "2024-02-14T10:41:52.813Z"
   },
   {
    "duration": 65,
    "start_time": "2024-02-14T10:41:52.907Z"
   },
   {
    "duration": 132,
    "start_time": "2024-02-14T10:41:52.974Z"
   },
   {
    "duration": 115,
    "start_time": "2024-02-14T10:41:53.107Z"
   },
   {
    "duration": 54,
    "start_time": "2024-02-14T10:41:53.223Z"
   },
   {
    "duration": 94,
    "start_time": "2024-02-14T10:41:53.278Z"
   },
   {
    "duration": 14,
    "start_time": "2024-02-14T10:41:53.374Z"
   },
   {
    "duration": 34,
    "start_time": "2024-02-14T10:41:53.389Z"
   },
   {
    "duration": 27,
    "start_time": "2024-02-14T10:41:53.424Z"
   },
   {
    "duration": 3,
    "start_time": "2024-02-14T10:41:53.453Z"
   },
   {
    "duration": 36,
    "start_time": "2024-02-14T10:41:53.458Z"
   },
   {
    "duration": 79,
    "start_time": "2024-02-14T10:41:53.496Z"
   },
   {
    "duration": 18,
    "start_time": "2024-02-14T10:41:53.576Z"
   },
   {
    "duration": 12,
    "start_time": "2024-02-14T10:41:53.595Z"
   },
   {
    "duration": 1530,
    "start_time": "2024-02-14T10:41:53.608Z"
   },
   {
    "duration": 25,
    "start_time": "2024-02-14T10:41:55.140Z"
   },
   {
    "duration": 118,
    "start_time": "2024-02-14T10:41:55.167Z"
   },
   {
    "duration": 0,
    "start_time": "2024-02-14T10:41:55.286Z"
   },
   {
    "duration": 0,
    "start_time": "2024-02-14T10:41:55.287Z"
   },
   {
    "duration": 0,
    "start_time": "2024-02-14T10:41:55.288Z"
   },
   {
    "duration": 0,
    "start_time": "2024-02-14T10:41:55.289Z"
   },
   {
    "duration": 0,
    "start_time": "2024-02-14T10:41:55.290Z"
   },
   {
    "duration": 0,
    "start_time": "2024-02-14T10:41:55.291Z"
   },
   {
    "duration": 0,
    "start_time": "2024-02-14T10:41:55.292Z"
   },
   {
    "duration": 0,
    "start_time": "2024-02-14T10:41:55.293Z"
   },
   {
    "duration": 0,
    "start_time": "2024-02-14T10:41:55.294Z"
   },
   {
    "duration": 1145,
    "start_time": "2024-02-14T10:43:33.676Z"
   },
   {
    "duration": 969,
    "start_time": "2024-02-14T10:43:34.823Z"
   },
   {
    "duration": 488,
    "start_time": "2024-02-14T10:43:35.793Z"
   },
   {
    "duration": 5,
    "start_time": "2024-02-14T10:43:36.283Z"
   },
   {
    "duration": 143,
    "start_time": "2024-02-14T10:43:36.289Z"
   },
   {
    "duration": 2,
    "start_time": "2024-02-14T10:43:36.434Z"
   },
   {
    "duration": 290,
    "start_time": "2024-02-14T10:43:36.444Z"
   },
   {
    "duration": 124,
    "start_time": "2024-02-14T10:43:36.736Z"
   },
   {
    "duration": 97,
    "start_time": "2024-02-14T10:43:36.861Z"
   },
   {
    "duration": 92,
    "start_time": "2024-02-14T10:43:36.960Z"
   },
   {
    "duration": 51,
    "start_time": "2024-02-14T10:43:37.054Z"
   },
   {
    "duration": 152,
    "start_time": "2024-02-14T10:43:37.107Z"
   },
   {
    "duration": 105,
    "start_time": "2024-02-14T10:43:37.261Z"
   },
   {
    "duration": 51,
    "start_time": "2024-02-14T10:43:37.367Z"
   },
   {
    "duration": 108,
    "start_time": "2024-02-14T10:43:37.419Z"
   },
   {
    "duration": 20,
    "start_time": "2024-02-14T10:43:37.529Z"
   },
   {
    "duration": 30,
    "start_time": "2024-02-14T10:43:37.550Z"
   },
   {
    "duration": 11,
    "start_time": "2024-02-14T10:43:37.582Z"
   },
   {
    "duration": 12,
    "start_time": "2024-02-14T10:43:37.594Z"
   },
   {
    "duration": 23,
    "start_time": "2024-02-14T10:43:37.607Z"
   },
   {
    "duration": 89,
    "start_time": "2024-02-14T10:43:37.632Z"
   },
   {
    "duration": 31,
    "start_time": "2024-02-14T10:43:37.723Z"
   },
   {
    "duration": 7,
    "start_time": "2024-02-14T10:43:37.756Z"
   },
   {
    "duration": 1483,
    "start_time": "2024-02-14T10:43:37.764Z"
   },
   {
    "duration": 22,
    "start_time": "2024-02-14T10:43:39.249Z"
   },
   {
    "duration": 531,
    "start_time": "2024-02-14T10:43:39.272Z"
   },
   {
    "duration": 106,
    "start_time": "2024-02-14T10:43:39.805Z"
   },
   {
    "duration": 0,
    "start_time": "2024-02-14T10:43:39.912Z"
   },
   {
    "duration": 0,
    "start_time": "2024-02-14T10:43:39.913Z"
   },
   {
    "duration": 0,
    "start_time": "2024-02-14T10:43:39.915Z"
   },
   {
    "duration": 0,
    "start_time": "2024-02-14T10:43:39.916Z"
   },
   {
    "duration": 0,
    "start_time": "2024-02-14T10:43:39.917Z"
   },
   {
    "duration": 0,
    "start_time": "2024-02-14T10:43:39.918Z"
   },
   {
    "duration": 0,
    "start_time": "2024-02-14T10:43:39.919Z"
   },
   {
    "duration": 0,
    "start_time": "2024-02-14T10:43:39.920Z"
   },
   {
    "duration": 8,
    "start_time": "2024-02-14T10:44:37.287Z"
   },
   {
    "duration": 6,
    "start_time": "2024-02-14T10:45:38.375Z"
   },
   {
    "duration": 1170,
    "start_time": "2024-02-14T10:46:10.759Z"
   },
   {
    "duration": 943,
    "start_time": "2024-02-14T10:46:11.931Z"
   },
   {
    "duration": 480,
    "start_time": "2024-02-14T10:46:12.875Z"
   },
   {
    "duration": 5,
    "start_time": "2024-02-14T10:46:13.357Z"
   },
   {
    "duration": 147,
    "start_time": "2024-02-14T10:46:13.364Z"
   },
   {
    "duration": 3,
    "start_time": "2024-02-14T10:46:13.512Z"
   },
   {
    "duration": 275,
    "start_time": "2024-02-14T10:46:13.516Z"
   },
   {
    "duration": 115,
    "start_time": "2024-02-14T10:46:13.793Z"
   },
   {
    "duration": 98,
    "start_time": "2024-02-14T10:46:13.910Z"
   },
   {
    "duration": 94,
    "start_time": "2024-02-14T10:46:14.009Z"
   },
   {
    "duration": 61,
    "start_time": "2024-02-14T10:46:14.104Z"
   },
   {
    "duration": 133,
    "start_time": "2024-02-14T10:46:14.166Z"
   },
   {
    "duration": 122,
    "start_time": "2024-02-14T10:46:14.301Z"
   },
   {
    "duration": 53,
    "start_time": "2024-02-14T10:46:14.429Z"
   },
   {
    "duration": 90,
    "start_time": "2024-02-14T10:46:14.483Z"
   },
   {
    "duration": 31,
    "start_time": "2024-02-14T10:46:14.575Z"
   },
   {
    "duration": 35,
    "start_time": "2024-02-14T10:46:14.608Z"
   },
   {
    "duration": 8,
    "start_time": "2024-02-14T10:46:14.645Z"
   },
   {
    "duration": 5,
    "start_time": "2024-02-14T10:46:14.654Z"
   },
   {
    "duration": 46,
    "start_time": "2024-02-14T10:46:14.660Z"
   },
   {
    "duration": 85,
    "start_time": "2024-02-14T10:46:14.708Z"
   },
   {
    "duration": 17,
    "start_time": "2024-02-14T10:46:14.795Z"
   },
   {
    "duration": 42,
    "start_time": "2024-02-14T10:46:14.814Z"
   },
   {
    "duration": 1486,
    "start_time": "2024-02-14T10:46:14.857Z"
   },
   {
    "duration": 23,
    "start_time": "2024-02-14T10:46:16.345Z"
   },
   {
    "duration": 536,
    "start_time": "2024-02-14T10:46:48.968Z"
   },
   {
    "duration": 6,
    "start_time": "2024-02-14T10:46:53.785Z"
   },
   {
    "duration": 3,
    "start_time": "2024-02-14T10:46:58.047Z"
   },
   {
    "duration": 2,
    "start_time": "2024-02-14T10:46:58.432Z"
   },
   {
    "duration": 3,
    "start_time": "2024-02-14T10:46:58.839Z"
   },
   {
    "duration": 2,
    "start_time": "2024-02-14T10:47:02.199Z"
   },
   {
    "duration": 2,
    "start_time": "2024-02-14T10:47:03.328Z"
   },
   {
    "duration": 3,
    "start_time": "2024-02-14T10:47:03.875Z"
   },
   {
    "duration": 188,
    "start_time": "2024-02-14T10:47:04.649Z"
   },
   {
    "duration": 97242,
    "start_time": "2024-02-14T10:47:14.810Z"
   },
   {
    "duration": 105636,
    "start_time": "2024-02-14T10:50:39.411Z"
   },
   {
    "duration": 4,
    "start_time": "2024-02-14T10:53:26.669Z"
   },
   {
    "duration": 1483,
    "start_time": "2024-02-14T15:44:41.866Z"
   },
   {
    "duration": 1214,
    "start_time": "2024-02-14T15:44:43.351Z"
   },
   {
    "duration": 464,
    "start_time": "2024-02-14T15:44:44.567Z"
   },
   {
    "duration": 6,
    "start_time": "2024-02-14T15:44:45.033Z"
   },
   {
    "duration": 142,
    "start_time": "2024-02-14T15:44:45.040Z"
   },
   {
    "duration": 3,
    "start_time": "2024-02-14T15:44:45.183Z"
   },
   {
    "duration": 298,
    "start_time": "2024-02-14T15:44:45.187Z"
   },
   {
    "duration": 142,
    "start_time": "2024-02-14T15:44:45.487Z"
   },
   {
    "duration": 116,
    "start_time": "2024-02-14T15:44:45.630Z"
   },
   {
    "duration": 90,
    "start_time": "2024-02-14T15:44:45.956Z"
   },
   {
    "duration": 53,
    "start_time": "2024-02-14T15:44:46.181Z"
   },
   {
    "duration": 134,
    "start_time": "2024-02-14T15:44:46.892Z"
   },
   {
    "duration": 125,
    "start_time": "2024-02-14T15:44:49.332Z"
   },
   {
    "duration": 50,
    "start_time": "2024-02-14T15:44:50.295Z"
   },
   {
    "duration": 94,
    "start_time": "2024-02-14T15:44:50.522Z"
   },
   {
    "duration": 8,
    "start_time": "2024-02-14T15:44:51.740Z"
   },
   {
    "duration": 31,
    "start_time": "2024-02-14T15:44:52.154Z"
   },
   {
    "duration": 8,
    "start_time": "2024-02-14T15:44:52.610Z"
   },
   {
    "duration": 5,
    "start_time": "2024-02-14T15:44:52.918Z"
   },
   {
    "duration": 20,
    "start_time": "2024-02-14T15:44:54.614Z"
   },
   {
    "duration": 74,
    "start_time": "2024-02-14T15:44:55.062Z"
   },
   {
    "duration": 19,
    "start_time": "2024-02-14T15:44:56.102Z"
   },
   {
    "duration": 6,
    "start_time": "2024-02-14T15:44:56.451Z"
   },
   {
    "duration": 121,
    "start_time": "2024-02-14T15:44:57.119Z"
   },
   {
    "duration": 7,
    "start_time": "2024-02-14T15:45:12.877Z"
   },
   {
    "duration": 24,
    "start_time": "2024-02-14T15:45:28.498Z"
   },
   {
    "duration": 6445,
    "start_time": "2024-02-14T15:47:23.070Z"
   },
   {
    "duration": 7,
    "start_time": "2024-02-14T15:47:30.515Z"
   },
   {
    "duration": 965,
    "start_time": "2024-02-14T15:47:32.653Z"
   },
   {
    "duration": 446,
    "start_time": "2024-02-14T15:47:33.619Z"
   },
   {
    "duration": 6,
    "start_time": "2024-02-14T15:47:34.066Z"
   },
   {
    "duration": 146,
    "start_time": "2024-02-14T15:47:34.073Z"
   },
   {
    "duration": 3,
    "start_time": "2024-02-14T15:47:34.220Z"
   },
   {
    "duration": 288,
    "start_time": "2024-02-14T15:47:34.225Z"
   },
   {
    "duration": 112,
    "start_time": "2024-02-14T15:47:34.522Z"
   },
   {
    "duration": 87,
    "start_time": "2024-02-14T15:47:34.856Z"
   },
   {
    "duration": 90,
    "start_time": "2024-02-14T15:47:35.351Z"
   },
   {
    "duration": 54,
    "start_time": "2024-02-14T15:47:35.542Z"
   },
   {
    "duration": 127,
    "start_time": "2024-02-14T15:47:35.721Z"
   },
   {
    "duration": 105,
    "start_time": "2024-02-14T15:47:37.092Z"
   },
   {
    "duration": 52,
    "start_time": "2024-02-14T15:47:37.760Z"
   },
   {
    "duration": 90,
    "start_time": "2024-02-14T15:47:38.162Z"
   },
   {
    "duration": 9,
    "start_time": "2024-02-14T15:47:39.924Z"
   },
   {
    "duration": 27,
    "start_time": "2024-02-14T15:47:40.878Z"
   },
   {
    "duration": 9,
    "start_time": "2024-02-14T15:47:41.075Z"
   },
   {
    "duration": 4,
    "start_time": "2024-02-14T15:47:41.240Z"
   },
   {
    "duration": 17,
    "start_time": "2024-02-14T15:47:41.909Z"
   },
   {
    "duration": 70,
    "start_time": "2024-02-14T15:47:42.124Z"
   },
   {
    "duration": 17,
    "start_time": "2024-02-14T15:47:42.649Z"
   },
   {
    "duration": 6,
    "start_time": "2024-02-14T15:47:42.679Z"
   },
   {
    "duration": 23,
    "start_time": "2024-02-14T15:47:43.123Z"
   },
   {
    "duration": 2266,
    "start_time": "2024-02-14T15:47:59.400Z"
   },
   {
    "duration": 1194,
    "start_time": "2024-02-14T15:48:01.668Z"
   },
   {
    "duration": 980,
    "start_time": "2024-02-14T15:48:02.863Z"
   },
   {
    "duration": 478,
    "start_time": "2024-02-14T15:48:03.845Z"
   },
   {
    "duration": 7,
    "start_time": "2024-02-14T15:48:04.324Z"
   },
   {
    "duration": 151,
    "start_time": "2024-02-14T15:48:04.333Z"
   },
   {
    "duration": 2,
    "start_time": "2024-02-14T15:48:04.486Z"
   },
   {
    "duration": 312,
    "start_time": "2024-02-14T15:48:04.489Z"
   },
   {
    "duration": 130,
    "start_time": "2024-02-14T15:48:04.803Z"
   },
   {
    "duration": 100,
    "start_time": "2024-02-14T15:48:04.936Z"
   },
   {
    "duration": 97,
    "start_time": "2024-02-14T15:48:05.037Z"
   },
   {
    "duration": 73,
    "start_time": "2024-02-14T15:48:05.136Z"
   },
   {
    "duration": 137,
    "start_time": "2024-02-14T15:48:05.211Z"
   },
   {
    "duration": 118,
    "start_time": "2024-02-14T15:48:05.349Z"
   },
   {
    "duration": 51,
    "start_time": "2024-02-14T15:48:05.469Z"
   },
   {
    "duration": 101,
    "start_time": "2024-02-14T15:48:05.521Z"
   },
   {
    "duration": 20,
    "start_time": "2024-02-14T15:48:05.624Z"
   },
   {
    "duration": 46,
    "start_time": "2024-02-14T15:48:05.645Z"
   },
   {
    "duration": 11,
    "start_time": "2024-02-14T15:48:05.692Z"
   },
   {
    "duration": 3,
    "start_time": "2024-02-14T15:48:05.705Z"
   },
   {
    "duration": 21,
    "start_time": "2024-02-14T15:48:05.709Z"
   },
   {
    "duration": 108,
    "start_time": "2024-02-14T15:48:05.731Z"
   },
   {
    "duration": 27,
    "start_time": "2024-02-14T15:48:05.841Z"
   },
   {
    "duration": 7,
    "start_time": "2024-02-14T15:48:05.869Z"
   },
   {
    "duration": 1570,
    "start_time": "2024-02-14T15:48:05.877Z"
   },
   {
    "duration": 23,
    "start_time": "2024-02-14T15:48:07.448Z"
   },
   {
    "duration": 552,
    "start_time": "2024-02-14T15:48:07.472Z"
   },
   {
    "duration": 4,
    "start_time": "2024-02-14T15:48:08.028Z"
   },
   {
    "duration": 4,
    "start_time": "2024-02-14T15:48:08.033Z"
   },
   {
    "duration": 3,
    "start_time": "2024-02-14T15:48:08.039Z"
   },
   {
    "duration": 4,
    "start_time": "2024-02-14T15:48:08.044Z"
   },
   {
    "duration": 15,
    "start_time": "2024-02-14T15:48:08.050Z"
   },
   {
    "duration": 20,
    "start_time": "2024-02-14T15:48:08.066Z"
   },
   {
    "duration": 6,
    "start_time": "2024-02-14T15:48:08.087Z"
   },
   {
    "duration": 1097,
    "start_time": "2024-02-14T15:49:45.774Z"
   },
   {
    "duration": 321,
    "start_time": "2024-02-14T15:49:46.873Z"
   },
   {
    "duration": 70,
    "start_time": "2024-02-14T15:49:47.196Z"
   },
   {
    "duration": 77,
    "start_time": "2024-02-14T15:49:47.268Z"
   },
   {
    "duration": 8,
    "start_time": "2024-02-14T15:49:47.347Z"
   },
   {
    "duration": 0,
    "start_time": "2024-02-14T15:49:47.357Z"
   },
   {
    "duration": 0,
    "start_time": "2024-02-14T15:49:47.358Z"
   },
   {
    "duration": 0,
    "start_time": "2024-02-14T15:49:47.359Z"
   },
   {
    "duration": 0,
    "start_time": "2024-02-14T15:49:47.360Z"
   },
   {
    "duration": 0,
    "start_time": "2024-02-14T15:49:47.361Z"
   },
   {
    "duration": 0,
    "start_time": "2024-02-14T15:49:47.362Z"
   },
   {
    "duration": 0,
    "start_time": "2024-02-14T15:49:47.363Z"
   },
   {
    "duration": 0,
    "start_time": "2024-02-14T15:49:47.364Z"
   },
   {
    "duration": 0,
    "start_time": "2024-02-14T15:49:47.365Z"
   },
   {
    "duration": 0,
    "start_time": "2024-02-14T15:49:47.366Z"
   },
   {
    "duration": 0,
    "start_time": "2024-02-14T15:49:47.367Z"
   },
   {
    "duration": 0,
    "start_time": "2024-02-14T15:49:47.368Z"
   },
   {
    "duration": 0,
    "start_time": "2024-02-14T15:49:47.369Z"
   },
   {
    "duration": 1,
    "start_time": "2024-02-14T15:49:47.370Z"
   },
   {
    "duration": 2259,
    "start_time": "2024-02-14T18:22:15.371Z"
   },
   {
    "duration": 5,
    "start_time": "2024-02-14T18:22:17.632Z"
   },
   {
    "duration": 4,
    "start_time": "2024-02-14T18:22:20.585Z"
   },
   {
    "duration": 1008,
    "start_time": "2024-02-14T18:22:21.297Z"
   },
   {
    "duration": 459,
    "start_time": "2024-02-14T18:22:22.307Z"
   },
   {
    "duration": 6,
    "start_time": "2024-02-14T18:22:22.768Z"
   },
   {
    "duration": 138,
    "start_time": "2024-02-14T18:22:22.775Z"
   },
   {
    "duration": 3,
    "start_time": "2024-02-14T18:22:22.914Z"
   },
   {
    "duration": 293,
    "start_time": "2024-02-14T18:22:22.918Z"
   },
   {
    "duration": 132,
    "start_time": "2024-02-14T18:22:23.213Z"
   },
   {
    "duration": 93,
    "start_time": "2024-02-14T18:22:23.346Z"
   },
   {
    "duration": 89,
    "start_time": "2024-02-14T18:22:23.469Z"
   },
   {
    "duration": 57,
    "start_time": "2024-02-14T18:22:23.621Z"
   },
   {
    "duration": 116,
    "start_time": "2024-02-14T18:22:23.786Z"
   },
   {
    "duration": 104,
    "start_time": "2024-02-14T18:22:24.845Z"
   },
   {
    "duration": 50,
    "start_time": "2024-02-14T18:22:25.225Z"
   },
   {
    "duration": 90,
    "start_time": "2024-02-14T18:22:25.421Z"
   },
   {
    "duration": 8,
    "start_time": "2024-02-14T18:22:26.479Z"
   },
   {
    "duration": 28,
    "start_time": "2024-02-14T18:22:26.820Z"
   },
   {
    "duration": 8,
    "start_time": "2024-02-14T18:22:27.022Z"
   },
   {
    "duration": 4,
    "start_time": "2024-02-14T18:22:27.254Z"
   },
   {
    "duration": 19,
    "start_time": "2024-02-14T18:22:27.692Z"
   },
   {
    "duration": 68,
    "start_time": "2024-02-14T18:22:28.130Z"
   },
   {
    "duration": 16,
    "start_time": "2024-02-14T18:22:28.688Z"
   },
   {
    "duration": 6,
    "start_time": "2024-02-14T18:22:29.068Z"
   },
   {
    "duration": 1605,
    "start_time": "2024-02-14T18:22:29.461Z"
   },
   {
    "duration": 23,
    "start_time": "2024-02-14T18:22:31.067Z"
   },
   {
    "duration": 550,
    "start_time": "2024-02-14T18:22:34.284Z"
   },
   {
    "duration": 5,
    "start_time": "2024-02-14T18:22:41.993Z"
   },
   {
    "duration": 84,
    "start_time": "2024-02-14T18:22:44.629Z"
   },
   {
    "duration": 1479,
    "start_time": "2024-02-14T18:23:07.998Z"
   },
   {
    "duration": 21,
    "start_time": "2024-02-14T18:23:09.479Z"
   },
   {
    "duration": 544,
    "start_time": "2024-02-14T18:23:11.464Z"
   },
   {
    "duration": 4,
    "start_time": "2024-02-14T18:23:13.067Z"
   },
   {
    "duration": 80,
    "start_time": "2024-02-14T18:23:14.455Z"
   },
   {
    "duration": 23496,
    "start_time": "2024-02-14T18:24:02.998Z"
   },
   {
    "duration": 175,
    "start_time": "2024-02-14T18:24:26.497Z"
   },
   {
    "duration": 98909,
    "start_time": "2024-02-14T18:24:26.766Z"
   },
   {
    "duration": 90,
    "start_time": "2024-02-14T18:26:05.677Z"
   },
   {
    "duration": 8,
    "start_time": "2024-02-14T18:26:05.769Z"
   },
   {
    "duration": 3,
    "start_time": "2024-02-14T18:26:05.778Z"
   },
   {
    "duration": 98882,
    "start_time": "2024-02-14T18:26:05.783Z"
   },
   {
    "duration": 3,
    "start_time": "2024-02-14T18:27:44.667Z"
   },
   {
    "duration": 98,
    "start_time": "2024-02-14T18:27:44.671Z"
   },
   {
    "duration": 79,
    "start_time": "2024-02-14T18:27:44.772Z"
   },
   {
    "duration": 79,
    "start_time": "2024-02-14T18:27:44.852Z"
   },
   {
    "duration": 24,
    "start_time": "2024-02-14T18:27:44.933Z"
   },
   {
    "duration": 0,
    "start_time": "2024-02-14T18:27:44.958Z"
   },
   {
    "duration": 0,
    "start_time": "2024-02-14T18:27:44.960Z"
   },
   {
    "duration": 0,
    "start_time": "2024-02-14T18:27:44.961Z"
   },
   {
    "duration": 0,
    "start_time": "2024-02-14T18:27:44.962Z"
   },
   {
    "duration": 0,
    "start_time": "2024-02-14T18:27:44.963Z"
   },
   {
    "duration": 0,
    "start_time": "2024-02-14T18:27:44.964Z"
   },
   {
    "duration": 0,
    "start_time": "2024-02-14T18:27:44.964Z"
   },
   {
    "duration": 0,
    "start_time": "2024-02-14T18:27:44.965Z"
   },
   {
    "duration": 0,
    "start_time": "2024-02-14T18:27:44.967Z"
   },
   {
    "duration": 0,
    "start_time": "2024-02-14T18:27:44.967Z"
   },
   {
    "duration": 0,
    "start_time": "2024-02-14T18:27:44.968Z"
   },
   {
    "duration": 0,
    "start_time": "2024-02-14T18:27:44.969Z"
   },
   {
    "duration": 1633,
    "start_time": "2024-02-14T18:36:15.010Z"
   },
   {
    "duration": 1110,
    "start_time": "2024-02-14T18:36:16.644Z"
   },
   {
    "duration": 500,
    "start_time": "2024-02-14T18:36:17.756Z"
   },
   {
    "duration": 9,
    "start_time": "2024-02-14T18:36:18.259Z"
   },
   {
    "duration": 147,
    "start_time": "2024-02-14T18:36:18.269Z"
   },
   {
    "duration": 3,
    "start_time": "2024-02-14T18:36:18.418Z"
   },
   {
    "duration": 315,
    "start_time": "2024-02-14T18:36:18.422Z"
   },
   {
    "duration": 133,
    "start_time": "2024-02-14T18:36:18.739Z"
   },
   {
    "duration": 131,
    "start_time": "2024-02-14T18:36:18.874Z"
   },
   {
    "duration": 96,
    "start_time": "2024-02-14T18:36:19.007Z"
   },
   {
    "duration": 68,
    "start_time": "2024-02-14T18:36:19.104Z"
   },
   {
    "duration": 137,
    "start_time": "2024-02-14T18:36:19.173Z"
   },
   {
    "duration": 126,
    "start_time": "2024-02-14T18:36:19.311Z"
   },
   {
    "duration": 59,
    "start_time": "2024-02-14T18:36:19.439Z"
   },
   {
    "duration": 101,
    "start_time": "2024-02-14T18:36:19.500Z"
   },
   {
    "duration": 9,
    "start_time": "2024-02-14T18:36:19.602Z"
   },
   {
    "duration": 31,
    "start_time": "2024-02-14T18:36:19.612Z"
   },
   {
    "duration": 30,
    "start_time": "2024-02-14T18:36:19.645Z"
   },
   {
    "duration": 3,
    "start_time": "2024-02-14T18:36:19.677Z"
   },
   {
    "duration": 21,
    "start_time": "2024-02-14T18:36:19.681Z"
   },
   {
    "duration": 103,
    "start_time": "2024-02-14T18:36:19.704Z"
   },
   {
    "duration": 18,
    "start_time": "2024-02-14T18:36:19.808Z"
   },
   {
    "duration": 6,
    "start_time": "2024-02-14T18:36:19.828Z"
   },
   {
    "duration": 1557,
    "start_time": "2024-02-14T18:36:19.835Z"
   },
   {
    "duration": 22,
    "start_time": "2024-02-14T18:36:21.394Z"
   },
   {
    "duration": 566,
    "start_time": "2024-02-14T18:36:21.417Z"
   },
   {
    "duration": 9,
    "start_time": "2024-02-14T18:36:21.985Z"
   },
   {
    "duration": 25596,
    "start_time": "2024-02-14T18:36:21.998Z"
   },
   {
    "duration": 270,
    "start_time": "2024-02-14T18:36:47.596Z"
   },
   {
    "duration": 97,
    "start_time": "2024-02-14T18:36:47.868Z"
   },
   {
    "duration": 0,
    "start_time": "2024-02-14T18:36:47.967Z"
   },
   {
    "duration": 0,
    "start_time": "2024-02-14T18:36:47.969Z"
   },
   {
    "duration": 0,
    "start_time": "2024-02-14T18:36:47.970Z"
   },
   {
    "duration": 0,
    "start_time": "2024-02-14T18:36:47.972Z"
   },
   {
    "duration": 0,
    "start_time": "2024-02-14T18:36:47.973Z"
   },
   {
    "duration": 0,
    "start_time": "2024-02-14T18:36:47.974Z"
   },
   {
    "duration": 0,
    "start_time": "2024-02-14T18:36:47.975Z"
   },
   {
    "duration": 0,
    "start_time": "2024-02-14T18:36:47.976Z"
   },
   {
    "duration": 0,
    "start_time": "2024-02-14T18:36:47.977Z"
   },
   {
    "duration": 0,
    "start_time": "2024-02-14T18:36:47.978Z"
   },
   {
    "duration": 0,
    "start_time": "2024-02-14T18:36:47.979Z"
   },
   {
    "duration": 0,
    "start_time": "2024-02-14T18:36:47.980Z"
   },
   {
    "duration": 0,
    "start_time": "2024-02-14T18:36:47.981Z"
   },
   {
    "duration": 0,
    "start_time": "2024-02-14T18:36:47.982Z"
   },
   {
    "duration": 0,
    "start_time": "2024-02-14T18:36:47.983Z"
   },
   {
    "duration": 0,
    "start_time": "2024-02-14T18:36:47.984Z"
   },
   {
    "duration": 0,
    "start_time": "2024-02-14T18:36:47.985Z"
   },
   {
    "duration": 0,
    "start_time": "2024-02-14T18:36:47.986Z"
   },
   {
    "duration": 0,
    "start_time": "2024-02-14T18:36:47.987Z"
   },
   {
    "duration": 0,
    "start_time": "2024-02-14T18:36:47.988Z"
   },
   {
    "duration": 0,
    "start_time": "2024-02-14T18:36:47.989Z"
   },
   {
    "duration": 0,
    "start_time": "2024-02-14T18:36:47.990Z"
   },
   {
    "duration": 49063,
    "start_time": "2024-02-14T18:37:50.404Z"
   },
   {
    "duration": 3,
    "start_time": "2024-02-14T18:38:39.469Z"
   },
   {
    "duration": 4,
    "start_time": "2024-02-14T18:38:39.474Z"
   },
   {
    "duration": 84,
    "start_time": "2024-02-14T18:38:39.481Z"
   },
   {
    "duration": 101108,
    "start_time": "2024-02-14T18:38:39.567Z"
   },
   {
    "duration": 89,
    "start_time": "2024-02-14T18:40:20.677Z"
   },
   {
    "duration": 436858,
    "start_time": "2024-02-14T18:40:20.767Z"
   },
   {
    "duration": 32747,
    "start_time": "2024-02-14T18:47:37.627Z"
   },
   {
    "duration": 173,
    "start_time": "2024-02-14T18:48:10.375Z"
   },
   {
    "duration": 12,
    "start_time": "2024-02-14T18:48:10.550Z"
   },
   {
    "duration": 0,
    "start_time": "2024-02-14T18:48:10.564Z"
   },
   {
    "duration": 0,
    "start_time": "2024-02-14T18:48:10.565Z"
   },
   {
    "duration": 0,
    "start_time": "2024-02-14T18:48:10.566Z"
   },
   {
    "duration": 0,
    "start_time": "2024-02-14T18:48:10.567Z"
   },
   {
    "duration": 0,
    "start_time": "2024-02-14T18:48:10.568Z"
   },
   {
    "duration": 0,
    "start_time": "2024-02-14T18:48:10.569Z"
   },
   {
    "duration": 0,
    "start_time": "2024-02-14T18:48:10.570Z"
   },
   {
    "duration": 0,
    "start_time": "2024-02-14T18:48:10.571Z"
   },
   {
    "duration": 0,
    "start_time": "2024-02-14T18:48:10.573Z"
   },
   {
    "duration": 0,
    "start_time": "2024-02-14T18:48:10.574Z"
   },
   {
    "duration": 0,
    "start_time": "2024-02-14T18:48:10.575Z"
   },
   {
    "duration": 0,
    "start_time": "2024-02-14T18:48:10.576Z"
   },
   {
    "duration": 2574,
    "start_time": "2024-02-14T18:48:37.326Z"
   },
   {
    "duration": 11,
    "start_time": "2024-02-14T18:48:39.901Z"
   },
   {
    "duration": 74,
    "start_time": "2024-02-14T18:49:05.905Z"
   },
   {
    "duration": 2764,
    "start_time": "2024-02-14T18:50:59.978Z"
   },
   {
    "duration": 1119,
    "start_time": "2024-02-14T18:51:42.672Z"
   },
   {
    "duration": 12,
    "start_time": "2024-02-14T18:51:48.005Z"
   },
   {
    "duration": 12,
    "start_time": "2024-02-14T18:53:09.075Z"
   },
   {
    "duration": 81,
    "start_time": "2024-02-14T18:53:17.542Z"
   },
   {
    "duration": 2507,
    "start_time": "2024-02-14T18:53:26.607Z"
   },
   {
    "duration": 634,
    "start_time": "2024-02-14T18:54:08.346Z"
   },
   {
    "duration": 166,
    "start_time": "2024-02-14T18:59:25.094Z"
   },
   {
    "duration": 1181,
    "start_time": "2024-02-14T18:59:38.706Z"
   },
   {
    "duration": 936,
    "start_time": "2024-02-14T18:59:39.888Z"
   },
   {
    "duration": 491,
    "start_time": "2024-02-14T18:59:40.825Z"
   },
   {
    "duration": 6,
    "start_time": "2024-02-14T18:59:41.318Z"
   },
   {
    "duration": 144,
    "start_time": "2024-02-14T18:59:41.325Z"
   },
   {
    "duration": 3,
    "start_time": "2024-02-14T18:59:41.470Z"
   },
   {
    "duration": 284,
    "start_time": "2024-02-14T18:59:41.474Z"
   },
   {
    "duration": 118,
    "start_time": "2024-02-14T18:59:41.765Z"
   },
   {
    "duration": 102,
    "start_time": "2024-02-14T18:59:41.884Z"
   },
   {
    "duration": 96,
    "start_time": "2024-02-14T18:59:41.988Z"
   },
   {
    "duration": 53,
    "start_time": "2024-02-14T18:59:42.085Z"
   },
   {
    "duration": 165,
    "start_time": "2024-02-14T18:59:42.139Z"
   },
   {
    "duration": 111,
    "start_time": "2024-02-14T18:59:42.306Z"
   },
   {
    "duration": 58,
    "start_time": "2024-02-14T18:59:42.418Z"
   },
   {
    "duration": 95,
    "start_time": "2024-02-14T18:59:42.477Z"
   },
   {
    "duration": 8,
    "start_time": "2024-02-14T18:59:42.574Z"
   },
   {
    "duration": 30,
    "start_time": "2024-02-14T18:59:42.583Z"
   },
   {
    "duration": 8,
    "start_time": "2024-02-14T18:59:42.615Z"
   },
   {
    "duration": 5,
    "start_time": "2024-02-14T18:59:42.624Z"
   },
   {
    "duration": 50,
    "start_time": "2024-02-14T18:59:42.631Z"
   },
   {
    "duration": 74,
    "start_time": "2024-02-14T18:59:42.683Z"
   },
   {
    "duration": 18,
    "start_time": "2024-02-14T18:59:42.765Z"
   },
   {
    "duration": 11,
    "start_time": "2024-02-14T18:59:42.785Z"
   },
   {
    "duration": 1521,
    "start_time": "2024-02-14T18:59:42.797Z"
   },
   {
    "duration": 23,
    "start_time": "2024-02-14T18:59:44.320Z"
   },
   {
    "duration": 337,
    "start_time": "2024-02-14T18:59:44.345Z"
   },
   {
    "duration": 0,
    "start_time": "2024-02-14T18:59:44.684Z"
   },
   {
    "duration": 0,
    "start_time": "2024-02-14T18:59:44.686Z"
   },
   {
    "duration": 0,
    "start_time": "2024-02-14T18:59:44.687Z"
   },
   {
    "duration": 0,
    "start_time": "2024-02-14T18:59:44.688Z"
   },
   {
    "duration": 0,
    "start_time": "2024-02-14T18:59:44.689Z"
   },
   {
    "duration": 0,
    "start_time": "2024-02-14T18:59:44.690Z"
   },
   {
    "duration": 0,
    "start_time": "2024-02-14T18:59:44.691Z"
   },
   {
    "duration": 0,
    "start_time": "2024-02-14T18:59:44.692Z"
   },
   {
    "duration": 0,
    "start_time": "2024-02-14T18:59:44.693Z"
   },
   {
    "duration": 0,
    "start_time": "2024-02-14T18:59:44.694Z"
   },
   {
    "duration": 0,
    "start_time": "2024-02-14T18:59:44.696Z"
   },
   {
    "duration": 0,
    "start_time": "2024-02-14T18:59:44.697Z"
   },
   {
    "duration": 0,
    "start_time": "2024-02-14T18:59:44.698Z"
   },
   {
    "duration": 0,
    "start_time": "2024-02-14T18:59:44.699Z"
   },
   {
    "duration": 0,
    "start_time": "2024-02-14T18:59:44.701Z"
   },
   {
    "duration": 0,
    "start_time": "2024-02-14T18:59:44.701Z"
   },
   {
    "duration": 0,
    "start_time": "2024-02-14T18:59:44.702Z"
   },
   {
    "duration": 0,
    "start_time": "2024-02-14T18:59:44.704Z"
   },
   {
    "duration": 0,
    "start_time": "2024-02-14T18:59:44.705Z"
   },
   {
    "duration": 0,
    "start_time": "2024-02-14T18:59:44.706Z"
   },
   {
    "duration": 1,
    "start_time": "2024-02-14T18:59:44.707Z"
   },
   {
    "duration": 0,
    "start_time": "2024-02-14T18:59:44.709Z"
   },
   {
    "duration": 0,
    "start_time": "2024-02-14T18:59:44.710Z"
   },
   {
    "duration": 0,
    "start_time": "2024-02-14T18:59:44.712Z"
   },
   {
    "duration": 0,
    "start_time": "2024-02-14T18:59:44.713Z"
   },
   {
    "duration": 0,
    "start_time": "2024-02-14T18:59:44.714Z"
   },
   {
    "duration": 0,
    "start_time": "2024-02-14T18:59:44.716Z"
   },
   {
    "duration": 1011,
    "start_time": "2024-02-14T19:01:43.924Z"
   },
   {
    "duration": 1035,
    "start_time": "2024-02-14T19:03:12.984Z"
   },
   {
    "duration": 988,
    "start_time": "2024-02-14T19:03:26.436Z"
   },
   {
    "duration": 469,
    "start_time": "2024-02-14T19:03:30.715Z"
   },
   {
    "duration": 1213,
    "start_time": "2024-02-14T19:03:40.773Z"
   },
   {
    "duration": 999,
    "start_time": "2024-02-14T19:03:41.988Z"
   },
   {
    "duration": 498,
    "start_time": "2024-02-14T19:03:42.989Z"
   },
   {
    "duration": 6,
    "start_time": "2024-02-14T19:03:43.489Z"
   },
   {
    "duration": 136,
    "start_time": "2024-02-14T19:03:43.496Z"
   },
   {
    "duration": 3,
    "start_time": "2024-02-14T19:03:43.634Z"
   },
   {
    "duration": 313,
    "start_time": "2024-02-14T19:03:43.638Z"
   },
   {
    "duration": 127,
    "start_time": "2024-02-14T19:03:43.952Z"
   },
   {
    "duration": 102,
    "start_time": "2024-02-14T19:03:44.080Z"
   },
   {
    "duration": 93,
    "start_time": "2024-02-14T19:03:44.185Z"
   },
   {
    "duration": 53,
    "start_time": "2024-02-14T19:03:44.279Z"
   },
   {
    "duration": 146,
    "start_time": "2024-02-14T19:03:44.333Z"
   },
   {
    "duration": 111,
    "start_time": "2024-02-14T19:03:44.481Z"
   },
   {
    "duration": 55,
    "start_time": "2024-02-14T19:03:44.593Z"
   },
   {
    "duration": 104,
    "start_time": "2024-02-14T19:03:44.650Z"
   },
   {
    "duration": 7,
    "start_time": "2024-02-14T19:03:44.765Z"
   },
   {
    "duration": 30,
    "start_time": "2024-02-14T19:03:44.774Z"
   },
   {
    "duration": 11,
    "start_time": "2024-02-14T19:03:44.806Z"
   },
   {
    "duration": 4,
    "start_time": "2024-02-14T19:03:44.818Z"
   },
   {
    "duration": 49,
    "start_time": "2024-02-14T19:03:44.823Z"
   },
   {
    "duration": 96,
    "start_time": "2024-02-14T19:03:44.874Z"
   },
   {
    "duration": 18,
    "start_time": "2024-02-14T19:03:44.971Z"
   },
   {
    "duration": 8,
    "start_time": "2024-02-14T19:03:44.990Z"
   },
   {
    "duration": 1624,
    "start_time": "2024-02-14T19:03:44.999Z"
   },
   {
    "duration": 22,
    "start_time": "2024-02-14T19:03:46.625Z"
   },
   {
    "duration": 1052,
    "start_time": "2024-02-14T19:03:46.648Z"
   },
   {
    "duration": 531,
    "start_time": "2024-02-14T19:03:47.702Z"
   },
   {
    "duration": 5,
    "start_time": "2024-02-14T19:03:48.236Z"
   },
   {
    "duration": 24349,
    "start_time": "2024-02-14T19:03:48.242Z"
   },
   {
    "duration": 179,
    "start_time": "2024-02-14T19:04:12.593Z"
   },
   {
    "duration": 1212,
    "start_time": "2024-02-14T19:04:46.442Z"
   },
   {
    "duration": 983,
    "start_time": "2024-02-14T19:04:47.656Z"
   },
   {
    "duration": 552,
    "start_time": "2024-02-14T19:04:48.640Z"
   },
   {
    "duration": 6,
    "start_time": "2024-02-14T19:04:49.194Z"
   },
   {
    "duration": 145,
    "start_time": "2024-02-14T19:04:49.202Z"
   },
   {
    "duration": 2,
    "start_time": "2024-02-14T19:04:49.349Z"
   },
   {
    "duration": 299,
    "start_time": "2024-02-14T19:04:49.352Z"
   },
   {
    "duration": 128,
    "start_time": "2024-02-14T19:04:49.652Z"
   },
   {
    "duration": 96,
    "start_time": "2024-02-14T19:04:49.782Z"
   },
   {
    "duration": 92,
    "start_time": "2024-02-14T19:04:49.880Z"
   },
   {
    "duration": 53,
    "start_time": "2024-02-14T19:04:49.973Z"
   },
   {
    "duration": 144,
    "start_time": "2024-02-14T19:04:50.027Z"
   },
   {
    "duration": 115,
    "start_time": "2024-02-14T19:04:50.172Z"
   },
   {
    "duration": 53,
    "start_time": "2024-02-14T19:04:50.288Z"
   },
   {
    "duration": 102,
    "start_time": "2024-02-14T19:04:50.342Z"
   },
   {
    "duration": 22,
    "start_time": "2024-02-14T19:04:50.445Z"
   },
   {
    "duration": 32,
    "start_time": "2024-02-14T19:04:50.469Z"
   },
   {
    "duration": 11,
    "start_time": "2024-02-14T19:04:50.502Z"
   },
   {
    "duration": 4,
    "start_time": "2024-02-14T19:04:50.514Z"
   },
   {
    "duration": 51,
    "start_time": "2024-02-14T19:04:50.519Z"
   },
   {
    "duration": 77,
    "start_time": "2024-02-14T19:04:50.571Z"
   },
   {
    "duration": 24,
    "start_time": "2024-02-14T19:04:50.649Z"
   },
   {
    "duration": 8,
    "start_time": "2024-02-14T19:04:50.675Z"
   },
   {
    "duration": 1529,
    "start_time": "2024-02-14T19:04:50.685Z"
   },
   {
    "duration": 21,
    "start_time": "2024-02-14T19:04:52.215Z"
   },
   {
    "duration": 1038,
    "start_time": "2024-02-14T19:04:52.238Z"
   },
   {
    "duration": 551,
    "start_time": "2024-02-14T19:04:53.278Z"
   },
   {
    "duration": 5,
    "start_time": "2024-02-14T19:04:53.833Z"
   },
   {
    "duration": 24458,
    "start_time": "2024-02-14T19:04:53.840Z"
   },
   {
    "duration": 265,
    "start_time": "2024-02-14T19:05:18.300Z"
   },
   {
    "duration": 49198,
    "start_time": "2024-02-14T19:05:18.568Z"
   },
   {
    "duration": 97,
    "start_time": "2024-02-14T19:06:07.768Z"
   },
   {
    "duration": 5,
    "start_time": "2024-02-14T19:06:07.867Z"
   },
   {
    "duration": 10,
    "start_time": "2024-02-14T19:06:07.873Z"
   },
   {
    "duration": 97085,
    "start_time": "2024-02-14T19:06:07.885Z"
   },
   {
    "duration": 93,
    "start_time": "2024-02-14T19:07:44.972Z"
   },
   {
    "duration": 436924,
    "start_time": "2024-02-14T19:07:45.067Z"
   },
   {
    "duration": 32672,
    "start_time": "2024-02-14T19:15:01.992Z"
   },
   {
    "duration": 1187,
    "start_time": "2024-02-14T19:15:34.666Z"
   },
   {
    "duration": 113,
    "start_time": "2024-02-14T19:15:35.855Z"
   },
   {
    "duration": 0,
    "start_time": "2024-02-14T19:15:35.970Z"
   },
   {
    "duration": 0,
    "start_time": "2024-02-14T19:15:35.971Z"
   },
   {
    "duration": 0,
    "start_time": "2024-02-14T19:15:35.972Z"
   },
   {
    "duration": 0,
    "start_time": "2024-02-14T19:15:35.974Z"
   },
   {
    "duration": 0,
    "start_time": "2024-02-14T19:15:35.975Z"
   },
   {
    "duration": 0,
    "start_time": "2024-02-14T19:15:35.976Z"
   },
   {
    "duration": 0,
    "start_time": "2024-02-14T19:15:35.978Z"
   },
   {
    "duration": 0,
    "start_time": "2024-02-14T19:15:35.979Z"
   },
   {
    "duration": 1,
    "start_time": "2024-02-14T19:15:35.980Z"
   },
   {
    "duration": 0,
    "start_time": "2024-02-14T19:15:35.982Z"
   },
   {
    "duration": 0,
    "start_time": "2024-02-14T19:15:35.983Z"
   },
   {
    "duration": 0,
    "start_time": "2024-02-14T19:15:35.984Z"
   },
   {
    "duration": 0,
    "start_time": "2024-02-14T19:15:35.986Z"
   },
   {
    "duration": 16,
    "start_time": "2024-02-14T19:47:43.767Z"
   },
   {
    "duration": 408672,
    "start_time": "2024-02-14T19:48:25.832Z"
   },
   {
    "duration": 31188,
    "start_time": "2024-02-14T19:55:14.505Z"
   },
   {
    "duration": 91,
    "start_time": "2024-02-14T19:55:45.694Z"
   },
   {
    "duration": 5,
    "start_time": "2024-02-14T19:55:45.787Z"
   },
   {
    "duration": 1622,
    "start_time": "2024-02-15T18:52:20.530Z"
   },
   {
    "duration": 1206,
    "start_time": "2024-02-15T18:52:22.154Z"
   },
   {
    "duration": 513,
    "start_time": "2024-02-15T18:52:23.362Z"
   },
   {
    "duration": 6,
    "start_time": "2024-02-15T18:52:23.877Z"
   },
   {
    "duration": 133,
    "start_time": "2024-02-15T18:52:23.884Z"
   },
   {
    "duration": 3,
    "start_time": "2024-02-15T18:52:24.018Z"
   },
   {
    "duration": 295,
    "start_time": "2024-02-15T18:52:24.022Z"
   },
   {
    "duration": 114,
    "start_time": "2024-02-15T18:52:24.318Z"
   },
   {
    "duration": 116,
    "start_time": "2024-02-15T18:52:24.434Z"
   },
   {
    "duration": 92,
    "start_time": "2024-02-15T18:52:24.553Z"
   },
   {
    "duration": 59,
    "start_time": "2024-02-15T18:52:24.646Z"
   },
   {
    "duration": 139,
    "start_time": "2024-02-15T18:52:24.706Z"
   },
   {
    "duration": 123,
    "start_time": "2024-02-15T18:52:24.846Z"
   },
   {
    "duration": 50,
    "start_time": "2024-02-15T18:52:24.970Z"
   },
   {
    "duration": 104,
    "start_time": "2024-02-15T18:52:25.021Z"
   },
   {
    "duration": 8,
    "start_time": "2024-02-15T18:52:25.127Z"
   },
   {
    "duration": 46,
    "start_time": "2024-02-15T18:52:25.136Z"
   },
   {
    "duration": 8,
    "start_time": "2024-02-15T18:52:25.184Z"
   },
   {
    "duration": 4,
    "start_time": "2024-02-15T18:52:25.193Z"
   },
   {
    "duration": 20,
    "start_time": "2024-02-15T18:52:25.198Z"
   },
   {
    "duration": 95,
    "start_time": "2024-02-15T18:52:25.220Z"
   },
   {
    "duration": 19,
    "start_time": "2024-02-15T18:52:25.317Z"
   },
   {
    "duration": 7,
    "start_time": "2024-02-15T18:52:25.338Z"
   },
   {
    "duration": 126,
    "start_time": "2024-02-15T18:52:25.346Z"
   },
   {
    "duration": 0,
    "start_time": "2024-02-15T18:52:25.475Z"
   },
   {
    "duration": 0,
    "start_time": "2024-02-15T18:52:25.476Z"
   },
   {
    "duration": 0,
    "start_time": "2024-02-15T18:52:25.477Z"
   },
   {
    "duration": 1,
    "start_time": "2024-02-15T18:52:25.478Z"
   },
   {
    "duration": 0,
    "start_time": "2024-02-15T18:52:25.479Z"
   },
   {
    "duration": 0,
    "start_time": "2024-02-15T18:52:25.480Z"
   },
   {
    "duration": 0,
    "start_time": "2024-02-15T18:52:25.482Z"
   },
   {
    "duration": 0,
    "start_time": "2024-02-15T18:52:25.483Z"
   },
   {
    "duration": 0,
    "start_time": "2024-02-15T18:52:25.485Z"
   },
   {
    "duration": 0,
    "start_time": "2024-02-15T18:52:25.486Z"
   },
   {
    "duration": 0,
    "start_time": "2024-02-15T18:52:25.488Z"
   },
   {
    "duration": 0,
    "start_time": "2024-02-15T18:52:25.489Z"
   },
   {
    "duration": 0,
    "start_time": "2024-02-15T18:52:25.490Z"
   },
   {
    "duration": 0,
    "start_time": "2024-02-15T18:52:25.492Z"
   },
   {
    "duration": 0,
    "start_time": "2024-02-15T18:52:25.493Z"
   },
   {
    "duration": 1,
    "start_time": "2024-02-15T18:52:25.493Z"
   },
   {
    "duration": 0,
    "start_time": "2024-02-15T18:52:25.495Z"
   },
   {
    "duration": 0,
    "start_time": "2024-02-15T18:52:25.495Z"
   },
   {
    "duration": 0,
    "start_time": "2024-02-15T18:52:25.496Z"
   },
   {
    "duration": 0,
    "start_time": "2024-02-15T18:52:25.497Z"
   },
   {
    "duration": 0,
    "start_time": "2024-02-15T18:52:25.498Z"
   },
   {
    "duration": 0,
    "start_time": "2024-02-15T18:52:25.499Z"
   },
   {
    "duration": 0,
    "start_time": "2024-02-15T18:52:25.500Z"
   },
   {
    "duration": 0,
    "start_time": "2024-02-15T18:52:25.501Z"
   },
   {
    "duration": 0,
    "start_time": "2024-02-15T18:52:25.502Z"
   },
   {
    "duration": 0,
    "start_time": "2024-02-15T18:52:25.503Z"
   },
   {
    "duration": 0,
    "start_time": "2024-02-15T18:52:25.504Z"
   },
   {
    "duration": 0,
    "start_time": "2024-02-15T18:52:25.505Z"
   },
   {
    "duration": 0,
    "start_time": "2024-02-15T18:52:25.506Z"
   },
   {
    "duration": 1574,
    "start_time": "2024-02-15T18:52:51.229Z"
   },
   {
    "duration": 1003,
    "start_time": "2024-02-15T18:52:52.805Z"
   },
   {
    "duration": 483,
    "start_time": "2024-02-15T18:52:53.810Z"
   },
   {
    "duration": 6,
    "start_time": "2024-02-15T18:52:54.295Z"
   },
   {
    "duration": 149,
    "start_time": "2024-02-15T18:52:54.302Z"
   },
   {
    "duration": 12,
    "start_time": "2024-02-15T18:52:54.453Z"
   },
   {
    "duration": 301,
    "start_time": "2024-02-15T18:52:54.467Z"
   },
   {
    "duration": 113,
    "start_time": "2024-02-15T18:52:54.769Z"
   },
   {
    "duration": 97,
    "start_time": "2024-02-15T18:52:54.883Z"
   },
   {
    "duration": 88,
    "start_time": "2024-02-15T18:52:54.983Z"
   },
   {
    "duration": 52,
    "start_time": "2024-02-15T18:52:55.073Z"
   },
   {
    "duration": 150,
    "start_time": "2024-02-15T18:52:55.127Z"
   },
   {
    "duration": 118,
    "start_time": "2024-02-15T18:52:55.279Z"
   },
   {
    "duration": 47,
    "start_time": "2024-02-15T18:52:55.399Z"
   },
   {
    "duration": 100,
    "start_time": "2024-02-15T18:52:55.448Z"
   },
   {
    "duration": 17,
    "start_time": "2024-02-15T18:52:55.550Z"
   },
   {
    "duration": 30,
    "start_time": "2024-02-15T18:52:55.569Z"
   },
   {
    "duration": 9,
    "start_time": "2024-02-15T18:52:55.601Z"
   },
   {
    "duration": 4,
    "start_time": "2024-02-15T18:52:55.611Z"
   },
   {
    "duration": 53,
    "start_time": "2024-02-15T18:52:55.616Z"
   },
   {
    "duration": 85,
    "start_time": "2024-02-15T18:52:55.671Z"
   },
   {
    "duration": 24,
    "start_time": "2024-02-15T18:52:55.758Z"
   },
   {
    "duration": 7,
    "start_time": "2024-02-15T18:52:55.783Z"
   },
   {
    "duration": 128,
    "start_time": "2024-02-15T18:52:55.792Z"
   },
   {
    "duration": 0,
    "start_time": "2024-02-15T18:52:55.922Z"
   },
   {
    "duration": 0,
    "start_time": "2024-02-15T18:52:55.923Z"
   },
   {
    "duration": 0,
    "start_time": "2024-02-15T18:52:55.924Z"
   },
   {
    "duration": 0,
    "start_time": "2024-02-15T18:52:55.925Z"
   },
   {
    "duration": 0,
    "start_time": "2024-02-15T18:52:55.927Z"
   },
   {
    "duration": 0,
    "start_time": "2024-02-15T18:52:55.928Z"
   },
   {
    "duration": 0,
    "start_time": "2024-02-15T18:52:55.929Z"
   },
   {
    "duration": 0,
    "start_time": "2024-02-15T18:52:55.930Z"
   },
   {
    "duration": 0,
    "start_time": "2024-02-15T18:52:55.931Z"
   },
   {
    "duration": 0,
    "start_time": "2024-02-15T18:52:55.932Z"
   },
   {
    "duration": 0,
    "start_time": "2024-02-15T18:52:55.933Z"
   },
   {
    "duration": 0,
    "start_time": "2024-02-15T18:52:55.934Z"
   },
   {
    "duration": 0,
    "start_time": "2024-02-15T18:52:55.935Z"
   },
   {
    "duration": 0,
    "start_time": "2024-02-15T18:52:55.936Z"
   },
   {
    "duration": 0,
    "start_time": "2024-02-15T18:52:55.965Z"
   },
   {
    "duration": 0,
    "start_time": "2024-02-15T18:52:55.966Z"
   },
   {
    "duration": 0,
    "start_time": "2024-02-15T18:52:55.967Z"
   },
   {
    "duration": 0,
    "start_time": "2024-02-15T18:52:55.968Z"
   },
   {
    "duration": 0,
    "start_time": "2024-02-15T18:52:55.969Z"
   },
   {
    "duration": 0,
    "start_time": "2024-02-15T18:52:55.970Z"
   },
   {
    "duration": 0,
    "start_time": "2024-02-15T18:52:55.971Z"
   },
   {
    "duration": 0,
    "start_time": "2024-02-15T18:52:55.972Z"
   },
   {
    "duration": 0,
    "start_time": "2024-02-15T18:52:55.973Z"
   },
   {
    "duration": 0,
    "start_time": "2024-02-15T18:52:55.973Z"
   },
   {
    "duration": 0,
    "start_time": "2024-02-15T18:52:55.975Z"
   },
   {
    "duration": 0,
    "start_time": "2024-02-15T18:52:55.976Z"
   },
   {
    "duration": 0,
    "start_time": "2024-02-15T18:52:55.977Z"
   },
   {
    "duration": 0,
    "start_time": "2024-02-15T18:52:55.978Z"
   },
   {
    "duration": 0,
    "start_time": "2024-02-15T18:52:55.980Z"
   },
   {
    "duration": 6615,
    "start_time": "2024-02-15T18:53:24.247Z"
   },
   {
    "duration": 1202,
    "start_time": "2024-02-15T18:53:30.864Z"
   },
   {
    "duration": 1003,
    "start_time": "2024-02-15T18:53:32.068Z"
   },
   {
    "duration": 492,
    "start_time": "2024-02-15T18:53:33.073Z"
   },
   {
    "duration": 6,
    "start_time": "2024-02-15T18:53:33.566Z"
   },
   {
    "duration": 145,
    "start_time": "2024-02-15T18:53:33.574Z"
   },
   {
    "duration": 3,
    "start_time": "2024-02-15T18:53:33.721Z"
   },
   {
    "duration": 325,
    "start_time": "2024-02-15T18:53:33.725Z"
   },
   {
    "duration": 118,
    "start_time": "2024-02-15T18:53:34.052Z"
   },
   {
    "duration": 95,
    "start_time": "2024-02-15T18:53:34.172Z"
   },
   {
    "duration": 96,
    "start_time": "2024-02-15T18:53:34.269Z"
   },
   {
    "duration": 52,
    "start_time": "2024-02-15T18:53:34.366Z"
   },
   {
    "duration": 136,
    "start_time": "2024-02-15T18:53:34.420Z"
   },
   {
    "duration": 110,
    "start_time": "2024-02-15T18:53:34.557Z"
   },
   {
    "duration": 51,
    "start_time": "2024-02-15T18:53:34.669Z"
   },
   {
    "duration": 106,
    "start_time": "2024-02-15T18:53:34.721Z"
   },
   {
    "duration": 8,
    "start_time": "2024-02-15T18:53:34.829Z"
   },
   {
    "duration": 45,
    "start_time": "2024-02-15T18:53:34.838Z"
   },
   {
    "duration": 8,
    "start_time": "2024-02-15T18:53:34.884Z"
   },
   {
    "duration": 3,
    "start_time": "2024-02-15T18:53:34.894Z"
   },
   {
    "duration": 22,
    "start_time": "2024-02-15T18:53:34.898Z"
   },
   {
    "duration": 92,
    "start_time": "2024-02-15T18:53:34.921Z"
   },
   {
    "duration": 17,
    "start_time": "2024-02-15T18:53:35.015Z"
   },
   {
    "duration": 8,
    "start_time": "2024-02-15T18:53:35.034Z"
   },
   {
    "duration": 1623,
    "start_time": "2024-02-15T18:53:35.043Z"
   },
   {
    "duration": 20,
    "start_time": "2024-02-15T18:53:36.668Z"
   },
   {
    "duration": 1045,
    "start_time": "2024-02-15T18:53:36.690Z"
   },
   {
    "duration": 543,
    "start_time": "2024-02-15T18:53:37.738Z"
   },
   {
    "duration": 6,
    "start_time": "2024-02-15T18:53:38.283Z"
   },
   {
    "duration": 23810,
    "start_time": "2024-02-15T18:53:38.290Z"
   },
   {
    "duration": 267,
    "start_time": "2024-02-15T18:54:02.102Z"
   },
   {
    "duration": 48495,
    "start_time": "2024-02-15T18:54:02.371Z"
   },
   {
    "duration": 3,
    "start_time": "2024-02-15T18:54:50.868Z"
   },
   {
    "duration": 93,
    "start_time": "2024-02-15T18:54:50.873Z"
   },
   {
    "duration": 9,
    "start_time": "2024-02-15T18:54:50.967Z"
   },
   {
    "duration": 96996,
    "start_time": "2024-02-15T18:54:50.977Z"
   },
   {
    "duration": 92,
    "start_time": "2024-02-15T18:56:27.975Z"
   },
   {
    "duration": 431137,
    "start_time": "2024-02-15T18:56:28.070Z"
   },
   {
    "duration": 32282,
    "start_time": "2024-02-15T19:03:39.209Z"
   },
   {
    "duration": 1095,
    "start_time": "2024-02-15T19:04:11.493Z"
   },
   {
    "duration": 115,
    "start_time": "2024-02-15T19:04:12.589Z"
   },
   {
    "duration": 0,
    "start_time": "2024-02-15T19:04:12.705Z"
   },
   {
    "duration": 0,
    "start_time": "2024-02-15T19:04:12.706Z"
   },
   {
    "duration": 0,
    "start_time": "2024-02-15T19:04:12.707Z"
   },
   {
    "duration": 0,
    "start_time": "2024-02-15T19:04:12.708Z"
   },
   {
    "duration": 0,
    "start_time": "2024-02-15T19:04:12.709Z"
   },
   {
    "duration": 0,
    "start_time": "2024-02-15T19:04:12.710Z"
   },
   {
    "duration": 0,
    "start_time": "2024-02-15T19:04:12.711Z"
   },
   {
    "duration": 0,
    "start_time": "2024-02-15T19:04:12.712Z"
   },
   {
    "duration": 0,
    "start_time": "2024-02-15T19:04:12.713Z"
   },
   {
    "duration": 0,
    "start_time": "2024-02-15T19:04:12.714Z"
   },
   {
    "duration": 0,
    "start_time": "2024-02-15T19:04:12.715Z"
   },
   {
    "duration": 0,
    "start_time": "2024-02-15T19:04:12.716Z"
   },
   {
    "duration": 0,
    "start_time": "2024-02-15T19:04:12.717Z"
   },
   {
    "duration": 6774,
    "start_time": "2024-02-16T11:22:59.598Z"
   },
   {
    "duration": 1442,
    "start_time": "2024-02-16T11:23:06.375Z"
   },
   {
    "duration": 3149,
    "start_time": "2024-02-16T11:23:07.819Z"
   },
   {
    "duration": 525,
    "start_time": "2024-02-16T11:23:10.970Z"
   },
   {
    "duration": 6,
    "start_time": "2024-02-16T11:23:11.497Z"
   },
   {
    "duration": 151,
    "start_time": "2024-02-16T11:23:11.505Z"
   },
   {
    "duration": 3,
    "start_time": "2024-02-16T11:23:11.658Z"
   },
   {
    "duration": 364,
    "start_time": "2024-02-16T11:23:11.663Z"
   },
   {
    "duration": 128,
    "start_time": "2024-02-16T11:23:12.029Z"
   },
   {
    "duration": 113,
    "start_time": "2024-02-16T11:23:12.159Z"
   },
   {
    "duration": 114,
    "start_time": "2024-02-16T11:23:12.273Z"
   },
   {
    "duration": 60,
    "start_time": "2024-02-16T11:23:12.389Z"
   },
   {
    "duration": 161,
    "start_time": "2024-02-16T11:23:12.450Z"
   },
   {
    "duration": 124,
    "start_time": "2024-02-16T11:23:12.612Z"
   },
   {
    "duration": 64,
    "start_time": "2024-02-16T11:23:12.737Z"
   },
   {
    "duration": 101,
    "start_time": "2024-02-16T11:23:12.802Z"
   },
   {
    "duration": 9,
    "start_time": "2024-02-16T11:23:12.905Z"
   },
   {
    "duration": 37,
    "start_time": "2024-02-16T11:23:12.916Z"
   },
   {
    "duration": 33,
    "start_time": "2024-02-16T11:23:12.955Z"
   },
   {
    "duration": 3,
    "start_time": "2024-02-16T11:23:12.990Z"
   },
   {
    "duration": 27,
    "start_time": "2024-02-16T11:23:12.995Z"
   },
   {
    "duration": 91,
    "start_time": "2024-02-16T11:23:13.023Z"
   },
   {
    "duration": 20,
    "start_time": "2024-02-16T11:23:13.115Z"
   },
   {
    "duration": 11,
    "start_time": "2024-02-16T11:23:13.137Z"
   },
   {
    "duration": 1658,
    "start_time": "2024-02-16T11:23:13.149Z"
   },
   {
    "duration": 23,
    "start_time": "2024-02-16T11:23:14.809Z"
   },
   {
    "duration": 1107,
    "start_time": "2024-02-16T11:23:14.833Z"
   },
   {
    "duration": 500,
    "start_time": "2024-02-16T11:23:15.943Z"
   },
   {
    "duration": 22,
    "start_time": "2024-02-16T11:23:16.445Z"
   },
   {
    "duration": 6947,
    "start_time": "2024-02-16T17:06:36.463Z"
   },
   {
    "duration": 1425,
    "start_time": "2024-02-16T17:06:43.413Z"
   },
   {
    "duration": 3153,
    "start_time": "2024-02-16T17:06:44.840Z"
   },
   {
    "duration": 533,
    "start_time": "2024-02-16T17:06:47.994Z"
   },
   {
    "duration": 5,
    "start_time": "2024-02-16T17:06:48.529Z"
   },
   {
    "duration": 158,
    "start_time": "2024-02-16T17:06:48.535Z"
   },
   {
    "duration": 3,
    "start_time": "2024-02-16T17:06:48.694Z"
   },
   {
    "duration": 336,
    "start_time": "2024-02-16T17:06:48.699Z"
   },
   {
    "duration": 136,
    "start_time": "2024-02-16T17:06:49.037Z"
   },
   {
    "duration": 107,
    "start_time": "2024-02-16T17:06:49.174Z"
   },
   {
    "duration": 115,
    "start_time": "2024-02-16T17:06:49.283Z"
   },
   {
    "duration": 58,
    "start_time": "2024-02-16T17:06:49.400Z"
   },
   {
    "duration": 150,
    "start_time": "2024-02-16T17:06:49.459Z"
   },
   {
    "duration": 136,
    "start_time": "2024-02-16T17:06:49.611Z"
   },
   {
    "duration": 66,
    "start_time": "2024-02-16T17:06:49.748Z"
   },
   {
    "duration": 108,
    "start_time": "2024-02-16T17:06:49.817Z"
   },
   {
    "duration": 11,
    "start_time": "2024-02-16T17:06:49.927Z"
   },
   {
    "duration": 62,
    "start_time": "2024-02-16T17:06:49.940Z"
   },
   {
    "duration": 13,
    "start_time": "2024-02-16T17:06:50.004Z"
   },
   {
    "duration": 7,
    "start_time": "2024-02-16T17:06:50.019Z"
   },
   {
    "duration": 40,
    "start_time": "2024-02-16T17:06:50.028Z"
   },
   {
    "duration": 103,
    "start_time": "2024-02-16T17:06:50.070Z"
   },
   {
    "duration": 20,
    "start_time": "2024-02-16T17:06:50.175Z"
   },
   {
    "duration": 21,
    "start_time": "2024-02-16T17:06:50.197Z"
   },
   {
    "duration": 1686,
    "start_time": "2024-02-16T17:06:50.220Z"
   },
   {
    "duration": 24,
    "start_time": "2024-02-16T17:06:51.908Z"
   },
   {
    "duration": 1106,
    "start_time": "2024-02-16T17:06:51.934Z"
   },
   {
    "duration": 609,
    "start_time": "2024-02-16T17:06:53.042Z"
   },
   {
    "duration": 7,
    "start_time": "2024-02-16T17:06:53.652Z"
   },
   {
    "duration": 25043,
    "start_time": "2024-02-16T17:06:53.660Z"
   },
   {
    "duration": 270,
    "start_time": "2024-02-16T17:07:18.705Z"
   },
   {
    "duration": 50505,
    "start_time": "2024-02-16T17:07:18.977Z"
   },
   {
    "duration": 3,
    "start_time": "2024-02-16T17:08:09.574Z"
   },
   {
    "duration": 99,
    "start_time": "2024-02-16T17:08:09.579Z"
   },
   {
    "duration": 6,
    "start_time": "2024-02-16T17:08:09.680Z"
   },
   {
    "duration": 17,
    "start_time": "2024-02-16T17:08:09.687Z"
   },
   {
    "duration": 3,
    "start_time": "2024-02-16T17:08:09.706Z"
   },
   {
    "duration": 474118,
    "start_time": "2024-02-16T17:08:09.711Z"
   },
   {
    "duration": 35905,
    "start_time": "2024-02-16T17:16:03.831Z"
   },
   {
    "duration": 1312,
    "start_time": "2024-02-16T17:16:39.737Z"
   },
   {
    "duration": 123,
    "start_time": "2024-02-16T17:16:41.053Z"
   },
   {
    "duration": 1,
    "start_time": "2024-02-16T17:16:41.177Z"
   },
   {
    "duration": 0,
    "start_time": "2024-02-16T17:16:41.179Z"
   },
   {
    "duration": 0,
    "start_time": "2024-02-16T17:16:41.180Z"
   },
   {
    "duration": 0,
    "start_time": "2024-02-16T17:16:41.181Z"
   },
   {
    "duration": 0,
    "start_time": "2024-02-16T17:16:41.183Z"
   },
   {
    "duration": 0,
    "start_time": "2024-02-16T17:16:41.184Z"
   },
   {
    "duration": 0,
    "start_time": "2024-02-16T17:16:41.185Z"
   },
   {
    "duration": 0,
    "start_time": "2024-02-16T17:16:41.186Z"
   },
   {
    "duration": 0,
    "start_time": "2024-02-16T17:16:41.187Z"
   },
   {
    "duration": 0,
    "start_time": "2024-02-16T17:16:41.188Z"
   },
   {
    "duration": 0,
    "start_time": "2024-02-16T17:16:41.189Z"
   },
   {
    "duration": 0,
    "start_time": "2024-02-16T17:16:41.190Z"
   },
   {
    "duration": 0,
    "start_time": "2024-02-16T17:16:41.191Z"
   },
   {
    "duration": 4,
    "start_time": "2024-02-16T18:26:00.129Z"
   },
   {
    "duration": 81,
    "start_time": "2024-02-16T18:28:15.653Z"
   },
   {
    "duration": 3063,
    "start_time": "2024-02-16T18:28:21.712Z"
   },
   {
    "duration": 3,
    "start_time": "2024-02-16T18:28:24.777Z"
   },
   {
    "duration": 55,
    "start_time": "2024-02-16T18:30:58.220Z"
   },
   {
    "duration": 34386,
    "start_time": "2024-02-16T18:31:02.421Z"
   },
   {
    "duration": 1034,
    "start_time": "2024-02-16T18:31:36.809Z"
   },
   {
    "duration": 4,
    "start_time": "2024-02-16T18:31:37.845Z"
   },
   {
    "duration": 11,
    "start_time": "2024-02-16T18:33:57.673Z"
   },
   {
    "duration": 6,
    "start_time": "2024-02-16T18:34:08.559Z"
   },
   {
    "duration": 5,
    "start_time": "2024-02-16T18:34:34.439Z"
   },
   {
    "duration": 5,
    "start_time": "2024-02-16T18:35:04.102Z"
   },
   {
    "duration": 4,
    "start_time": "2024-02-16T18:35:31.025Z"
   },
   {
    "duration": 3047,
    "start_time": "2024-02-16T18:36:03.573Z"
   },
   {
    "duration": 3523,
    "start_time": "2024-02-16T18:36:59.623Z"
   },
   {
    "duration": 1002,
    "start_time": "2024-02-16T18:37:08.174Z"
   },
   {
    "duration": 3,
    "start_time": "2024-02-16T18:37:21.162Z"
   },
   {
    "duration": 5,
    "start_time": "2024-02-16T18:37:27.176Z"
   },
   {
    "duration": 2464,
    "start_time": "2024-02-16T18:38:36.032Z"
   },
   {
    "duration": 1265,
    "start_time": "2024-02-16T18:38:38.498Z"
   },
   {
    "duration": 1060,
    "start_time": "2024-02-16T18:38:39.764Z"
   },
   {
    "duration": 527,
    "start_time": "2024-02-16T18:38:40.825Z"
   },
   {
    "duration": 6,
    "start_time": "2024-02-16T18:38:41.354Z"
   },
   {
    "duration": 151,
    "start_time": "2024-02-16T18:38:41.362Z"
   },
   {
    "duration": 3,
    "start_time": "2024-02-16T18:38:41.515Z"
   },
   {
    "duration": 332,
    "start_time": "2024-02-16T18:38:41.519Z"
   },
   {
    "duration": 133,
    "start_time": "2024-02-16T18:38:41.852Z"
   },
   {
    "duration": 114,
    "start_time": "2024-02-16T18:38:41.986Z"
   },
   {
    "duration": 108,
    "start_time": "2024-02-16T18:38:42.101Z"
   },
   {
    "duration": 72,
    "start_time": "2024-02-16T18:38:42.211Z"
   },
   {
    "duration": 162,
    "start_time": "2024-02-16T18:38:42.285Z"
   },
   {
    "duration": 128,
    "start_time": "2024-02-16T18:38:42.450Z"
   },
   {
    "duration": 57,
    "start_time": "2024-02-16T18:38:42.580Z"
   },
   {
    "duration": 118,
    "start_time": "2024-02-16T18:38:42.638Z"
   },
   {
    "duration": 17,
    "start_time": "2024-02-16T18:38:42.758Z"
   },
   {
    "duration": 34,
    "start_time": "2024-02-16T18:38:42.776Z"
   },
   {
    "duration": 11,
    "start_time": "2024-02-16T18:38:42.812Z"
   },
   {
    "duration": 5,
    "start_time": "2024-02-16T18:38:42.824Z"
   },
   {
    "duration": 51,
    "start_time": "2024-02-16T18:38:42.830Z"
   },
   {
    "duration": 80,
    "start_time": "2024-02-16T18:38:42.883Z"
   },
   {
    "duration": 24,
    "start_time": "2024-02-16T18:38:42.965Z"
   },
   {
    "duration": 9,
    "start_time": "2024-02-16T18:38:42.991Z"
   },
   {
    "duration": 1690,
    "start_time": "2024-02-16T18:38:43.001Z"
   },
   {
    "duration": 24,
    "start_time": "2024-02-16T18:38:44.693Z"
   },
   {
    "duration": 1102,
    "start_time": "2024-02-16T18:38:44.718Z"
   },
   {
    "duration": 592,
    "start_time": "2024-02-16T18:38:45.821Z"
   },
   {
    "duration": 5,
    "start_time": "2024-02-16T18:38:46.415Z"
   },
   {
    "duration": 25400,
    "start_time": "2024-02-16T18:38:46.421Z"
   },
   {
    "duration": 251,
    "start_time": "2024-02-16T18:39:11.823Z"
   },
   {
    "duration": 52198,
    "start_time": "2024-02-16T18:39:12.077Z"
   },
   {
    "duration": 2,
    "start_time": "2024-02-16T18:40:04.278Z"
   },
   {
    "duration": 100,
    "start_time": "2024-02-16T18:40:04.283Z"
   },
   {
    "duration": 3,
    "start_time": "2024-02-16T18:40:04.385Z"
   },
   {
    "duration": 6,
    "start_time": "2024-02-16T18:40:04.390Z"
   },
   {
    "duration": 7,
    "start_time": "2024-02-16T18:40:04.397Z"
   },
   {
    "duration": 466592,
    "start_time": "2024-02-16T18:40:04.405Z"
   },
   {
    "duration": 34454,
    "start_time": "2024-02-16T18:47:50.999Z"
   },
   {
    "duration": 1160,
    "start_time": "2024-02-16T18:48:25.455Z"
   },
   {
    "duration": 3,
    "start_time": "2024-02-16T18:48:26.619Z"
   },
   {
    "duration": 9,
    "start_time": "2024-02-16T18:48:26.623Z"
   },
   {
    "duration": 445315,
    "start_time": "2024-02-16T18:48:26.634Z"
   },
   {
    "duration": 37540,
    "start_time": "2024-02-16T18:55:51.951Z"
   },
   {
    "duration": 112,
    "start_time": "2024-02-16T18:56:29.493Z"
   },
   {
    "duration": 168,
    "start_time": "2024-02-16T18:56:29.607Z"
   },
   {
    "duration": 0,
    "start_time": "2024-02-16T18:56:29.777Z"
   },
   {
    "duration": 0,
    "start_time": "2024-02-16T18:56:29.778Z"
   },
   {
    "duration": 0,
    "start_time": "2024-02-16T18:56:29.779Z"
   },
   {
    "duration": 0,
    "start_time": "2024-02-16T18:56:29.780Z"
   },
   {
    "duration": 0,
    "start_time": "2024-02-16T18:56:29.781Z"
   },
   {
    "duration": 0,
    "start_time": "2024-02-16T18:56:29.782Z"
   },
   {
    "duration": 0,
    "start_time": "2024-02-16T18:56:29.783Z"
   },
   {
    "duration": 0,
    "start_time": "2024-02-16T18:56:29.783Z"
   },
   {
    "duration": 0,
    "start_time": "2024-02-16T18:56:29.784Z"
   },
   {
    "duration": 4,
    "start_time": "2024-02-16T19:00:30.677Z"
   },
   {
    "duration": 99,
    "start_time": "2024-02-16T19:00:34.418Z"
   },
   {
    "duration": 134,
    "start_time": "2024-02-16T19:00:34.720Z"
   },
   {
    "duration": 109,
    "start_time": "2024-02-16T19:00:34.925Z"
   },
   {
    "duration": 12,
    "start_time": "2024-02-16T19:00:35.145Z"
   },
   {
    "duration": 701922,
    "start_time": "2024-02-16T19:01:06.766Z"
   },
   {
    "duration": 17293,
    "start_time": "2024-02-16T19:12:48.690Z"
   },
   {
    "duration": 4401,
    "start_time": "2024-02-16T19:13:05.985Z"
   },
   {
    "duration": 6,
    "start_time": "2024-02-16T19:13:10.387Z"
   },
   {
    "duration": 557685,
    "start_time": "2024-02-16T19:13:10.394Z"
   },
   {
    "duration": 7711,
    "start_time": "2024-02-16T19:22:28.080Z"
   },
   {
    "duration": 699,
    "start_time": "2024-02-16T19:22:35.792Z"
   },
   {
    "duration": 12,
    "start_time": "2024-02-16T19:22:36.493Z"
   },
   {
    "duration": 24,
    "start_time": "2024-02-16T19:39:03.102Z"
   },
   {
    "duration": 11,
    "start_time": "2024-02-16T19:42:44.591Z"
   },
   {
    "duration": 2478,
    "start_time": "2024-02-16T19:43:44.079Z"
   },
   {
    "duration": 1295,
    "start_time": "2024-02-16T19:43:46.560Z"
   },
   {
    "duration": 1057,
    "start_time": "2024-02-16T19:43:47.857Z"
   },
   {
    "duration": 517,
    "start_time": "2024-02-16T19:43:48.916Z"
   },
   {
    "duration": 5,
    "start_time": "2024-02-16T19:43:49.435Z"
   },
   {
    "duration": 161,
    "start_time": "2024-02-16T19:43:49.442Z"
   },
   {
    "duration": 3,
    "start_time": "2024-02-16T19:43:49.604Z"
   },
   {
    "duration": 326,
    "start_time": "2024-02-16T19:43:49.608Z"
   },
   {
    "duration": 131,
    "start_time": "2024-02-16T19:43:49.935Z"
   },
   {
    "duration": 117,
    "start_time": "2024-02-16T19:43:50.068Z"
   },
   {
    "duration": 101,
    "start_time": "2024-02-16T19:43:50.187Z"
   },
   {
    "duration": 56,
    "start_time": "2024-02-16T19:43:50.290Z"
   },
   {
    "duration": 157,
    "start_time": "2024-02-16T19:43:50.348Z"
   },
   {
    "duration": 121,
    "start_time": "2024-02-16T19:43:50.507Z"
   },
   {
    "duration": 57,
    "start_time": "2024-02-16T19:43:50.629Z"
   },
   {
    "duration": 106,
    "start_time": "2024-02-16T19:43:50.687Z"
   },
   {
    "duration": 8,
    "start_time": "2024-02-16T19:43:50.794Z"
   },
   {
    "duration": 33,
    "start_time": "2024-02-16T19:43:50.803Z"
   },
   {
    "duration": 12,
    "start_time": "2024-02-16T19:43:50.838Z"
   },
   {
    "duration": 4,
    "start_time": "2024-02-16T19:43:50.873Z"
   },
   {
    "duration": 29,
    "start_time": "2024-02-16T19:43:50.879Z"
   },
   {
    "duration": 95,
    "start_time": "2024-02-16T19:43:50.910Z"
   },
   {
    "duration": 20,
    "start_time": "2024-02-16T19:43:51.007Z"
   },
   {
    "duration": 10,
    "start_time": "2024-02-16T19:43:51.028Z"
   },
   {
    "duration": 1620,
    "start_time": "2024-02-16T19:43:51.040Z"
   },
   {
    "duration": 26,
    "start_time": "2024-02-16T19:43:52.662Z"
   },
   {
    "duration": 521,
    "start_time": "2024-02-16T19:43:52.690Z"
   },
   {
    "duration": 22,
    "start_time": "2024-02-16T19:43:53.215Z"
   },
   {
    "duration": 618,
    "start_time": "2024-02-16T19:43:53.238Z"
   },
   {
    "duration": 5,
    "start_time": "2024-02-16T19:43:53.857Z"
   },
   {
    "duration": 25337,
    "start_time": "2024-02-16T19:43:53.864Z"
   },
   {
    "duration": 176,
    "start_time": "2024-02-16T19:44:19.203Z"
   },
   {
    "duration": 51993,
    "start_time": "2024-02-16T19:44:19.381Z"
   },
   {
    "duration": 5,
    "start_time": "2024-02-16T19:45:11.376Z"
   },
   {
    "duration": 90,
    "start_time": "2024-02-16T19:45:11.383Z"
   },
   {
    "duration": 3,
    "start_time": "2024-02-16T19:45:11.474Z"
   },
   {
    "duration": 4,
    "start_time": "2024-02-16T19:45:11.479Z"
   },
   {
    "duration": 5,
    "start_time": "2024-02-16T19:45:11.484Z"
   },
   {
    "duration": 467729,
    "start_time": "2024-02-16T19:45:11.490Z"
   },
   {
    "duration": 35081,
    "start_time": "2024-02-16T19:52:59.221Z"
   },
   {
    "duration": 1221,
    "start_time": "2024-02-16T19:53:34.304Z"
   },
   {
    "duration": 5,
    "start_time": "2024-02-16T19:53:35.526Z"
   },
   {
    "duration": 447700,
    "start_time": "2024-02-16T19:53:35.533Z"
   },
   {
    "duration": 34536,
    "start_time": "2024-02-16T20:01:03.235Z"
   },
   {
    "duration": 115,
    "start_time": "2024-02-16T20:01:37.773Z"
   },
   {
    "duration": 5,
    "start_time": "2024-02-16T20:01:37.890Z"
   },
   {
    "duration": 750284,
    "start_time": "2024-02-16T20:01:37.896Z"
   },
   {
    "duration": 19603,
    "start_time": "2024-02-16T20:14:08.182Z"
   },
   {
    "duration": 1495,
    "start_time": "2024-02-16T20:14:27.787Z"
   },
   {
    "duration": 152,
    "start_time": "2024-02-16T20:14:29.283Z"
   },
   {
    "duration": 0,
    "start_time": "2024-02-16T20:14:29.437Z"
   },
   {
    "duration": 0,
    "start_time": "2024-02-16T20:14:29.438Z"
   },
   {
    "duration": 0,
    "start_time": "2024-02-16T20:14:29.440Z"
   },
   {
    "duration": 0,
    "start_time": "2024-02-16T20:14:29.441Z"
   },
   {
    "duration": 0,
    "start_time": "2024-02-16T20:14:29.442Z"
   },
   {
    "duration": 6,
    "start_time": "2024-02-16T20:54:15.950Z"
   },
   {
    "duration": 490487,
    "start_time": "2024-02-16T20:54:19.288Z"
   },
   {
    "duration": 7800,
    "start_time": "2024-02-16T21:02:29.777Z"
   },
   {
    "duration": 613,
    "start_time": "2024-02-16T21:02:37.578Z"
   },
   {
    "duration": 83,
    "start_time": "2024-02-16T21:02:38.192Z"
   },
   {
    "duration": 32,
    "start_time": "2024-02-16T21:06:52.052Z"
   },
   {
    "duration": 1047,
    "start_time": "2024-02-16T21:10:50.588Z"
   },
   {
    "duration": 1075,
    "start_time": "2024-02-16T21:12:45.781Z"
   },
   {
    "duration": 3854,
    "start_time": "2024-02-16T21:13:01.368Z"
   },
   {
    "duration": 982,
    "start_time": "2024-02-16T21:13:18.636Z"
   },
   {
    "duration": 2466,
    "start_time": "2024-02-16T21:13:32.655Z"
   },
   {
    "duration": 1233,
    "start_time": "2024-02-16T21:13:35.124Z"
   },
   {
    "duration": 1062,
    "start_time": "2024-02-16T21:13:36.359Z"
   },
   {
    "duration": 537,
    "start_time": "2024-02-16T21:13:37.423Z"
   },
   {
    "duration": 11,
    "start_time": "2024-02-16T21:13:37.962Z"
   },
   {
    "duration": 160,
    "start_time": "2024-02-16T21:13:37.974Z"
   },
   {
    "duration": 3,
    "start_time": "2024-02-16T21:13:38.136Z"
   },
   {
    "duration": 315,
    "start_time": "2024-02-16T21:13:38.141Z"
   },
   {
    "duration": 126,
    "start_time": "2024-02-16T21:13:38.458Z"
   },
   {
    "duration": 107,
    "start_time": "2024-02-16T21:13:38.587Z"
   },
   {
    "duration": 102,
    "start_time": "2024-02-16T21:13:38.695Z"
   },
   {
    "duration": 76,
    "start_time": "2024-02-16T21:13:38.798Z"
   },
   {
    "duration": 146,
    "start_time": "2024-02-16T21:13:38.875Z"
   },
   {
    "duration": 123,
    "start_time": "2024-02-16T21:13:39.022Z"
   },
   {
    "duration": 56,
    "start_time": "2024-02-16T21:13:39.146Z"
   },
   {
    "duration": 109,
    "start_time": "2024-02-16T21:13:39.204Z"
   },
   {
    "duration": 9,
    "start_time": "2024-02-16T21:13:39.315Z"
   },
   {
    "duration": 53,
    "start_time": "2024-02-16T21:13:39.326Z"
   },
   {
    "duration": 13,
    "start_time": "2024-02-16T21:13:39.380Z"
   },
   {
    "duration": 6,
    "start_time": "2024-02-16T21:13:39.394Z"
   },
   {
    "duration": 21,
    "start_time": "2024-02-16T21:13:39.401Z"
   },
   {
    "duration": 103,
    "start_time": "2024-02-16T21:13:39.423Z"
   },
   {
    "duration": 21,
    "start_time": "2024-02-16T21:13:39.529Z"
   },
   {
    "duration": 7,
    "start_time": "2024-02-16T21:13:39.552Z"
   },
   {
    "duration": 1634,
    "start_time": "2024-02-16T21:13:39.573Z"
   },
   {
    "duration": 23,
    "start_time": "2024-02-16T21:13:41.209Z"
   },
   {
    "duration": 539,
    "start_time": "2024-02-16T21:13:41.234Z"
   },
   {
    "duration": 22,
    "start_time": "2024-02-16T21:13:41.777Z"
   },
   {
    "duration": 583,
    "start_time": "2024-02-16T21:13:41.800Z"
   },
   {
    "duration": 6,
    "start_time": "2024-02-16T21:13:42.384Z"
   },
   {
    "duration": 24907,
    "start_time": "2024-02-16T21:13:42.392Z"
   },
   {
    "duration": 272,
    "start_time": "2024-02-16T21:14:07.301Z"
   },
   {
    "duration": 50405,
    "start_time": "2024-02-16T21:14:07.575Z"
   },
   {
    "duration": 3,
    "start_time": "2024-02-16T21:14:57.984Z"
   },
   {
    "duration": 3,
    "start_time": "2024-02-16T21:14:58.073Z"
   },
   {
    "duration": 5,
    "start_time": "2024-02-16T21:14:58.077Z"
   },
   {
    "duration": 3,
    "start_time": "2024-02-16T21:14:58.084Z"
   },
   {
    "duration": 19,
    "start_time": "2024-02-16T21:14:58.089Z"
   },
   {
    "duration": 464544,
    "start_time": "2024-02-16T21:14:58.109Z"
   },
   {
    "duration": 34813,
    "start_time": "2024-02-16T21:22:42.655Z"
   },
   {
    "duration": 1209,
    "start_time": "2024-02-16T21:23:17.469Z"
   },
   {
    "duration": 5,
    "start_time": "2024-02-16T21:23:18.680Z"
   },
   {
    "duration": 440021,
    "start_time": "2024-02-16T21:23:18.687Z"
   },
   {
    "duration": 33743,
    "start_time": "2024-02-16T21:30:38.710Z"
   },
   {
    "duration": 108,
    "start_time": "2024-02-16T21:31:12.455Z"
   },
   {
    "duration": 10,
    "start_time": "2024-02-16T21:31:12.565Z"
   },
   {
    "duration": 699103,
    "start_time": "2024-02-16T21:31:12.577Z"
   },
   {
    "duration": 17302,
    "start_time": "2024-02-16T21:42:51.681Z"
   },
   {
    "duration": 1498,
    "start_time": "2024-02-16T21:43:08.984Z"
   },
   {
    "duration": 5,
    "start_time": "2024-02-16T21:43:10.484Z"
   },
   {
    "duration": 476395,
    "start_time": "2024-02-16T21:43:10.491Z"
   },
   {
    "duration": 7996,
    "start_time": "2024-02-16T21:51:06.887Z"
   },
   {
    "duration": 692,
    "start_time": "2024-02-16T21:51:14.884Z"
   },
   {
    "duration": 5,
    "start_time": "2024-02-16T21:51:15.577Z"
   },
   {
    "duration": 37,
    "start_time": "2024-02-16T21:51:15.583Z"
   },
   {
    "duration": 1146,
    "start_time": "2024-02-16T21:51:15.621Z"
   },
   {
    "duration": 12,
    "start_time": "2024-02-16T23:08:48.157Z"
   },
   {
    "duration": 2451,
    "start_time": "2024-02-16T23:31:26.559Z"
   },
   {
    "duration": 1325,
    "start_time": "2024-02-16T23:31:29.013Z"
   },
   {
    "duration": 1088,
    "start_time": "2024-02-16T23:31:30.340Z"
   },
   {
    "duration": 532,
    "start_time": "2024-02-16T23:31:31.430Z"
   },
   {
    "duration": 11,
    "start_time": "2024-02-16T23:31:31.964Z"
   },
   {
    "duration": 162,
    "start_time": "2024-02-16T23:31:31.977Z"
   },
   {
    "duration": 3,
    "start_time": "2024-02-16T23:31:32.141Z"
   },
   {
    "duration": 313,
    "start_time": "2024-02-16T23:31:32.146Z"
   },
   {
    "duration": 137,
    "start_time": "2024-02-16T23:31:32.461Z"
   },
   {
    "duration": 105,
    "start_time": "2024-02-16T23:31:32.600Z"
   },
   {
    "duration": 92,
    "start_time": "2024-02-16T23:31:32.707Z"
   },
   {
    "duration": 55,
    "start_time": "2024-02-16T23:31:32.801Z"
   },
   {
    "duration": 139,
    "start_time": "2024-02-16T23:31:32.872Z"
   },
   {
    "duration": 115,
    "start_time": "2024-02-16T23:31:33.013Z"
   },
   {
    "duration": 55,
    "start_time": "2024-02-16T23:31:33.129Z"
   },
   {
    "duration": 100,
    "start_time": "2024-02-16T23:31:33.185Z"
   },
   {
    "duration": 9,
    "start_time": "2024-02-16T23:31:33.286Z"
   },
   {
    "duration": 32,
    "start_time": "2024-02-16T23:31:33.296Z"
   },
   {
    "duration": 12,
    "start_time": "2024-02-16T23:31:33.330Z"
   },
   {
    "duration": 30,
    "start_time": "2024-02-16T23:31:33.344Z"
   },
   {
    "duration": 22,
    "start_time": "2024-02-16T23:31:33.376Z"
   },
   {
    "duration": 94,
    "start_time": "2024-02-16T23:31:33.399Z"
   },
   {
    "duration": 20,
    "start_time": "2024-02-16T23:31:33.495Z"
   },
   {
    "duration": 20,
    "start_time": "2024-02-16T23:31:33.516Z"
   },
   {
    "duration": 1652,
    "start_time": "2024-02-16T23:31:33.538Z"
   },
   {
    "duration": 23,
    "start_time": "2024-02-16T23:31:35.191Z"
   },
   {
    "duration": 527,
    "start_time": "2024-02-16T23:31:35.216Z"
   },
   {
    "duration": 28,
    "start_time": "2024-02-16T23:31:35.746Z"
   },
   {
    "duration": 608,
    "start_time": "2024-02-16T23:31:35.775Z"
   },
   {
    "duration": 6,
    "start_time": "2024-02-16T23:31:36.384Z"
   },
   {
    "duration": 25511,
    "start_time": "2024-02-16T23:31:36.391Z"
   },
   {
    "duration": 177,
    "start_time": "2024-02-16T23:32:01.903Z"
   },
   {
    "duration": 49500,
    "start_time": "2024-02-16T23:32:02.174Z"
   },
   {
    "duration": 2,
    "start_time": "2024-02-16T23:32:51.677Z"
   },
   {
    "duration": 5,
    "start_time": "2024-02-16T23:32:51.681Z"
   },
   {
    "duration": 92,
    "start_time": "2024-02-16T23:32:51.687Z"
   },
   {
    "duration": 13,
    "start_time": "2024-02-16T23:32:51.781Z"
   },
   {
    "duration": 6,
    "start_time": "2024-02-16T23:32:51.796Z"
   },
   {
    "duration": 465313,
    "start_time": "2024-02-16T23:32:51.804Z"
   },
   {
    "duration": 34928,
    "start_time": "2024-02-16T23:40:37.119Z"
   },
   {
    "duration": 1176,
    "start_time": "2024-02-16T23:41:12.048Z"
   },
   {
    "duration": 5,
    "start_time": "2024-02-16T23:41:13.226Z"
   },
   {
    "duration": 437963,
    "start_time": "2024-02-16T23:41:13.233Z"
   },
   {
    "duration": 33228,
    "start_time": "2024-02-16T23:48:31.198Z"
   },
   {
    "duration": 110,
    "start_time": "2024-02-16T23:49:04.428Z"
   },
   {
    "duration": 5,
    "start_time": "2024-02-16T23:49:04.540Z"
   },
   {
    "duration": 670339,
    "start_time": "2024-02-16T23:49:04.546Z"
   },
   {
    "duration": 18595,
    "start_time": "2024-02-17T00:00:14.887Z"
   },
   {
    "duration": 1494,
    "start_time": "2024-02-17T00:00:33.484Z"
   },
   {
    "duration": 5,
    "start_time": "2024-02-17T00:00:34.979Z"
   },
   {
    "duration": 483003,
    "start_time": "2024-02-17T00:00:34.986Z"
   },
   {
    "duration": 8093,
    "start_time": "2024-02-17T00:08:37.991Z"
   },
   {
    "duration": 692,
    "start_time": "2024-02-17T00:08:46.086Z"
   },
   {
    "duration": 4,
    "start_time": "2024-02-17T00:08:46.780Z"
   },
   {
    "duration": 29,
    "start_time": "2024-02-17T00:08:46.786Z"
   },
   {
    "duration": 167,
    "start_time": "2024-02-17T00:08:46.816Z"
   },
   {
    "duration": 0,
    "start_time": "2024-02-17T00:08:46.984Z"
   },
   {
    "duration": 0,
    "start_time": "2024-02-17T00:08:46.985Z"
   },
   {
    "duration": 0,
    "start_time": "2024-02-17T00:08:46.987Z"
   },
   {
    "duration": 0,
    "start_time": "2024-02-17T00:08:46.988Z"
   },
   {
    "duration": 0,
    "start_time": "2024-02-17T00:08:46.989Z"
   },
   {
    "duration": 0,
    "start_time": "2024-02-17T00:08:46.990Z"
   },
   {
    "duration": 0,
    "start_time": "2024-02-17T00:08:46.991Z"
   },
   {
    "duration": 93,
    "start_time": "2024-02-17T00:11:35.238Z"
   },
   {
    "duration": 3,
    "start_time": "2024-02-17T00:11:39.173Z"
   },
   {
    "duration": 4017,
    "start_time": "2024-02-17T00:11:44.400Z"
   },
   {
    "duration": 108,
    "start_time": "2024-02-17T00:11:48.419Z"
   },
   {
    "duration": 8,
    "start_time": "2024-02-17T00:11:48.529Z"
   },
   {
    "duration": 0,
    "start_time": "2024-02-17T00:11:48.538Z"
   },
   {
    "duration": 283,
    "start_time": "2024-02-17T00:12:56.050Z"
   },
   {
    "duration": 13,
    "start_time": "2024-02-17T00:13:09.144Z"
   },
   {
    "duration": 2111,
    "start_time": "2024-02-17T00:14:44.639Z"
   },
   {
    "duration": 532,
    "start_time": "2024-02-17T00:14:53.024Z"
   },
   {
    "duration": 4,
    "start_time": "2024-02-17T00:14:55.662Z"
   },
   {
    "duration": 29060,
    "start_time": "2024-02-17T00:14:58.460Z"
   },
   {
    "duration": 280,
    "start_time": "2024-02-17T00:15:27.521Z"
   },
   {
    "duration": 8,
    "start_time": "2024-02-17T00:15:27.802Z"
   },
   {
    "duration": 2699,
    "start_time": "2024-02-17T00:15:44.626Z"
   },
   {
    "duration": 1877,
    "start_time": "2024-02-17T00:15:47.327Z"
   },
   {
    "duration": 3140,
    "start_time": "2024-02-17T00:15:49.206Z"
   },
   {
    "duration": 524,
    "start_time": "2024-02-17T00:15:52.349Z"
   },
   {
    "duration": 6,
    "start_time": "2024-02-17T00:15:52.874Z"
   },
   {
    "duration": 159,
    "start_time": "2024-02-17T00:15:52.882Z"
   },
   {
    "duration": 2,
    "start_time": "2024-02-17T00:15:53.043Z"
   },
   {
    "duration": 330,
    "start_time": "2024-02-17T00:15:53.047Z"
   },
   {
    "duration": 138,
    "start_time": "2024-02-17T00:15:53.379Z"
   },
   {
    "duration": 109,
    "start_time": "2024-02-17T00:15:53.521Z"
   },
   {
    "duration": 109,
    "start_time": "2024-02-17T00:15:53.633Z"
   },
   {
    "duration": 71,
    "start_time": "2024-02-17T00:15:53.744Z"
   },
   {
    "duration": 150,
    "start_time": "2024-02-17T00:15:53.816Z"
   },
   {
    "duration": 131,
    "start_time": "2024-02-17T00:15:53.968Z"
   },
   {
    "duration": 57,
    "start_time": "2024-02-17T00:15:54.101Z"
   },
   {
    "duration": 113,
    "start_time": "2024-02-17T00:15:54.160Z"
   },
   {
    "duration": 9,
    "start_time": "2024-02-17T00:15:54.274Z"
   },
   {
    "duration": 34,
    "start_time": "2024-02-17T00:15:54.284Z"
   },
   {
    "duration": 13,
    "start_time": "2024-02-17T00:15:54.319Z"
   },
   {
    "duration": 4,
    "start_time": "2024-02-17T00:15:54.333Z"
   },
   {
    "duration": 50,
    "start_time": "2024-02-17T00:15:54.338Z"
   },
   {
    "duration": 90,
    "start_time": "2024-02-17T00:15:54.390Z"
   },
   {
    "duration": 20,
    "start_time": "2024-02-17T00:15:54.482Z"
   },
   {
    "duration": 6,
    "start_time": "2024-02-17T00:15:54.504Z"
   },
   {
    "duration": 1655,
    "start_time": "2024-02-17T00:15:54.512Z"
   },
   {
    "duration": 29,
    "start_time": "2024-02-17T00:15:56.169Z"
   },
   {
    "duration": 523,
    "start_time": "2024-02-17T00:15:56.200Z"
   },
   {
    "duration": 2051,
    "start_time": "2024-02-17T00:15:56.727Z"
   },
   {
    "duration": 23,
    "start_time": "2024-02-17T00:15:58.780Z"
   },
   {
    "duration": 579,
    "start_time": "2024-02-17T00:15:58.804Z"
   },
   {
    "duration": 6,
    "start_time": "2024-02-17T00:15:59.385Z"
   },
   {
    "duration": 25511,
    "start_time": "2024-02-17T00:15:59.392Z"
   },
   {
    "duration": 269,
    "start_time": "2024-02-17T00:16:24.904Z"
   },
   {
    "duration": 51299,
    "start_time": "2024-02-17T00:16:25.175Z"
   },
   {
    "duration": 3,
    "start_time": "2024-02-17T00:17:16.477Z"
   },
   {
    "duration": 93,
    "start_time": "2024-02-17T00:17:16.482Z"
   },
   {
    "duration": 5,
    "start_time": "2024-02-17T00:17:16.577Z"
   },
   {
    "duration": 5,
    "start_time": "2024-02-17T00:17:16.583Z"
   },
   {
    "duration": 6,
    "start_time": "2024-02-17T00:17:16.590Z"
   },
   {
    "duration": 469994,
    "start_time": "2024-02-17T00:17:16.597Z"
   },
   {
    "duration": 34902,
    "start_time": "2024-02-17T00:25:06.593Z"
   },
   {
    "duration": 1158,
    "start_time": "2024-02-17T00:25:41.496Z"
   },
   {
    "duration": 5,
    "start_time": "2024-02-17T00:25:42.656Z"
   },
   {
    "duration": 446490,
    "start_time": "2024-02-17T00:25:42.663Z"
   },
   {
    "duration": 34210,
    "start_time": "2024-02-17T00:33:09.155Z"
   },
   {
    "duration": 113,
    "start_time": "2024-02-17T00:33:43.366Z"
   },
   {
    "duration": 6,
    "start_time": "2024-02-17T00:33:43.480Z"
   },
   {
    "duration": 667206,
    "start_time": "2024-02-17T00:33:43.487Z"
   },
   {
    "duration": 16302,
    "start_time": "2024-02-17T00:44:50.773Z"
   },
   {
    "duration": 1412,
    "start_time": "2024-02-17T00:45:07.077Z"
   },
   {
    "duration": 85,
    "start_time": "2024-02-17T00:45:08.490Z"
   },
   {
    "duration": 469404,
    "start_time": "2024-02-17T00:45:08.577Z"
   },
   {
    "duration": 7698,
    "start_time": "2024-02-17T00:52:57.982Z"
   },
   {
    "duration": 699,
    "start_time": "2024-02-17T00:53:05.681Z"
   },
   {
    "duration": 4,
    "start_time": "2024-02-17T00:53:06.382Z"
   },
   {
    "duration": 86,
    "start_time": "2024-02-17T00:53:06.388Z"
   },
   {
    "duration": 518,
    "start_time": "2024-02-17T00:53:06.475Z"
   },
   {
    "duration": 4,
    "start_time": "2024-02-17T00:53:06.995Z"
   },
   {
    "duration": 28713,
    "start_time": "2024-02-17T00:53:07.000Z"
   },
   {
    "duration": 302,
    "start_time": "2024-02-17T00:53:35.715Z"
   },
   {
    "duration": 5,
    "start_time": "2024-02-17T00:53:36.018Z"
   },
   {
    "duration": 6654,
    "start_time": "2024-02-17T09:00:43.719Z"
   },
   {
    "duration": 1433,
    "start_time": "2024-02-17T09:00:50.375Z"
   },
   {
    "duration": 1334,
    "start_time": "2024-02-17T09:00:51.809Z"
   },
   {
    "duration": 517,
    "start_time": "2024-02-17T09:00:53.145Z"
   },
   {
    "duration": 5,
    "start_time": "2024-02-17T09:00:53.664Z"
   },
   {
    "duration": 148,
    "start_time": "2024-02-17T09:00:53.671Z"
   },
   {
    "duration": 3,
    "start_time": "2024-02-17T09:00:53.820Z"
   },
   {
    "duration": 338,
    "start_time": "2024-02-17T09:00:53.824Z"
   },
   {
    "duration": 131,
    "start_time": "2024-02-17T09:00:54.164Z"
   },
   {
    "duration": 119,
    "start_time": "2024-02-17T09:00:54.298Z"
   },
   {
    "duration": 106,
    "start_time": "2024-02-17T09:00:54.418Z"
   },
   {
    "duration": 58,
    "start_time": "2024-02-17T09:00:54.526Z"
   },
   {
    "duration": 156,
    "start_time": "2024-02-17T09:00:54.586Z"
   },
   {
    "duration": 132,
    "start_time": "2024-02-17T09:00:54.744Z"
   },
   {
    "duration": 64,
    "start_time": "2024-02-17T09:00:54.878Z"
   },
   {
    "duration": 102,
    "start_time": "2024-02-17T09:00:54.944Z"
   },
   {
    "duration": 9,
    "start_time": "2024-02-17T09:00:55.048Z"
   },
   {
    "duration": 32,
    "start_time": "2024-02-17T09:00:55.059Z"
   },
   {
    "duration": 12,
    "start_time": "2024-02-17T09:00:55.114Z"
   },
   {
    "duration": 4,
    "start_time": "2024-02-17T09:00:55.127Z"
   },
   {
    "duration": 22,
    "start_time": "2024-02-17T09:00:55.132Z"
   },
   {
    "duration": 97,
    "start_time": "2024-02-17T09:00:55.155Z"
   },
   {
    "duration": 19,
    "start_time": "2024-02-17T09:00:55.254Z"
   },
   {
    "duration": 9,
    "start_time": "2024-02-17T09:00:55.275Z"
   },
   {
    "duration": 1643,
    "start_time": "2024-02-17T09:00:55.286Z"
   },
   {
    "duration": 22,
    "start_time": "2024-02-17T09:00:56.930Z"
   },
   {
    "duration": 499,
    "start_time": "2024-02-17T09:00:56.953Z"
   },
   {
    "duration": 1980,
    "start_time": "2024-02-17T09:00:57.456Z"
   },
   {
    "duration": 21,
    "start_time": "2024-02-17T09:00:59.438Z"
   },
   {
    "duration": 562,
    "start_time": "2024-02-17T09:00:59.461Z"
   },
   {
    "duration": 5,
    "start_time": "2024-02-17T09:01:00.024Z"
   },
   {
    "duration": 25408,
    "start_time": "2024-02-17T09:01:00.031Z"
   },
   {
    "duration": 181,
    "start_time": "2024-02-17T09:01:25.440Z"
   },
   {
    "duration": 50895,
    "start_time": "2024-02-17T09:01:25.623Z"
   },
   {
    "duration": 2,
    "start_time": "2024-02-17T09:02:16.520Z"
   },
   {
    "duration": 95,
    "start_time": "2024-02-17T09:02:16.524Z"
   },
   {
    "duration": 5,
    "start_time": "2024-02-17T09:02:16.621Z"
   },
   {
    "duration": 4,
    "start_time": "2024-02-17T09:02:16.628Z"
   },
   {
    "duration": 4,
    "start_time": "2024-02-17T09:02:16.634Z"
   },
   {
    "duration": 442598,
    "start_time": "2024-02-17T09:02:16.640Z"
   },
   {
    "duration": 33955,
    "start_time": "2024-02-17T09:09:39.239Z"
   },
   {
    "duration": 1090,
    "start_time": "2024-02-17T09:10:13.195Z"
   },
   {
    "duration": 6,
    "start_time": "2024-02-17T09:10:14.287Z"
   },
   {
    "duration": 420309,
    "start_time": "2024-02-17T09:10:14.295Z"
   },
   {
    "duration": 32272,
    "start_time": "2024-02-17T09:17:14.605Z"
   },
   {
    "duration": 100,
    "start_time": "2024-02-17T09:17:46.879Z"
   },
   {
    "duration": 5,
    "start_time": "2024-02-17T09:17:46.981Z"
   },
   {
    "duration": 3318729,
    "start_time": "2024-02-17T09:17:46.987Z"
   },
   {
    "duration": 17015,
    "start_time": "2024-02-17T10:13:05.718Z"
   },
   {
    "duration": 1305,
    "start_time": "2024-02-17T10:13:22.815Z"
   },
   {
    "duration": 6,
    "start_time": "2024-02-17T10:13:24.121Z"
   },
   {
    "duration": 1034188,
    "start_time": "2024-02-17T10:13:24.128Z"
   },
   {
    "duration": 7704,
    "start_time": "2024-02-17T10:30:38.318Z"
   },
   {
    "duration": 606,
    "start_time": "2024-02-17T10:30:46.023Z"
   },
   {
    "duration": 82,
    "start_time": "2024-02-17T10:30:46.636Z"
   },
   {
    "duration": 32,
    "start_time": "2024-02-17T10:30:46.720Z"
   },
   {
    "duration": 515,
    "start_time": "2024-02-17T10:30:46.753Z"
   },
   {
    "duration": 4,
    "start_time": "2024-02-17T10:30:47.269Z"
   },
   {
    "duration": 26600,
    "start_time": "2024-02-17T10:30:47.274Z"
   },
   {
    "duration": 272,
    "start_time": "2024-02-17T10:31:13.876Z"
   },
   {
    "duration": 5,
    "start_time": "2024-02-17T10:31:14.149Z"
   },
   {
    "duration": 172,
    "start_time": "2024-02-17T11:24:11.341Z"
   },
   {
    "duration": 73,
    "start_time": "2024-02-17T11:24:11.972Z"
   },
   {
    "duration": 7,
    "start_time": "2024-02-17T11:24:12.651Z"
   },
   {
    "duration": 2373,
    "start_time": "2024-02-17T11:26:38.878Z"
   },
   {
    "duration": 1709,
    "start_time": "2024-02-17T11:26:41.254Z"
   },
   {
    "duration": 1237,
    "start_time": "2024-02-17T11:27:02.525Z"
   },
   {
    "duration": 484,
    "start_time": "2024-02-17T11:27:03.764Z"
   },
   {
    "duration": 6,
    "start_time": "2024-02-17T11:27:04.250Z"
   },
   {
    "duration": 144,
    "start_time": "2024-02-17T11:27:04.283Z"
   },
   {
    "duration": 3,
    "start_time": "2024-02-17T11:27:04.451Z"
   },
   {
    "duration": 304,
    "start_time": "2024-02-17T11:27:04.623Z"
   },
   {
    "duration": 122,
    "start_time": "2024-02-17T11:27:04.992Z"
   },
   {
    "duration": 102,
    "start_time": "2024-02-17T11:27:05.672Z"
   },
   {
    "duration": 98,
    "start_time": "2024-02-17T11:27:06.718Z"
   },
   {
    "duration": 56,
    "start_time": "2024-02-17T11:27:07.616Z"
   },
   {
    "duration": 128,
    "start_time": "2024-02-17T11:27:08.431Z"
   },
   {
    "duration": 109,
    "start_time": "2024-02-17T11:27:11.853Z"
   },
   {
    "duration": 50,
    "start_time": "2024-02-17T11:27:12.624Z"
   },
   {
    "duration": 100,
    "start_time": "2024-02-17T11:27:12.676Z"
   },
   {
    "duration": 8,
    "start_time": "2024-02-17T11:27:13.799Z"
   },
   {
    "duration": 33,
    "start_time": "2024-02-17T11:27:14.489Z"
   },
   {
    "duration": 11,
    "start_time": "2024-02-17T11:27:14.722Z"
   },
   {
    "duration": 3,
    "start_time": "2024-02-17T11:27:14.882Z"
   },
   {
    "duration": 20,
    "start_time": "2024-02-17T11:27:17.633Z"
   },
   {
    "duration": 72,
    "start_time": "2024-02-17T11:27:18.259Z"
   },
   {
    "duration": 19,
    "start_time": "2024-02-17T11:27:19.687Z"
   },
   {
    "duration": 7,
    "start_time": "2024-02-17T11:27:20.554Z"
   },
   {
    "duration": 1592,
    "start_time": "2024-02-17T11:27:21.785Z"
   },
   {
    "duration": 23,
    "start_time": "2024-02-17T11:27:23.871Z"
   },
   {
    "duration": 497,
    "start_time": "2024-02-17T11:27:24.264Z"
   },
   {
    "duration": 1982,
    "start_time": "2024-02-17T11:27:24.762Z"
   },
   {
    "duration": 36,
    "start_time": "2024-02-17T11:27:26.745Z"
   },
   {
    "duration": 534,
    "start_time": "2024-02-17T11:27:36.283Z"
   },
   {
    "duration": 6,
    "start_time": "2024-02-17T11:27:39.360Z"
   },
   {
    "duration": 24896,
    "start_time": "2024-02-17T11:27:42.541Z"
   },
   {
    "duration": 184,
    "start_time": "2024-02-17T11:28:07.439Z"
   },
   {
    "duration": 49992,
    "start_time": "2024-02-17T11:28:07.624Z"
   },
   {
    "duration": 33508,
    "start_time": "2024-02-17T11:28:57.618Z"
   },
   {
    "duration": 1128,
    "start_time": "2024-02-17T11:29:31.127Z"
   },
   {
    "duration": 5,
    "start_time": "2024-02-17T11:29:32.256Z"
   },
   {
    "duration": 32053,
    "start_time": "2024-02-17T11:29:35.331Z"
   },
   {
    "duration": 100,
    "start_time": "2024-02-17T11:30:07.386Z"
   },
   {
    "duration": 5,
    "start_time": "2024-02-17T11:30:07.488Z"
   },
   {
    "duration": 17696,
    "start_time": "2024-02-17T11:30:16.426Z"
   },
   {
    "duration": 1397,
    "start_time": "2024-02-17T11:30:34.124Z"
   },
   {
    "duration": 5,
    "start_time": "2024-02-17T11:30:35.523Z"
   },
   {
    "duration": 7705,
    "start_time": "2024-02-17T11:30:40.319Z"
   },
   {
    "duration": 607,
    "start_time": "2024-02-17T11:30:48.026Z"
   },
   {
    "duration": 5,
    "start_time": "2024-02-17T11:30:48.715Z"
   },
   {
    "duration": 24,
    "start_time": "2024-02-17T11:30:52.265Z"
   },
   {
    "duration": 497,
    "start_time": "2024-02-17T11:30:58.260Z"
   },
   {
    "duration": 3,
    "start_time": "2024-02-17T11:30:59.152Z"
   },
   {
    "duration": 26891,
    "start_time": "2024-02-17T11:31:00.069Z"
   },
   {
    "duration": 273,
    "start_time": "2024-02-17T11:31:26.961Z"
   },
   {
    "duration": 5,
    "start_time": "2024-02-17T11:31:27.235Z"
   },
   {
    "duration": 14910,
    "start_time": "2024-02-17T11:31:29.106Z"
   },
   {
    "duration": 180,
    "start_time": "2024-02-17T11:31:44.018Z"
   },
   {
    "duration": 6,
    "start_time": "2024-02-17T11:31:44.199Z"
   },
   {
    "duration": 92,
    "start_time": "2024-02-17T11:31:56.037Z"
   },
   {
    "duration": 15121,
    "start_time": "2024-02-17T11:31:59.901Z"
   },
   {
    "duration": 82,
    "start_time": "2024-02-17T11:32:22.248Z"
   },
   {
    "duration": 26758,
    "start_time": "2024-02-17T11:33:25.001Z"
   },
   {
    "duration": 258,
    "start_time": "2024-02-17T11:33:51.760Z"
   },
   {
    "duration": 5,
    "start_time": "2024-02-17T11:33:52.019Z"
   },
   {
    "duration": 198961,
    "start_time": "2024-02-17T14:31:14.179Z"
   },
   {
    "duration": 1416,
    "start_time": "2024-02-17T14:34:33.143Z"
   },
   {
    "duration": 1303,
    "start_time": "2024-02-17T14:34:34.561Z"
   },
   {
    "duration": 485,
    "start_time": "2024-02-17T14:34:35.866Z"
   },
   {
    "duration": 6,
    "start_time": "2024-02-17T14:34:36.353Z"
   },
   {
    "duration": 144,
    "start_time": "2024-02-17T14:34:36.361Z"
   },
   {
    "duration": 8,
    "start_time": "2024-02-17T14:34:36.507Z"
   },
   {
    "duration": 337,
    "start_time": "2024-02-17T14:34:36.516Z"
   },
   {
    "duration": 122,
    "start_time": "2024-02-17T14:34:36.855Z"
   },
   {
    "duration": 124,
    "start_time": "2024-02-17T14:34:36.978Z"
   },
   {
    "duration": 99,
    "start_time": "2024-02-17T14:34:37.104Z"
   },
   {
    "duration": 65,
    "start_time": "2024-02-17T14:34:37.204Z"
   },
   {
    "duration": 145,
    "start_time": "2024-02-17T14:34:37.271Z"
   },
   {
    "duration": 125,
    "start_time": "2024-02-17T14:34:37.418Z"
   },
   {
    "duration": 59,
    "start_time": "2024-02-17T14:34:37.545Z"
   },
   {
    "duration": 110,
    "start_time": "2024-02-17T14:34:37.605Z"
   },
   {
    "duration": 9,
    "start_time": "2024-02-17T14:34:37.717Z"
   },
   {
    "duration": 35,
    "start_time": "2024-02-17T14:34:37.727Z"
   },
   {
    "duration": 9,
    "start_time": "2024-02-17T14:34:37.763Z"
   },
   {
    "duration": 7,
    "start_time": "2024-02-17T14:34:37.773Z"
   },
   {
    "duration": 49,
    "start_time": "2024-02-17T14:34:37.782Z"
   },
   {
    "duration": 87,
    "start_time": "2024-02-17T14:34:37.833Z"
   },
   {
    "duration": 20,
    "start_time": "2024-02-17T14:34:37.921Z"
   },
   {
    "duration": 7,
    "start_time": "2024-02-17T14:34:37.942Z"
   },
   {
    "duration": 1600,
    "start_time": "2024-02-17T14:34:37.950Z"
   },
   {
    "duration": 22,
    "start_time": "2024-02-17T14:34:39.552Z"
   },
   {
    "duration": 498,
    "start_time": "2024-02-17T14:34:39.576Z"
   },
   {
    "duration": 22,
    "start_time": "2024-02-17T14:34:40.076Z"
   },
   {
    "duration": 571,
    "start_time": "2024-02-17T14:34:40.099Z"
   },
   {
    "duration": 5,
    "start_time": "2024-02-17T14:34:40.671Z"
   },
   {
    "duration": 24958,
    "start_time": "2024-02-17T14:34:40.678Z"
   },
   {
    "duration": 280,
    "start_time": "2024-02-17T14:35:05.638Z"
   },
   {
    "duration": 58195,
    "start_time": "2024-02-17T14:35:05.923Z"
   },
   {
    "duration": 33847,
    "start_time": "2024-02-17T14:36:04.121Z"
   },
   {
    "duration": 1147,
    "start_time": "2024-02-17T14:36:37.970Z"
   },
   {
    "duration": 5,
    "start_time": "2024-02-17T14:36:39.118Z"
   },
   {
    "duration": 116,
    "start_time": "2024-02-17T15:27:56.988Z"
   },
   {
    "duration": 8,
    "start_time": "2024-02-17T15:28:09.852Z"
   },
   {
    "duration": 7152,
    "start_time": "2024-02-17T15:36:40.805Z"
   },
   {
    "duration": 1474,
    "start_time": "2024-02-17T15:36:47.959Z"
   },
   {
    "duration": 1314,
    "start_time": "2024-02-17T15:36:49.434Z"
   },
   {
    "duration": 528,
    "start_time": "2024-02-17T15:36:50.750Z"
   },
   {
    "duration": 6,
    "start_time": "2024-02-17T15:36:51.280Z"
   },
   {
    "duration": 157,
    "start_time": "2024-02-17T15:36:51.287Z"
   },
   {
    "duration": 3,
    "start_time": "2024-02-17T15:36:51.445Z"
   },
   {
    "duration": 346,
    "start_time": "2024-02-17T15:36:51.450Z"
   },
   {
    "duration": 146,
    "start_time": "2024-02-17T15:36:51.799Z"
   },
   {
    "duration": 110,
    "start_time": "2024-02-17T15:36:51.949Z"
   },
   {
    "duration": 103,
    "start_time": "2024-02-17T15:36:52.060Z"
   },
   {
    "duration": 68,
    "start_time": "2024-02-17T15:36:52.165Z"
   },
   {
    "duration": 157,
    "start_time": "2024-02-17T15:36:52.235Z"
   },
   {
    "duration": 131,
    "start_time": "2024-02-17T15:36:52.393Z"
   },
   {
    "duration": 64,
    "start_time": "2024-02-17T15:36:52.525Z"
   },
   {
    "duration": 109,
    "start_time": "2024-02-17T15:36:52.591Z"
   },
   {
    "duration": 8,
    "start_time": "2024-02-17T15:36:52.701Z"
   },
   {
    "duration": 32,
    "start_time": "2024-02-17T15:36:52.710Z"
   },
   {
    "duration": 12,
    "start_time": "2024-02-17T15:36:52.743Z"
   },
   {
    "duration": 27,
    "start_time": "2024-02-17T15:36:52.757Z"
   },
   {
    "duration": 25,
    "start_time": "2024-02-17T15:36:52.786Z"
   },
   {
    "duration": 97,
    "start_time": "2024-02-17T15:36:52.813Z"
   },
   {
    "duration": 20,
    "start_time": "2024-02-17T15:36:52.911Z"
   },
   {
    "duration": 8,
    "start_time": "2024-02-17T15:36:52.933Z"
   },
   {
    "duration": 1716,
    "start_time": "2024-02-17T15:36:52.943Z"
   },
   {
    "duration": 26,
    "start_time": "2024-02-17T15:36:54.661Z"
   },
   {
    "duration": 530,
    "start_time": "2024-02-17T15:36:54.689Z"
   },
   {
    "duration": 25,
    "start_time": "2024-02-17T15:36:55.225Z"
   },
   {
    "duration": 614,
    "start_time": "2024-02-17T15:36:55.252Z"
   },
   {
    "duration": 6,
    "start_time": "2024-02-17T15:36:55.868Z"
   },
   {
    "duration": 25024,
    "start_time": "2024-02-17T15:36:55.882Z"
   },
   {
    "duration": 275,
    "start_time": "2024-02-17T15:37:20.908Z"
   },
   {
    "duration": 48404,
    "start_time": "2024-02-17T15:37:21.187Z"
   },
   {
    "duration": 2,
    "start_time": "2024-02-17T15:38:09.683Z"
   },
   {
    "duration": 7,
    "start_time": "2024-02-17T15:38:09.687Z"
   },
   {
    "duration": 13,
    "start_time": "2024-02-17T15:38:09.696Z"
   },
   {
    "duration": 4,
    "start_time": "2024-02-17T15:38:09.711Z"
   },
   {
    "duration": 6,
    "start_time": "2024-02-17T15:38:09.716Z"
   },
   {
    "duration": 478918,
    "start_time": "2024-02-17T15:38:09.724Z"
   },
   {
    "duration": 35861,
    "start_time": "2024-02-17T15:46:08.643Z"
   },
   {
    "duration": 398,
    "start_time": "2024-02-17T15:46:44.506Z"
   },
   {
    "duration": 5,
    "start_time": "2024-02-17T15:46:44.906Z"
   },
   {
    "duration": 455021,
    "start_time": "2024-02-17T15:46:44.913Z"
   },
   {
    "duration": 35203,
    "start_time": "2024-02-17T15:54:19.936Z"
   },
   {
    "duration": 104,
    "start_time": "2024-02-17T15:54:55.140Z"
   },
   {
    "duration": 5,
    "start_time": "2024-02-17T15:54:55.245Z"
   },
   {
    "duration": 843238,
    "start_time": "2024-02-17T15:54:55.251Z"
   },
   {
    "duration": 22600,
    "start_time": "2024-02-17T16:08:58.490Z"
   },
   {
    "duration": 1507,
    "start_time": "2024-02-17T16:09:21.092Z"
   },
   {
    "duration": 6,
    "start_time": "2024-02-17T16:09:22.601Z"
   },
   {
    "duration": 582792,
    "start_time": "2024-02-17T16:09:22.609Z"
   },
   {
    "duration": 9985,
    "start_time": "2024-02-17T16:19:05.403Z"
   },
   {
    "duration": 698,
    "start_time": "2024-02-17T16:19:15.390Z"
   },
   {
    "duration": 5,
    "start_time": "2024-02-17T16:19:16.090Z"
   },
   {
    "duration": 44,
    "start_time": "2024-02-17T16:19:16.097Z"
   },
   {
    "duration": 154,
    "start_time": "2024-02-17T16:19:16.143Z"
   },
   {
    "duration": 0,
    "start_time": "2024-02-17T16:19:16.299Z"
   },
   {
    "duration": 0,
    "start_time": "2024-02-17T16:19:16.300Z"
   },
   {
    "duration": 0,
    "start_time": "2024-02-17T16:19:16.301Z"
   },
   {
    "duration": 0,
    "start_time": "2024-02-17T16:19:16.303Z"
   },
   {
    "duration": 10,
    "start_time": "2024-02-17T16:22:04.274Z"
   },
   {
    "duration": 2123,
    "start_time": "2024-02-17T16:24:31.057Z"
   },
   {
    "duration": 516,
    "start_time": "2024-02-17T16:24:34.562Z"
   },
   {
    "duration": 379,
    "start_time": "2024-02-17T16:24:41.313Z"
   },
   {
    "duration": 2534,
    "start_time": "2024-02-17T16:25:37.077Z"
   },
   {
    "duration": 1814,
    "start_time": "2024-02-17T16:25:39.613Z"
   },
   {
    "duration": 1343,
    "start_time": "2024-02-17T16:25:41.429Z"
   },
   {
    "duration": 526,
    "start_time": "2024-02-17T16:25:42.773Z"
   },
   {
    "duration": 7,
    "start_time": "2024-02-17T16:25:43.301Z"
   },
   {
    "duration": 163,
    "start_time": "2024-02-17T16:25:43.310Z"
   },
   {
    "duration": 3,
    "start_time": "2024-02-17T16:25:43.474Z"
   },
   {
    "duration": 348,
    "start_time": "2024-02-17T16:25:43.481Z"
   },
   {
    "duration": 137,
    "start_time": "2024-02-17T16:25:43.831Z"
   },
   {
    "duration": 99,
    "start_time": "2024-02-17T16:25:48.377Z"
   },
   {
    "duration": 2537,
    "start_time": "2024-02-17T16:25:58.631Z"
   },
   {
    "duration": 1377,
    "start_time": "2024-02-17T16:26:01.170Z"
   },
   {
    "duration": 1128,
    "start_time": "2024-02-17T16:26:02.549Z"
   },
   {
    "duration": 534,
    "start_time": "2024-02-17T16:26:03.682Z"
   },
   {
    "duration": 7,
    "start_time": "2024-02-17T16:26:04.217Z"
   },
   {
    "duration": 166,
    "start_time": "2024-02-17T16:26:04.225Z"
   },
   {
    "duration": 3,
    "start_time": "2024-02-17T16:26:04.392Z"
   },
   {
    "duration": 348,
    "start_time": "2024-02-17T16:26:04.397Z"
   },
   {
    "duration": 162,
    "start_time": "2024-02-17T16:26:04.747Z"
   },
   {
    "duration": 113,
    "start_time": "2024-02-17T16:26:04.911Z"
   },
   {
    "duration": 104,
    "start_time": "2024-02-17T16:26:05.026Z"
   },
   {
    "duration": 76,
    "start_time": "2024-02-17T16:26:05.132Z"
   },
   {
    "duration": 151,
    "start_time": "2024-02-17T16:26:05.210Z"
   },
   {
    "duration": 121,
    "start_time": "2024-02-17T16:26:06.225Z"
   },
   {
    "duration": 55,
    "start_time": "2024-02-17T16:26:07.173Z"
   },
   {
    "duration": 99,
    "start_time": "2024-02-17T16:26:07.601Z"
   },
   {
    "duration": 9,
    "start_time": "2024-02-17T16:26:10.385Z"
   },
   {
    "duration": 33,
    "start_time": "2024-02-17T16:26:10.750Z"
   },
   {
    "duration": 13,
    "start_time": "2024-02-17T16:26:11.254Z"
   },
   {
    "duration": 3,
    "start_time": "2024-02-17T16:26:11.409Z"
   },
   {
    "duration": 21,
    "start_time": "2024-02-17T16:26:12.078Z"
   },
   {
    "duration": 96,
    "start_time": "2024-02-17T16:26:12.447Z"
   },
   {
    "duration": 19,
    "start_time": "2024-02-17T16:26:13.979Z"
   },
   {
    "duration": 7,
    "start_time": "2024-02-17T16:26:14.540Z"
   },
   {
    "duration": 1648,
    "start_time": "2024-02-17T16:26:15.374Z"
   },
   {
    "duration": 23,
    "start_time": "2024-02-17T16:26:17.024Z"
   },
   {
    "duration": 2043,
    "start_time": "2024-02-17T16:26:17.141Z"
   },
   {
    "duration": 529,
    "start_time": "2024-02-17T16:26:19.186Z"
   },
   {
    "duration": 23,
    "start_time": "2024-02-17T16:26:19.717Z"
   },
   {
    "duration": 623,
    "start_time": "2024-02-17T16:26:27.395Z"
   },
   {
    "duration": 6,
    "start_time": "2024-02-17T16:26:31.063Z"
   },
   {
    "duration": 24826,
    "start_time": "2024-02-17T16:26:35.181Z"
   },
   {
    "duration": 275,
    "start_time": "2024-02-17T16:27:00.009Z"
   },
   {
    "duration": 49204,
    "start_time": "2024-02-17T16:27:00.286Z"
   },
   {
    "duration": 36057,
    "start_time": "2024-02-17T16:27:49.493Z"
   },
   {
    "duration": 398,
    "start_time": "2024-02-17T16:28:25.552Z"
   },
   {
    "duration": 5,
    "start_time": "2024-02-17T16:28:25.952Z"
   },
   {
    "duration": 34532,
    "start_time": "2024-02-17T16:28:25.958Z"
   },
   {
    "duration": 111,
    "start_time": "2024-02-17T16:29:00.492Z"
   },
   {
    "duration": 5,
    "start_time": "2024-02-17T16:29:00.605Z"
   },
   {
    "duration": 23983,
    "start_time": "2024-02-17T16:29:00.612Z"
   },
   {
    "duration": 1494,
    "start_time": "2024-02-17T16:29:24.596Z"
   },
   {
    "duration": 5,
    "start_time": "2024-02-17T16:29:26.092Z"
   },
   {
    "duration": 9789,
    "start_time": "2024-02-17T16:29:26.098Z"
   },
   {
    "duration": 714,
    "start_time": "2024-02-17T16:29:35.889Z"
   },
   {
    "duration": 5,
    "start_time": "2024-02-17T16:29:36.605Z"
   },
   {
    "duration": 118,
    "start_time": "2024-02-17T16:29:46.057Z"
   },
   {
    "duration": 2542,
    "start_time": "2024-02-17T16:32:12.683Z"
   },
   {
    "duration": 1277,
    "start_time": "2024-02-17T16:32:15.227Z"
   },
   {
    "duration": 1078,
    "start_time": "2024-02-17T16:32:16.505Z"
   },
   {
    "duration": 534,
    "start_time": "2024-02-17T16:32:17.585Z"
   },
   {
    "duration": 6,
    "start_time": "2024-02-17T16:32:18.121Z"
   },
   {
    "duration": 164,
    "start_time": "2024-02-17T16:32:18.129Z"
   },
   {
    "duration": 3,
    "start_time": "2024-02-17T16:32:18.295Z"
   },
   {
    "duration": 336,
    "start_time": "2024-02-17T16:32:18.299Z"
   },
   {
    "duration": 134,
    "start_time": "2024-02-17T16:32:18.637Z"
   },
   {
    "duration": 115,
    "start_time": "2024-02-17T16:32:18.773Z"
   },
   {
    "duration": 109,
    "start_time": "2024-02-17T16:32:18.890Z"
   },
   {
    "duration": 62,
    "start_time": "2024-02-17T16:32:19.001Z"
   },
   {
    "duration": 153,
    "start_time": "2024-02-17T16:32:19.065Z"
   },
   {
    "duration": 128,
    "start_time": "2024-02-17T16:32:19.220Z"
   },
   {
    "duration": 68,
    "start_time": "2024-02-17T16:32:19.350Z"
   },
   {
    "duration": 126,
    "start_time": "2024-02-17T16:32:19.420Z"
   },
   {
    "duration": 8,
    "start_time": "2024-02-17T16:32:19.548Z"
   },
   {
    "duration": 48,
    "start_time": "2024-02-17T16:32:19.558Z"
   },
   {
    "duration": 12,
    "start_time": "2024-02-17T16:32:19.608Z"
   },
   {
    "duration": 3,
    "start_time": "2024-02-17T16:32:19.622Z"
   },
   {
    "duration": 23,
    "start_time": "2024-02-17T16:32:19.627Z"
   },
   {
    "duration": 98,
    "start_time": "2024-02-17T16:32:19.652Z"
   },
   {
    "duration": 19,
    "start_time": "2024-02-17T16:32:19.752Z"
   },
   {
    "duration": 6,
    "start_time": "2024-02-17T16:32:19.782Z"
   },
   {
    "duration": 1638,
    "start_time": "2024-02-17T16:32:19.790Z"
   },
   {
    "duration": 26,
    "start_time": "2024-02-17T16:32:21.429Z"
   },
   {
    "duration": 2060,
    "start_time": "2024-02-17T16:32:21.457Z"
   },
   {
    "duration": 520,
    "start_time": "2024-02-17T16:32:23.521Z"
   },
   {
    "duration": 24,
    "start_time": "2024-02-17T16:32:24.042Z"
   },
   {
    "duration": 625,
    "start_time": "2024-02-17T16:32:24.067Z"
   },
   {
    "duration": 6,
    "start_time": "2024-02-17T16:32:24.694Z"
   },
   {
    "duration": 24804,
    "start_time": "2024-02-17T16:32:24.702Z"
   },
   {
    "duration": 273,
    "start_time": "2024-02-17T16:32:49.508Z"
   },
   {
    "duration": 47608,
    "start_time": "2024-02-17T16:32:49.784Z"
   },
   {
    "duration": 3,
    "start_time": "2024-02-17T16:33:37.483Z"
   },
   {
    "duration": 7,
    "start_time": "2024-02-17T16:33:37.488Z"
   },
   {
    "duration": 2,
    "start_time": "2024-02-17T16:33:37.581Z"
   },
   {
    "duration": 5,
    "start_time": "2024-02-17T16:33:37.585Z"
   },
   {
    "duration": 4,
    "start_time": "2024-02-17T16:33:37.592Z"
   },
   {
    "duration": 479139,
    "start_time": "2024-02-17T16:33:37.598Z"
   },
   {
    "duration": 35654,
    "start_time": "2024-02-17T16:41:36.738Z"
   },
   {
    "duration": 397,
    "start_time": "2024-02-17T16:42:12.394Z"
   },
   {
    "duration": 6,
    "start_time": "2024-02-17T16:42:12.793Z"
   },
   {
    "duration": 455763,
    "start_time": "2024-02-17T16:42:12.800Z"
   },
   {
    "duration": 34772,
    "start_time": "2024-02-17T16:49:48.565Z"
   },
   {
    "duration": 101,
    "start_time": "2024-02-17T16:50:23.339Z"
   },
   {
    "duration": 5,
    "start_time": "2024-02-17T16:50:23.442Z"
   },
   {
    "duration": 820141,
    "start_time": "2024-02-17T16:50:23.448Z"
   },
   {
    "duration": 21006,
    "start_time": "2024-02-17T17:04:03.591Z"
   },
   {
    "duration": 1504,
    "start_time": "2024-02-17T17:04:24.598Z"
   },
   {
    "duration": 5,
    "start_time": "2024-02-17T17:04:26.103Z"
   },
   {
    "duration": 593375,
    "start_time": "2024-02-17T17:04:26.110Z"
   },
   {
    "duration": 9500,
    "start_time": "2024-02-17T17:14:19.487Z"
   },
   {
    "duration": 707,
    "start_time": "2024-02-17T17:14:28.989Z"
   },
   {
    "duration": 4,
    "start_time": "2024-02-17T17:14:29.698Z"
   },
   {
    "duration": 88,
    "start_time": "2024-02-17T17:14:29.704Z"
   },
   {
    "duration": 381,
    "start_time": "2024-02-17T17:14:29.793Z"
   },
   {
    "duration": 3,
    "start_time": "2024-02-17T17:14:30.176Z"
   },
   {
    "duration": 64,
    "start_time": "2024-02-17T17:14:30.182Z"
   },
   {
    "duration": 0,
    "start_time": "2024-02-17T17:14:30.248Z"
   },
   {
    "duration": 0,
    "start_time": "2024-02-17T17:14:30.250Z"
   },
   {
    "duration": 119,
    "start_time": "2024-02-17T17:30:06.532Z"
   },
   {
    "duration": 2564,
    "start_time": "2024-02-17T17:30:13.020Z"
   },
   {
    "duration": 1799,
    "start_time": "2024-02-17T17:30:15.587Z"
   },
   {
    "duration": 1321,
    "start_time": "2024-02-17T17:30:17.388Z"
   },
   {
    "duration": 541,
    "start_time": "2024-02-17T17:30:18.711Z"
   },
   {
    "duration": 7,
    "start_time": "2024-02-17T17:30:19.253Z"
   },
   {
    "duration": 154,
    "start_time": "2024-02-17T17:30:19.261Z"
   },
   {
    "duration": 3,
    "start_time": "2024-02-17T17:30:19.416Z"
   },
   {
    "duration": 342,
    "start_time": "2024-02-17T17:30:19.420Z"
   },
   {
    "duration": 144,
    "start_time": "2024-02-17T17:30:19.764Z"
   },
   {
    "duration": 115,
    "start_time": "2024-02-17T17:30:19.911Z"
   },
   {
    "duration": 114,
    "start_time": "2024-02-17T17:30:20.028Z"
   },
   {
    "duration": 76,
    "start_time": "2024-02-17T17:30:20.144Z"
   },
   {
    "duration": 150,
    "start_time": "2024-02-17T17:30:20.222Z"
   },
   {
    "duration": 126,
    "start_time": "2024-02-17T17:30:20.373Z"
   },
   {
    "duration": 54,
    "start_time": "2024-02-17T17:30:20.501Z"
   },
   {
    "duration": 108,
    "start_time": "2024-02-17T17:30:20.556Z"
   },
   {
    "duration": 19,
    "start_time": "2024-02-17T17:30:20.665Z"
   },
   {
    "duration": 34,
    "start_time": "2024-02-17T17:30:20.685Z"
   },
   {
    "duration": 12,
    "start_time": "2024-02-17T17:30:20.721Z"
   },
   {
    "duration": 4,
    "start_time": "2024-02-17T17:30:20.734Z"
   },
   {
    "duration": 47,
    "start_time": "2024-02-17T17:30:20.740Z"
   },
   {
    "duration": 95,
    "start_time": "2024-02-17T17:30:20.788Z"
   },
   {
    "duration": 19,
    "start_time": "2024-02-17T17:30:20.885Z"
   },
   {
    "duration": 7,
    "start_time": "2024-02-17T17:30:20.906Z"
   },
   {
    "duration": 1730,
    "start_time": "2024-02-17T17:30:20.914Z"
   },
   {
    "duration": 26,
    "start_time": "2024-02-17T17:30:22.646Z"
   },
   {
    "duration": 2101,
    "start_time": "2024-02-17T17:30:22.682Z"
   },
   {
    "duration": 530,
    "start_time": "2024-02-17T17:30:24.787Z"
   },
   {
    "duration": 23,
    "start_time": "2024-02-17T17:30:25.319Z"
   },
   {
    "duration": 598,
    "start_time": "2024-02-17T17:30:25.343Z"
   },
   {
    "duration": 6,
    "start_time": "2024-02-17T17:30:25.942Z"
   },
   {
    "duration": 24560,
    "start_time": "2024-02-17T17:30:25.950Z"
   },
   {
    "duration": 272,
    "start_time": "2024-02-17T17:30:50.511Z"
   },
   {
    "duration": 49113,
    "start_time": "2024-02-17T17:30:50.786Z"
   },
   {
    "duration": 7,
    "start_time": "2024-02-17T17:31:39.983Z"
   },
   {
    "duration": 90,
    "start_time": "2024-02-17T17:31:39.992Z"
   },
   {
    "duration": 7,
    "start_time": "2024-02-17T17:31:40.084Z"
   },
   {
    "duration": 5,
    "start_time": "2024-02-17T17:31:40.092Z"
   },
   {
    "duration": 4,
    "start_time": "2024-02-17T17:31:40.098Z"
   },
   {
    "duration": 477702,
    "start_time": "2024-02-17T17:31:40.104Z"
   },
   {
    "duration": 35811,
    "start_time": "2024-02-17T17:39:37.808Z"
   },
   {
    "duration": 387,
    "start_time": "2024-02-17T17:40:13.622Z"
   },
   {
    "duration": 5,
    "start_time": "2024-02-17T17:40:14.010Z"
   },
   {
    "duration": 456637,
    "start_time": "2024-02-17T17:40:14.017Z"
   },
   {
    "duration": 34827,
    "start_time": "2024-02-17T17:47:50.656Z"
   },
   {
    "duration": 117,
    "start_time": "2024-02-17T17:48:25.485Z"
   },
   {
    "duration": 5,
    "start_time": "2024-02-17T17:48:25.603Z"
   },
   {
    "duration": 827681,
    "start_time": "2024-02-17T17:48:25.609Z"
   },
   {
    "duration": 21499,
    "start_time": "2024-02-17T18:02:13.292Z"
   },
   {
    "duration": 1504,
    "start_time": "2024-02-17T18:02:34.793Z"
   },
   {
    "duration": 5,
    "start_time": "2024-02-17T18:02:36.298Z"
   },
   {
    "duration": 633189,
    "start_time": "2024-02-17T18:02:36.304Z"
   },
   {
    "duration": 10201,
    "start_time": "2024-02-17T18:13:09.495Z"
   },
   {
    "duration": 784,
    "start_time": "2024-02-17T18:13:19.698Z"
   },
   {
    "duration": 5,
    "start_time": "2024-02-17T18:13:20.484Z"
   },
   {
    "duration": 57,
    "start_time": "2024-02-17T18:13:20.490Z"
   },
   {
    "duration": 384,
    "start_time": "2024-02-17T18:13:20.548Z"
   },
   {
    "duration": 3,
    "start_time": "2024-02-17T18:13:20.934Z"
   },
   {
    "duration": 2563,
    "start_time": "2024-02-17T19:04:40.102Z"
   },
   {
    "duration": 1842,
    "start_time": "2024-02-17T19:04:42.667Z"
   },
   {
    "duration": 1373,
    "start_time": "2024-02-17T19:04:44.511Z"
   },
   {
    "duration": 582,
    "start_time": "2024-02-17T19:04:45.886Z"
   },
   {
    "duration": 14,
    "start_time": "2024-02-17T19:04:46.470Z"
   },
   {
    "duration": 181,
    "start_time": "2024-02-17T19:04:46.486Z"
   },
   {
    "duration": 3,
    "start_time": "2024-02-17T19:04:46.669Z"
   },
   {
    "duration": 370,
    "start_time": "2024-02-17T19:04:46.673Z"
   },
   {
    "duration": 150,
    "start_time": "2024-02-17T19:04:47.045Z"
   },
   {
    "duration": 113,
    "start_time": "2024-02-17T19:04:47.197Z"
   },
   {
    "duration": 108,
    "start_time": "2024-02-17T19:04:47.311Z"
   },
   {
    "duration": 76,
    "start_time": "2024-02-17T19:04:47.420Z"
   },
   {
    "duration": 153,
    "start_time": "2024-02-17T19:04:47.498Z"
   },
   {
    "duration": 132,
    "start_time": "2024-02-17T19:04:47.652Z"
   },
   {
    "duration": 60,
    "start_time": "2024-02-17T19:04:47.785Z"
   },
   {
    "duration": 135,
    "start_time": "2024-02-17T19:04:47.848Z"
   },
   {
    "duration": 8,
    "start_time": "2024-02-17T19:04:47.985Z"
   },
   {
    "duration": 34,
    "start_time": "2024-02-17T19:04:47.994Z"
   },
   {
    "duration": 13,
    "start_time": "2024-02-17T19:04:48.029Z"
   },
   {
    "duration": 4,
    "start_time": "2024-02-17T19:04:48.043Z"
   },
   {
    "duration": 20,
    "start_time": "2024-02-17T19:04:48.082Z"
   },
   {
    "duration": 91,
    "start_time": "2024-02-17T19:04:48.105Z"
   },
   {
    "duration": 20,
    "start_time": "2024-02-17T19:04:48.197Z"
   },
   {
    "duration": 18,
    "start_time": "2024-02-17T19:04:48.218Z"
   },
   {
    "duration": 1697,
    "start_time": "2024-02-17T19:04:48.238Z"
   },
   {
    "duration": 24,
    "start_time": "2024-02-17T19:04:49.937Z"
   },
   {
    "duration": 2096,
    "start_time": "2024-02-17T19:04:49.962Z"
   },
   {
    "duration": 521,
    "start_time": "2024-02-17T19:04:52.059Z"
   },
   {
    "duration": 25,
    "start_time": "2024-02-17T19:04:52.582Z"
   },
   {
    "duration": 621,
    "start_time": "2024-02-17T19:04:52.609Z"
   },
   {
    "duration": 6,
    "start_time": "2024-02-17T19:04:53.232Z"
   },
   {
    "duration": 25278,
    "start_time": "2024-02-17T19:04:53.239Z"
   },
   {
    "duration": 265,
    "start_time": "2024-02-17T19:05:18.519Z"
   },
   {
    "duration": 50095,
    "start_time": "2024-02-17T19:05:18.787Z"
   },
   {
    "duration": 3,
    "start_time": "2024-02-17T19:06:08.885Z"
   },
   {
    "duration": 13,
    "start_time": "2024-02-17T19:06:08.890Z"
   },
   {
    "duration": 3,
    "start_time": "2024-02-17T19:06:08.905Z"
   },
   {
    "duration": 14,
    "start_time": "2024-02-17T19:06:08.910Z"
   },
   {
    "duration": 6,
    "start_time": "2024-02-17T19:06:08.926Z"
   },
   {
    "duration": 480764,
    "start_time": "2024-02-17T19:06:08.934Z"
   },
   {
    "duration": 35693,
    "start_time": "2024-02-17T19:14:09.699Z"
   },
   {
    "duration": 383,
    "start_time": "2024-02-17T19:14:45.393Z"
   },
   {
    "duration": 7,
    "start_time": "2024-02-17T19:14:45.778Z"
   },
   {
    "duration": 457131,
    "start_time": "2024-02-17T19:14:45.786Z"
   },
   {
    "duration": 36930,
    "start_time": "2024-02-17T19:22:22.919Z"
   },
   {
    "duration": 122,
    "start_time": "2024-02-17T19:22:59.851Z"
   },
   {
    "duration": 8,
    "start_time": "2024-02-17T19:22:59.976Z"
   },
   {
    "duration": 826806,
    "start_time": "2024-02-17T19:22:59.986Z"
   },
   {
    "duration": 21403,
    "start_time": "2024-02-17T19:36:46.793Z"
   },
   {
    "duration": 1502,
    "start_time": "2024-02-17T19:37:08.197Z"
   },
   {
    "duration": 6,
    "start_time": "2024-02-17T19:37:09.700Z"
   },
   {
    "duration": 1917686,
    "start_time": "2024-02-17T19:37:09.708Z"
   },
   {
    "duration": 586089,
    "start_time": "2024-02-17T20:09:07.397Z"
   },
   {
    "duration": 702,
    "start_time": "2024-02-17T20:18:53.488Z"
   },
   {
    "duration": 7,
    "start_time": "2024-02-17T20:18:54.191Z"
   },
   {
    "duration": 40,
    "start_time": "2024-02-17T20:18:54.199Z"
   },
   {
    "duration": 371,
    "start_time": "2024-02-17T20:19:56.684Z"
   },
   {
    "duration": 4,
    "start_time": "2024-02-17T20:19:57.716Z"
   },
   {
    "duration": 2609,
    "start_time": "2024-02-17T20:22:09.895Z"
   },
   {
    "duration": 1791,
    "start_time": "2024-02-17T20:22:12.506Z"
   },
   {
    "duration": 1331,
    "start_time": "2024-02-17T20:22:14.299Z"
   },
   {
    "duration": 548,
    "start_time": "2024-02-17T20:22:15.635Z"
   },
   {
    "duration": 6,
    "start_time": "2024-02-17T20:22:16.185Z"
   },
   {
    "duration": 159,
    "start_time": "2024-02-17T20:22:16.192Z"
   },
   {
    "duration": 3,
    "start_time": "2024-02-17T20:22:16.353Z"
   },
   {
    "duration": 338,
    "start_time": "2024-02-17T20:22:16.357Z"
   },
   {
    "duration": 133,
    "start_time": "2024-02-17T20:22:16.696Z"
   },
   {
    "duration": 118,
    "start_time": "2024-02-17T20:22:16.832Z"
   },
   {
    "duration": 113,
    "start_time": "2024-02-17T20:22:16.951Z"
   },
   {
    "duration": 66,
    "start_time": "2024-02-17T20:22:17.065Z"
   },
   {
    "duration": 151,
    "start_time": "2024-02-17T20:22:17.133Z"
   },
   {
    "duration": 121,
    "start_time": "2024-02-17T20:22:17.286Z"
   },
   {
    "duration": 54,
    "start_time": "2024-02-17T20:22:17.409Z"
   },
   {
    "duration": 127,
    "start_time": "2024-02-17T20:22:17.465Z"
   },
   {
    "duration": 9,
    "start_time": "2024-02-17T20:22:19.055Z"
   },
   {
    "duration": 34,
    "start_time": "2024-02-17T20:22:19.792Z"
   },
   {
    "duration": 12,
    "start_time": "2024-02-17T20:22:20.095Z"
   },
   {
    "duration": 4,
    "start_time": "2024-02-17T20:22:20.564Z"
   },
   {
    "duration": 20,
    "start_time": "2024-02-17T20:22:22.282Z"
   },
   {
    "duration": 77,
    "start_time": "2024-02-17T20:22:22.889Z"
   },
   {
    "duration": 20,
    "start_time": "2024-02-17T20:22:23.633Z"
   },
   {
    "duration": 6,
    "start_time": "2024-02-17T20:22:24.053Z"
   },
   {
    "duration": 1678,
    "start_time": "2024-02-17T20:22:25.028Z"
   },
   {
    "duration": 23,
    "start_time": "2024-02-17T20:22:26.708Z"
   },
   {
    "duration": 2095,
    "start_time": "2024-02-17T20:22:26.732Z"
   },
   {
    "duration": 514,
    "start_time": "2024-02-17T20:22:28.829Z"
   },
   {
    "duration": 23,
    "start_time": "2024-02-17T20:22:29.345Z"
   },
   {
    "duration": 369,
    "start_time": "2024-02-17T20:22:37.167Z"
   },
   {
    "duration": 3,
    "start_time": "2024-02-17T20:22:38.133Z"
   },
   {
    "duration": 151,
    "start_time": "2024-02-17T20:22:53.712Z"
   },
   {
    "duration": 2687,
    "start_time": "2024-02-17T20:23:18.406Z"
   },
   {
    "duration": 1820,
    "start_time": "2024-02-17T20:23:21.095Z"
   },
   {
    "duration": 1414,
    "start_time": "2024-02-17T20:23:22.916Z"
   },
   {
    "duration": 572,
    "start_time": "2024-02-17T20:23:24.333Z"
   },
   {
    "duration": 7,
    "start_time": "2024-02-17T20:23:24.907Z"
   },
   {
    "duration": 179,
    "start_time": "2024-02-17T20:23:24.916Z"
   },
   {
    "duration": 3,
    "start_time": "2024-02-17T20:23:25.097Z"
   },
   {
    "duration": 367,
    "start_time": "2024-02-17T20:23:25.102Z"
   },
   {
    "duration": 141,
    "start_time": "2024-02-17T20:23:25.470Z"
   },
   {
    "duration": 121,
    "start_time": "2024-02-17T20:23:25.613Z"
   },
   {
    "duration": 110,
    "start_time": "2024-02-17T20:23:25.736Z"
   },
   {
    "duration": 80,
    "start_time": "2024-02-17T20:23:25.848Z"
   },
   {
    "duration": 160,
    "start_time": "2024-02-17T20:23:25.930Z"
   },
   {
    "duration": 132,
    "start_time": "2024-02-17T20:23:26.092Z"
   },
   {
    "duration": 72,
    "start_time": "2024-02-17T20:23:26.225Z"
   },
   {
    "duration": 115,
    "start_time": "2024-02-17T20:23:26.299Z"
   },
   {
    "duration": 13,
    "start_time": "2024-02-17T20:23:26.417Z"
   },
   {
    "duration": 56,
    "start_time": "2024-02-17T20:23:26.431Z"
   },
   {
    "duration": 13,
    "start_time": "2024-02-17T20:23:26.522Z"
   },
   {
    "duration": 4,
    "start_time": "2024-02-17T20:23:26.706Z"
   },
   {
    "duration": 22,
    "start_time": "2024-02-17T20:23:27.435Z"
   },
   {
    "duration": 81,
    "start_time": "2024-02-17T20:23:27.459Z"
   },
   {
    "duration": 19,
    "start_time": "2024-02-17T20:23:28.048Z"
   },
   {
    "duration": 7,
    "start_time": "2024-02-17T20:23:28.255Z"
   },
   {
    "duration": 1652,
    "start_time": "2024-02-17T20:23:28.439Z"
   },
   {
    "duration": 38,
    "start_time": "2024-02-17T20:23:30.093Z"
   },
   {
    "duration": 2138,
    "start_time": "2024-02-17T20:23:30.133Z"
   },
   {
    "duration": 546,
    "start_time": "2024-02-17T20:23:32.273Z"
   },
   {
    "duration": 24,
    "start_time": "2024-02-17T20:23:32.820Z"
   },
   {
    "duration": 115,
    "start_time": "2024-02-17T20:23:38.298Z"
   },
   {
    "duration": 376,
    "start_time": "2024-02-17T20:23:41.151Z"
   },
   {
    "duration": 4,
    "start_time": "2024-02-17T20:23:41.810Z"
   },
   {
    "duration": 147,
    "start_time": "2024-02-17T20:24:29.476Z"
   },
   {
    "duration": 2539,
    "start_time": "2024-02-17T20:24:39.388Z"
   },
   {
    "duration": 1690,
    "start_time": "2024-02-17T20:24:41.930Z"
   },
   {
    "duration": 1339,
    "start_time": "2024-02-17T20:24:43.622Z"
   },
   {
    "duration": 538,
    "start_time": "2024-02-17T20:24:44.963Z"
   },
   {
    "duration": 6,
    "start_time": "2024-02-17T20:24:45.503Z"
   },
   {
    "duration": 158,
    "start_time": "2024-02-17T20:24:45.510Z"
   },
   {
    "duration": 12,
    "start_time": "2024-02-17T20:24:45.670Z"
   },
   {
    "duration": 339,
    "start_time": "2024-02-17T20:24:45.683Z"
   },
   {
    "duration": 126,
    "start_time": "2024-02-17T20:24:46.024Z"
   },
   {
    "duration": 101,
    "start_time": "2024-02-17T20:24:46.223Z"
   },
   {
    "duration": 102,
    "start_time": "2024-02-17T20:24:47.306Z"
   },
   {
    "duration": 60,
    "start_time": "2024-02-17T20:24:47.488Z"
   },
   {
    "duration": 138,
    "start_time": "2024-02-17T20:24:47.655Z"
   },
   {
    "duration": 119,
    "start_time": "2024-02-17T20:24:49.091Z"
   },
   {
    "duration": 57,
    "start_time": "2024-02-17T20:24:49.339Z"
   },
   {
    "duration": 112,
    "start_time": "2024-02-17T20:24:49.473Z"
   },
   {
    "duration": 9,
    "start_time": "2024-02-17T20:24:50.196Z"
   },
   {
    "duration": 34,
    "start_time": "2024-02-17T20:24:50.533Z"
   },
   {
    "duration": 12,
    "start_time": "2024-02-17T20:24:50.656Z"
   },
   {
    "duration": 4,
    "start_time": "2024-02-17T20:24:50.980Z"
   },
   {
    "duration": 22,
    "start_time": "2024-02-17T20:24:51.408Z"
   },
   {
    "duration": 91,
    "start_time": "2024-02-17T20:24:51.858Z"
   },
   {
    "duration": 20,
    "start_time": "2024-02-17T20:24:52.739Z"
   },
   {
    "duration": 7,
    "start_time": "2024-02-17T20:24:52.939Z"
   },
   {
    "duration": 1643,
    "start_time": "2024-02-17T20:24:53.239Z"
   },
   {
    "duration": 26,
    "start_time": "2024-02-17T20:24:54.884Z"
   },
   {
    "duration": 2054,
    "start_time": "2024-02-17T20:24:54.911Z"
   },
   {
    "duration": 517,
    "start_time": "2024-02-17T20:24:56.967Z"
   },
   {
    "duration": 24,
    "start_time": "2024-02-17T20:24:57.486Z"
   },
   {
    "duration": 21446,
    "start_time": "2024-02-17T20:25:02.850Z"
   },
   {
    "duration": 1492,
    "start_time": "2024-02-17T20:25:24.298Z"
   },
   {
    "duration": 164,
    "start_time": "2024-02-17T20:25:25.792Z"
   },
   {
    "duration": 5,
    "start_time": "2024-02-17T20:25:37.201Z"
   },
   {
    "duration": 6238,
    "start_time": "2024-02-18T08:49:05.014Z"
   },
   {
    "duration": 1201,
    "start_time": "2024-02-18T08:49:11.255Z"
   },
   {
    "duration": 1197,
    "start_time": "2024-02-18T08:49:12.457Z"
   },
   {
    "duration": 492,
    "start_time": "2024-02-18T08:49:13.656Z"
   },
   {
    "duration": 6,
    "start_time": "2024-02-18T08:49:14.150Z"
   },
   {
    "duration": 139,
    "start_time": "2024-02-18T08:49:14.157Z"
   },
   {
    "duration": 2,
    "start_time": "2024-02-18T08:49:14.298Z"
   },
   {
    "duration": 295,
    "start_time": "2024-02-18T08:49:14.302Z"
   },
   {
    "duration": 115,
    "start_time": "2024-02-18T08:49:14.599Z"
   },
   {
    "duration": 97,
    "start_time": "2024-02-18T08:49:14.717Z"
   },
   {
    "duration": 91,
    "start_time": "2024-02-18T08:49:14.816Z"
   },
   {
    "duration": 66,
    "start_time": "2024-02-18T08:49:14.908Z"
   },
   {
    "duration": 134,
    "start_time": "2024-02-18T08:49:14.976Z"
   },
   {
    "duration": 131,
    "start_time": "2024-02-18T08:49:15.112Z"
   },
   {
    "duration": 57,
    "start_time": "2024-02-18T08:49:15.245Z"
   },
   {
    "duration": 99,
    "start_time": "2024-02-18T08:49:15.304Z"
   },
   {
    "duration": 7,
    "start_time": "2024-02-18T08:49:15.405Z"
   },
   {
    "duration": 27,
    "start_time": "2024-02-18T08:49:15.414Z"
   },
   {
    "duration": 28,
    "start_time": "2024-02-18T08:49:15.443Z"
   },
   {
    "duration": 4,
    "start_time": "2024-02-18T08:49:15.472Z"
   },
   {
    "duration": 25,
    "start_time": "2024-02-18T08:49:15.477Z"
   },
   {
    "duration": 85,
    "start_time": "2024-02-18T08:49:15.504Z"
   },
   {
    "duration": 17,
    "start_time": "2024-02-18T08:49:15.590Z"
   },
   {
    "duration": 9,
    "start_time": "2024-02-18T08:49:15.608Z"
   },
   {
    "duration": 1495,
    "start_time": "2024-02-18T08:49:15.618Z"
   },
   {
    "duration": 20,
    "start_time": "2024-02-18T08:49:17.114Z"
   },
   {
    "duration": 1860,
    "start_time": "2024-02-18T08:49:17.136Z"
   },
   {
    "duration": 481,
    "start_time": "2024-02-18T08:49:19.000Z"
   },
   {
    "duration": 21,
    "start_time": "2024-02-18T08:49:19.483Z"
   },
   {
    "duration": 555,
    "start_time": "2024-02-18T08:49:19.506Z"
   },
   {
    "duration": 5,
    "start_time": "2024-02-18T08:49:20.063Z"
   },
   {
    "duration": 24610,
    "start_time": "2024-02-18T08:49:20.070Z"
   },
   {
    "duration": 187,
    "start_time": "2024-02-18T08:49:44.682Z"
   },
   {
    "duration": 46903,
    "start_time": "2024-02-18T08:49:44.871Z"
   },
   {
    "duration": 90,
    "start_time": "2024-02-18T08:50:31.776Z"
   },
   {
    "duration": 12,
    "start_time": "2024-02-18T08:50:31.867Z"
   },
   {
    "duration": 25,
    "start_time": "2024-02-18T08:50:31.881Z"
   },
   {
    "duration": 40,
    "start_time": "2024-02-18T08:50:31.907Z"
   },
   {
    "duration": 11,
    "start_time": "2024-02-18T08:50:31.948Z"
   },
   {
    "duration": 421904,
    "start_time": "2024-02-18T08:50:31.961Z"
   },
   {
    "duration": 34669,
    "start_time": "2024-02-18T08:57:33.867Z"
   },
   {
    "duration": 382,
    "start_time": "2024-02-18T08:58:08.537Z"
   },
   {
    "duration": 5,
    "start_time": "2024-02-18T08:58:08.921Z"
   },
   {
    "duration": 407409,
    "start_time": "2024-02-18T08:58:08.928Z"
   },
   {
    "duration": 31096,
    "start_time": "2024-02-18T09:04:56.339Z"
   },
   {
    "duration": 90,
    "start_time": "2024-02-18T09:05:27.436Z"
   },
   {
    "duration": 5,
    "start_time": "2024-02-18T09:05:27.527Z"
   },
   {
    "duration": 2293,
    "start_time": "2024-02-18T09:34:53.251Z"
   },
   {
    "duration": 1846,
    "start_time": "2024-02-18T09:34:55.546Z"
   },
   {
    "duration": 1221,
    "start_time": "2024-02-18T09:34:57.394Z"
   },
   {
    "duration": 516,
    "start_time": "2024-02-18T09:34:58.617Z"
   },
   {
    "duration": 7,
    "start_time": "2024-02-18T09:34:59.135Z"
   },
   {
    "duration": 145,
    "start_time": "2024-02-18T09:34:59.143Z"
   },
   {
    "duration": 3,
    "start_time": "2024-02-18T09:34:59.289Z"
   },
   {
    "duration": 325,
    "start_time": "2024-02-18T09:34:59.294Z"
   },
   {
    "duration": 125,
    "start_time": "2024-02-18T09:34:59.621Z"
   },
   {
    "duration": 106,
    "start_time": "2024-02-18T09:34:59.748Z"
   },
   {
    "duration": 100,
    "start_time": "2024-02-18T09:34:59.856Z"
   },
   {
    "duration": 58,
    "start_time": "2024-02-18T09:34:59.964Z"
   },
   {
    "duration": 135,
    "start_time": "2024-02-18T09:35:00.024Z"
   },
   {
    "duration": 118,
    "start_time": "2024-02-18T09:35:00.161Z"
   },
   {
    "duration": 52,
    "start_time": "2024-02-18T09:35:00.281Z"
   },
   {
    "duration": 119,
    "start_time": "2024-02-18T09:35:00.335Z"
   },
   {
    "duration": 28,
    "start_time": "2024-02-18T09:35:00.456Z"
   },
   {
    "duration": 73,
    "start_time": "2024-02-18T09:35:00.486Z"
   },
   {
    "duration": 54,
    "start_time": "2024-02-18T09:35:00.561Z"
   },
   {
    "duration": 44,
    "start_time": "2024-02-18T09:35:00.619Z"
   },
   {
    "duration": 85,
    "start_time": "2024-02-18T09:35:00.665Z"
   },
   {
    "duration": 125,
    "start_time": "2024-02-18T09:35:00.752Z"
   },
   {
    "duration": 18,
    "start_time": "2024-02-18T09:35:00.879Z"
   },
   {
    "duration": 56,
    "start_time": "2024-02-18T09:35:00.899Z"
   },
   {
    "duration": 1540,
    "start_time": "2024-02-18T09:35:00.957Z"
   },
   {
    "duration": 23,
    "start_time": "2024-02-18T09:35:02.499Z"
   },
   {
    "duration": 1865,
    "start_time": "2024-02-18T09:35:02.523Z"
   },
   {
    "duration": 474,
    "start_time": "2024-02-18T09:35:04.390Z"
   },
   {
    "duration": 20,
    "start_time": "2024-02-18T09:35:04.866Z"
   },
   {
    "duration": 545,
    "start_time": "2024-02-18T09:35:04.888Z"
   },
   {
    "duration": 6,
    "start_time": "2024-02-18T09:35:05.435Z"
   },
   {
    "duration": 819343,
    "start_time": "2024-02-18T09:40:54.852Z"
   },
   {
    "duration": 2408,
    "start_time": "2024-02-18T09:54:55.101Z"
   },
   {
    "duration": 1819,
    "start_time": "2024-02-18T09:54:57.511Z"
   },
   {
    "duration": 1261,
    "start_time": "2024-02-18T09:54:59.331Z"
   },
   {
    "duration": 523,
    "start_time": "2024-02-18T09:55:00.594Z"
   },
   {
    "duration": 5,
    "start_time": "2024-02-18T09:55:01.120Z"
   },
   {
    "duration": 180,
    "start_time": "2024-02-18T09:55:01.126Z"
   },
   {
    "duration": 2,
    "start_time": "2024-02-18T09:55:01.308Z"
   },
   {
    "duration": 359,
    "start_time": "2024-02-18T09:55:01.312Z"
   },
   {
    "duration": 126,
    "start_time": "2024-02-18T09:55:01.676Z"
   },
   {
    "duration": 120,
    "start_time": "2024-02-18T09:55:01.804Z"
   },
   {
    "duration": 107,
    "start_time": "2024-02-18T09:55:01.926Z"
   },
   {
    "duration": 71,
    "start_time": "2024-02-18T09:55:02.035Z"
   },
   {
    "duration": 140,
    "start_time": "2024-02-18T09:55:02.107Z"
   },
   {
    "duration": 117,
    "start_time": "2024-02-18T09:55:02.250Z"
   },
   {
    "duration": 56,
    "start_time": "2024-02-18T09:55:02.369Z"
   },
   {
    "duration": 104,
    "start_time": "2024-02-18T09:55:02.427Z"
   },
   {
    "duration": 7,
    "start_time": "2024-02-18T09:55:02.533Z"
   },
   {
    "duration": 55,
    "start_time": "2024-02-18T09:55:02.541Z"
   },
   {
    "duration": 10,
    "start_time": "2024-02-18T09:55:02.597Z"
   },
   {
    "duration": 4,
    "start_time": "2024-02-18T09:55:02.608Z"
   },
   {
    "duration": 33,
    "start_time": "2024-02-18T09:55:02.613Z"
   },
   {
    "duration": 88,
    "start_time": "2024-02-18T09:55:02.648Z"
   },
   {
    "duration": 18,
    "start_time": "2024-02-18T09:55:02.737Z"
   },
   {
    "duration": 21,
    "start_time": "2024-02-18T09:55:02.756Z"
   },
   {
    "duration": 1624,
    "start_time": "2024-02-18T09:55:02.779Z"
   },
   {
    "duration": 21,
    "start_time": "2024-02-18T09:55:04.404Z"
   },
   {
    "duration": 1945,
    "start_time": "2024-02-18T09:55:04.427Z"
   },
   {
    "duration": 486,
    "start_time": "2024-02-18T09:55:06.374Z"
   },
   {
    "duration": 24,
    "start_time": "2024-02-18T09:55:06.861Z"
   },
   {
    "duration": 564,
    "start_time": "2024-02-18T09:55:06.887Z"
   },
   {
    "duration": 6,
    "start_time": "2024-02-18T09:55:07.452Z"
   },
   {
    "duration": 2311,
    "start_time": "2024-02-18T10:14:51.158Z"
   },
   {
    "duration": 1753,
    "start_time": "2024-02-18T10:14:53.471Z"
   },
   {
    "duration": 1224,
    "start_time": "2024-02-18T10:14:55.225Z"
   },
   {
    "duration": 489,
    "start_time": "2024-02-18T10:14:56.450Z"
   },
   {
    "duration": 6,
    "start_time": "2024-02-18T10:14:56.940Z"
   },
   {
    "duration": 140,
    "start_time": "2024-02-18T10:14:56.948Z"
   },
   {
    "duration": 4,
    "start_time": "2024-02-18T10:14:57.089Z"
   },
   {
    "duration": 298,
    "start_time": "2024-02-18T10:14:57.094Z"
   },
   {
    "duration": 119,
    "start_time": "2024-02-18T10:14:57.393Z"
   },
   {
    "duration": 100,
    "start_time": "2024-02-18T10:14:57.514Z"
   },
   {
    "duration": 92,
    "start_time": "2024-02-18T10:14:57.616Z"
   },
   {
    "duration": 64,
    "start_time": "2024-02-18T10:14:57.710Z"
   },
   {
    "duration": 135,
    "start_time": "2024-02-18T10:14:57.775Z"
   },
   {
    "duration": 116,
    "start_time": "2024-02-18T10:14:57.911Z"
   },
   {
    "duration": 60,
    "start_time": "2024-02-18T10:14:58.030Z"
   },
   {
    "duration": 93,
    "start_time": "2024-02-18T10:14:58.092Z"
   },
   {
    "duration": 8,
    "start_time": "2024-02-18T10:14:58.187Z"
   },
   {
    "duration": 31,
    "start_time": "2024-02-18T10:14:58.196Z"
   },
   {
    "duration": 37,
    "start_time": "2024-02-18T10:14:58.229Z"
   },
   {
    "duration": 4,
    "start_time": "2024-02-18T10:14:58.268Z"
   },
   {
    "duration": 19,
    "start_time": "2024-02-18T10:14:58.274Z"
   },
   {
    "duration": 89,
    "start_time": "2024-02-18T10:14:58.295Z"
   },
   {
    "duration": 19,
    "start_time": "2024-02-18T10:14:58.385Z"
   },
   {
    "duration": 7,
    "start_time": "2024-02-18T10:14:58.406Z"
   },
   {
    "duration": 1513,
    "start_time": "2024-02-18T10:14:58.415Z"
   },
   {
    "duration": 20,
    "start_time": "2024-02-18T10:14:59.930Z"
   },
   {
    "duration": 1906,
    "start_time": "2024-02-18T10:14:59.952Z"
   },
   {
    "duration": 483,
    "start_time": "2024-02-18T10:15:01.861Z"
   },
   {
    "duration": 22,
    "start_time": "2024-02-18T10:15:02.346Z"
   },
   {
    "duration": 554,
    "start_time": "2024-02-18T10:15:02.370Z"
   },
   {
    "duration": 4,
    "start_time": "2024-02-18T10:15:02.926Z"
   },
   {
    "duration": 2322,
    "start_time": "2024-02-18T10:16:17.538Z"
   },
   {
    "duration": 1732,
    "start_time": "2024-02-18T10:16:19.862Z"
   },
   {
    "duration": 1205,
    "start_time": "2024-02-18T10:16:21.595Z"
   },
   {
    "duration": 484,
    "start_time": "2024-02-18T10:16:22.801Z"
   },
   {
    "duration": 6,
    "start_time": "2024-02-18T10:16:23.286Z"
   },
   {
    "duration": 138,
    "start_time": "2024-02-18T10:16:23.293Z"
   },
   {
    "duration": 3,
    "start_time": "2024-02-18T10:16:23.433Z"
   },
   {
    "duration": 314,
    "start_time": "2024-02-18T10:16:23.437Z"
   },
   {
    "duration": 127,
    "start_time": "2024-02-18T10:16:23.753Z"
   },
   {
    "duration": 98,
    "start_time": "2024-02-18T10:16:23.883Z"
   },
   {
    "duration": 93,
    "start_time": "2024-02-18T10:16:23.983Z"
   },
   {
    "duration": 52,
    "start_time": "2024-02-18T10:16:24.077Z"
   },
   {
    "duration": 139,
    "start_time": "2024-02-18T10:16:24.132Z"
   },
   {
    "duration": 106,
    "start_time": "2024-02-18T10:16:24.273Z"
   },
   {
    "duration": 47,
    "start_time": "2024-02-18T10:16:24.380Z"
   },
   {
    "duration": 97,
    "start_time": "2024-02-18T10:16:24.428Z"
   },
   {
    "duration": 8,
    "start_time": "2024-02-18T10:16:24.526Z"
   },
   {
    "duration": 2394,
    "start_time": "2024-02-18T10:16:29.664Z"
   },
   {
    "duration": 1194,
    "start_time": "2024-02-18T10:16:32.060Z"
   },
   {
    "duration": 954,
    "start_time": "2024-02-18T10:16:33.256Z"
   },
   {
    "duration": 480,
    "start_time": "2024-02-18T10:16:34.212Z"
   },
   {
    "duration": 6,
    "start_time": "2024-02-18T10:16:34.694Z"
   },
   {
    "duration": 137,
    "start_time": "2024-02-18T10:16:34.701Z"
   },
   {
    "duration": 3,
    "start_time": "2024-02-18T10:16:34.839Z"
   },
   {
    "duration": 304,
    "start_time": "2024-02-18T10:16:34.844Z"
   },
   {
    "duration": 125,
    "start_time": "2024-02-18T10:16:35.150Z"
   },
   {
    "duration": 115,
    "start_time": "2024-02-18T10:16:35.277Z"
   },
   {
    "duration": 94,
    "start_time": "2024-02-18T10:16:35.393Z"
   },
   {
    "duration": 69,
    "start_time": "2024-02-18T10:16:35.489Z"
   },
   {
    "duration": 127,
    "start_time": "2024-02-18T10:16:35.559Z"
   },
   {
    "duration": 117,
    "start_time": "2024-02-18T10:16:35.689Z"
   },
   {
    "duration": 49,
    "start_time": "2024-02-18T10:16:35.808Z"
   },
   {
    "duration": 88,
    "start_time": "2024-02-18T10:16:35.865Z"
   },
   {
    "duration": 7,
    "start_time": "2024-02-18T10:16:35.965Z"
   },
   {
    "duration": 30,
    "start_time": "2024-02-18T10:16:35.974Z"
   },
   {
    "duration": 11,
    "start_time": "2024-02-18T10:16:36.005Z"
   },
   {
    "duration": 3,
    "start_time": "2024-02-18T10:16:36.018Z"
   },
   {
    "duration": 47,
    "start_time": "2024-02-18T10:16:36.022Z"
   },
   {
    "duration": 76,
    "start_time": "2024-02-18T10:16:36.071Z"
   },
   {
    "duration": 23,
    "start_time": "2024-02-18T10:16:36.148Z"
   },
   {
    "duration": 7,
    "start_time": "2024-02-18T10:16:36.172Z"
   },
   {
    "duration": 1524,
    "start_time": "2024-02-18T10:16:36.180Z"
   },
   {
    "duration": 23,
    "start_time": "2024-02-18T10:16:37.706Z"
   },
   {
    "duration": 1897,
    "start_time": "2024-02-18T10:16:37.731Z"
   },
   {
    "duration": 487,
    "start_time": "2024-02-18T10:16:39.630Z"
   },
   {
    "duration": 20,
    "start_time": "2024-02-18T10:16:40.118Z"
   },
   {
    "duration": 552,
    "start_time": "2024-02-18T10:16:40.139Z"
   },
   {
    "duration": 4,
    "start_time": "2024-02-18T10:16:40.693Z"
   },
   {
    "duration": 45,
    "start_time": "2024-02-18T10:17:02.181Z"
   },
   {
    "duration": 2350,
    "start_time": "2024-02-18T10:17:28.363Z"
   },
   {
    "duration": 2030,
    "start_time": "2024-02-18T10:17:30.715Z"
   },
   {
    "duration": 1198,
    "start_time": "2024-02-18T10:17:32.747Z"
   },
   {
    "duration": 497,
    "start_time": "2024-02-18T10:17:33.947Z"
   },
   {
    "duration": 6,
    "start_time": "2024-02-18T10:17:34.445Z"
   },
   {
    "duration": 143,
    "start_time": "2024-02-18T10:17:34.453Z"
   },
   {
    "duration": 3,
    "start_time": "2024-02-18T10:17:34.598Z"
   },
   {
    "duration": 308,
    "start_time": "2024-02-18T10:17:34.603Z"
   },
   {
    "duration": 124,
    "start_time": "2024-02-18T10:17:34.913Z"
   },
   {
    "duration": 100,
    "start_time": "2024-02-18T10:17:35.039Z"
   },
   {
    "duration": 98,
    "start_time": "2024-02-18T10:17:35.140Z"
   },
   {
    "duration": 68,
    "start_time": "2024-02-18T10:17:35.240Z"
   },
   {
    "duration": 131,
    "start_time": "2024-02-18T10:17:35.310Z"
   },
   {
    "duration": 114,
    "start_time": "2024-02-18T10:17:35.442Z"
   },
   {
    "duration": 54,
    "start_time": "2024-02-18T10:17:35.558Z"
   },
   {
    "duration": 105,
    "start_time": "2024-02-18T10:17:35.614Z"
   },
   {
    "duration": 8,
    "start_time": "2024-02-18T10:17:35.721Z"
   },
   {
    "duration": 45,
    "start_time": "2024-02-18T10:17:35.730Z"
   },
   {
    "duration": 12,
    "start_time": "2024-02-18T10:17:35.777Z"
   },
   {
    "duration": 3,
    "start_time": "2024-02-18T10:17:35.791Z"
   },
   {
    "duration": 21,
    "start_time": "2024-02-18T10:17:35.795Z"
   },
   {
    "duration": 103,
    "start_time": "2024-02-18T10:17:35.818Z"
   },
   {
    "duration": 18,
    "start_time": "2024-02-18T10:17:35.922Z"
   },
   {
    "duration": 23,
    "start_time": "2024-02-18T10:17:35.942Z"
   },
   {
    "duration": 1476,
    "start_time": "2024-02-18T10:17:35.967Z"
   },
   {
    "duration": 28,
    "start_time": "2024-02-18T10:17:37.444Z"
   },
   {
    "duration": 1855,
    "start_time": "2024-02-18T10:17:37.474Z"
   },
   {
    "duration": 493,
    "start_time": "2024-02-18T10:17:39.332Z"
   },
   {
    "duration": 22,
    "start_time": "2024-02-18T10:17:39.827Z"
   },
   {
    "duration": 549,
    "start_time": "2024-02-18T10:17:39.851Z"
   },
   {
    "duration": 5,
    "start_time": "2024-02-18T10:17:40.401Z"
   },
   {
    "duration": 44,
    "start_time": "2024-02-18T10:19:42.769Z"
   },
   {
    "duration": 2329,
    "start_time": "2024-02-18T10:21:23.282Z"
   },
   {
    "duration": 1717,
    "start_time": "2024-02-18T10:21:25.613Z"
   },
   {
    "duration": 1242,
    "start_time": "2024-02-18T10:21:27.332Z"
   },
   {
    "duration": 521,
    "start_time": "2024-02-18T10:21:28.576Z"
   },
   {
    "duration": 5,
    "start_time": "2024-02-18T10:21:29.099Z"
   },
   {
    "duration": 158,
    "start_time": "2024-02-18T10:21:29.106Z"
   },
   {
    "duration": 3,
    "start_time": "2024-02-18T10:21:29.265Z"
   },
   {
    "duration": 306,
    "start_time": "2024-02-18T10:21:29.269Z"
   },
   {
    "duration": 118,
    "start_time": "2024-02-18T10:21:29.577Z"
   },
   {
    "duration": 111,
    "start_time": "2024-02-18T10:21:29.697Z"
   },
   {
    "duration": 93,
    "start_time": "2024-02-18T10:21:29.810Z"
   },
   {
    "duration": 62,
    "start_time": "2024-02-18T10:21:29.904Z"
   },
   {
    "duration": 129,
    "start_time": "2024-02-18T10:21:29.967Z"
   },
   {
    "duration": 115,
    "start_time": "2024-02-18T10:21:30.098Z"
   },
   {
    "duration": 55,
    "start_time": "2024-02-18T10:21:30.215Z"
   },
   {
    "duration": 114,
    "start_time": "2024-02-18T10:21:30.272Z"
   },
   {
    "duration": 71,
    "start_time": "2024-02-18T10:21:30.388Z"
   },
   {
    "duration": 74,
    "start_time": "2024-02-18T10:21:30.461Z"
   },
   {
    "duration": 46,
    "start_time": "2024-02-18T10:21:30.536Z"
   },
   {
    "duration": 24,
    "start_time": "2024-02-18T10:21:30.583Z"
   },
   {
    "duration": 70,
    "start_time": "2024-02-18T10:21:30.608Z"
   },
   {
    "duration": 90,
    "start_time": "2024-02-18T10:21:30.679Z"
   },
   {
    "duration": 18,
    "start_time": "2024-02-18T10:21:30.770Z"
   },
   {
    "duration": 34,
    "start_time": "2024-02-18T10:21:30.789Z"
   },
   {
    "duration": 1516,
    "start_time": "2024-02-18T10:21:30.825Z"
   },
   {
    "duration": 26,
    "start_time": "2024-02-18T10:21:32.343Z"
   },
   {
    "duration": 1883,
    "start_time": "2024-02-18T10:21:32.370Z"
   },
   {
    "duration": 478,
    "start_time": "2024-02-18T10:21:34.257Z"
   },
   {
    "duration": 22,
    "start_time": "2024-02-18T10:21:34.737Z"
   },
   {
    "duration": 542,
    "start_time": "2024-02-18T10:21:34.765Z"
   },
   {
    "duration": 5,
    "start_time": "2024-02-18T10:21:35.309Z"
   },
   {
    "duration": 2372,
    "start_time": "2024-02-18T10:22:07.072Z"
   },
   {
    "duration": 1827,
    "start_time": "2024-02-18T10:22:09.446Z"
   },
   {
    "duration": 1203,
    "start_time": "2024-02-18T10:22:11.275Z"
   },
   {
    "duration": 504,
    "start_time": "2024-02-18T10:22:12.480Z"
   },
   {
    "duration": 6,
    "start_time": "2024-02-18T10:22:12.985Z"
   },
   {
    "duration": 140,
    "start_time": "2024-02-18T10:22:12.992Z"
   },
   {
    "duration": 2,
    "start_time": "2024-02-18T10:22:13.134Z"
   },
   {
    "duration": 292,
    "start_time": "2024-02-18T10:22:13.138Z"
   },
   {
    "duration": 120,
    "start_time": "2024-02-18T10:22:13.432Z"
   },
   {
    "duration": 96,
    "start_time": "2024-02-18T10:22:13.555Z"
   },
   {
    "duration": 96,
    "start_time": "2024-02-18T10:22:13.653Z"
   },
   {
    "duration": 77,
    "start_time": "2024-02-18T10:22:13.752Z"
   },
   {
    "duration": 147,
    "start_time": "2024-02-18T10:22:13.830Z"
   },
   {
    "duration": 118,
    "start_time": "2024-02-18T10:22:13.979Z"
   },
   {
    "duration": 50,
    "start_time": "2024-02-18T10:22:14.098Z"
   },
   {
    "duration": 100,
    "start_time": "2024-02-18T10:22:14.150Z"
   },
   {
    "duration": 18,
    "start_time": "2024-02-18T10:22:14.251Z"
   },
   {
    "duration": 30,
    "start_time": "2024-02-18T10:22:14.270Z"
   },
   {
    "duration": 7,
    "start_time": "2024-02-18T10:22:14.302Z"
   },
   {
    "duration": 7,
    "start_time": "2024-02-18T10:22:14.311Z"
   },
   {
    "duration": 20,
    "start_time": "2024-02-18T10:22:14.319Z"
   },
   {
    "duration": 98,
    "start_time": "2024-02-18T10:22:14.340Z"
   },
   {
    "duration": 28,
    "start_time": "2024-02-18T10:22:14.440Z"
   },
   {
    "duration": 10,
    "start_time": "2024-02-18T10:22:14.469Z"
   },
   {
    "duration": 1490,
    "start_time": "2024-02-18T10:22:14.481Z"
   },
   {
    "duration": 20,
    "start_time": "2024-02-18T10:22:15.973Z"
   },
   {
    "duration": 1853,
    "start_time": "2024-02-18T10:22:15.994Z"
   },
   {
    "duration": 479,
    "start_time": "2024-02-18T10:22:17.850Z"
   },
   {
    "duration": 21,
    "start_time": "2024-02-18T10:22:18.331Z"
   },
   {
    "duration": 581,
    "start_time": "2024-02-18T10:22:18.353Z"
   },
   {
    "duration": 9,
    "start_time": "2024-02-18T10:22:18.936Z"
   },
   {
    "duration": 2317,
    "start_time": "2024-02-18T10:22:27.030Z"
   },
   {
    "duration": 1235,
    "start_time": "2024-02-18T10:22:29.349Z"
   },
   {
    "duration": 1007,
    "start_time": "2024-02-18T10:22:30.585Z"
   },
   {
    "duration": 531,
    "start_time": "2024-02-18T10:22:31.593Z"
   },
   {
    "duration": 6,
    "start_time": "2024-02-18T10:22:32.126Z"
   },
   {
    "duration": 148,
    "start_time": "2024-02-18T10:22:32.133Z"
   },
   {
    "duration": 2,
    "start_time": "2024-02-18T10:22:32.283Z"
   },
   {
    "duration": 335,
    "start_time": "2024-02-18T10:22:32.286Z"
   },
   {
    "duration": 112,
    "start_time": "2024-02-18T10:22:32.623Z"
   },
   {
    "duration": 105,
    "start_time": "2024-02-18T10:22:32.736Z"
   },
   {
    "duration": 94,
    "start_time": "2024-02-18T10:22:32.843Z"
   },
   {
    "duration": 70,
    "start_time": "2024-02-18T10:22:32.938Z"
   },
   {
    "duration": 137,
    "start_time": "2024-02-18T10:22:33.010Z"
   },
   {
    "duration": 127,
    "start_time": "2024-02-18T10:22:33.150Z"
   },
   {
    "duration": 51,
    "start_time": "2024-02-18T10:22:33.278Z"
   },
   {
    "duration": 100,
    "start_time": "2024-02-18T10:22:33.330Z"
   },
   {
    "duration": 12,
    "start_time": "2024-02-18T10:22:33.431Z"
   },
   {
    "duration": 43,
    "start_time": "2024-02-18T10:22:33.444Z"
   },
   {
    "duration": 11,
    "start_time": "2024-02-18T10:22:33.488Z"
   },
   {
    "duration": 3,
    "start_time": "2024-02-18T10:22:33.500Z"
   },
   {
    "duration": 19,
    "start_time": "2024-02-18T10:22:33.505Z"
   },
   {
    "duration": 101,
    "start_time": "2024-02-18T10:22:33.526Z"
   },
   {
    "duration": 17,
    "start_time": "2024-02-18T10:22:33.629Z"
   },
   {
    "duration": 7,
    "start_time": "2024-02-18T10:22:33.647Z"
   },
   {
    "duration": 1482,
    "start_time": "2024-02-18T10:22:33.665Z"
   },
   {
    "duration": 24,
    "start_time": "2024-02-18T10:22:35.148Z"
   },
   {
    "duration": 1834,
    "start_time": "2024-02-18T10:22:35.173Z"
   },
   {
    "duration": 480,
    "start_time": "2024-02-18T10:22:37.009Z"
   },
   {
    "duration": 21,
    "start_time": "2024-02-18T10:22:37.490Z"
   },
   {
    "duration": 3,
    "start_time": "2024-02-18T10:25:48.615Z"
   },
   {
    "duration": 2281,
    "start_time": "2024-02-18T10:26:06.313Z"
   },
   {
    "duration": 1180,
    "start_time": "2024-02-18T10:26:08.596Z"
   },
   {
    "duration": 1016,
    "start_time": "2024-02-18T10:26:09.778Z"
   },
   {
    "duration": 511,
    "start_time": "2024-02-18T10:26:10.796Z"
   },
   {
    "duration": 7,
    "start_time": "2024-02-18T10:26:11.309Z"
   },
   {
    "duration": 142,
    "start_time": "2024-02-18T10:26:11.318Z"
   },
   {
    "duration": 3,
    "start_time": "2024-02-18T10:26:11.465Z"
   },
   {
    "duration": 340,
    "start_time": "2024-02-18T10:26:11.469Z"
   },
   {
    "duration": 119,
    "start_time": "2024-02-18T10:26:11.810Z"
   },
   {
    "duration": 105,
    "start_time": "2024-02-18T10:26:11.932Z"
   },
   {
    "duration": 96,
    "start_time": "2024-02-18T10:26:12.039Z"
   },
   {
    "duration": 66,
    "start_time": "2024-02-18T10:26:12.136Z"
   },
   {
    "duration": 130,
    "start_time": "2024-02-18T10:26:12.204Z"
   },
   {
    "duration": 117,
    "start_time": "2024-02-18T10:26:12.335Z"
   },
   {
    "duration": 50,
    "start_time": "2024-02-18T10:26:12.454Z"
   },
   {
    "duration": 100,
    "start_time": "2024-02-18T10:26:12.506Z"
   },
   {
    "duration": 8,
    "start_time": "2024-02-18T10:26:12.608Z"
   },
   {
    "duration": 54,
    "start_time": "2024-02-18T10:26:12.618Z"
   },
   {
    "duration": 11,
    "start_time": "2024-02-18T10:26:12.673Z"
   },
   {
    "duration": 4,
    "start_time": "2024-02-18T10:26:12.685Z"
   },
   {
    "duration": 27,
    "start_time": "2024-02-18T10:26:12.690Z"
   },
   {
    "duration": 101,
    "start_time": "2024-02-18T10:26:12.719Z"
   },
   {
    "duration": 16,
    "start_time": "2024-02-18T10:26:12.822Z"
   },
   {
    "duration": 8,
    "start_time": "2024-02-18T10:26:12.840Z"
   },
   {
    "duration": 1484,
    "start_time": "2024-02-18T10:26:12.850Z"
   },
   {
    "duration": 21,
    "start_time": "2024-02-18T10:26:14.336Z"
   },
   {
    "duration": 6,
    "start_time": "2024-02-18T10:26:14.364Z"
   },
   {
    "duration": 470,
    "start_time": "2024-02-18T10:26:14.373Z"
   },
   {
    "duration": 25,
    "start_time": "2024-02-18T10:26:14.845Z"
   },
   {
    "duration": 4,
    "start_time": "2024-02-18T10:26:14.871Z"
   },
   {
    "duration": 11098,
    "start_time": "2024-02-18T10:26:40.687Z"
   },
   {
    "duration": 2271,
    "start_time": "2024-02-18T10:27:32.277Z"
   },
   {
    "duration": 1214,
    "start_time": "2024-02-18T10:27:34.551Z"
   },
   {
    "duration": 971,
    "start_time": "2024-02-18T10:27:35.767Z"
   },
   {
    "duration": 507,
    "start_time": "2024-02-18T10:27:36.739Z"
   },
   {
    "duration": 6,
    "start_time": "2024-02-18T10:27:37.248Z"
   },
   {
    "duration": 138,
    "start_time": "2024-02-18T10:27:37.265Z"
   },
   {
    "duration": 3,
    "start_time": "2024-02-18T10:27:37.404Z"
   },
   {
    "duration": 313,
    "start_time": "2024-02-18T10:27:37.409Z"
   },
   {
    "duration": 115,
    "start_time": "2024-02-18T10:27:37.724Z"
   },
   {
    "duration": 98,
    "start_time": "2024-02-18T10:27:37.840Z"
   },
   {
    "duration": 98,
    "start_time": "2024-02-18T10:27:37.940Z"
   },
   {
    "duration": 65,
    "start_time": "2024-02-18T10:27:38.040Z"
   },
   {
    "duration": 128,
    "start_time": "2024-02-18T10:27:38.107Z"
   },
   {
    "duration": 119,
    "start_time": "2024-02-18T10:27:38.238Z"
   },
   {
    "duration": 53,
    "start_time": "2024-02-18T10:27:38.359Z"
   },
   {
    "duration": 124,
    "start_time": "2024-02-18T10:27:38.414Z"
   },
   {
    "duration": 13,
    "start_time": "2024-02-18T10:27:38.541Z"
   },
   {
    "duration": 37,
    "start_time": "2024-02-18T10:27:38.565Z"
   },
   {
    "duration": 11,
    "start_time": "2024-02-18T10:27:38.604Z"
   },
   {
    "duration": 3,
    "start_time": "2024-02-18T10:27:38.617Z"
   },
   {
    "duration": 43,
    "start_time": "2024-02-18T10:27:38.622Z"
   },
   {
    "duration": 76,
    "start_time": "2024-02-18T10:27:38.667Z"
   },
   {
    "duration": 28,
    "start_time": "2024-02-18T10:27:38.745Z"
   },
   {
    "duration": 14,
    "start_time": "2024-02-18T10:27:38.774Z"
   },
   {
    "duration": 1540,
    "start_time": "2024-02-18T10:27:38.789Z"
   },
   {
    "duration": 20,
    "start_time": "2024-02-18T10:27:40.331Z"
   },
   {
    "duration": 28,
    "start_time": "2024-02-18T10:27:40.353Z"
   },
   {
    "duration": 471,
    "start_time": "2024-02-18T10:27:40.383Z"
   },
   {
    "duration": 22,
    "start_time": "2024-02-18T10:27:40.856Z"
   },
   {
    "duration": 14,
    "start_time": "2024-02-18T10:27:40.879Z"
   },
   {
    "duration": 1064696,
    "start_time": "2024-02-18T10:28:10.278Z"
   },
   {
    "duration": 4,
    "start_time": "2024-02-18T10:45:54.976Z"
   },
   {
    "duration": 17715,
    "start_time": "2024-02-18T10:45:54.982Z"
   },
   {
    "duration": 1119,
    "start_time": "2024-02-18T10:46:12.764Z"
   },
   {
    "duration": 1106,
    "start_time": "2024-02-18T10:46:13.885Z"
   },
   {
    "duration": 5,
    "start_time": "2024-02-18T10:46:14.993Z"
   }
  ],
  "kernelspec": {
   "display_name": "Python 3 (ipykernel)",
   "language": "python",
   "name": "python3"
  },
  "language_info": {
   "codemirror_mode": {
    "name": "ipython",
    "version": 3
   },
   "file_extension": ".py",
   "mimetype": "text/x-python",
   "name": "python",
   "nbconvert_exporter": "python",
   "pygments_lexer": "ipython3",
   "version": "3.9.5"
  },
  "toc": {
   "base_numbering": 1,
   "nav_menu": {},
   "number_sections": true,
   "sideBar": true,
   "skip_h1_title": true,
   "title_cell": "Table of Contents",
   "title_sidebar": "Contents",
   "toc_cell": false,
   "toc_position": {},
   "toc_section_display": true,
   "toc_window_display": false
  }
 },
 "nbformat": 4,
 "nbformat_minor": 2
}
