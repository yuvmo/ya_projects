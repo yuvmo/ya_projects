{
 "cells": [
  {
   "cell_type": "markdown",
   "metadata": {
    "toc": true
   },
   "source": [
    "<h1>Содержание<span class=\"tocSkip\"></span></h1>\n",
    "<div class=\"toc\"><ul class=\"toc-item\"><li><span><a href=\"#Подготовка\" data-toc-modified-id=\"Подготовка-1\"><span class=\"toc-item-num\">1&nbsp;&nbsp;</span>Подготовка</a></span><ul class=\"toc-item\"><li><span><a href=\"#Загрузка-библиотек-и-данных\" data-toc-modified-id=\"Загрузка-библиотек-и-данных-1.1\"><span class=\"toc-item-num\">1.1&nbsp;&nbsp;</span>Загрузка библиотек и данных</a></span></li><li><span><a href=\"#Предобработка\" data-toc-modified-id=\"Предобработка-1.2\"><span class=\"toc-item-num\">1.2&nbsp;&nbsp;</span>Предобработка</a></span></li></ul></li><li><span><a href=\"#Обучение\" data-toc-modified-id=\"Обучение-2\"><span class=\"toc-item-num\">2&nbsp;&nbsp;</span>Обучение</a></span><ul class=\"toc-item\"><li><span><a href=\"#Логистическая-регрессия\" data-toc-modified-id=\"Логистическая-регрессия-2.1\"><span class=\"toc-item-num\">2.1&nbsp;&nbsp;</span>Логистическая регрессия</a></span></li><li><span><a href=\"#Дерево-решений\" data-toc-modified-id=\"Дерево-решений-2.2\"><span class=\"toc-item-num\">2.2&nbsp;&nbsp;</span>Дерево решений</a></span></li><li><span><a href=\"#Случайный-лес\" data-toc-modified-id=\"Случайный-лес-2.3\"><span class=\"toc-item-num\">2.3&nbsp;&nbsp;</span>Случайный лес</a></span></li><li><span><a href=\"#CatBoostClassifier\" data-toc-modified-id=\"CatBoostClassifier-2.4\"><span class=\"toc-item-num\">2.4&nbsp;&nbsp;</span>CatBoostClassifier</a></span></li></ul></li><li><span><a href=\"#Выводы\" data-toc-modified-id=\"Выводы-3\"><span class=\"toc-item-num\">3&nbsp;&nbsp;</span>Выводы</a></span></li><li><span><a href=\"#Чек-лист-проверки\" data-toc-modified-id=\"Чек-лист-проверки-4\"><span class=\"toc-item-num\">4&nbsp;&nbsp;</span>Чек-лист проверки</a></span></li></ul></div>"
   ]
  },
  {
   "cell_type": "markdown",
   "metadata": {},
   "source": [
    "# Проект для «Викишоп»"
   ]
  },
  {
   "cell_type": "markdown",
   "metadata": {},
   "source": [
    "Интернет-магазин «Викишоп» запускает новый сервис. Теперь пользователи могут редактировать и дополнять описания товаров, как в вики-сообществах. То есть клиенты предлагают свои правки и комментируют изменения других. Магазину нужен инструмент, который будет искать токсичные комментарии и отправлять их на модерацию. \n",
    "\n",
    "Обучите модель классифицировать комментарии на позитивные и негативные. В вашем распоряжении набор данных с разметкой о токсичности правок.\n",
    "\n",
    "Постройте модель со значением метрики качества *F1* не меньше 0.75. \n",
    "\n",
    "**Инструкция по выполнению проекта**\n",
    "\n",
    "1. Загрузите и подготовьте данные.\n",
    "2. Обучите разные модели. \n",
    "3. Сделайте выводы.\n",
    "\n",
    "Для выполнения проекта применять *BERT* необязательно, но вы можете попробовать.\n",
    "\n",
    "**Описание данных**\n",
    "\n",
    "Данные находятся в файле `toxic_comments.csv`. Столбец *text* в нём содержит текст комментария, а *toxic* — целевой признак."
   ]
  },
  {
   "cell_type": "markdown",
   "metadata": {},
   "source": [
    "## Подготовка"
   ]
  },
  {
   "cell_type": "markdown",
   "metadata": {},
   "source": [
    "### Загрузка библиотек и данных"
   ]
  },
  {
   "cell_type": "code",
   "execution_count": 23,
   "metadata": {},
   "outputs": [
    {
     "name": "stdout",
     "output_type": "stream",
     "text": [
      "Requirement already satisfied: imbalanced-learn in /opt/conda/lib/python3.9/site-packages (0.12.0)\n",
      "Requirement already satisfied: threadpoolctl>=2.0.0 in /opt/conda/lib/python3.9/site-packages (from imbalanced-learn) (3.1.0)\n",
      "Requirement already satisfied: joblib>=1.1.1 in /opt/conda/lib/python3.9/site-packages (from imbalanced-learn) (1.3.2)\n",
      "Requirement already satisfied: numpy>=1.17.3 in /opt/conda/lib/python3.9/site-packages (from imbalanced-learn) (1.21.1)\n",
      "Requirement already satisfied: scipy>=1.5.0 in /opt/conda/lib/python3.9/site-packages (from imbalanced-learn) (1.9.1)\n",
      "Requirement already satisfied: scikit-learn>=1.0.2 in /opt/conda/lib/python3.9/site-packages (from imbalanced-learn) (1.4.1.post1)\n",
      "Note: you may need to restart the kernel to use updated packages.\n"
     ]
    }
   ],
   "source": [
    "pip install imbalanced-learn"
   ]
  },
  {
   "cell_type": "code",
   "execution_count": 24,
   "metadata": {},
   "outputs": [
    {
     "name": "stderr",
     "output_type": "stream",
     "text": [
      "[nltk_data] Downloading package averaged_perceptron_tagger to\n",
      "[nltk_data]     /home/jovyan/nltk_data...\n",
      "[nltk_data]   Package averaged_perceptron_tagger is already up-to-\n",
      "[nltk_data]       date!\n",
      "[nltk_data] Downloading package punkt to /home/jovyan/nltk_data...\n",
      "[nltk_data]   Package punkt is already up-to-date!\n"
     ]
    }
   ],
   "source": [
    "import numpy as np\n",
    "import pandas as pd\n",
    "import re\n",
    "import nltk\n",
    "import spacy\n",
    "nltk.download('averaged_perceptron_tagger')\n",
    "nltk.download('punkt')\n",
    "from nltk.corpus import stopwords as nltk_stopwords\n",
    "from nltk.corpus import wordnet\n",
    "from nltk.stem import WordNetLemmatizer\n",
    "from nltk.tokenize import word_tokenize\n",
    "from sklearn.feature_extraction.text import TfidfVectorizer\n",
    "from sklearn.model_selection import train_test_split, cross_val_score, GridSearchCV\n",
    "from sklearn.linear_model import LogisticRegression, SGDClassifier\n",
    "from sklearn.tree import DecisionTreeClassifier\n",
    "from sklearn.ensemble import RandomForestClassifier\n",
    "from sklearn.metrics import f1_score\n",
    "from sklearn.utils import shuffle\n",
    "from catboost import CatBoostClassifier\n",
    "from pymystem3 import Mystem \n",
    "import warnings\n",
    "warnings.filterwarnings('ignore')\n",
    "\n",
    "from imblearn.pipeline import Pipeline\n",
    "from imblearn.pipeline import make_pipeline\n",
    "from imblearn.over_sampling import RandomOverSampler"
   ]
  },
  {
   "cell_type": "code",
   "execution_count": 25,
   "metadata": {},
   "outputs": [],
   "source": [
    "comments = pd.read_csv('/datasets/toxic_comments.csv')"
   ]
  },
  {
   "cell_type": "code",
   "execution_count": 26,
   "metadata": {},
   "outputs": [
    {
     "data": {
      "text/html": [
       "<div>\n",
       "<style scoped>\n",
       "    .dataframe tbody tr th:only-of-type {\n",
       "        vertical-align: middle;\n",
       "    }\n",
       "\n",
       "    .dataframe tbody tr th {\n",
       "        vertical-align: top;\n",
       "    }\n",
       "\n",
       "    .dataframe thead th {\n",
       "        text-align: right;\n",
       "    }\n",
       "</style>\n",
       "<table border=\"1\" class=\"dataframe\">\n",
       "  <thead>\n",
       "    <tr style=\"text-align: right;\">\n",
       "      <th></th>\n",
       "      <th>Unnamed: 0</th>\n",
       "      <th>text</th>\n",
       "      <th>toxic</th>\n",
       "    </tr>\n",
       "  </thead>\n",
       "  <tbody>\n",
       "    <tr>\n",
       "      <th>0</th>\n",
       "      <td>0</td>\n",
       "      <td>Explanation\\nWhy the edits made under my usern...</td>\n",
       "      <td>0</td>\n",
       "    </tr>\n",
       "    <tr>\n",
       "      <th>1</th>\n",
       "      <td>1</td>\n",
       "      <td>D'aww! He matches this background colour I'm s...</td>\n",
       "      <td>0</td>\n",
       "    </tr>\n",
       "    <tr>\n",
       "      <th>2</th>\n",
       "      <td>2</td>\n",
       "      <td>Hey man, I'm really not trying to edit war. It...</td>\n",
       "      <td>0</td>\n",
       "    </tr>\n",
       "    <tr>\n",
       "      <th>3</th>\n",
       "      <td>3</td>\n",
       "      <td>\"\\nMore\\nI can't make any real suggestions on ...</td>\n",
       "      <td>0</td>\n",
       "    </tr>\n",
       "    <tr>\n",
       "      <th>4</th>\n",
       "      <td>4</td>\n",
       "      <td>You, sir, are my hero. Any chance you remember...</td>\n",
       "      <td>0</td>\n",
       "    </tr>\n",
       "  </tbody>\n",
       "</table>\n",
       "</div>"
      ],
      "text/plain": [
       "   Unnamed: 0                                               text  toxic\n",
       "0           0  Explanation\\nWhy the edits made under my usern...      0\n",
       "1           1  D'aww! He matches this background colour I'm s...      0\n",
       "2           2  Hey man, I'm really not trying to edit war. It...      0\n",
       "3           3  \"\\nMore\\nI can't make any real suggestions on ...      0\n",
       "4           4  You, sir, are my hero. Any chance you remember...      0"
      ]
     },
     "execution_count": 26,
     "metadata": {},
     "output_type": "execute_result"
    }
   ],
   "source": [
    "comments.head(5)"
   ]
  },
  {
   "cell_type": "code",
   "execution_count": 27,
   "metadata": {},
   "outputs": [
    {
     "name": "stdout",
     "output_type": "stream",
     "text": [
      "<class 'pandas.core.frame.DataFrame'>\n",
      "RangeIndex: 159292 entries, 0 to 159291\n",
      "Data columns (total 3 columns):\n",
      " #   Column      Non-Null Count   Dtype \n",
      "---  ------      --------------   ----- \n",
      " 0   Unnamed: 0  159292 non-null  int64 \n",
      " 1   text        159292 non-null  object\n",
      " 2   toxic       159292 non-null  int64 \n",
      "dtypes: int64(2), object(1)\n",
      "memory usage: 3.6+ MB\n"
     ]
    }
   ],
   "source": [
    "comments.info()"
   ]
  },
  {
   "cell_type": "code",
   "execution_count": 28,
   "metadata": {},
   "outputs": [
    {
     "name": "stdout",
     "output_type": "stream",
     "text": [
      "Дубликатов: 0\n"
     ]
    }
   ],
   "source": [
    "print('Дубликатов:', comments.duplicated().sum())"
   ]
  },
  {
   "cell_type": "code",
   "execution_count": 29,
   "metadata": {},
   "outputs": [
    {
     "name": "stdout",
     "output_type": "stream",
     "text": [
      "Пропусков:\n"
     ]
    },
    {
     "data": {
      "text/plain": [
       "Unnamed: 0    0\n",
       "text          0\n",
       "toxic         0\n",
       "dtype: int64"
      ]
     },
     "execution_count": 29,
     "metadata": {},
     "output_type": "execute_result"
    }
   ],
   "source": [
    "print('Пропусков:')\n",
    "comments.isna().sum()"
   ]
  },
  {
   "cell_type": "code",
   "execution_count": 30,
   "metadata": {},
   "outputs": [
    {
     "name": "stdout",
     "output_type": "stream",
     "text": [
      "Соотношение в целевом признаке:\n"
     ]
    },
    {
     "data": {
      "text/plain": [
       "0    0.898388\n",
       "1    0.101612\n",
       "Name: toxic, dtype: float64"
      ]
     },
     "execution_count": 30,
     "metadata": {},
     "output_type": "execute_result"
    }
   ],
   "source": [
    "print('Соотношение в целевом признаке:') \n",
    "comments.toxic.value_counts(normalize=True)"
   ]
  },
  {
   "cell_type": "markdown",
   "metadata": {},
   "source": [
    "Выводы:\n",
    "Всего у нас 159292 комментария. Пропуски и дубликаты отсутствуют. Комментарии на английском языке, могут содержаться неизвестные структуры данных (такие как \"\\nMore\\n\"). Стоит избавиться от колонки аннэймд, так как она дублирует индексы."
   ]
  },
  {
   "cell_type": "markdown",
   "metadata": {},
   "source": [
    "### Предобработка"
   ]
  },
  {
   "cell_type": "code",
   "execution_count": 31,
   "metadata": {},
   "outputs": [],
   "source": [
    "comments = comments.drop(['Unnamed: 0'], axis=1)"
   ]
  },
  {
   "cell_type": "code",
   "execution_count": 32,
   "metadata": {},
   "outputs": [],
   "source": [
    "def words_only(text):\n",
    "    return ' '.join(re.sub(r'[^a-zA-Z]', ' ', text.lower()).split())\n",
    "\n",
    "def lemmatize_text(text, nlp):\n",
    "    return [token.lemma_ for token in nlp(text)]\n",
    "\n",
    "def remove_stopwords(text, stopwords):\n",
    "    return [word for word in text if not word in stopwords and len(word) > 1]\n",
    "\n",
    "def clean_text(text, nlp, stopwords):\n",
    "\n",
    "    # очистка от символов\n",
    "    text_words = words_only(text)\n",
    "\n",
    "    # лемматизация\n",
    "    text_lemmas = lemmatize_text(text_words, nlp)\n",
    "\n",
    "    # очистка от стоп-слов\n",
    "    return ' '.join(remove_stopwords(text_lemmas, stopwords))"
   ]
  },
  {
   "cell_type": "code",
   "execution_count": 33,
   "metadata": {},
   "outputs": [
    {
     "name": "stderr",
     "output_type": "stream",
     "text": [
      "[nltk_data] Downloading package stopwords to /home/jovyan/nltk_data...\n",
      "[nltk_data]   Package stopwords is already up-to-date!\n"
     ]
    }
   ],
   "source": [
    "nlp = spacy.load('en_core_web_sm', disable=['parser', 'ner'])\n",
    "\n",
    "nltk.download('stopwords')\n",
    "stopwords = nltk_stopwords.words('english')\n",
    "\n",
    "lemmas = []\n",
    "\n",
    "for i in range(len(comments)):\n",
    "\n",
    "    lemmas.append(clean_text(comments['text'][i], nlp, stopwords))\n",
    "\n",
    "comments['text'] = lemmas"
   ]
  },
  {
   "cell_type": "code",
   "execution_count": 34,
   "metadata": {},
   "outputs": [
    {
     "data": {
      "text/html": [
       "<div>\n",
       "<style scoped>\n",
       "    .dataframe tbody tr th:only-of-type {\n",
       "        vertical-align: middle;\n",
       "    }\n",
       "\n",
       "    .dataframe tbody tr th {\n",
       "        vertical-align: top;\n",
       "    }\n",
       "\n",
       "    .dataframe thead th {\n",
       "        text-align: right;\n",
       "    }\n",
       "</style>\n",
       "<table border=\"1\" class=\"dataframe\">\n",
       "  <thead>\n",
       "    <tr style=\"text-align: right;\">\n",
       "      <th></th>\n",
       "      <th>text</th>\n",
       "      <th>toxic</th>\n",
       "    </tr>\n",
       "  </thead>\n",
       "  <tbody>\n",
       "    <tr>\n",
       "      <th>0</th>\n",
       "      <td>explanation edit make username hardcore metall...</td>\n",
       "      <td>0</td>\n",
       "    </tr>\n",
       "    <tr>\n",
       "      <th>1</th>\n",
       "      <td>aww match background colour seemingly stuck th...</td>\n",
       "      <td>0</td>\n",
       "    </tr>\n",
       "    <tr>\n",
       "      <th>2</th>\n",
       "      <td>hey man really try edit war guy constantly rem...</td>\n",
       "      <td>0</td>\n",
       "    </tr>\n",
       "    <tr>\n",
       "      <th>3</th>\n",
       "      <td>make real suggestion improvement wonder sectio...</td>\n",
       "      <td>0</td>\n",
       "    </tr>\n",
       "    <tr>\n",
       "      <th>4</th>\n",
       "      <td>sir hero chance remember page</td>\n",
       "      <td>0</td>\n",
       "    </tr>\n",
       "  </tbody>\n",
       "</table>\n",
       "</div>"
      ],
      "text/plain": [
       "                                                text  toxic\n",
       "0  explanation edit make username hardcore metall...      0\n",
       "1  aww match background colour seemingly stuck th...      0\n",
       "2  hey man really try edit war guy constantly rem...      0\n",
       "3  make real suggestion improvement wonder sectio...      0\n",
       "4                      sir hero chance remember page      0"
      ]
     },
     "execution_count": 34,
     "metadata": {},
     "output_type": "execute_result"
    }
   ],
   "source": [
    "comments.head()"
   ]
  },
  {
   "cell_type": "code",
   "execution_count": 35,
   "metadata": {},
   "outputs": [],
   "source": [
    "#разделяем выборки в соотношении 80/10/10:\n",
    "features = comments.drop(['toxic'], axis=1) \n",
    "target = comments.toxic\n",
    "\n",
    "features_train, features_valid, target_train, target_valid = train_test_split(features, \n",
    "                                                                              target, \n",
    "                                                                              test_size=.2, \n",
    "                                                                              random_state=12345)\n",
    "\n",
    "features_valid, features_test, target_valid, target_test = train_test_split(features_valid, \n",
    "                                                                            target_valid, \n",
    "                                                                            test_size=.5,\n",
    "                                                                            random_state=12345)"
   ]
  },
  {
   "cell_type": "code",
   "execution_count": 36,
   "metadata": {},
   "outputs": [
    {
     "name": "stdout",
     "output_type": "stream",
     "text": [
      "(127433, 1)\n",
      "(127433,)\n",
      "(15929, 1)\n",
      "(15929,)\n",
      "(15930, 1)\n",
      "(15930,)\n"
     ]
    }
   ],
   "source": [
    "#размер выборок\n",
    "for i in [features_train, target_train, features_valid, target_valid, features_test, target_test]:\n",
    "    print(i.shape)"
   ]
  },
  {
   "cell_type": "code",
   "execution_count": 37,
   "metadata": {},
   "outputs": [
    {
     "name": "stdout",
     "output_type": "stream",
     "text": [
      "Доля значений \"1\" в тренировочной выборке: 0.10166911239631807\n"
     ]
    }
   ],
   "source": [
    "indices_1 = [i for i,x in enumerate(target_train) if x == 1]\n",
    "count_1 = len(indices_1)\n",
    "\n",
    "indices_0 = [i for i,x in enumerate(target_train) if x == 0]\n",
    "count_0 = len(indices_0)\n",
    "\n",
    "print('Доля значений \"1\" в тренировочной выборке:', len(indices_1) / (len(indices_1) + len(indices_0)))"
   ]
  },
  {
   "cell_type": "code",
   "execution_count": 38,
   "metadata": {},
   "outputs": [
    {
     "name": "stdout",
     "output_type": "stream",
     "text": [
      "Соотношение 1 к 0 в тренировочной выборке:\n",
      "0    0.5\n",
      "1    0.5\n",
      "Name: toxic, dtype: float64\n",
      "\n",
      "(25912,)\n",
      "(25912,)\n"
     ]
    }
   ],
   "source": [
    "#уменьшаю количество \"0\" в выборках train:\n",
    "\n",
    "comments_train = comments.iloc[target_train.index]\n",
    "target_train_0 = comments_train[comments_train['toxic'] == 0]['toxic']\n",
    "target_train_1 = comments_train[comments_train['toxic'] == 1]['toxic']\n",
    "\n",
    "\n",
    "target_train_0_resample = target_train_0.sample(target_train_1.shape[0], random_state=12345)\n",
    "target_train_resample = pd.concat([target_train_0_resample, target_train_1])\n",
    "\n",
    "features_train_resample = comments.iloc[target_train_resample.index]\n",
    "\n",
    "features_train_resample, target_train_resample = shuffle(features_train_resample,\n",
    "                                                         target_train_resample,\n",
    "                                                         random_state=12345)\n",
    "\n",
    "features_train_resample = features_train_resample.text \n",
    "\n",
    "print('Соотношение 1 к 0 в тренировочной выборке:')\n",
    "print(target_train_resample.value_counts(normalize=True))\n",
    "print()\n",
    "print(features_train_resample.shape)\n",
    "print(target_train_resample.shape)"
   ]
  },
  {
   "cell_type": "markdown",
   "metadata": {},
   "source": [
    "В рамках предобработки мы удалили ненужный столбец, лемматезировали текст, избавили его от ненужных для анализа символов и стоп-слов. Также мы сбалансировали веса в целевом признаке."
   ]
  },
  {
   "cell_type": "markdown",
   "metadata": {},
   "source": [
    "## Обучение"
   ]
  },
  {
   "cell_type": "markdown",
   "metadata": {},
   "source": [
    "### Логистическая регрессия"
   ]
  },
  {
   "cell_type": "code",
   "execution_count": 39,
   "metadata": {},
   "outputs": [],
   "source": [
    "features_train = features_train.text"
   ]
  },
  {
   "cell_type": "code",
   "execution_count": 40,
   "metadata": {
    "scrolled": true
   },
   "outputs": [
    {
     "name": "stdout",
     "output_type": "stream",
     "text": [
      "F1 логистической регрессии = 0.77\n",
      "при параметрах {'lr__C': 5, 'lr__class_weight': 'balanced', 'lr__max_iter': 200, 'lr__random_state': 12345, 'lr__solver': 'saga'}\n",
      "\n",
      "F1 логистической регрессии на валидации = 0.77\n",
      "\n",
      "F1 логистической регрессии на тесте = 0.77\n",
      "CPU times: user 9min 24s, sys: 3min 52s, total: 13min 16s\n",
      "Wall time: 13min 17s\n"
     ]
    }
   ],
   "source": [
    "%%time\n",
    "\n",
    "#обучение:\n",
    "pipeline = Pipeline([(\"vect\", TfidfVectorizer(stop_words='english', sublinear_tf=True)), \n",
    "                     (\"lr\", LogisticRegression())])\n",
    "    \n",
    "parameters = {'lr__solver': ('liblinear', 'saga','newton-cg', 'lbfgs'),\n",
    "              'lr__C': (.1, 1, 5, 10),\n",
    "              'lr__random_state': ([12345]),\n",
    "              'lr__max_iter': ([200]),\n",
    "              'lr__class_weight': (['balanced'])} \n",
    "                                                  \n",
    "gscv = GridSearchCV(pipeline, parameters, scoring='f1', cv=3, n_jobs=-1)\n",
    "\n",
    "gscv.fit(features_train, target_train)\n",
    "\n",
    "mts = gscv.cv_results_['mean_test_score']\n",
    "lr_train_f1 = max(mts)\n",
    "\n",
    "print('F1 логистической регрессии =', round(lr_train_f1,2))\n",
    "print('при параметрах', gscv.best_params_)\n",
    "print()\n",
    "\n",
    "#валидация:\n",
    "predictions_valid = gscv.predict(features_valid.text)\n",
    "lr_valid_f1 = f1_score(target_valid, predictions_valid)\n",
    "print('F1 логистической регрессии на валидации =', round(lr_valid_f1,2))\n",
    "print()\n",
    "\n",
    "#тестирование:\n",
    "predictions_test = gscv.predict(features_test.text)\n",
    "lr_test_f1 = f1_score(target_test, predictions_test)\n",
    "print('F1 логистической регрессии на тесте =', round(lr_test_f1,2))"
   ]
  },
  {
   "cell_type": "markdown",
   "metadata": {},
   "source": [
    "### Дерево решений"
   ]
  },
  {
   "cell_type": "code",
   "execution_count": 46,
   "metadata": {},
   "outputs": [
    {
     "name": "stdout",
     "output_type": "stream",
     "text": [
      "F1 дерева решений = 0.82\n",
      "при параметрах {'DecisionTreeClassifier__max_depth': 96}\n",
      "\n",
      "F1 дерева решений на валидации = 0.59\n",
      "\n",
      "F1 дерева решений на тесте = 0.59\n",
      "CPU times: user 5min 48s, sys: 657 ms, total: 5min 49s\n",
      "Wall time: 5min 49s\n"
     ]
    }
   ],
   "source": [
    "%%time\n",
    "\n",
    "#обучение:\n",
    "pipeline = Pipeline([('tfidf', TfidfVectorizer(stop_words='english')), \n",
    "                    ('random_over_sampler', RandomOverSampler()),\n",
    "                    ('DecisionTreeClassifier', DecisionTreeClassifier())])\n",
    "    \n",
    "parameters = {'DecisionTreeClassifier__max_depth': [x for x in range(50,100,2)]}\n",
    "\n",
    "gscv = GridSearchCV(pipeline, parameters, scoring='f1', cv=3, n_jobs=-1)\n",
    "\n",
    "gscv.fit(features_train_resample, target_train_resample)\n",
    "\n",
    "mts = gscv.cv_results_['mean_test_score']\n",
    "dtc_train_f1 = max(mts)\n",
    "\n",
    "print('F1 дерева решений =', round(dtc_train_f1,2))\n",
    "print('при параметрах', gscv.best_params_)\n",
    "print()\n",
    "\n",
    "#валидация:\n",
    "predictions_valid = gscv.predict(features_valid.text)\n",
    "dtc_valid_f1 = f1_score(target_valid, predictions_valid)\n",
    "print('F1 дерева решений на валидации =', round(dtc_valid_f1,2))\n",
    "print()\n",
    "\n",
    "#тестирование:\n",
    "predictions_test = gscv.predict(features_test.text)\n",
    "dtc_test_f1 = f1_score(target_test, predictions_test)\n",
    "print('F1 дерева решений на тесте =', round(dtc_test_f1,2))"
   ]
  },
  {
   "cell_type": "markdown",
   "metadata": {},
   "source": [
    "### Случайный лес"
   ]
  },
  {
   "cell_type": "code",
   "execution_count": 47,
   "metadata": {},
   "outputs": [
    {
     "name": "stdout",
     "output_type": "stream",
     "text": [
      "F1 случайного леса = 0.78\n",
      "при параметрах {'rfc__class_weight': 'balanced', 'rfc__criterion': 'entropy', 'rfc__max_depth': 9, 'rfc__n_estimators': 29, 'rfc__random_state': 12345}\n",
      "\n",
      "F1 случайного леса на валидации = 0.36\n",
      "\n",
      "F1 случайного леса на тесте = 0.36\n",
      "CPU times: user 7min 48s, sys: 1.11 s, total: 7min 49s\n",
      "Wall time: 7min 49s\n"
     ]
    }
   ],
   "source": [
    "%%time\n",
    "\n",
    "#обучение:\n",
    "pipeline = Pipeline([(\"vect\", TfidfVectorizer(stop_words='english')), \n",
    "                     (\"rfc\", RandomForestClassifier())])\n",
    "    \n",
    "parameters = {'rfc__n_estimators': ([x for x in range(10, 30)]),\n",
    "              'rfc__random_state': ([12345]),\n",
    "              'rfc__max_depth': ([x for x in range(1, 10)]),\n",
    "              'rfc__criterion': (['entropy']),\n",
    "              'rfc__class_weight': (['balanced'])}\n",
    "\n",
    "gscv = GridSearchCV(pipeline, parameters, scoring='f1', cv=3, n_jobs=-1)\n",
    "\n",
    "gscv.fit(features_train_resample, target_train_resample)\n",
    "\n",
    "mts = gscv.cv_results_['mean_test_score']\n",
    "rfc_train_f1 = max(mts)\n",
    "\n",
    "print('F1 случайного леса =', round(rfc_train_f1,2))\n",
    "print('при параметрах', gscv.best_params_)\n",
    "print()\n",
    "\n",
    "#валидация:\n",
    "predictions_valid = gscv.predict(features_valid.text)\n",
    "rfc_valid_f1 = f1_score(target_valid, predictions_valid)\n",
    "print('F1 случайного леса на валидации =', round(rfc_valid_f1,2))\n",
    "print()\n",
    "\n",
    "#тестирование:\n",
    "predictions_test = gscv.predict(features_test.text)\n",
    "rfc_test_f1 = f1_score(target_test, predictions_test)\n",
    "print('F1 случайного леса на тесте =', round(rfc_test_f1,2))"
   ]
  },
  {
   "cell_type": "markdown",
   "metadata": {},
   "source": [
    "### CatBoostClassifier"
   ]
  },
  {
   "cell_type": "code",
   "execution_count": 48,
   "metadata": {},
   "outputs": [
    {
     "name": "stdout",
     "output_type": "stream",
     "text": [
      "F1 CatBoostClassifier = 0.88\n",
      "при параметрах {'cbc__class_weights': (1, 1), 'cbc__iterations': 200, 'cbc__verbose': False}\n",
      "\n",
      "F1 CatBoostClassifier на валидации = 0.73\n",
      "\n",
      "F1 CatBoostClassifier на тесте = 0.73\n",
      "CPU times: user 9min 11s, sys: 3.59 s, total: 9min 14s\n",
      "Wall time: 9min 21s\n"
     ]
    }
   ],
   "source": [
    "%%time\n",
    "\n",
    "#обучение:\n",
    "pipeline = Pipeline([(\"vect\", TfidfVectorizer(stop_words='english')), \n",
    "                     (\"cbc\", CatBoostClassifier())])\n",
    "    \n",
    "parameters = {'cbc__verbose': ([False]),\n",
    "              'cbc__iterations': ([200]),\n",
    "              'cbc__class_weights':([(1, 1), (1, 11)])} #вот вообще не уверена, что class_weights тут нужен\n",
    "\n",
    "gscv = GridSearchCV(pipeline, parameters, scoring='f1', cv=3, n_jobs=-1)\n",
    "\n",
    "gscv.fit(features_train_resample, target_train_resample)\n",
    "\n",
    "mts = gscv.cv_results_['mean_test_score']\n",
    "cbc_train_f1 = max(mts)\n",
    "\n",
    "print('F1 CatBoostClassifier =', round(cbc_train_f1,2))\n",
    "print('при параметрах', gscv.best_params_)\n",
    "print()\n",
    "\n",
    "#валидация:\n",
    "predictions_valid = gscv.predict(features_valid.text)\n",
    "cbc_valid_f1 = f1_score(target_valid, predictions_valid)\n",
    "print('F1 CatBoostClassifier на валидации =', round(cbc_valid_f1,2))\n",
    "print()\n",
    "\n",
    "#тестирование:\n",
    "predictions_test = gscv.predict(features_test.text)\n",
    "cbc_test_f1 = f1_score(target_test, predictions_test)\n",
    "print('F1 CatBoostClassifier на тесте =', round(cbc_test_f1,2))"
   ]
  },
  {
   "cell_type": "markdown",
   "metadata": {},
   "source": [
    "## Выводы"
   ]
  },
  {
   "cell_type": "code",
   "execution_count": 49,
   "metadata": {},
   "outputs": [
    {
     "data": {
      "text/html": [
       "<div>\n",
       "<style scoped>\n",
       "    .dataframe tbody tr th:only-of-type {\n",
       "        vertical-align: middle;\n",
       "    }\n",
       "\n",
       "    .dataframe tbody tr th {\n",
       "        vertical-align: top;\n",
       "    }\n",
       "\n",
       "    .dataframe thead th {\n",
       "        text-align: right;\n",
       "    }\n",
       "</style>\n",
       "<table border=\"1\" class=\"dataframe\">\n",
       "  <thead>\n",
       "    <tr style=\"text-align: right;\">\n",
       "      <th></th>\n",
       "      <th>F1 на обучающей выборке</th>\n",
       "      <th>F1 на валидационной выборке</th>\n",
       "      <th>F1 на тестовой выборке (финальный)</th>\n",
       "    </tr>\n",
       "  </thead>\n",
       "  <tbody>\n",
       "    <tr>\n",
       "      <th>LogisticRegression</th>\n",
       "      <td>0.766619</td>\n",
       "      <td>0.766770</td>\n",
       "      <td>0.770775</td>\n",
       "    </tr>\n",
       "    <tr>\n",
       "      <th>CatBoostClassifier</th>\n",
       "      <td>0.877837</td>\n",
       "      <td>0.731931</td>\n",
       "      <td>0.728441</td>\n",
       "    </tr>\n",
       "    <tr>\n",
       "      <th>DecisionTreeClassifier</th>\n",
       "      <td>0.822708</td>\n",
       "      <td>0.591025</td>\n",
       "      <td>0.592953</td>\n",
       "    </tr>\n",
       "    <tr>\n",
       "      <th>RandomForestClassifier</th>\n",
       "      <td>0.783349</td>\n",
       "      <td>0.363170</td>\n",
       "      <td>0.364452</td>\n",
       "    </tr>\n",
       "  </tbody>\n",
       "</table>\n",
       "</div>"
      ],
      "text/plain": [
       "                        F1 на обучающей выборке  F1 на валидационной выборке  \\\n",
       "LogisticRegression                     0.766619                     0.766770   \n",
       "CatBoostClassifier                     0.877837                     0.731931   \n",
       "DecisionTreeClassifier                 0.822708                     0.591025   \n",
       "RandomForestClassifier                 0.783349                     0.363170   \n",
       "\n",
       "                        F1 на тестовой выборке (финальный)  \n",
       "LogisticRegression                                0.770775  \n",
       "CatBoostClassifier                                0.728441  \n",
       "DecisionTreeClassifier                            0.592953  \n",
       "RandomForestClassifier                            0.364452  "
      ]
     },
     "execution_count": 49,
     "metadata": {},
     "output_type": "execute_result"
    }
   ],
   "source": [
    "index = ['LogisticRegression',\n",
    "         'DecisionTreeClassifier',\n",
    "         'CatBoostClassifier',\n",
    "         'RandomForestClassifier'\n",
    "        ]\n",
    "\n",
    "data = {'F1 на обучающей выборке': [lr_train_f1,\n",
    "                                    dtc_train_f1,\n",
    "                                    cbc_train_f1,\n",
    "                                    rfc_train_f1],\n",
    "        \n",
    "        'F1 на валидационной выборке': [lr_valid_f1,\n",
    "                                        dtc_valid_f1,\n",
    "                                        cbc_valid_f1,\n",
    "                                        rfc_valid_f1],\n",
    "        \n",
    "        'F1 на тестовой выборке (финальный)': [lr_test_f1,\n",
    "                                               dtc_test_f1,\n",
    "                                               cbc_test_f1,\n",
    "                                               rfc_test_f1]}\n",
    "\n",
    "f1_data = pd.DataFrame(data=data, index=index)\n",
    "\n",
    "f1_data.sort_values(by='F1 на тестовой выборке (финальный)', ascending=False)"
   ]
  },
  {
   "cell_type": "markdown",
   "metadata": {},
   "source": [
    "**Выводы:**\n",
    "  \n",
    "В рамках предобработки мы загрузили данные, проверили их на наличие пропусков и дубликатов. Избавились от ненужной колонки, которая дублировала индекс, лемматизировали текст, а также избавились от ненужных символов и стоп-слов. Сбалансировали данные и обучили 4 модели. Лучший показатель показала логистическая регрессия с F1 = 0.77, что означает, что нам подходит только данная модель."
   ]
  }
 ],
 "metadata": {
  "ExecuteTimeLog": [
   {
    "duration": 5114,
    "start_time": "2024-03-15T21:12:46.980Z"
   },
   {
    "duration": 12098,
    "start_time": "2024-03-15T21:13:24.082Z"
   },
   {
    "duration": 1603,
    "start_time": "2024-03-15T21:13:38.381Z"
   },
   {
    "duration": 7,
    "start_time": "2024-03-15T21:19:59.237Z"
   },
   {
    "duration": 32,
    "start_time": "2024-03-15T21:20:01.012Z"
   },
   {
    "duration": 33,
    "start_time": "2024-03-15T21:20:02.582Z"
   },
   {
    "duration": 211,
    "start_time": "2024-03-15T21:20:03.107Z"
   },
   {
    "duration": 27,
    "start_time": "2024-03-15T21:20:03.566Z"
   },
   {
    "duration": 7,
    "start_time": "2024-03-15T21:20:03.999Z"
   },
   {
    "duration": 99,
    "start_time": "2024-03-15T21:20:41.132Z"
   },
   {
    "duration": 5,
    "start_time": "2024-03-15T21:20:45.490Z"
   },
   {
    "duration": 5,
    "start_time": "2024-03-15T21:20:50.208Z"
   },
   {
    "duration": 5,
    "start_time": "2024-03-15T21:20:58.627Z"
   },
   {
    "duration": 4,
    "start_time": "2024-03-15T21:21:06.484Z"
   },
   {
    "duration": 8,
    "start_time": "2024-03-15T21:21:09.296Z"
   },
   {
    "duration": 3,
    "start_time": "2024-03-15T21:21:17.298Z"
   },
   {
    "duration": 35,
    "start_time": "2024-03-15T21:21:22.080Z"
   },
   {
    "duration": 7,
    "start_time": "2024-03-15T21:21:24.640Z"
   },
   {
    "duration": 16,
    "start_time": "2024-03-15T21:29:09.022Z"
   },
   {
    "duration": 4209,
    "start_time": "2024-03-15T21:31:23.912Z"
   },
   {
    "duration": 7,
    "start_time": "2024-03-15T21:31:36.893Z"
   },
   {
    "duration": 5,
    "start_time": "2024-03-15T21:34:44.975Z"
   },
   {
    "duration": 4,
    "start_time": "2024-03-15T21:34:47.178Z"
   },
   {
    "duration": 569,
    "start_time": "2024-03-15T21:35:10.804Z"
   },
   {
    "duration": 447,
    "start_time": "2024-03-15T21:35:24.757Z"
   },
   {
    "duration": 629,
    "start_time": "2024-03-15T21:36:03.002Z"
   },
   {
    "duration": 3225,
    "start_time": "2024-03-15T21:36:03.633Z"
   },
   {
    "duration": 8,
    "start_time": "2024-03-15T21:36:06.861Z"
   },
   {
    "duration": 73,
    "start_time": "2024-03-15T21:36:06.871Z"
   },
   {
    "duration": 270,
    "start_time": "2024-03-15T21:36:06.947Z"
   },
   {
    "duration": 29,
    "start_time": "2024-03-15T21:36:07.218Z"
   },
   {
    "duration": 23,
    "start_time": "2024-03-15T21:36:07.248Z"
   },
   {
    "duration": 10,
    "start_time": "2024-03-15T21:36:07.310Z"
   },
   {
    "duration": 4395,
    "start_time": "2024-03-15T21:36:07.558Z"
   },
   {
    "duration": 6,
    "start_time": "2024-03-15T21:36:11.955Z"
   },
   {
    "duration": 248728,
    "start_time": "2024-03-15T21:36:11.963Z"
   },
   {
    "duration": 0,
    "start_time": "2024-03-15T21:40:20.693Z"
   },
   {
    "duration": 2071,
    "start_time": "2024-03-18T18:30:32.705Z"
   },
   {
    "duration": 2484,
    "start_time": "2024-03-18T18:30:34.778Z"
   },
   {
    "duration": 15,
    "start_time": "2024-03-18T18:30:37.263Z"
   },
   {
    "duration": 55,
    "start_time": "2024-03-18T18:30:37.281Z"
   },
   {
    "duration": 249,
    "start_time": "2024-03-18T18:30:37.338Z"
   },
   {
    "duration": 30,
    "start_time": "2024-03-18T18:30:37.589Z"
   },
   {
    "duration": 9,
    "start_time": "2024-03-18T18:30:37.621Z"
   },
   {
    "duration": 10,
    "start_time": "2024-03-18T18:30:37.659Z"
   },
   {
    "duration": 7,
    "start_time": "2024-03-18T18:31:27.620Z"
   },
   {
    "duration": 80,
    "start_time": "2024-03-18T18:32:08.771Z"
   },
   {
    "duration": 14,
    "start_time": "2024-03-18T18:32:16.252Z"
   },
   {
    "duration": 961,
    "start_time": "2024-03-18T18:32:19.245Z"
   },
   {
    "duration": 8,
    "start_time": "2024-03-18T18:32:20.208Z"
   },
   {
    "duration": 49,
    "start_time": "2024-03-18T18:32:20.217Z"
   },
   {
    "duration": 255,
    "start_time": "2024-03-18T18:32:20.268Z"
   },
   {
    "duration": 37,
    "start_time": "2024-03-18T18:32:20.524Z"
   },
   {
    "duration": 15,
    "start_time": "2024-03-18T18:32:20.562Z"
   },
   {
    "duration": 10,
    "start_time": "2024-03-18T18:32:20.610Z"
   },
   {
    "duration": 7,
    "start_time": "2024-03-18T18:32:23.505Z"
   },
   {
    "duration": 2251,
    "start_time": "2024-03-18T18:34:51.759Z"
   },
   {
    "duration": 139,
    "start_time": "2024-03-18T18:34:54.842Z"
   },
   {
    "duration": 1648,
    "start_time": "2024-03-18T18:36:57.835Z"
   },
   {
    "duration": 989,
    "start_time": "2024-03-18T18:36:59.485Z"
   },
   {
    "duration": 16,
    "start_time": "2024-03-18T18:37:00.476Z"
   },
   {
    "duration": 79,
    "start_time": "2024-03-18T18:37:00.494Z"
   },
   {
    "duration": 283,
    "start_time": "2024-03-18T18:37:00.576Z"
   },
   {
    "duration": 30,
    "start_time": "2024-03-18T18:37:00.860Z"
   },
   {
    "duration": 55,
    "start_time": "2024-03-18T18:37:00.892Z"
   },
   {
    "duration": 39,
    "start_time": "2024-03-18T18:37:00.950Z"
   },
   {
    "duration": 2236,
    "start_time": "2024-03-18T18:37:00.991Z"
   },
   {
    "duration": 96992,
    "start_time": "2024-03-18T18:37:03.229Z"
   },
   {
    "duration": 8,
    "start_time": "2024-03-18T18:38:40.223Z"
   },
   {
    "duration": 141,
    "start_time": "2024-03-18T18:39:28.592Z"
   },
   {
    "duration": 9,
    "start_time": "2024-03-18T18:41:29.940Z"
   },
   {
    "duration": 1722,
    "start_time": "2024-03-18T18:42:00.718Z"
   },
   {
    "duration": 2483,
    "start_time": "2024-03-18T18:42:02.443Z"
   },
   {
    "duration": 14,
    "start_time": "2024-03-18T18:42:04.928Z"
   },
   {
    "duration": 32,
    "start_time": "2024-03-18T18:42:04.944Z"
   },
   {
    "duration": 251,
    "start_time": "2024-03-18T18:42:04.979Z"
   },
   {
    "duration": 34,
    "start_time": "2024-03-18T18:42:05.232Z"
   },
   {
    "duration": 12,
    "start_time": "2024-03-18T18:42:05.269Z"
   },
   {
    "duration": 9,
    "start_time": "2024-03-18T18:42:05.283Z"
   },
   {
    "duration": 2242,
    "start_time": "2024-03-18T18:42:05.294Z"
   },
   {
    "duration": 4395,
    "start_time": "2024-03-18T18:42:07.539Z"
   },
   {
    "duration": 7,
    "start_time": "2024-03-18T18:42:11.936Z"
   },
   {
    "duration": 1779,
    "start_time": "2024-03-18T18:45:04.321Z"
   },
   {
    "duration": 986,
    "start_time": "2024-03-18T18:45:06.102Z"
   },
   {
    "duration": 14,
    "start_time": "2024-03-18T18:45:07.090Z"
   },
   {
    "duration": 47,
    "start_time": "2024-03-18T18:45:07.106Z"
   },
   {
    "duration": 263,
    "start_time": "2024-03-18T18:45:07.157Z"
   },
   {
    "duration": 29,
    "start_time": "2024-03-18T18:45:07.421Z"
   },
   {
    "duration": 20,
    "start_time": "2024-03-18T18:45:07.459Z"
   },
   {
    "duration": 30,
    "start_time": "2024-03-18T18:45:07.481Z"
   },
   {
    "duration": 2242,
    "start_time": "2024-03-18T18:45:07.512Z"
   },
   {
    "duration": 4552,
    "start_time": "2024-03-18T18:45:09.759Z"
   },
   {
    "duration": 7,
    "start_time": "2024-03-18T18:45:14.312Z"
   },
   {
    "duration": 1655,
    "start_time": "2024-03-18T18:50:31.148Z"
   },
   {
    "duration": 983,
    "start_time": "2024-03-18T18:50:32.805Z"
   },
   {
    "duration": 15,
    "start_time": "2024-03-18T18:50:33.789Z"
   },
   {
    "duration": 32,
    "start_time": "2024-03-18T18:50:33.806Z"
   },
   {
    "duration": 262,
    "start_time": "2024-03-18T18:50:33.839Z"
   },
   {
    "duration": 28,
    "start_time": "2024-03-18T18:50:34.102Z"
   },
   {
    "duration": 10,
    "start_time": "2024-03-18T18:50:34.131Z"
   },
   {
    "duration": 10,
    "start_time": "2024-03-18T18:50:34.158Z"
   },
   {
    "duration": 2209,
    "start_time": "2024-03-18T18:50:34.170Z"
   },
   {
    "duration": 4491,
    "start_time": "2024-03-18T18:50:36.381Z"
   },
   {
    "duration": 7,
    "start_time": "2024-03-18T18:50:40.874Z"
   },
   {
    "duration": 29,
    "start_time": "2024-03-18T18:50:40.882Z"
   },
   {
    "duration": 1618,
    "start_time": "2024-03-18T18:59:38.245Z"
   },
   {
    "duration": 952,
    "start_time": "2024-03-18T18:59:39.865Z"
   },
   {
    "duration": 14,
    "start_time": "2024-03-18T18:59:40.818Z"
   },
   {
    "duration": 42,
    "start_time": "2024-03-18T18:59:40.834Z"
   },
   {
    "duration": 242,
    "start_time": "2024-03-18T18:59:40.878Z"
   },
   {
    "duration": 36,
    "start_time": "2024-03-18T18:59:41.123Z"
   },
   {
    "duration": 40,
    "start_time": "2024-03-18T18:59:41.161Z"
   },
   {
    "duration": 16,
    "start_time": "2024-03-18T18:59:41.203Z"
   },
   {
    "duration": 2356,
    "start_time": "2024-03-18T18:59:41.220Z"
   },
   {
    "duration": 0,
    "start_time": "2024-03-18T18:59:43.578Z"
   },
   {
    "duration": 0,
    "start_time": "2024-03-18T18:59:43.580Z"
   },
   {
    "duration": 0,
    "start_time": "2024-03-18T18:59:43.581Z"
   },
   {
    "duration": 0,
    "start_time": "2024-03-18T18:59:43.582Z"
   },
   {
    "duration": 1671,
    "start_time": "2024-03-18T19:00:05.436Z"
   },
   {
    "duration": 2421,
    "start_time": "2024-03-18T19:00:07.109Z"
   },
   {
    "duration": 13,
    "start_time": "2024-03-18T19:00:09.532Z"
   },
   {
    "duration": 42,
    "start_time": "2024-03-18T19:00:09.547Z"
   },
   {
    "duration": 242,
    "start_time": "2024-03-18T19:00:09.591Z"
   },
   {
    "duration": 34,
    "start_time": "2024-03-18T19:00:09.834Z"
   },
   {
    "duration": 10,
    "start_time": "2024-03-18T19:00:09.870Z"
   },
   {
    "duration": 11,
    "start_time": "2024-03-18T19:00:09.882Z"
   },
   {
    "duration": 2301,
    "start_time": "2024-03-18T19:00:09.894Z"
   },
   {
    "duration": 445,
    "start_time": "2024-03-18T19:00:12.197Z"
   },
   {
    "duration": 0,
    "start_time": "2024-03-18T19:00:12.644Z"
   },
   {
    "duration": 0,
    "start_time": "2024-03-18T19:00:12.646Z"
   },
   {
    "duration": 0,
    "start_time": "2024-03-18T19:00:12.647Z"
   },
   {
    "duration": 1610,
    "start_time": "2024-03-18T19:00:49.464Z"
   },
   {
    "duration": 2386,
    "start_time": "2024-03-18T19:00:51.077Z"
   },
   {
    "duration": 17,
    "start_time": "2024-03-18T19:00:53.465Z"
   },
   {
    "duration": 35,
    "start_time": "2024-03-18T19:00:53.483Z"
   },
   {
    "duration": 246,
    "start_time": "2024-03-18T19:00:53.520Z"
   },
   {
    "duration": 28,
    "start_time": "2024-03-18T19:00:53.767Z"
   },
   {
    "duration": 19,
    "start_time": "2024-03-18T19:00:53.797Z"
   },
   {
    "duration": 15,
    "start_time": "2024-03-18T19:00:53.817Z"
   },
   {
    "duration": 2282,
    "start_time": "2024-03-18T19:00:53.833Z"
   },
   {
    "duration": 1362,
    "start_time": "2024-03-18T19:00:56.117Z"
   },
   {
    "duration": 0,
    "start_time": "2024-03-18T19:00:57.482Z"
   },
   {
    "duration": 0,
    "start_time": "2024-03-18T19:00:57.484Z"
   },
   {
    "duration": 0,
    "start_time": "2024-03-18T19:00:57.486Z"
   },
   {
    "duration": 342,
    "start_time": "2024-03-18T19:01:46.316Z"
   },
   {
    "duration": 1666,
    "start_time": "2024-03-18T19:04:44.722Z"
   },
   {
    "duration": 1005,
    "start_time": "2024-03-18T19:04:46.390Z"
   },
   {
    "duration": 14,
    "start_time": "2024-03-18T19:04:47.396Z"
   },
   {
    "duration": 31,
    "start_time": "2024-03-18T19:04:47.412Z"
   },
   {
    "duration": 260,
    "start_time": "2024-03-18T19:04:47.445Z"
   },
   {
    "duration": 27,
    "start_time": "2024-03-18T19:04:47.706Z"
   },
   {
    "duration": 25,
    "start_time": "2024-03-18T19:04:47.734Z"
   },
   {
    "duration": 11,
    "start_time": "2024-03-18T19:04:47.761Z"
   },
   {
    "duration": 2152,
    "start_time": "2024-03-18T19:04:47.775Z"
   },
   {
    "duration": 1280,
    "start_time": "2024-03-18T19:04:49.930Z"
   },
   {
    "duration": 0,
    "start_time": "2024-03-18T19:04:51.211Z"
   },
   {
    "duration": 0,
    "start_time": "2024-03-18T19:04:51.213Z"
   },
   {
    "duration": 0,
    "start_time": "2024-03-18T19:04:51.214Z"
   },
   {
    "duration": 1675,
    "start_time": "2024-03-18T20:07:04.039Z"
   },
   {
    "duration": 950,
    "start_time": "2024-03-18T20:07:05.716Z"
   },
   {
    "duration": 13,
    "start_time": "2024-03-18T20:07:06.667Z"
   },
   {
    "duration": 30,
    "start_time": "2024-03-18T20:07:06.682Z"
   },
   {
    "duration": 247,
    "start_time": "2024-03-18T20:07:06.714Z"
   },
   {
    "duration": 34,
    "start_time": "2024-03-18T20:07:06.963Z"
   },
   {
    "duration": 17,
    "start_time": "2024-03-18T20:07:07.000Z"
   },
   {
    "duration": 22,
    "start_time": "2024-03-18T20:07:07.018Z"
   },
   {
    "duration": 18,
    "start_time": "2024-03-18T20:07:07.042Z"
   },
   {
    "duration": 162,
    "start_time": "2024-03-18T20:07:07.061Z"
   },
   {
    "duration": 0,
    "start_time": "2024-03-18T20:07:07.225Z"
   },
   {
    "duration": 0,
    "start_time": "2024-03-18T20:07:07.226Z"
   },
   {
    "duration": 0,
    "start_time": "2024-03-18T20:07:07.226Z"
   },
   {
    "duration": 0,
    "start_time": "2024-03-18T20:07:07.227Z"
   },
   {
    "duration": 0,
    "start_time": "2024-03-18T20:07:07.229Z"
   },
   {
    "duration": 0,
    "start_time": "2024-03-18T20:07:07.230Z"
   },
   {
    "duration": 0,
    "start_time": "2024-03-18T20:07:07.231Z"
   },
   {
    "duration": 1663,
    "start_time": "2024-03-18T20:08:38.335Z"
   },
   {
    "duration": 916,
    "start_time": "2024-03-18T20:08:40.000Z"
   },
   {
    "duration": 13,
    "start_time": "2024-03-18T20:08:40.918Z"
   },
   {
    "duration": 42,
    "start_time": "2024-03-18T20:08:40.932Z"
   },
   {
    "duration": 234,
    "start_time": "2024-03-18T20:08:40.977Z"
   },
   {
    "duration": 27,
    "start_time": "2024-03-18T20:08:41.213Z"
   },
   {
    "duration": 23,
    "start_time": "2024-03-18T20:08:41.242Z"
   },
   {
    "duration": 14,
    "start_time": "2024-03-18T20:08:41.267Z"
   },
   {
    "duration": 5,
    "start_time": "2024-03-18T20:08:41.282Z"
   },
   {
    "duration": 1557,
    "start_time": "2024-03-18T20:10:53.976Z"
   },
   {
    "duration": 911,
    "start_time": "2024-03-18T20:10:55.535Z"
   },
   {
    "duration": 19,
    "start_time": "2024-03-18T20:10:56.447Z"
   },
   {
    "duration": 42,
    "start_time": "2024-03-18T20:10:56.468Z"
   },
   {
    "duration": 230,
    "start_time": "2024-03-18T20:10:56.513Z"
   },
   {
    "duration": 31,
    "start_time": "2024-03-18T20:10:56.744Z"
   },
   {
    "duration": 8,
    "start_time": "2024-03-18T20:10:56.776Z"
   },
   {
    "duration": 16,
    "start_time": "2024-03-18T20:10:56.785Z"
   },
   {
    "duration": 11,
    "start_time": "2024-03-18T20:10:56.803Z"
   },
   {
    "duration": 4362,
    "start_time": "2024-03-18T20:10:56.816Z"
   },
   {
    "duration": 7,
    "start_time": "2024-03-18T20:11:01.180Z"
   },
   {
    "duration": 41,
    "start_time": "2024-03-18T20:11:01.189Z"
   },
   {
    "duration": 4164,
    "start_time": "2024-03-18T20:14:36.617Z"
   },
   {
    "duration": 910,
    "start_time": "2024-03-18T20:14:40.782Z"
   },
   {
    "duration": 14,
    "start_time": "2024-03-18T20:14:41.694Z"
   },
   {
    "duration": 31,
    "start_time": "2024-03-18T20:14:41.710Z"
   },
   {
    "duration": 245,
    "start_time": "2024-03-18T20:14:41.743Z"
   },
   {
    "duration": 28,
    "start_time": "2024-03-18T20:14:41.989Z"
   },
   {
    "duration": 10,
    "start_time": "2024-03-18T20:14:42.019Z"
   },
   {
    "duration": 29,
    "start_time": "2024-03-18T20:14:42.031Z"
   },
   {
    "duration": 6,
    "start_time": "2024-03-18T20:14:42.063Z"
   },
   {
    "duration": 860,
    "start_time": "2024-03-18T20:14:42.071Z"
   },
   {
    "duration": 0,
    "start_time": "2024-03-18T20:14:42.933Z"
   },
   {
    "duration": 0,
    "start_time": "2024-03-18T20:14:42.935Z"
   },
   {
    "duration": 0,
    "start_time": "2024-03-18T20:14:42.937Z"
   },
   {
    "duration": 0,
    "start_time": "2024-03-18T20:14:42.938Z"
   },
   {
    "duration": 0,
    "start_time": "2024-03-18T20:14:42.939Z"
   },
   {
    "duration": 0,
    "start_time": "2024-03-18T20:14:42.941Z"
   },
   {
    "duration": 0,
    "start_time": "2024-03-18T20:14:42.959Z"
   },
   {
    "duration": 0,
    "start_time": "2024-03-18T20:14:42.960Z"
   },
   {
    "duration": 0,
    "start_time": "2024-03-18T20:14:42.961Z"
   },
   {
    "duration": 0,
    "start_time": "2024-03-18T20:14:42.963Z"
   },
   {
    "duration": 0,
    "start_time": "2024-03-18T20:14:42.964Z"
   },
   {
    "duration": 0,
    "start_time": "2024-03-18T20:14:42.966Z"
   },
   {
    "duration": 0,
    "start_time": "2024-03-18T20:14:42.967Z"
   },
   {
    "duration": 0,
    "start_time": "2024-03-18T20:14:42.968Z"
   },
   {
    "duration": 0,
    "start_time": "2024-03-18T20:14:42.970Z"
   },
   {
    "duration": 6,
    "start_time": "2024-03-18T20:18:06.752Z"
   },
   {
    "duration": 915,
    "start_time": "2024-03-18T20:18:10.700Z"
   },
   {
    "duration": 8,
    "start_time": "2024-03-18T20:18:11.617Z"
   },
   {
    "duration": 42,
    "start_time": "2024-03-18T20:18:11.626Z"
   },
   {
    "duration": 227,
    "start_time": "2024-03-18T20:18:11.670Z"
   },
   {
    "duration": 28,
    "start_time": "2024-03-18T20:18:11.898Z"
   },
   {
    "duration": 29,
    "start_time": "2024-03-18T20:18:11.927Z"
   },
   {
    "duration": 43,
    "start_time": "2024-03-18T20:18:11.958Z"
   },
   {
    "duration": 4,
    "start_time": "2024-03-18T20:18:12.014Z"
   },
   {
    "duration": 476,
    "start_time": "2024-03-18T20:18:13.106Z"
   },
   {
    "duration": 992699,
    "start_time": "2024-03-18T20:18:24.769Z"
   },
   {
    "duration": 8,
    "start_time": "2024-03-18T20:34:57.469Z"
   },
   {
    "duration": 59,
    "start_time": "2024-03-18T20:34:57.479Z"
   },
   {
    "duration": 21,
    "start_time": "2024-03-18T20:34:57.540Z"
   },
   {
    "duration": 50,
    "start_time": "2024-03-18T20:34:57.563Z"
   },
   {
    "duration": 72,
    "start_time": "2024-03-18T20:34:57.615Z"
   },
   {
    "duration": 1007,
    "start_time": "2024-03-18T20:34:57.689Z"
   },
   {
    "duration": 3,
    "start_time": "2024-03-18T20:34:58.698Z"
   },
   {
    "duration": 4068,
    "start_time": "2024-03-18T20:37:07.887Z"
   },
   {
    "duration": 910,
    "start_time": "2024-03-18T20:37:11.959Z"
   },
   {
    "duration": 15,
    "start_time": "2024-03-18T20:37:12.870Z"
   },
   {
    "duration": 39,
    "start_time": "2024-03-18T20:37:12.887Z"
   },
   {
    "duration": 238,
    "start_time": "2024-03-18T20:37:12.928Z"
   },
   {
    "duration": 28,
    "start_time": "2024-03-18T20:37:13.168Z"
   },
   {
    "duration": 8,
    "start_time": "2024-03-18T20:37:13.197Z"
   },
   {
    "duration": 21,
    "start_time": "2024-03-18T20:37:13.207Z"
   },
   {
    "duration": 15,
    "start_time": "2024-03-18T20:37:13.230Z"
   },
   {
    "duration": 3950,
    "start_time": "2024-03-18T20:43:55.509Z"
   },
   {
    "duration": 879,
    "start_time": "2024-03-18T20:43:59.461Z"
   },
   {
    "duration": 18,
    "start_time": "2024-03-18T20:44:00.342Z"
   },
   {
    "duration": 69,
    "start_time": "2024-03-18T20:44:00.361Z"
   },
   {
    "duration": 282,
    "start_time": "2024-03-18T20:44:00.432Z"
   },
   {
    "duration": 28,
    "start_time": "2024-03-18T20:44:00.715Z"
   },
   {
    "duration": 130,
    "start_time": "2024-03-18T20:44:00.744Z"
   },
   {
    "duration": 27,
    "start_time": "2024-03-18T20:44:00.875Z"
   },
   {
    "duration": 32,
    "start_time": "2024-03-18T20:44:00.904Z"
   },
   {
    "duration": 1015323,
    "start_time": "2024-03-18T20:44:00.938Z"
   },
   {
    "duration": 9,
    "start_time": "2024-03-18T21:00:56.264Z"
   },
   {
    "duration": 64,
    "start_time": "2024-03-18T21:00:56.275Z"
   },
   {
    "duration": 4,
    "start_time": "2024-03-18T21:00:56.341Z"
   },
   {
    "duration": 52,
    "start_time": "2024-03-18T21:00:56.357Z"
   },
   {
    "duration": 59,
    "start_time": "2024-03-18T21:00:56.411Z"
   },
   {
    "duration": 6,
    "start_time": "2024-03-18T21:00:56.472Z"
   },
   {
    "duration": 1375466,
    "start_time": "2024-03-18T21:00:56.480Z"
   },
   {
    "duration": 108235,
    "start_time": "2024-03-18T21:23:51.948Z"
   },
   {
    "duration": 475171,
    "start_time": "2024-03-18T21:25:40.184Z"
   },
   {
    "duration": 569874,
    "start_time": "2024-03-18T21:33:35.359Z"
   },
   {
    "duration": 361,
    "start_time": "2024-03-18T21:43:05.235Z"
   },
   {
    "duration": 32,
    "start_time": "2024-03-18T21:43:42.045Z"
   },
   {
    "duration": 11,
    "start_time": "2024-03-18T21:44:01.345Z"
   },
   {
    "duration": 4819,
    "start_time": "2024-03-19T17:20:03.446Z"
   },
   {
    "duration": 0,
    "start_time": "2024-03-19T17:20:08.267Z"
   },
   {
    "duration": 0,
    "start_time": "2024-03-19T17:20:08.269Z"
   },
   {
    "duration": 0,
    "start_time": "2024-03-19T17:20:08.270Z"
   },
   {
    "duration": 0,
    "start_time": "2024-03-19T17:20:08.271Z"
   },
   {
    "duration": 0,
    "start_time": "2024-03-19T17:20:08.272Z"
   },
   {
    "duration": 0,
    "start_time": "2024-03-19T17:20:08.273Z"
   },
   {
    "duration": 0,
    "start_time": "2024-03-19T17:20:08.274Z"
   },
   {
    "duration": 0,
    "start_time": "2024-03-19T17:20:08.275Z"
   },
   {
    "duration": 0,
    "start_time": "2024-03-19T17:20:08.276Z"
   },
   {
    "duration": 0,
    "start_time": "2024-03-19T17:20:08.277Z"
   },
   {
    "duration": 0,
    "start_time": "2024-03-19T17:20:08.278Z"
   },
   {
    "duration": 19,
    "start_time": "2024-03-19T17:20:08.953Z"
   },
   {
    "duration": 16,
    "start_time": "2024-03-19T17:20:09.667Z"
   },
   {
    "duration": 4375,
    "start_time": "2024-03-19T17:20:21.651Z"
   },
   {
    "duration": 0,
    "start_time": "2024-03-19T17:20:26.028Z"
   },
   {
    "duration": 0,
    "start_time": "2024-03-19T17:20:26.029Z"
   },
   {
    "duration": 0,
    "start_time": "2024-03-19T17:20:26.030Z"
   },
   {
    "duration": 0,
    "start_time": "2024-03-19T17:20:26.031Z"
   },
   {
    "duration": 0,
    "start_time": "2024-03-19T17:20:26.032Z"
   },
   {
    "duration": 0,
    "start_time": "2024-03-19T17:20:26.033Z"
   },
   {
    "duration": 0,
    "start_time": "2024-03-19T17:20:26.034Z"
   },
   {
    "duration": 0,
    "start_time": "2024-03-19T17:20:26.035Z"
   },
   {
    "duration": 0,
    "start_time": "2024-03-19T17:20:26.036Z"
   },
   {
    "duration": 0,
    "start_time": "2024-03-19T17:20:26.037Z"
   },
   {
    "duration": 0,
    "start_time": "2024-03-19T17:20:26.038Z"
   },
   {
    "duration": 0,
    "start_time": "2024-03-19T17:20:26.040Z"
   },
   {
    "duration": 0,
    "start_time": "2024-03-19T17:20:26.041Z"
   },
   {
    "duration": 0,
    "start_time": "2024-03-19T17:20:26.042Z"
   },
   {
    "duration": 0,
    "start_time": "2024-03-19T17:20:26.043Z"
   },
   {
    "duration": 0,
    "start_time": "2024-03-19T17:20:26.044Z"
   },
   {
    "duration": 0,
    "start_time": "2024-03-19T17:20:26.046Z"
   },
   {
    "duration": 0,
    "start_time": "2024-03-19T17:20:26.047Z"
   },
   {
    "duration": 0,
    "start_time": "2024-03-19T17:20:26.048Z"
   },
   {
    "duration": 0,
    "start_time": "2024-03-19T17:20:26.048Z"
   },
   {
    "duration": 7373,
    "start_time": "2024-03-19T17:22:21.999Z"
   },
   {
    "duration": 4099,
    "start_time": "2024-03-19T17:22:29.374Z"
   },
   {
    "duration": 3244,
    "start_time": "2024-03-19T17:22:33.475Z"
   },
   {
    "duration": 15,
    "start_time": "2024-03-19T17:22:36.721Z"
   },
   {
    "duration": 49,
    "start_time": "2024-03-19T17:22:36.737Z"
   },
   {
    "duration": 259,
    "start_time": "2024-03-19T17:22:36.787Z"
   },
   {
    "duration": 26,
    "start_time": "2024-03-19T17:22:37.051Z"
   },
   {
    "duration": 21,
    "start_time": "2024-03-19T17:22:37.078Z"
   },
   {
    "duration": 13,
    "start_time": "2024-03-19T17:22:37.100Z"
   },
   {
    "duration": 10,
    "start_time": "2024-03-19T17:22:37.115Z"
   },
   {
    "duration": 999941,
    "start_time": "2024-03-19T17:22:37.127Z"
   },
   {
    "duration": 6,
    "start_time": "2024-03-19T17:39:17.070Z"
   },
   {
    "duration": 60,
    "start_time": "2024-03-19T17:39:17.078Z"
   },
   {
    "duration": 3,
    "start_time": "2024-03-19T17:39:17.139Z"
   },
   {
    "duration": 74,
    "start_time": "2024-03-19T17:39:17.144Z"
   },
   {
    "duration": 42,
    "start_time": "2024-03-19T17:39:17.220Z"
   },
   {
    "duration": 2,
    "start_time": "2024-03-19T17:39:17.264Z"
   },
   {
    "duration": 773894,
    "start_time": "2024-03-19T17:39:17.267Z"
   },
   {
    "duration": 461,
    "start_time": "2024-03-19T17:52:11.162Z"
   },
   {
    "duration": 5001,
    "start_time": "2024-03-20T17:50:38.676Z"
   },
   {
    "duration": 0,
    "start_time": "2024-03-20T17:50:43.680Z"
   },
   {
    "duration": 0,
    "start_time": "2024-03-20T17:50:43.681Z"
   },
   {
    "duration": 0,
    "start_time": "2024-03-20T17:50:43.682Z"
   },
   {
    "duration": 0,
    "start_time": "2024-03-20T17:50:43.682Z"
   },
   {
    "duration": 0,
    "start_time": "2024-03-20T17:50:43.683Z"
   },
   {
    "duration": 0,
    "start_time": "2024-03-20T17:50:43.685Z"
   },
   {
    "duration": 0,
    "start_time": "2024-03-20T17:50:43.685Z"
   },
   {
    "duration": 0,
    "start_time": "2024-03-20T17:50:43.686Z"
   },
   {
    "duration": 0,
    "start_time": "2024-03-20T17:50:43.687Z"
   },
   {
    "duration": 0,
    "start_time": "2024-03-20T17:50:43.688Z"
   },
   {
    "duration": 0,
    "start_time": "2024-03-20T17:50:43.689Z"
   },
   {
    "duration": 0,
    "start_time": "2024-03-20T17:50:43.691Z"
   },
   {
    "duration": 0,
    "start_time": "2024-03-20T17:50:43.692Z"
   },
   {
    "duration": 0,
    "start_time": "2024-03-20T17:50:43.692Z"
   },
   {
    "duration": 0,
    "start_time": "2024-03-20T17:50:43.693Z"
   },
   {
    "duration": 0,
    "start_time": "2024-03-20T17:50:43.695Z"
   },
   {
    "duration": 0,
    "start_time": "2024-03-20T17:50:43.695Z"
   },
   {
    "duration": 0,
    "start_time": "2024-03-20T17:50:43.697Z"
   },
   {
    "duration": 0,
    "start_time": "2024-03-20T17:50:43.698Z"
   },
   {
    "duration": 0,
    "start_time": "2024-03-20T17:50:43.699Z"
   },
   {
    "duration": 7451,
    "start_time": "2024-03-20T17:51:31.801Z"
   },
   {
    "duration": 4285,
    "start_time": "2024-03-20T17:51:39.254Z"
   },
   {
    "duration": 2264,
    "start_time": "2024-03-20T17:51:43.541Z"
   },
   {
    "duration": 15,
    "start_time": "2024-03-20T17:51:45.808Z"
   },
   {
    "duration": 38,
    "start_time": "2024-03-20T17:51:45.825Z"
   },
   {
    "duration": 225,
    "start_time": "2024-03-20T17:51:45.865Z"
   },
   {
    "duration": 26,
    "start_time": "2024-03-20T17:51:46.092Z"
   },
   {
    "duration": 30,
    "start_time": "2024-03-20T17:51:46.119Z"
   },
   {
    "duration": 17,
    "start_time": "2024-03-20T17:51:46.151Z"
   },
   {
    "duration": 6,
    "start_time": "2024-03-20T17:51:46.170Z"
   },
   {
    "duration": 988301,
    "start_time": "2024-03-20T17:51:46.177Z"
   },
   {
    "duration": 7,
    "start_time": "2024-03-20T18:08:14.480Z"
   },
   {
    "duration": 40,
    "start_time": "2024-03-20T18:08:14.489Z"
   },
   {
    "duration": 4,
    "start_time": "2024-03-20T18:08:14.531Z"
   },
   {
    "duration": 55,
    "start_time": "2024-03-20T18:08:14.536Z"
   },
   {
    "duration": 49,
    "start_time": "2024-03-20T18:08:14.592Z"
   },
   {
    "duration": 15,
    "start_time": "2024-03-20T18:08:14.643Z"
   },
   {
    "duration": 789181,
    "start_time": "2024-03-20T18:08:14.660Z"
   },
   {
    "duration": 507,
    "start_time": "2024-03-20T18:21:23.843Z"
   },
   {
    "duration": 461286,
    "start_time": "2024-03-20T18:21:24.352Z"
   },
   {
    "duration": 562856,
    "start_time": "2024-03-20T18:29:05.640Z"
   },
   {
    "duration": 20,
    "start_time": "2024-03-20T18:38:28.498Z"
   },
   {
    "duration": 0,
    "start_time": "2024-03-20T18:38:28.520Z"
   },
   {
    "duration": 93,
    "start_time": "2024-03-20T18:39:31.667Z"
   },
   {
    "duration": 6,
    "start_time": "2024-03-20T18:40:03.693Z"
   },
   {
    "duration": 112,
    "start_time": "2024-03-20T18:40:09.115Z"
   },
   {
    "duration": 106,
    "start_time": "2024-03-20T18:40:44.906Z"
   },
   {
    "duration": 7192,
    "start_time": "2024-03-21T09:21:20.367Z"
   },
   {
    "duration": 4789,
    "start_time": "2024-03-21T09:21:27.561Z"
   },
   {
    "duration": 3184,
    "start_time": "2024-03-21T09:21:32.352Z"
   },
   {
    "duration": 14,
    "start_time": "2024-03-21T09:21:35.538Z"
   },
   {
    "duration": 32,
    "start_time": "2024-03-21T09:21:35.553Z"
   },
   {
    "duration": 228,
    "start_time": "2024-03-21T09:21:35.587Z"
   },
   {
    "duration": 25,
    "start_time": "2024-03-21T09:21:35.817Z"
   },
   {
    "duration": 16,
    "start_time": "2024-03-21T09:21:35.843Z"
   },
   {
    "duration": 24,
    "start_time": "2024-03-21T09:21:35.861Z"
   },
   {
    "duration": 6,
    "start_time": "2024-03-21T09:21:35.887Z"
   },
   {
    "duration": 952127,
    "start_time": "2024-03-21T09:21:35.894Z"
   },
   {
    "duration": 7,
    "start_time": "2024-03-21T09:37:28.022Z"
   },
   {
    "duration": 41,
    "start_time": "2024-03-21T09:37:28.030Z"
   },
   {
    "duration": 9,
    "start_time": "2024-03-21T09:37:28.073Z"
   },
   {
    "duration": 73,
    "start_time": "2024-03-21T09:37:28.084Z"
   },
   {
    "duration": 60,
    "start_time": "2024-03-21T09:37:28.159Z"
   },
   {
    "duration": 2,
    "start_time": "2024-03-21T09:37:28.221Z"
   },
   {
    "duration": 748682,
    "start_time": "2024-03-21T09:37:28.225Z"
   },
   {
    "duration": 7813,
    "start_time": "2024-03-21T12:15:59.925Z"
   },
   {
    "duration": 4864,
    "start_time": "2024-03-21T12:16:07.740Z"
   },
   {
    "duration": 2390,
    "start_time": "2024-03-21T12:16:12.606Z"
   },
   {
    "duration": 15,
    "start_time": "2024-03-21T12:16:14.999Z"
   },
   {
    "duration": 65,
    "start_time": "2024-03-21T12:16:15.016Z"
   },
   {
    "duration": 264,
    "start_time": "2024-03-21T12:16:15.082Z"
   },
   {
    "duration": 36,
    "start_time": "2024-03-21T12:16:15.347Z"
   },
   {
    "duration": 9,
    "start_time": "2024-03-21T12:16:15.385Z"
   },
   {
    "duration": 12,
    "start_time": "2024-03-21T12:16:15.396Z"
   },
   {
    "duration": 19,
    "start_time": "2024-03-21T12:16:15.410Z"
   },
   {
    "duration": 1018117,
    "start_time": "2024-03-21T12:16:15.430Z"
   },
   {
    "duration": 7,
    "start_time": "2024-03-21T12:33:13.550Z"
   },
   {
    "duration": 61,
    "start_time": "2024-03-21T12:33:13.559Z"
   },
   {
    "duration": 4,
    "start_time": "2024-03-21T12:33:13.622Z"
   },
   {
    "duration": 59,
    "start_time": "2024-03-21T12:33:13.628Z"
   },
   {
    "duration": 46,
    "start_time": "2024-03-21T12:33:13.689Z"
   },
   {
    "duration": 3,
    "start_time": "2024-03-21T12:33:13.737Z"
   },
   {
    "duration": 822510,
    "start_time": "2024-03-21T12:33:13.742Z"
   },
   {
    "duration": 426,
    "start_time": "2024-03-21T12:46:56.254Z"
   },
   {
    "duration": 98,
    "start_time": "2024-03-21T13:42:49.179Z"
   },
   {
    "duration": 87,
    "start_time": "2024-03-21T13:43:03.247Z"
   },
   {
    "duration": 21,
    "start_time": "2024-03-21T13:43:10.378Z"
   },
   {
    "duration": 2502,
    "start_time": "2024-03-21T13:43:18.276Z"
   },
   {
    "duration": 254,
    "start_time": "2024-03-21T13:43:20.780Z"
   },
   {
    "duration": 925,
    "start_time": "2024-03-21T13:43:21.036Z"
   },
   {
    "duration": 9,
    "start_time": "2024-03-21T13:43:21.963Z"
   },
   {
    "duration": 37,
    "start_time": "2024-03-21T13:43:21.974Z"
   },
   {
    "duration": 234,
    "start_time": "2024-03-21T13:43:22.013Z"
   },
   {
    "duration": 35,
    "start_time": "2024-03-21T13:43:22.248Z"
   },
   {
    "duration": 8,
    "start_time": "2024-03-21T13:43:22.284Z"
   },
   {
    "duration": 17,
    "start_time": "2024-03-21T13:43:22.293Z"
   },
   {
    "duration": 6,
    "start_time": "2024-03-21T13:43:22.313Z"
   },
   {
    "duration": 1024442,
    "start_time": "2024-03-21T13:43:22.320Z"
   },
   {
    "duration": 7,
    "start_time": "2024-03-21T14:00:26.763Z"
   },
   {
    "duration": 52,
    "start_time": "2024-03-21T14:00:26.771Z"
   },
   {
    "duration": 5,
    "start_time": "2024-03-21T14:00:26.825Z"
   },
   {
    "duration": 57,
    "start_time": "2024-03-21T14:00:26.831Z"
   },
   {
    "duration": 52,
    "start_time": "2024-03-21T14:00:26.890Z"
   },
   {
    "duration": 3,
    "start_time": "2024-03-21T14:00:26.944Z"
   },
   {
    "duration": 797035,
    "start_time": "2024-03-21T14:00:26.949Z"
   },
   {
    "duration": 96,
    "start_time": "2024-03-21T14:13:43.986Z"
   },
   {
    "duration": 105,
    "start_time": "2024-03-21T14:44:50.976Z"
   },
   {
    "duration": 108,
    "start_time": "2024-03-21T14:45:03.894Z"
   },
   {
    "duration": 97,
    "start_time": "2024-03-21T14:45:36.253Z"
   },
   {
    "duration": 73,
    "start_time": "2024-03-21T14:46:23.897Z"
   },
   {
    "duration": 349229,
    "start_time": "2024-03-21T14:47:16.453Z"
   },
   {
    "duration": 469463,
    "start_time": "2024-03-21T14:53:43.773Z"
   },
   {
    "duration": 561265,
    "start_time": "2024-03-21T15:01:33.238Z"
   },
   {
    "duration": 12,
    "start_time": "2024-03-21T15:10:54.504Z"
   }
  ],
  "kernelspec": {
   "display_name": "Python 3 (ipykernel)",
   "language": "python",
   "name": "python3"
  },
  "language_info": {
   "codemirror_mode": {
    "name": "ipython",
    "version": 3
   },
   "file_extension": ".py",
   "mimetype": "text/x-python",
   "name": "python",
   "nbconvert_exporter": "python",
   "pygments_lexer": "ipython3",
   "version": "3.9.5"
  },
  "toc": {
   "base_numbering": 1,
   "nav_menu": {},
   "number_sections": true,
   "sideBar": true,
   "skip_h1_title": true,
   "title_cell": "Содержание",
   "title_sidebar": "Contents",
   "toc_cell": true,
   "toc_position": {
    "height": "calc(100% - 180px)",
    "left": "10px",
    "top": "150px",
    "width": "302.391px"
   },
   "toc_section_display": true,
   "toc_window_display": false
  }
 },
 "nbformat": 4,
 "nbformat_minor": 2
}
