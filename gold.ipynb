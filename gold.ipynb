{
 "cells": [
  {
   "cell_type": "markdown",
   "metadata": {
    "toc": true
   },
   "source": [
    "<h1>Содержание<span class=\"tocSkip\"></span></h1>\n",
    "<div class=\"toc\"><ul class=\"toc-item\"><li><span><a href=\"#Подготовка-данных\" data-toc-modified-id=\"Подготовка-данных-1\"><span class=\"toc-item-num\">1&nbsp;&nbsp;</span>Подготовка данных</a></span><ul class=\"toc-item\"><li><span><a href=\"#Загрузка-данных-и-библиотек\" data-toc-modified-id=\"Загрузка-данных-и-библиотек-1.1\"><span class=\"toc-item-num\">1.1&nbsp;&nbsp;</span>Загрузка данных и библиотек</a></span></li><li><span><a href=\"#Проверка-правильности-расчета-эффективности-обогащения\" data-toc-modified-id=\"Проверка-правильности-расчета-эффективности-обогащения-1.2\"><span class=\"toc-item-num\">1.2&nbsp;&nbsp;</span>Проверка правильности расчета эффективности обогащения</a></span></li><li><span><a href=\"#Предобработка\" data-toc-modified-id=\"Предобработка-1.3\"><span class=\"toc-item-num\">1.3&nbsp;&nbsp;</span>Предобработка</a></span></li></ul></li><li><span><a href=\"#Анализ-данных\" data-toc-modified-id=\"Анализ-данных-2\"><span class=\"toc-item-num\">2&nbsp;&nbsp;</span>Анализ данных</a></span><ul class=\"toc-item\"><li><span><a href=\"#Изменение-концентрации-элементов-на-каждом-этапе\" data-toc-modified-id=\"Изменение-концентрации-элементов-на-каждом-этапе-2.1\"><span class=\"toc-item-num\">2.1&nbsp;&nbsp;</span>Изменение концентрации элементов на каждом этапе</a></span></li><li><span><a href=\"#Распределения-размеров-гранул-на-обучающей-и-тестовой-выборках\" data-toc-modified-id=\"Распределения-размеров-гранул-на-обучающей-и-тестовой-выборках-2.2\"><span class=\"toc-item-num\">2.2&nbsp;&nbsp;</span>Распределения размеров гранул на обучающей и тестовой выборках</a></span></li><li><span><a href=\"#Суммарные-концентрации\" data-toc-modified-id=\"Суммарные-концентрации-2.3\"><span class=\"toc-item-num\">2.3&nbsp;&nbsp;</span>Суммарные концентрации</a></span></li></ul></li><li><span><a href=\"#Модель\" data-toc-modified-id=\"Модель-3\"><span class=\"toc-item-num\">3&nbsp;&nbsp;</span>Модель</a></span><ul class=\"toc-item\"><li><span><a href=\"#Линейная-регрессия\" data-toc-modified-id=\"Линейная-регрессия-3.1\"><span class=\"toc-item-num\">3.1&nbsp;&nbsp;</span>Линейная регрессия</a></span></li><li><span><a href=\"#Дерево-решений\" data-toc-modified-id=\"Дерево-решений-3.2\"><span class=\"toc-item-num\">3.2&nbsp;&nbsp;</span>Дерево решений</a></span></li><li><span><a href=\"#Проверка-лучшей-модели-на-тестовой-выборке\" data-toc-modified-id=\"Проверка-лучшей-модели-на-тестовой-выборке-3.3\"><span class=\"toc-item-num\">3.3&nbsp;&nbsp;</span>Проверка лучшей модели на тестовой выборке</a></span></li><li><span><a href=\"#Сравнение-с-константной-моделью\" data-toc-modified-id=\"Сравнение-с-константной-моделью-3.4\"><span class=\"toc-item-num\">3.4&nbsp;&nbsp;</span>Сравнение с константной моделью</a></span></li></ul></li><li><span><a href=\"#Выводы\" data-toc-modified-id=\"Выводы-4\"><span class=\"toc-item-num\">4&nbsp;&nbsp;</span>Выводы</a></span></li><li><span><a href=\"#Чек-лист-готовности-проекта\" data-toc-modified-id=\"Чек-лист-готовности-проекта-5\"><span class=\"toc-item-num\">5&nbsp;&nbsp;</span>Чек-лист готовности проекта</a></span></li></ul></div>"
   ]
  },
  {
   "cell_type": "markdown",
   "metadata": {},
   "source": [
    "# Восстановление золота из руды"
   ]
  },
  {
   "cell_type": "markdown",
   "metadata": {},
   "source": [
    "Подготовьте прототип модели машинного обучения для «Цифры». Компания разрабатывает решения для эффективной работы промышленных предприятий.\n",
    "\n",
    "Модель должна предсказать коэффициент восстановления золота из золотосодержащей руды. Используйте данные с параметрами добычи и очистки. \n",
    "\n",
    "Модель поможет оптимизировать производство, чтобы не запускать предприятие с убыточными характеристиками.\n",
    "\n",
    "Вам нужно:\n",
    "\n",
    "1. Подготовить данные;\n",
    "2. Провести исследовательский анализ данных;\n",
    "3. Построить и обучить модель.\n",
    "\n",
    "Чтобы выполнить проект, обращайтесь к библиотекам *pandas*, *matplotlib* и *sklearn.* Вам поможет их документация.\n",
    "\n",
    "**Описание данных**\n",
    "  \n",
    "Технологический процесс\n",
    "  \n",
    "- Rougher feed — исходное сырье\n",
    "- Rougher additions (или reagent additions) — флотационные реагенты: Xanthate, Sulphate, Depressant\n",
    "- Xanthate — ксантогенат (промотер, или активатор флотации);\n",
    "- Sulphate — сульфат (на данном производстве сульфид натрия);\n",
    "- Depressant — депрессант (силикат натрия).\n",
    "- Rougher process (англ. «грубый процесс») — флотация\n",
    "- Rougher tails — отвальные хвосты\n",
    "- Float banks — флотационная установка\n",
    "- Cleaner process — очистка\n",
    "- Rougher Au — черновой концентрат золота\n",
    "- Final Au — финальный концентрат золота\n",
    "  \n",
    "Параметры этапов\n",
    "  \n",
    "- air amount — объём воздуха\n",
    "- fluid levels — уровень жидкости\n",
    "- feed size — размер гранул сырья\n",
    "- feed rate — скорость подачи\n",
    "  \n",
    "Наименование признаков\n",
    "  \n",
    "Наименование признаков должно быть такое:\n",
    "[этап].[тип_параметра].[название_параметра]\n",
    "Пример: rougher.input.feed_ag\n",
    "  \n",
    "Возможные значения для блока [этап]:\n",
    "  \n",
    "- rougher — флотация\n",
    "- primary_cleaner — первичная очистка\n",
    "- secondary_cleaner — вторичная очистка\n",
    "- final — финальные характеристики\n",
    "  \n",
    "Возможные значения для блока [тип_параметра]:\n",
    "  \n",
    "- input — параметры сырья\n",
    "- output — параметры продукта\n",
    "- state — параметры, характеризующие текущее состояние этапа\n",
    "- calculation — расчётные характеристики"
   ]
  },
  {
   "cell_type": "markdown",
   "metadata": {},
   "source": [
    "## Подготовка данных"
   ]
  },
  {
   "cell_type": "markdown",
   "metadata": {},
   "source": [
    "### Загрузка данных и библиотек"
   ]
  },
  {
   "cell_type": "code",
   "execution_count": 1,
   "metadata": {},
   "outputs": [],
   "source": [
    "#загружаем библиотеки\n",
    "import pandas as pd\n",
    "from sklearn.metrics import mean_absolute_error\n",
    "from sklearn.model_selection import train_test_split, cross_val_score\n",
    "import numpy as np \n",
    "import matplotlib.pyplot as plt\n",
    "import seaborn as sns\n",
    "from sklearn.metrics import make_scorer\n",
    "from sklearn.ensemble import RandomForestRegressor\n",
    "from sklearn.tree import DecisionTreeRegressor\n",
    "from sklearn.linear_model import LinearRegression\n",
    "from sklearn.model_selection import GridSearchCV\n",
    "from sklearn.dummy import DummyRegressor\n",
    "from sklearn.linear_model import SGDRegressor\n",
    "from sklearn.svm import LinearSVR\n",
    "from sklearn.metrics import make_scorer\n",
    "\n",
    "import warnings\n",
    "warnings.filterwarnings(\"ignore\")"
   ]
  },
  {
   "cell_type": "code",
   "execution_count": 2,
   "metadata": {},
   "outputs": [],
   "source": [
    "#загружаем файлы\n",
    "train = pd.read_csv('/datasets/gold_industry_train.csv', parse_dates = ['date']) #обучающая выборка\n",
    "test = pd.read_csv('/datasets/gold_industry_test.csv', parse_dates = ['date']) # тестовая выборка\n",
    "full = pd.read_csv('/datasets/gold_industry_full.csv', parse_dates = ['date']) # исходные данные"
   ]
  },
  {
   "cell_type": "code",
   "execution_count": 3,
   "metadata": {},
   "outputs": [
    {
     "name": "stdout",
     "output_type": "stream",
     "text": [
      "<class 'pandas.core.frame.DataFrame'>\n",
      "RangeIndex: 14579 entries, 0 to 14578\n",
      "Data columns (total 87 columns):\n",
      " #   Column                                              Non-Null Count  Dtype         \n",
      "---  ------                                              --------------  -----         \n",
      " 0   date                                                14579 non-null  datetime64[ns]\n",
      " 1   rougher.input.feed_au                               14579 non-null  float64       \n",
      " 2   rougher.input.feed_ag                               14579 non-null  float64       \n",
      " 3   rougher.input.feed_pb                               14507 non-null  float64       \n",
      " 4   rougher.input.feed_sol                              14502 non-null  float64       \n",
      " 5   rougher.input.feed_rate                             14572 non-null  float64       \n",
      " 6   rougher.input.feed_size                             14478 non-null  float64       \n",
      " 7   rougher.input.floatbank10_sulfate                   14548 non-null  float64       \n",
      " 8   rougher.input.floatbank10_xanthate                  14572 non-null  float64       \n",
      " 9   rougher.state.floatbank10_a_air                     14579 non-null  float64       \n",
      " 10  rougher.state.floatbank10_a_level                   14579 non-null  float64       \n",
      " 11  rougher.state.floatbank10_b_air                     14579 non-null  float64       \n",
      " 12  rougher.state.floatbank10_b_level                   14579 non-null  float64       \n",
      " 13  rougher.state.floatbank10_c_air                     14579 non-null  float64       \n",
      " 14  rougher.state.floatbank10_c_level                   14579 non-null  float64       \n",
      " 15  rougher.state.floatbank10_d_air                     14579 non-null  float64       \n",
      " 16  rougher.state.floatbank10_d_level                   14579 non-null  float64       \n",
      " 17  rougher.state.floatbank10_e_air                     14150 non-null  float64       \n",
      " 18  rougher.state.floatbank10_e_level                   14579 non-null  float64       \n",
      " 19  rougher.state.floatbank10_f_air                     14579 non-null  float64       \n",
      " 20  rougher.state.floatbank10_f_level                   14579 non-null  float64       \n",
      " 21  rougher.input.floatbank11_sulfate                   14543 non-null  float64       \n",
      " 22  rougher.input.floatbank11_xanthate                  14172 non-null  float64       \n",
      " 23  rougher.calculation.sulfate_to_au_concentrate       14578 non-null  float64       \n",
      " 24  rougher.calculation.floatbank10_sulfate_to_au_feed  14578 non-null  float64       \n",
      " 25  rougher.calculation.floatbank11_sulfate_to_au_feed  14578 non-null  float64       \n",
      " 26  rougher.calculation.au_pb_ratio                     14579 non-null  float64       \n",
      " 27  rougher.output.concentrate_au                       14579 non-null  float64       \n",
      " 28  rougher.output.concentrate_ag                       14579 non-null  float64       \n",
      " 29  rougher.output.concentrate_pb                       14579 non-null  float64       \n",
      " 30  rougher.output.concentrate_sol                      14561 non-null  float64       \n",
      " 31  rougher.output.recovery                             14579 non-null  float64       \n",
      " 32  rougher.output.tail_au                              14579 non-null  float64       \n",
      " 33  rougher.output.tail_ag                              14578 non-null  float64       \n",
      " 34  rougher.output.tail_pb                              14579 non-null  float64       \n",
      " 35  rougher.output.tail_sol                             14579 non-null  float64       \n",
      " 36  primary_cleaner.input.sulfate                       14556 non-null  float64       \n",
      " 37  primary_cleaner.input.depressant                    14551 non-null  float64       \n",
      " 38  primary_cleaner.input.feed_size                     14579 non-null  float64       \n",
      " 39  primary_cleaner.input.xanthate                      14518 non-null  float64       \n",
      " 40  primary_cleaner.state.floatbank8_a_air              14576 non-null  float64       \n",
      " 41  primary_cleaner.state.floatbank8_a_level            14579 non-null  float64       \n",
      " 42  primary_cleaner.state.floatbank8_b_air              14576 non-null  float64       \n",
      " 43  primary_cleaner.state.floatbank8_b_level            14579 non-null  float64       \n",
      " 44  primary_cleaner.state.floatbank8_c_air              14579 non-null  float64       \n",
      " 45  primary_cleaner.state.floatbank8_c_level            14579 non-null  float64       \n",
      " 46  primary_cleaner.state.floatbank8_d_air              14578 non-null  float64       \n",
      " 47  primary_cleaner.state.floatbank8_d_level            14579 non-null  float64       \n",
      " 48  primary_cleaner.output.concentrate_au               14579 non-null  float64       \n",
      " 49  primary_cleaner.output.concentrate_ag               14579 non-null  float64       \n",
      " 50  primary_cleaner.output.concentrate_pb               14491 non-null  float64       \n",
      " 51  primary_cleaner.output.concentrate_sol              14314 non-null  float64       \n",
      " 52  primary_cleaner.output.tail_au                      14579 non-null  float64       \n",
      " 53  primary_cleaner.output.tail_ag                      14575 non-null  float64       \n",
      " 54  primary_cleaner.output.tail_pb                      14573 non-null  float64       \n",
      " 55  primary_cleaner.output.tail_sol                     14534 non-null  float64       \n",
      " 56  secondary_cleaner.state.floatbank2_a_air            14485 non-null  float64       \n",
      " 57  secondary_cleaner.state.floatbank2_a_level          14579 non-null  float64       \n",
      " 58  secondary_cleaner.state.floatbank2_b_air            14557 non-null  float64       \n",
      " 59  secondary_cleaner.state.floatbank2_b_level          14579 non-null  float64       \n",
      " 60  secondary_cleaner.state.floatbank3_a_air            14567 non-null  float64       \n",
      " 61  secondary_cleaner.state.floatbank3_a_level          14579 non-null  float64       \n",
      " 62  secondary_cleaner.state.floatbank3_b_air            14579 non-null  float64       \n",
      " 63  secondary_cleaner.state.floatbank3_b_level          14579 non-null  float64       \n",
      " 64  secondary_cleaner.state.floatbank4_a_air            14574 non-null  float64       \n",
      " 65  secondary_cleaner.state.floatbank4_a_level          14579 non-null  float64       \n",
      " 66  secondary_cleaner.state.floatbank4_b_air            14579 non-null  float64       \n",
      " 67  secondary_cleaner.state.floatbank4_b_level          14579 non-null  float64       \n",
      " 68  secondary_cleaner.state.floatbank5_a_air            14579 non-null  float64       \n",
      " 69  secondary_cleaner.state.floatbank5_a_level          14579 non-null  float64       \n",
      " 70  secondary_cleaner.state.floatbank5_b_air            14579 non-null  float64       \n",
      " 71  secondary_cleaner.state.floatbank5_b_level          14579 non-null  float64       \n",
      " 72  secondary_cleaner.state.floatbank6_a_air            14578 non-null  float64       \n",
      " 73  secondary_cleaner.state.floatbank6_a_level          14579 non-null  float64       \n",
      " 74  secondary_cleaner.output.tail_au                    14579 non-null  float64       \n",
      " 75  secondary_cleaner.output.tail_ag                    14578 non-null  float64       \n",
      " 76  secondary_cleaner.output.tail_pb                    14575 non-null  float64       \n",
      " 77  secondary_cleaner.output.tail_sol                   13659 non-null  float64       \n",
      " 78  final.output.concentrate_au                         14579 non-null  float64       \n",
      " 79  final.output.concentrate_ag                         14578 non-null  float64       \n",
      " 80  final.output.concentrate_pb                         14578 non-null  float64       \n",
      " 81  final.output.concentrate_sol                        14387 non-null  float64       \n",
      " 82  final.output.recovery                               14579 non-null  float64       \n",
      " 83  final.output.tail_au                                14579 non-null  float64       \n",
      " 84  final.output.tail_ag                                14578 non-null  float64       \n",
      " 85  final.output.tail_pb                                14504 non-null  float64       \n",
      " 86  final.output.tail_sol                               14574 non-null  float64       \n",
      "dtypes: datetime64[ns](1), float64(86)\n",
      "memory usage: 9.7 MB\n",
      "None\n",
      "<class 'pandas.core.frame.DataFrame'>\n",
      "RangeIndex: 4860 entries, 0 to 4859\n",
      "Data columns (total 53 columns):\n",
      " #   Column                                      Non-Null Count  Dtype         \n",
      "---  ------                                      --------------  -----         \n",
      " 0   date                                        4860 non-null   datetime64[ns]\n",
      " 1   rougher.input.feed_au                       4860 non-null   float64       \n",
      " 2   rougher.input.feed_ag                       4860 non-null   float64       \n",
      " 3   rougher.input.feed_pb                       4832 non-null   float64       \n",
      " 4   rougher.input.feed_sol                      4838 non-null   float64       \n",
      " 5   rougher.input.feed_rate                     4856 non-null   float64       \n",
      " 6   rougher.input.feed_size                     4816 non-null   float64       \n",
      " 7   rougher.input.floatbank10_sulfate           4857 non-null   float64       \n",
      " 8   rougher.input.floatbank10_xanthate          4859 non-null   float64       \n",
      " 9   rougher.state.floatbank10_a_air             4859 non-null   float64       \n",
      " 10  rougher.state.floatbank10_a_level           4859 non-null   float64       \n",
      " 11  rougher.state.floatbank10_b_air             4859 non-null   float64       \n",
      " 12  rougher.state.floatbank10_b_level           4859 non-null   float64       \n",
      " 13  rougher.state.floatbank10_c_air             4859 non-null   float64       \n",
      " 14  rougher.state.floatbank10_c_level           4859 non-null   float64       \n",
      " 15  rougher.state.floatbank10_d_air             4860 non-null   float64       \n",
      " 16  rougher.state.floatbank10_d_level           4860 non-null   float64       \n",
      " 17  rougher.state.floatbank10_e_air             4853 non-null   float64       \n",
      " 18  rougher.state.floatbank10_e_level           4860 non-null   float64       \n",
      " 19  rougher.state.floatbank10_f_air             4860 non-null   float64       \n",
      " 20  rougher.state.floatbank10_f_level           4860 non-null   float64       \n",
      " 21  rougher.input.floatbank11_sulfate           4852 non-null   float64       \n",
      " 22  rougher.input.floatbank11_xanthate          4814 non-null   float64       \n",
      " 23  primary_cleaner.input.sulfate               4859 non-null   float64       \n",
      " 24  primary_cleaner.input.depressant            4851 non-null   float64       \n",
      " 25  primary_cleaner.input.feed_size             4860 non-null   float64       \n",
      " 26  primary_cleaner.input.xanthate              4817 non-null   float64       \n",
      " 27  primary_cleaner.state.floatbank8_a_air      4859 non-null   float64       \n",
      " 28  primary_cleaner.state.floatbank8_a_level    4859 non-null   float64       \n",
      " 29  primary_cleaner.state.floatbank8_b_air      4859 non-null   float64       \n",
      " 30  primary_cleaner.state.floatbank8_b_level    4859 non-null   float64       \n",
      " 31  primary_cleaner.state.floatbank8_c_air      4858 non-null   float64       \n",
      " 32  primary_cleaner.state.floatbank8_c_level    4859 non-null   float64       \n",
      " 33  primary_cleaner.state.floatbank8_d_air      4858 non-null   float64       \n",
      " 34  primary_cleaner.state.floatbank8_d_level    4859 non-null   float64       \n",
      " 35  secondary_cleaner.state.floatbank2_a_air    4734 non-null   float64       \n",
      " 36  secondary_cleaner.state.floatbank2_a_level  4859 non-null   float64       \n",
      " 37  secondary_cleaner.state.floatbank2_b_air    4859 non-null   float64       \n",
      " 38  secondary_cleaner.state.floatbank2_b_level  4859 non-null   float64       \n",
      " 39  secondary_cleaner.state.floatbank3_a_air    4859 non-null   float64       \n",
      " 40  secondary_cleaner.state.floatbank3_a_level  4859 non-null   float64       \n",
      " 41  secondary_cleaner.state.floatbank3_b_air    4859 non-null   float64       \n",
      " 42  secondary_cleaner.state.floatbank3_b_level  4859 non-null   float64       \n",
      " 43  secondary_cleaner.state.floatbank4_a_air    4859 non-null   float64       \n",
      " 44  secondary_cleaner.state.floatbank4_a_level  4859 non-null   float64       \n",
      " 45  secondary_cleaner.state.floatbank4_b_air    4859 non-null   float64       \n",
      " 46  secondary_cleaner.state.floatbank4_b_level  4859 non-null   float64       \n",
      " 47  secondary_cleaner.state.floatbank5_a_air    4859 non-null   float64       \n",
      " 48  secondary_cleaner.state.floatbank5_a_level  4859 non-null   float64       \n",
      " 49  secondary_cleaner.state.floatbank5_b_air    4859 non-null   float64       \n",
      " 50  secondary_cleaner.state.floatbank5_b_level  4859 non-null   float64       \n",
      " 51  secondary_cleaner.state.floatbank6_a_air    4859 non-null   float64       \n",
      " 52  secondary_cleaner.state.floatbank6_a_level  4859 non-null   float64       \n",
      "dtypes: datetime64[ns](1), float64(52)\n",
      "memory usage: 2.0 MB\n",
      "None\n",
      "<class 'pandas.core.frame.DataFrame'>\n",
      "RangeIndex: 19439 entries, 0 to 19438\n",
      "Data columns (total 87 columns):\n",
      " #   Column                                              Non-Null Count  Dtype         \n",
      "---  ------                                              --------------  -----         \n",
      " 0   date                                                19439 non-null  datetime64[ns]\n",
      " 1   rougher.input.feed_au                               19439 non-null  float64       \n",
      " 2   rougher.input.feed_ag                               19439 non-null  float64       \n",
      " 3   rougher.input.feed_pb                               19339 non-null  float64       \n",
      " 4   rougher.input.feed_sol                              19340 non-null  float64       \n",
      " 5   rougher.input.feed_rate                             19428 non-null  float64       \n",
      " 6   rougher.input.feed_size                             19294 non-null  float64       \n",
      " 7   rougher.input.floatbank10_sulfate                   19405 non-null  float64       \n",
      " 8   rougher.input.floatbank10_xanthate                  19431 non-null  float64       \n",
      " 9   rougher.state.floatbank10_a_air                     19438 non-null  float64       \n",
      " 10  rougher.state.floatbank10_a_level                   19438 non-null  float64       \n",
      " 11  rougher.state.floatbank10_b_air                     19438 non-null  float64       \n",
      " 12  rougher.state.floatbank10_b_level                   19438 non-null  float64       \n",
      " 13  rougher.state.floatbank10_c_air                     19438 non-null  float64       \n",
      " 14  rougher.state.floatbank10_c_level                   19438 non-null  float64       \n",
      " 15  rougher.state.floatbank10_d_air                     19439 non-null  float64       \n",
      " 16  rougher.state.floatbank10_d_level                   19439 non-null  float64       \n",
      " 17  rougher.state.floatbank10_e_air                     19003 non-null  float64       \n",
      " 18  rougher.state.floatbank10_e_level                   19439 non-null  float64       \n",
      " 19  rougher.state.floatbank10_f_air                     19439 non-null  float64       \n",
      " 20  rougher.state.floatbank10_f_level                   19439 non-null  float64       \n",
      " 21  rougher.input.floatbank11_sulfate                   19395 non-null  float64       \n",
      " 22  rougher.input.floatbank11_xanthate                  18986 non-null  float64       \n",
      " 23  rougher.calculation.sulfate_to_au_concentrate       19437 non-null  float64       \n",
      " 24  rougher.calculation.floatbank10_sulfate_to_au_feed  19437 non-null  float64       \n",
      " 25  rougher.calculation.floatbank11_sulfate_to_au_feed  19437 non-null  float64       \n",
      " 26  rougher.calculation.au_pb_ratio                     19439 non-null  float64       \n",
      " 27  rougher.output.concentrate_au                       19439 non-null  float64       \n",
      " 28  rougher.output.concentrate_ag                       19439 non-null  float64       \n",
      " 29  rougher.output.concentrate_pb                       19439 non-null  float64       \n",
      " 30  rougher.output.concentrate_sol                      19416 non-null  float64       \n",
      " 31  rougher.output.recovery                             19439 non-null  float64       \n",
      " 32  rougher.output.tail_au                              19439 non-null  float64       \n",
      " 33  rougher.output.tail_ag                              19438 non-null  float64       \n",
      " 34  rougher.output.tail_pb                              19439 non-null  float64       \n",
      " 35  rougher.output.tail_sol                             19439 non-null  float64       \n",
      " 36  primary_cleaner.input.sulfate                       19415 non-null  float64       \n",
      " 37  primary_cleaner.input.depressant                    19402 non-null  float64       \n",
      " 38  primary_cleaner.input.feed_size                     19439 non-null  float64       \n",
      " 39  primary_cleaner.input.xanthate                      19335 non-null  float64       \n",
      " 40  primary_cleaner.state.floatbank8_a_air              19435 non-null  float64       \n",
      " 41  primary_cleaner.state.floatbank8_a_level            19438 non-null  float64       \n",
      " 42  primary_cleaner.state.floatbank8_b_air              19435 non-null  float64       \n",
      " 43  primary_cleaner.state.floatbank8_b_level            19438 non-null  float64       \n",
      " 44  primary_cleaner.state.floatbank8_c_air              19437 non-null  float64       \n",
      " 45  primary_cleaner.state.floatbank8_c_level            19438 non-null  float64       \n",
      " 46  primary_cleaner.state.floatbank8_d_air              19436 non-null  float64       \n",
      " 47  primary_cleaner.state.floatbank8_d_level            19438 non-null  float64       \n",
      " 48  primary_cleaner.output.concentrate_au               19439 non-null  float64       \n",
      " 49  primary_cleaner.output.concentrate_ag               19439 non-null  float64       \n",
      " 50  primary_cleaner.output.concentrate_pb               19323 non-null  float64       \n",
      " 51  primary_cleaner.output.concentrate_sol              19069 non-null  float64       \n",
      " 52  primary_cleaner.output.tail_au                      19439 non-null  float64       \n",
      " 53  primary_cleaner.output.tail_ag                      19435 non-null  float64       \n",
      " 54  primary_cleaner.output.tail_pb                      19418 non-null  float64       \n",
      " 55  primary_cleaner.output.tail_sol                     19377 non-null  float64       \n",
      " 56  secondary_cleaner.state.floatbank2_a_air            19219 non-null  float64       \n",
      " 57  secondary_cleaner.state.floatbank2_a_level          19438 non-null  float64       \n",
      " 58  secondary_cleaner.state.floatbank2_b_air            19416 non-null  float64       \n",
      " 59  secondary_cleaner.state.floatbank2_b_level          19438 non-null  float64       \n",
      " 60  secondary_cleaner.state.floatbank3_a_air            19426 non-null  float64       \n",
      " 61  secondary_cleaner.state.floatbank3_a_level          19438 non-null  float64       \n",
      " 62  secondary_cleaner.state.floatbank3_b_air            19438 non-null  float64       \n",
      " 63  secondary_cleaner.state.floatbank3_b_level          19438 non-null  float64       \n",
      " 64  secondary_cleaner.state.floatbank4_a_air            19433 non-null  float64       \n",
      " 65  secondary_cleaner.state.floatbank4_a_level          19438 non-null  float64       \n",
      " 66  secondary_cleaner.state.floatbank4_b_air            19438 non-null  float64       \n",
      " 67  secondary_cleaner.state.floatbank4_b_level          19438 non-null  float64       \n",
      " 68  secondary_cleaner.state.floatbank5_a_air            19438 non-null  float64       \n",
      " 69  secondary_cleaner.state.floatbank5_a_level          19438 non-null  float64       \n",
      " 70  secondary_cleaner.state.floatbank5_b_air            19438 non-null  float64       \n",
      " 71  secondary_cleaner.state.floatbank5_b_level          19438 non-null  float64       \n",
      " 72  secondary_cleaner.state.floatbank6_a_air            19437 non-null  float64       \n",
      " 73  secondary_cleaner.state.floatbank6_a_level          19438 non-null  float64       \n",
      " 74  secondary_cleaner.output.tail_au                    19439 non-null  float64       \n",
      " 75  secondary_cleaner.output.tail_ag                    19437 non-null  float64       \n",
      " 76  secondary_cleaner.output.tail_pb                    19427 non-null  float64       \n",
      " 77  secondary_cleaner.output.tail_sol                   17691 non-null  float64       \n",
      " 78  final.output.concentrate_au                         19439 non-null  float64       \n",
      " 79  final.output.concentrate_ag                         19438 non-null  float64       \n",
      " 80  final.output.concentrate_pb                         19438 non-null  float64       \n",
      " 81  final.output.concentrate_sol                        19228 non-null  float64       \n",
      " 82  final.output.recovery                               19439 non-null  float64       \n",
      " 83  final.output.tail_au                                19439 non-null  float64       \n",
      " 84  final.output.tail_ag                                19438 non-null  float64       \n",
      " 85  final.output.tail_pb                                19338 non-null  float64       \n",
      " 86  final.output.tail_sol                               19433 non-null  float64       \n",
      "dtypes: datetime64[ns](1), float64(86)\n",
      "memory usage: 12.9 MB\n",
      "None\n"
     ]
    }
   ],
   "source": [
    "print(train.info())\n",
    "print(test.info())\n",
    "print(full.info())"
   ]
  },
  {
   "cell_type": "code",
   "execution_count": 4,
   "metadata": {},
   "outputs": [
    {
     "data": {
      "text/plain": [
       "{'final.output.concentrate_ag',\n",
       " 'final.output.concentrate_au',\n",
       " 'final.output.concentrate_pb',\n",
       " 'final.output.concentrate_sol',\n",
       " 'final.output.recovery',\n",
       " 'final.output.tail_ag',\n",
       " 'final.output.tail_au',\n",
       " 'final.output.tail_pb',\n",
       " 'final.output.tail_sol',\n",
       " 'primary_cleaner.output.concentrate_ag',\n",
       " 'primary_cleaner.output.concentrate_au',\n",
       " 'primary_cleaner.output.concentrate_pb',\n",
       " 'primary_cleaner.output.concentrate_sol',\n",
       " 'primary_cleaner.output.tail_ag',\n",
       " 'primary_cleaner.output.tail_au',\n",
       " 'primary_cleaner.output.tail_pb',\n",
       " 'primary_cleaner.output.tail_sol',\n",
       " 'rougher.calculation.au_pb_ratio',\n",
       " 'rougher.calculation.floatbank10_sulfate_to_au_feed',\n",
       " 'rougher.calculation.floatbank11_sulfate_to_au_feed',\n",
       " 'rougher.calculation.sulfate_to_au_concentrate',\n",
       " 'rougher.output.concentrate_ag',\n",
       " 'rougher.output.concentrate_au',\n",
       " 'rougher.output.concentrate_pb',\n",
       " 'rougher.output.concentrate_sol',\n",
       " 'rougher.output.recovery',\n",
       " 'rougher.output.tail_ag',\n",
       " 'rougher.output.tail_au',\n",
       " 'rougher.output.tail_pb',\n",
       " 'rougher.output.tail_sol',\n",
       " 'secondary_cleaner.output.tail_ag',\n",
       " 'secondary_cleaner.output.tail_au',\n",
       " 'secondary_cleaner.output.tail_pb',\n",
       " 'secondary_cleaner.output.tail_sol'}"
      ]
     },
     "execution_count": 4,
     "metadata": {},
     "output_type": "execute_result"
    }
   ],
   "source": [
    "#признаки которые есть в обучающей, но нет в тестовой\n",
    "set(train.columns) - set(test.columns)"
   ]
  },
  {
   "cell_type": "markdown",
   "metadata": {},
   "source": [
    "Признаки output являются целевыми, поэтому в обучающей выборке их нет. Также в тестовой выборке нет признаков calculation. Это можно объяснить тем, что возможно эти данные не доступны во время самого процесса."
   ]
  },
  {
   "cell_type": "markdown",
   "metadata": {},
   "source": [
    "### Проверка правильности расчета эффективности обогащения"
   ]
  },
  {
   "cell_type": "markdown",
   "metadata": {},
   "source": [
    "Вычислим её на обучающей выборке для признака rougher.output.recovery. Найдём MAE между вашими расчётами и значением признака. "
   ]
  },
  {
   "cell_type": "code",
   "execution_count": 5,
   "metadata": {},
   "outputs": [],
   "source": [
    "def calc_recovery(C, F, T):\n",
    "    \n",
    "    numerator = (C*(F-T))\n",
    "    denominator =(F*(C-T))\n",
    "    \n",
    "    rec = numerator / denominator * 100\n",
    "    \n",
    "    # так как мы не застрахованы от очень больших и очень маленьких значений, то заполним их\n",
    "    rec[rec<0] = np.nan\n",
    "    rec[rec>100] = np.nan\n",
    "    return rec"
   ]
  },
  {
   "cell_type": "code",
   "execution_count": 6,
   "metadata": {},
   "outputs": [],
   "source": [
    "recovery = train.dropna().reset_index()\n",
    "rougher_output_recovery = recovery['rougher.output.recovery']\n",
    "rougher_output_tail_au = recovery['rougher.output.tail_au']\n",
    "rougher_input_feed_au = recovery['rougher.input.feed_au']\n",
    "rougher_output_concentrate_au = recovery['rougher.output.concentrate_au']"
   ]
  },
  {
   "cell_type": "code",
   "execution_count": 7,
   "metadata": {},
   "outputs": [
    {
     "data": {
      "text/plain": [
       "0        87.107763\n",
       "1        86.843261\n",
       "2        86.842308\n",
       "3        87.226430\n",
       "4        86.688794\n",
       "           ...    \n",
       "12332    87.684717\n",
       "12333    90.677361\n",
       "12334    89.574376\n",
       "12335    87.724007\n",
       "12336    88.890579\n",
       "Length: 12337, dtype: float64"
      ]
     },
     "execution_count": 7,
     "metadata": {},
     "output_type": "execute_result"
    }
   ],
   "source": [
    "rec = calc_recovery(rougher_output_concentrate_au, rougher_input_feed_au, rougher_output_tail_au)\n",
    "rec"
   ]
  },
  {
   "cell_type": "code",
   "execution_count": 8,
   "metadata": {},
   "outputs": [
    {
     "data": {
      "text/html": [
       "<div>\n",
       "<style scoped>\n",
       "    .dataframe tbody tr th:only-of-type {\n",
       "        vertical-align: middle;\n",
       "    }\n",
       "\n",
       "    .dataframe tbody tr th {\n",
       "        vertical-align: top;\n",
       "    }\n",
       "\n",
       "    .dataframe thead th {\n",
       "        text-align: right;\n",
       "    }\n",
       "</style>\n",
       "<table border=\"1\" class=\"dataframe\">\n",
       "  <thead>\n",
       "    <tr style=\"text-align: right;\">\n",
       "      <th></th>\n",
       "      <th>percent</th>\n",
       "      <th>abs</th>\n",
       "    </tr>\n",
       "  </thead>\n",
       "  <tbody>\n",
       "    <tr>\n",
       "      <th>secondary_cleaner.output.tail_sol</th>\n",
       "      <td>0.063104</td>\n",
       "      <td>920</td>\n",
       "    </tr>\n",
       "    <tr>\n",
       "      <th>rougher.state.floatbank10_e_air</th>\n",
       "      <td>0.029426</td>\n",
       "      <td>429</td>\n",
       "    </tr>\n",
       "    <tr>\n",
       "      <th>rougher.input.floatbank11_xanthate</th>\n",
       "      <td>0.027917</td>\n",
       "      <td>407</td>\n",
       "    </tr>\n",
       "    <tr>\n",
       "      <th>primary_cleaner.output.concentrate_sol</th>\n",
       "      <td>0.018177</td>\n",
       "      <td>265</td>\n",
       "    </tr>\n",
       "    <tr>\n",
       "      <th>final.output.concentrate_sol</th>\n",
       "      <td>0.013170</td>\n",
       "      <td>192</td>\n",
       "    </tr>\n",
       "    <tr>\n",
       "      <th>rougher.input.feed_size</th>\n",
       "      <td>0.006928</td>\n",
       "      <td>101</td>\n",
       "    </tr>\n",
       "    <tr>\n",
       "      <th>secondary_cleaner.state.floatbank2_a_air</th>\n",
       "      <td>0.006448</td>\n",
       "      <td>94</td>\n",
       "    </tr>\n",
       "    <tr>\n",
       "      <th>primary_cleaner.output.concentrate_pb</th>\n",
       "      <td>0.006036</td>\n",
       "      <td>88</td>\n",
       "    </tr>\n",
       "    <tr>\n",
       "      <th>rougher.input.feed_sol</th>\n",
       "      <td>0.005282</td>\n",
       "      <td>77</td>\n",
       "    </tr>\n",
       "    <tr>\n",
       "      <th>final.output.tail_pb</th>\n",
       "      <td>0.005144</td>\n",
       "      <td>75</td>\n",
       "    </tr>\n",
       "  </tbody>\n",
       "</table>\n",
       "</div>"
      ],
      "text/plain": [
       "                                           percent  abs\n",
       "secondary_cleaner.output.tail_sol         0.063104  920\n",
       "rougher.state.floatbank10_e_air           0.029426  429\n",
       "rougher.input.floatbank11_xanthate        0.027917  407\n",
       "primary_cleaner.output.concentrate_sol    0.018177  265\n",
       "final.output.concentrate_sol              0.013170  192\n",
       "rougher.input.feed_size                   0.006928  101\n",
       "secondary_cleaner.state.floatbank2_a_air  0.006448   94\n",
       "primary_cleaner.output.concentrate_pb     0.006036   88\n",
       "rougher.input.feed_sol                    0.005282   77\n",
       "final.output.tail_pb                      0.005144   75"
      ]
     },
     "execution_count": 8,
     "metadata": {},
     "output_type": "execute_result"
    }
   ],
   "source": [
    "def show_na(df):\n",
    "    na_info = (df.isna() | df.isnull()).sum()\n",
    "    res = (pd.concat([na_info / df.shape[0], na_info], axis=1,  keys=['percent', 'abs'])\n",
    "           .sort_values('percent', ascending=False))\n",
    "    return res\n",
    "\n",
    "show_na(train).head(10)"
   ]
  },
  {
   "cell_type": "code",
   "execution_count": 9,
   "metadata": {},
   "outputs": [
    {
     "data": {
      "text/plain": [
       "0"
      ]
     },
     "execution_count": 9,
     "metadata": {},
     "output_type": "execute_result"
    }
   ],
   "source": [
    "rec.isna().sum()"
   ]
  },
  {
   "cell_type": "code",
   "execution_count": 10,
   "metadata": {},
   "outputs": [
    {
     "data": {
      "text/plain": [
       "9.906677443564516e-15"
      ]
     },
     "execution_count": 10,
     "metadata": {},
     "output_type": "execute_result"
    }
   ],
   "source": [
    "mean_absolute_error(rec,rougher_output_recovery)"
   ]
  },
  {
   "cell_type": "markdown",
   "metadata": {},
   "source": [
    "Значения посчитаны верно, так как все пропуски были либо больше ста, либо меньше нуля."
   ]
  },
  {
   "cell_type": "markdown",
   "metadata": {},
   "source": [
    "<div class=\"alert alert-info\">\n",
    "<font size=\"4\"></font>\n",
    "    <font size=\"3\", color = \"black\">\n",
    "Приведя к общему знаменателю нетрудно посчитать, что значение выражения в точности равно нулю. Почему же питон считает, что это число порядка 1е-16? 1/3 в десятичном виде == 0.33333 ну и бесконечное число троек после запятой. Разумеется, физически невозможно, да и просто бессмысленно хранить бесконечное число знаков, хранится ограниченное количество, из-за этого и возникают микроскопические расхождения."
   ]
  },
  {
   "cell_type": "markdown",
   "metadata": {},
   "source": [
    "### Предобработка"
   ]
  },
  {
   "cell_type": "code",
   "execution_count": 12,
   "metadata": {},
   "outputs": [
    {
     "data": {
      "text/plain": [
       "0"
      ]
     },
     "execution_count": 12,
     "metadata": {},
     "output_type": "execute_result"
    }
   ],
   "source": [
    "full.duplicated().sum()"
   ]
  },
  {
   "cell_type": "code",
   "execution_count": 13,
   "metadata": {},
   "outputs": [
    {
     "name": "stdout",
     "output_type": "stream",
     "text": [
      "Количество строк с пропусками в train: 3050\n",
      "Количество строк с пропусками в test: 375\n",
      "Количество строк с пропусками в full: 4481\n"
     ]
    }
   ],
   "source": [
    "print('Количество строк с пропусками в train:', train.isna().sum().sum())\n",
    "print('Количество строк с пропусками в test:', test.isna().sum().sum())\n",
    "print('Количество строк с пропусками в full:', full.isna().sum().sum())"
   ]
  },
  {
   "cell_type": "markdown",
   "metadata": {},
   "source": [
    "Заполним пропуски соседними значениями, так как в задании сказано, что соседние значения похожи."
   ]
  },
  {
   "cell_type": "code",
   "execution_count": 14,
   "metadata": {},
   "outputs": [],
   "source": [
    "train = train.fillna(method='ffill')\n",
    "test = test.fillna(method='ffill')\n",
    "full = full.fillna(method='ffill')"
   ]
  },
  {
   "cell_type": "code",
   "execution_count": 15,
   "metadata": {},
   "outputs": [
    {
     "name": "stdout",
     "output_type": "stream",
     "text": [
      "Количество строк с пропусками в train: 0\n",
      "Количество строк с пропусками в test: 0\n",
      "Количество строк с пропусками в full: 0\n"
     ]
    }
   ],
   "source": [
    "print('Количество строк с пропусками в train:', train.isna().sum().sum())\n",
    "print('Количество строк с пропусками в test:', test.isna().sum().sum())\n",
    "print('Количество строк с пропусками в full:', full.isna().sum().sum())"
   ]
  },
  {
   "cell_type": "markdown",
   "metadata": {},
   "source": [
    "Дубликатов нет, пропуски были заполнены соседними значениями."
   ]
  },
  {
   "cell_type": "markdown",
   "metadata": {},
   "source": [
    "## Анализ данных"
   ]
  },
  {
   "cell_type": "markdown",
   "metadata": {},
   "source": [
    "### Изменение концентрации элементов на каждом этапе"
   ]
  },
  {
   "cell_type": "code",
   "execution_count": 16,
   "metadata": {},
   "outputs": [
    {
     "data": {
      "image/png": "[encoded data removed]",
      "text/plain": [
       "<Figure size 1440x360 with 4 Axes>"
      ]
     },
     "metadata": {
      "needs_background": "light"
     },
     "output_type": "display_data"
    },
    {
     "data": {
      "image/png": "[encoded data removed]",
      "text/plain": [
       "<Figure size 1440x360 with 4 Axes>"
      ]
     },
     "metadata": {
      "needs_background": "light"
     },
     "output_type": "display_data"
    }
   ],
   "source": [
    "process = ['rougher.input.feed',\n",
    "           'rougher.output.concentrate',\n",
    "           'primary_cleaner.output.concentrate',\n",
    "           'final.output.concentrate']\n",
    "\n",
    "process_tail = ['rougher.input.feed',\n",
    "                'rougher.output.tail',\n",
    "                'primary_cleaner.output.tail',\n",
    "                'final.output.tail']\n",
    "\n",
    "metals = ['au', 'ag', 'pb']\n",
    "\n",
    "fig, axs = plt.subplots(1, len(process), figsize=(20, 5))\n",
    "fig.suptitle('Концентрация металлов на выходе, по стадиям', fontsize=24)\n",
    "\n",
    "for stage, ax in zip(process, axs):\n",
    "    ax.set_title(stage)\n",
    "    for metal in metals:        \n",
    "        cols = train.columns.str.contains(stage+'_'+metal)\n",
    "        sns_ax = sns.distplot(train.loc[:, cols].dropna(), label=metal, ax=ax)    \n",
    "plt.legend()\n",
    "\n",
    "fig, axs = plt.subplots(1, 4, figsize=(20, 5))\n",
    "fig.suptitle('Концентрация металлов в хвосте, по стадиям', fontsize=24)\n",
    "\n",
    "for stage, ax in zip(process_tail, axs):\n",
    "    ax.set_title(stage)\n",
    "    for metal in metals:        \n",
    "        cols = train.columns.str.contains(stage+'_'+metal)\n",
    "        sns_ax = sns.distplot(train.loc[:, cols].dropna(), label=metal, ax=ax)   \n",
    "plt.legend()\n",
    "\n",
    "plt.show()"
   ]
  },
  {
   "cell_type": "markdown",
   "metadata": {},
   "source": [
    "Первостепенный вывод - в процессе очистки концентрация золота возрастает, что логично. Также стало заметно, что на каждом этапе концептрация металов совершенно разная."
   ]
  },
  {
   "cell_type": "code",
   "execution_count": 17,
   "metadata": {},
   "outputs": [
    {
     "data": {
      "image/png": "[encoded data removed]",
      "text/plain": [
       "<Figure size 1440x360 with 3 Axes>"
      ]
     },
     "metadata": {
      "needs_background": "light"
     },
     "output_type": "display_data"
    },
    {
     "data": {
      "image/png": "[encoded data removed]",
      "text/plain": [
       "<Figure size 1440x360 with 3 Axes>"
      ]
     },
     "metadata": {
      "needs_background": "light"
     },
     "output_type": "display_data"
    }
   ],
   "source": [
    "fig, axs = plt.subplots(1, len(metals), figsize=(20, 5))\n",
    "fig.suptitle('Концентрация металлов в продукции', fontsize=24)\n",
    "\n",
    "for metal, ax in zip(metals, axs):\n",
    "    ax.set_title(metal)\n",
    "    for stage in process:\n",
    "        cols = train.columns.str.contains(stage+'_'+metal)\n",
    "        sns_ax = sns.distplot(train.loc[:, cols].dropna(), label=stage, ax=ax)   \n",
    "plt.legend()\n",
    "\n",
    "fig, axs = plt.subplots(1, len(metals), figsize=(20, 5))\n",
    "fig.suptitle('Концентрация металлов в хвосте', fontsize=24)\n",
    "\n",
    "for metal, ax in zip(metals, axs):\n",
    "    ax.set_title(metal)\n",
    "    for stage in process_tail:\n",
    "        cols = train.columns.str.contains(stage+'_'+metal)\n",
    "        sns_ax = sns.distplot(train.loc[:, cols].dropna(), label=stage, ax=ax)   \n",
    "plt.legend()\n",
    "\n",
    "plt.show()"
   ]
  },
  {
   "cell_type": "markdown",
   "metadata": {},
   "source": [
    "Концентрация всех металлов возрастает, но золота больше, чем серебра и свинца. Самая большая концентрация золота в хвостах после флотации, при очистке концентрация золота в хвоствх чуть меньше. "
   ]
  },
  {
   "cell_type": "markdown",
   "metadata": {},
   "source": [
    "### Распределения размеров гранул на обучающей и тестовой выборках"
   ]
  },
  {
   "cell_type": "code",
   "execution_count": 18,
   "metadata": {},
   "outputs": [
    {
     "data": {
      "image/png": "[encoded data removed]",
      "text/plain": [
       "<Figure size 432x288 with 1 Axes>"
      ]
     },
     "metadata": {
      "needs_background": "light"
     },
     "output_type": "display_data"
    }
   ],
   "source": [
    "sns.distplot(train['rougher.input.feed_size'].dropna(), label='train')\n",
    "sns.distplot(test['rougher.input.feed_size'].dropna(), label='test')\n",
    "plt.legend();"
   ]
  },
  {
   "cell_type": "markdown",
   "metadata": {},
   "source": [
    "По графику мы видим, что распределения размеров гранул очень похожи."
   ]
  },
  {
   "cell_type": "markdown",
   "metadata": {},
   "source": [
    "### Суммарные концентрации"
   ]
  },
  {
   "cell_type": "code",
   "execution_count": 19,
   "metadata": {},
   "outputs": [],
   "source": [
    "#посчитаем сумму концентраций металлов после флотации\n",
    "full['sum_concentrate_rougher'] = (\n",
    "    full['rougher.output.concentrate_ag'] + \n",
    "    full['rougher.output.concentrate_pb'] +\n",
    "    full['rougher.output.concentrate_sol'] +\n",
    "    full['rougher.output.concentrate_au']\n",
    ")\n",
    "\n",
    "#посчитаем сумму концентраций металлов после первичной очистки\n",
    "full['sum_primary_cleaner_output_concentrate'] = (\n",
    "    full['primary_cleaner.output.concentrate_ag'] + \n",
    "    full['primary_cleaner.output.concentrate_pb'] +\n",
    "    full['primary_cleaner.output.concentrate_sol'] +\n",
    "    full['primary_cleaner.output.concentrate_au']\n",
    ")\n",
    "\n",
    "#посчитаем сумму концентраций металлов после финальной очистки\n",
    "full['sum_final_output_concentrate'] = (\n",
    "    full['final.output.concentrate_ag'] +\n",
    "    full['final.output.concentrate_pb'] +\n",
    "    full['final.output.concentrate_sol'] +\n",
    "    full['final.output.concentrate_au']\n",
    ")\n",
    "\n",
    "sum_concentrate = ['sum_concentrate_rougher', 'sum_primary_cleaner_output_concentrate', 'sum_final_output_concentrate']"
   ]
  },
  {
   "cell_type": "code",
   "execution_count": 20,
   "metadata": {},
   "outputs": [
    {
     "data": {
      "text/plain": [
       "Text(0, 0.5, 'Частота')"
      ]
     },
     "execution_count": 20,
     "metadata": {},
     "output_type": "execute_result"
    },
    {
     "data": {
      "image/png": "[encoded data removed]",
      "text/plain": [
       "<Figure size 1008x576 with 1 Axes>"
      ]
     },
     "metadata": {
      "needs_background": "light"
     },
     "output_type": "display_data"
    }
   ],
   "source": [
    "plt.figure(figsize=(14,8))\n",
    "sns.distplot(full[full['sum_concentrate_rougher'] > 0.04]['sum_concentrate_rougher'], bins=80, label='sum_concentrate_rougher')\n",
    "sns.distplot(full[full['sum_primary_cleaner_output_concentrate'] > 0.04]['sum_primary_cleaner_output_concentrate'], bins=80, label='sum_primary_cleaner_output_concentrate')\n",
    "sns.distplot(full[full['sum_final_output_concentrate'] > 0.04]['sum_final_output_concentrate'], bins=80, label='sum_final_output_concentrate')\n",
    "plt.vlines(full[full['sum_concentrate_rougher'] > 0.3]['sum_concentrate_rougher'].mean(), 0, 0.07, color = 'black')\n",
    "plt.vlines(full[full['sum_primary_cleaner_output_concentrate'] > 0.3]['sum_primary_cleaner_output_concentrate'].mean(), 0, 0.10, color = 'black')\n",
    "plt.vlines(full[full['sum_final_output_concentrate'] > 0.3]['sum_final_output_concentrate'].mean(), 0, 0.17, color = 'black')\n",
    "plt.legend()\n",
    "\n",
    "plt.title(\"Суммарный концентрат\")\n",
    "plt.xlabel(\"Суммарный концентрат металла\")\n",
    "plt.ylabel(\"Частота\")"
   ]
  },
  {
   "cell_type": "markdown",
   "metadata": {},
   "source": [
    "По графику видно, что есть выбросы, что может испортить обучение модели, поэтому удалим значения от 0 до 40."
   ]
  },
  {
   "cell_type": "code",
   "execution_count": 21,
   "metadata": {},
   "outputs": [
    {
     "data": {
      "text/html": [
       "<div>\n",
       "<style scoped>\n",
       "    .dataframe tbody tr th:only-of-type {\n",
       "        vertical-align: middle;\n",
       "    }\n",
       "\n",
       "    .dataframe tbody tr th {\n",
       "        vertical-align: top;\n",
       "    }\n",
       "\n",
       "    .dataframe thead th {\n",
       "        text-align: right;\n",
       "    }\n",
       "</style>\n",
       "<table border=\"1\" class=\"dataframe\">\n",
       "  <thead>\n",
       "    <tr style=\"text-align: right;\">\n",
       "      <th></th>\n",
       "      <th>date</th>\n",
       "      <th>rougher.input.feed_au</th>\n",
       "      <th>rougher.input.feed_ag</th>\n",
       "      <th>rougher.input.feed_pb</th>\n",
       "      <th>rougher.input.feed_sol</th>\n",
       "      <th>rougher.input.feed_rate</th>\n",
       "      <th>rougher.input.feed_size</th>\n",
       "      <th>rougher.input.floatbank10_sulfate</th>\n",
       "      <th>rougher.input.floatbank10_xanthate</th>\n",
       "      <th>rougher.state.floatbank10_a_air</th>\n",
       "      <th>...</th>\n",
       "      <th>final.output.concentrate_pb</th>\n",
       "      <th>final.output.concentrate_sol</th>\n",
       "      <th>final.output.recovery</th>\n",
       "      <th>final.output.tail_au</th>\n",
       "      <th>final.output.tail_ag</th>\n",
       "      <th>final.output.tail_pb</th>\n",
       "      <th>final.output.tail_sol</th>\n",
       "      <th>sum_concentrate_rougher</th>\n",
       "      <th>sum_primary_cleaner_output_concentrate</th>\n",
       "      <th>sum_final_output_concentrate</th>\n",
       "    </tr>\n",
       "  </thead>\n",
       "  <tbody>\n",
       "    <tr>\n",
       "      <th>0</th>\n",
       "      <td>2016-01-15 00:00:00</td>\n",
       "      <td>6.486150</td>\n",
       "      <td>6.100378</td>\n",
       "      <td>2.284912</td>\n",
       "      <td>36.808594</td>\n",
       "      <td>523.546326</td>\n",
       "      <td>55.486599</td>\n",
       "      <td>11.986616</td>\n",
       "      <td>6.007990</td>\n",
       "      <td>999.706909</td>\n",
       "      <td>...</td>\n",
       "      <td>9.889648</td>\n",
       "      <td>5.507324</td>\n",
       "      <td>70.541216</td>\n",
       "      <td>2.143149</td>\n",
       "      <td>10.411962</td>\n",
       "      <td>0.895447</td>\n",
       "      <td>16.904297</td>\n",
       "      <td>66.424950</td>\n",
       "      <td>72.640924</td>\n",
       "      <td>63.644396</td>\n",
       "    </tr>\n",
       "    <tr>\n",
       "      <th>1</th>\n",
       "      <td>2016-01-15 01:00:00</td>\n",
       "      <td>6.478583</td>\n",
       "      <td>6.161113</td>\n",
       "      <td>2.266033</td>\n",
       "      <td>35.753385</td>\n",
       "      <td>525.290581</td>\n",
       "      <td>57.278666</td>\n",
       "      <td>11.971193</td>\n",
       "      <td>6.005766</td>\n",
       "      <td>1000.286398</td>\n",
       "      <td>...</td>\n",
       "      <td>9.968944</td>\n",
       "      <td>5.257781</td>\n",
       "      <td>69.266198</td>\n",
       "      <td>2.224930</td>\n",
       "      <td>10.462676</td>\n",
       "      <td>0.927452</td>\n",
       "      <td>16.634514</td>\n",
       "      <td>67.012710</td>\n",
       "      <td>72.543485</td>\n",
       "      <td>63.957723</td>\n",
       "    </tr>\n",
       "    <tr>\n",
       "      <th>2</th>\n",
       "      <td>2016-01-15 02:00:00</td>\n",
       "      <td>6.362222</td>\n",
       "      <td>6.116455</td>\n",
       "      <td>2.159622</td>\n",
       "      <td>35.971630</td>\n",
       "      <td>530.026610</td>\n",
       "      <td>57.510649</td>\n",
       "      <td>11.920603</td>\n",
       "      <td>6.197377</td>\n",
       "      <td>999.719565</td>\n",
       "      <td>...</td>\n",
       "      <td>10.213995</td>\n",
       "      <td>5.383759</td>\n",
       "      <td>68.116445</td>\n",
       "      <td>2.257889</td>\n",
       "      <td>10.507046</td>\n",
       "      <td>0.953716</td>\n",
       "      <td>16.208849</td>\n",
       "      <td>66.103793</td>\n",
       "      <td>72.095042</td>\n",
       "      <td>64.311180</td>\n",
       "    </tr>\n",
       "    <tr>\n",
       "      <th>3</th>\n",
       "      <td>2016-01-15 03:00:00</td>\n",
       "      <td>6.118189</td>\n",
       "      <td>6.043309</td>\n",
       "      <td>2.037807</td>\n",
       "      <td>36.862241</td>\n",
       "      <td>542.590390</td>\n",
       "      <td>57.792734</td>\n",
       "      <td>11.630094</td>\n",
       "      <td>6.203177</td>\n",
       "      <td>999.814770</td>\n",
       "      <td>...</td>\n",
       "      <td>9.977019</td>\n",
       "      <td>4.858634</td>\n",
       "      <td>68.347543</td>\n",
       "      <td>2.146849</td>\n",
       "      <td>10.422762</td>\n",
       "      <td>0.883763</td>\n",
       "      <td>16.532835</td>\n",
       "      <td>65.752751</td>\n",
       "      <td>59.957723</td>\n",
       "      <td>63.573449</td>\n",
       "    </tr>\n",
       "    <tr>\n",
       "      <th>4</th>\n",
       "      <td>2016-01-15 04:00:00</td>\n",
       "      <td>5.663707</td>\n",
       "      <td>6.060915</td>\n",
       "      <td>1.786875</td>\n",
       "      <td>34.347666</td>\n",
       "      <td>540.531893</td>\n",
       "      <td>56.047189</td>\n",
       "      <td>10.957755</td>\n",
       "      <td>6.198826</td>\n",
       "      <td>999.678690</td>\n",
       "      <td>...</td>\n",
       "      <td>10.142511</td>\n",
       "      <td>4.939416</td>\n",
       "      <td>66.927016</td>\n",
       "      <td>2.055292</td>\n",
       "      <td>10.360302</td>\n",
       "      <td>0.792826</td>\n",
       "      <td>16.525686</td>\n",
       "      <td>65.908382</td>\n",
       "      <td>71.321010</td>\n",
       "      <td>64.004667</td>\n",
       "    </tr>\n",
       "  </tbody>\n",
       "</table>\n",
       "<p>5 rows × 90 columns</p>\n",
       "</div>"
      ],
      "text/plain": [
       "                 date  rougher.input.feed_au  rougher.input.feed_ag  \\\n",
       "0 2016-01-15 00:00:00               6.486150               6.100378   \n",
       "1 2016-01-15 01:00:00               6.478583               6.161113   \n",
       "2 2016-01-15 02:00:00               6.362222               6.116455   \n",
       "3 2016-01-15 03:00:00               6.118189               6.043309   \n",
       "4 2016-01-15 04:00:00               5.663707               6.060915   \n",
       "\n",
       "   rougher.input.feed_pb  rougher.input.feed_sol  rougher.input.feed_rate  \\\n",
       "0               2.284912               36.808594               523.546326   \n",
       "1               2.266033               35.753385               525.290581   \n",
       "2               2.159622               35.971630               530.026610   \n",
       "3               2.037807               36.862241               542.590390   \n",
       "4               1.786875               34.347666               540.531893   \n",
       "\n",
       "   rougher.input.feed_size  rougher.input.floatbank10_sulfate  \\\n",
       "0                55.486599                          11.986616   \n",
       "1                57.278666                          11.971193   \n",
       "2                57.510649                          11.920603   \n",
       "3                57.792734                          11.630094   \n",
       "4                56.047189                          10.957755   \n",
       "\n",
       "   rougher.input.floatbank10_xanthate  rougher.state.floatbank10_a_air  ...  \\\n",
       "0                            6.007990                       999.706909  ...   \n",
       "1                            6.005766                      1000.286398  ...   \n",
       "2                            6.197377                       999.719565  ...   \n",
       "3                            6.203177                       999.814770  ...   \n",
       "4                            6.198826                       999.678690  ...   \n",
       "\n",
       "   final.output.concentrate_pb  final.output.concentrate_sol  \\\n",
       "0                     9.889648                      5.507324   \n",
       "1                     9.968944                      5.257781   \n",
       "2                    10.213995                      5.383759   \n",
       "3                     9.977019                      4.858634   \n",
       "4                    10.142511                      4.939416   \n",
       "\n",
       "   final.output.recovery  final.output.tail_au  final.output.tail_ag  \\\n",
       "0              70.541216              2.143149             10.411962   \n",
       "1              69.266198              2.224930             10.462676   \n",
       "2              68.116445              2.257889             10.507046   \n",
       "3              68.347543              2.146849             10.422762   \n",
       "4              66.927016              2.055292             10.360302   \n",
       "\n",
       "   final.output.tail_pb  final.output.tail_sol  sum_concentrate_rougher  \\\n",
       "0              0.895447              16.904297                66.424950   \n",
       "1              0.927452              16.634514                67.012710   \n",
       "2              0.953716              16.208849                66.103793   \n",
       "3              0.883763              16.532835                65.752751   \n",
       "4              0.792826              16.525686                65.908382   \n",
       "\n",
       "   sum_primary_cleaner_output_concentrate  sum_final_output_concentrate  \n",
       "0                               72.640924                     63.644396  \n",
       "1                               72.543485                     63.957723  \n",
       "2                               72.095042                     64.311180  \n",
       "3                               59.957723                     63.573449  \n",
       "4                               71.321010                     64.004667  \n",
       "\n",
       "[5 rows x 90 columns]"
      ]
     },
     "execution_count": 21,
     "metadata": {},
     "output_type": "execute_result"
    }
   ],
   "source": [
    "full = full[full['sum_final_output_concentrate'] > 40]\n",
    "full = full[full['sum_primary_cleaner_output_concentrate'] > 40]\n",
    "full = full[full['sum_concentrate_rougher'] > 40]\n",
    "\n",
    "full.head()"
   ]
  },
  {
   "cell_type": "code",
   "execution_count": 22,
   "metadata": {},
   "outputs": [
    {
     "data": {
      "text/plain": [
       "Text(0, 0.5, 'Частота')"
      ]
     },
     "execution_count": 22,
     "metadata": {},
     "output_type": "execute_result"
    },
    {
     "data": {
      "image/png": "[encoded data removed]",
      "text/plain": [
       "<Figure size 1152x576 with 1 Axes>"
      ]
     },
     "metadata": {
      "needs_background": "light"
     },
     "output_type": "display_data"
    }
   ],
   "source": [
    "plt.figure(figsize=(16, 8))\n",
    "sns.distplot(full['sum_concentrate_rougher'], bins=80, label='sum_concentrate_rougher')\n",
    "sns.distplot(full['sum_primary_cleaner_output_concentrate'], bins=80, label='sum_primary_cleaner_output_concentrate')\n",
    "sns.distplot(full['sum_final_output_concentrate'], bins=80, label='sum_final_output_concentrate')\n",
    "plt.vlines(full['sum_concentrate_rougher'].mean(), 0, 0.07, color = 'black')\n",
    "plt.vlines(full['sum_primary_cleaner_output_concentrate'].mean(), 0, 0.10, color = 'black')\n",
    "plt.vlines(full['sum_final_output_concentrate'].mean(), 0, 0.17, color = 'black')\n",
    "plt.legend()\n",
    "\n",
    "plt.title(\"Суммарный концентрат металла\")\n",
    "plt.xlabel(\"Суммарный концентрат металла\")\n",
    "plt.ylabel(\"Частота\")"
   ]
  },
  {
   "cell_type": "code",
   "execution_count": 23,
   "metadata": {},
   "outputs": [],
   "source": [
    "#убираем выбросы из обучающей выборки\n",
    "#считаем сумму концентраций металлов после флотации\n",
    "train['sum_concentrate_rougher'] = (\n",
    "    train['rougher.output.concentrate_ag'] +\n",
    "    train['rougher.output.concentrate_pb'] +\n",
    "    train['rougher.output.concentrate_sol'] +\n",
    "    train['rougher.output.concentrate_au']\n",
    ")\n",
    "\n",
    "#считаем сумму концентраций металлов после первичной очистки\n",
    "train['sum_primary_cleaner_output_concentrate'] = (\n",
    "    train['primary_cleaner.output.concentrate_ag'] +\n",
    "    train['primary_cleaner.output.concentrate_pb'] +\n",
    "    train['primary_cleaner.output.concentrate_sol'] +\n",
    "    train['primary_cleaner.output.concentrate_au']\n",
    ")\n",
    "\n",
    "#считаем сумму концентраций металлов после финальной очистки\n",
    "train['sum_final_output_concentrate'] = (\n",
    "    train['final.output.concentrate_ag'] +\n",
    "    train['final.output.concentrate_pb'] +\n",
    "    train['final.output.concentrate_sol'] +\n",
    "    train['final.output.concentrate_au']\n",
    ")"
   ]
  },
  {
   "cell_type": "code",
   "execution_count": 24,
   "metadata": {},
   "outputs": [
    {
     "data": {
      "text/html": [
       "<div>\n",
       "<style scoped>\n",
       "    .dataframe tbody tr th:only-of-type {\n",
       "        vertical-align: middle;\n",
       "    }\n",
       "\n",
       "    .dataframe tbody tr th {\n",
       "        vertical-align: top;\n",
       "    }\n",
       "\n",
       "    .dataframe thead th {\n",
       "        text-align: right;\n",
       "    }\n",
       "</style>\n",
       "<table border=\"1\" class=\"dataframe\">\n",
       "  <thead>\n",
       "    <tr style=\"text-align: right;\">\n",
       "      <th></th>\n",
       "      <th>index</th>\n",
       "      <th>date</th>\n",
       "      <th>rougher.input.feed_au</th>\n",
       "      <th>rougher.input.feed_ag</th>\n",
       "      <th>rougher.input.feed_pb</th>\n",
       "      <th>rougher.input.feed_sol</th>\n",
       "      <th>rougher.input.feed_rate</th>\n",
       "      <th>rougher.input.feed_size</th>\n",
       "      <th>rougher.input.floatbank10_sulfate</th>\n",
       "      <th>rougher.input.floatbank10_xanthate</th>\n",
       "      <th>...</th>\n",
       "      <th>final.output.concentrate_pb</th>\n",
       "      <th>final.output.concentrate_sol</th>\n",
       "      <th>final.output.recovery</th>\n",
       "      <th>final.output.tail_au</th>\n",
       "      <th>final.output.tail_ag</th>\n",
       "      <th>final.output.tail_pb</th>\n",
       "      <th>final.output.tail_sol</th>\n",
       "      <th>sum_concentrate_rougher</th>\n",
       "      <th>sum_primary_cleaner_output_concentrate</th>\n",
       "      <th>sum_final_output_concentrate</th>\n",
       "    </tr>\n",
       "  </thead>\n",
       "  <tbody>\n",
       "    <tr>\n",
       "      <th>0</th>\n",
       "      <td>0</td>\n",
       "      <td>2016-01-15 00:00:00</td>\n",
       "      <td>6.486150</td>\n",
       "      <td>6.100378</td>\n",
       "      <td>2.284912</td>\n",
       "      <td>36.808594</td>\n",
       "      <td>523.546326</td>\n",
       "      <td>55.486599</td>\n",
       "      <td>11.986616</td>\n",
       "      <td>6.007990</td>\n",
       "      <td>...</td>\n",
       "      <td>9.889648</td>\n",
       "      <td>5.507324</td>\n",
       "      <td>70.541216</td>\n",
       "      <td>2.143149</td>\n",
       "      <td>10.411962</td>\n",
       "      <td>0.895447</td>\n",
       "      <td>16.904297</td>\n",
       "      <td>66.424950</td>\n",
       "      <td>72.640924</td>\n",
       "      <td>63.644396</td>\n",
       "    </tr>\n",
       "    <tr>\n",
       "      <th>1</th>\n",
       "      <td>1</td>\n",
       "      <td>2016-01-15 01:00:00</td>\n",
       "      <td>6.478583</td>\n",
       "      <td>6.161113</td>\n",
       "      <td>2.266033</td>\n",
       "      <td>35.753385</td>\n",
       "      <td>525.290581</td>\n",
       "      <td>57.278666</td>\n",
       "      <td>11.971193</td>\n",
       "      <td>6.005766</td>\n",
       "      <td>...</td>\n",
       "      <td>9.968944</td>\n",
       "      <td>5.257781</td>\n",
       "      <td>69.266198</td>\n",
       "      <td>2.224930</td>\n",
       "      <td>10.462676</td>\n",
       "      <td>0.927452</td>\n",
       "      <td>16.634514</td>\n",
       "      <td>67.012710</td>\n",
       "      <td>72.543485</td>\n",
       "      <td>63.957723</td>\n",
       "    </tr>\n",
       "    <tr>\n",
       "      <th>2</th>\n",
       "      <td>2</td>\n",
       "      <td>2016-01-15 02:00:00</td>\n",
       "      <td>6.362222</td>\n",
       "      <td>6.116455</td>\n",
       "      <td>2.159622</td>\n",
       "      <td>35.971630</td>\n",
       "      <td>530.026610</td>\n",
       "      <td>57.510649</td>\n",
       "      <td>11.920603</td>\n",
       "      <td>6.197377</td>\n",
       "      <td>...</td>\n",
       "      <td>10.213995</td>\n",
       "      <td>5.383759</td>\n",
       "      <td>68.116445</td>\n",
       "      <td>2.257889</td>\n",
       "      <td>10.507046</td>\n",
       "      <td>0.953716</td>\n",
       "      <td>16.208849</td>\n",
       "      <td>66.103793</td>\n",
       "      <td>72.095042</td>\n",
       "      <td>64.311180</td>\n",
       "    </tr>\n",
       "    <tr>\n",
       "      <th>3</th>\n",
       "      <td>3</td>\n",
       "      <td>2016-01-15 03:00:00</td>\n",
       "      <td>6.118189</td>\n",
       "      <td>6.043309</td>\n",
       "      <td>2.037807</td>\n",
       "      <td>36.862241</td>\n",
       "      <td>542.590390</td>\n",
       "      <td>57.792734</td>\n",
       "      <td>11.630094</td>\n",
       "      <td>6.203177</td>\n",
       "      <td>...</td>\n",
       "      <td>9.977019</td>\n",
       "      <td>4.858634</td>\n",
       "      <td>68.347543</td>\n",
       "      <td>2.146849</td>\n",
       "      <td>10.422762</td>\n",
       "      <td>0.883763</td>\n",
       "      <td>16.532835</td>\n",
       "      <td>65.752751</td>\n",
       "      <td>59.957723</td>\n",
       "      <td>63.573449</td>\n",
       "    </tr>\n",
       "    <tr>\n",
       "      <th>4</th>\n",
       "      <td>4</td>\n",
       "      <td>2016-01-15 04:00:00</td>\n",
       "      <td>5.663707</td>\n",
       "      <td>6.060915</td>\n",
       "      <td>1.786875</td>\n",
       "      <td>34.347666</td>\n",
       "      <td>540.531893</td>\n",
       "      <td>56.047189</td>\n",
       "      <td>10.957755</td>\n",
       "      <td>6.198826</td>\n",
       "      <td>...</td>\n",
       "      <td>10.142511</td>\n",
       "      <td>4.939416</td>\n",
       "      <td>66.927016</td>\n",
       "      <td>2.055292</td>\n",
       "      <td>10.360302</td>\n",
       "      <td>0.792826</td>\n",
       "      <td>16.525686</td>\n",
       "      <td>65.908382</td>\n",
       "      <td>71.321010</td>\n",
       "      <td>64.004667</td>\n",
       "    </tr>\n",
       "  </tbody>\n",
       "</table>\n",
       "<p>5 rows × 91 columns</p>\n",
       "</div>"
      ],
      "text/plain": [
       "   index                date  rougher.input.feed_au  rougher.input.feed_ag  \\\n",
       "0      0 2016-01-15 00:00:00               6.486150               6.100378   \n",
       "1      1 2016-01-15 01:00:00               6.478583               6.161113   \n",
       "2      2 2016-01-15 02:00:00               6.362222               6.116455   \n",
       "3      3 2016-01-15 03:00:00               6.118189               6.043309   \n",
       "4      4 2016-01-15 04:00:00               5.663707               6.060915   \n",
       "\n",
       "   rougher.input.feed_pb  rougher.input.feed_sol  rougher.input.feed_rate  \\\n",
       "0               2.284912               36.808594               523.546326   \n",
       "1               2.266033               35.753385               525.290581   \n",
       "2               2.159622               35.971630               530.026610   \n",
       "3               2.037807               36.862241               542.590390   \n",
       "4               1.786875               34.347666               540.531893   \n",
       "\n",
       "   rougher.input.feed_size  rougher.input.floatbank10_sulfate  \\\n",
       "0                55.486599                          11.986616   \n",
       "1                57.278666                          11.971193   \n",
       "2                57.510649                          11.920603   \n",
       "3                57.792734                          11.630094   \n",
       "4                56.047189                          10.957755   \n",
       "\n",
       "   rougher.input.floatbank10_xanthate  ...  final.output.concentrate_pb  \\\n",
       "0                            6.007990  ...                     9.889648   \n",
       "1                            6.005766  ...                     9.968944   \n",
       "2                            6.197377  ...                    10.213995   \n",
       "3                            6.203177  ...                     9.977019   \n",
       "4                            6.198826  ...                    10.142511   \n",
       "\n",
       "   final.output.concentrate_sol  final.output.recovery  final.output.tail_au  \\\n",
       "0                      5.507324              70.541216              2.143149   \n",
       "1                      5.257781              69.266198              2.224930   \n",
       "2                      5.383759              68.116445              2.257889   \n",
       "3                      4.858634              68.347543              2.146849   \n",
       "4                      4.939416              66.927016              2.055292   \n",
       "\n",
       "   final.output.tail_ag  final.output.tail_pb  final.output.tail_sol  \\\n",
       "0             10.411962              0.895447              16.904297   \n",
       "1             10.462676              0.927452              16.634514   \n",
       "2             10.507046              0.953716              16.208849   \n",
       "3             10.422762              0.883763              16.532835   \n",
       "4             10.360302              0.792826              16.525686   \n",
       "\n",
       "   sum_concentrate_rougher  sum_primary_cleaner_output_concentrate  \\\n",
       "0                66.424950                               72.640924   \n",
       "1                67.012710                               72.543485   \n",
       "2                66.103793                               72.095042   \n",
       "3                65.752751                               59.957723   \n",
       "4                65.908382                               71.321010   \n",
       "\n",
       "   sum_final_output_concentrate  \n",
       "0                     63.644396  \n",
       "1                     63.957723  \n",
       "2                     64.311180  \n",
       "3                     63.573449  \n",
       "4                     64.004667  \n",
       "\n",
       "[5 rows x 91 columns]"
      ]
     },
     "execution_count": 24,
     "metadata": {},
     "output_type": "execute_result"
    }
   ],
   "source": [
    "train = train[train['sum_final_output_concentrate'] > 40]\n",
    "train = train[train['sum_primary_cleaner_output_concentrate'] > 40]\n",
    "train = train[train['sum_concentrate_rougher'] > 40]\n",
    "train = train.reset_index()\n",
    "\n",
    "train.head()"
   ]
  },
  {
   "cell_type": "code",
   "execution_count": 25,
   "metadata": {},
   "outputs": [
    {
     "data": {
      "text/plain": [
       "Text(0, 0.5, 'Частота')"
      ]
     },
     "execution_count": 25,
     "metadata": {},
     "output_type": "execute_result"
    },
    {
     "data": {
      "image/png": "[encoded data removed]",
      "text/plain": [
       "<Figure size 1152x576 with 1 Axes>"
      ]
     },
     "metadata": {
      "needs_background": "light"
     },
     "output_type": "display_data"
    }
   ],
   "source": [
    "plt.figure(figsize=(16,8))\n",
    "sns.distplot(train['sum_concentrate_rougher'], bins=80, label='sum_concentrate_rougher')\n",
    "sns.distplot(train['sum_primary_cleaner_output_concentrate'], bins=80, label='sum_primary_cleaner_output_concentrate')\n",
    "sns.distplot(train['sum_final_output_concentrate'], bins=80, label='sum_final_output_concentrate')\n",
    "plt.vlines(train['sum_concentrate_rougher'].mean(), 0, 0.07, color = 'black')\n",
    "plt.vlines(train['sum_primary_cleaner_output_concentrate'].mean(), 0, 0.10, color = 'black')\n",
    "plt.vlines(train['sum_final_output_concentrate'].mean(), 0, 0.17, color = 'black')\n",
    "plt.legend()\n",
    "\n",
    "plt.title('Суммарный концентрат металла')\n",
    "plt.xlabel('Суммарный концентрат металла')\n",
    "plt.ylabel('Частота')"
   ]
  },
  {
   "cell_type": "markdown",
   "metadata": {},
   "source": [
    "В рамках анализа мы исследовали изменение концентрации элементов на каждом этапе, проанализирваны распределения размеров гранул на обучающей и тестовой выборках, исследованы суммарные концентрации, а также удалены аномальные значения."
   ]
  },
  {
   "cell_type": "markdown",
   "metadata": {},
   "source": [
    "## Модель"
   ]
  },
  {
   "cell_type": "code",
   "execution_count": 26,
   "metadata": {},
   "outputs": [],
   "source": [
    "#создадим датасет для целевых признаков, недостающих в тестовой выборке\n",
    "df_target = full[['date', 'rougher.output.recovery', 'final.output.recovery']]"
   ]
  },
  {
   "cell_type": "code",
   "execution_count": 27,
   "metadata": {},
   "outputs": [],
   "source": [
    "test = test.merge(df_target, how = 'left', on = 'date')\n",
    "\n",
    "# удалим столбец с датой\n",
    "test.drop(['date'], axis=1, inplace=True)\n",
    "\n",
    "#удалим из тренировочной выборки те признаки, которых нет в тестовой\n",
    "train = train.drop(set(train.columns)-set(test.columns), axis=1)"
   ]
  },
  {
   "cell_type": "code",
   "execution_count": 28,
   "metadata": {},
   "outputs": [],
   "source": [
    "def smape_total(target_rougher, predicted_rougher, target_final, predicted_final):\n",
    "    smape_rough = 1/len(target_rougher) * np.sum(2 * np.abs(\n",
    "      target_rougher - predicted_rougher) / (np.abs(target_rougher) + np.abs(predicted_rougher))*100)\n",
    "    smape_fin = 1/len(target_final) * np.sum(2 * np.abs(\n",
    "      target_final - predicted_final) / (np.abs(target_final) + np.abs(predicted_final))*100)\n",
    "    return (0.25*smape_rough) + (0.75*smape_fin)"
   ]
  },
  {
   "cell_type": "code",
   "execution_count": 29,
   "metadata": {},
   "outputs": [],
   "source": [
    "def smape(target, predicted):\n",
    "    return 1/len(target) * np.sum(2 * np.abs(\n",
    "       target - predicted) / (np.abs(target) + np.abs(predicted))*100)\n",
    "def smape_final(rougher, final):\n",
    "    return 0.25*rougher + 0.75*final"
   ]
  },
  {
   "cell_type": "code",
   "execution_count": 30,
   "metadata": {},
   "outputs": [],
   "source": [
    "# выделим признаки на тренировочной выборке для rougher\n",
    "features_train_r = train.filter(regex='^rougher',axis=1)\n",
    "features_train_r = features_train_r.drop(['rougher.output.recovery'], axis=1)\n",
    "target_train_r = train['rougher.output.recovery']\n",
    "\n",
    "# для final\n",
    "features_train_f = train.drop(['rougher.output.recovery', 'final.output.recovery'], axis=1)\n",
    "target_train_f = train['final.output.recovery']\n",
    "\n",
    "# выделим признаки на тестовой выборке для rougher\n",
    "features_test_r = test.filter(regex='^rougher',axis=1)\n",
    "features_test_r = features_test_r.drop(['rougher.output.recovery'], axis=1)\n",
    "target_test_r = test['rougher.output.recovery']\n",
    "\n",
    "# и для final\n",
    "features_test_f = test.drop(['rougher.output.recovery', 'final.output.recovery'], axis=1)\n",
    "target_test_f = test['final.output.recovery']"
   ]
  },
  {
   "cell_type": "markdown",
   "metadata": {},
   "source": [
    "### Линейная регрессия"
   ]
  },
  {
   "cell_type": "code",
   "execution_count": 31,
   "metadata": {},
   "outputs": [
    {
     "name": "stdout",
     "output_type": "stream",
     "text": [
      "Итоговое sMape для линейной регрессии: -8.681320906337394\n"
     ]
    }
   ],
   "source": [
    "# построим модель для линейной регрессии и сделаем кросс-валидацию методом cross_val_score\n",
    "model = LinearRegression()\n",
    "scorer = make_scorer(smape, greater_is_better=False)\n",
    "rougher_lin = cross_val_score(model, features_train_r, target_train_r, scoring=scorer, cv=5)\n",
    "final_lin =  cross_val_score(model, features_train_f, target_train_f, scoring=scorer, cv=5)\n",
    "print('Итоговое sMape для линейной регрессии:', smape_final(rougher_lin, final_lin).mean())"
   ]
  },
  {
   "cell_type": "markdown",
   "metadata": {},
   "source": [
    "### Дерево решений"
   ]
  },
  {
   "cell_type": "code",
   "execution_count": 32,
   "metadata": {},
   "outputs": [
    {
     "name": "stdout",
     "output_type": "stream",
     "text": [
      "Глубина: 1\n",
      "Итоговое sMAPE для решающего дерева: -8.57368050828497\n",
      "\n",
      "Глубина: 3\n",
      "Итоговое sMAPE для решающего дерева: -8.380895970331686\n",
      "\n",
      "Глубина: 5\n",
      "Итоговое sMAPE для решающего дерева: -8.813140956616058\n",
      "\n",
      "Глубина: 7\n",
      "Итоговое sMAPE для решающего дерева: -9.504039804903488\n",
      "\n",
      "Глубина: 9\n",
      "Итоговое sMAPE для решающего дерева: -10.201135811073957\n",
      "\n",
      "Глубина: 11\n",
      "Итоговое sMAPE для решающего дерева: -11.577892166678552\n",
      "\n",
      "\n"
     ]
    }
   ],
   "source": [
    "# дерево решений\n",
    "for depth in range(1, 12, 2):\n",
    "    model2 = DecisionTreeRegressor(random_state=12345, max_depth = depth)\n",
    "    scorer = make_scorer(smape, greater_is_better=False)\n",
    "    rougher_tree = cross_val_score(model2, features_train_r, target_train_r, scoring=scorer, cv=5)\n",
    "    final_tree = cross_val_score(model2, features_train_f, target_train_f, scoring=scorer, cv=5)\n",
    "    print('Глубина:',depth)\n",
    "    print('Итоговое sMAPE для решающего дерева:',smape_final(rougher_tree, final_tree).mean())\n",
    "    print('')\n",
    "print()"
   ]
  },
  {
   "cell_type": "markdown",
   "metadata": {},
   "source": [
    "### Проверка лучшей модели на тестовой выборке"
   ]
  },
  {
   "cell_type": "code",
   "execution_count": 33,
   "metadata": {},
   "outputs": [
    {
     "name": "stdout",
     "output_type": "stream",
     "text": [
      "Итоговое sMAPE на тестовой выборке: 6.74428840010798\n"
     ]
    }
   ],
   "source": [
    "model_r = DecisionTreeRegressor(random_state=12345, max_depth = 3)\n",
    "model_f = DecisionTreeRegressor(random_state=12345, max_depth = 3)\n",
    "model_r.fit(features_train_r, target_train_r)\n",
    "model_f.fit(features_train_f, target_train_f)\n",
    "test_predictions_r = model_r.predict(features_test_r)\n",
    "test_predictions_f = model_f.predict(features_test_f)\n",
    "print('Итоговое sMAPE на тестовой выборке:',smape_total(target_test_r, test_predictions_r, target_test_f, test_predictions_f).mean())"
   ]
  },
  {
   "cell_type": "markdown",
   "metadata": {},
   "source": [
    "### Сравнение с константной моделью"
   ]
  },
  {
   "cell_type": "code",
   "execution_count": 34,
   "metadata": {},
   "outputs": [
    {
     "name": "stdout",
     "output_type": "stream",
     "text": [
      "Итоговое sMAPE для DummyRegressor: 7.93627377642213\n"
     ]
    }
   ],
   "source": [
    "dummy_model_r = DummyRegressor(strategy=\"mean\")\n",
    "dummy_model_f = DummyRegressor(strategy=\"mean\")\n",
    "dummy_model_r.fit(features_train_r, target_train_r)\n",
    "dummy_model_f.fit(features_train_f, target_train_f)\n",
    "test_predictions_r = dummy_model_r.predict(features_test_r)\n",
    "test_predictions_f = dummy_model_f.predict(features_test_f)\n",
    "\n",
    "print('Итоговое sMAPE для DummyRegressor:',smape_total(\n",
    "    target_test_r, test_predictions_r, target_test_f, test_predictions_f).mean())"
   ]
  },
  {
   "cell_type": "markdown",
   "metadata": {},
   "source": [
    "## Выводы"
   ]
  },
  {
   "cell_type": "markdown",
   "metadata": {},
   "source": [
    "В рамках проекта мы проверили формулу вычисления эффективности обогащения, проанализировали признаки, недоступные в тестовой выборке (признаки output являются целевыми, поэтому в обучающей выборке их нет, также в тестовой выборке нет признаков calculation, это можно объяснить тем, что возможно эти данные не доступны во время самого процесса). Провели предобработку, в рамках которой избавились от пропусков соседними значениями. Провели исследовательский анализ данных. Пришли к выводам, что в процессе очистки концентрация золота возрастает, что логично. Также стало заметно, что на каждом этапе концептрация металов совершенно разная. Концентрация всех металлов возрастает, но золота больше, чем серебра и свинца. Самая большая концентрация золота в хвостах после флотации, при очистке концентрация золота в хвоствх чуть меньше. Распределения размеров гранул на обучающей и тестовой выборках практически одинаковые. Далее мы написали функцию для посчёта sMAPE, обучили три модели и для их оценки использовали эту метрику. Мы выяснили, что лучшая модель для этой задачи - DecisionTree с глубиной 3. Метрика в итоге вышла 6.74. Также мы проверили модель на адекватность."
   ]
  }
 ],
 "metadata": {
  "ExecuteTimeLog": [
   {
    "duration": 1872,
    "start_time": "2023-10-14T19:36:37.822Z"
   },
   {
    "duration": 2132,
    "start_time": "2023-10-14T19:36:39.696Z"
   },
   {
    "duration": 727,
    "start_time": "2023-10-14T19:38:08.927Z"
   },
   {
    "duration": 5,
    "start_time": "2023-10-14T19:38:16.779Z"
   },
   {
    "duration": 836,
    "start_time": "2023-10-14T19:38:17.119Z"
   },
   {
    "duration": 1707,
    "start_time": "2023-10-14T19:38:24.664Z"
   },
   {
    "duration": 922,
    "start_time": "2023-10-14T19:38:26.374Z"
   },
   {
    "duration": 2757,
    "start_time": "2023-10-14T19:39:53.593Z"
   },
   {
    "duration": 62,
    "start_time": "2023-10-14T19:42:34.763Z"
   },
   {
    "duration": 150,
    "start_time": "2023-10-14T19:46:08.440Z"
   },
   {
    "duration": 14,
    "start_time": "2023-10-14T19:46:57.933Z"
   },
   {
    "duration": 41,
    "start_time": "2023-10-14T19:47:10.951Z"
   },
   {
    "duration": 15,
    "start_time": "2023-10-14T19:47:20.287Z"
   },
   {
    "duration": 9,
    "start_time": "2023-10-14T19:47:28.309Z"
   },
   {
    "duration": 15,
    "start_time": "2023-10-14T19:49:13.472Z"
   },
   {
    "duration": 18,
    "start_time": "2023-10-14T19:50:13.756Z"
   },
   {
    "duration": 36,
    "start_time": "2023-10-14T19:52:23.447Z"
   },
   {
    "duration": 13,
    "start_time": "2023-10-14T19:52:30.328Z"
   },
   {
    "duration": 7,
    "start_time": "2023-10-14T19:55:33.875Z"
   },
   {
    "duration": 16,
    "start_time": "2023-10-14T20:01:05.175Z"
   },
   {
    "duration": 17,
    "start_time": "2023-10-14T20:01:06.763Z"
   },
   {
    "duration": 5,
    "start_time": "2023-10-14T20:01:09.985Z"
   },
   {
    "duration": 88,
    "start_time": "2023-10-14T20:11:24.269Z"
   },
   {
    "duration": 95,
    "start_time": "2023-10-14T20:11:33.824Z"
   },
   {
    "duration": 94,
    "start_time": "2023-10-14T20:11:44.267Z"
   },
   {
    "duration": 86,
    "start_time": "2023-10-14T20:12:06.713Z"
   },
   {
    "duration": 12,
    "start_time": "2023-10-14T20:12:11.591Z"
   },
   {
    "duration": 6,
    "start_time": "2023-10-14T20:12:16.928Z"
   },
   {
    "duration": 24,
    "start_time": "2023-10-14T20:13:23.361Z"
   },
   {
    "duration": 10,
    "start_time": "2023-10-14T20:13:47.912Z"
   },
   {
    "duration": 5,
    "start_time": "2023-10-14T20:13:59.536Z"
   },
   {
    "duration": 1502,
    "start_time": "2023-10-14T20:19:40.228Z"
   },
   {
    "duration": 956,
    "start_time": "2023-10-14T20:19:41.732Z"
   },
   {
    "duration": 55,
    "start_time": "2023-10-14T20:19:42.690Z"
   },
   {
    "duration": 10,
    "start_time": "2023-10-14T20:19:42.748Z"
   },
   {
    "duration": 9,
    "start_time": "2023-10-14T20:19:42.762Z"
   },
   {
    "duration": 35,
    "start_time": "2023-10-14T20:19:42.772Z"
   },
   {
    "duration": 11,
    "start_time": "2023-10-14T20:19:42.809Z"
   },
   {
    "duration": 35,
    "start_time": "2023-10-14T20:19:42.822Z"
   },
   {
    "duration": 7,
    "start_time": "2023-10-14T20:19:42.859Z"
   },
   {
    "duration": 16,
    "start_time": "2023-10-14T20:19:42.868Z"
   },
   {
    "duration": 104,
    "start_time": "2023-10-14T20:19:42.885Z"
   },
   {
    "duration": 13,
    "start_time": "2023-10-14T20:19:42.991Z"
   },
   {
    "duration": 38,
    "start_time": "2023-10-14T20:19:43.006Z"
   },
   {
    "duration": 17,
    "start_time": "2023-10-14T20:19:43.047Z"
   },
   {
    "duration": 9785,
    "start_time": "2023-10-14T20:23:57.778Z"
   },
   {
    "duration": 1429,
    "start_time": "2023-10-14T20:24:31.170Z"
   },
   {
    "duration": 830,
    "start_time": "2023-10-14T20:24:32.600Z"
   },
   {
    "duration": 43,
    "start_time": "2023-10-14T20:24:33.432Z"
   },
   {
    "duration": 6,
    "start_time": "2023-10-14T20:24:33.478Z"
   },
   {
    "duration": 5,
    "start_time": "2023-10-14T20:24:33.486Z"
   },
   {
    "duration": 46,
    "start_time": "2023-10-14T20:24:33.493Z"
   },
   {
    "duration": 12,
    "start_time": "2023-10-14T20:24:33.541Z"
   },
   {
    "duration": 17,
    "start_time": "2023-10-14T20:24:33.555Z"
   },
   {
    "duration": 5,
    "start_time": "2023-10-14T20:24:33.573Z"
   },
   {
    "duration": 12,
    "start_time": "2023-10-14T20:24:33.579Z"
   },
   {
    "duration": 140,
    "start_time": "2023-10-14T20:24:33.593Z"
   },
   {
    "duration": 16,
    "start_time": "2023-10-14T20:24:33.744Z"
   },
   {
    "duration": 28,
    "start_time": "2023-10-14T20:24:33.761Z"
   },
   {
    "duration": 17,
    "start_time": "2023-10-14T20:24:33.791Z"
   },
   {
    "duration": 10488,
    "start_time": "2023-10-14T20:24:33.810Z"
   },
   {
    "duration": 9563,
    "start_time": "2023-10-14T20:26:17.489Z"
   },
   {
    "duration": 651,
    "start_time": "2023-10-14T20:26:45.342Z"
   },
   {
    "duration": 9,
    "start_time": "2023-10-14T20:28:28.026Z"
   },
   {
    "duration": 1343,
    "start_time": "2023-10-14T20:28:39.595Z"
   },
   {
    "duration": 47,
    "start_time": "2023-10-14T20:29:49.773Z"
   },
   {
    "duration": 1437,
    "start_time": "2023-10-14T20:30:03.244Z"
   },
   {
    "duration": 9,
    "start_time": "2023-10-14T20:30:16.900Z"
   },
   {
    "duration": 36,
    "start_time": "2023-10-14T20:30:27.147Z"
   },
   {
    "duration": 1401,
    "start_time": "2023-10-14T20:31:00.125Z"
   },
   {
    "duration": 87,
    "start_time": "2023-10-14T20:31:11.871Z"
   },
   {
    "duration": 9144,
    "start_time": "2023-10-14T20:33:38.853Z"
   },
   {
    "duration": 9258,
    "start_time": "2023-10-14T20:34:01.417Z"
   },
   {
    "duration": 8979,
    "start_time": "2023-10-14T20:34:22.304Z"
   },
   {
    "duration": 9391,
    "start_time": "2023-10-14T20:34:49.597Z"
   },
   {
    "duration": 8374,
    "start_time": "2023-10-14T20:35:56.802Z"
   },
   {
    "duration": 8263,
    "start_time": "2023-10-14T20:37:38.886Z"
   },
   {
    "duration": 684,
    "start_time": "2023-10-14T20:38:03.010Z"
   },
   {
    "duration": 1884,
    "start_time": "2023-10-14T20:53:15.727Z"
   },
   {
    "duration": 100,
    "start_time": "2023-10-14T21:07:02.349Z"
   },
   {
    "duration": 129,
    "start_time": "2023-10-14T21:07:09.133Z"
   },
   {
    "duration": 15,
    "start_time": "2023-10-14T21:07:20.959Z"
   },
   {
    "duration": 1535,
    "start_time": "2023-10-14T21:07:34.446Z"
   },
   {
    "duration": 877,
    "start_time": "2023-10-14T21:07:35.983Z"
   },
   {
    "duration": 39,
    "start_time": "2023-10-14T21:07:36.862Z"
   },
   {
    "duration": 5,
    "start_time": "2023-10-14T21:07:36.903Z"
   },
   {
    "duration": 21,
    "start_time": "2023-10-14T21:07:36.910Z"
   },
   {
    "duration": 21,
    "start_time": "2023-10-14T21:07:36.933Z"
   },
   {
    "duration": 11,
    "start_time": "2023-10-14T21:07:36.956Z"
   },
   {
    "duration": 25,
    "start_time": "2023-10-14T21:07:36.969Z"
   },
   {
    "duration": 5,
    "start_time": "2023-10-14T21:07:36.996Z"
   },
   {
    "duration": 16,
    "start_time": "2023-10-14T21:07:37.002Z"
   },
   {
    "duration": 109,
    "start_time": "2023-10-14T21:07:37.019Z"
   },
   {
    "duration": 23,
    "start_time": "2023-10-14T21:07:37.129Z"
   },
   {
    "duration": 24,
    "start_time": "2023-10-14T21:07:37.154Z"
   },
   {
    "duration": 13,
    "start_time": "2023-10-14T21:07:37.181Z"
   },
   {
    "duration": 8485,
    "start_time": "2023-10-14T21:07:37.196Z"
   },
   {
    "duration": 8528,
    "start_time": "2023-10-14T21:07:45.682Z"
   },
   {
    "duration": 706,
    "start_time": "2023-10-14T21:07:54.212Z"
   },
   {
    "duration": 9,
    "start_time": "2023-10-14T21:07:54.921Z"
   },
   {
    "duration": 1517,
    "start_time": "2023-10-14T21:07:54.932Z"
   },
   {
    "duration": 37,
    "start_time": "2023-10-14T21:07:56.451Z"
   },
   {
    "duration": 1342,
    "start_time": "2023-10-14T21:07:56.490Z"
   },
   {
    "duration": 14,
    "start_time": "2023-10-14T21:07:57.834Z"
   },
   {
    "duration": 38,
    "start_time": "2023-10-14T21:07:57.850Z"
   },
   {
    "duration": 1447,
    "start_time": "2023-10-14T21:07:57.890Z"
   },
   {
    "duration": 122,
    "start_time": "2023-10-14T21:07:59.344Z"
   },
   {
    "duration": 100,
    "start_time": "2023-10-14T21:08:39.022Z"
   },
   {
    "duration": 1418,
    "start_time": "2023-10-14T21:12:07.439Z"
   },
   {
    "duration": 832,
    "start_time": "2023-10-14T21:12:08.859Z"
   },
   {
    "duration": 37,
    "start_time": "2023-10-14T21:12:09.693Z"
   },
   {
    "duration": 16,
    "start_time": "2023-10-14T21:12:09.731Z"
   },
   {
    "duration": 17,
    "start_time": "2023-10-14T21:12:09.750Z"
   },
   {
    "duration": 27,
    "start_time": "2023-10-14T21:12:09.769Z"
   },
   {
    "duration": 16,
    "start_time": "2023-10-14T21:12:09.798Z"
   },
   {
    "duration": 18,
    "start_time": "2023-10-14T21:12:09.816Z"
   },
   {
    "duration": 31,
    "start_time": "2023-10-14T21:12:09.835Z"
   },
   {
    "duration": 49,
    "start_time": "2023-10-14T21:12:09.868Z"
   },
   {
    "duration": 113,
    "start_time": "2023-10-14T21:12:09.919Z"
   },
   {
    "duration": 18,
    "start_time": "2023-10-14T21:12:10.033Z"
   },
   {
    "duration": 23,
    "start_time": "2023-10-14T21:12:10.053Z"
   },
   {
    "duration": 13,
    "start_time": "2023-10-14T21:12:10.079Z"
   },
   {
    "duration": 8807,
    "start_time": "2023-10-14T21:12:10.093Z"
   },
   {
    "duration": 8125,
    "start_time": "2023-10-14T21:12:18.902Z"
   },
   {
    "duration": 512,
    "start_time": "2023-10-14T21:12:27.029Z"
   },
   {
    "duration": 9,
    "start_time": "2023-10-14T21:12:27.544Z"
   },
   {
    "duration": 1450,
    "start_time": "2023-10-14T21:12:27.555Z"
   },
   {
    "duration": 42,
    "start_time": "2023-10-14T21:12:29.006Z"
   },
   {
    "duration": 1357,
    "start_time": "2023-10-14T21:12:29.050Z"
   },
   {
    "duration": 8,
    "start_time": "2023-10-14T21:12:30.409Z"
   },
   {
    "duration": 112,
    "start_time": "2023-10-14T21:12:30.418Z"
   },
   {
    "duration": 1420,
    "start_time": "2023-10-14T21:12:30.532Z"
   },
   {
    "duration": 120,
    "start_time": "2023-10-14T21:12:31.953Z"
   },
   {
    "duration": 1632,
    "start_time": "2023-10-14T21:51:13.433Z"
   },
   {
    "duration": 889,
    "start_time": "2023-10-14T21:51:15.068Z"
   },
   {
    "duration": 40,
    "start_time": "2023-10-14T21:51:15.958Z"
   },
   {
    "duration": 6,
    "start_time": "2023-10-14T21:51:16.000Z"
   },
   {
    "duration": 20,
    "start_time": "2023-10-14T21:51:16.008Z"
   },
   {
    "duration": 27,
    "start_time": "2023-10-14T21:51:16.029Z"
   },
   {
    "duration": 11,
    "start_time": "2023-10-14T21:51:16.058Z"
   },
   {
    "duration": 38,
    "start_time": "2023-10-14T21:51:16.071Z"
   },
   {
    "duration": 5,
    "start_time": "2023-10-14T21:51:16.111Z"
   },
   {
    "duration": 8,
    "start_time": "2023-10-14T21:51:16.119Z"
   },
   {
    "duration": 105,
    "start_time": "2023-10-14T21:51:16.128Z"
   },
   {
    "duration": 18,
    "start_time": "2023-10-14T21:51:16.235Z"
   },
   {
    "duration": 24,
    "start_time": "2023-10-14T21:51:16.255Z"
   },
   {
    "duration": 22,
    "start_time": "2023-10-14T21:51:16.280Z"
   },
   {
    "duration": 9749,
    "start_time": "2023-10-14T21:51:16.303Z"
   },
   {
    "duration": 7961,
    "start_time": "2023-10-14T21:51:26.054Z"
   },
   {
    "duration": 739,
    "start_time": "2023-10-14T21:51:34.017Z"
   },
   {
    "duration": 10,
    "start_time": "2023-10-14T21:51:34.758Z"
   },
   {
    "duration": 1362,
    "start_time": "2023-10-14T21:51:34.770Z"
   },
   {
    "duration": 40,
    "start_time": "2023-10-14T21:51:36.134Z"
   },
   {
    "duration": 1362,
    "start_time": "2023-10-14T21:51:36.176Z"
   },
   {
    "duration": 10,
    "start_time": "2023-10-14T21:51:37.540Z"
   },
   {
    "duration": 41,
    "start_time": "2023-10-14T21:51:37.551Z"
   },
   {
    "duration": 1486,
    "start_time": "2023-10-14T21:51:37.595Z"
   },
   {
    "duration": 5,
    "start_time": "2023-10-14T21:51:39.083Z"
   },
   {
    "duration": 125,
    "start_time": "2023-10-14T21:51:39.090Z"
   },
   {
    "duration": 0,
    "start_time": "2023-10-14T21:51:39.217Z"
   },
   {
    "duration": 0,
    "start_time": "2023-10-14T21:51:39.220Z"
   },
   {
    "duration": 0,
    "start_time": "2023-10-14T21:51:39.221Z"
   },
   {
    "duration": 0,
    "start_time": "2023-10-14T21:51:39.222Z"
   },
   {
    "duration": 0,
    "start_time": "2023-10-14T21:51:39.224Z"
   },
   {
    "duration": 0,
    "start_time": "2023-10-14T21:51:39.225Z"
   },
   {
    "duration": 0,
    "start_time": "2023-10-14T21:51:39.227Z"
   },
   {
    "duration": 0,
    "start_time": "2023-10-14T21:51:39.243Z"
   },
   {
    "duration": 0,
    "start_time": "2023-10-14T21:51:39.244Z"
   },
   {
    "duration": 0,
    "start_time": "2023-10-14T21:51:39.246Z"
   },
   {
    "duration": 0,
    "start_time": "2023-10-14T21:51:39.248Z"
   },
   {
    "duration": 0,
    "start_time": "2023-10-14T21:51:39.249Z"
   },
   {
    "duration": 1437,
    "start_time": "2023-10-14T21:52:00.684Z"
   },
   {
    "duration": 850,
    "start_time": "2023-10-14T21:52:02.123Z"
   },
   {
    "duration": 39,
    "start_time": "2023-10-14T21:52:02.974Z"
   },
   {
    "duration": 6,
    "start_time": "2023-10-14T21:52:03.015Z"
   },
   {
    "duration": 21,
    "start_time": "2023-10-14T21:52:03.022Z"
   },
   {
    "duration": 16,
    "start_time": "2023-10-14T21:52:03.045Z"
   },
   {
    "duration": 11,
    "start_time": "2023-10-14T21:52:03.064Z"
   },
   {
    "duration": 39,
    "start_time": "2023-10-14T21:52:03.077Z"
   },
   {
    "duration": 6,
    "start_time": "2023-10-14T21:52:03.118Z"
   },
   {
    "duration": 16,
    "start_time": "2023-10-14T21:52:03.127Z"
   },
   {
    "duration": 112,
    "start_time": "2023-10-14T21:52:03.145Z"
   },
   {
    "duration": 12,
    "start_time": "2023-10-14T21:52:03.259Z"
   },
   {
    "duration": 25,
    "start_time": "2023-10-14T21:52:03.273Z"
   },
   {
    "duration": 12,
    "start_time": "2023-10-14T21:52:03.300Z"
   },
   {
    "duration": 8668,
    "start_time": "2023-10-14T21:52:03.314Z"
   },
   {
    "duration": 7962,
    "start_time": "2023-10-14T21:52:11.983Z"
   },
   {
    "duration": 510,
    "start_time": "2023-10-14T21:52:19.947Z"
   },
   {
    "duration": 9,
    "start_time": "2023-10-14T21:52:20.459Z"
   },
   {
    "duration": 1473,
    "start_time": "2023-10-14T21:52:20.469Z"
   },
   {
    "duration": 38,
    "start_time": "2023-10-14T21:52:21.944Z"
   },
   {
    "duration": 1369,
    "start_time": "2023-10-14T21:52:21.985Z"
   },
   {
    "duration": 9,
    "start_time": "2023-10-14T21:52:23.356Z"
   },
   {
    "duration": 71,
    "start_time": "2023-10-14T21:52:23.366Z"
   },
   {
    "duration": 1420,
    "start_time": "2023-10-14T21:52:23.438Z"
   },
   {
    "duration": 5,
    "start_time": "2023-10-14T21:52:24.859Z"
   },
   {
    "duration": 10,
    "start_time": "2023-10-14T21:52:24.866Z"
   },
   {
    "duration": 29,
    "start_time": "2023-10-14T21:52:24.878Z"
   },
   {
    "duration": 1021,
    "start_time": "2023-10-14T21:52:24.910Z"
   },
   {
    "duration": 0,
    "start_time": "2023-10-14T21:52:25.933Z"
   },
   {
    "duration": 0,
    "start_time": "2023-10-14T21:52:25.934Z"
   },
   {
    "duration": 0,
    "start_time": "2023-10-14T21:52:25.935Z"
   },
   {
    "duration": 0,
    "start_time": "2023-10-14T21:52:25.944Z"
   },
   {
    "duration": 0,
    "start_time": "2023-10-14T21:52:25.945Z"
   },
   {
    "duration": 0,
    "start_time": "2023-10-14T21:52:25.946Z"
   },
   {
    "duration": 0,
    "start_time": "2023-10-14T21:52:25.948Z"
   },
   {
    "duration": 1,
    "start_time": "2023-10-14T21:52:25.949Z"
   },
   {
    "duration": 0,
    "start_time": "2023-10-14T21:52:25.951Z"
   },
   {
    "duration": 0,
    "start_time": "2023-10-14T21:52:25.953Z"
   },
   {
    "duration": 64,
    "start_time": "2023-10-14T21:53:59.091Z"
   },
   {
    "duration": 178,
    "start_time": "2023-10-14T21:58:40.770Z"
   },
   {
    "duration": 170,
    "start_time": "2023-10-14T21:58:56.975Z"
   },
   {
    "duration": 209,
    "start_time": "2023-10-14T21:59:22.336Z"
   },
   {
    "duration": 165,
    "start_time": "2023-10-14T21:59:31.380Z"
   },
   {
    "duration": 1417,
    "start_time": "2023-10-14T22:14:39.495Z"
   },
   {
    "duration": 824,
    "start_time": "2023-10-14T22:14:40.914Z"
   },
   {
    "duration": 37,
    "start_time": "2023-10-14T22:14:41.739Z"
   },
   {
    "duration": 5,
    "start_time": "2023-10-14T22:14:41.778Z"
   },
   {
    "duration": 22,
    "start_time": "2023-10-14T22:14:41.785Z"
   },
   {
    "duration": 27,
    "start_time": "2023-10-14T22:14:41.808Z"
   },
   {
    "duration": 12,
    "start_time": "2023-10-14T22:14:41.837Z"
   },
   {
    "duration": 41,
    "start_time": "2023-10-14T22:14:41.850Z"
   },
   {
    "duration": 5,
    "start_time": "2023-10-14T22:14:41.893Z"
   },
   {
    "duration": 12,
    "start_time": "2023-10-14T22:14:41.900Z"
   },
   {
    "duration": 106,
    "start_time": "2023-10-14T22:14:41.914Z"
   },
   {
    "duration": 24,
    "start_time": "2023-10-14T22:14:42.022Z"
   },
   {
    "duration": 21,
    "start_time": "2023-10-14T22:14:42.047Z"
   },
   {
    "duration": 12,
    "start_time": "2023-10-14T22:14:42.072Z"
   },
   {
    "duration": 8690,
    "start_time": "2023-10-14T22:14:42.086Z"
   },
   {
    "duration": 8348,
    "start_time": "2023-10-14T22:14:50.778Z"
   },
   {
    "duration": 662,
    "start_time": "2023-10-14T22:14:59.127Z"
   },
   {
    "duration": 9,
    "start_time": "2023-10-14T22:14:59.792Z"
   },
   {
    "duration": 1334,
    "start_time": "2023-10-14T22:14:59.802Z"
   },
   {
    "duration": 43,
    "start_time": "2023-10-14T22:15:01.138Z"
   },
   {
    "duration": 1376,
    "start_time": "2023-10-14T22:15:01.183Z"
   },
   {
    "duration": 10,
    "start_time": "2023-10-14T22:15:02.561Z"
   },
   {
    "duration": 85,
    "start_time": "2023-10-14T22:15:02.574Z"
   },
   {
    "duration": 1484,
    "start_time": "2023-10-14T22:15:02.661Z"
   },
   {
    "duration": 3,
    "start_time": "2023-10-14T22:15:04.146Z"
   },
   {
    "duration": 29,
    "start_time": "2023-10-14T22:15:04.150Z"
   },
   {
    "duration": 31,
    "start_time": "2023-10-14T22:15:04.181Z"
   },
   {
    "duration": 126,
    "start_time": "2023-10-14T22:15:04.213Z"
   },
   {
    "duration": 0,
    "start_time": "2023-10-14T22:15:04.341Z"
   },
   {
    "duration": 1,
    "start_time": "2023-10-14T22:15:04.342Z"
   },
   {
    "duration": 0,
    "start_time": "2023-10-14T22:15:04.343Z"
   },
   {
    "duration": 0,
    "start_time": "2023-10-14T22:15:04.344Z"
   },
   {
    "duration": 0,
    "start_time": "2023-10-14T22:15:04.346Z"
   },
   {
    "duration": 0,
    "start_time": "2023-10-14T22:15:04.347Z"
   },
   {
    "duration": 0,
    "start_time": "2023-10-14T22:15:04.348Z"
   },
   {
    "duration": 0,
    "start_time": "2023-10-14T22:15:04.349Z"
   },
   {
    "duration": 0,
    "start_time": "2023-10-14T22:15:04.350Z"
   },
   {
    "duration": 0,
    "start_time": "2023-10-14T22:15:04.351Z"
   },
   {
    "duration": 0,
    "start_time": "2023-10-14T22:15:04.352Z"
   },
   {
    "duration": 0,
    "start_time": "2023-10-14T22:15:04.353Z"
   },
   {
    "duration": 0,
    "start_time": "2023-10-14T22:15:04.354Z"
   },
   {
    "duration": 0,
    "start_time": "2023-10-14T22:15:04.355Z"
   },
   {
    "duration": 1415,
    "start_time": "2023-10-14T22:15:49.034Z"
   },
   {
    "duration": 822,
    "start_time": "2023-10-14T22:15:50.451Z"
   },
   {
    "duration": 37,
    "start_time": "2023-10-14T22:15:51.274Z"
   },
   {
    "duration": 9,
    "start_time": "2023-10-14T22:15:51.312Z"
   },
   {
    "duration": 16,
    "start_time": "2023-10-14T22:15:51.323Z"
   },
   {
    "duration": 36,
    "start_time": "2023-10-14T22:15:51.340Z"
   },
   {
    "duration": 30,
    "start_time": "2023-10-14T22:15:51.378Z"
   },
   {
    "duration": 58,
    "start_time": "2023-10-14T22:15:51.409Z"
   },
   {
    "duration": 35,
    "start_time": "2023-10-14T22:15:51.468Z"
   },
   {
    "duration": 36,
    "start_time": "2023-10-14T22:15:51.505Z"
   },
   {
    "duration": 132,
    "start_time": "2023-10-14T22:15:51.543Z"
   },
   {
    "duration": 14,
    "start_time": "2023-10-14T22:15:51.677Z"
   },
   {
    "duration": 39,
    "start_time": "2023-10-14T22:15:51.693Z"
   },
   {
    "duration": 34,
    "start_time": "2023-10-14T22:15:51.736Z"
   },
   {
    "duration": 8445,
    "start_time": "2023-10-14T22:15:51.772Z"
   },
   {
    "duration": 8393,
    "start_time": "2023-10-14T22:16:00.219Z"
   },
   {
    "duration": 664,
    "start_time": "2023-10-14T22:16:08.614Z"
   },
   {
    "duration": 10,
    "start_time": "2023-10-14T22:16:09.280Z"
   },
   {
    "duration": 1318,
    "start_time": "2023-10-14T22:16:09.291Z"
   },
   {
    "duration": 48,
    "start_time": "2023-10-14T22:16:10.611Z"
   },
   {
    "duration": 1252,
    "start_time": "2023-10-14T22:16:10.661Z"
   },
   {
    "duration": 9,
    "start_time": "2023-10-14T22:16:11.915Z"
   },
   {
    "duration": 49,
    "start_time": "2023-10-14T22:16:11.925Z"
   },
   {
    "duration": 1418,
    "start_time": "2023-10-14T22:16:11.976Z"
   },
   {
    "duration": 3,
    "start_time": "2023-10-14T22:16:13.396Z"
   },
   {
    "duration": 6,
    "start_time": "2023-10-14T22:16:13.401Z"
   },
   {
    "duration": 14,
    "start_time": "2023-10-14T22:16:13.409Z"
   },
   {
    "duration": 38,
    "start_time": "2023-10-14T22:16:13.424Z"
   },
   {
    "duration": 115,
    "start_time": "2023-10-14T22:16:13.463Z"
   },
   {
    "duration": 0,
    "start_time": "2023-10-14T22:16:13.580Z"
   },
   {
    "duration": 0,
    "start_time": "2023-10-14T22:16:13.581Z"
   },
   {
    "duration": 0,
    "start_time": "2023-10-14T22:16:13.582Z"
   },
   {
    "duration": 0,
    "start_time": "2023-10-14T22:16:13.583Z"
   },
   {
    "duration": 0,
    "start_time": "2023-10-14T22:16:13.585Z"
   },
   {
    "duration": 0,
    "start_time": "2023-10-14T22:16:13.585Z"
   },
   {
    "duration": 1,
    "start_time": "2023-10-14T22:16:13.586Z"
   },
   {
    "duration": 0,
    "start_time": "2023-10-14T22:16:13.588Z"
   },
   {
    "duration": 0,
    "start_time": "2023-10-14T22:16:13.589Z"
   },
   {
    "duration": 0,
    "start_time": "2023-10-14T22:16:13.590Z"
   },
   {
    "duration": 0,
    "start_time": "2023-10-14T22:16:13.591Z"
   },
   {
    "duration": 0,
    "start_time": "2023-10-14T22:16:13.592Z"
   },
   {
    "duration": 0,
    "start_time": "2023-10-14T22:16:13.593Z"
   },
   {
    "duration": 1426,
    "start_time": "2023-10-14T22:16:44.434Z"
   },
   {
    "duration": 862,
    "start_time": "2023-10-14T22:16:45.862Z"
   },
   {
    "duration": 43,
    "start_time": "2023-10-14T22:16:46.726Z"
   },
   {
    "duration": 5,
    "start_time": "2023-10-14T22:16:46.770Z"
   },
   {
    "duration": 14,
    "start_time": "2023-10-14T22:16:46.777Z"
   },
   {
    "duration": 28,
    "start_time": "2023-10-14T22:16:46.792Z"
   },
   {
    "duration": 16,
    "start_time": "2023-10-14T22:16:46.821Z"
   },
   {
    "duration": 17,
    "start_time": "2023-10-14T22:16:46.839Z"
   },
   {
    "duration": 20,
    "start_time": "2023-10-14T22:16:46.858Z"
   },
   {
    "duration": 9,
    "start_time": "2023-10-14T22:16:46.879Z"
   },
   {
    "duration": 94,
    "start_time": "2023-10-14T22:16:46.889Z"
   },
   {
    "duration": 13,
    "start_time": "2023-10-14T22:16:46.984Z"
   },
   {
    "duration": 38,
    "start_time": "2023-10-14T22:16:46.999Z"
   },
   {
    "duration": 28,
    "start_time": "2023-10-14T22:16:47.040Z"
   },
   {
    "duration": 8816,
    "start_time": "2023-10-14T22:16:47.070Z"
   },
   {
    "duration": 8958,
    "start_time": "2023-10-14T22:16:55.888Z"
   },
   {
    "duration": 639,
    "start_time": "2023-10-14T22:17:04.848Z"
   },
   {
    "duration": 8,
    "start_time": "2023-10-14T22:17:05.489Z"
   },
   {
    "duration": 1443,
    "start_time": "2023-10-14T22:17:05.498Z"
   },
   {
    "duration": 37,
    "start_time": "2023-10-14T22:17:06.944Z"
   },
   {
    "duration": 1432,
    "start_time": "2023-10-14T22:17:06.983Z"
   },
   {
    "duration": 8,
    "start_time": "2023-10-14T22:17:08.417Z"
   },
   {
    "duration": 92,
    "start_time": "2023-10-14T22:17:08.427Z"
   },
   {
    "duration": 1400,
    "start_time": "2023-10-14T22:17:08.521Z"
   },
   {
    "duration": 4,
    "start_time": "2023-10-14T22:17:09.923Z"
   },
   {
    "duration": 37,
    "start_time": "2023-10-14T22:17:09.928Z"
   },
   {
    "duration": 25,
    "start_time": "2023-10-14T22:17:09.967Z"
   },
   {
    "duration": 109,
    "start_time": "2023-10-14T22:17:09.993Z"
   },
   {
    "duration": 105,
    "start_time": "2023-10-14T22:17:10.104Z"
   },
   {
    "duration": 0,
    "start_time": "2023-10-14T22:17:10.211Z"
   },
   {
    "duration": 0,
    "start_time": "2023-10-14T22:17:10.212Z"
   },
   {
    "duration": 0,
    "start_time": "2023-10-14T22:17:10.213Z"
   },
   {
    "duration": 0,
    "start_time": "2023-10-14T22:17:10.214Z"
   },
   {
    "duration": 0,
    "start_time": "2023-10-14T22:17:10.215Z"
   },
   {
    "duration": 0,
    "start_time": "2023-10-14T22:17:10.216Z"
   },
   {
    "duration": 0,
    "start_time": "2023-10-14T22:17:10.217Z"
   },
   {
    "duration": 0,
    "start_time": "2023-10-14T22:17:10.218Z"
   },
   {
    "duration": 0,
    "start_time": "2023-10-14T22:17:10.220Z"
   },
   {
    "duration": 0,
    "start_time": "2023-10-14T22:17:10.220Z"
   },
   {
    "duration": 0,
    "start_time": "2023-10-14T22:17:10.222Z"
   },
   {
    "duration": 0,
    "start_time": "2023-10-14T22:17:10.223Z"
   },
   {
    "duration": 0,
    "start_time": "2023-10-14T22:17:10.245Z"
   },
   {
    "duration": 1445,
    "start_time": "2023-10-14T22:17:22.670Z"
   },
   {
    "duration": 884,
    "start_time": "2023-10-14T22:17:24.117Z"
   },
   {
    "duration": 44,
    "start_time": "2023-10-14T22:17:25.003Z"
   },
   {
    "duration": 7,
    "start_time": "2023-10-14T22:17:25.049Z"
   },
   {
    "duration": 13,
    "start_time": "2023-10-14T22:17:25.059Z"
   },
   {
    "duration": 21,
    "start_time": "2023-10-14T22:17:25.074Z"
   },
   {
    "duration": 10,
    "start_time": "2023-10-14T22:17:25.096Z"
   },
   {
    "duration": 39,
    "start_time": "2023-10-14T22:17:25.108Z"
   },
   {
    "duration": 5,
    "start_time": "2023-10-14T22:17:25.149Z"
   },
   {
    "duration": 8,
    "start_time": "2023-10-14T22:17:25.155Z"
   },
   {
    "duration": 104,
    "start_time": "2023-10-14T22:17:25.164Z"
   },
   {
    "duration": 11,
    "start_time": "2023-10-14T22:17:25.270Z"
   },
   {
    "duration": 31,
    "start_time": "2023-10-14T22:17:25.283Z"
   },
   {
    "duration": 26,
    "start_time": "2023-10-14T22:17:25.317Z"
   },
   {
    "duration": 8711,
    "start_time": "2023-10-14T22:17:25.345Z"
   },
   {
    "duration": 8685,
    "start_time": "2023-10-14T22:17:34.058Z"
   },
   {
    "duration": 659,
    "start_time": "2023-10-14T22:17:42.745Z"
   },
   {
    "duration": 8,
    "start_time": "2023-10-14T22:17:43.406Z"
   },
   {
    "duration": 1482,
    "start_time": "2023-10-14T22:17:43.416Z"
   },
   {
    "duration": 36,
    "start_time": "2023-10-14T22:17:44.900Z"
   },
   {
    "duration": 1384,
    "start_time": "2023-10-14T22:17:44.944Z"
   },
   {
    "duration": 14,
    "start_time": "2023-10-14T22:17:46.330Z"
   },
   {
    "duration": 46,
    "start_time": "2023-10-14T22:17:46.346Z"
   },
   {
    "duration": 1406,
    "start_time": "2023-10-14T22:17:46.394Z"
   },
   {
    "duration": 3,
    "start_time": "2023-10-14T22:17:47.802Z"
   },
   {
    "duration": 12,
    "start_time": "2023-10-14T22:17:47.807Z"
   },
   {
    "duration": 39,
    "start_time": "2023-10-14T22:17:47.820Z"
   },
   {
    "duration": 37,
    "start_time": "2023-10-14T22:17:47.860Z"
   },
   {
    "duration": 104,
    "start_time": "2023-10-14T22:17:47.899Z"
   },
   {
    "duration": 0,
    "start_time": "2023-10-14T22:17:48.004Z"
   },
   {
    "duration": 0,
    "start_time": "2023-10-14T22:17:48.005Z"
   },
   {
    "duration": 0,
    "start_time": "2023-10-14T22:17:48.006Z"
   },
   {
    "duration": 0,
    "start_time": "2023-10-14T22:17:48.007Z"
   },
   {
    "duration": 0,
    "start_time": "2023-10-14T22:17:48.008Z"
   },
   {
    "duration": 0,
    "start_time": "2023-10-14T22:17:48.008Z"
   },
   {
    "duration": 0,
    "start_time": "2023-10-14T22:17:48.009Z"
   },
   {
    "duration": 0,
    "start_time": "2023-10-14T22:17:48.010Z"
   },
   {
    "duration": 0,
    "start_time": "2023-10-14T22:17:48.011Z"
   },
   {
    "duration": 0,
    "start_time": "2023-10-14T22:17:48.012Z"
   },
   {
    "duration": 0,
    "start_time": "2023-10-14T22:17:48.013Z"
   },
   {
    "duration": 0,
    "start_time": "2023-10-14T22:17:48.014Z"
   },
   {
    "duration": 0,
    "start_time": "2023-10-14T22:17:48.015Z"
   },
   {
    "duration": 1527,
    "start_time": "2023-10-14T22:18:45.669Z"
   },
   {
    "duration": 906,
    "start_time": "2023-10-14T22:18:47.199Z"
   },
   {
    "duration": 49,
    "start_time": "2023-10-14T22:18:48.107Z"
   },
   {
    "duration": 8,
    "start_time": "2023-10-14T22:18:48.159Z"
   },
   {
    "duration": 5,
    "start_time": "2023-10-14T22:18:48.169Z"
   },
   {
    "duration": 22,
    "start_time": "2023-10-14T22:18:48.175Z"
   },
   {
    "duration": 11,
    "start_time": "2023-10-14T22:18:48.199Z"
   },
   {
    "duration": 41,
    "start_time": "2023-10-14T22:18:48.212Z"
   },
   {
    "duration": 7,
    "start_time": "2023-10-14T22:18:48.256Z"
   },
   {
    "duration": 7,
    "start_time": "2023-10-14T22:18:48.264Z"
   },
   {
    "duration": 120,
    "start_time": "2023-10-14T22:18:48.272Z"
   },
   {
    "duration": 12,
    "start_time": "2023-10-14T22:18:48.394Z"
   },
   {
    "duration": 27,
    "start_time": "2023-10-14T22:18:48.407Z"
   },
   {
    "duration": 14,
    "start_time": "2023-10-14T22:18:48.443Z"
   },
   {
    "duration": 9321,
    "start_time": "2023-10-14T22:18:48.459Z"
   },
   {
    "duration": 9159,
    "start_time": "2023-10-14T22:18:57.782Z"
   },
   {
    "duration": 644,
    "start_time": "2023-10-14T22:19:06.943Z"
   },
   {
    "duration": 9,
    "start_time": "2023-10-14T22:19:07.589Z"
   },
   {
    "duration": 1507,
    "start_time": "2023-10-14T22:19:07.600Z"
   },
   {
    "duration": 48,
    "start_time": "2023-10-14T22:19:09.108Z"
   },
   {
    "duration": 1461,
    "start_time": "2023-10-14T22:19:09.158Z"
   },
   {
    "duration": 8,
    "start_time": "2023-10-14T22:19:10.621Z"
   },
   {
    "duration": 61,
    "start_time": "2023-10-14T22:19:10.631Z"
   },
   {
    "duration": 1506,
    "start_time": "2023-10-14T22:19:10.694Z"
   },
   {
    "duration": 3,
    "start_time": "2023-10-14T22:19:12.202Z"
   },
   {
    "duration": 23,
    "start_time": "2023-10-14T22:19:12.207Z"
   },
   {
    "duration": 12,
    "start_time": "2023-10-14T22:19:12.232Z"
   },
   {
    "duration": 46,
    "start_time": "2023-10-14T22:19:12.247Z"
   },
   {
    "duration": 2609,
    "start_time": "2023-10-14T22:19:12.294Z"
   },
   {
    "duration": 1745,
    "start_time": "2023-10-14T22:19:14.904Z"
   },
   {
    "duration": 4543,
    "start_time": "2023-10-14T22:19:16.651Z"
   },
   {
    "duration": 14368,
    "start_time": "2023-10-14T22:19:21.196Z"
   },
   {
    "duration": 1537,
    "start_time": "2023-10-14T22:19:35.567Z"
   },
   {
    "duration": 0,
    "start_time": "2023-10-14T22:19:37.105Z"
   },
   {
    "duration": 0,
    "start_time": "2023-10-14T22:19:37.106Z"
   },
   {
    "duration": 0,
    "start_time": "2023-10-14T22:19:37.108Z"
   },
   {
    "duration": 0,
    "start_time": "2023-10-14T22:19:37.109Z"
   },
   {
    "duration": 0,
    "start_time": "2023-10-14T22:19:37.110Z"
   },
   {
    "duration": 0,
    "start_time": "2023-10-14T22:19:37.111Z"
   },
   {
    "duration": 0,
    "start_time": "2023-10-14T22:19:37.112Z"
   },
   {
    "duration": 0,
    "start_time": "2023-10-14T22:19:37.113Z"
   },
   {
    "duration": 0,
    "start_time": "2023-10-14T22:19:37.114Z"
   },
   {
    "duration": 1953,
    "start_time": "2023-10-14T22:55:30.946Z"
   },
   {
    "duration": 891,
    "start_time": "2023-10-14T22:55:32.901Z"
   },
   {
    "duration": 54,
    "start_time": "2023-10-14T22:55:33.794Z"
   },
   {
    "duration": 9,
    "start_time": "2023-10-14T22:55:33.850Z"
   },
   {
    "duration": 16,
    "start_time": "2023-10-14T22:55:33.860Z"
   },
   {
    "duration": 21,
    "start_time": "2023-10-14T22:55:33.878Z"
   },
   {
    "duration": 11,
    "start_time": "2023-10-14T22:55:33.900Z"
   },
   {
    "duration": 16,
    "start_time": "2023-10-14T22:55:33.912Z"
   },
   {
    "duration": 4,
    "start_time": "2023-10-14T22:55:33.944Z"
   },
   {
    "duration": 23,
    "start_time": "2023-10-14T22:55:33.949Z"
   },
   {
    "duration": 94,
    "start_time": "2023-10-14T22:55:33.974Z"
   },
   {
    "duration": 14,
    "start_time": "2023-10-14T22:55:34.070Z"
   },
   {
    "duration": 25,
    "start_time": "2023-10-14T22:55:34.086Z"
   },
   {
    "duration": 31,
    "start_time": "2023-10-14T22:55:34.113Z"
   },
   {
    "duration": 9031,
    "start_time": "2023-10-14T22:55:34.146Z"
   },
   {
    "duration": 8674,
    "start_time": "2023-10-14T22:55:43.179Z"
   },
   {
    "duration": 717,
    "start_time": "2023-10-14T22:55:51.855Z"
   },
   {
    "duration": 9,
    "start_time": "2023-10-14T22:55:52.574Z"
   },
   {
    "duration": 1398,
    "start_time": "2023-10-14T22:55:52.584Z"
   },
   {
    "duration": 38,
    "start_time": "2023-10-14T22:55:53.983Z"
   },
   {
    "duration": 1405,
    "start_time": "2023-10-14T22:55:54.023Z"
   },
   {
    "duration": 14,
    "start_time": "2023-10-14T22:55:55.430Z"
   },
   {
    "duration": 63,
    "start_time": "2023-10-14T22:55:55.446Z"
   },
   {
    "duration": 1393,
    "start_time": "2023-10-14T22:55:55.511Z"
   },
   {
    "duration": 4,
    "start_time": "2023-10-14T22:55:56.906Z"
   },
   {
    "duration": 24,
    "start_time": "2023-10-14T22:55:56.912Z"
   },
   {
    "duration": 27,
    "start_time": "2023-10-14T22:55:56.938Z"
   },
   {
    "duration": 35,
    "start_time": "2023-10-14T22:55:56.967Z"
   },
   {
    "duration": 2343,
    "start_time": "2023-10-14T22:55:57.004Z"
   },
   {
    "duration": 1003,
    "start_time": "2023-10-14T22:55:59.349Z"
   },
   {
    "duration": 3551,
    "start_time": "2023-10-14T22:56:00.444Z"
   },
   {
    "duration": 13630,
    "start_time": "2023-10-14T22:56:03.997Z"
   },
   {
    "duration": 31,
    "start_time": "2023-10-14T22:56:17.629Z"
   },
   {
    "duration": 1401,
    "start_time": "2023-10-14T22:56:17.661Z"
   },
   {
    "duration": 0,
    "start_time": "2023-10-14T22:56:19.064Z"
   },
   {
    "duration": 1,
    "start_time": "2023-10-14T22:56:19.065Z"
   },
   {
    "duration": 0,
    "start_time": "2023-10-14T22:56:19.067Z"
   },
   {
    "duration": 0,
    "start_time": "2023-10-14T22:56:19.067Z"
   },
   {
    "duration": 0,
    "start_time": "2023-10-14T22:56:19.069Z"
   },
   {
    "duration": 0,
    "start_time": "2023-10-14T22:56:19.070Z"
   },
   {
    "duration": 0,
    "start_time": "2023-10-14T22:56:19.072Z"
   },
   {
    "duration": 0,
    "start_time": "2023-10-14T22:56:19.073Z"
   },
   {
    "duration": 0,
    "start_time": "2023-10-14T22:56:19.073Z"
   },
   {
    "duration": 4,
    "start_time": "2023-10-14T23:10:17.166Z"
   },
   {
    "duration": 854,
    "start_time": "2023-10-14T23:10:18.133Z"
   },
   {
    "duration": 37,
    "start_time": "2023-10-14T23:10:18.989Z"
   },
   {
    "duration": 18,
    "start_time": "2023-10-14T23:10:19.027Z"
   },
   {
    "duration": 4,
    "start_time": "2023-10-14T23:10:19.374Z"
   },
   {
    "duration": 15,
    "start_time": "2023-10-14T23:10:19.586Z"
   },
   {
    "duration": 4,
    "start_time": "2023-10-14T23:11:02.770Z"
   },
   {
    "duration": 888,
    "start_time": "2023-10-14T23:11:03.040Z"
   },
   {
    "duration": 38,
    "start_time": "2023-10-14T23:11:03.930Z"
   },
   {
    "duration": 5,
    "start_time": "2023-10-14T23:11:03.970Z"
   },
   {
    "duration": 4,
    "start_time": "2023-10-14T23:11:05.330Z"
   },
   {
    "duration": 19,
    "start_time": "2023-10-14T23:11:05.759Z"
   },
   {
    "duration": 16,
    "start_time": "2023-10-14T23:11:06.357Z"
   },
   {
    "duration": 23,
    "start_time": "2023-10-14T23:11:06.711Z"
   },
   {
    "duration": 5,
    "start_time": "2023-10-14T23:11:06.886Z"
   },
   {
    "duration": 6,
    "start_time": "2023-10-14T23:11:07.240Z"
   },
   {
    "duration": 88,
    "start_time": "2023-10-14T23:11:08.284Z"
   },
   {
    "duration": 13,
    "start_time": "2023-10-14T23:11:08.509Z"
   },
   {
    "duration": 22,
    "start_time": "2023-10-14T23:11:08.956Z"
   },
   {
    "duration": 19,
    "start_time": "2023-10-14T23:11:09.201Z"
   },
   {
    "duration": 1385,
    "start_time": "2023-10-14T23:11:15.374Z"
   },
   {
    "duration": 865,
    "start_time": "2023-10-14T23:11:16.761Z"
   },
   {
    "duration": 48,
    "start_time": "2023-10-14T23:11:17.628Z"
   },
   {
    "duration": 6,
    "start_time": "2023-10-14T23:11:17.679Z"
   },
   {
    "duration": 10,
    "start_time": "2023-10-14T23:11:17.686Z"
   },
   {
    "duration": 30,
    "start_time": "2023-10-14T23:11:17.697Z"
   },
   {
    "duration": 17,
    "start_time": "2023-10-14T23:11:17.729Z"
   },
   {
    "duration": 18,
    "start_time": "2023-10-14T23:11:17.748Z"
   },
   {
    "duration": 5,
    "start_time": "2023-10-14T23:11:17.768Z"
   },
   {
    "duration": 7,
    "start_time": "2023-10-14T23:11:17.777Z"
   },
   {
    "duration": 131,
    "start_time": "2023-10-14T23:11:17.785Z"
   },
   {
    "duration": 14,
    "start_time": "2023-10-14T23:11:17.917Z"
   },
   {
    "duration": 40,
    "start_time": "2023-10-14T23:11:17.932Z"
   },
   {
    "duration": 14,
    "start_time": "2023-10-14T23:11:17.974Z"
   },
   {
    "duration": 8252,
    "start_time": "2023-10-14T23:11:17.989Z"
   },
   {
    "duration": 8217,
    "start_time": "2023-10-14T23:11:26.244Z"
   },
   {
    "duration": 740,
    "start_time": "2023-10-14T23:11:34.464Z"
   },
   {
    "duration": 13,
    "start_time": "2023-10-14T23:11:35.206Z"
   },
   {
    "duration": 1808,
    "start_time": "2023-10-14T23:11:35.222Z"
   },
   {
    "duration": 46,
    "start_time": "2023-10-14T23:11:37.033Z"
   },
   {
    "duration": 1485,
    "start_time": "2023-10-14T23:11:37.082Z"
   },
   {
    "duration": 11,
    "start_time": "2023-10-14T23:11:38.569Z"
   },
   {
    "duration": 42,
    "start_time": "2023-10-14T23:11:38.581Z"
   },
   {
    "duration": 1446,
    "start_time": "2023-10-14T23:11:38.624Z"
   },
   {
    "duration": 4,
    "start_time": "2023-10-14T23:11:40.073Z"
   },
   {
    "duration": 85,
    "start_time": "2023-10-14T23:11:40.079Z"
   },
   {
    "duration": 63,
    "start_time": "2023-10-14T23:11:40.166Z"
   },
   {
    "duration": 146,
    "start_time": "2023-10-14T23:11:40.236Z"
   },
   {
    "duration": 0,
    "start_time": "2023-10-14T23:11:40.384Z"
   },
   {
    "duration": 0,
    "start_time": "2023-10-14T23:11:40.385Z"
   },
   {
    "duration": 0,
    "start_time": "2023-10-14T23:11:40.386Z"
   },
   {
    "duration": 0,
    "start_time": "2023-10-14T23:11:40.387Z"
   },
   {
    "duration": 0,
    "start_time": "2023-10-14T23:11:40.389Z"
   },
   {
    "duration": 0,
    "start_time": "2023-10-14T23:11:40.390Z"
   },
   {
    "duration": 0,
    "start_time": "2023-10-14T23:11:40.391Z"
   },
   {
    "duration": 0,
    "start_time": "2023-10-14T23:11:40.393Z"
   },
   {
    "duration": 0,
    "start_time": "2023-10-14T23:11:40.394Z"
   },
   {
    "duration": 0,
    "start_time": "2023-10-14T23:11:40.396Z"
   },
   {
    "duration": 0,
    "start_time": "2023-10-14T23:11:40.397Z"
   },
   {
    "duration": 0,
    "start_time": "2023-10-14T23:11:40.398Z"
   },
   {
    "duration": 0,
    "start_time": "2023-10-14T23:11:40.400Z"
   },
   {
    "duration": 0,
    "start_time": "2023-10-14T23:11:40.401Z"
   },
   {
    "duration": 1,
    "start_time": "2023-10-14T23:11:40.402Z"
   },
   {
    "duration": 0,
    "start_time": "2023-10-14T23:11:40.404Z"
   },
   {
    "duration": 0,
    "start_time": "2023-10-14T23:11:40.406Z"
   },
   {
    "duration": 0,
    "start_time": "2023-10-14T23:11:40.444Z"
   },
   {
    "duration": 0,
    "start_time": "2023-10-14T23:11:40.446Z"
   },
   {
    "duration": 0,
    "start_time": "2023-10-14T23:11:40.447Z"
   },
   {
    "duration": 0,
    "start_time": "2023-10-14T23:11:40.449Z"
   },
   {
    "duration": 0,
    "start_time": "2023-10-14T23:11:40.450Z"
   },
   {
    "duration": 0,
    "start_time": "2023-10-14T23:11:40.452Z"
   },
   {
    "duration": 2,
    "start_time": "2023-10-14T23:11:40.453Z"
   },
   {
    "duration": 0,
    "start_time": "2023-10-14T23:11:40.462Z"
   },
   {
    "duration": 0,
    "start_time": "2023-10-14T23:11:40.464Z"
   },
   {
    "duration": 0,
    "start_time": "2023-10-14T23:11:40.465Z"
   },
   {
    "duration": 0,
    "start_time": "2023-10-14T23:11:40.466Z"
   },
   {
    "duration": 0,
    "start_time": "2023-10-14T23:11:40.467Z"
   },
   {
    "duration": 4,
    "start_time": "2023-10-14T23:16:31.580Z"
   },
   {
    "duration": 1003,
    "start_time": "2023-10-14T23:16:31.771Z"
   },
   {
    "duration": 38,
    "start_time": "2023-10-14T23:16:32.776Z"
   },
   {
    "duration": 4,
    "start_time": "2023-10-14T23:16:32.815Z"
   },
   {
    "duration": 26,
    "start_time": "2023-10-14T23:16:32.821Z"
   },
   {
    "duration": 24,
    "start_time": "2023-10-14T23:16:33.140Z"
   },
   {
    "duration": 17,
    "start_time": "2023-10-14T23:16:33.436Z"
   },
   {
    "duration": 23,
    "start_time": "2023-10-14T23:16:33.640Z"
   },
   {
    "duration": 8,
    "start_time": "2023-10-14T23:16:33.870Z"
   },
   {
    "duration": 5,
    "start_time": "2023-10-14T23:16:34.103Z"
   },
   {
    "duration": 105,
    "start_time": "2023-10-14T23:16:34.761Z"
   },
   {
    "duration": 14,
    "start_time": "2023-10-14T23:16:34.924Z"
   },
   {
    "duration": 21,
    "start_time": "2023-10-14T23:16:35.376Z"
   },
   {
    "duration": 14,
    "start_time": "2023-10-14T23:16:35.606Z"
   },
   {
    "duration": 9287,
    "start_time": "2023-10-14T23:16:36.478Z"
   },
   {
    "duration": 8996,
    "start_time": "2023-10-14T23:16:45.768Z"
   },
   {
    "duration": 652,
    "start_time": "2023-10-14T23:16:54.775Z"
   },
   {
    "duration": 26,
    "start_time": "2023-10-14T23:16:55.430Z"
   },
   {
    "duration": 1656,
    "start_time": "2023-10-14T23:16:55.457Z"
   },
   {
    "duration": 62,
    "start_time": "2023-10-14T23:16:57.115Z"
   },
   {
    "duration": 1692,
    "start_time": "2023-10-14T23:16:57.182Z"
   },
   {
    "duration": 13,
    "start_time": "2023-10-14T23:16:58.875Z"
   },
   {
    "duration": 49,
    "start_time": "2023-10-14T23:16:58.889Z"
   },
   {
    "duration": 1501,
    "start_time": "2023-10-14T23:16:58.940Z"
   },
   {
    "duration": 3,
    "start_time": "2023-10-14T23:17:03.995Z"
   },
   {
    "duration": 5,
    "start_time": "2023-10-14T23:17:04.706Z"
   },
   {
    "duration": 9,
    "start_time": "2023-10-14T23:17:05.441Z"
   },
   {
    "duration": 9,
    "start_time": "2023-10-14T23:17:07.171Z"
   },
   {
    "duration": 16,
    "start_time": "2023-10-14T23:17:07.870Z"
   },
   {
    "duration": 10,
    "start_time": "2023-10-14T23:17:08.713Z"
   },
   {
    "duration": 4,
    "start_time": "2023-10-14T23:19:03.199Z"
   },
   {
    "duration": 1038,
    "start_time": "2023-10-14T23:19:03.380Z"
   },
   {
    "duration": 61,
    "start_time": "2023-10-14T23:19:04.421Z"
   },
   {
    "duration": 18,
    "start_time": "2023-10-14T23:19:04.483Z"
   },
   {
    "duration": 20,
    "start_time": "2023-10-14T23:19:04.504Z"
   },
   {
    "duration": 29,
    "start_time": "2023-10-14T23:19:04.575Z"
   },
   {
    "duration": 13,
    "start_time": "2023-10-14T23:19:04.708Z"
   },
   {
    "duration": 27,
    "start_time": "2023-10-14T23:19:04.866Z"
   },
   {
    "duration": 5,
    "start_time": "2023-10-14T23:19:05.024Z"
   },
   {
    "duration": 5,
    "start_time": "2023-10-14T23:19:05.186Z"
   },
   {
    "duration": 143,
    "start_time": "2023-10-14T23:19:05.662Z"
   },
   {
    "duration": 21,
    "start_time": "2023-10-14T23:19:05.838Z"
   },
   {
    "duration": 30,
    "start_time": "2023-10-14T23:19:06.143Z"
   },
   {
    "duration": 15,
    "start_time": "2023-10-14T23:19:06.302Z"
   },
   {
    "duration": 9225,
    "start_time": "2023-10-14T23:19:07.176Z"
   },
   {
    "duration": 9470,
    "start_time": "2023-10-14T23:19:16.403Z"
   },
   {
    "duration": 652,
    "start_time": "2023-10-14T23:19:25.876Z"
   },
   {
    "duration": 40,
    "start_time": "2023-10-14T23:19:26.530Z"
   },
   {
    "duration": 1653,
    "start_time": "2023-10-14T23:19:26.581Z"
   },
   {
    "duration": 43,
    "start_time": "2023-10-14T23:19:28.235Z"
   },
   {
    "duration": 1434,
    "start_time": "2023-10-14T23:19:28.284Z"
   },
   {
    "duration": 12,
    "start_time": "2023-10-14T23:19:29.721Z"
   },
   {
    "duration": 102,
    "start_time": "2023-10-14T23:19:29.735Z"
   },
   {
    "duration": 1492,
    "start_time": "2023-10-14T23:19:29.840Z"
   },
   {
    "duration": 3,
    "start_time": "2023-10-14T23:19:31.334Z"
   },
   {
    "duration": 42,
    "start_time": "2023-10-14T23:19:31.343Z"
   },
   {
    "duration": 42,
    "start_time": "2023-10-14T23:19:31.391Z"
   },
   {
    "duration": 3,
    "start_time": "2023-10-14T23:19:34.237Z"
   },
   {
    "duration": 4,
    "start_time": "2023-10-14T23:19:34.788Z"
   },
   {
    "duration": 11,
    "start_time": "2023-10-14T23:19:35.923Z"
   },
   {
    "duration": 12,
    "start_time": "2023-10-14T23:19:36.819Z"
   },
   {
    "duration": 11,
    "start_time": "2023-10-14T23:25:56.690Z"
   },
   {
    "duration": 5,
    "start_time": "2023-10-14T23:26:05.807Z"
   },
   {
    "duration": 13,
    "start_time": "2023-10-14T23:26:06.379Z"
   },
   {
    "duration": 8,
    "start_time": "2023-10-14T23:26:08.762Z"
   },
   {
    "duration": 4,
    "start_time": "2023-10-14T23:26:09.038Z"
   },
   {
    "duration": 7,
    "start_time": "2023-10-14T23:26:09.368Z"
   },
   {
    "duration": 3,
    "start_time": "2023-10-14T23:26:10.692Z"
   },
   {
    "duration": 4,
    "start_time": "2023-10-14T23:26:11.587Z"
   },
   {
    "duration": 1959,
    "start_time": "2023-10-14T23:26:12.434Z"
   },
   {
    "duration": 0,
    "start_time": "2023-10-14T23:26:14.395Z"
   },
   {
    "duration": 1586,
    "start_time": "2023-10-14T23:27:04.480Z"
   },
   {
    "duration": 1025,
    "start_time": "2023-10-14T23:27:06.075Z"
   },
   {
    "duration": 44,
    "start_time": "2023-10-14T23:27:07.107Z"
   },
   {
    "duration": 8,
    "start_time": "2023-10-14T23:27:07.152Z"
   },
   {
    "duration": 22,
    "start_time": "2023-10-14T23:27:07.167Z"
   },
   {
    "duration": 23,
    "start_time": "2023-10-14T23:27:07.193Z"
   },
   {
    "duration": 17,
    "start_time": "2023-10-14T23:27:07.219Z"
   },
   {
    "duration": 29,
    "start_time": "2023-10-14T23:27:07.238Z"
   },
   {
    "duration": 15,
    "start_time": "2023-10-14T23:27:07.269Z"
   },
   {
    "duration": 10,
    "start_time": "2023-10-14T23:27:07.286Z"
   },
   {
    "duration": 118,
    "start_time": "2023-10-14T23:27:07.297Z"
   },
   {
    "duration": 13,
    "start_time": "2023-10-14T23:27:07.416Z"
   },
   {
    "duration": 62,
    "start_time": "2023-10-14T23:27:07.431Z"
   },
   {
    "duration": 14,
    "start_time": "2023-10-14T23:27:07.496Z"
   },
   {
    "duration": 9707,
    "start_time": "2023-10-14T23:27:07.512Z"
   },
   {
    "duration": 8959,
    "start_time": "2023-10-14T23:27:17.221Z"
   },
   {
    "duration": 634,
    "start_time": "2023-10-14T23:27:26.181Z"
   },
   {
    "duration": 10,
    "start_time": "2023-10-14T23:27:26.818Z"
   },
   {
    "duration": 1703,
    "start_time": "2023-10-14T23:27:26.830Z"
   },
   {
    "duration": 65,
    "start_time": "2023-10-14T23:27:28.535Z"
   },
   {
    "duration": 1389,
    "start_time": "2023-10-14T23:27:28.602Z"
   },
   {
    "duration": 11,
    "start_time": "2023-10-14T23:27:29.993Z"
   },
   {
    "duration": 100,
    "start_time": "2023-10-14T23:27:30.006Z"
   },
   {
    "duration": 1458,
    "start_time": "2023-10-14T23:27:30.107Z"
   },
   {
    "duration": 11,
    "start_time": "2023-10-14T23:27:31.568Z"
   },
   {
    "duration": 34,
    "start_time": "2023-10-14T23:27:31.587Z"
   },
   {
    "duration": 48,
    "start_time": "2023-10-14T23:27:31.623Z"
   },
   {
    "duration": 48,
    "start_time": "2023-10-14T23:27:31.674Z"
   },
   {
    "duration": 65,
    "start_time": "2023-10-14T23:27:31.723Z"
   },
   {
    "duration": 36,
    "start_time": "2023-10-14T23:27:31.790Z"
   },
   {
    "duration": 59,
    "start_time": "2023-10-14T23:27:31.828Z"
   },
   {
    "duration": 1927,
    "start_time": "2023-10-14T23:27:31.891Z"
   },
   {
    "duration": 0,
    "start_time": "2023-10-14T23:27:33.821Z"
   },
   {
    "duration": 1,
    "start_time": "2023-10-14T23:27:33.823Z"
   },
   {
    "duration": 0,
    "start_time": "2023-10-14T23:27:33.825Z"
   },
   {
    "duration": 0,
    "start_time": "2023-10-14T23:27:33.827Z"
   },
   {
    "duration": 0,
    "start_time": "2023-10-14T23:27:33.829Z"
   },
   {
    "duration": 0,
    "start_time": "2023-10-14T23:27:33.830Z"
   },
   {
    "duration": 0,
    "start_time": "2023-10-14T23:27:33.831Z"
   },
   {
    "duration": 0,
    "start_time": "2023-10-14T23:27:33.833Z"
   },
   {
    "duration": 0,
    "start_time": "2023-10-14T23:27:33.834Z"
   },
   {
    "duration": 0,
    "start_time": "2023-10-14T23:27:33.835Z"
   },
   {
    "duration": 0,
    "start_time": "2023-10-14T23:27:33.837Z"
   },
   {
    "duration": 0,
    "start_time": "2023-10-14T23:27:33.839Z"
   },
   {
    "duration": 0,
    "start_time": "2023-10-14T23:27:33.840Z"
   },
   {
    "duration": 0,
    "start_time": "2023-10-14T23:27:33.842Z"
   },
   {
    "duration": 0,
    "start_time": "2023-10-14T23:27:33.843Z"
   },
   {
    "duration": 0,
    "start_time": "2023-10-14T23:27:33.844Z"
   },
   {
    "duration": 0,
    "start_time": "2023-10-14T23:27:33.844Z"
   },
   {
    "duration": 0,
    "start_time": "2023-10-14T23:27:33.845Z"
   },
   {
    "duration": 0,
    "start_time": "2023-10-14T23:27:33.846Z"
   },
   {
    "duration": 0,
    "start_time": "2023-10-14T23:27:33.847Z"
   },
   {
    "duration": 0,
    "start_time": "2023-10-14T23:27:33.848Z"
   },
   {
    "duration": 0,
    "start_time": "2023-10-14T23:27:33.849Z"
   },
   {
    "duration": 0,
    "start_time": "2023-10-14T23:27:33.850Z"
   },
   {
    "duration": 0,
    "start_time": "2023-10-14T23:27:33.852Z"
   },
   {
    "duration": 1,
    "start_time": "2023-10-14T23:27:33.852Z"
   },
   {
    "duration": 0,
    "start_time": "2023-10-14T23:27:33.853Z"
   },
   {
    "duration": 0,
    "start_time": "2023-10-14T23:27:33.854Z"
   },
   {
    "duration": 10,
    "start_time": "2023-10-14T23:27:55.276Z"
   },
   {
    "duration": 10,
    "start_time": "2023-10-14T23:28:30.302Z"
   },
   {
    "duration": 9,
    "start_time": "2023-10-14T23:28:33.158Z"
   },
   {
    "duration": 1579,
    "start_time": "2023-10-14T23:28:41.735Z"
   },
   {
    "duration": 935,
    "start_time": "2023-10-14T23:28:43.316Z"
   },
   {
    "duration": 44,
    "start_time": "2023-10-14T23:28:44.253Z"
   },
   {
    "duration": 5,
    "start_time": "2023-10-14T23:28:44.300Z"
   },
   {
    "duration": 11,
    "start_time": "2023-10-14T23:28:44.306Z"
   },
   {
    "duration": 38,
    "start_time": "2023-10-14T23:28:44.319Z"
   },
   {
    "duration": 12,
    "start_time": "2023-10-14T23:28:44.359Z"
   },
   {
    "duration": 73,
    "start_time": "2023-10-14T23:28:44.373Z"
   },
   {
    "duration": 9,
    "start_time": "2023-10-14T23:28:44.449Z"
   },
   {
    "duration": 17,
    "start_time": "2023-10-14T23:28:44.461Z"
   },
   {
    "duration": 122,
    "start_time": "2023-10-14T23:28:44.481Z"
   },
   {
    "duration": 17,
    "start_time": "2023-10-14T23:28:44.605Z"
   },
   {
    "duration": 43,
    "start_time": "2023-10-14T23:28:44.624Z"
   },
   {
    "duration": 15,
    "start_time": "2023-10-14T23:28:44.670Z"
   },
   {
    "duration": 9091,
    "start_time": "2023-10-14T23:28:44.687Z"
   },
   {
    "duration": 9133,
    "start_time": "2023-10-14T23:28:53.780Z"
   },
   {
    "duration": 573,
    "start_time": "2023-10-14T23:29:02.915Z"
   },
   {
    "duration": 11,
    "start_time": "2023-10-14T23:29:03.489Z"
   },
   {
    "duration": 1603,
    "start_time": "2023-10-14T23:29:03.501Z"
   },
   {
    "duration": 50,
    "start_time": "2023-10-14T23:29:05.106Z"
   },
   {
    "duration": 1399,
    "start_time": "2023-10-14T23:29:05.157Z"
   },
   {
    "duration": 10,
    "start_time": "2023-10-14T23:29:06.557Z"
   },
   {
    "duration": 48,
    "start_time": "2023-10-14T23:29:06.569Z"
   },
   {
    "duration": 1437,
    "start_time": "2023-10-14T23:29:06.619Z"
   },
   {
    "duration": 131,
    "start_time": "2023-10-14T23:29:08.058Z"
   },
   {
    "duration": 0,
    "start_time": "2023-10-14T23:29:08.192Z"
   },
   {
    "duration": 0,
    "start_time": "2023-10-14T23:29:08.194Z"
   },
   {
    "duration": 0,
    "start_time": "2023-10-14T23:29:08.195Z"
   },
   {
    "duration": 0,
    "start_time": "2023-10-14T23:29:08.196Z"
   },
   {
    "duration": 0,
    "start_time": "2023-10-14T23:29:08.197Z"
   },
   {
    "duration": 0,
    "start_time": "2023-10-14T23:29:08.199Z"
   },
   {
    "duration": 0,
    "start_time": "2023-10-14T23:29:08.200Z"
   },
   {
    "duration": 0,
    "start_time": "2023-10-14T23:29:08.202Z"
   },
   {
    "duration": 0,
    "start_time": "2023-10-14T23:29:08.203Z"
   },
   {
    "duration": 0,
    "start_time": "2023-10-14T23:29:08.205Z"
   },
   {
    "duration": 0,
    "start_time": "2023-10-14T23:29:08.206Z"
   },
   {
    "duration": 0,
    "start_time": "2023-10-14T23:29:08.208Z"
   },
   {
    "duration": 0,
    "start_time": "2023-10-14T23:29:08.209Z"
   },
   {
    "duration": 0,
    "start_time": "2023-10-14T23:29:08.210Z"
   },
   {
    "duration": 0,
    "start_time": "2023-10-14T23:29:08.212Z"
   },
   {
    "duration": 0,
    "start_time": "2023-10-14T23:29:08.245Z"
   },
   {
    "duration": 0,
    "start_time": "2023-10-14T23:29:08.248Z"
   },
   {
    "duration": 0,
    "start_time": "2023-10-14T23:29:08.249Z"
   },
   {
    "duration": 0,
    "start_time": "2023-10-14T23:29:08.252Z"
   },
   {
    "duration": 0,
    "start_time": "2023-10-14T23:29:08.253Z"
   },
   {
    "duration": 0,
    "start_time": "2023-10-14T23:29:08.255Z"
   },
   {
    "duration": 0,
    "start_time": "2023-10-14T23:29:08.256Z"
   },
   {
    "duration": 0,
    "start_time": "2023-10-14T23:29:08.257Z"
   },
   {
    "duration": 0,
    "start_time": "2023-10-14T23:29:08.258Z"
   },
   {
    "duration": 0,
    "start_time": "2023-10-14T23:29:08.261Z"
   },
   {
    "duration": 0,
    "start_time": "2023-10-14T23:29:08.262Z"
   },
   {
    "duration": 0,
    "start_time": "2023-10-14T23:29:08.264Z"
   },
   {
    "duration": 0,
    "start_time": "2023-10-14T23:29:08.265Z"
   },
   {
    "duration": 0,
    "start_time": "2023-10-14T23:29:08.266Z"
   },
   {
    "duration": 0,
    "start_time": "2023-10-14T23:29:08.267Z"
   },
   {
    "duration": 0,
    "start_time": "2023-10-14T23:29:08.268Z"
   },
   {
    "duration": 0,
    "start_time": "2023-10-14T23:29:08.269Z"
   },
   {
    "duration": 0,
    "start_time": "2023-10-14T23:29:08.270Z"
   },
   {
    "duration": 2349,
    "start_time": "2023-10-14T23:30:04.801Z"
   },
   {
    "duration": 24378,
    "start_time": "2023-10-14T23:30:21.477Z"
   },
   {
    "duration": 3569,
    "start_time": "2023-10-14T23:30:45.858Z"
   },
   {
    "duration": 22,
    "start_time": "2023-10-14T23:31:17.216Z"
   },
   {
    "duration": 1614,
    "start_time": "2023-10-14T23:31:46.871Z"
   },
   {
    "duration": 956,
    "start_time": "2023-10-14T23:31:48.487Z"
   },
   {
    "duration": 43,
    "start_time": "2023-10-14T23:31:49.444Z"
   },
   {
    "duration": 6,
    "start_time": "2023-10-14T23:31:49.489Z"
   },
   {
    "duration": 22,
    "start_time": "2023-10-14T23:31:49.496Z"
   },
   {
    "duration": 33,
    "start_time": "2023-10-14T23:31:49.520Z"
   },
   {
    "duration": 18,
    "start_time": "2023-10-14T23:31:49.555Z"
   },
   {
    "duration": 16,
    "start_time": "2023-10-14T23:31:49.575Z"
   },
   {
    "duration": 5,
    "start_time": "2023-10-14T23:31:49.593Z"
   },
   {
    "duration": 7,
    "start_time": "2023-10-14T23:31:49.600Z"
   },
   {
    "duration": 127,
    "start_time": "2023-10-14T23:31:49.608Z"
   },
   {
    "duration": 16,
    "start_time": "2023-10-14T23:31:49.736Z"
   },
   {
    "duration": 26,
    "start_time": "2023-10-14T23:31:49.754Z"
   },
   {
    "duration": 13,
    "start_time": "2023-10-14T23:31:49.782Z"
   },
   {
    "duration": 9122,
    "start_time": "2023-10-14T23:31:49.796Z"
   },
   {
    "duration": 9009,
    "start_time": "2023-10-14T23:31:58.920Z"
   },
   {
    "duration": 665,
    "start_time": "2023-10-14T23:32:07.931Z"
   },
   {
    "duration": 9,
    "start_time": "2023-10-14T23:32:08.598Z"
   },
   {
    "duration": 1659,
    "start_time": "2023-10-14T23:32:08.608Z"
   },
   {
    "duration": 37,
    "start_time": "2023-10-14T23:32:10.269Z"
   },
   {
    "duration": 1475,
    "start_time": "2023-10-14T23:32:10.308Z"
   },
   {
    "duration": 9,
    "start_time": "2023-10-14T23:32:11.784Z"
   },
   {
    "duration": 64,
    "start_time": "2023-10-14T23:32:11.794Z"
   },
   {
    "duration": 1537,
    "start_time": "2023-10-14T23:32:11.861Z"
   },
   {
    "duration": 2155,
    "start_time": "2023-10-14T23:32:13.399Z"
   },
   {
    "duration": 24820,
    "start_time": "2023-10-14T23:32:15.556Z"
   },
   {
    "duration": 3619,
    "start_time": "2023-10-14T23:32:40.378Z"
   },
   {
    "duration": 34846,
    "start_time": "2023-10-14T23:32:44.000Z"
   },
   {
    "duration": 8,
    "start_time": "2023-10-14T23:33:18.848Z"
   },
   {
    "duration": 120,
    "start_time": "2023-10-14T23:33:18.858Z"
   },
   {
    "duration": 22,
    "start_time": "2023-10-14T23:33:18.980Z"
   },
   {
    "duration": 13,
    "start_time": "2023-10-14T23:33:19.004Z"
   },
   {
    "duration": 59,
    "start_time": "2023-10-14T23:33:19.019Z"
   },
   {
    "duration": 126,
    "start_time": "2023-10-14T23:33:19.080Z"
   },
   {
    "duration": 0,
    "start_time": "2023-10-14T23:33:19.208Z"
   },
   {
    "duration": 0,
    "start_time": "2023-10-14T23:33:19.210Z"
   },
   {
    "duration": 0,
    "start_time": "2023-10-14T23:33:19.211Z"
   },
   {
    "duration": 0,
    "start_time": "2023-10-14T23:33:19.212Z"
   },
   {
    "duration": 0,
    "start_time": "2023-10-14T23:33:19.214Z"
   },
   {
    "duration": 0,
    "start_time": "2023-10-14T23:33:19.215Z"
   },
   {
    "duration": 0,
    "start_time": "2023-10-14T23:33:19.216Z"
   },
   {
    "duration": 0,
    "start_time": "2023-10-14T23:33:19.217Z"
   },
   {
    "duration": 0,
    "start_time": "2023-10-14T23:33:19.218Z"
   },
   {
    "duration": 0,
    "start_time": "2023-10-14T23:33:19.219Z"
   },
   {
    "duration": 0,
    "start_time": "2023-10-14T23:33:19.220Z"
   },
   {
    "duration": 0,
    "start_time": "2023-10-14T23:33:19.221Z"
   },
   {
    "duration": 0,
    "start_time": "2023-10-14T23:33:19.222Z"
   },
   {
    "duration": 0,
    "start_time": "2023-10-14T23:33:19.244Z"
   },
   {
    "duration": 0,
    "start_time": "2023-10-14T23:33:19.245Z"
   },
   {
    "duration": 0,
    "start_time": "2023-10-14T23:33:19.246Z"
   },
   {
    "duration": 0,
    "start_time": "2023-10-14T23:33:19.248Z"
   },
   {
    "duration": 0,
    "start_time": "2023-10-14T23:33:19.251Z"
   },
   {
    "duration": 0,
    "start_time": "2023-10-14T23:33:19.253Z"
   },
   {
    "duration": 0,
    "start_time": "2023-10-14T23:33:19.254Z"
   },
   {
    "duration": 0,
    "start_time": "2023-10-14T23:33:19.255Z"
   },
   {
    "duration": 0,
    "start_time": "2023-10-14T23:33:19.256Z"
   },
   {
    "duration": 0,
    "start_time": "2023-10-14T23:33:19.258Z"
   },
   {
    "duration": 0,
    "start_time": "2023-10-14T23:33:19.259Z"
   },
   {
    "duration": 0,
    "start_time": "2023-10-14T23:33:19.260Z"
   },
   {
    "duration": 0,
    "start_time": "2023-10-14T23:33:19.261Z"
   },
   {
    "duration": 0,
    "start_time": "2023-10-14T23:33:19.262Z"
   },
   {
    "duration": 26,
    "start_time": "2023-10-14T23:34:29.275Z"
   },
   {
    "duration": 12,
    "start_time": "2023-10-14T23:34:39.954Z"
   },
   {
    "duration": 64,
    "start_time": "2023-10-14T23:34:53.393Z"
   },
   {
    "duration": 14,
    "start_time": "2023-10-14T23:35:07.554Z"
   },
   {
    "duration": 1470,
    "start_time": "2023-10-14T23:57:06.748Z"
   },
   {
    "duration": 907,
    "start_time": "2023-10-14T23:57:08.220Z"
   },
   {
    "duration": 44,
    "start_time": "2023-10-14T23:57:09.129Z"
   },
   {
    "duration": 5,
    "start_time": "2023-10-14T23:57:09.175Z"
   },
   {
    "duration": 27,
    "start_time": "2023-10-14T23:57:09.182Z"
   },
   {
    "duration": 37,
    "start_time": "2023-10-14T23:57:09.211Z"
   },
   {
    "duration": 13,
    "start_time": "2023-10-14T23:57:09.250Z"
   },
   {
    "duration": 38,
    "start_time": "2023-10-14T23:57:09.265Z"
   },
   {
    "duration": 14,
    "start_time": "2023-10-14T23:57:09.305Z"
   },
   {
    "duration": 49,
    "start_time": "2023-10-14T23:57:09.321Z"
   },
   {
    "duration": 138,
    "start_time": "2023-10-14T23:57:09.372Z"
   },
   {
    "duration": 13,
    "start_time": "2023-10-14T23:57:09.511Z"
   },
   {
    "duration": 94,
    "start_time": "2023-10-14T23:57:09.526Z"
   },
   {
    "duration": 40,
    "start_time": "2023-10-14T23:57:09.624Z"
   },
   {
    "duration": 9124,
    "start_time": "2023-10-14T23:57:09.666Z"
   },
   {
    "duration": 8995,
    "start_time": "2023-10-14T23:57:18.792Z"
   },
   {
    "duration": 609,
    "start_time": "2023-10-14T23:57:27.789Z"
   },
   {
    "duration": 8,
    "start_time": "2023-10-14T23:57:28.400Z"
   },
   {
    "duration": 1545,
    "start_time": "2023-10-14T23:57:28.410Z"
   },
   {
    "duration": 37,
    "start_time": "2023-10-14T23:57:29.957Z"
   },
   {
    "duration": 1349,
    "start_time": "2023-10-14T23:57:29.996Z"
   },
   {
    "duration": 12,
    "start_time": "2023-10-14T23:57:31.347Z"
   },
   {
    "duration": 98,
    "start_time": "2023-10-14T23:57:31.360Z"
   },
   {
    "duration": 1504,
    "start_time": "2023-10-14T23:57:31.462Z"
   },
   {
    "duration": 5,
    "start_time": "2023-10-14T23:57:32.968Z"
   },
   {
    "duration": 17,
    "start_time": "2023-10-14T23:57:32.974Z"
   },
   {
    "duration": 2359,
    "start_time": "2023-10-14T23:57:32.993Z"
   },
   {
    "duration": 24165,
    "start_time": "2023-10-14T23:57:35.357Z"
   },
   {
    "duration": 3606,
    "start_time": "2023-10-14T23:57:59.523Z"
   },
   {
    "duration": 33033,
    "start_time": "2023-10-14T23:58:03.131Z"
   },
   {
    "duration": 189,
    "start_time": "2023-10-14T23:58:36.168Z"
   },
   {
    "duration": 84,
    "start_time": "2023-10-14T23:58:36.359Z"
   },
   {
    "duration": 101,
    "start_time": "2023-10-14T23:58:36.448Z"
   },
   {
    "duration": 93,
    "start_time": "2023-10-14T23:58:36.556Z"
   },
   {
    "duration": 18,
    "start_time": "2023-10-14T23:58:36.650Z"
   },
   {
    "duration": 1471,
    "start_time": "2023-10-15T00:05:20.235Z"
   },
   {
    "duration": 882,
    "start_time": "2023-10-15T00:05:21.708Z"
   },
   {
    "duration": 40,
    "start_time": "2023-10-15T00:05:22.591Z"
   },
   {
    "duration": 15,
    "start_time": "2023-10-15T00:05:22.632Z"
   },
   {
    "duration": 23,
    "start_time": "2023-10-15T00:05:22.650Z"
   },
   {
    "duration": 52,
    "start_time": "2023-10-15T00:05:22.675Z"
   },
   {
    "duration": 41,
    "start_time": "2023-10-15T00:05:22.728Z"
   },
   {
    "duration": 61,
    "start_time": "2023-10-15T00:05:22.770Z"
   },
   {
    "duration": 88,
    "start_time": "2023-10-15T00:05:22.833Z"
   },
   {
    "duration": 101,
    "start_time": "2023-10-15T00:05:22.923Z"
   },
   {
    "duration": 129,
    "start_time": "2023-10-15T00:05:23.026Z"
   },
   {
    "duration": 13,
    "start_time": "2023-10-15T00:05:23.156Z"
   },
   {
    "duration": 33,
    "start_time": "2023-10-15T00:05:23.171Z"
   },
   {
    "duration": 34,
    "start_time": "2023-10-15T00:05:23.208Z"
   },
   {
    "duration": 8644,
    "start_time": "2023-10-15T00:05:23.245Z"
   },
   {
    "duration": 9031,
    "start_time": "2023-10-15T00:05:31.891Z"
   },
   {
    "duration": 521,
    "start_time": "2023-10-15T00:05:40.924Z"
   },
   {
    "duration": 10,
    "start_time": "2023-10-15T00:05:41.447Z"
   },
   {
    "duration": 1490,
    "start_time": "2023-10-15T00:05:41.459Z"
   },
   {
    "duration": 49,
    "start_time": "2023-10-15T00:05:42.951Z"
   },
   {
    "duration": 1363,
    "start_time": "2023-10-15T00:05:43.002Z"
   },
   {
    "duration": 9,
    "start_time": "2023-10-15T00:05:44.367Z"
   },
   {
    "duration": 80,
    "start_time": "2023-10-15T00:05:44.377Z"
   },
   {
    "duration": 1478,
    "start_time": "2023-10-15T00:05:44.460Z"
   },
   {
    "duration": 7,
    "start_time": "2023-10-15T00:05:45.940Z"
   },
   {
    "duration": 14,
    "start_time": "2023-10-15T00:05:45.949Z"
   },
   {
    "duration": 1607,
    "start_time": "2023-10-15T00:05:45.965Z"
   },
   {
    "duration": 23853,
    "start_time": "2023-10-15T00:05:47.653Z"
   },
   {
    "duration": 3593,
    "start_time": "2023-10-15T00:06:11.507Z"
   },
   {
    "duration": 32661,
    "start_time": "2023-10-15T00:06:15.102Z"
   },
   {
    "duration": 93,
    "start_time": "2023-10-15T00:06:47.851Z"
   },
   {
    "duration": 20,
    "start_time": "2023-10-15T00:06:47.947Z"
   },
   {
    "duration": 91,
    "start_time": "2023-10-15T00:06:47.970Z"
   },
   {
    "duration": 27,
    "start_time": "2023-10-15T00:06:48.144Z"
   },
   {
    "duration": 100,
    "start_time": "2023-10-15T00:06:48.247Z"
   },
   {
    "duration": 1548,
    "start_time": "2023-10-15T17:38:44.305Z"
   },
   {
    "duration": 3517,
    "start_time": "2023-10-15T17:39:39.958Z"
   },
   {
    "duration": 40,
    "start_time": "2023-10-15T17:39:43.478Z"
   },
   {
    "duration": 7,
    "start_time": "2023-10-15T17:39:43.519Z"
   },
   {
    "duration": 4,
    "start_time": "2023-10-15T17:40:07.886Z"
   },
   {
    "duration": 17,
    "start_time": "2023-10-15T17:40:10.818Z"
   },
   {
    "duration": 11,
    "start_time": "2023-10-15T17:40:11.110Z"
   },
   {
    "duration": 17,
    "start_time": "2023-10-15T17:40:12.821Z"
   },
   {
    "duration": 5,
    "start_time": "2023-10-15T17:40:13.506Z"
   },
   {
    "duration": 4,
    "start_time": "2023-10-15T17:40:18.048Z"
   },
   {
    "duration": 3,
    "start_time": "2023-10-15T17:41:26.421Z"
   },
   {
    "duration": 88,
    "start_time": "2023-10-15T17:41:39.077Z"
   },
   {
    "duration": 14,
    "start_time": "2023-10-15T17:41:39.403Z"
   },
   {
    "duration": 26,
    "start_time": "2023-10-15T17:41:48.750Z"
   },
   {
    "duration": 12,
    "start_time": "2023-10-15T17:41:48.987Z"
   },
   {
    "duration": 8529,
    "start_time": "2023-10-15T17:48:09.029Z"
   },
   {
    "duration": 8825,
    "start_time": "2023-10-15T17:48:17.561Z"
   },
   {
    "duration": 572,
    "start_time": "2023-10-15T17:48:26.387Z"
   },
   {
    "duration": 10,
    "start_time": "2023-10-15T17:48:26.961Z"
   },
   {
    "duration": 1649,
    "start_time": "2023-10-15T17:48:26.972Z"
   },
   {
    "duration": 39,
    "start_time": "2023-10-15T17:48:28.623Z"
   },
   {
    "duration": 1359,
    "start_time": "2023-10-15T17:48:28.664Z"
   },
   {
    "duration": 10,
    "start_time": "2023-10-15T17:48:30.024Z"
   },
   {
    "duration": 136,
    "start_time": "2023-10-15T17:48:30.043Z"
   },
   {
    "duration": 1463,
    "start_time": "2023-10-15T17:48:30.181Z"
   },
   {
    "duration": 8314,
    "start_time": "2023-10-15T17:48:38.763Z"
   },
   {
    "duration": 5,
    "start_time": "2023-10-15T17:51:30.685Z"
   },
   {
    "duration": 1831,
    "start_time": "2023-10-17T15:36:03.218Z"
   },
   {
    "duration": 3648,
    "start_time": "2023-10-17T15:36:05.056Z"
   },
   {
    "duration": 43,
    "start_time": "2023-10-17T15:36:08.705Z"
   },
   {
    "duration": 9,
    "start_time": "2023-10-17T15:36:08.751Z"
   },
   {
    "duration": 13,
    "start_time": "2023-10-17T15:36:08.763Z"
   },
   {
    "duration": 23,
    "start_time": "2023-10-17T15:36:08.778Z"
   },
   {
    "duration": 11,
    "start_time": "2023-10-17T15:36:08.803Z"
   },
   {
    "duration": 29,
    "start_time": "2023-10-17T15:36:08.816Z"
   },
   {
    "duration": 17,
    "start_time": "2023-10-17T15:36:08.847Z"
   },
   {
    "duration": 6,
    "start_time": "2023-10-17T15:36:08.866Z"
   },
   {
    "duration": 5,
    "start_time": "2023-10-17T15:36:08.874Z"
   },
   {
    "duration": 107,
    "start_time": "2023-10-17T15:36:08.880Z"
   },
   {
    "duration": 13,
    "start_time": "2023-10-17T15:36:08.989Z"
   },
   {
    "duration": 54,
    "start_time": "2023-10-17T15:36:09.006Z"
   },
   {
    "duration": 13,
    "start_time": "2023-10-17T15:36:09.062Z"
   },
   {
    "duration": 9093,
    "start_time": "2023-10-17T15:36:09.076Z"
   },
   {
    "duration": 8643,
    "start_time": "2023-10-17T15:36:18.170Z"
   },
   {
    "duration": 739,
    "start_time": "2023-10-17T15:36:26.814Z"
   },
   {
    "duration": 10,
    "start_time": "2023-10-17T15:36:27.554Z"
   },
   {
    "duration": 1389,
    "start_time": "2023-10-17T15:36:27.567Z"
   },
   {
    "duration": 38,
    "start_time": "2023-10-17T15:36:28.959Z"
   },
   {
    "duration": 1457,
    "start_time": "2023-10-17T15:36:28.999Z"
   },
   {
    "duration": 11,
    "start_time": "2023-10-17T15:36:30.457Z"
   },
   {
    "duration": 98,
    "start_time": "2023-10-17T15:36:30.470Z"
   },
   {
    "duration": 1377,
    "start_time": "2023-10-17T15:36:30.569Z"
   },
   {
    "duration": 6,
    "start_time": "2023-10-17T15:36:31.956Z"
   },
   {
    "duration": 211,
    "start_time": "2023-10-17T15:36:31.966Z"
   },
   {
    "duration": 2566,
    "start_time": "2023-10-17T15:36:32.180Z"
   },
   {
    "duration": 23607,
    "start_time": "2023-10-17T15:36:34.748Z"
   },
   {
    "duration": 3536,
    "start_time": "2023-10-17T15:36:58.358Z"
   },
   {
    "duration": 35383,
    "start_time": "2023-10-17T15:37:01.896Z"
   },
   {
    "duration": 164,
    "start_time": "2023-10-17T15:37:37.281Z"
   },
   {
    "duration": 17,
    "start_time": "2023-10-17T15:37:37.449Z"
   },
   {
    "duration": 179,
    "start_time": "2023-10-17T15:37:37.468Z"
   },
   {
    "duration": 110,
    "start_time": "2023-10-17T15:37:37.649Z"
   },
   {
    "duration": 12,
    "start_time": "2023-10-17T15:37:37.843Z"
   },
   {
    "duration": 124,
    "start_time": "2023-10-17T15:41:07.798Z"
   },
   {
    "duration": 1633,
    "start_time": "2023-10-17T15:41:20.744Z"
   },
   {
    "duration": 1015,
    "start_time": "2023-10-17T15:41:22.379Z"
   },
   {
    "duration": 55,
    "start_time": "2023-10-17T15:41:23.395Z"
   },
   {
    "duration": 9,
    "start_time": "2023-10-17T15:41:23.456Z"
   },
   {
    "duration": 10,
    "start_time": "2023-10-17T15:41:23.467Z"
   },
   {
    "duration": 33,
    "start_time": "2023-10-17T15:41:23.479Z"
   },
   {
    "duration": 11,
    "start_time": "2023-10-17T15:41:23.514Z"
   },
   {
    "duration": 38,
    "start_time": "2023-10-17T15:41:23.526Z"
   },
   {
    "duration": 43,
    "start_time": "2023-10-17T15:41:23.566Z"
   },
   {
    "duration": 19,
    "start_time": "2023-10-17T15:41:23.612Z"
   },
   {
    "duration": 9,
    "start_time": "2023-10-17T15:41:23.632Z"
   },
   {
    "duration": 117,
    "start_time": "2023-10-17T15:41:23.643Z"
   },
   {
    "duration": 15,
    "start_time": "2023-10-17T15:41:23.762Z"
   },
   {
    "duration": 35,
    "start_time": "2023-10-17T15:41:23.779Z"
   },
   {
    "duration": 30,
    "start_time": "2023-10-17T15:41:23.816Z"
   },
   {
    "duration": 9255,
    "start_time": "2023-10-17T15:41:23.857Z"
   },
   {
    "duration": 9458,
    "start_time": "2023-10-17T15:41:33.115Z"
   },
   {
    "duration": 647,
    "start_time": "2023-10-17T15:41:42.575Z"
   },
   {
    "duration": 21,
    "start_time": "2023-10-17T15:41:43.224Z"
   },
   {
    "duration": 1705,
    "start_time": "2023-10-17T15:41:43.254Z"
   },
   {
    "duration": 41,
    "start_time": "2023-10-17T15:41:44.961Z"
   },
   {
    "duration": 1565,
    "start_time": "2023-10-17T15:41:45.004Z"
   },
   {
    "duration": 12,
    "start_time": "2023-10-17T15:41:46.571Z"
   },
   {
    "duration": 72,
    "start_time": "2023-10-17T15:41:46.585Z"
   },
   {
    "duration": 1688,
    "start_time": "2023-10-17T15:41:46.659Z"
   },
   {
    "duration": 7,
    "start_time": "2023-10-17T15:41:48.349Z"
   },
   {
    "duration": 26,
    "start_time": "2023-10-17T15:41:48.358Z"
   },
   {
    "duration": 1974,
    "start_time": "2023-10-17T15:41:48.387Z"
   },
   {
    "duration": 224,
    "start_time": "2023-10-17T15:41:50.366Z"
   },
   {
    "duration": 0,
    "start_time": "2023-10-17T15:41:50.592Z"
   },
   {
    "duration": 0,
    "start_time": "2023-10-17T15:41:50.593Z"
   },
   {
    "duration": 0,
    "start_time": "2023-10-17T15:41:50.594Z"
   },
   {
    "duration": 0,
    "start_time": "2023-10-17T15:41:50.595Z"
   },
   {
    "duration": 0,
    "start_time": "2023-10-17T15:41:50.596Z"
   },
   {
    "duration": 0,
    "start_time": "2023-10-17T15:41:50.597Z"
   },
   {
    "duration": 0,
    "start_time": "2023-10-17T15:41:50.599Z"
   },
   {
    "duration": 0,
    "start_time": "2023-10-17T15:41:50.600Z"
   },
   {
    "duration": 0,
    "start_time": "2023-10-17T15:41:50.601Z"
   },
   {
    "duration": 0,
    "start_time": "2023-10-17T15:41:50.602Z"
   },
   {
    "duration": 0,
    "start_time": "2023-10-17T15:41:50.604Z"
   },
   {
    "duration": 0,
    "start_time": "2023-10-17T15:41:50.605Z"
   },
   {
    "duration": 0,
    "start_time": "2023-10-17T15:41:50.607Z"
   },
   {
    "duration": 21,
    "start_time": "2023-10-17T15:42:40.878Z"
   },
   {
    "duration": 23,
    "start_time": "2023-10-17T15:42:55.679Z"
   },
   {
    "duration": 1627,
    "start_time": "2023-10-17T15:43:55.986Z"
   },
   {
    "duration": 961,
    "start_time": "2023-10-17T15:43:57.615Z"
   },
   {
    "duration": 46,
    "start_time": "2023-10-17T15:43:58.578Z"
   },
   {
    "duration": 31,
    "start_time": "2023-10-17T15:43:58.626Z"
   },
   {
    "duration": 7,
    "start_time": "2023-10-17T15:43:58.661Z"
   },
   {
    "duration": 27,
    "start_time": "2023-10-17T15:43:58.670Z"
   },
   {
    "duration": 12,
    "start_time": "2023-10-17T15:43:58.699Z"
   },
   {
    "duration": 31,
    "start_time": "2023-10-17T15:43:58.713Z"
   },
   {
    "duration": 5,
    "start_time": "2023-10-17T15:43:58.746Z"
   },
   {
    "duration": 22,
    "start_time": "2023-10-17T15:43:58.762Z"
   },
   {
    "duration": 21,
    "start_time": "2023-10-17T15:43:58.786Z"
   },
   {
    "duration": 112,
    "start_time": "2023-10-17T15:43:58.809Z"
   },
   {
    "duration": 14,
    "start_time": "2023-10-17T15:43:58.923Z"
   },
   {
    "duration": 26,
    "start_time": "2023-10-17T15:43:58.946Z"
   },
   {
    "duration": 15,
    "start_time": "2023-10-17T15:43:58.974Z"
   },
   {
    "duration": 9101,
    "start_time": "2023-10-17T15:43:58.991Z"
   },
   {
    "duration": 8994,
    "start_time": "2023-10-17T15:44:08.094Z"
   },
   {
    "duration": 623,
    "start_time": "2023-10-17T15:44:17.090Z"
   },
   {
    "duration": 14,
    "start_time": "2023-10-17T15:44:17.715Z"
   },
   {
    "duration": 1689,
    "start_time": "2023-10-17T15:44:17.732Z"
   },
   {
    "duration": 53,
    "start_time": "2023-10-17T15:44:19.424Z"
   },
   {
    "duration": 1439,
    "start_time": "2023-10-17T15:44:19.479Z"
   },
   {
    "duration": 10,
    "start_time": "2023-10-17T15:44:20.920Z"
   },
   {
    "duration": 67,
    "start_time": "2023-10-17T15:44:20.931Z"
   },
   {
    "duration": 1541,
    "start_time": "2023-10-17T15:44:21.000Z"
   },
   {
    "duration": 13,
    "start_time": "2023-10-17T15:44:22.545Z"
   },
   {
    "duration": 25,
    "start_time": "2023-10-17T15:44:22.562Z"
   },
   {
    "duration": 2882,
    "start_time": "2023-10-17T15:44:22.590Z"
   },
   {
    "duration": 227,
    "start_time": "2023-10-17T15:44:25.548Z"
   },
   {
    "duration": 0,
    "start_time": "2023-10-17T15:44:25.777Z"
   },
   {
    "duration": 0,
    "start_time": "2023-10-17T15:44:25.778Z"
   },
   {
    "duration": 0,
    "start_time": "2023-10-17T15:44:25.779Z"
   },
   {
    "duration": 0,
    "start_time": "2023-10-17T15:44:25.780Z"
   },
   {
    "duration": 0,
    "start_time": "2023-10-17T15:44:25.782Z"
   },
   {
    "duration": 0,
    "start_time": "2023-10-17T15:44:25.783Z"
   },
   {
    "duration": 0,
    "start_time": "2023-10-17T15:44:25.784Z"
   },
   {
    "duration": 0,
    "start_time": "2023-10-17T15:44:25.786Z"
   },
   {
    "duration": 1,
    "start_time": "2023-10-17T15:44:25.786Z"
   },
   {
    "duration": 0,
    "start_time": "2023-10-17T15:44:25.788Z"
   },
   {
    "duration": 0,
    "start_time": "2023-10-17T15:44:25.789Z"
   },
   {
    "duration": 0,
    "start_time": "2023-10-17T15:44:25.790Z"
   },
   {
    "duration": 0,
    "start_time": "2023-10-17T15:44:25.791Z"
   },
   {
    "duration": 25848,
    "start_time": "2023-10-17T15:45:29.954Z"
   },
   {
    "duration": 25387,
    "start_time": "2023-10-17T15:46:51.175Z"
   },
   {
    "duration": 12,
    "start_time": "2023-10-17T15:48:13.408Z"
   },
   {
    "duration": 26910,
    "start_time": "2023-10-17T15:48:21.316Z"
   },
   {
    "duration": 38,
    "start_time": "2023-10-17T16:20:38.323Z"
   },
   {
    "duration": 22,
    "start_time": "2023-10-17T16:20:49.522Z"
   },
   {
    "duration": 2860,
    "start_time": "2023-10-17T16:20:54.488Z"
   },
   {
    "duration": 2991,
    "start_time": "2023-10-17T16:20:57.360Z"
   },
   {
    "duration": 1675,
    "start_time": "2023-10-17T16:21:30.093Z"
   },
   {
    "duration": 2665,
    "start_time": "2023-10-17T16:21:44.423Z"
   },
   {
    "duration": 13297,
    "start_time": "2023-10-17T16:27:27.466Z"
   },
   {
    "duration": 380,
    "start_time": "2023-10-17T16:28:43.666Z"
   },
   {
    "duration": 1830,
    "start_time": "2023-10-17T16:28:44.734Z"
   },
   {
    "duration": 414,
    "start_time": "2023-10-17T16:29:02.032Z"
   },
   {
    "duration": 2196,
    "start_time": "2023-10-17T16:29:02.448Z"
   },
   {
    "duration": 22,
    "start_time": "2023-10-17T16:29:42.362Z"
   },
   {
    "duration": 13837,
    "start_time": "2023-10-17T16:29:43.027Z"
   },
   {
    "duration": 2515,
    "start_time": "2023-10-17T16:30:04.335Z"
   },
   {
    "duration": 23153,
    "start_time": "2023-10-17T16:30:14.959Z"
   },
   {
    "duration": 531,
    "start_time": "2023-10-17T16:32:21.294Z"
   },
   {
    "duration": 46232,
    "start_time": "2023-10-17T16:33:08.696Z"
   },
   {
    "duration": 11,
    "start_time": "2023-10-17T16:34:16.060Z"
   },
   {
    "duration": 4,
    "start_time": "2023-10-17T16:34:21.659Z"
   },
   {
    "duration": 23,
    "start_time": "2023-10-17T16:34:54.700Z"
   },
   {
    "duration": 36,
    "start_time": "2023-10-17T16:36:47.353Z"
   },
   {
    "duration": 1487,
    "start_time": "2023-10-17T16:41:39.532Z"
   },
   {
    "duration": 908,
    "start_time": "2023-10-17T16:41:41.021Z"
   },
   {
    "duration": 53,
    "start_time": "2023-10-17T16:41:41.931Z"
   },
   {
    "duration": 9,
    "start_time": "2023-10-17T16:41:41.986Z"
   },
   {
    "duration": 19,
    "start_time": "2023-10-17T16:41:41.997Z"
   },
   {
    "duration": 33,
    "start_time": "2023-10-17T16:41:42.018Z"
   },
   {
    "duration": 15,
    "start_time": "2023-10-17T16:41:42.054Z"
   },
   {
    "duration": 26,
    "start_time": "2023-10-17T16:41:42.071Z"
   },
   {
    "duration": 5,
    "start_time": "2023-10-17T16:41:42.099Z"
   },
   {
    "duration": 8,
    "start_time": "2023-10-17T16:41:42.108Z"
   },
   {
    "duration": 8,
    "start_time": "2023-10-17T16:41:42.118Z"
   },
   {
    "duration": 143,
    "start_time": "2023-10-17T16:41:42.128Z"
   },
   {
    "duration": 14,
    "start_time": "2023-10-17T16:41:42.273Z"
   },
   {
    "duration": 38,
    "start_time": "2023-10-17T16:41:42.289Z"
   },
   {
    "duration": 32,
    "start_time": "2023-10-17T16:41:42.329Z"
   },
   {
    "duration": 8514,
    "start_time": "2023-10-17T16:41:42.362Z"
   },
   {
    "duration": 8738,
    "start_time": "2023-10-17T16:41:50.878Z"
   },
   {
    "duration": 567,
    "start_time": "2023-10-17T16:41:59.618Z"
   },
   {
    "duration": 9,
    "start_time": "2023-10-17T16:42:00.187Z"
   },
   {
    "duration": 1551,
    "start_time": "2023-10-17T16:42:00.198Z"
   },
   {
    "duration": 43,
    "start_time": "2023-10-17T16:42:01.750Z"
   },
   {
    "duration": 1502,
    "start_time": "2023-10-17T16:42:01.794Z"
   },
   {
    "duration": 12,
    "start_time": "2023-10-17T16:42:03.298Z"
   },
   {
    "duration": 87,
    "start_time": "2023-10-17T16:42:03.313Z"
   },
   {
    "duration": 1412,
    "start_time": "2023-10-17T16:42:03.402Z"
   },
   {
    "duration": 5,
    "start_time": "2023-10-17T16:42:04.816Z"
   },
   {
    "duration": 139,
    "start_time": "2023-10-17T16:42:04.823Z"
   },
   {
    "duration": 0,
    "start_time": "2023-10-17T16:42:04.964Z"
   },
   {
    "duration": 0,
    "start_time": "2023-10-17T16:42:04.965Z"
   },
   {
    "duration": 0,
    "start_time": "2023-10-17T16:42:04.966Z"
   },
   {
    "duration": 0,
    "start_time": "2023-10-17T16:42:04.968Z"
   },
   {
    "duration": 0,
    "start_time": "2023-10-17T16:42:04.969Z"
   },
   {
    "duration": 0,
    "start_time": "2023-10-17T16:42:04.970Z"
   },
   {
    "duration": 0,
    "start_time": "2023-10-17T16:42:04.971Z"
   },
   {
    "duration": 0,
    "start_time": "2023-10-17T16:42:04.972Z"
   },
   {
    "duration": 0,
    "start_time": "2023-10-17T16:42:04.974Z"
   },
   {
    "duration": 0,
    "start_time": "2023-10-17T16:42:04.975Z"
   },
   {
    "duration": 75,
    "start_time": "2023-10-17T16:42:44.111Z"
   },
   {
    "duration": 56,
    "start_time": "2023-10-17T16:42:46.655Z"
   },
   {
    "duration": 13,
    "start_time": "2023-10-17T16:42:47.652Z"
   },
   {
    "duration": 586,
    "start_time": "2023-10-17T16:42:59.861Z"
   },
   {
    "duration": 2290,
    "start_time": "2023-10-17T16:43:07.763Z"
   },
   {
    "duration": 11,
    "start_time": "2023-10-17T16:43:12.802Z"
   },
   {
    "duration": 26181,
    "start_time": "2023-10-17T16:43:17.629Z"
   },
   {
    "duration": 14,
    "start_time": "2023-10-17T16:43:43.813Z"
   },
   {
    "duration": 0,
    "start_time": "2023-10-17T16:43:43.828Z"
   },
   {
    "duration": 1552,
    "start_time": "2023-10-17T16:52:43.927Z"
   },
   {
    "duration": 908,
    "start_time": "2023-10-17T16:52:45.481Z"
   },
   {
    "duration": 40,
    "start_time": "2023-10-17T16:52:46.391Z"
   },
   {
    "duration": 24,
    "start_time": "2023-10-17T16:52:46.433Z"
   },
   {
    "duration": 7,
    "start_time": "2023-10-17T16:52:46.459Z"
   },
   {
    "duration": 26,
    "start_time": "2023-10-17T16:52:46.467Z"
   },
   {
    "duration": 16,
    "start_time": "2023-10-17T16:52:46.495Z"
   },
   {
    "duration": 50,
    "start_time": "2023-10-17T16:52:46.513Z"
   },
   {
    "duration": 5,
    "start_time": "2023-10-17T16:52:46.566Z"
   },
   {
    "duration": 38,
    "start_time": "2023-10-17T16:52:46.574Z"
   },
   {
    "duration": 22,
    "start_time": "2023-10-17T16:52:46.615Z"
   },
   {
    "duration": 123,
    "start_time": "2023-10-17T16:52:46.639Z"
   },
   {
    "duration": 14,
    "start_time": "2023-10-17T16:52:46.763Z"
   },
   {
    "duration": 24,
    "start_time": "2023-10-17T16:52:46.779Z"
   },
   {
    "duration": 16,
    "start_time": "2023-10-17T16:52:46.805Z"
   },
   {
    "duration": 9154,
    "start_time": "2023-10-17T16:52:46.822Z"
   },
   {
    "duration": 8673,
    "start_time": "2023-10-17T16:52:55.978Z"
   },
   {
    "duration": 528,
    "start_time": "2023-10-17T16:53:04.658Z"
   },
   {
    "duration": 9,
    "start_time": "2023-10-17T16:53:05.188Z"
   },
   {
    "duration": 1589,
    "start_time": "2023-10-17T16:53:05.198Z"
   },
   {
    "duration": 38,
    "start_time": "2023-10-17T16:53:06.789Z"
   },
   {
    "duration": 1405,
    "start_time": "2023-10-17T16:53:06.829Z"
   },
   {
    "duration": 17,
    "start_time": "2023-10-17T16:53:08.236Z"
   },
   {
    "duration": 44,
    "start_time": "2023-10-17T16:53:08.258Z"
   },
   {
    "duration": 1357,
    "start_time": "2023-10-17T16:53:08.303Z"
   },
   {
    "duration": 4,
    "start_time": "2023-10-17T16:53:09.663Z"
   },
   {
    "duration": 23,
    "start_time": "2023-10-17T16:53:09.669Z"
   },
   {
    "duration": 68,
    "start_time": "2023-10-17T16:53:09.695Z"
   },
   {
    "duration": 1687,
    "start_time": "2023-10-17T16:53:09.765Z"
   },
   {
    "duration": 26572,
    "start_time": "2023-10-17T16:53:11.454Z"
   },
   {
    "duration": 0,
    "start_time": "2023-10-17T16:53:38.028Z"
   },
   {
    "duration": 0,
    "start_time": "2023-10-17T16:53:38.029Z"
   },
   {
    "duration": 0,
    "start_time": "2023-10-17T16:53:38.030Z"
   },
   {
    "duration": 0,
    "start_time": "2023-10-17T16:53:38.031Z"
   },
   {
    "duration": 0,
    "start_time": "2023-10-17T16:53:38.046Z"
   },
   {
    "duration": 0,
    "start_time": "2023-10-17T16:53:38.047Z"
   },
   {
    "duration": 0,
    "start_time": "2023-10-17T16:53:38.048Z"
   },
   {
    "duration": 0,
    "start_time": "2023-10-17T16:53:38.049Z"
   },
   {
    "duration": 26163,
    "start_time": "2023-10-17T16:53:52.059Z"
   },
   {
    "duration": 55,
    "start_time": "2023-10-17T16:54:31.776Z"
   },
   {
    "duration": 160,
    "start_time": "2023-10-17T16:54:34.602Z"
   },
   {
    "duration": 10,
    "start_time": "2023-10-17T16:58:56.519Z"
   },
   {
    "duration": 15,
    "start_time": "2023-10-17T16:59:30.341Z"
   },
   {
    "duration": 10,
    "start_time": "2023-10-17T16:59:38.549Z"
   },
   {
    "duration": 2,
    "start_time": "2023-10-17T16:59:41.910Z"
   },
   {
    "duration": 2,
    "start_time": "2023-10-17T16:59:42.505Z"
   },
   {
    "duration": 15,
    "start_time": "2023-10-17T16:59:43.349Z"
   },
   {
    "duration": 1933,
    "start_time": "2023-10-17T17:00:34.176Z"
   },
   {
    "duration": 258,
    "start_time": "2023-10-17T17:00:46.600Z"
   },
   {
    "duration": 84,
    "start_time": "2023-10-17T17:02:26.559Z"
   },
   {
    "duration": 2703,
    "start_time": "2023-10-17T17:02:31.957Z"
   },
   {
    "duration": 101,
    "start_time": "2023-10-17T17:07:42.614Z"
   },
   {
    "duration": 11,
    "start_time": "2023-10-17T17:07:50.217Z"
   },
   {
    "duration": 13,
    "start_time": "2023-10-17T17:07:57.044Z"
   },
   {
    "duration": 17,
    "start_time": "2023-10-17T17:07:58.763Z"
   },
   {
    "duration": 5,
    "start_time": "2023-10-17T17:08:22.014Z"
   },
   {
    "duration": 6,
    "start_time": "2023-10-17T17:08:39.948Z"
   },
   {
    "duration": 4,
    "start_time": "2023-10-17T17:08:47.309Z"
   },
   {
    "duration": 17,
    "start_time": "2023-10-17T17:09:18.972Z"
   },
   {
    "duration": 17,
    "start_time": "2023-10-17T17:09:19.702Z"
   },
   {
    "duration": 3190,
    "start_time": "2023-10-17T17:09:35.561Z"
   },
   {
    "duration": 13271,
    "start_time": "2023-10-17T17:09:50.721Z"
   },
   {
    "duration": 36232,
    "start_time": "2023-10-17T17:10:37.524Z"
   },
   {
    "duration": 16,
    "start_time": "2023-10-17T17:13:43.159Z"
   },
   {
    "duration": 2,
    "start_time": "2023-10-17T17:14:17.631Z"
   },
   {
    "duration": 328,
    "start_time": "2023-10-17T17:14:59.830Z"
   },
   {
    "duration": 12,
    "start_time": "2023-10-17T17:15:14.165Z"
   },
   {
    "duration": 118,
    "start_time": "2023-10-17T17:22:15.367Z"
   },
   {
    "duration": 353,
    "start_time": "2023-10-17T17:22:42.673Z"
   },
   {
    "duration": 15,
    "start_time": "2023-10-17T17:22:46.163Z"
   },
   {
    "duration": 1795,
    "start_time": "2023-10-17T17:27:24.729Z"
   },
   {
    "duration": 1073,
    "start_time": "2023-10-17T17:27:26.527Z"
   },
   {
    "duration": 70,
    "start_time": "2023-10-17T17:27:27.601Z"
   },
   {
    "duration": 6,
    "start_time": "2023-10-17T17:27:27.680Z"
   },
   {
    "duration": 6,
    "start_time": "2023-10-17T17:27:27.687Z"
   },
   {
    "duration": 24,
    "start_time": "2023-10-17T17:27:27.694Z"
   },
   {
    "duration": 12,
    "start_time": "2023-10-17T17:27:27.721Z"
   },
   {
    "duration": 38,
    "start_time": "2023-10-17T17:27:27.735Z"
   },
   {
    "duration": 7,
    "start_time": "2023-10-17T17:27:27.780Z"
   },
   {
    "duration": 11,
    "start_time": "2023-10-17T17:27:27.790Z"
   },
   {
    "duration": 5,
    "start_time": "2023-10-17T17:27:27.802Z"
   },
   {
    "duration": 153,
    "start_time": "2023-10-17T17:27:27.809Z"
   },
   {
    "duration": 20,
    "start_time": "2023-10-17T17:27:27.968Z"
   },
   {
    "duration": 24,
    "start_time": "2023-10-17T17:27:27.991Z"
   },
   {
    "duration": 13,
    "start_time": "2023-10-17T17:27:28.017Z"
   },
   {
    "duration": 9778,
    "start_time": "2023-10-17T17:27:28.047Z"
   },
   {
    "duration": 9192,
    "start_time": "2023-10-17T17:27:37.828Z"
   },
   {
    "duration": 711,
    "start_time": "2023-10-17T17:27:47.022Z"
   },
   {
    "duration": 20,
    "start_time": "2023-10-17T17:27:47.735Z"
   },
   {
    "duration": 1836,
    "start_time": "2023-10-17T17:27:47.757Z"
   },
   {
    "duration": 77,
    "start_time": "2023-10-17T17:27:49.595Z"
   },
   {
    "duration": 1612,
    "start_time": "2023-10-17T17:27:49.677Z"
   },
   {
    "duration": 11,
    "start_time": "2023-10-17T17:27:51.292Z"
   },
   {
    "duration": 74,
    "start_time": "2023-10-17T17:27:51.305Z"
   },
   {
    "duration": 1555,
    "start_time": "2023-10-17T17:27:51.381Z"
   },
   {
    "duration": 17,
    "start_time": "2023-10-17T17:27:52.949Z"
   },
   {
    "duration": 18,
    "start_time": "2023-10-17T17:27:52.972Z"
   },
   {
    "duration": 4,
    "start_time": "2023-10-17T17:27:52.993Z"
   },
   {
    "duration": 32,
    "start_time": "2023-10-17T17:27:52.999Z"
   },
   {
    "duration": 25,
    "start_time": "2023-10-17T17:27:53.033Z"
   },
   {
    "duration": 4089,
    "start_time": "2023-10-17T17:27:53.062Z"
   },
   {
    "duration": 15278,
    "start_time": "2023-10-17T17:27:57.153Z"
   },
   {
    "duration": 388,
    "start_time": "2023-10-17T17:28:12.433Z"
   },
   {
    "duration": 10,
    "start_time": "2023-10-17T17:28:12.823Z"
   },
   {
    "duration": 1662,
    "start_time": "2023-10-17T17:32:19.619Z"
   },
   {
    "duration": 1014,
    "start_time": "2023-10-17T17:32:21.285Z"
   },
   {
    "duration": 68,
    "start_time": "2023-10-17T17:32:22.301Z"
   },
   {
    "duration": 13,
    "start_time": "2023-10-17T17:32:22.371Z"
   },
   {
    "duration": 37,
    "start_time": "2023-10-17T17:32:22.387Z"
   },
   {
    "duration": 57,
    "start_time": "2023-10-17T17:32:22.426Z"
   },
   {
    "duration": 13,
    "start_time": "2023-10-17T17:32:22.485Z"
   },
   {
    "duration": 72,
    "start_time": "2023-10-17T17:32:22.500Z"
   },
   {
    "duration": 10,
    "start_time": "2023-10-17T17:32:22.575Z"
   },
   {
    "duration": 26,
    "start_time": "2023-10-17T17:32:22.588Z"
   },
   {
    "duration": 48,
    "start_time": "2023-10-17T17:32:22.616Z"
   },
   {
    "duration": 133,
    "start_time": "2023-10-17T17:32:22.666Z"
   },
   {
    "duration": 14,
    "start_time": "2023-10-17T17:32:22.801Z"
   },
   {
    "duration": 81,
    "start_time": "2023-10-17T17:32:22.818Z"
   },
   {
    "duration": 15,
    "start_time": "2023-10-17T17:32:22.901Z"
   },
   {
    "duration": 9707,
    "start_time": "2023-10-17T17:32:22.918Z"
   },
   {
    "duration": 9186,
    "start_time": "2023-10-17T17:32:32.627Z"
   },
   {
    "duration": 707,
    "start_time": "2023-10-17T17:32:41.815Z"
   },
   {
    "duration": 21,
    "start_time": "2023-10-17T17:32:42.524Z"
   },
   {
    "duration": 1781,
    "start_time": "2023-10-17T17:32:42.550Z"
   },
   {
    "duration": 73,
    "start_time": "2023-10-17T17:32:44.333Z"
   },
   {
    "duration": 1389,
    "start_time": "2023-10-17T17:32:44.409Z"
   },
   {
    "duration": 9,
    "start_time": "2023-10-17T17:32:45.799Z"
   },
   {
    "duration": 103,
    "start_time": "2023-10-17T17:32:45.809Z"
   },
   {
    "duration": 1515,
    "start_time": "2023-10-17T17:32:45.914Z"
   },
   {
    "duration": 4,
    "start_time": "2023-10-17T17:32:47.430Z"
   },
   {
    "duration": 35,
    "start_time": "2023-10-17T17:32:47.446Z"
   },
   {
    "duration": 15,
    "start_time": "2023-10-17T17:32:47.483Z"
   },
   {
    "duration": 22,
    "start_time": "2023-10-17T17:32:47.500Z"
   },
   {
    "duration": 51,
    "start_time": "2023-10-17T17:32:47.524Z"
   },
   {
    "duration": 5503,
    "start_time": "2023-10-17T17:32:47.579Z"
   },
   {
    "duration": 15766,
    "start_time": "2023-10-17T17:32:53.086Z"
   },
   {
    "duration": 417,
    "start_time": "2023-10-17T17:33:08.859Z"
   },
   {
    "duration": 25,
    "start_time": "2023-10-17T17:33:09.283Z"
   }
  ],
  "kernelspec": {
   "display_name": "Python 3 (ipykernel)",
   "language": "python",
   "name": "python3"
  },
  "language_info": {
   "codemirror_mode": {
    "name": "ipython",
    "version": 3
   },
   "file_extension": ".py",
   "mimetype": "text/x-python",
   "name": "python",
   "nbconvert_exporter": "python",
   "pygments_lexer": "ipython3",
   "version": "3.9.5"
  },
  "toc": {
   "base_numbering": 1,
   "nav_menu": {},
   "number_sections": true,
   "sideBar": true,
   "skip_h1_title": true,
   "title_cell": "Содержание",
   "title_sidebar": "Contents",
   "toc_cell": true,
   "toc_position": {},
   "toc_section_display": true,
   "toc_window_display": false
  }
 },
 "nbformat": 4,
 "nbformat_minor": 2
}
